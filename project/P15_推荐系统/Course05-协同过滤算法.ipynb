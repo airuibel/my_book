{
 "cells": [
  {
   "cell_type": "markdown",
   "metadata": {},
   "source": [
    "- 没有明确需求的用户访问了我们的服务，且服务对用户构成了信息过载，系统通过一定的规则对物品进行排序，并将排在前面的物品展示给用户，这样的系统就是推荐系统\n",
    "\n",
    "\n",
    "### lambda架构\n",
    "- 高容错\n",
    "- 低延迟\n",
    "- 可扩展"
   ]
  },
  {
   "cell_type": "code",
   "execution_count": 1,
   "metadata": {},
   "outputs": [],
   "source": [
    "import pandas as pd\n",
    "import numpy as np\n",
    "users = [\"User1\", \"User2\", \"User3\", \"User4\", \"User5\"]\n",
    "items = [\"Item A\", \"Item B\", \"Item C\", \"Item D\", \"Item E\"]\n",
    "# 用户购买记录数据集\n",
    "datasets = [\n",
    "    [1,0,1,1,0],\n",
    "    [1,0,0,1,1],\n",
    "    [1,0,1,0,0],\n",
    "    [0,1,0,1,1],\n",
    "    [1,1,1,0,1],\n",
    "]"
   ]
  },
  {
   "cell_type": "code",
   "execution_count": 2,
   "metadata": {},
   "outputs": [
    {
     "data": {
      "text/html": [
       "<div>\n",
       "<style scoped>\n",
       "    .dataframe tbody tr th:only-of-type {\n",
       "        vertical-align: middle;\n",
       "    }\n",
       "\n",
       "    .dataframe tbody tr th {\n",
       "        vertical-align: top;\n",
       "    }\n",
       "\n",
       "    .dataframe thead th {\n",
       "        text-align: right;\n",
       "    }\n",
       "</style>\n",
       "<table border=\"1\" class=\"dataframe\">\n",
       "  <thead>\n",
       "    <tr style=\"text-align: right;\">\n",
       "      <th></th>\n",
       "      <th>Item A</th>\n",
       "      <th>Item B</th>\n",
       "      <th>Item C</th>\n",
       "      <th>Item D</th>\n",
       "      <th>Item E</th>\n",
       "    </tr>\n",
       "  </thead>\n",
       "  <tbody>\n",
       "    <tr>\n",
       "      <th>User1</th>\n",
       "      <td>1</td>\n",
       "      <td>0</td>\n",
       "      <td>1</td>\n",
       "      <td>1</td>\n",
       "      <td>0</td>\n",
       "    </tr>\n",
       "    <tr>\n",
       "      <th>User2</th>\n",
       "      <td>1</td>\n",
       "      <td>0</td>\n",
       "      <td>0</td>\n",
       "      <td>1</td>\n",
       "      <td>1</td>\n",
       "    </tr>\n",
       "    <tr>\n",
       "      <th>User3</th>\n",
       "      <td>1</td>\n",
       "      <td>0</td>\n",
       "      <td>1</td>\n",
       "      <td>0</td>\n",
       "      <td>0</td>\n",
       "    </tr>\n",
       "    <tr>\n",
       "      <th>User4</th>\n",
       "      <td>0</td>\n",
       "      <td>1</td>\n",
       "      <td>0</td>\n",
       "      <td>1</td>\n",
       "      <td>1</td>\n",
       "    </tr>\n",
       "    <tr>\n",
       "      <th>User5</th>\n",
       "      <td>1</td>\n",
       "      <td>1</td>\n",
       "      <td>1</td>\n",
       "      <td>0</td>\n",
       "      <td>1</td>\n",
       "    </tr>\n",
       "  </tbody>\n",
       "</table>\n",
       "</div>"
      ],
      "text/plain": [
       "       Item A  Item B  Item C  Item D  Item E\n",
       "User1       1       0       1       1       0\n",
       "User2       1       0       0       1       1\n",
       "User3       1       0       1       0       0\n",
       "User4       0       1       0       1       1\n",
       "User5       1       1       1       0       1"
      ]
     },
     "execution_count": 2,
     "metadata": {},
     "output_type": "execute_result"
    }
   ],
   "source": [
    "df = pd.DataFrame(data=datasets,index=users,columns=items)\n",
    "df"
   ]
  },
  {
   "cell_type": "markdown",
   "metadata": {},
   "source": [
    "## 基于用户的协同过滤推荐\n",
    "\n",
    "- “跟你喜好相似的人喜欢的东西你也很有可能喜欢” ：基于用户的协同过滤推荐（User-based CF）"
   ]
  },
  {
   "cell_type": "code",
   "execution_count": 32,
   "metadata": {},
   "outputs": [
    {
     "name": "stdout",
     "output_type": "stream",
     "text": [
      "用户之间的两两相似度：\n",
      "        User1   User2   User3   User4   User5\n",
      "User1  1.0000  0.1667  0.6667 -0.6667 -0.4082\n",
      "User2  0.1667  1.0000 -0.1667  0.1667 -0.4082\n",
      "User3  0.6667 -0.1667  1.0000 -1.0000  0.4082\n",
      "User4 -0.6667  0.1667 -1.0000  1.0000 -0.4082\n",
      "User5 -0.4082 -0.4082  0.4082 -0.4082  1.0000\n"
     ]
    }
   ],
   "source": [
    "# 方法一采用皮尔逊相关系数计算\n",
    "\n",
    "print(\"用户之间的两两相似度：\")\n",
    "# 直接计算皮尔逊相关系数\n",
    "# 默认是按列进行计算，因此如果计算用户间的相似度，当前需要进行转置\n",
    "user_similar = df.T.corr()\n",
    "print(user_similar.round(4))\n"
   ]
  },
  {
   "cell_type": "code",
   "execution_count": 77,
   "metadata": {},
   "outputs": [
    {
     "name": "stdout",
     "output_type": "stream",
     "text": [
      "0.2\n"
     ]
    },
    {
     "name": "stderr",
     "output_type": "stream",
     "text": [
      "C:\\Users\\Administrator\\Anaconda3\\lib\\site-packages\\sklearn\\metrics\\_classification.py:660: FutureWarning: jaccard_similarity_score has been deprecated and replaced with jaccard_score. It will be removed in version 0.23. This implementation has surprising behavior for binary and multiclass classification tasks.\n",
      "  FutureWarning)\n"
     ]
    }
   ],
   "source": [
    "# 方法二杰卡德相似系数\n",
    "from sklearn.metrics import jaccard_similarity_score\n",
    "# 直接计算某两项的杰卡德相似系数\n",
    "# 计算Item A 和Item B的相似度\n",
    "print(jaccard_similarity_score(df[\"Item A\"], df[\"Item B\"]))"
   ]
  },
  {
   "cell_type": "code",
   "execution_count": 36,
   "metadata": {},
   "outputs": [
    {
     "name": "stdout",
     "output_type": "stream",
     "text": [
      "用户之间的两两相似度：\n",
      "       User1  User2  User3  User4  User5\n",
      "User1    1.0    0.6    0.8    0.2    0.4\n",
      "User2    0.6    1.0    0.4    0.6    0.4\n",
      "User3    0.8    0.4    1.0    0.0    0.6\n",
      "User4    0.2    0.6    0.0    1.0    0.4\n",
      "User5    0.4    0.4    0.6    0.4    1.0\n"
     ]
    }
   ],
   "source": [
    "# 方法二\n",
    "\n",
    "from sklearn.metrics.pairwise import pairwise_distances\n",
    "# 计算用户间相似度\n",
    "user_similar = 1 - pairwise_distances(df, metric=\"hamming\")\n",
    "user_similar = pd.DataFrame(user_similar, columns=users, index=users)\n",
    "print(\"用户之间的两两相似度：\")\n",
    "print(user_similar)"
   ]
  },
  {
   "cell_type": "code",
   "execution_count": 37,
   "metadata": {},
   "outputs": [
    {
     "name": "stdout",
     "output_type": "stream",
     "text": [
      "Top2相似用户:\n",
      "{'User1': ['User3', 'User2'],\n",
      " 'User2': ['User4', 'User1'],\n",
      " 'User3': ['User1', 'User5'],\n",
      " 'User4': ['User2', 'User5'],\n",
      " 'User5': ['User3', 'User4']}\n"
     ]
    }
   ],
   "source": [
    "from pprint import pprint\n",
    "# 筛选TopN的结果\n",
    "topN_users = {}\n",
    "# 遍历每一行数据\n",
    "for i in user_similar.index:\n",
    "    # 取出每一列数据，并删除自身，然后排序数据\n",
    "    _df = user_similar.loc[i].drop([i])\n",
    "    # print(_df)\n",
    "    #sort_values 排序 按照相似度降序排列\n",
    "    _df_sorted = _df.sort_values(ascending=False)\n",
    "    # print(_df_sorted)\n",
    "     # 从排序之后的结果中切片 取出前两条（相似度最高的两个）\n",
    "    top2 = list(_df_sorted.index[:2])\n",
    "    # print(top2)\n",
    "    topN_users[i]=top2\n",
    "print(\"Top2相似用户:\")\n",
    "pprint(topN_users)\n"
   ]
  },
  {
   "cell_type": "code",
   "execution_count": 38,
   "metadata": {},
   "outputs": [
    {
     "name": "stdout",
     "output_type": "stream",
     "text": [
      "最终推荐结果\n",
      "{'User1': {'Item E'},\n",
      " 'User2': {'Item C', 'Item B'},\n",
      " 'User3': {'Item D', 'Item B', 'Item E'},\n",
      " 'User4': {'Item C', 'Item A'},\n",
      " 'User5': {'Item D'}}\n"
     ]
    }
   ],
   "source": [
    "# 计算推荐的结果\n",
    "rs_results = {}\n",
    "# 遍历所有最相似的用户\n",
    "for user,sim_users in topN_users.items():\n",
    "    rs_result = set()\n",
    "    for sim_user in sim_users:\n",
    "        # 构建初始推荐结果\n",
    "        rs_result = rs_result.union(set(df.loc[sim_user].replace(0,np.nan).dropna().index))\n",
    "    # 过滤掉已经购买过的物品\n",
    "    rs_result -= set(df.loc[user].replace(0,np.nan).dropna().index)\n",
    "    rs_results[user]=rs_result\n",
    "    \n",
    "print(\"最终推荐结果\")\n",
    "pprint(rs_results)"
   ]
  },
  {
   "cell_type": "markdown",
   "metadata": {},
   "source": [
    "最终推荐结果\n",
    "{'User1': {'Item E'},\n",
    " 'User2': {'Item C', 'Item B'},\n",
    " 'User3': {'Item D', 'Item B', 'Item E'},\n",
    " 'User4': {'Item C', 'Item A'},\n",
    " 'User5': {'Item D'}}"
   ]
  },
  {
   "cell_type": "markdown",
   "metadata": {},
   "source": [
    "## 基于物品的协同过滤推荐\n",
    "\n",
    "- 跟你喜欢的东西相似的东西你也很有可能喜欢 ”：基于物品的协同过滤推荐（Item-based CF）"
   ]
  },
  {
   "cell_type": "code",
   "execution_count": 7,
   "metadata": {},
   "outputs": [],
   "source": [
    "import pandas as pd\n",
    "import numpy as np\n",
    "users = [\"User1\", \"User2\", \"User3\", \"User4\", \"User5\"]\n",
    "items = [\"Item A\", \"Item B\", \"Item C\", \"Item D\", \"Item E\"]\n",
    "# 用户购买记录数据集\n",
    "datasets = [\n",
    "    [1,0,1,1,0],\n",
    "    [1,0,0,1,1],\n",
    "    [1,0,1,0,0],\n",
    "    [0,1,0,1,1],\n",
    "    [1,1,1,0,1],\n",
    "]"
   ]
  },
  {
   "cell_type": "code",
   "execution_count": 8,
   "metadata": {},
   "outputs": [
    {
     "data": {
      "text/html": [
       "<div>\n",
       "<style scoped>\n",
       "    .dataframe tbody tr th:only-of-type {\n",
       "        vertical-align: middle;\n",
       "    }\n",
       "\n",
       "    .dataframe tbody tr th {\n",
       "        vertical-align: top;\n",
       "    }\n",
       "\n",
       "    .dataframe thead th {\n",
       "        text-align: right;\n",
       "    }\n",
       "</style>\n",
       "<table border=\"1\" class=\"dataframe\">\n",
       "  <thead>\n",
       "    <tr style=\"text-align: right;\">\n",
       "      <th></th>\n",
       "      <th>Item A</th>\n",
       "      <th>Item B</th>\n",
       "      <th>Item C</th>\n",
       "      <th>Item D</th>\n",
       "      <th>Item E</th>\n",
       "    </tr>\n",
       "  </thead>\n",
       "  <tbody>\n",
       "    <tr>\n",
       "      <th>User1</th>\n",
       "      <td>1</td>\n",
       "      <td>0</td>\n",
       "      <td>1</td>\n",
       "      <td>1</td>\n",
       "      <td>0</td>\n",
       "    </tr>\n",
       "    <tr>\n",
       "      <th>User2</th>\n",
       "      <td>1</td>\n",
       "      <td>0</td>\n",
       "      <td>0</td>\n",
       "      <td>1</td>\n",
       "      <td>1</td>\n",
       "    </tr>\n",
       "    <tr>\n",
       "      <th>User3</th>\n",
       "      <td>1</td>\n",
       "      <td>0</td>\n",
       "      <td>1</td>\n",
       "      <td>0</td>\n",
       "      <td>0</td>\n",
       "    </tr>\n",
       "    <tr>\n",
       "      <th>User4</th>\n",
       "      <td>0</td>\n",
       "      <td>1</td>\n",
       "      <td>0</td>\n",
       "      <td>1</td>\n",
       "      <td>1</td>\n",
       "    </tr>\n",
       "    <tr>\n",
       "      <th>User5</th>\n",
       "      <td>1</td>\n",
       "      <td>1</td>\n",
       "      <td>1</td>\n",
       "      <td>0</td>\n",
       "      <td>1</td>\n",
       "    </tr>\n",
       "  </tbody>\n",
       "</table>\n",
       "</div>"
      ],
      "text/plain": [
       "       Item A  Item B  Item C  Item D  Item E\n",
       "User1       1       0       1       1       0\n",
       "User2       1       0       0       1       1\n",
       "User3       1       0       1       0       0\n",
       "User4       0       1       0       1       1\n",
       "User5       1       1       1       0       1"
      ]
     },
     "execution_count": 8,
     "metadata": {},
     "output_type": "execute_result"
    }
   ],
   "source": [
    "df = pd.DataFrame(data=datasets,index=users,columns=items)\n",
    "df"
   ]
  },
  {
   "cell_type": "code",
   "execution_count": 26,
   "metadata": {},
   "outputs": [
    {
     "name": "stdout",
     "output_type": "stream",
     "text": [
      "物品之间的两两相似度：\n",
      "        Item A  Item B  Item C  Item D  Item E\n",
      "Item A  1.0000 -0.6124  0.6124 -0.4082 -0.4082\n",
      "Item B -0.6124  1.0000 -0.1667 -0.1667  0.6667\n",
      "Item C  0.6124 -0.1667  1.0000 -0.6667 -0.6667\n",
      "Item D -0.4082 -0.1667 -0.6667  1.0000  0.1667\n",
      "Item E -0.4082  0.6667 -0.6667  0.1667  1.0000\n"
     ]
    }
   ],
   "source": [
    "# 方法一\n",
    "print(\"物品之间的两两相似度：\")\n",
    "item_similar = df.corr()\n",
    "print(item_similar.round(4))"
   ]
  },
  {
   "cell_type": "code",
   "execution_count": 29,
   "metadata": {},
   "outputs": [
    {
     "name": "stdout",
     "output_type": "stream",
     "text": [
      "物品之间的两两相似度：\n",
      "        Item A  Item B  Item C  Item D  Item E\n",
      "Item A     1.0     0.2     0.8     0.4     0.4\n",
      "Item B     0.2     1.0     0.4     0.4     0.8\n",
      "Item C     0.8     0.4     1.0     0.2     0.2\n",
      "Item D     0.4     0.4     0.2     1.0     0.6\n",
      "Item E     0.4     0.8     0.2     0.6     1.0\n"
     ]
    }
   ],
   "source": [
    "# 方法二\n",
    "\n",
    "from sklearn.metrics.pairwise import pairwise_distances\n",
    "# 计算用户间相似度\n",
    "item_similar = 1 - pairwise_distances(df.T, metric=\"hamming\")\n",
    "item_similar = pd.DataFrame(item_similar, columns=items, index=items)\n",
    "print(\"物品之间的两两相似度：\")\n",
    "print(item_similar)"
   ]
  },
  {
   "cell_type": "code",
   "execution_count": 30,
   "metadata": {},
   "outputs": [
    {
     "name": "stdout",
     "output_type": "stream",
     "text": [
      "Top2相似物品\n",
      "{'Item A': ['Item C', 'Item E'], 'Item B': ['Item E', 'Item D'], 'Item C': ['Item A', 'Item B'], 'Item D': ['Item E', 'Item B'], 'Item E': ['Item B', 'Item D']}\n"
     ]
    }
   ],
   "source": [
    "# 找出相似度高的物品\n",
    "topN_items={}\n",
    "for i in item_similar.index:\n",
    "    _df = item_similar.loc[i].drop([i])\n",
    "    # print(_df)\n",
    "    # 安相似度降序排列\n",
    "    df_sorted = _df.sort_values(ascending=False)\n",
    "    #  截取前两个\n",
    "    top2 = list(df_sorted.index[:2])\n",
    "    topN_items[i] = top2\n",
    "    \n",
    "print('Top2相似物品')\n",
    "print(topN_items)"
   ]
  },
  {
   "cell_type": "code",
   "execution_count": 31,
   "metadata": {},
   "outputs": [
    {
     "name": "stdout",
     "output_type": "stream",
     "text": [
      "最终推荐的结果为\n",
      "{'User1': {'Item B', 'Item E'},\n",
      " 'User2': {'Item C', 'Item B'},\n",
      " 'User3': {'Item B', 'Item E'},\n",
      " 'User4': set(),\n",
      " 'User5': {'Item D'}}\n"
     ]
    }
   ],
   "source": [
    "# 根据相似度物品进行推荐\n",
    "rs_results = {}\n",
    "\n",
    "for user in df.index:\n",
    "    rs_result = set()\n",
    "    for item in df.loc[user].replace(0,np.nan).dropna().index:\n",
    "        # 根据每个物品找出最相似的TOP_N物品，构建初始推荐结果\n",
    "        rs_result = rs_result.union(set(topN_items[item]))\n",
    "    # 过滤掉用户已购买的物品\n",
    "    rs_result -= set(df.loc[user].replace(0,np.nan).dropna().index)\n",
    "    rs_results[user]=rs_result\n",
    "print(\"最终推荐的结果为\")\n",
    "pprint(rs_results)"
   ]
  },
  {
   "cell_type": "markdown",
   "metadata": {},
   "source": [
    "最终推荐的结果为\n",
    "{'User1': {'Item B', 'Item E'},\n",
    " 'User2': {'Item C', 'Item B'},\n",
    " 'User3': {'Item B', 'Item E'},\n",
    " 'User4': set(),\n",
    " 'User5': {'Item D'}}"
   ]
  },
  {
   "cell_type": "markdown",
   "metadata": {},
   "source": [
    "## 使用协同过滤推荐算法对用户进行评分预测"
   ]
  },
  {
   "cell_type": "code",
   "execution_count": 40,
   "metadata": {},
   "outputs": [],
   "source": [
    "users = [\"User1\", \"User2\", \"User3\", \"User4\", \"User5\"]\n",
    "items = [\"Item A\", \"Item B\", \"Item C\", \"Item D\", \"Item E\"]\n",
    "# 用户购买记录数据集\n",
    "datasets = [\n",
    "    [5,3,4,4,None],\n",
    "    [3,1,2,3,3],\n",
    "    [4,3,4,3,5],\n",
    "    [3,3,1,5,4],\n",
    "    [1,5,5,2,1],\n",
    "]"
   ]
  },
  {
   "cell_type": "code",
   "execution_count": 41,
   "metadata": {},
   "outputs": [
    {
     "name": "stdout",
     "output_type": "stream",
     "text": [
      "用户之间的两两相似度：\n",
      "        User1   User2   User3   User4   User5\n",
      "User1  1.0000  0.8528  0.7071  0.0000 -0.7921\n",
      "User2  0.8528  1.0000  0.4677  0.4900 -0.9001\n",
      "User3  0.7071  0.4677  1.0000 -0.1612 -0.4666\n",
      "User4  0.0000  0.4900 -0.1612  1.0000 -0.6415\n",
      "User5 -0.7921 -0.9001 -0.4666 -0.6415  1.0000\n",
      "物品之间的两两相似度：\n",
      "        Item A  Item B  Item C  Item D  Item E\n",
      "Item A  1.0000 -0.4767 -0.1231  0.5322  0.9695\n",
      "Item B -0.4767  1.0000  0.6455 -0.3101 -0.4781\n",
      "Item C -0.1231  0.6455  1.0000 -0.7206 -0.4276\n",
      "Item D  0.5322 -0.3101 -0.7206  1.0000  0.5817\n",
      "Item E  0.9695 -0.4781 -0.4276  0.5817  1.0000\n"
     ]
    }
   ],
   "source": [
    "# 使用皮尔逊相关系数计算来计算\n",
    "df = pd.DataFrame(datasets,\n",
    "                  columns=items,\n",
    "                  index=users)\n",
    "\n",
    "print(\"用户之间的两两相似度：\")\n",
    "# 直接计算皮尔逊相关系数\n",
    "# 默认是按列进行计算，因此如果计算用户间的相似度，当前需要进行转置\n",
    "user_similar = df.T.corr()\n",
    "print(user_similar.round(4))\n",
    "\n",
    "print(\"物品之间的两两相似度：\")\n",
    "item_similar = df.corr()\n",
    "print(item_similar.round(4))"
   ]
  }
 ],
 "metadata": {
  "kernelspec": {
   "display_name": "Python 3",
   "language": "python",
   "name": "python3"
  },
  "language_info": {
   "codemirror_mode": {
    "name": "ipython",
    "version": 3
   },
   "file_extension": ".py",
   "mimetype": "text/x-python",
   "name": "python",
   "nbconvert_exporter": "python",
   "pygments_lexer": "ipython3",
   "version": "3.6.0"
  }
 },
 "nbformat": 4,
 "nbformat_minor": 2
}
