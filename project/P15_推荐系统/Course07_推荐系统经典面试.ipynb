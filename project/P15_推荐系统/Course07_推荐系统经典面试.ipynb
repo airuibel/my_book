{
 "cells": [
  {
   "cell_type": "markdown",
   "metadata": {},
   "source": [
    "- 推荐系统知识要点\n",
    "\n",
    "[推荐系统的4个方面完全总结](https://blog.csdn.net/sinat_26811377/article/details/99296222)\n",
    "\n",
    "[推荐系统资料](http://www.semocean.com/)\n",
    "\n",
    "[一个完整推荐系统的设计实现-以百度关键词搜索推荐为例](https://blog.csdn.net/dustinsea/article/details/39347897)\n",
    "\n",
    "[推荐系统面试](https://www.jianshu.com/p/3a817b8ede24)"
   ]
  },
  {
   "cell_type": "markdown",
   "metadata": {},
   "source": [
    "## 电商推荐案例基本流程\n",
    "\n",
    "### 1.数据基本处理\n",
    "#### 根据业务对数据清洗与处理\n",
    "- 根据业务需求，对数据进行进本分析\n",
    "- 缺失值处理\n",
    "    * 默认值填充\n",
    "    * 统计指标填充\n",
    "    * 用算法预测填充\n",
    "- 异常值处理\n",
    "    * 根据业务需求删除\n",
    "    * 根据经验删除\n",
    "- 数据集拆分\n",
    "\n",
    "### 2.特征工程\n",
    "\n",
    "#### 特征预处理\n",
    "- 从数据中选取特征，用数据表示特征，raw_sample数据集中分类特征的OneHot编码处理\n",
    "\n",
    "#### 低维转高维\n",
    "- 将缺失值也作为单独的特征处理，热独编码方式处理数据\n",
    "\n",
    "### 3.建立模型\n",
    "- 电商推荐\n",
    "- 点击率预估\n",
    "\n",
    "#### 召回阶段\n",
    "\n",
    "- 基于协同过滤的算法海选，确定推荐结果候选集合\n",
    "   * Memory-Based CF 电商推荐，通过SparkML进行ALS模型训练，用户行为数据user_id item_id rating\n",
    "   * Model-Based CF 点击率预估CRT,Spark ML训练LR逻辑回归模型，保存CTR预估模型\n",
    "- 基于内容\n",
    "- 离线召回集数据缓存，将用户感兴趣的商品缓存起来(HDFS,Redis)保存，用于实时排序\n",
    "\n",
    "#### 排序阶段\n",
    "\n",
    "- 在推荐天花板的范围上，通过机器学习算法建模对范围进行排序，确定最终的推荐结果topN\n",
    "- CTR预估(点击率预估)，通过LR算法对用户的点击数据分析建模，估计用户的点击结果\n",
    "- 实时排序\n",
    "   - 根据需求对离线召回数据进行实时排序推荐\n",
    "   - 加载CTR预估模型，预测召回商品的点击率，并根据预估点击率进行排序\n",
    "- 排在前面的数据作为推荐结果进行推荐\n",
    "### 4.评估，策略调整\n",
    "#### 评分预测\n",
    "- 准确性\n",
    "    - RMSE （均方根误差）\n",
    "    - MAE (平均绝对误差)\n",
    "- topN\n",
    "    - 召回率 精准率 auc指标，roc曲线"
   ]
  },
  {
   "cell_type": "code",
   "execution_count": null,
   "metadata": {},
   "outputs": [],
   "source": []
  },
  {
   "cell_type": "code",
   "execution_count": null,
   "metadata": {},
   "outputs": [],
   "source": []
  },
  {
   "cell_type": "code",
   "execution_count": null,
   "metadata": {},
   "outputs": [],
   "source": []
  },
  {
   "cell_type": "code",
   "execution_count": null,
   "metadata": {},
   "outputs": [],
   "source": []
  },
  {
   "cell_type": "code",
   "execution_count": null,
   "metadata": {},
   "outputs": [],
   "source": []
  },
  {
   "cell_type": "code",
   "execution_count": null,
   "metadata": {},
   "outputs": [],
   "source": []
  },
  {
   "cell_type": "code",
   "execution_count": null,
   "metadata": {},
   "outputs": [],
   "source": []
  },
  {
   "cell_type": "code",
   "execution_count": null,
   "metadata": {},
   "outputs": [],
   "source": []
  },
  {
   "cell_type": "code",
   "execution_count": null,
   "metadata": {},
   "outputs": [],
   "source": []
  },
  {
   "cell_type": "code",
   "execution_count": 27,
   "metadata": {},
   "outputs": [
    {
     "name": "stdout",
     "output_type": "stream",
     "text": [
      "[[ 1 -1  0  1 -1 -1  0  1]\n",
      " [ 1 -1 -1 -1  0 -1 -1 -1]\n",
      " [-1  0  0  0  0 -1  0  0]\n",
      " [-1  0 -1  1 -1  0 -1 -1]\n",
      " [-1  0  0 -1 -1  0  1  0]\n",
      " [-1 -1  0 -1  0  0  1 -1]\n",
      " [ 0 -1 -1  1  0  1  0 -1]\n",
      " [ 0 -1  1 -1  0 -1  1  0]]\n",
      "[[3 1 2 3 1 1 2 3]\n",
      " [3 1 1 1 2 1 1 1]\n",
      " [1 2 2 2 2 1 2 2]\n",
      " [1 2 1 3 1 2 1 1]\n",
      " [1 2 2 1 1 2 3 2]\n",
      " [1 1 2 1 2 2 3 1]\n",
      " [2 1 1 3 2 3 2 1]\n",
      " [2 1 3 1 2 1 3 2]]\n"
     ]
    }
   ],
   "source": [
    " "
   ]
  },
  {
   "cell_type": "code",
   "execution_count": null,
   "metadata": {},
   "outputs": [],
   "source": []
  },
  {
   "cell_type": "code",
   "execution_count": null,
   "metadata": {},
   "outputs": [],
   "source": []
  },
  {
   "cell_type": "code",
   "execution_count": null,
   "metadata": {},
   "outputs": [],
   "source": []
  },
  {
   "cell_type": "code",
   "execution_count": null,
   "metadata": {},
   "outputs": [],
   "source": []
  }
 ],
 "metadata": {
  "kernelspec": {
   "display_name": "Python 3",
   "language": "python",
   "name": "python3"
  },
  "language_info": {
   "codemirror_mode": {
    "name": "ipython",
    "version": 3
   },
   "file_extension": ".py",
   "mimetype": "text/x-python",
   "name": "python",
   "nbconvert_exporter": "python",
   "pygments_lexer": "ipython3",
   "version": "3.6.0"
  }
 },
 "nbformat": 4,
 "nbformat_minor": 2
}
