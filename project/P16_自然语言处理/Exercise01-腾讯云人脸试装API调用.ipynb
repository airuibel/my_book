{
 "cells": [
  {
   "cell_type": "code",
   "execution_count": 31,
   "metadata": {},
   "outputs": [
    {
     "name": "stdout",
     "output_type": "stream",
     "text": [
      "{'code': 6100, 'message': '请求失败，参数错误:[action]', 'codeDesc': 'ActionNotFound'}\n"
     ]
    }
   ],
   "source": [
    "import urllib.request\n",
    "import urllib.parse\n",
    "import requests\n",
    "import json\n",
    "url =\"\"\"https://account.api.qcloud.com/v2/index.php?Action=DescribeProject\n",
    "&SecretId=AKIDdBNPI4Cv66uY1CHCvSo03iFbmlY9BzA9\n",
    "&Timestamp=1465055529\n",
    "&Nonce=59485\n",
    "&Signature=mysignature\"\"\"\n",
    "\n",
    "# urls = \"\"\"https://cvm.api.qcloud.com/v2/index.php?Action=DescribeZones\n",
    "# &Version=2017-03-12\n",
    "# &Region=ap-guangzhou\"\"\"\n",
    "\n",
    "response = requests.get(url)\n",
    "print(json.loads(response.text))"
   ]
  },
  {
   "cell_type": "code",
   "execution_count": null,
   "metadata": {},
   "outputs": [],
   "source": []
  },
  {
   "cell_type": "code",
   "execution_count": 8,
   "metadata": {},
   "outputs": [
    {
     "name": "stdout",
     "output_type": "stream",
     "text": [
      "[TencentCloudSDKException] code:InvalidProjectId.NotFound message:ProjectId `12`不存在 requestId:e6c8090f-a5d7-4cf8-984d-7dd6e9815133\n"
     ]
    }
   ],
   "source": [
    "from tencentcloud.common import credential\n",
    "from tencentcloud.common.profile.client_profile import ClientProfile\n",
    "from tencentcloud.common.profile.http_profile import HttpProfile\n",
    "from tencentcloud.common.exception.tencent_cloud_sdk_exception import TencentCloudSDKException \n",
    "from tencentcloud.cvm.v20170312 import cvm_client, models \n",
    "try: \n",
    "    cred = credential.Credential(\"AKIDdBNPI4Cv66uY1CHCvSo03iFbmlY9BzA9\", \"vfjnjU6Xnrxsb8UecOzOchaIoBMMApOt\") \n",
    "    httpProfile = HttpProfile()\n",
    "    httpProfile.endpoint = \"cvm.tencentcloudapi.com\"\n",
    "\n",
    "    clientProfile = ClientProfile()\n",
    "    clientProfile.httpProfile = httpProfile\n",
    "    client = cvm_client.CvmClient(cred, \"ap-beijing\", clientProfile) \n",
    "\n",
    "    req = models.AllocateHostsRequest()\n",
    "    params = '{\"Placement\":{\"Zone\":\"shunyi\",\"ProjectId\":12}}'\n",
    "    req.from_json_string(params)\n",
    "\n",
    "    resp = client.AllocateHosts(req) \n",
    "    print(resp.to_json_string()) \n",
    "\n",
    "except TencentCloudSDKException as err: \n",
    "    print(err)"
   ]
  },
  {
   "cell_type": "code",
   "execution_count": null,
   "metadata": {},
   "outputs": [],
   "source": [
    "# -*- coding: utf-8 -*-\n",
    "from tencentcloud.common import credential\n",
    "from tencentcloud.common.exception.tencent_cloud_sdk_exception import TencentCloudSDKException\n",
    "# 导入对应产品模块的 client models。\n",
    "from tencentcloud.cvm.v20170312 import cvm_client, models\n",
    "try:\n",
    "    # 实例化一个认证对象，入参需要传入腾讯云账户 secretId，secretKey\n",
    "    cred = credential.Credential(\"secretId\", \"secretKey\")\n",
    "\n",
    "    # 实例化要请求产品(以 CVM 为例)的 client 对象\n",
    "    client = cvm_client.CvmClient(cred, \"ap-shanghai\")\n",
    "\n",
    "    # 实例化一个请求对象\n",
    "    req = models.DescribeZonesRequest()\n",
    "\n",
    "    # 通过 client 对象调用想要访问的接口，需要传入请求对象\n",
    "    resp = client.DescribeZones(req)\n",
    "    # 输出 JSON 格式的字符串回包\n",
    "    print(resp.to_json_string())\n",
    "\n",
    "except TencentCloudSDKException as err:\n",
    "    print(err)"
   ]
  }
 ],
 "metadata": {
  "kernelspec": {
   "display_name": "Python (pytorch)",
   "language": "python",
   "name": "pytorch"
  },
  "language_info": {
   "codemirror_mode": {
    "name": "ipython",
    "version": 3
   },
   "file_extension": ".py",
   "mimetype": "text/x-python",
   "name": "python",
   "nbconvert_exporter": "python",
   "pygments_lexer": "ipython3",
   "version": "3.6.2"
  }
 },
 "nbformat": 4,
 "nbformat_minor": 2
}
