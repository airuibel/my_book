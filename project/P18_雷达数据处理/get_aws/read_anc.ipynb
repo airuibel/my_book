{
 "cells": [
  {
   "cell_type": "markdown",
   "metadata": {},
   "source": [
    "### 雷达文件比自动站文件快8个小时，比如自动站文件为20160720123000，则对应的雷达文件为20160720043000"
   ]
  },
  {
   "cell_type": "code",
   "execution_count": 2,
   "metadata": {},
   "outputs": [],
   "source": [
    "import numpy as np\n",
    "import pandas as pd\n",
    "import matplotlib.pyplot as plt\n",
    "import xarray as xr\n",
    "import datetime\n",
    "import gzip\n",
    "import os\n",
    "import warnings\n",
    "\n",
    "warnings.filterwarnings('ignore')\n"
   ]
  },
  {
   "cell_type": "code",
   "execution_count": 22,
   "metadata": {},
   "outputs": [],
   "source": [
    "# # 统计文件数量 自动站\n",
    "# data_path = r\"\\\\192.168.1.240\\data2\\AWS\\AWS\\ALL_M5M9\"\n",
    "# file_list = os.listdir(data_path)\n",
    "# day_dict = {}\n",
    "\n",
    "# for idx in range(len(file_list)):\n",
    "#     if file_list[idx]:\n",
    "# #         _day = file_list[idx][:8]\n",
    "#         _day = file_list[idx][6:14]\n",
    "#         if _day not in day_dict.keys():\n",
    "#             day_dict[_day] = 0\n",
    "#         else:\n",
    "#             day_dict[_day] +=1\n",
    "# day_list_all = list(day_dict.keys())"
   ]
  },
  {
   "cell_type": "code",
   "execution_count": 23,
   "metadata": {},
   "outputs": [],
   "source": [
    "# # 统计文件数量 雷达\n",
    "# data_path = r\"\\\\192.168.1.240\\data2\\BJANC_RENAME\"\n",
    "# # data_path = r\"\\\\192.168.1.240\\data2\\AWS\\AWS\\ALL_M5M9\"\n",
    "# file_list = os.listdir(data_path)\n",
    "# day_dict = {}\n",
    "\n",
    "# for idx in range(len(file_list)):\n",
    "#     if file_list[idx]:\n",
    "#         _day = file_list[idx][:8]\n",
    "#         if _day not in day_dict.keys():\n",
    "#             day_dict[_day] = 0\n",
    "#         else:\n",
    "#             day_dict[_day] +=1\n",
    "# print(day_dict)"
   ]
  },
  {
   "cell_type": "code",
   "execution_count": 24,
   "metadata": {},
   "outputs": [],
   "source": [
    "# 对应关系\n",
    "# day_dict_all = {}\n",
    "# for k in day_list_all:\n",
    "#     try:\n",
    "#         day_dict_all[k] = day_dict[k]\n",
    "#     except:\n",
    "#         day_dict_all[k] = 0\n",
    "# print(day_dict_all)"
   ]
  },
  {
   "cell_type": "code",
   "execution_count": 35,
   "metadata": {},
   "outputs": [
    {
     "data": {
      "text/plain": [
       "<matplotlib.axes._subplots.AxesSubplot at 0x1a19e129eb8>"
      ]
     },
     "execution_count": 35,
     "metadata": {},
     "output_type": "execute_result"
    },
    {
     "data": {
      "image/png": "[encoded data removed]",
      "text/plain": [
       "<Figure size 432x288 with 1 Axes>"
      ]
     },
     "metadata": {
      "needs_background": "light"
     },
     "output_type": "display_data"
    }
   ],
   "source": [
    "# -*- coding: utf-8 -*-\n",
    "import pandas as pd\n",
    "from pylab import *\n",
    "mpl.rcParams['font.sans-serif'] = ['Microsoft YaHei']#指定默认字体\n",
    "mpl.rcParams['axes.unicode_minus'] =False # 解决保存图像是负号'-'显示为方块的问题\n",
    "import seaborn as sns\n",
    "\n",
    "data_df = pd.DataFrame(pd.Series(day_dict_all))\n",
    "# data_df\n",
    "sns.barplot(x=data_df.index, y=data_df[0], data=data_df)\n"
   ]
  },
  {
   "cell_type": "code",
   "execution_count": 47,
   "metadata": {},
   "outputs": [
    {
     "name": "stdout",
     "output_type": "stream",
     "text": [
      "理论数据缺失率为  0.9802607585703865\n",
      "实际数据缺失率为  0.9565374500632365\n"
     ]
    }
   ],
   "source": [
    "# 计算数据缺失量\n",
    "max_num_act = max(list(day_dict_all.values()))\n",
    "max_num = 24*60/6\n",
    "days_all = len(day_dict_all.keys())\n",
    "se_num = max_num  * days_all\n",
    "r_num = max_num_act * days_all\n",
    "\n",
    "act_num = sum(list(day_dict_all.values()))\n",
    "print(\"理论数据缺失率为 \",1-act_num/se_num)\n",
    "print(\"实际数据缺失率为 \",1-act_num/r_num)"
   ]
  },
  {
   "cell_type": "code",
   "execution_count": 68,
   "metadata": {},
   "outputs": [
    {
     "data": {
      "text/html": [
       "<pre>&lt;xarray.Dataset&gt;\n",
       "Dimensions:  (X: 800, Y: 800, height: 20, time: 1)\n",
       "Coordinates:\n",
       "  * time     (time) datetime64[ns] 2016-08-12T01:05:33\n",
       "  * height   (height) float32 0.5 1.5 2.5 3.5 4.5 ... 15.5 16.5 17.5 18.5 19.5\n",
       "  * Y        (Y) float32 -400.0 -399.0 -398.0 -397.0 ... 396.0 397.0 398.0 399.0\n",
       "  * X        (X) float32 -400.0 -399.0 -398.0 -397.0 ... 396.0 397.0 398.0 399.0\n",
       "Data variables:\n",
       "    DBZ      (time, height, Y, X) float32 ...\n",
       "Attributes:\n",
       "    history:      Generated from MDV file, M.X.Chen, BMB/IUM\n",
       "    Conventions:  COARDS\n",
       "    FileOrigins:  File /d1/fieldData/beijing/NetCDF/20160812_010533_bjanc_mer...\n",
       "    DataTime:     2016/08/12 01:05:33\n",
       "    Year:         2016.0\n",
       "    Month:        8.0\n",
       "    Day:          12.0\n",
       "    Hour:         1.0\n",
       "    Minute:       5.0\n",
       "    Second:       33.0\n",
       "    UNIX_Time:    1470964000.0\n",
       "    OriginX:      116.47195\n",
       "    OriginY:      39.808887</pre>"
      ],
      "text/plain": [
       "<xarray.Dataset>\n",
       "Dimensions:  (X: 800, Y: 800, height: 20, time: 1)\n",
       "Coordinates:\n",
       "  * time     (time) datetime64[ns] 2016-08-12T01:05:33\n",
       "  * height   (height) float32 0.5 1.5 2.5 3.5 4.5 ... 15.5 16.5 17.5 18.5 19.5\n",
       "  * Y        (Y) float32 -400.0 -399.0 -398.0 -397.0 ... 396.0 397.0 398.0 399.0\n",
       "  * X        (X) float32 -400.0 -399.0 -398.0 -397.0 ... 396.0 397.0 398.0 399.0\n",
       "Data variables:\n",
       "    DBZ      (time, height, Y, X) float32 ...\n",
       "Attributes:\n",
       "    history:      Generated from MDV file, M.X.Chen, BMB/IUM\n",
       "    Conventions:  COARDS\n",
       "    FileOrigins:  File /d1/fieldData/beijing/NetCDF/20160812_010533_bjanc_mer...\n",
       "    DataTime:     2016/08/12 01:05:33\n",
       "    Year:         2016.0\n",
       "    Month:        8.0\n",
       "    Day:          12.0\n",
       "    Hour:         1.0\n",
       "    Minute:       5.0\n",
       "    Second:       33.0\n",
       "    UNIX_Time:    1470964000.0\n",
       "    OriginX:      116.47195\n",
       "    OriginY:      39.808887"
      ]
     },
     "execution_count": 68,
     "metadata": {},
     "output_type": "execute_result"
    }
   ],
   "source": [
    "data_path = r\"\\\\192.168.1.240\\data2\\BJANC_RENAME\"\n",
    "g_file = gzip.GzipFile(os.path.join(data_path,\"20160812010000.nc.gz\"))\n",
    "data = xr.open_dataset(g_file)\n",
    "data"
   ]
  },
  {
   "cell_type": "code",
   "execution_count": 69,
   "metadata": {},
   "outputs": [
    {
     "data": {
      "text/plain": [
       "(2, 200, 200)"
      ]
     },
     "execution_count": 69,
     "metadata": {},
     "output_type": "execute_result"
    }
   ],
   "source": [
    "grid = np.load(r\"D:\\Python\\radar_data\\Deal_awsData\\read_station_model\\aws_idw\\radar_beijing.npy\")[::,400:600,300:500]\n",
    "lon_grid,lat_grid = grid[0],grid[1]\n",
    "grid.shape"
   ]
  },
  {
   "cell_type": "code",
   "execution_count": 70,
   "metadata": {},
   "outputs": [
    {
     "name": "stderr",
     "output_type": "stream",
     "text": [
      "C:\\Users\\Administrator\\Anaconda3\\lib\\site-packages\\ipykernel_launcher.py:2: RuntimeWarning: All-NaN slice encountered\n",
      "  \n",
      "C:\\Users\\Administrator\\Anaconda3\\lib\\site-packages\\ipykernel_launcher.py:3: RuntimeWarning: All-NaN slice encountered\n",
      "  This is separate from the ipykernel package so we can avoid doing imports until\n",
      "C:\\Users\\Administrator\\Anaconda3\\lib\\site-packages\\ipykernel_launcher.py:4: RuntimeWarning: All-NaN slice encountered\n",
      "  after removing the cwd from sys.path.\n"
     ]
    }
   ],
   "source": [
    "dbz = data.DBZ.data.squeeze()\n",
    "max_dbz_x = np.nanmax(dbz,axis=2)[400:600,300:500]\n",
    "max_dbz_y = np.nanmax(dbz,axis=1)[400:600,300:500]\n",
    "max_dbz_z = np.nanmax(dbz,axis=0)[400:600,300:500]"
   ]
  },
  {
   "cell_type": "code",
   "execution_count": 71,
   "metadata": {},
   "outputs": [
    {
     "data": {
      "text/plain": [
       "(20, 800, 800)"
      ]
     },
     "execution_count": 71,
     "metadata": {},
     "output_type": "execute_result"
    }
   ],
   "source": [
    "dbz.shape"
   ]
  },
  {
   "cell_type": "code",
   "execution_count": 74,
   "metadata": {},
   "outputs": [
    {
     "data": {
      "image/png": "[encoded data removed]",
      "text/plain": [
       "<Figure size 800x800 with 1 Axes>"
      ]
     },
     "metadata": {
      "needs_background": "light"
     },
     "output_type": "display_data"
    }
   ],
   "source": [
    "import matplotlib.pyplot as plt\n",
    "from matplotlib.colors import BoundaryNorm, ListedColormap\n",
    "fig = plt.figure(figsize=(8,8),dpi=100)\n",
    "colors = ['white', '#01a0f6', '#00ecec', '#01ff00','#00c800','#019000','#ffff00',\n",
    "          '#e7c000','#ff9000','#ff0000','#d60000','#c00000', '#ff00f0','#780084','#ad90f0']\n",
    "levels = [0.0, 5.0, 10.0, 15.0, 20.0, 25.0, 30.0, 35.0, 40.0, 45.0, 50.0, 55.0, 60.0, 65.0, 70.0]\n",
    "\n",
    "# colors = ('#99f8ff', '#65efff', '#32e3ff', '#00a9cc', '#007a99', '#99ccff',\n",
    "#               '#7399ff', '#4d66ff', '#274dd9', '#0033b3', '#005892', '#008073',\n",
    "#               '#008c39', '#009900', '#1ea61e', '#40b340', '#81cd43', '#c2e846',\n",
    "#               '#ffee00', '#ffdf01', '#ffc425', '#ffa84c', '#ff8834', '#fd681a',\n",
    "#               '#f3470d', '#e62600', '#d21300', '#990000', '#9933cc', '#8e28b7',\n",
    "#               '#7a148e', '#660066', '#d8af97', '#bc967d', '#a17d64', '#85644b',\n",
    "#               '#6a4b32', '#4e3219')\n",
    "# levels = [0.01, 0.2, 0.4, 0.6, 0.8, 1, 2, 3, 4, 5, 7, 9, 11, 13, 15, 17, 19,\n",
    "#                   21, 23, 25, 28, 31, 34, 37, 40, 43, 46, 49, 52, 55, 60, 65, 70,\n",
    "#                   75, 80, 85, 90, 95, 100]\n",
    "\n",
    "\n",
    "# plt.contourf(dbz,levels=levels,colors = colors)\n",
    "# plt.contourf(flag)\n",
    "\n",
    "# cmap = plt.get_cmap('PiYG')\n",
    "cmap = ListedColormap(colors)\n",
    "norm = BoundaryNorm(levels, ncolors=cmap.N, clip=True)\n",
    "norm = BoundaryNorm(levels, ncolors=cmap.N, clip=True)\n",
    "plt.pcolormesh(lon_grid,lat_grid,max_dbz_z,cmap=cmap,norm=norm)\n",
    "plt.show()\n"
   ]
  },
  {
   "cell_type": "code",
   "execution_count": 61,
   "metadata": {},
   "outputs": [
    {
     "data": {
      "text/plain": [
       "(200, 200)"
      ]
     },
     "execution_count": 61,
     "metadata": {},
     "output_type": "execute_result"
    }
   ],
   "source": [
    "max_dbz_z.shape"
   ]
  },
  {
   "cell_type": "code",
   "execution_count": null,
   "metadata": {},
   "outputs": [],
   "source": []
  },
  {
   "cell_type": "code",
   "execution_count": 86,
   "metadata": {},
   "outputs": [
    {
     "name": "stdout",
     "output_type": "stream",
     "text": [
      "save success\n",
      "save success\n",
      "save success\n",
      "save success\n",
      "save success\n",
      "save success\n",
      "save success\n",
      "save success\n",
      "save success\n",
      "save success\n",
      "save success\n",
      "save success\n",
      "save success\n",
      "save success\n",
      "save success\n",
      "save success\n",
      "save success\n",
      "save success\n",
      "save success\n",
      "save success\n",
      "save success\n",
      "save success\n",
      "save success\n",
      "save success\n",
      "save success\n",
      "save success\n",
      "save success\n",
      "save success\n",
      "save success\n",
      "save success\n",
      "save success\n",
      "save success\n",
      "save success\n",
      "save success\n",
      "save success\n",
      "save success\n",
      "save success\n",
      "save success\n",
      "save success\n",
      "save success\n",
      "save success\n",
      "save success\n",
      "save success\n",
      "save success\n",
      "save success\n",
      "save success\n",
      "save success\n",
      "save success\n",
      "save success\n",
      "save success\n",
      "save success\n",
      "save success\n",
      "save success\n",
      "save success\n",
      "save success\n",
      "save success\n",
      "save success\n",
      "save success\n",
      "save success\n",
      "save success\n",
      "save success\n",
      "save success\n",
      "save success\n",
      "save success\n",
      "save success\n",
      "save success\n",
      "save success\n",
      "save success\n",
      "save success\n",
      "save success\n"
     ]
    }
   ],
   "source": [
    "fromtime = \"20160812010000\"\n",
    "endtime = \"20160812075400\"\n",
    "\n",
    "grid = np.load(r\"D:\\Python\\radar_data\\Deal_awsData\\read_station_model\\aws_idw\\radar_beijing.npy\")[::,400:600,300:500]\n",
    "lon_grid,lat_grid = grid[0],grid[1]\n",
    "from_time = datetime.datetime.strptime(fromtime, '%Y%m%d%H%M%S')\n",
    "end_time = datetime.datetime.strptime(endtime, '%Y%m%d%H%M%S')\n",
    "periods = int((end_time - from_time).total_seconds() / 360) + 1\n",
    "# print(periods)\n",
    "timeindex6m = [datetime.datetime.strftime(i, '%Y%m%d%H%M%S') for i in\n",
    "                   pd.date_range(fromtime, periods=periods, freq=\"360s\")]\n",
    "data_path = r\"\\\\192.168.1.240\\data2\\BJANC_RENAME\"\n",
    "for timestamp in timeindex6m:\n",
    "    _file = os.path.join(data_path,f\"{timestamp}.nc.gz\")\n",
    "    if os.path.exists(_file):\n",
    "        nc_data = xr.open_dataset(gzip.GzipFile(_file))\n",
    "        dbz = nc_data.DBZ.data.squeeze()\n",
    "        #max_dbz_x = np.nanmax(dbz,axis=2)[400:600,300:500]\n",
    "        #max_dbz_y = np.nanmax(dbz,axis=1)[400:600,300:500]\n",
    "        max_dbz_z = np.nanmax(dbz,axis=0)[400:600,300:500]\n",
    "        np.save(r\"D:\\Python\\radar_data\\Deal_awsData\\output_dbz\\dbz_npy\\{}.npy\".format(timestamp),max_dbz_z)\n",
    "        print(\"save success\")\n"
   ]
  },
  {
   "cell_type": "code",
   "execution_count": 92,
   "metadata": {},
   "outputs": [
    {
     "name": "stdout",
     "output_type": "stream",
     "text": [
      "D:\\Python\\radar_data\\Deal_awsData\\output_dbz\\dbz_npy\\20160812004800.npy D:\\Python\\radar_data\\Deal_awsData\\output_dbz\\dbz_npy\\20160812010000.npy\n",
      "D:\\Python\\radar_data\\Deal_awsData\\output_dbz\\dbz_npy\\20160812005400.npy D:\\Python\\radar_data\\Deal_awsData\\output_dbz\\dbz_npy\\20160812010600.npy\n",
      "D:\\Python\\radar_data\\Deal_awsData\\output_dbz\\dbz_npy\\20160812010000.npy D:\\Python\\radar_data\\Deal_awsData\\output_dbz\\dbz_npy\\20160812011200.npy\n",
      "D:\\Python\\radar_data\\Deal_awsData\\output_dbz\\dbz_npy\\20160812010600.npy D:\\Python\\radar_data\\Deal_awsData\\output_dbz\\dbz_npy\\20160812011800.npy\n",
      "D:\\Python\\radar_data\\Deal_awsData\\output_dbz\\dbz_npy\\20160812011200.npy D:\\Python\\radar_data\\Deal_awsData\\output_dbz\\dbz_npy\\20160812012400.npy\n",
      "D:\\Python\\radar_data\\Deal_awsData\\output_dbz\\dbz_npy\\20160812011800.npy D:\\Python\\radar_data\\Deal_awsData\\output_dbz\\dbz_npy\\20160812013000.npy\n",
      "D:\\Python\\radar_data\\Deal_awsData\\output_dbz\\dbz_npy\\20160812012400.npy D:\\Python\\radar_data\\Deal_awsData\\output_dbz\\dbz_npy\\20160812013600.npy\n",
      "D:\\Python\\radar_data\\Deal_awsData\\output_dbz\\dbz_npy\\20160812013000.npy D:\\Python\\radar_data\\Deal_awsData\\output_dbz\\dbz_npy\\20160812014200.npy\n",
      "D:\\Python\\radar_data\\Deal_awsData\\output_dbz\\dbz_npy\\20160812013600.npy D:\\Python\\radar_data\\Deal_awsData\\output_dbz\\dbz_npy\\20160812014800.npy\n",
      "D:\\Python\\radar_data\\Deal_awsData\\output_dbz\\dbz_npy\\20160812014200.npy D:\\Python\\radar_data\\Deal_awsData\\output_dbz\\dbz_npy\\20160812015400.npy\n",
      "D:\\Python\\radar_data\\Deal_awsData\\output_dbz\\dbz_npy\\20160812014800.npy D:\\Python\\radar_data\\Deal_awsData\\output_dbz\\dbz_npy\\20160812020000.npy\n",
      "D:\\Python\\radar_data\\Deal_awsData\\output_dbz\\dbz_npy\\20160812015400.npy D:\\Python\\radar_data\\Deal_awsData\\output_dbz\\dbz_npy\\20160812020600.npy\n",
      "D:\\Python\\radar_data\\Deal_awsData\\output_dbz\\dbz_npy\\20160812020000.npy D:\\Python\\radar_data\\Deal_awsData\\output_dbz\\dbz_npy\\20160812021200.npy\n",
      "D:\\Python\\radar_data\\Deal_awsData\\output_dbz\\dbz_npy\\20160812020600.npy D:\\Python\\radar_data\\Deal_awsData\\output_dbz\\dbz_npy\\20160812021800.npy\n",
      "D:\\Python\\radar_data\\Deal_awsData\\output_dbz\\dbz_npy\\20160812021200.npy D:\\Python\\radar_data\\Deal_awsData\\output_dbz\\dbz_npy\\20160812022400.npy\n",
      "D:\\Python\\radar_data\\Deal_awsData\\output_dbz\\dbz_npy\\20160812021800.npy D:\\Python\\radar_data\\Deal_awsData\\output_dbz\\dbz_npy\\20160812023000.npy\n",
      "D:\\Python\\radar_data\\Deal_awsData\\output_dbz\\dbz_npy\\20160812022400.npy D:\\Python\\radar_data\\Deal_awsData\\output_dbz\\dbz_npy\\20160812023600.npy\n",
      "D:\\Python\\radar_data\\Deal_awsData\\output_dbz\\dbz_npy\\20160812023000.npy D:\\Python\\radar_data\\Deal_awsData\\output_dbz\\dbz_npy\\20160812024200.npy\n",
      "D:\\Python\\radar_data\\Deal_awsData\\output_dbz\\dbz_npy\\20160812023600.npy D:\\Python\\radar_data\\Deal_awsData\\output_dbz\\dbz_npy\\20160812024800.npy\n",
      "D:\\Python\\radar_data\\Deal_awsData\\output_dbz\\dbz_npy\\20160812024200.npy D:\\Python\\radar_data\\Deal_awsData\\output_dbz\\dbz_npy\\20160812025400.npy\n",
      "D:\\Python\\radar_data\\Deal_awsData\\output_dbz\\dbz_npy\\20160812024800.npy D:\\Python\\radar_data\\Deal_awsData\\output_dbz\\dbz_npy\\20160812030000.npy\n",
      "D:\\Python\\radar_data\\Deal_awsData\\output_dbz\\dbz_npy\\20160812025400.npy D:\\Python\\radar_data\\Deal_awsData\\output_dbz\\dbz_npy\\20160812030600.npy\n",
      "D:\\Python\\radar_data\\Deal_awsData\\output_dbz\\dbz_npy\\20160812030000.npy D:\\Python\\radar_data\\Deal_awsData\\output_dbz\\dbz_npy\\20160812031200.npy\n",
      "D:\\Python\\radar_data\\Deal_awsData\\output_dbz\\dbz_npy\\20160812030600.npy D:\\Python\\radar_data\\Deal_awsData\\output_dbz\\dbz_npy\\20160812031800.npy\n",
      "D:\\Python\\radar_data\\Deal_awsData\\output_dbz\\dbz_npy\\20160812031200.npy D:\\Python\\radar_data\\Deal_awsData\\output_dbz\\dbz_npy\\20160812032400.npy\n",
      "D:\\Python\\radar_data\\Deal_awsData\\output_dbz\\dbz_npy\\20160812031800.npy D:\\Python\\radar_data\\Deal_awsData\\output_dbz\\dbz_npy\\20160812033000.npy\n",
      "D:\\Python\\radar_data\\Deal_awsData\\output_dbz\\dbz_npy\\20160812032400.npy D:\\Python\\radar_data\\Deal_awsData\\output_dbz\\dbz_npy\\20160812033600.npy\n",
      "D:\\Python\\radar_data\\Deal_awsData\\output_dbz\\dbz_npy\\20160812033000.npy D:\\Python\\radar_data\\Deal_awsData\\output_dbz\\dbz_npy\\20160812034200.npy\n",
      "D:\\Python\\radar_data\\Deal_awsData\\output_dbz\\dbz_npy\\20160812033600.npy D:\\Python\\radar_data\\Deal_awsData\\output_dbz\\dbz_npy\\20160812034800.npy\n",
      "D:\\Python\\radar_data\\Deal_awsData\\output_dbz\\dbz_npy\\20160812034200.npy D:\\Python\\radar_data\\Deal_awsData\\output_dbz\\dbz_npy\\20160812035400.npy\n",
      "D:\\Python\\radar_data\\Deal_awsData\\output_dbz\\dbz_npy\\20160812034800.npy D:\\Python\\radar_data\\Deal_awsData\\output_dbz\\dbz_npy\\20160812040000.npy\n",
      "D:\\Python\\radar_data\\Deal_awsData\\output_dbz\\dbz_npy\\20160812035400.npy D:\\Python\\radar_data\\Deal_awsData\\output_dbz\\dbz_npy\\20160812040600.npy\n",
      "D:\\Python\\radar_data\\Deal_awsData\\output_dbz\\dbz_npy\\20160812040000.npy D:\\Python\\radar_data\\Deal_awsData\\output_dbz\\dbz_npy\\20160812041200.npy\n",
      "D:\\Python\\radar_data\\Deal_awsData\\output_dbz\\dbz_npy\\20160812040600.npy D:\\Python\\radar_data\\Deal_awsData\\output_dbz\\dbz_npy\\20160812041800.npy\n",
      "D:\\Python\\radar_data\\Deal_awsData\\output_dbz\\dbz_npy\\20160812041200.npy D:\\Python\\radar_data\\Deal_awsData\\output_dbz\\dbz_npy\\20160812042400.npy\n",
      "D:\\Python\\radar_data\\Deal_awsData\\output_dbz\\dbz_npy\\20160812041800.npy D:\\Python\\radar_data\\Deal_awsData\\output_dbz\\dbz_npy\\20160812043000.npy\n",
      "D:\\Python\\radar_data\\Deal_awsData\\output_dbz\\dbz_npy\\20160812042400.npy D:\\Python\\radar_data\\Deal_awsData\\output_dbz\\dbz_npy\\20160812043600.npy\n",
      "D:\\Python\\radar_data\\Deal_awsData\\output_dbz\\dbz_npy\\20160812043000.npy D:\\Python\\radar_data\\Deal_awsData\\output_dbz\\dbz_npy\\20160812044200.npy\n",
      "D:\\Python\\radar_data\\Deal_awsData\\output_dbz\\dbz_npy\\20160812043600.npy D:\\Python\\radar_data\\Deal_awsData\\output_dbz\\dbz_npy\\20160812044800.npy\n",
      "D:\\Python\\radar_data\\Deal_awsData\\output_dbz\\dbz_npy\\20160812044200.npy D:\\Python\\radar_data\\Deal_awsData\\output_dbz\\dbz_npy\\20160812045400.npy\n",
      "D:\\Python\\radar_data\\Deal_awsData\\output_dbz\\dbz_npy\\20160812044800.npy D:\\Python\\radar_data\\Deal_awsData\\output_dbz\\dbz_npy\\20160812050000.npy\n",
      "D:\\Python\\radar_data\\Deal_awsData\\output_dbz\\dbz_npy\\20160812045400.npy D:\\Python\\radar_data\\Deal_awsData\\output_dbz\\dbz_npy\\20160812050600.npy\n",
      "D:\\Python\\radar_data\\Deal_awsData\\output_dbz\\dbz_npy\\20160812050000.npy D:\\Python\\radar_data\\Deal_awsData\\output_dbz\\dbz_npy\\20160812051200.npy\n",
      "D:\\Python\\radar_data\\Deal_awsData\\output_dbz\\dbz_npy\\20160812050600.npy D:\\Python\\radar_data\\Deal_awsData\\output_dbz\\dbz_npy\\20160812051800.npy\n",
      "D:\\Python\\radar_data\\Deal_awsData\\output_dbz\\dbz_npy\\20160812051200.npy D:\\Python\\radar_data\\Deal_awsData\\output_dbz\\dbz_npy\\20160812052400.npy\n",
      "D:\\Python\\radar_data\\Deal_awsData\\output_dbz\\dbz_npy\\20160812051800.npy D:\\Python\\radar_data\\Deal_awsData\\output_dbz\\dbz_npy\\20160812053000.npy\n",
      "D:\\Python\\radar_data\\Deal_awsData\\output_dbz\\dbz_npy\\20160812052400.npy D:\\Python\\radar_data\\Deal_awsData\\output_dbz\\dbz_npy\\20160812053600.npy\n",
      "D:\\Python\\radar_data\\Deal_awsData\\output_dbz\\dbz_npy\\20160812053000.npy D:\\Python\\radar_data\\Deal_awsData\\output_dbz\\dbz_npy\\20160812054200.npy\n",
      "D:\\Python\\radar_data\\Deal_awsData\\output_dbz\\dbz_npy\\20160812053600.npy D:\\Python\\radar_data\\Deal_awsData\\output_dbz\\dbz_npy\\20160812054800.npy\n",
      "D:\\Python\\radar_data\\Deal_awsData\\output_dbz\\dbz_npy\\20160812054200.npy D:\\Python\\radar_data\\Deal_awsData\\output_dbz\\dbz_npy\\20160812055400.npy\n",
      "D:\\Python\\radar_data\\Deal_awsData\\output_dbz\\dbz_npy\\20160812054800.npy D:\\Python\\radar_data\\Deal_awsData\\output_dbz\\dbz_npy\\20160812060000.npy\n",
      "D:\\Python\\radar_data\\Deal_awsData\\output_dbz\\dbz_npy\\20160812055400.npy D:\\Python\\radar_data\\Deal_awsData\\output_dbz\\dbz_npy\\20160812060600.npy\n",
      "D:\\Python\\radar_data\\Deal_awsData\\output_dbz\\dbz_npy\\20160812060000.npy D:\\Python\\radar_data\\Deal_awsData\\output_dbz\\dbz_npy\\20160812061200.npy\n",
      "D:\\Python\\radar_data\\Deal_awsData\\output_dbz\\dbz_npy\\20160812060600.npy D:\\Python\\radar_data\\Deal_awsData\\output_dbz\\dbz_npy\\20160812061800.npy\n",
      "D:\\Python\\radar_data\\Deal_awsData\\output_dbz\\dbz_npy\\20160812061200.npy D:\\Python\\radar_data\\Deal_awsData\\output_dbz\\dbz_npy\\20160812062400.npy\n",
      "D:\\Python\\radar_data\\Deal_awsData\\output_dbz\\dbz_npy\\20160812061800.npy D:\\Python\\radar_data\\Deal_awsData\\output_dbz\\dbz_npy\\20160812063000.npy\n",
      "D:\\Python\\radar_data\\Deal_awsData\\output_dbz\\dbz_npy\\20160812062400.npy D:\\Python\\radar_data\\Deal_awsData\\output_dbz\\dbz_npy\\20160812063600.npy\n"
     ]
    },
    {
     "name": "stdout",
     "output_type": "stream",
     "text": [
      "D:\\Python\\radar_data\\Deal_awsData\\output_dbz\\dbz_npy\\20160812063000.npy D:\\Python\\radar_data\\Deal_awsData\\output_dbz\\dbz_npy\\20160812064200.npy\n",
      "D:\\Python\\radar_data\\Deal_awsData\\output_dbz\\dbz_npy\\20160812063600.npy D:\\Python\\radar_data\\Deal_awsData\\output_dbz\\dbz_npy\\20160812064800.npy\n",
      "D:\\Python\\radar_data\\Deal_awsData\\output_dbz\\dbz_npy\\20160812064200.npy D:\\Python\\radar_data\\Deal_awsData\\output_dbz\\dbz_npy\\20160812065400.npy\n",
      "D:\\Python\\radar_data\\Deal_awsData\\output_dbz\\dbz_npy\\20160812064800.npy D:\\Python\\radar_data\\Deal_awsData\\output_dbz\\dbz_npy\\20160812070000.npy\n",
      "D:\\Python\\radar_data\\Deal_awsData\\output_dbz\\dbz_npy\\20160812065400.npy D:\\Python\\radar_data\\Deal_awsData\\output_dbz\\dbz_npy\\20160812070600.npy\n",
      "D:\\Python\\radar_data\\Deal_awsData\\output_dbz\\dbz_npy\\20160812070000.npy D:\\Python\\radar_data\\Deal_awsData\\output_dbz\\dbz_npy\\20160812071200.npy\n",
      "D:\\Python\\radar_data\\Deal_awsData\\output_dbz\\dbz_npy\\20160812070600.npy D:\\Python\\radar_data\\Deal_awsData\\output_dbz\\dbz_npy\\20160812071800.npy\n",
      "D:\\Python\\radar_data\\Deal_awsData\\output_dbz\\dbz_npy\\20160812071200.npy D:\\Python\\radar_data\\Deal_awsData\\output_dbz\\dbz_npy\\20160812072400.npy\n",
      "D:\\Python\\radar_data\\Deal_awsData\\output_dbz\\dbz_npy\\20160812071800.npy D:\\Python\\radar_data\\Deal_awsData\\output_dbz\\dbz_npy\\20160812073000.npy\n",
      "D:\\Python\\radar_data\\Deal_awsData\\output_dbz\\dbz_npy\\20160812072400.npy D:\\Python\\radar_data\\Deal_awsData\\output_dbz\\dbz_npy\\20160812073600.npy\n",
      "D:\\Python\\radar_data\\Deal_awsData\\output_dbz\\dbz_npy\\20160812073000.npy D:\\Python\\radar_data\\Deal_awsData\\output_dbz\\dbz_npy\\20160812074200.npy\n",
      "D:\\Python\\radar_data\\Deal_awsData\\output_dbz\\dbz_npy\\20160812073600.npy D:\\Python\\radar_data\\Deal_awsData\\output_dbz\\dbz_npy\\20160812074800.npy\n",
      "D:\\Python\\radar_data\\Deal_awsData\\output_dbz\\dbz_npy\\20160812074200.npy D:\\Python\\radar_data\\Deal_awsData\\output_dbz\\dbz_npy\\20160812075400.npy\n"
     ]
    }
   ],
   "source": [
    "os.chdir(r\"D:\\Python\\radar_data\\Deal_awsData\\read_station_model\")\n",
    "\n",
    "import os\n",
    "import datetime\n",
    "import sys\n",
    "import gc\n",
    "import numpy as np\n",
    "import xarray as xr\n",
    "import models\n",
    "import datetime\n",
    "from scipy import ndimage\n",
    "import matplotlib.pyplot as plt\n",
    "from utils import get_attr\n",
    "from Const import QPE_DATA, OUTPUT_QPE, OUTPUT_QPENPY,OUTPUT_DBZ\n",
    "from matplotlib.colors import ListedColormap, BoundaryNorm\n",
    "\n",
    "import warnings\n",
    "\n",
    "warnings.filterwarnings('ignore')\n",
    "\n",
    "LEFT_LON = 112.87187\n",
    "RIGHT_LON = 119.90312\n",
    "LEFT_LAT = 37.51319\n",
    "RIGHT_LAT = 42.87916\n",
    "HEIGHT_TOP = None\n",
    "HEIGHT_BOM = None\n",
    "levels = [0.01, 0.2, 0.4, 0.6, 0.8, 1, 2, 3, 4, 5, 7, 9, 11, 13, 15, 17, 19,\n",
    "          21, 23, 25, 28, 31, 34, 37, 40, 43, 46, 49, 52, 55, 60, 65, 70,\n",
    "          75, 80, 85, 90, 95, 100]\n",
    "colors = ('#99f8ff', '#65efff', '#32e3ff', '#00a9cc', '#007a99', '#99ccff',\n",
    "          '#7399ff', '#4d66ff', '#274dd9', '#0033b3', '#005892', '#008073',\n",
    "          '#008c39', '#009900', '#1ea61e', '#40b340', '#81cd43', '#c2e846',\n",
    "          '#ffee00', '#ffdf01', '#ffc425', '#ffa84c', '#ff8834', '#fd681a',\n",
    "          '#f3470d', '#e62600', '#d21300', '#990000', '#9933cc', '#8e28b7',\n",
    "          '#7a148e', '#660066', '#d8af97', '#bc967d', '#a17d64', '#85644b',\n",
    "          '#6a4b32', '#4e3219')\n",
    "\n",
    "\n",
    "def calc_qpe(dbz):\n",
    "    tmpdbz2 = np.nanmean(dbz[20:30], axis=0)\n",
    "    Rsim = (10 ** (tmpdbz2 / 10) / 200) ** (5 / 8)\n",
    "    return Rsim\n",
    "\n",
    "\n",
    "def run(currnc, prevnc, save_root):\n",
    "    # ctime = os.path.splitext(os.path.split(currnc)[1])[0]\n",
    "    if (not os.path.exists(currnc)) or (not os.path.exists(prevnc)):\n",
    "        return\n",
    "    rect = [0, 0, 1.0, 1.0]\n",
    "    fig = plt.figure(figsize=(12, 12))\n",
    "    ax = fig.add_axes(rect)\n",
    "#     cdbz, lon, lat, hgt = get_attr(currnc)\n",
    "#     pdbz, lon, lat, hgt = get_attr(prevnc)\n",
    "#     cqpe = calc_qpe(cdbz)\n",
    "#     pqpe = calc_qpe(pdbz)\n",
    "    # save_troot = os.path.join(save_root, ctime)\n",
    "\n",
    "    cqpe = np.load(currnc)\n",
    "    pqpe = np.load(prevnc)\n",
    "    save_path = os.path.join(OUTPUT_DBZ,'qpf_img', f'{ctime[:-2]}_QPE.png')\n",
    "    # if not os.path.exists(save_troot):\n",
    "    #     os.makedirs(save_troot)\n",
    "    # ax.contourf(cqpe, levels=levels, colors=colors)\n",
    "    cmap = ListedColormap(colors)\n",
    "    norm = BoundaryNorm(levels, ncolors=cmap.N, clip=True)\n",
    "    img1 = ax.pcolormesh(cqpe, cmap=cmap, norm=norm)\n",
    "    plt.grid()\n",
    "    fig.colorbar(img1)\n",
    "    plt.savefig(save_path)\n",
    "    # plt.cla()\n",
    "    dense = models.Dense()\n",
    "\n",
    "    dense.input_data = np.array([pqpe, cqpe])\n",
    "    # print(pqpe.shape)\n",
    "    # print(cqpe.shape)\n",
    "    # 前后两个时间的时间间隔\n",
    "    # dense.interval = 2\n",
    "    dense.interval = 12\n",
    "    # 外推的时间\n",
    "    dense.sum_time = 60\n",
    "    dense.lead_steps = 1\n",
    "    dense.of_method = 'PCAFlow'\n",
    "    newcast = dense.run()\n",
    "    # print(newcast.shape[0])\n",
    "    # for j in range(newcast.shape[0]):\n",
    "    ax.pcolormesh(newcast[0], cmap=cmap, norm=norm)\n",
    "    # ax.contourf(newcast[j], colors=colors, levels=levels)\n",
    "    plt.axis('off')\n",
    "    fig_path = os.path.join(OUTPUT_DBZ,'qpf_img',\n",
    "                             f'{ctime[:-2]}_QPF_{str((1)*int(dense.sum_time/dense.lead_steps)).rjust(2, \"0\")}.png')\n",
    "    ptime = datetime.datetime.strftime(\n",
    "        datetime.datetime.strptime(ctime[:-2], '%Y%m%d%H%M') + datetime.timedelta(minutes=dense.sum_time), '%Y%m%d%H%M')\n",
    "    # # print(time1)\n",
    "    save_path = os.path.join(OUTPUT_DBZ,'qpf_npy',\n",
    "                             f'{ptime[:-2]}.npy')\n",
    "    plt.grid()\n",
    "    np.save(save_path, newcast[0])\n",
    "    plt.savefig(fig_path)\n",
    "    # plt.close('all')\n",
    "    plt.close(fig)\n",
    "    gc.collect()\n",
    "    # print(\"finish\")\n",
    "    # return\n",
    "\n",
    "\n",
    "if __name__ == '__main__':\n",
    "    # nc_root = r'.\\20190826'\n",
    "    # save_root = r'.\\output_qpe'\n",
    "    data_root = os.path.join(OUTPUT_DBZ, 'dbz_npy')\n",
    "    for i in os.listdir(data_root):\n",
    "        try:\n",
    "            curr_path = os.path.join(data_root, i)\n",
    "            # print(curr_path)\n",
    "            ctime = os.path.splitext(os.path.split(curr_path)[1])[0]\n",
    "            cdtime = datetime.datetime.strptime(ctime, '%Y%m%d%H%M%S')\n",
    "            ptime = (cdtime - datetime.timedelta(minutes=12)).strftime('%Y%m%d%H%M%S')\n",
    "            # print(ptime)\n",
    "            prev_path = os.path.join(data_root, f'{ptime}.npy')\n",
    "            print(prev_path, curr_path)\n",
    "            # break\n",
    "            run(curr_path, prev_path, OUTPUT_DBZ)\n",
    "        except Exception as e:\n",
    "            print(e)\n"
   ]
  },
  {
   "cell_type": "code",
   "execution_count": 95,
   "metadata": {},
   "outputs": [
    {
     "name": "stdout",
     "output_type": "stream",
     "text": [
      "202004010800\n"
     ]
    }
   ],
   "source": [
    "import datetime as dateTime\n",
    "timenow = (dateTime.datetime.utcnow() + dateTime.timedelta(hours=8))\n",
    "year = str(timenow.strftime('%Y'))\n",
    "year_2 = year[-2:]\n",
    "month = str(timenow.strftime('%m'))\n",
    "day = str(timenow.strftime('%d'))\n",
    "# day = '26'\n",
    "\n",
    "time_ = str(timenow.strftime('%H'))\n",
    "if int(time_) >= 7 and int(time_) <= 19:\n",
    "    _time = '08'\n",
    "else:\n",
    "    if int(time_) >= 0 and int(time_) < 7:\n",
    "        timenow = (dateTime.datetime.utcnow() + dateTime.timedelta(hours=8))\n",
    "        datetime_deal = timenow - dateTime.timedelta(days=1)\n",
    "        year = str(datetime_deal.strftime('%Y'))\n",
    "        year_2 = year[-2:]\n",
    "        month = str(datetime_deal.strftime('%m'))\n",
    "        day = str(datetime_deal.strftime('%d'))\n",
    "    _time = '20'\n",
    "\n",
    "# _time = \"08\"\n",
    "hour = _time + \"00\"\n",
    "timestamp = \"%s%s%s%s\" % (year, month, day, hour)\n",
    "print(timestamp)"
   ]
  }
 ],
 "metadata": {
  "kernelspec": {
   "display_name": "Python 3",
   "language": "python",
   "name": "python3"
  },
  "language_info": {
   "codemirror_mode": {
    "name": "ipython",
    "version": 3
   },
   "file_extension": ".py",
   "mimetype": "text/x-python",
   "name": "python",
   "nbconvert_exporter": "python",
   "pygments_lexer": "ipython3",
   "version": "3.7.3"
  }
 },
 "nbformat": 4,
 "nbformat_minor": 2
}
