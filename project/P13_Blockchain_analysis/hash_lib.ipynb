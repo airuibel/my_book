{
 "cells": [
  {
   "cell_type": "code",
   "execution_count": 2,
   "metadata": {},
   "outputs": [
    {
     "name": "stdout",
     "output_type": "stream",
     "text": [
      "private key: 18E14A7B6A307F426A94F8114701E7C8E774E7F9A47E2C2035DB29A206321726\n",
      "public_key: 046EAF0968AA895ADDFEE599566F0B880242461D1377F4887C9B84631E13067B96DB18C41E0C208F8D12EBCC3F99F2522903AF6105833E4CBADE9D6A1D0F039187\n",
      "public key hash256: 1DC4B1F3A6552A05A4F308FF03E412D699BE937DC7CFAF5BD27AA01495593B0E\n",
      "RIPEMD-160: 8915DD5B4A59FEC43981431E106380EA8AFA22BC\n",
      "40\n",
      "first sha256: 3EB136652F264B0F11E6480D559815EC7457B1DCC4038A23262E24A8E051856E\n",
      "second sha256: 4BE62CB707D5082293EF3F425B26A6563DBCE83F10AB5889D96BC69454575E9C\n",
      "Hex address: 008915DD5B4A59FEC43981431E106380EA8AFA22BC4BE62CB7\n",
      "Final address 1DVqmTy9Ux3NqkWURZZfygqvnxac2FjH66\n"
     ]
    }
   ],
   "source": [
    "import hashlib\n",
    "from ecdsa import SECP256k1, SigningKey\n",
    "import sys\n",
    "import binascii\n",
    "\n",
    "# 58 character alphabet used\n",
    "BASE58_ALPHABET = '123456789ABCDEFGHJKLMNPQRSTUVWXYZabcdefghijkmnopqrstuvwxyz'\n",
    "\n",
    "def from_bytes (data, big_endian = False):\n",
    "    if isinstance(data, str):\n",
    "        data = bytearray(data)\n",
    "    if big_endian:\n",
    "        data = reversed(data)\n",
    "    num = 0\n",
    "    for offset, byte in enumerate(data):\n",
    "        num += byte << (offset * 8)\n",
    "    return num\n",
    "    \n",
    "def base58_encode(version, public_address):\n",
    "    \"\"\"\n",
    "    Gets a Base58Check string\n",
    "    See https://en.bitcoin.it/wiki/Base58Check_encoding\n",
    "    \"\"\"\n",
    "    if sys.version_info.major > 2:\n",
    "        version = bytes.fromhex(version)\n",
    "    else:\n",
    "        version = bytearray.fromhex(version)\n",
    "    firstSHA256 = hashlib.sha256(version + public_address)\n",
    "    print(\"first sha256: %s\"%firstSHA256.hexdigest().upper())\n",
    "    secondSHA256 = hashlib.sha256(firstSHA256.digest())\n",
    "    print(\"second sha256: %s\"%secondSHA256.hexdigest().upper())\n",
    "    checksum = secondSHA256.digest()[:4]\n",
    "    payload = version + public_address + checksum\n",
    "    print(\"Hex address: %s\"%binascii.hexlify(payload).decode().upper())\n",
    "    if sys.version_info.major > 2:\n",
    "        result = int.from_bytes(payload, byteorder=\"big\")\n",
    "    else:\n",
    "        result = from_bytes(payload, True)\n",
    "    # count the leading 0s\n",
    "    padding = len(payload) - len(payload.lstrip(b'\\0'))\n",
    "    encoded = []\n",
    "\n",
    "    while result != 0:\n",
    "        result, remainder = divmod(result, 58)\n",
    "        encoded.append(BASE58_ALPHABET[remainder])\n",
    "\n",
    "    return padding*\"1\" + \"\".join(encoded)[::-1]\n",
    "\n",
    "def get_private_key(hex_string):\n",
    "    if sys.version_info.major > 2:\n",
    "        return bytes.fromhex(hex_string.zfill(64))\n",
    "    else:\n",
    "        return bytearray.fromhex(hex_string.zfill(64))\n",
    "\n",
    "def get_public_key(private_key):\n",
    "    # this returns the concatenated x and y coordinates for the supplied private address\n",
    "    # the prepended 04 is used to signify that it's uncompressed\n",
    "    if sys.version_info.major > 2:\n",
    "        return (bytes.fromhex(\"04\") + SigningKey.from_string(private_key, curve=SECP256k1).verifying_key.to_string())\n",
    "    else:\n",
    "        return (bytearray.fromhex(\"04\") + SigningKey.from_string(private_key, curve=SECP256k1).verifying_key.to_string())\n",
    "\n",
    "def get_public_address(public_key):\n",
    "    address = hashlib.sha256(public_key).digest()\n",
    "    print(\"public key hash256: %s\"%hashlib.sha256(public_key).hexdigest().upper())\n",
    "    h = hashlib.new('ripemd160')\n",
    "    h.update(address)\n",
    "    address = h.digest()\n",
    "    print(\"RIPEMD-160: %s\"%h.hexdigest().upper())\n",
    "    print(len(h.hexdigest().upper()))\n",
    "    return address\n",
    "\n",
    "if __name__ == \"__main__\":\n",
    "    #private_key = get_private_key(\"FEEDB0BDEADBEEF\")\n",
    "    private_key = get_private_key(\"18e14a7b6a307f426a94f8114701e7c8e774e7f9a47e2c2035db29a206321726\")\n",
    "    print(\"private key: %s\"%binascii.hexlify(private_key).decode().upper())\n",
    "    public_key = get_public_key(private_key)\n",
    "    print(\"public_key: %s\"%binascii.hexlify(public_key).decode().upper())\n",
    "    public_address = get_public_address(public_key)\n",
    "    bitcoin_address = base58_encode(\"00\", public_address)\n",
    "    print(\"Final address %s\"%bitcoin_address)\n",
    "\n",
    "# PubKeyToAddress将比特币公钥转换为base58编码的字符串地址\n",
    "# 在PubKeyToAddress函数中，会先调用Hash160对公钥进行SHA256和RIPEMD160哈希运算\n",
    "# 即对应生成过程的第三、四步"
   ]
  },
  {
   "cell_type": "markdown",
   "metadata": {},
   "source": [
    "private key: 18E14A7B6A307F426A94F8114701E7C8E774E7F9A47E2C2035DB29A206321725\n",
    "public_key: 0450863AD64A87AE8A2FE83C1AF1A8403CB53F53E486D8511DAD8A04887E5B23522CD470243453A299FA9E77237716103ABC11A1DF38855ED6F2EE187E9C582BA6\n",
    "public key hash256: 600FFE422B4E00731A59557A5CCA46CC183944191006324A447BDB2D98D4B408\n",
    "RIPEMD-160: 010966776006953D5567439E5E39F86A0D273BEE\n",
    "40\n",
    "first sha256: 445C7A8007A93D8733188288BB320A8FE2DEBD2AE1B47F0F50BC10BAE845C094\n",
    "second sha256: D61967F63C7DD183914A4AE452C9F6AD5D462CE3D277798075B107615C1A8A30\n",
    "Hex address: 00010966776006953D5567439E5E39F86A0D273BEED61967F6\n",
    "Final address 16UwLL9Risc3QfPqBUvKofHmBQ7wMtjvM"
   ]
  },
  {
   "cell_type": "code",
   "execution_count": 1,
   "metadata": {},
   "outputs": [
    {
     "name": "stdout",
     "output_type": "stream",
     "text": [
      "请输bitcoin地址:16UwLL9Risc3QfPqBUvKofHmBQ7wMtjvN\n",
      "16进制地址为: 0X10966776006953D5567439E5E39F86A0D273BEED61967F7\n",
      "四位校验码为: D61967F7\n",
      "RIPEMD-160编码后的16进制数 010966776006953D5567439E5E39F86A0D273BEE\n"
     ]
    }
   ],
   "source": [
    "# BASE58解码\n",
    "# 第一步 反解 Base58，生成16进制的地址 和 4 位校验码\n",
    "BASE58_ALPHABET = '123456789ABCDEFGHJKLMNPQRSTUVWXYZabcdefghijkmnopqrstuvwxyz'\n",
    "xx = input(\"请输bitcoin地址:\")\n",
    "# print(xx)\n",
    "num_list = []\n",
    "for x in xx:\n",
    "    num_list.append(BASE58_ALPHABET.index(x))\n",
    "# print(num_list)\n",
    "num = 0\n",
    "for i in range(len(num_list)):\n",
    "    num += num_list[i] * (58 ** (len(num_list)-1-i))\n",
    "\n",
    "addr_16 = (hex(num).upper())\n",
    "print(\"16进制地址为:\",addr_16)\n",
    "#  生成的4位校验码\n",
    "check_4num = addr_16[-8:]\n",
    "print(\"四位校验码为:\",check_4num)\n",
    "after_ripemd160 = addr_16[2:-8]\n",
    "#print(len(after_ripemd160))\n",
    "# 第二步 得到RIPEMD-16编码后的16进制数\n",
    "while len(after_ripemd160) < 40:\n",
    "    after_ripemd160 = \"0\" + after_ripemd160\n",
    "print(\"RIPEMD-160编码后的16进制数\",after_ripemd160)\n",
    "# 第三步 反解RIPEMD-160得到公钥的SHA-256值\n",
    "# 第四步 反解SHA-256得到公钥共65字节，前面子字节为04，X坐标32字节，Y坐标32字节\n",
    "# 第五步 反解椭圆曲线算法 得到一个32字节的16进制数(64位) 即为私钥！！！"
   ]
  },
  {
   "cell_type": "code",
   "execution_count": null,
   "metadata": {},
   "outputs": [],
   "source": []
  },
  {
   "cell_type": "code",
   "execution_count": null,
   "metadata": {},
   "outputs": [],
   "source": [
    "# BASE58编码"
   ]
  },
  {
   "cell_type": "code",
   "execution_count": null,
   "metadata": {},
   "outputs": [],
   "source": [
    "x = \"0\"\n",
    "hex_num = \"\"\n",
    "for i in range(64):\n",
    "    hex_num += x\n",
    "# hex_num = \"8888888888888888888888888888888888888888888888888888888888888888\"\n",
    "print(hex_num)"
   ]
  },
  {
   "cell_type": "code",
   "execution_count": 366,
   "metadata": {},
   "outputs": [
    {
     "name": "stdout",
     "output_type": "stream",
     "text": [
      "255\n",
      "137\n"
     ]
    }
   ],
   "source": [
    "import random\n",
    "max_bin256 = 0b1111111111111111111111111111111111111111111111111111111111111111111111111111111111111111111111111111111111111111111111111111111010111010101011101101110011100110101011110100100010100000001110111011111111010010010111101000110011010000001101100100000101000001\n",
    "# print(bin(random.randint(0b0,max_bin256)))\n",
    "rand_bin = bin(random.randint(0b0,max_bin256))[2:]\n",
    "# print(len(rand_bin))\n",
    "sum_bin = 0\n",
    "for i in rand_bin:\n",
    "    sum_bin += int(i)\n",
    "print(sum_bin)"
   ]
  }
 ],
 "metadata": {
  "kernelspec": {
   "display_name": "Python 3",
   "language": "python",
   "name": "python3"
  },
  "language_info": {
   "codemirror_mode": {
    "name": "ipython",
    "version": 3
   },
   "file_extension": ".py",
   "mimetype": "text/x-python",
   "name": "python",
   "nbconvert_exporter": "python",
   "pygments_lexer": "ipython3",
   "version": "3.6.0"
  }
 },
 "nbformat": 4,
 "nbformat_minor": 2
}
