{
 "cells": [
  {
   "cell_type": "markdown",
   "metadata": {},
   "source": [
    "### pymysql操作数据库步骤"
   ]
  },
  {
   "cell_type": "code",
   "execution_count": null,
   "metadata": {},
   "outputs": [],
   "source": [
    "# 查询数据\n",
    "import pymysql\n",
    "\n",
    "if __name__ == '__main__':\n",
    "    # 1 建立连接            服务器IP,端口,用户名,密码,数据库名,通信采用的字符集\n",
    "    conn = pymysql.connect(host='127.0.0.1',port=3306,user='root',password='mysql',\n",
    "                    database='py28',charset='utf8')\n",
    "    # 2 通过连接对象获取游标对象\n",
    "    cur = conn.cursor()\n",
    "\n",
    "    # 3 通过游标执行execute SQL 语句   execute参数是需要执行的ＳＱＬ语句　返回值是ＳＱＬ影响的行数\n",
    "    sql = \"select * from hero;\"\n",
    "    row_count = cur.execute(sql)\n",
    "    print(\"影响的行数有%s\" % row_count)\n",
    "\n",
    "    # 4 通过游标取出数据\n",
    "    # 4.1 一次性获取全部数据　((一行数据),...) 取完返回()\n",
    "    # print(cur.fetchall())\n",
    "    # print(cur.fetchall())\n",
    "\n",
    "    # 4.1 一行一行数据的获取　(一行数据)　　取完返回None\n",
    "    print(cur.fetchone()[1])\n",
    "\n",
    "    # 5 先关闭游标 关闭连接\n",
    "    cur.close()\n",
    "    conn.close()\n"
   ]
  },
  {
   "cell_type": "code",
   "execution_count": null,
   "metadata": {},
   "outputs": [],
   "source": [
    "# 修改数据\n",
    "import pymysql\n",
    "\n",
    "if __name__ == '__main__':\n",
    "    # 1 建立连接\n",
    "    conn = pymysql.connect(host='localhost', port=3306, user='root', password='mysql',\n",
    "                    db='py28', charset='utf8')\n",
    "    # 2 创建游标\n",
    "    cur = conn.cursor()\n",
    "\n",
    "    # 3 使用游标执行ＳＱＬ\n",
    "    # sql = \"update hero set gongfuid = 3000 where id = 4\";\n",
    "    # sql = \"insert into hero(name,gongfuid) VALUES ('墨子', 200),('韩信',100)\"\n",
    "    sql = \"delete from hero where id = 2;\"\n",
    "    row_count = cur.execute(sql)   # 执行ＳＱＬ语句\n",
    "    print(\"ＳＱＬ影响的行数%s\" % row_count)\n",
    "\n",
    "    # 4 获取结果/提交修改　　保存到数据库\n",
    "    conn.commit()\n",
    "\n",
    "    # 5 关闭连接\n",
    "    cur.close()\n",
    "    conn.close()"
   ]
  },
  {
   "cell_type": "code",
   "execution_count": null,
   "metadata": {},
   "outputs": [],
   "source": [
    "import pymysql\n",
    "\n",
    "if __name__ == '__main__':\n",
    "    # 1 建立连接\n",
    "    conn = pymysql.connect(host='localhost', port=3306, user='root', password='mysql',\n",
    "                    db='py28', charset='utf8')\n",
    "    # 2 创建游标\n",
    "    cur = conn.cursor()\n",
    "\n",
    "    # 3 使用游标执行ＳＱＬ\n",
    "    # sql = \"update hero set gongfuid = 3000 where id = 4\";\n",
    "    # sql = \"insert into hero(name,gongfuid) VALUES ('墨子', 200),('韩信',100)\"\n",
    "    # sql = \"delete from hero where id = 2;\"\n",
    "    id = input(\"请输入你需要查看的英雄id：\")\n",
    "    name = input(\"请输入你需要查看的英雄名字：\")\n",
    "\n",
    "    # sql = \"select * from hero where id='%s' and name='%s'\" % (id,name)\n",
    "    # sql = \"select * from hero where id='1' and name='妲己'\"\n",
    "    # sql = \"select * from hero where id='1'＃ and name='妲己'\"\n",
    "    # sql = \"select * from hero where id='1' or 1=1 ＃ and name='妲己'\"\n",
    "    sql = \"select * from hero where id=%s and name=%s\"  #　参数化列表的情况下占位符只能是%s 左右不需要'\n",
    "\n",
    "    row_count = cur.execute(sql, [id,name])   # 执行ＳＱＬ语句\n",
    "    # select * from hero where id='1\\' or 1=1 #' and name='fajdlfkdas'\n",
    "    print(cur.mogrify(sql, [id,name]))\n",
    "    print(\"ＳＱＬ影响的行数%s\" % row_count)\n",
    "\n",
    "    # 4 获取结果/提交修改　　保存到数据库\n",
    "    # conn.commit()\n",
    "    print(cur.fetchall())\n",
    "    # 5 关闭连接\n",
    "    cur.close()\n",
    "    conn.close()"
   ]
  }
 ],
 "metadata": {
  "kernelspec": {
   "display_name": "Python 3",
   "language": "python",
   "name": "python3"
  },
  "language_info": {
   "codemirror_mode": {
    "name": "ipython",
    "version": 3
   },
   "file_extension": ".py",
   "mimetype": "text/x-python",
   "name": "python",
   "nbconvert_exporter": "python",
   "pygments_lexer": "ipython3",
   "version": "3.6.0"
  }
 },
 "nbformat": 4,
 "nbformat_minor": 2
}
