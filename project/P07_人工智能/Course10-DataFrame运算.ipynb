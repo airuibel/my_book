{
 "cells": [
  {
   "cell_type": "markdown",
   "metadata": {},
   "source": [
    "课程介绍\n",
    "\n",
    "pandas \n",
    "\n",
    "基本操作\n",
    "\n",
    "​\t 数据运算\n",
    "\n",
    "​\t画图\n",
    "\n",
    "​\t文件读取\n",
    "\n",
    "高级处理\n",
    "\n",
    "​\t缺失值处理\n",
    "\n",
    "​\t数据离散化\n",
    "\n",
    "​\t合并\n",
    "\n",
    "​\t交叉表透视表\n",
    "\n",
    "​\t分组聚合\n",
    "\n",
    "案例\n",
    "\n",
    "第三天汇总\n",
    "\n",
    "# 5.4 DataFrame运算\n",
    "\n",
    "## 1 算术运算\n",
    "\n",
    "对象[]+1\n",
    "\n",
    "对象[].add()\n",
    "\n",
    "对象[]-1\n",
    "\n",
    "对象[].sub()\n",
    "\n",
    "## 2 逻辑运算\n",
    "\n",
    "Bool索引\n",
    "\n",
    "对象[对象[]>23 & 对象[]<24]\n",
    "\n",
    "\n",
    "\n",
    "### 2.2 逻辑运算函数\n",
    "\n",
    "- query(expr)\n",
    "  - expr:查询字符串\n",
    "\n",
    "对象.query(字符串)\n",
    "\n",
    "isin([,])\n",
    "\n",
    "## 3 统计运算\n",
    "\n",
    "### 3.1 describe\n",
    "\n",
    "描述\n",
    "\n",
    "### 3.2 统计函数\n",
    "\n",
    "mode 众数\n",
    "\n",
    "idxmax  最大值索引  argmax 最大值下标\n",
    "\n",
    "idxmin  最小值索引  argmin 最小值下标\n",
    "\n",
    "axis 轴向\n",
    "\n",
    "### 3.3 累计统计函数\n",
    "\n",
    "cum+sum  累积前i 个和\n",
    "\n",
    "## 4 自定义运算\n",
    "\n",
    "对象.apply(func,axis = 0)\n",
    "\n",
    "def func():\n",
    "\n",
    "​\t执行内容\n",
    "\n",
    "​\treturn\n",
    "\n",
    "对象.apply(lambda x:)\n",
    "\n",
    "# 5.5 Pandas画图\n",
    "\n",
    "## 1 pandas.DataFrame.plot\n",
    "\n",
    "`DataFrame.plot`(*kind='line'*)\n",
    "\n",
    "line  default   折线图\n",
    "\n",
    "​\tbar   柱状图\n",
    "\n",
    "​\tpie  饼图\n",
    "\n",
    "​\thist  直方图\n",
    "\n",
    "​\tscatter  散点图\n",
    "\n",
    "​    barh  ‘barh’ : horizontal bar plot\n",
    "\n",
    "# 5.6 文件读取与存储\n",
    "\n",
    "## 1 CSV\n",
    "\n",
    "### 1.1 read_csv\n",
    "\n",
    "pandas.read_csv(filepath_or_buffer, sep =',', usecols )\n",
    "\n",
    "- filepath_or_buffer:文件路径\n",
    "- sep :分隔符，默认用\",\"隔开\n",
    "- usecols:指定读取的列名，列表形式\n",
    "\n",
    "### 1.2 to_csv\n",
    "\n",
    "对象.to_csv(''路径 ,columns =[],header = False  ,index =, mode= \"W\")\n",
    "\n",
    "- path_or_buf :文件路径\n",
    "- sep :分隔符，默认用\",\"隔开\n",
    "- columns :选择需要的列索引\n",
    "- header :boolean or list of string, default True,是否写进列索引值\n",
    "- index:是否写进行索引\n",
    "- mode:'w'：重写, 'a' 追加\n",
    "\n",
    "\n",
    "\n",
    "## 2 HDF5\n",
    "\n",
    "可以保存多表,通过key值读取\n",
    "\n",
    "+ pd.read_hdf('路径',key=)\n",
    "+ pd.to_hdf('路径',key= )\n",
    "\n",
    "**注意：优先选择使用HDF5文件存储**\n",
    "\n",
    "- HDF5在存储的时候支持压缩，**使用的方式是blosc，这个是速度最快**的也是pandas默认支持的\n",
    "- 使用压缩可以**提磁盘利用率，节省空间**\n",
    "- HDF5还是跨平台的，可以轻松迁移到hadoop 上面\n",
    "\n",
    "## 3 JSON\n",
    "\n",
    "+ read_json\n",
    "+ to_json \n",
    "\n",
    "### 3.1 read_json\n",
    "\n",
    "pandas.read_json(path_or_buf=None, orient=None, typ='frame', lines=False)\n",
    "\n",
    "- 将JSON格式准换成默认的Pandas DataFrame格式\n",
    "\n",
    "- orient : string,Indication of expected JSON string format.\n",
    "\n",
    "  - 'split' : dict like {index -> [index], columns -> [columns], data -> [values]}\n",
    "\n",
    "    - split 将索引总结到索引，列名到列名，数据到数据。将三部分都分开了\n",
    "\n",
    "  - **'records' **: list like [{column -> value}, ... , {column -> value}]\n",
    "\n",
    "    - records 以`columns：values`的形式输出\n",
    "\n",
    "  - 'index' : dict like {index -> {column -> value}}\n",
    "\n",
    "    - index 以`index：{columns：values}...`的形式输出\n",
    "\n",
    "  - 'columns' : dict like {column -> {index -> value}}\n",
    "\n",
    "    ,默认该格式\n",
    "\n",
    "    - colums 以`columns:{index:values}`的形式输出\n",
    "\n",
    "  - 'values' : just the values array\n",
    "\n",
    "    - values 直接输出值\n",
    "\n",
    "- lines : boolean, default False\n",
    "\n",
    "  - 按照每行读取json对象\n",
    "\n",
    "- typ : default ‘frame’， 指定转换成的对象类型series或者dataframe\n",
    "\n",
    "### 3.3 to_json\n",
    "\n",
    "DataFrame.to_json(*path_or_buf=None**orient=None**lines=False*\n",
    "\n",
    "- 将Pandas 对象存储为json格式\n",
    "- *path_or_buf=None*：文件地址\n",
    "- orient:存储的json形式，{‘split’,’records’,’index’,’columns’,’values’}\n",
    "- lines:一个对象存储为一行\n",
    "\n",
    "# 5.7 高级处理-缺失值处理\n",
    "\n",
    "1. 获取数据\n",
    "2. 数据基本处理\n",
    "   1. 缺失值\n",
    "3. 特征工程\n",
    "4. 建立模型\n",
    "5. 模型评估\n",
    "\n",
    "处理\n",
    "\n",
    "\t1. 删除\n",
    " \t2. 补差\n",
    "\n",
    "处理过程\n",
    "\n",
    "\t1. \n",
    "\n",
    "什么是缺失值\n",
    "\n",
    "np.nan\n",
    "\n",
    "## 1 如何处理nan\n",
    "\n",
    "1. 判断是否有缺失值\n",
    "\n",
    "   pd.isnull(对象)\n",
    "\n",
    "   pd.notnull(对象)\n",
    "\n",
    "   结合np.any   np.all 使用\n",
    "\n",
    "2. 处理缺失值\n",
    "\n",
    "   2.1 删除(数据多)\n",
    "\n",
    "   ​\t对象.dropna()\n",
    "\n",
    "   2.2 补空(数据少)\n",
    "\n",
    "      对象.fillna(mean,inplace= )\n",
    "\n",
    "   ​\tinplace 是否替代原值   默认False \n",
    "\n",
    "3. 如果缺失值是别的符合\"?\"\n",
    "\n",
    "   1. 将缺失值替代成nan\n",
    "\n",
    "      df.replace(to_replace=, value=)\n",
    "\n",
    "      - to_replace:替换前的值\n",
    "      - value:替换后的值\n",
    "\n",
    "# 5.8 高级处理-数据离散化\n",
    "\n",
    "## 2 什么是数据的离散化\n",
    "\n",
    "\n",
    "\n",
    "1.   将连续数值 分成若干区间\n",
    "2. **用不同的符号或整数** **值代表落在每个子区间中的属性值。**\n",
    "\n",
    "## 1 为什么要离散化\n",
    "\n",
    "1. 减少连续数值的个数\n",
    "2. 算法需要\n",
    "\n",
    "## 3 股票的涨跌幅离散化\n",
    "\n",
    "1. pd.qcut(data,q)\n",
    "\n",
    "   q   离散化成几份\n",
    "\n",
    "   对象.value_counts()\n",
    "\n",
    "2. **pd.cut(data,bins=)**\n",
    "\n",
    "   bins 自定义组距\n",
    "\n",
    "### 3.3 股票涨跌幅分组数据变成one-hot编码\n",
    "\n",
    "别名: 热编码或者哑变量\n",
    "\n",
    "将数据类别转成哑变量(00000100000)样式\n",
    "\n",
    "1. 为什么one- hot  编码\n",
    "\n",
    "   避免计算误解\n",
    "\n",
    "   识别容易\n",
    "\n",
    "2. 如何执行one-hot编码\n",
    "\n",
    "   pd.get_dummies(data,prefix =)\n",
    "\n",
    "   prefix  : 别名\n",
    "\n",
    "# 5.9 高级处理-合并\n",
    "\n",
    "1. concat \n",
    "2. merge\n",
    "\n",
    "## 1 pd.concat实现数据合并\n",
    "\n",
    "pd.concat([data1, data2],axis= )\n",
    "\n",
    "轴\n",
    "\n",
    "## 2 pd.merge\n",
    "\n",
    "pd.merge(left ,right, how, on=)\n",
    "\n",
    "how   \n",
    "\n",
    " left  \n",
    "\n",
    "right \n",
    "\n",
    "inner\n",
    "\n",
    " outer\n",
    "\n",
    "On  根据哪一个值\n",
    "\n",
    "# 5.10 高级处理-交叉表与透视表\n",
    "\n",
    "A     B   \n",
    "\n",
    "**探究股票的涨跌与星期几有关**\n",
    "\n",
    "A  : 星期几\n",
    "\n",
    "B  股票涨跌\n",
    "\n",
    "**交叉表:**\n",
    "\n",
    " 统计B列根据A列进行统计(个数)\n",
    "\n",
    "pd.crosstab(value1, value2)\n",
    "\n",
    "**透视表:**\n",
    "\n",
    " 统计B列根据A列进行统计(比例)\n",
    "\n",
    "对象.pivot_table(B,index =A)\n",
    "\n",
    "# 5.11 高级处理-分组与聚合\n",
    "\n",
    "## 1 什么分组与聚合\n",
    "\n",
    "注意:必须一起使用\n",
    "\n",
    "统计星巴克根据国家统计店铺数\n",
    "\n",
    "1. 根据国家分组\n",
    "2. 计算count\n",
    "\n",
    "## 2 分组API\n",
    "\n",
    "对象.groupby(key,as_index=Falese)\n",
    "\n",
    "as_index 是否将key作为索引\n",
    "\n",
    "默认True\n",
    "\n"
   ]
  },
  {
   "cell_type": "code",
   "execution_count": 100,
   "metadata": {},
   "outputs": [],
   "source": [
    "import pandas as pd\n",
    "import numpy as np"
   ]
  },
  {
   "cell_type": "code",
   "execution_count": 101,
   "metadata": {},
   "outputs": [],
   "source": [
    "data = pd.read_csv(\"./data/stock_day.csv\")"
   ]
  },
  {
   "cell_type": "code",
   "execution_count": 103,
   "metadata": {},
   "outputs": [
    {
     "data": {
      "text/plain": [
       "2018-02-27    24.53\n",
       "2018-02-26    23.80\n",
       "2018-02-23    23.88\n",
       "2018-02-22    23.25\n",
       "2018-02-14    22.49\n",
       "Name: open, dtype: float64"
      ]
     },
     "execution_count": 103,
     "metadata": {},
     "output_type": "execute_result"
    }
   ],
   "source": [
    "# 算数运算\n",
    "data['open'].add(1).head()"
   ]
  },
  {
   "cell_type": "code",
   "execution_count": null,
   "metadata": {},
   "outputs": [],
   "source": [
    "# 逻辑运算\n",
    "# 例如筛选data[\"open\"] > 23的日期数据"
   ]
  },
  {
   "cell_type": "code",
   "execution_count": 105,
   "metadata": {},
   "outputs": [
    {
     "data": {
      "text/plain": [
       "2018-02-27     True\n",
       "2018-02-26    False\n",
       "2018-02-23    False\n",
       "2018-02-22    False\n",
       "2018-02-14    False\n",
       "Name: open, dtype: bool"
      ]
     },
     "execution_count": 105,
     "metadata": {},
     "output_type": "execute_result"
    }
   ],
   "source": [
    "(data['open'] > 23).head()"
   ]
  },
  {
   "cell_type": "code",
   "execution_count": 107,
   "metadata": {},
   "outputs": [
    {
     "data": {
      "text/html": [
       "<div>\n",
       "<style scoped>\n",
       "    .dataframe tbody tr th:only-of-type {\n",
       "        vertical-align: middle;\n",
       "    }\n",
       "\n",
       "    .dataframe tbody tr th {\n",
       "        vertical-align: top;\n",
       "    }\n",
       "\n",
       "    .dataframe thead th {\n",
       "        text-align: right;\n",
       "    }\n",
       "</style>\n",
       "<table border=\"1\" class=\"dataframe\">\n",
       "  <thead>\n",
       "    <tr style=\"text-align: right;\">\n",
       "      <th></th>\n",
       "      <th>open</th>\n",
       "      <th>high</th>\n",
       "      <th>close</th>\n",
       "      <th>low</th>\n",
       "      <th>volume</th>\n",
       "      <th>price_change</th>\n",
       "      <th>p_change</th>\n",
       "      <th>ma5</th>\n",
       "      <th>ma10</th>\n",
       "      <th>ma20</th>\n",
       "      <th>v_ma5</th>\n",
       "      <th>v_ma10</th>\n",
       "      <th>v_ma20</th>\n",
       "      <th>turnover</th>\n",
       "    </tr>\n",
       "  </thead>\n",
       "  <tbody>\n",
       "    <tr>\n",
       "      <th>2018-02-27</th>\n",
       "      <td>23.53</td>\n",
       "      <td>25.88</td>\n",
       "      <td>24.16</td>\n",
       "      <td>23.53</td>\n",
       "      <td>95578.03</td>\n",
       "      <td>0.63</td>\n",
       "      <td>2.68</td>\n",
       "      <td>22.942</td>\n",
       "      <td>22.142</td>\n",
       "      <td>22.875</td>\n",
       "      <td>53782.64</td>\n",
       "      <td>46738.65</td>\n",
       "      <td>55576.11</td>\n",
       "      <td>2.39</td>\n",
       "    </tr>\n",
       "    <tr>\n",
       "      <th>2018-02-01</th>\n",
       "      <td>23.71</td>\n",
       "      <td>23.86</td>\n",
       "      <td>22.42</td>\n",
       "      <td>22.22</td>\n",
       "      <td>66414.64</td>\n",
       "      <td>-1.30</td>\n",
       "      <td>-5.48</td>\n",
       "      <td>23.646</td>\n",
       "      <td>24.365</td>\n",
       "      <td>24.279</td>\n",
       "      <td>52812.35</td>\n",
       "      <td>80394.43</td>\n",
       "      <td>88480.92</td>\n",
       "      <td>1.66</td>\n",
       "    </tr>\n",
       "    <tr>\n",
       "      <th>2018-01-31</th>\n",
       "      <td>23.85</td>\n",
       "      <td>23.98</td>\n",
       "      <td>23.72</td>\n",
       "      <td>23.31</td>\n",
       "      <td>49155.02</td>\n",
       "      <td>-0.11</td>\n",
       "      <td>-0.46</td>\n",
       "      <td>24.036</td>\n",
       "      <td>24.583</td>\n",
       "      <td>24.411</td>\n",
       "      <td>60348.94</td>\n",
       "      <td>80496.48</td>\n",
       "      <td>91666.75</td>\n",
       "      <td>1.23</td>\n",
       "    </tr>\n",
       "    <tr>\n",
       "      <th>2018-01-30</th>\n",
       "      <td>23.71</td>\n",
       "      <td>24.08</td>\n",
       "      <td>23.83</td>\n",
       "      <td>23.70</td>\n",
       "      <td>32420.43</td>\n",
       "      <td>0.05</td>\n",
       "      <td>0.21</td>\n",
       "      <td>24.350</td>\n",
       "      <td>24.671</td>\n",
       "      <td>24.365</td>\n",
       "      <td>77485.53</td>\n",
       "      <td>84805.23</td>\n",
       "      <td>92943.35</td>\n",
       "      <td>0.81</td>\n",
       "    </tr>\n",
       "    <tr>\n",
       "      <th>2018-01-16</th>\n",
       "      <td>23.40</td>\n",
       "      <td>24.60</td>\n",
       "      <td>24.40</td>\n",
       "      <td>23.30</td>\n",
       "      <td>101295.42</td>\n",
       "      <td>0.96</td>\n",
       "      <td>4.10</td>\n",
       "      <td>23.908</td>\n",
       "      <td>24.058</td>\n",
       "      <td>23.321</td>\n",
       "      <td>82003.73</td>\n",
       "      <td>101081.47</td>\n",
       "      <td>74590.92</td>\n",
       "      <td>2.54</td>\n",
       "    </tr>\n",
       "  </tbody>\n",
       "</table>\n",
       "</div>"
      ],
      "text/plain": [
       "             open   high  close    low     volume  price_change  p_change  \\\n",
       "2018-02-27  23.53  25.88  24.16  23.53   95578.03          0.63      2.68   \n",
       "2018-02-01  23.71  23.86  22.42  22.22   66414.64         -1.30     -5.48   \n",
       "2018-01-31  23.85  23.98  23.72  23.31   49155.02         -0.11     -0.46   \n",
       "2018-01-30  23.71  24.08  23.83  23.70   32420.43          0.05      0.21   \n",
       "2018-01-16  23.40  24.60  24.40  23.30  101295.42          0.96      4.10   \n",
       "\n",
       "               ma5    ma10    ma20     v_ma5     v_ma10    v_ma20  turnover  \n",
       "2018-02-27  22.942  22.142  22.875  53782.64   46738.65  55576.11      2.39  \n",
       "2018-02-01  23.646  24.365  24.279  52812.35   80394.43  88480.92      1.66  \n",
       "2018-01-31  24.036  24.583  24.411  60348.94   80496.48  91666.75      1.23  \n",
       "2018-01-30  24.350  24.671  24.365  77485.53   84805.23  92943.35      0.81  \n",
       "2018-01-16  23.908  24.058  23.321  82003.73  101081.47  74590.92      2.54  "
      ]
     },
     "execution_count": 107,
     "metadata": {},
     "output_type": "execute_result"
    }
   ],
   "source": [
    "# 完成多个逻辑判断\n",
    "data[(data['open'] >23) & (data['open'] <24)].head()"
   ]
  },
  {
   "cell_type": "code",
   "execution_count": null,
   "metadata": {},
   "outputs": [],
   "source": [
    "# 逻辑运算函数\n",
    "# query(expr)\n",
    "# expr:查询字符串"
   ]
  },
  {
   "cell_type": "code",
   "execution_count": 108,
   "metadata": {},
   "outputs": [
    {
     "data": {
      "text/html": [
       "<div>\n",
       "<style scoped>\n",
       "    .dataframe tbody tr th:only-of-type {\n",
       "        vertical-align: middle;\n",
       "    }\n",
       "\n",
       "    .dataframe tbody tr th {\n",
       "        vertical-align: top;\n",
       "    }\n",
       "\n",
       "    .dataframe thead th {\n",
       "        text-align: right;\n",
       "    }\n",
       "</style>\n",
       "<table border=\"1\" class=\"dataframe\">\n",
       "  <thead>\n",
       "    <tr style=\"text-align: right;\">\n",
       "      <th></th>\n",
       "      <th>open</th>\n",
       "      <th>high</th>\n",
       "      <th>close</th>\n",
       "      <th>low</th>\n",
       "      <th>volume</th>\n",
       "      <th>price_change</th>\n",
       "      <th>p_change</th>\n",
       "      <th>ma5</th>\n",
       "      <th>ma10</th>\n",
       "      <th>ma20</th>\n",
       "      <th>v_ma5</th>\n",
       "      <th>v_ma10</th>\n",
       "      <th>v_ma20</th>\n",
       "      <th>turnover</th>\n",
       "    </tr>\n",
       "  </thead>\n",
       "  <tbody>\n",
       "    <tr>\n",
       "      <th>2018-02-27</th>\n",
       "      <td>23.53</td>\n",
       "      <td>25.88</td>\n",
       "      <td>24.16</td>\n",
       "      <td>23.53</td>\n",
       "      <td>95578.03</td>\n",
       "      <td>0.63</td>\n",
       "      <td>2.68</td>\n",
       "      <td>22.942</td>\n",
       "      <td>22.142</td>\n",
       "      <td>22.875</td>\n",
       "      <td>53782.64</td>\n",
       "      <td>46738.65</td>\n",
       "      <td>55576.11</td>\n",
       "      <td>2.39</td>\n",
       "    </tr>\n",
       "    <tr>\n",
       "      <th>2018-02-01</th>\n",
       "      <td>23.71</td>\n",
       "      <td>23.86</td>\n",
       "      <td>22.42</td>\n",
       "      <td>22.22</td>\n",
       "      <td>66414.64</td>\n",
       "      <td>-1.30</td>\n",
       "      <td>-5.48</td>\n",
       "      <td>23.646</td>\n",
       "      <td>24.365</td>\n",
       "      <td>24.279</td>\n",
       "      <td>52812.35</td>\n",
       "      <td>80394.43</td>\n",
       "      <td>88480.92</td>\n",
       "      <td>1.66</td>\n",
       "    </tr>\n",
       "    <tr>\n",
       "      <th>2018-01-31</th>\n",
       "      <td>23.85</td>\n",
       "      <td>23.98</td>\n",
       "      <td>23.72</td>\n",
       "      <td>23.31</td>\n",
       "      <td>49155.02</td>\n",
       "      <td>-0.11</td>\n",
       "      <td>-0.46</td>\n",
       "      <td>24.036</td>\n",
       "      <td>24.583</td>\n",
       "      <td>24.411</td>\n",
       "      <td>60348.94</td>\n",
       "      <td>80496.48</td>\n",
       "      <td>91666.75</td>\n",
       "      <td>1.23</td>\n",
       "    </tr>\n",
       "    <tr>\n",
       "      <th>2018-01-30</th>\n",
       "      <td>23.71</td>\n",
       "      <td>24.08</td>\n",
       "      <td>23.83</td>\n",
       "      <td>23.70</td>\n",
       "      <td>32420.43</td>\n",
       "      <td>0.05</td>\n",
       "      <td>0.21</td>\n",
       "      <td>24.350</td>\n",
       "      <td>24.671</td>\n",
       "      <td>24.365</td>\n",
       "      <td>77485.53</td>\n",
       "      <td>84805.23</td>\n",
       "      <td>92943.35</td>\n",
       "      <td>0.81</td>\n",
       "    </tr>\n",
       "    <tr>\n",
       "      <th>2018-01-16</th>\n",
       "      <td>23.40</td>\n",
       "      <td>24.60</td>\n",
       "      <td>24.40</td>\n",
       "      <td>23.30</td>\n",
       "      <td>101295.42</td>\n",
       "      <td>0.96</td>\n",
       "      <td>4.10</td>\n",
       "      <td>23.908</td>\n",
       "      <td>24.058</td>\n",
       "      <td>23.321</td>\n",
       "      <td>82003.73</td>\n",
       "      <td>101081.47</td>\n",
       "      <td>74590.92</td>\n",
       "      <td>2.54</td>\n",
       "    </tr>\n",
       "  </tbody>\n",
       "</table>\n",
       "</div>"
      ],
      "text/plain": [
       "             open   high  close    low     volume  price_change  p_change  \\\n",
       "2018-02-27  23.53  25.88  24.16  23.53   95578.03          0.63      2.68   \n",
       "2018-02-01  23.71  23.86  22.42  22.22   66414.64         -1.30     -5.48   \n",
       "2018-01-31  23.85  23.98  23.72  23.31   49155.02         -0.11     -0.46   \n",
       "2018-01-30  23.71  24.08  23.83  23.70   32420.43          0.05      0.21   \n",
       "2018-01-16  23.40  24.60  24.40  23.30  101295.42          0.96      4.10   \n",
       "\n",
       "               ma5    ma10    ma20     v_ma5     v_ma10    v_ma20  turnover  \n",
       "2018-02-27  22.942  22.142  22.875  53782.64   46738.65  55576.11      2.39  \n",
       "2018-02-01  23.646  24.365  24.279  52812.35   80394.43  88480.92      1.66  \n",
       "2018-01-31  24.036  24.583  24.411  60348.94   80496.48  91666.75      1.23  \n",
       "2018-01-30  24.350  24.671  24.365  77485.53   84805.23  92943.35      0.81  \n",
       "2018-01-16  23.908  24.058  23.321  82003.73  101081.47  74590.92      2.54  "
      ]
     },
     "execution_count": 108,
     "metadata": {},
     "output_type": "execute_result"
    }
   ],
   "source": [
    "# 通过query使得刚才的过程更加方便\n",
    "data.query(\"open<24 & open>23\").head()"
   ]
  },
  {
   "cell_type": "markdown",
   "metadata": {},
   "source": [
    "# 统计运算"
   ]
  },
  {
   "cell_type": "code",
   "execution_count": 109,
   "metadata": {},
   "outputs": [
    {
     "data": {
      "text/html": [
       "<div>\n",
       "<style scoped>\n",
       "    .dataframe tbody tr th:only-of-type {\n",
       "        vertical-align: middle;\n",
       "    }\n",
       "\n",
       "    .dataframe tbody tr th {\n",
       "        vertical-align: top;\n",
       "    }\n",
       "\n",
       "    .dataframe thead th {\n",
       "        text-align: right;\n",
       "    }\n",
       "</style>\n",
       "<table border=\"1\" class=\"dataframe\">\n",
       "  <thead>\n",
       "    <tr style=\"text-align: right;\">\n",
       "      <th></th>\n",
       "      <th>open</th>\n",
       "      <th>high</th>\n",
       "      <th>close</th>\n",
       "      <th>low</th>\n",
       "      <th>volume</th>\n",
       "      <th>price_change</th>\n",
       "      <th>p_change</th>\n",
       "      <th>ma5</th>\n",
       "      <th>ma10</th>\n",
       "      <th>ma20</th>\n",
       "      <th>v_ma5</th>\n",
       "      <th>v_ma10</th>\n",
       "      <th>v_ma20</th>\n",
       "      <th>turnover</th>\n",
       "    </tr>\n",
       "  </thead>\n",
       "  <tbody>\n",
       "    <tr>\n",
       "      <th>count</th>\n",
       "      <td>643.000000</td>\n",
       "      <td>643.000000</td>\n",
       "      <td>643.000000</td>\n",
       "      <td>643.000000</td>\n",
       "      <td>643.000000</td>\n",
       "      <td>643.000000</td>\n",
       "      <td>643.000000</td>\n",
       "      <td>643.000000</td>\n",
       "      <td>643.000000</td>\n",
       "      <td>643.000000</td>\n",
       "      <td>643.000000</td>\n",
       "      <td>643.000000</td>\n",
       "      <td>643.000000</td>\n",
       "      <td>643.000000</td>\n",
       "    </tr>\n",
       "    <tr>\n",
       "      <th>mean</th>\n",
       "      <td>21.272706</td>\n",
       "      <td>21.900513</td>\n",
       "      <td>21.336267</td>\n",
       "      <td>20.771835</td>\n",
       "      <td>99905.519114</td>\n",
       "      <td>0.018802</td>\n",
       "      <td>0.190280</td>\n",
       "      <td>21.302362</td>\n",
       "      <td>21.267656</td>\n",
       "      <td>21.200946</td>\n",
       "      <td>100008.642691</td>\n",
       "      <td>100287.542177</td>\n",
       "      <td>100797.518398</td>\n",
       "      <td>2.936190</td>\n",
       "    </tr>\n",
       "    <tr>\n",
       "      <th>std</th>\n",
       "      <td>3.930973</td>\n",
       "      <td>4.077578</td>\n",
       "      <td>3.942806</td>\n",
       "      <td>3.791968</td>\n",
       "      <td>73879.119354</td>\n",
       "      <td>0.898476</td>\n",
       "      <td>4.079698</td>\n",
       "      <td>3.880640</td>\n",
       "      <td>3.813602</td>\n",
       "      <td>3.686186</td>\n",
       "      <td>62761.578326</td>\n",
       "      <td>56759.082060</td>\n",
       "      <td>50101.575639</td>\n",
       "      <td>2.079375</td>\n",
       "    </tr>\n",
       "    <tr>\n",
       "      <th>min</th>\n",
       "      <td>12.250000</td>\n",
       "      <td>12.670000</td>\n",
       "      <td>12.360000</td>\n",
       "      <td>12.200000</td>\n",
       "      <td>1158.120000</td>\n",
       "      <td>-3.520000</td>\n",
       "      <td>-10.030000</td>\n",
       "      <td>12.520000</td>\n",
       "      <td>12.520000</td>\n",
       "      <td>12.520000</td>\n",
       "      <td>10804.740000</td>\n",
       "      <td>19130.510000</td>\n",
       "      <td>23311.000000</td>\n",
       "      <td>0.040000</td>\n",
       "    </tr>\n",
       "    <tr>\n",
       "      <th>25%</th>\n",
       "      <td>19.000000</td>\n",
       "      <td>19.500000</td>\n",
       "      <td>19.045000</td>\n",
       "      <td>18.525000</td>\n",
       "      <td>48533.210000</td>\n",
       "      <td>-0.390000</td>\n",
       "      <td>-1.850000</td>\n",
       "      <td>18.990000</td>\n",
       "      <td>19.102000</td>\n",
       "      <td>19.275000</td>\n",
       "      <td>55794.985000</td>\n",
       "      <td>59861.955000</td>\n",
       "      <td>64103.675000</td>\n",
       "      <td>1.360000</td>\n",
       "    </tr>\n",
       "    <tr>\n",
       "      <th>50%</th>\n",
       "      <td>21.440000</td>\n",
       "      <td>21.970000</td>\n",
       "      <td>21.450000</td>\n",
       "      <td>20.980000</td>\n",
       "      <td>83175.930000</td>\n",
       "      <td>0.050000</td>\n",
       "      <td>0.260000</td>\n",
       "      <td>21.504000</td>\n",
       "      <td>21.623000</td>\n",
       "      <td>21.530000</td>\n",
       "      <td>86133.330000</td>\n",
       "      <td>89234.970000</td>\n",
       "      <td>96291.730000</td>\n",
       "      <td>2.500000</td>\n",
       "    </tr>\n",
       "    <tr>\n",
       "      <th>75%</th>\n",
       "      <td>23.400000</td>\n",
       "      <td>24.065000</td>\n",
       "      <td>23.415000</td>\n",
       "      <td>22.850000</td>\n",
       "      <td>127580.055000</td>\n",
       "      <td>0.455000</td>\n",
       "      <td>2.305000</td>\n",
       "      <td>23.318000</td>\n",
       "      <td>23.098500</td>\n",
       "      <td>23.136000</td>\n",
       "      <td>127655.655000</td>\n",
       "      <td>124693.255000</td>\n",
       "      <td>124001.015000</td>\n",
       "      <td>3.915000</td>\n",
       "    </tr>\n",
       "    <tr>\n",
       "      <th>max</th>\n",
       "      <td>34.990000</td>\n",
       "      <td>36.350000</td>\n",
       "      <td>35.210000</td>\n",
       "      <td>34.010000</td>\n",
       "      <td>501915.410000</td>\n",
       "      <td>3.030000</td>\n",
       "      <td>10.030000</td>\n",
       "      <td>33.696000</td>\n",
       "      <td>32.186000</td>\n",
       "      <td>29.998000</td>\n",
       "      <td>404443.540000</td>\n",
       "      <td>360028.160000</td>\n",
       "      <td>269280.790000</td>\n",
       "      <td>12.560000</td>\n",
       "    </tr>\n",
       "  </tbody>\n",
       "</table>\n",
       "</div>"
      ],
      "text/plain": [
       "             open        high       close         low         volume  \\\n",
       "count  643.000000  643.000000  643.000000  643.000000     643.000000   \n",
       "mean    21.272706   21.900513   21.336267   20.771835   99905.519114   \n",
       "std      3.930973    4.077578    3.942806    3.791968   73879.119354   \n",
       "min     12.250000   12.670000   12.360000   12.200000    1158.120000   \n",
       "25%     19.000000   19.500000   19.045000   18.525000   48533.210000   \n",
       "50%     21.440000   21.970000   21.450000   20.980000   83175.930000   \n",
       "75%     23.400000   24.065000   23.415000   22.850000  127580.055000   \n",
       "max     34.990000   36.350000   35.210000   34.010000  501915.410000   \n",
       "\n",
       "       price_change    p_change         ma5        ma10        ma20  \\\n",
       "count    643.000000  643.000000  643.000000  643.000000  643.000000   \n",
       "mean       0.018802    0.190280   21.302362   21.267656   21.200946   \n",
       "std        0.898476    4.079698    3.880640    3.813602    3.686186   \n",
       "min       -3.520000  -10.030000   12.520000   12.520000   12.520000   \n",
       "25%       -0.390000   -1.850000   18.990000   19.102000   19.275000   \n",
       "50%        0.050000    0.260000   21.504000   21.623000   21.530000   \n",
       "75%        0.455000    2.305000   23.318000   23.098500   23.136000   \n",
       "max        3.030000   10.030000   33.696000   32.186000   29.998000   \n",
       "\n",
       "               v_ma5         v_ma10         v_ma20    turnover  \n",
       "count     643.000000     643.000000     643.000000  643.000000  \n",
       "mean   100008.642691  100287.542177  100797.518398    2.936190  \n",
       "std     62761.578326   56759.082060   50101.575639    2.079375  \n",
       "min     10804.740000   19130.510000   23311.000000    0.040000  \n",
       "25%     55794.985000   59861.955000   64103.675000    1.360000  \n",
       "50%     86133.330000   89234.970000   96291.730000    2.500000  \n",
       "75%    127655.655000  124693.255000  124001.015000    3.915000  \n",
       "max    404443.540000  360028.160000  269280.790000   12.560000  "
      ]
     },
     "execution_count": 109,
     "metadata": {},
     "output_type": "execute_result"
    }
   ],
   "source": [
    "# 计算平均值，标准差，最大值，最小值\n",
    "data.describe()"
   ]
  },
  {
   "cell_type": "markdown",
   "metadata": {},
   "source": [
    "### 统计函数"
   ]
  },
  {
   "cell_type": "markdown",
   "metadata": {},
   "source": [
    "```\n",
    "count\tNumber of non-NA observations\n",
    "sum\tSum of values\n",
    "mean\tMean of values\n",
    "median\tArithmetic median of values\n",
    "min\tMinimum\n",
    "max\tMaximum\n",
    "mode\tMode\n",
    "abs\tAbsolute Value\n",
    "prod\tProduct of values\n",
    "std\tBessel-corrected sample standard deviation\n",
    "var\tUnbiased variance\n",
    "idxmax\tcompute the index labels with the maximum\n",
    "idxmin\tcompute the index labels with the minimum\n",
    "```"
   ]
  },
  {
   "cell_type": "code",
   "execution_count": 111,
   "metadata": {},
   "outputs": [
    {
     "data": {
      "text/plain": [
       "open                34.990\n",
       "high                36.350\n",
       "close               35.210\n",
       "low                 34.010\n",
       "volume          501915.410\n",
       "price_change         3.030\n",
       "p_change            10.030\n",
       "ma5                 33.696\n",
       "ma10                32.186\n",
       "ma20                29.998\n",
       "v_ma5           404443.540\n",
       "v_ma10          360028.160\n",
       "v_ma20          269280.790\n",
       "turnover            12.560\n",
       "dtype: float64"
      ]
     },
     "execution_count": 111,
     "metadata": {},
     "output_type": "execute_result"
    }
   ],
   "source": [
    "# 使用统计函数，0代表列求结果，1代表行求统计结果\n",
    "data.max(0)"
   ]
  },
  {
   "cell_type": "code",
   "execution_count": 112,
   "metadata": {},
   "outputs": [
    {
     "data": {
      "text/plain": [
       "open                3.930973\n",
       "high                4.077578\n",
       "close               3.942806\n",
       "low                 3.791968\n",
       "volume          73879.119354\n",
       "price_change        0.898476\n",
       "p_change            4.079698\n",
       "ma5                 3.880640\n",
       "ma10                3.813602\n",
       "ma20                3.686186\n",
       "v_ma5           62761.578326\n",
       "v_ma10          56759.082060\n",
       "v_ma20          50101.575639\n",
       "turnover            2.079375\n",
       "dtype: float64"
      ]
     },
     "execution_count": 112,
     "metadata": {},
     "output_type": "execute_result"
    }
   ],
   "source": [
    "# 标准差\n",
    "data.std(0)"
   ]
  },
  {
   "cell_type": "code",
   "execution_count": 113,
   "metadata": {},
   "outputs": [
    {
     "data": {
      "text/plain": [
       "open            1.545255e+01\n",
       "high            1.662665e+01\n",
       "close           1.554572e+01\n",
       "low             1.437902e+01\n",
       "volume          5.458124e+09\n",
       "price_change    8.072595e-01\n",
       "p_change        1.664394e+01\n",
       "ma5             1.505937e+01\n",
       "ma10            1.454356e+01\n",
       "ma20            1.358797e+01\n",
       "v_ma5           3.939016e+09\n",
       "v_ma10          3.221593e+09\n",
       "v_ma20          2.510168e+09\n",
       "turnover        4.323800e+00\n",
       "dtype: float64"
      ]
     },
     "execution_count": 113,
     "metadata": {},
     "output_type": "execute_result"
    }
   ],
   "source": [
    "# 方差\n",
    "data.var(0)"
   ]
  },
  {
   "cell_type": "code",
   "execution_count": 114,
   "metadata": {},
   "outputs": [
    {
     "data": {
      "text/plain": [
       "COL1    3.5\n",
       "COL2    2.0\n",
       "dtype: float64"
      ]
     },
     "execution_count": 114,
     "metadata": {},
     "output_type": "execute_result"
    }
   ],
   "source": [
    "# median():中位数\n",
    "\n",
    "df = pd.DataFrame({\"COL1\":[2,3,4,5,4,2],\n",
    "                  'COL2':[0,1,2,3,4,2]})\n",
    "df.median()"
   ]
  },
  {
   "cell_type": "code",
   "execution_count": 138,
   "metadata": {},
   "outputs": [
    {
     "data": {
      "text/plain": [
       "open            2015-03-02\n",
       "high            2015-03-02\n",
       "close           2015-09-02\n",
       "low             2015-03-02\n",
       "volume          2016-07-06\n",
       "price_change    2015-06-15\n",
       "p_change        2015-09-01\n",
       "ma5             2015-03-02\n",
       "ma10            2015-03-02\n",
       "ma20            2015-03-02\n",
       "v_ma5           2017-02-03\n",
       "v_ma10          2017-02-03\n",
       "v_ma20          2017-05-23\n",
       "turnover        2016-07-06\n",
       "dtype: object"
      ]
     },
     "execution_count": 138,
     "metadata": {},
     "output_type": "execute_result"
    }
   ],
   "source": [
    "data.idxmin()"
   ]
  },
  {
   "cell_type": "code",
   "execution_count": 118,
   "metadata": {},
   "outputs": [
    {
     "data": {
      "text/plain": [
       "'2015-06-15'"
      ]
     },
     "execution_count": 118,
     "metadata": {},
     "output_type": "execute_result"
    }
   ],
   "source": [
    "# 求出最大值的行索引\n",
    "data.idxmax(axis=0)['open']"
   ]
  },
  {
   "cell_type": "code",
   "execution_count": 119,
   "metadata": {},
   "outputs": [
    {
     "data": {
      "text/plain": [
       "'2015-03-02'"
      ]
     },
     "execution_count": 119,
     "metadata": {},
     "output_type": "execute_result"
    }
   ],
   "source": [
    "# 求出最小值的行索引\n",
    "data.idxmin(axis=0)['open']"
   ]
  },
  {
   "cell_type": "markdown",
   "metadata": {},
   "source": [
    "## 累计统计函数\n",
    "```\n",
    "函数\t作用\n",
    "cumsum\t计算前1/2/3/…/n个数的和\n",
    "cummax\t计算前1/2/3/…/n个数的最大值\n",
    "cummin\t计算前1/2/3/…/n个数的最小值\n",
    "cumprod\t计算前1/2/3/…/n个数的积\n",
    "```"
   ]
  },
  {
   "cell_type": "code",
   "execution_count": 131,
   "metadata": {},
   "outputs": [],
   "source": [
    "data = data.sort_index"
   ]
  },
  {
   "cell_type": "code",
   "execution_count": 122,
   "metadata": {},
   "outputs": [
    {
     "data": {
      "text/plain": [
       "<bound method DataFrame.sort_index of              open   high  close    low     volume  price_change  p_change  \\\n",
       "2018-02-27  23.53  25.88  24.16  23.53   95578.03          0.63      2.68   \n",
       "2018-02-26  22.80  23.78  23.53  22.80   60985.11          0.69      3.02   \n",
       "2018-02-23  22.88  23.37  22.82  22.71   52914.01          0.54      2.42   \n",
       "2018-02-22  22.25  22.76  22.28  22.02   36105.01          0.36      1.64   \n",
       "2018-02-14  21.49  21.99  21.92  21.48   23331.04          0.44      2.05   \n",
       "2018-02-13  21.40  21.90  21.48  21.31   30802.45          0.28      1.32   \n",
       "2018-02-12  20.70  21.40  21.19  20.63   32445.39          0.82      4.03   \n",
       "2018-02-09  21.20  21.46  20.36  20.19   54304.01         -1.50     -6.86   \n",
       "2018-02-08  21.79  22.09  21.88  21.75   27068.16          0.09      0.41   \n",
       "2018-02-07  22.69  23.11  21.80  21.29   53853.25         -0.50     -2.24   \n",
       "2018-02-06  22.80  23.55  22.29  22.20   55555.00         -0.97     -4.17   \n",
       "2018-02-05  22.45  23.39  23.27  22.25   52341.39          0.65      2.87   \n",
       "2018-02-02  22.40  22.70  22.62  21.53   33242.11          0.20      0.89   \n",
       "2018-02-01  23.71  23.86  22.42  22.22   66414.64         -1.30     -5.48   \n",
       "2018-01-31  23.85  23.98  23.72  23.31   49155.02         -0.11     -0.46   \n",
       "2018-01-30  23.71  24.08  23.83  23.70   32420.43          0.05      0.21   \n",
       "2018-01-29  24.40  24.63  23.77  23.72   65469.81         -0.73     -2.98   \n",
       "2018-01-26  24.27  24.74  24.49  24.22   50601.83          0.11      0.45   \n",
       "2018-01-25  24.99  24.99  24.37  24.23  104097.59         -0.93     -3.68   \n",
       "2018-01-24  25.49  26.28  25.29  25.20  134838.00         -0.20     -0.79   \n",
       "2018-01-23  25.15  25.53  25.50  24.93  104205.76          0.39      1.55   \n",
       "2018-01-22  25.14  25.40  25.13  24.75   68292.08         -0.01     -0.04   \n",
       "2018-01-19  24.60  25.34  25.13  24.42  128449.11          0.53      2.15   \n",
       "2018-01-18  24.40  24.88  24.60  24.30   67435.14          0.01      0.04   \n",
       "2018-01-17  24.42  24.92  24.60  23.80   92242.51          0.20      0.82   \n",
       "2018-01-16  23.40  24.60  24.40  23.30  101295.42          0.96      4.10   \n",
       "2018-01-15  24.01  24.23  23.43  23.30   69768.17         -0.80     -3.30   \n",
       "2018-01-12  23.70  25.15  24.24  23.42  120303.53          0.56      2.37   \n",
       "2018-01-11  23.67  23.85  23.67  23.21   48525.75         -0.12     -0.50   \n",
       "2018-01-10  24.10  24.60  23.80  23.40   70125.79         -0.14     -0.58   \n",
       "...           ...    ...    ...    ...        ...           ...       ...   \n",
       "2015-04-13  19.60  21.30  21.13  19.50  171822.69          1.70      8.75   \n",
       "2015-04-10  19.55  19.89  19.43  19.20  112962.15         -0.19     -0.97   \n",
       "2015-04-09  18.28  19.89  19.62  18.02  183119.05          1.20      6.51   \n",
       "2015-04-08  17.60  18.53  18.42  17.60  157725.97          0.88      5.02   \n",
       "2015-04-07  16.54  17.98  17.54  16.50  122471.85          0.88      5.28   \n",
       "2015-04-03  16.44  16.77  16.66  16.25   91962.88          0.22      1.34   \n",
       "2015-04-02  16.21  16.50  16.44  16.21   66336.32          0.15      0.92   \n",
       "2015-04-01  16.18  16.48  16.29  16.00   68609.42          0.12      0.74   \n",
       "2015-03-31  16.78  16.88  16.17  16.07   84467.62         -0.25     -1.52   \n",
       "2015-03-30  15.99  16.63  16.42  15.99   85090.45          0.65      4.12   \n",
       "2015-03-27  14.90  15.86  15.77  14.90  120352.13          0.84      5.63   \n",
       "2015-03-26  15.14  15.35  14.93  14.91   84877.75         -0.37     -2.42   \n",
       "2015-03-25  15.97  15.97  15.30  15.18   97174.40         -0.38     -2.42   \n",
       "2015-03-24  15.38  16.16  15.68  15.28  153390.08          0.30      1.95   \n",
       "2015-03-23  15.34  15.56  15.38  15.25   89461.32          0.04      0.26   \n",
       "2015-03-20  15.38  15.48  15.34  15.18   76800.13         -0.04     -0.26   \n",
       "2015-03-19  15.20  15.64  15.38  15.11   93644.19          0.07      0.46   \n",
       "2015-03-18  15.18  15.66  15.31  15.02  121538.71          0.13      0.86   \n",
       "2015-03-17  14.90  15.44  15.18  14.63  158770.77          0.31      2.08   \n",
       "2015-03-16  14.52  15.05  14.87  14.51   94468.30          0.40      2.76   \n",
       "2015-03-13  14.13  14.50  14.47  14.08   61342.22          0.36      2.55   \n",
       "2015-03-12  14.11  14.80  14.11  13.95   84978.37         -0.19     -1.33   \n",
       "2015-03-11  14.80  15.08  14.30  14.14  119708.43         -0.35     -2.39   \n",
       "2015-03-10  14.20  14.80  14.65  14.01  101213.51          0.34      2.38   \n",
       "2015-03-09  14.14  14.85  14.31  13.80  144945.66          0.03      0.21   \n",
       "2015-03-06  13.17  14.48  14.28  13.13  179831.72          1.12      8.51   \n",
       "2015-03-05  12.88  13.45  13.16  12.87   93180.39          0.26      2.02   \n",
       "2015-03-04  12.80  12.92  12.90  12.61   67075.44          0.20      1.57   \n",
       "2015-03-03  12.52  13.06  12.70  12.52  139071.61          0.18      1.44   \n",
       "2015-03-02  12.25  12.67  12.52  12.20   96291.73          0.32      2.62   \n",
       "\n",
       "               ma5    ma10    ma20      v_ma5     v_ma10     v_ma20  turnover  \n",
       "2018-02-27  22.942  22.142  22.875   53782.64   46738.65   55576.11      2.39  \n",
       "2018-02-26  22.406  21.955  22.942   40827.52   42736.34   56007.50      1.53  \n",
       "2018-02-23  21.938  21.929  23.022   35119.58   41871.97   56372.85      1.32  \n",
       "2018-02-22  21.446  21.909  23.137   35397.58   39904.78   60149.60      0.90  \n",
       "2018-02-14  21.366  21.923  23.253   33590.21   42935.74   61716.11      0.58  \n",
       "2018-02-13  21.342  22.103  23.387   39694.65   45518.14   65161.68      0.77  \n",
       "2018-02-12  21.504  22.338  23.533   44645.16   45679.94   68686.33      0.81  \n",
       "2018-02-09  21.920  22.596  23.645   48624.36   48982.38   70552.47      1.36  \n",
       "2018-02-08  22.372  23.009  23.839   44411.98   48612.16   73852.45      0.68  \n",
       "2018-02-07  22.480  23.258  23.929   52281.28   56315.11   74925.33      1.35  \n",
       "2018-02-06  22.864  23.607  24.029   51341.63   64413.58   75738.95      1.39  \n",
       "2018-02-05  23.172  23.928  24.112   46714.72   69278.66   77070.00      1.31  \n",
       "2018-02-02  23.272  24.114  24.184   49340.40   70873.73   79929.71      0.83  \n",
       "2018-02-01  23.646  24.365  24.279   52812.35   80394.43   88480.92      1.66  \n",
       "2018-01-31  24.036  24.583  24.411   60348.94   80496.48   91666.75      1.23  \n",
       "2018-01-30  24.350  24.671  24.365   77485.53   84805.23   92943.35      0.81  \n",
       "2018-01-29  24.684  24.728  24.294   91842.60   91692.73   93456.22      1.64  \n",
       "2018-01-26  24.956  24.694  24.221   92407.05   92122.56   91980.51      1.27  \n",
       "2018-01-25  25.084  24.669  24.109  107976.51   99092.73   92262.67      2.61  \n",
       "2018-01-24  25.130  24.599  23.997  100644.02   93535.55   89522.22      3.37  \n",
       "2018-01-23  24.992  24.450  23.844   92124.92   87064.33   85876.80      2.61  \n",
       "2018-01-22  24.772  24.296  23.644   91542.85   84861.33   84970.00      1.71  \n",
       "2018-01-19  24.432  24.254  23.537   91838.07   88985.70   82975.10      3.21  \n",
       "2018-01-18  24.254  24.192  23.441   90208.95   96567.41   78252.92      1.69  \n",
       "2018-01-17  24.068  24.239  23.378   86427.08  102837.01   77049.61      2.31  \n",
       "2018-01-16  23.908  24.058  23.321   82003.73  101081.47   74590.92      2.54  \n",
       "2018-01-15  23.820  23.860  23.257   78179.81   95219.71   71006.65      1.75  \n",
       "2018-01-12  24.076  23.748  23.236   86133.33   91838.46   69690.35      3.01  \n",
       "2018-01-11  24.130  23.548  23.197  102925.87   85432.61   65928.23      1.21  \n",
       "2018-01-10  24.410  23.394  23.204  119246.95   85508.89   66934.89      1.76  \n",
       "...            ...     ...     ...        ...        ...        ...       ...  \n",
       "2015-04-13  19.228  17.812  16.563  149620.34  114456.84  111752.31      5.88  \n",
       "2015-04-10  18.334  17.276  16.230  133648.38  109309.78  106228.29      3.87  \n",
       "2015-04-09  17.736  16.826  15.964  124323.21  106501.34  104829.10      6.27  \n",
       "2015-04-08  17.070  16.394  15.698  101421.29   97906.88  101658.57      5.40  \n",
       "2015-04-07  16.620  16.120  15.510   86769.62   97473.29   98832.94      4.19  \n",
       "2015-04-03  16.396  15.904  15.348   79293.34   94172.24   99956.63      3.15  \n",
       "2015-04-02  16.218  15.772  15.229   84971.19   92655.96  104350.08      2.27  \n",
       "2015-04-01  15.916  15.666  15.065   88679.47   95386.75  105692.28      2.35  \n",
       "2015-03-31  15.718  15.568  14.896   94392.47  100679.68  105615.58      2.89  \n",
       "2015-03-30  15.620  15.469  14.722  108176.96  108109.99  108345.78      2.91  \n",
       "2015-03-27  15.412  15.314  14.527  109051.14  109047.78  108905.84      4.12  \n",
       "2015-03-26  15.326  15.184  14.462  100340.74  103146.79  108303.41      2.91  \n",
       "2015-03-25  15.416  15.102  14.436  102094.02  103156.85  109604.83      3.33  \n",
       "2015-03-24  15.418  15.002  14.385  106966.89  105410.25  110336.03      5.25  \n",
       "2015-03-23  15.318  14.899  14.304  108043.02  100192.60  107645.16      3.06  \n",
       "2015-03-20  15.216  14.792  14.232  109044.42  105741.03  108857.41      2.63  \n",
       "2015-03-19  15.042  14.686  14.153  105952.84  116044.19  111147.22      3.21  \n",
       "2015-03-18  14.788  14.464  14.058  104219.67  115997.81  112493.60      4.16  \n",
       "2015-03-17  14.586  14.223  13.954  103853.62  110551.48  111739.85      5.43  \n",
       "2015-03-16  14.480  13.975  13.843   92342.17  108581.56  107464.31      3.23  \n",
       "2015-03-13  14.368  13.740  13.740  102437.64  108763.91  108763.91      2.10  \n",
       "2015-03-12  14.330  13.659  13.659  126135.54  114032.98  114032.98      2.91  \n",
       "2015-03-11  14.140  13.603  13.603  127775.94  117664.81  117664.81      4.10  \n",
       "2015-03-10  13.860  13.503  13.503  117249.34  117372.87  117372.87      3.46  \n",
       "2015-03-09  13.470  13.312  13.312  124820.96  120066.09  120066.09      4.96  \n",
       "2015-03-06  13.112  13.112  13.112  115090.18  115090.18  115090.18      6.16  \n",
       "2015-03-05  12.820  12.820  12.820   98904.79   98904.79   98904.79      3.19  \n",
       "2015-03-04  12.707  12.707  12.707  100812.93  100812.93  100812.93      2.30  \n",
       "2015-03-03  12.610  12.610  12.610  117681.67  117681.67  117681.67      4.76  \n",
       "2015-03-02  12.520  12.520  12.520   96291.73   96291.73   96291.73      3.30  \n",
       "\n",
       "[643 rows x 14 columns]>"
      ]
     },
     "execution_count": 122,
     "metadata": {},
     "output_type": "execute_result"
    }
   ],
   "source": [
    "data"
   ]
  },
  {
   "cell_type": "code",
   "execution_count": 142,
   "metadata": {},
   "outputs": [
    {
     "data": {
      "text/plain": [
       "<matplotlib.axes._subplots.AxesSubplot at 0x2a0298bf978>"
      ]
     },
     "execution_count": 142,
     "metadata": {},
     "output_type": "execute_result"
    },
    {
     "data": {
      "image/png": "[encoded data removed]",
      "text/plain": [
       "<Figure size 432x288 with 1 Axes>"
      ]
     },
     "metadata": {
      "needs_background": "light"
     },
     "output_type": "display_data"
    }
   ],
   "source": [
    "data = pd.read_csv(\"./data/stock_day.csv\")\n",
    "stock_rise = data['p_change']\n",
    "stock_rise.sort_index().cumsum().plot()"
   ]
  },
  {
   "cell_type": "code",
   "execution_count": 139,
   "metadata": {},
   "outputs": [
    {
     "data": {
      "text/plain": [
       "<matplotlib.axes._subplots.AxesSubplot at 0x2a029850048>"
      ]
     },
     "execution_count": 139,
     "metadata": {},
     "output_type": "execute_result"
    },
    {
     "data": {
      "image/png": "[encoded data removed]",
      "text/plain": [
       "<Figure size 1440x720 with 1 Axes>"
      ]
     },
     "metadata": {
      "needs_background": "light"
     },
     "output_type": "display_data"
    }
   ],
   "source": [
    "data['p_change'].sort_index().cumsum().plot(figsize = (20,10))"
   ]
  },
  {
   "cell_type": "code",
   "execution_count": null,
   "metadata": {},
   "outputs": [],
   "source": [
    "# 自定义运算\n",
    "# apply(func, axis=0)\n",
    "# func:自定义函数\n",
    "# axis=0:默认是列，axis=1为行进行运算\n",
    "# 定义一个对列，最大值-最小值的函数"
   ]
  },
  {
   "cell_type": "code",
   "execution_count": 144,
   "metadata": {},
   "outputs": [
    {
     "data": {
      "text/plain": [
       "open     22.74\n",
       "close    22.85\n",
       "dtype: float64"
      ]
     },
     "execution_count": 144,
     "metadata": {},
     "output_type": "execute_result"
    }
   ],
   "source": [
    "data[['open','close']].apply(lambda x:x.max()-x.min())"
   ]
  },
  {
   "cell_type": "code",
   "execution_count": 26,
   "metadata": {},
   "outputs": [
    {
     "data": {
      "text/plain": [
       "count    643.000000\n",
       "mean       0.190280\n",
       "std        4.079698\n",
       "min      -10.030000\n",
       "25%       -1.850000\n",
       "50%        0.260000\n",
       "75%        2.305000\n",
       "max       10.030000\n",
       "Name: p_change, dtype: float64"
      ]
     },
     "execution_count": 26,
     "metadata": {},
     "output_type": "execute_result"
    }
   ],
   "source": [
    "# 综合分析，能够的出很多统计结果，count，mean，std,min,max\n",
    "data[\"p_change\"].describe()"
   ]
  },
  {
   "attachments": {
    "image.png": {
     "image/png": "[encoded data removed]"
    }
   },
   "cell_type": "markdown",
   "metadata": {},
   "source": [
    "## 统计函数\n",
    "![image.png](attachment:image.png)"
   ]
  },
  {
   "cell_type": "code",
   "execution_count": 12,
   "metadata": {},
   "outputs": [],
   "source": [
    "import pandas as pd\n",
    "data = pd.read_csv(\"./data/stock_day.csv\")"
   ]
  },
  {
   "cell_type": "code",
   "execution_count": 4,
   "metadata": {},
   "outputs": [
    {
     "data": {
      "text/plain": [
       "open                34.990\n",
       "high                36.350\n",
       "close               35.210\n",
       "low                 34.010\n",
       "volume          501915.410\n",
       "price_change         3.030\n",
       "p_change            10.030\n",
       "ma5                 33.696\n",
       "ma10                32.186\n",
       "ma20                29.998\n",
       "v_ma5           404443.540\n",
       "v_ma10          360028.160\n",
       "v_ma20          269280.790\n",
       "turnover            12.560\n",
       "dtype: float64"
      ]
     },
     "execution_count": 4,
     "metadata": {},
     "output_type": "execute_result"
    }
   ],
   "source": [
    "# 返回每一列的最大值\n",
    "data.max()"
   ]
  },
  {
   "cell_type": "code",
   "execution_count": 5,
   "metadata": {},
   "outputs": [
    {
     "data": {
      "text/plain": [
       "open               21.440\n",
       "high               21.970\n",
       "close              21.450\n",
       "low                20.980\n",
       "volume          83175.930\n",
       "price_change        0.050\n",
       "p_change            0.260\n",
       "ma5                21.504\n",
       "ma10               21.623\n",
       "ma20               21.530\n",
       "v_ma5           86133.330\n",
       "v_ma10          89234.970\n",
       "v_ma20          96291.730\n",
       "turnover            2.500\n",
       "dtype: float64"
      ]
     },
     "execution_count": 5,
     "metadata": {},
     "output_type": "execute_result"
    }
   ],
   "source": [
    "# 中位数为将数据从小到大排列，在最中间的那个数为中位数。如果没有中间数，取中间两个数的平均值\n",
    "data.median()"
   ]
  },
  {
   "cell_type": "code",
   "execution_count": 6,
   "metadata": {},
   "outputs": [
    {
     "data": {
      "text/plain": [
       "open            2015-06-15\n",
       "high            2015-06-10\n",
       "close           2015-06-12\n",
       "low             2015-06-12\n",
       "volume          2017-10-26\n",
       "price_change    2015-06-09\n",
       "p_change        2015-08-28\n",
       "ma5             2015-06-15\n",
       "ma10            2015-06-18\n",
       "ma20            2015-06-18\n",
       "v_ma5           2017-10-26\n",
       "v_ma10          2017-11-02\n",
       "v_ma20          2017-11-15\n",
       "turnover        2017-10-26\n",
       "dtype: object"
      ]
     },
     "execution_count": 6,
     "metadata": {},
     "output_type": "execute_result"
    }
   ],
   "source": [
    "data.idxmax()"
   ]
  },
  {
   "cell_type": "code",
   "execution_count": 8,
   "metadata": {},
   "outputs": [
    {
     "data": {
      "text/html": [
       "<div>\n",
       "<style scoped>\n",
       "    .dataframe tbody tr th:only-of-type {\n",
       "        vertical-align: middle;\n",
       "    }\n",
       "\n",
       "    .dataframe tbody tr th {\n",
       "        vertical-align: top;\n",
       "    }\n",
       "\n",
       "    .dataframe thead th {\n",
       "        text-align: right;\n",
       "    }\n",
       "</style>\n",
       "<table border=\"1\" class=\"dataframe\">\n",
       "  <thead>\n",
       "    <tr style=\"text-align: right;\">\n",
       "      <th></th>\n",
       "      <th>open</th>\n",
       "      <th>high</th>\n",
       "      <th>close</th>\n",
       "      <th>low</th>\n",
       "      <th>volume</th>\n",
       "      <th>price_change</th>\n",
       "      <th>p_change</th>\n",
       "      <th>ma5</th>\n",
       "      <th>ma10</th>\n",
       "      <th>ma20</th>\n",
       "      <th>v_ma5</th>\n",
       "      <th>v_ma10</th>\n",
       "      <th>v_ma20</th>\n",
       "      <th>turnover</th>\n",
       "    </tr>\n",
       "  </thead>\n",
       "  <tbody>\n",
       "    <tr>\n",
       "      <th>2015-03-02</th>\n",
       "      <td>12.25</td>\n",
       "      <td>12.67</td>\n",
       "      <td>12.52</td>\n",
       "      <td>12.20</td>\n",
       "      <td>96291.73</td>\n",
       "      <td>0.32</td>\n",
       "      <td>2.62</td>\n",
       "      <td>12.520</td>\n",
       "      <td>12.520</td>\n",
       "      <td>12.520</td>\n",
       "      <td>96291.73</td>\n",
       "      <td>96291.73</td>\n",
       "      <td>96291.73</td>\n",
       "      <td>3.30</td>\n",
       "    </tr>\n",
       "    <tr>\n",
       "      <th>2015-03-03</th>\n",
       "      <td>12.52</td>\n",
       "      <td>13.06</td>\n",
       "      <td>12.70</td>\n",
       "      <td>12.52</td>\n",
       "      <td>139071.61</td>\n",
       "      <td>0.18</td>\n",
       "      <td>1.44</td>\n",
       "      <td>12.610</td>\n",
       "      <td>12.610</td>\n",
       "      <td>12.610</td>\n",
       "      <td>117681.67</td>\n",
       "      <td>117681.67</td>\n",
       "      <td>117681.67</td>\n",
       "      <td>4.76</td>\n",
       "    </tr>\n",
       "    <tr>\n",
       "      <th>2015-03-04</th>\n",
       "      <td>12.80</td>\n",
       "      <td>12.92</td>\n",
       "      <td>12.90</td>\n",
       "      <td>12.61</td>\n",
       "      <td>67075.44</td>\n",
       "      <td>0.20</td>\n",
       "      <td>1.57</td>\n",
       "      <td>12.707</td>\n",
       "      <td>12.707</td>\n",
       "      <td>12.707</td>\n",
       "      <td>100812.93</td>\n",
       "      <td>100812.93</td>\n",
       "      <td>100812.93</td>\n",
       "      <td>2.30</td>\n",
       "    </tr>\n",
       "    <tr>\n",
       "      <th>2015-03-05</th>\n",
       "      <td>12.88</td>\n",
       "      <td>13.45</td>\n",
       "      <td>13.16</td>\n",
       "      <td>12.87</td>\n",
       "      <td>93180.39</td>\n",
       "      <td>0.26</td>\n",
       "      <td>2.02</td>\n",
       "      <td>12.820</td>\n",
       "      <td>12.820</td>\n",
       "      <td>12.820</td>\n",
       "      <td>98904.79</td>\n",
       "      <td>98904.79</td>\n",
       "      <td>98904.79</td>\n",
       "      <td>3.19</td>\n",
       "    </tr>\n",
       "    <tr>\n",
       "      <th>2015-03-06</th>\n",
       "      <td>13.17</td>\n",
       "      <td>14.48</td>\n",
       "      <td>14.28</td>\n",
       "      <td>13.13</td>\n",
       "      <td>179831.72</td>\n",
       "      <td>1.12</td>\n",
       "      <td>8.51</td>\n",
       "      <td>13.112</td>\n",
       "      <td>13.112</td>\n",
       "      <td>13.112</td>\n",
       "      <td>115090.18</td>\n",
       "      <td>115090.18</td>\n",
       "      <td>115090.18</td>\n",
       "      <td>6.16</td>\n",
       "    </tr>\n",
       "  </tbody>\n",
       "</table>\n",
       "</div>"
      ],
      "text/plain": [
       "             open   high  close    low     volume  price_change  p_change  \\\n",
       "2015-03-02  12.25  12.67  12.52  12.20   96291.73          0.32      2.62   \n",
       "2015-03-03  12.52  13.06  12.70  12.52  139071.61          0.18      1.44   \n",
       "2015-03-04  12.80  12.92  12.90  12.61   67075.44          0.20      1.57   \n",
       "2015-03-05  12.88  13.45  13.16  12.87   93180.39          0.26      2.02   \n",
       "2015-03-06  13.17  14.48  14.28  13.13  179831.72          1.12      8.51   \n",
       "\n",
       "               ma5    ma10    ma20      v_ma5     v_ma10     v_ma20  turnover  \n",
       "2015-03-02  12.520  12.520  12.520   96291.73   96291.73   96291.73      3.30  \n",
       "2015-03-03  12.610  12.610  12.610  117681.67  117681.67  117681.67      4.76  \n",
       "2015-03-04  12.707  12.707  12.707  100812.93  100812.93  100812.93      2.30  \n",
       "2015-03-05  12.820  12.820  12.820   98904.79   98904.79   98904.79      3.19  \n",
       "2015-03-06  13.112  13.112  13.112  115090.18  115090.18  115090.18      6.16  "
      ]
     },
     "execution_count": 8,
     "metadata": {},
     "output_type": "execute_result"
    }
   ],
   "source": [
    "# 累计统计函数\n",
    "# 排序\n",
    "data.sort_index().head()"
   ]
  },
  {
   "cell_type": "code",
   "execution_count": 9,
   "metadata": {},
   "outputs": [],
   "source": [
    "stock_rise = data['p_change']"
   ]
  },
  {
   "cell_type": "code",
   "execution_count": 11,
   "metadata": {},
   "outputs": [
    {
     "data": {
      "text/plain": [
       "2018-02-27     2.68\n",
       "2018-02-26     5.70\n",
       "2018-02-23     8.12\n",
       "2018-02-22     9.76\n",
       "2018-02-14    11.81\n",
       "Name: p_change, dtype: float64"
      ]
     },
     "execution_count": 11,
     "metadata": {},
     "output_type": "execute_result"
    }
   ],
   "source": [
    "stock_rise.cumsum().head()"
   ]
  },
  {
   "cell_type": "markdown",
   "metadata": {},
   "source": [
    "## pandas 绘图\n",
    "```\n",
    "1 pandas.DataFrame.plot\n",
    "DataFrame.plot(kind='line')\n",
    "kind : str，需要绘制图形的种类\n",
    "‘line’ : line plot (default)\n",
    "‘bar’ : vertical bar plot\n",
    "‘barh’ : horizontal bar plot\n",
    "关于“barh”的解释：\n",
    "http://pandas.pydata.org/pandas-docs/stable/reference/api/pandas.DataFrame.plot.barh.html\n",
    "‘hist’ : histogram\n",
    "‘pie’ : pie plot\n",
    "‘scatter’ : scatter plot\n",
    "更多细节：https://pandas.pydata.org/pandas-docs/stable/generated/pandas.DataFrame.plot.html?highlight=plot#pandas.DataFrame.plot\n",
    "\n",
    "2 pandas.Series.plot\n",
    "更多细节：https://pandas.pydata.org/pandas-docs/stable/generated/pandas.Series.plot.html?highlight=plot#pandas.Series.plot\n",
    "```"
   ]
  },
  {
   "cell_type": "code",
   "execution_count": 15,
   "metadata": {},
   "outputs": [
    {
     "data": {
      "text/plain": [
       "<matplotlib.axes._subplots.AxesSubplot at 0x16e0d8c8ac8>"
      ]
     },
     "execution_count": 15,
     "metadata": {},
     "output_type": "execute_result"
    },
    {
     "data": {
      "image/png": "[encoded data removed]",
      "text/plain": [
       "<Figure size 432x288 with 1 Axes>"
      ]
     },
     "metadata": {
      "needs_background": "light"
     },
     "output_type": "display_data"
    }
   ],
   "source": [
    "data.plot(kind='scatter',x='volume',y='turnover')"
   ]
  },
  {
   "cell_type": "code",
   "execution_count": 16,
   "metadata": {},
   "outputs": [
    {
     "data": {
      "text/plain": [
       "<matplotlib.axes._subplots.AxesSubplot at 0x16e0c272710>"
      ]
     },
     "execution_count": 16,
     "metadata": {},
     "output_type": "execute_result"
    },
    {
     "data": {
      "image/png": "[encoded data removed]",
      "text/plain": [
       "<Figure size 432x288 with 1 Axes>"
      ]
     },
     "metadata": {
      "needs_background": "light"
     },
     "output_type": "display_data"
    }
   ],
   "source": [
    "data.plot(kind='scatter',x='price_change',y='p_change')"
   ]
  },
  {
   "cell_type": "code",
   "execution_count": 17,
   "metadata": {},
   "outputs": [
    {
     "data": {
      "text/plain": [
       "<matplotlib.axes._subplots.AxesSubplot at 0x16e0d939da0>"
      ]
     },
     "execution_count": 17,
     "metadata": {},
     "output_type": "execute_result"
    },
    {
     "data": {
      "image/png": "[encoded data removed]",
      "text/plain": [
       "<Figure size 1440x720 with 1 Axes>"
      ]
     },
     "metadata": {
      "needs_background": "light"
     },
     "output_type": "display_data"
    }
   ],
   "source": [
    "data.plot(kind='scatter',x='high',y='volume',figsize=(20,10))"
   ]
  },
  {
   "cell_type": "code",
   "execution_count": 18,
   "metadata": {},
   "outputs": [
    {
     "data": {
      "text/html": [
       "<div>\n",
       "<style scoped>\n",
       "    .dataframe tbody tr th:only-of-type {\n",
       "        vertical-align: middle;\n",
       "    }\n",
       "\n",
       "    .dataframe tbody tr th {\n",
       "        vertical-align: top;\n",
       "    }\n",
       "\n",
       "    .dataframe thead th {\n",
       "        text-align: right;\n",
       "    }\n",
       "</style>\n",
       "<table border=\"1\" class=\"dataframe\">\n",
       "  <thead>\n",
       "    <tr style=\"text-align: right;\">\n",
       "      <th></th>\n",
       "      <th>open</th>\n",
       "      <th>high</th>\n",
       "      <th>close</th>\n",
       "      <th>low</th>\n",
       "      <th>volume</th>\n",
       "      <th>price_change</th>\n",
       "      <th>p_change</th>\n",
       "      <th>ma5</th>\n",
       "      <th>ma10</th>\n",
       "      <th>ma20</th>\n",
       "      <th>v_ma5</th>\n",
       "      <th>v_ma10</th>\n",
       "      <th>v_ma20</th>\n",
       "      <th>turnover</th>\n",
       "    </tr>\n",
       "  </thead>\n",
       "  <tbody>\n",
       "    <tr>\n",
       "      <th>2018-02-27</th>\n",
       "      <td>23.53</td>\n",
       "      <td>25.88</td>\n",
       "      <td>24.16</td>\n",
       "      <td>23.53</td>\n",
       "      <td>95578.03</td>\n",
       "      <td>0.63</td>\n",
       "      <td>2.68</td>\n",
       "      <td>22.942</td>\n",
       "      <td>22.142</td>\n",
       "      <td>22.875</td>\n",
       "      <td>53782.64</td>\n",
       "      <td>46738.65</td>\n",
       "      <td>55576.11</td>\n",
       "      <td>2.39</td>\n",
       "    </tr>\n",
       "    <tr>\n",
       "      <th>2018-02-26</th>\n",
       "      <td>22.80</td>\n",
       "      <td>23.78</td>\n",
       "      <td>23.53</td>\n",
       "      <td>22.80</td>\n",
       "      <td>60985.11</td>\n",
       "      <td>0.69</td>\n",
       "      <td>3.02</td>\n",
       "      <td>22.406</td>\n",
       "      <td>21.955</td>\n",
       "      <td>22.942</td>\n",
       "      <td>40827.52</td>\n",
       "      <td>42736.34</td>\n",
       "      <td>56007.50</td>\n",
       "      <td>1.53</td>\n",
       "    </tr>\n",
       "    <tr>\n",
       "      <th>2018-02-23</th>\n",
       "      <td>22.88</td>\n",
       "      <td>23.37</td>\n",
       "      <td>22.82</td>\n",
       "      <td>22.71</td>\n",
       "      <td>52914.01</td>\n",
       "      <td>0.54</td>\n",
       "      <td>2.42</td>\n",
       "      <td>21.938</td>\n",
       "      <td>21.929</td>\n",
       "      <td>23.022</td>\n",
       "      <td>35119.58</td>\n",
       "      <td>41871.97</td>\n",
       "      <td>56372.85</td>\n",
       "      <td>1.32</td>\n",
       "    </tr>\n",
       "    <tr>\n",
       "      <th>2018-02-22</th>\n",
       "      <td>22.25</td>\n",
       "      <td>22.76</td>\n",
       "      <td>22.28</td>\n",
       "      <td>22.02</td>\n",
       "      <td>36105.01</td>\n",
       "      <td>0.36</td>\n",
       "      <td>1.64</td>\n",
       "      <td>21.446</td>\n",
       "      <td>21.909</td>\n",
       "      <td>23.137</td>\n",
       "      <td>35397.58</td>\n",
       "      <td>39904.78</td>\n",
       "      <td>60149.60</td>\n",
       "      <td>0.90</td>\n",
       "    </tr>\n",
       "    <tr>\n",
       "      <th>2018-02-14</th>\n",
       "      <td>21.49</td>\n",
       "      <td>21.99</td>\n",
       "      <td>21.92</td>\n",
       "      <td>21.48</td>\n",
       "      <td>23331.04</td>\n",
       "      <td>0.44</td>\n",
       "      <td>2.05</td>\n",
       "      <td>21.366</td>\n",
       "      <td>21.923</td>\n",
       "      <td>23.253</td>\n",
       "      <td>33590.21</td>\n",
       "      <td>42935.74</td>\n",
       "      <td>61716.11</td>\n",
       "      <td>0.58</td>\n",
       "    </tr>\n",
       "  </tbody>\n",
       "</table>\n",
       "</div>"
      ],
      "text/plain": [
       "             open   high  close    low    volume  price_change  p_change  \\\n",
       "2018-02-27  23.53  25.88  24.16  23.53  95578.03          0.63      2.68   \n",
       "2018-02-26  22.80  23.78  23.53  22.80  60985.11          0.69      3.02   \n",
       "2018-02-23  22.88  23.37  22.82  22.71  52914.01          0.54      2.42   \n",
       "2018-02-22  22.25  22.76  22.28  22.02  36105.01          0.36      1.64   \n",
       "2018-02-14  21.49  21.99  21.92  21.48  23331.04          0.44      2.05   \n",
       "\n",
       "               ma5    ma10    ma20     v_ma5    v_ma10    v_ma20  turnover  \n",
       "2018-02-27  22.942  22.142  22.875  53782.64  46738.65  55576.11      2.39  \n",
       "2018-02-26  22.406  21.955  22.942  40827.52  42736.34  56007.50      1.53  \n",
       "2018-02-23  21.938  21.929  23.022  35119.58  41871.97  56372.85      1.32  \n",
       "2018-02-22  21.446  21.909  23.137  35397.58  39904.78  60149.60      0.90  \n",
       "2018-02-14  21.366  21.923  23.253  33590.21  42935.74  61716.11      0.58  "
      ]
     },
     "execution_count": 18,
     "metadata": {},
     "output_type": "execute_result"
    }
   ],
   "source": [
    "data.head()"
   ]
  },
  {
   "cell_type": "code",
   "execution_count": 20,
   "metadata": {},
   "outputs": [],
   "source": [
    "# 读取文件HDF5\n",
    "mydata1 = pd.read_hdf(\"./data/day_close.h5\")"
   ]
  },
  {
   "cell_type": "code",
   "execution_count": 21,
   "metadata": {},
   "outputs": [
    {
     "data": {
      "text/html": [
       "<div>\n",
       "<style scoped>\n",
       "    .dataframe tbody tr th:only-of-type {\n",
       "        vertical-align: middle;\n",
       "    }\n",
       "\n",
       "    .dataframe tbody tr th {\n",
       "        vertical-align: top;\n",
       "    }\n",
       "\n",
       "    .dataframe thead th {\n",
       "        text-align: right;\n",
       "    }\n",
       "</style>\n",
       "<table border=\"1\" class=\"dataframe\">\n",
       "  <thead>\n",
       "    <tr style=\"text-align: right;\">\n",
       "      <th></th>\n",
       "      <th>000001.SZ</th>\n",
       "      <th>000002.SZ</th>\n",
       "      <th>000004.SZ</th>\n",
       "      <th>000005.SZ</th>\n",
       "      <th>000006.SZ</th>\n",
       "      <th>000007.SZ</th>\n",
       "      <th>000008.SZ</th>\n",
       "      <th>000009.SZ</th>\n",
       "      <th>000010.SZ</th>\n",
       "      <th>000011.SZ</th>\n",
       "      <th>...</th>\n",
       "      <th>001965.SZ</th>\n",
       "      <th>603283.SH</th>\n",
       "      <th>002920.SZ</th>\n",
       "      <th>002921.SZ</th>\n",
       "      <th>300684.SZ</th>\n",
       "      <th>002922.SZ</th>\n",
       "      <th>300735.SZ</th>\n",
       "      <th>603329.SH</th>\n",
       "      <th>603655.SH</th>\n",
       "      <th>603080.SH</th>\n",
       "    </tr>\n",
       "  </thead>\n",
       "  <tbody>\n",
       "    <tr>\n",
       "      <th>0</th>\n",
       "      <td>16.30</td>\n",
       "      <td>17.71</td>\n",
       "      <td>4.58</td>\n",
       "      <td>2.88</td>\n",
       "      <td>14.60</td>\n",
       "      <td>2.62</td>\n",
       "      <td>4.96</td>\n",
       "      <td>4.66</td>\n",
       "      <td>5.37</td>\n",
       "      <td>6.02</td>\n",
       "      <td>...</td>\n",
       "      <td>NaN</td>\n",
       "      <td>NaN</td>\n",
       "      <td>NaN</td>\n",
       "      <td>NaN</td>\n",
       "      <td>NaN</td>\n",
       "      <td>NaN</td>\n",
       "      <td>NaN</td>\n",
       "      <td>NaN</td>\n",
       "      <td>NaN</td>\n",
       "      <td>NaN</td>\n",
       "    </tr>\n",
       "    <tr>\n",
       "      <th>1</th>\n",
       "      <td>17.02</td>\n",
       "      <td>19.20</td>\n",
       "      <td>4.65</td>\n",
       "      <td>3.02</td>\n",
       "      <td>15.97</td>\n",
       "      <td>2.65</td>\n",
       "      <td>4.95</td>\n",
       "      <td>4.70</td>\n",
       "      <td>5.37</td>\n",
       "      <td>6.27</td>\n",
       "      <td>...</td>\n",
       "      <td>NaN</td>\n",
       "      <td>NaN</td>\n",
       "      <td>NaN</td>\n",
       "      <td>NaN</td>\n",
       "      <td>NaN</td>\n",
       "      <td>NaN</td>\n",
       "      <td>NaN</td>\n",
       "      <td>NaN</td>\n",
       "      <td>NaN</td>\n",
       "      <td>NaN</td>\n",
       "    </tr>\n",
       "    <tr>\n",
       "      <th>2</th>\n",
       "      <td>17.02</td>\n",
       "      <td>17.28</td>\n",
       "      <td>4.56</td>\n",
       "      <td>3.06</td>\n",
       "      <td>14.37</td>\n",
       "      <td>2.63</td>\n",
       "      <td>4.82</td>\n",
       "      <td>4.47</td>\n",
       "      <td>5.37</td>\n",
       "      <td>5.96</td>\n",
       "      <td>...</td>\n",
       "      <td>NaN</td>\n",
       "      <td>NaN</td>\n",
       "      <td>NaN</td>\n",
       "      <td>NaN</td>\n",
       "      <td>NaN</td>\n",
       "      <td>NaN</td>\n",
       "      <td>NaN</td>\n",
       "      <td>NaN</td>\n",
       "      <td>NaN</td>\n",
       "      <td>NaN</td>\n",
       "    </tr>\n",
       "    <tr>\n",
       "      <th>3</th>\n",
       "      <td>16.18</td>\n",
       "      <td>16.97</td>\n",
       "      <td>4.49</td>\n",
       "      <td>2.95</td>\n",
       "      <td>13.10</td>\n",
       "      <td>2.73</td>\n",
       "      <td>4.89</td>\n",
       "      <td>4.33</td>\n",
       "      <td>5.37</td>\n",
       "      <td>5.77</td>\n",
       "      <td>...</td>\n",
       "      <td>NaN</td>\n",
       "      <td>NaN</td>\n",
       "      <td>NaN</td>\n",
       "      <td>NaN</td>\n",
       "      <td>NaN</td>\n",
       "      <td>NaN</td>\n",
       "      <td>NaN</td>\n",
       "      <td>NaN</td>\n",
       "      <td>NaN</td>\n",
       "      <td>NaN</td>\n",
       "    </tr>\n",
       "    <tr>\n",
       "      <th>4</th>\n",
       "      <td>16.95</td>\n",
       "      <td>17.19</td>\n",
       "      <td>4.55</td>\n",
       "      <td>2.99</td>\n",
       "      <td>13.18</td>\n",
       "      <td>2.77</td>\n",
       "      <td>4.97</td>\n",
       "      <td>4.42</td>\n",
       "      <td>5.37</td>\n",
       "      <td>5.92</td>\n",
       "      <td>...</td>\n",
       "      <td>NaN</td>\n",
       "      <td>NaN</td>\n",
       "      <td>NaN</td>\n",
       "      <td>NaN</td>\n",
       "      <td>NaN</td>\n",
       "      <td>NaN</td>\n",
       "      <td>NaN</td>\n",
       "      <td>NaN</td>\n",
       "      <td>NaN</td>\n",
       "      <td>NaN</td>\n",
       "    </tr>\n",
       "  </tbody>\n",
       "</table>\n",
       "<p>5 rows × 3562 columns</p>\n",
       "</div>"
      ],
      "text/plain": [
       "   000001.SZ  000002.SZ  000004.SZ  000005.SZ  000006.SZ  000007.SZ  \\\n",
       "0      16.30      17.71       4.58       2.88      14.60       2.62   \n",
       "1      17.02      19.20       4.65       3.02      15.97       2.65   \n",
       "2      17.02      17.28       4.56       3.06      14.37       2.63   \n",
       "3      16.18      16.97       4.49       2.95      13.10       2.73   \n",
       "4      16.95      17.19       4.55       2.99      13.18       2.77   \n",
       "\n",
       "   000008.SZ  000009.SZ  000010.SZ  000011.SZ    ...      001965.SZ  \\\n",
       "0       4.96       4.66       5.37       6.02    ...            NaN   \n",
       "1       4.95       4.70       5.37       6.27    ...            NaN   \n",
       "2       4.82       4.47       5.37       5.96    ...            NaN   \n",
       "3       4.89       4.33       5.37       5.77    ...            NaN   \n",
       "4       4.97       4.42       5.37       5.92    ...            NaN   \n",
       "\n",
       "   603283.SH  002920.SZ  002921.SZ  300684.SZ  002922.SZ  300735.SZ  \\\n",
       "0        NaN        NaN        NaN        NaN        NaN        NaN   \n",
       "1        NaN        NaN        NaN        NaN        NaN        NaN   \n",
       "2        NaN        NaN        NaN        NaN        NaN        NaN   \n",
       "3        NaN        NaN        NaN        NaN        NaN        NaN   \n",
       "4        NaN        NaN        NaN        NaN        NaN        NaN   \n",
       "\n",
       "   603329.SH  603655.SH  603080.SH  \n",
       "0        NaN        NaN        NaN  \n",
       "1        NaN        NaN        NaN  \n",
       "2        NaN        NaN        NaN  \n",
       "3        NaN        NaN        NaN  \n",
       "4        NaN        NaN        NaN  \n",
       "\n",
       "[5 rows x 3562 columns]"
      ]
     },
     "execution_count": 21,
     "metadata": {},
     "output_type": "execute_result"
    }
   ],
   "source": [
    "mydata1.head(5)"
   ]
  },
  {
   "cell_type": "code",
   "execution_count": 22,
   "metadata": {},
   "outputs": [],
   "source": [
    "mydata1.to_hdf(\"./python28.h5\",key='open')"
   ]
  },
  {
   "cell_type": "code",
   "execution_count": 24,
   "metadata": {},
   "outputs": [],
   "source": [
    "myjson = pd.read_json(\"./data/Sarcasm_Headlines_Dataset.json\",orient=\"records\",lines=True)"
   ]
  },
  {
   "cell_type": "code",
   "execution_count": 25,
   "metadata": {},
   "outputs": [],
   "source": [
    "# 读取\n",
    "myjson.to_json(\"./python28.json\",orient='records',lines=False)"
   ]
  },
  {
   "cell_type": "markdown",
   "metadata": {},
   "source": [
    "# 缺失值处理"
   ]
  },
  {
   "cell_type": "code",
   "execution_count": 26,
   "metadata": {},
   "outputs": [],
   "source": [
    "import pandas as pd\n",
    "import numpy as np"
   ]
  },
  {
   "cell_type": "code",
   "execution_count": 27,
   "metadata": {},
   "outputs": [
    {
     "data": {
      "text/plain": [
       "float"
      ]
     },
     "execution_count": 27,
     "metadata": {},
     "output_type": "execute_result"
    }
   ],
   "source": [
    "type(np.nan)"
   ]
  },
  {
   "cell_type": "code",
   "execution_count": 41,
   "metadata": {},
   "outputs": [
    {
     "name": "stdout",
     "output_type": "stream",
     "text": [
      "Index(['Rank', 'Title', 'Genre', 'Description', 'Director', 'Actors', 'Year',\n",
      "       'Runtime (Minutes)', 'Rating', 'Votes', 'Revenue (Millions)',\n",
      "       'Metascore'],\n",
      "      dtype='object')\n"
     ]
    }
   ],
   "source": [
    "movie = pd.read_csv('./data/IMDB-Movie-Data.csv')\n",
    "print(movie.columns)"
   ]
  },
  {
   "cell_type": "code",
   "execution_count": 42,
   "metadata": {},
   "outputs": [
    {
     "data": {
      "text/plain": [
       "True"
      ]
     },
     "execution_count": 42,
     "metadata": {},
     "output_type": "execute_result"
    }
   ],
   "source": [
    "np.any(pd.isnull(movie))"
   ]
  },
  {
   "cell_type": "code",
   "execution_count": 36,
   "metadata": {},
   "outputs": [
    {
     "data": {
      "text/plain": [
       "(1000, 12)"
      ]
     },
     "execution_count": 36,
     "metadata": {},
     "output_type": "execute_result"
    }
   ],
   "source": [
    "# 缺失值处理\n",
    "movie.shape"
   ]
  },
  {
   "cell_type": "code",
   "execution_count": 45,
   "metadata": {},
   "outputs": [],
   "source": [
    "data = movie.dropna()"
   ]
  },
  {
   "cell_type": "code",
   "execution_count": 46,
   "metadata": {},
   "outputs": [
    {
     "data": {
      "text/plain": [
       "(838, 12)"
      ]
     },
     "execution_count": 46,
     "metadata": {},
     "output_type": "execute_result"
    }
   ],
   "source": [
    "data.shape"
   ]
  },
  {
   "cell_type": "code",
   "execution_count": 47,
   "metadata": {},
   "outputs": [],
   "source": [
    "# 以平均值填充\n",
    "movie['Revenue (Millions)'].fillna(movie['Revenue (Millions)'].mean(),inplace = True)"
   ]
  },
  {
   "cell_type": "code",
   "execution_count": 49,
   "metadata": {},
   "outputs": [
    {
     "data": {
      "text/plain": [
       "0    333.130000\n",
       "1    126.460000\n",
       "2    138.120000\n",
       "3    270.320000\n",
       "4    325.020000\n",
       "5     45.130000\n",
       "6    151.060000\n",
       "7     82.956376\n",
       "8      8.010000\n",
       "9    100.010000\n",
       "Name: Revenue (Millions), dtype: float64"
      ]
     },
     "execution_count": 49,
     "metadata": {},
     "output_type": "execute_result"
    }
   ],
   "source": [
    "movie['Revenue (Millions)'].head(10)"
   ]
  },
  {
   "cell_type": "code",
   "execution_count": 50,
   "metadata": {},
   "outputs": [
    {
     "data": {
      "text/plain": [
       "True"
      ]
     },
     "execution_count": 50,
     "metadata": {},
     "output_type": "execute_result"
    }
   ],
   "source": [
    "np.any(pd.isnull(movie))"
   ]
  },
  {
   "cell_type": "code",
   "execution_count": 51,
   "metadata": {},
   "outputs": [
    {
     "name": "stdout",
     "output_type": "stream",
     "text": [
      "Metascore\n"
     ]
    }
   ],
   "source": [
    "for i in movie.columns:\n",
    "    if np.any(pd.isnull(movie[i])):\n",
    "        print(i)\n",
    "        movie[i].fillna(movie[i].mean(),inplace = True)"
   ]
  },
  {
   "cell_type": "code",
   "execution_count": 52,
   "metadata": {},
   "outputs": [],
   "source": [
    "wis = pd.read_csv(\"https://archive.ics.uci.edu/ml/machine-learning-databases/breast-cancer-wisconsin/breast-cancer-wisconsin.data\")"
   ]
  },
  {
   "cell_type": "code",
   "execution_count": 53,
   "metadata": {},
   "outputs": [
    {
     "data": {
      "text/plain": [
       "True"
      ]
     },
     "execution_count": 53,
     "metadata": {},
     "output_type": "execute_result"
    }
   ],
   "source": [
    "np.any(wis==\"?\")"
   ]
  },
  {
   "cell_type": "code",
   "execution_count": 54,
   "metadata": {},
   "outputs": [],
   "source": [
    "wis.replace(to_replace=\"?\",value=np.nan,inplace=True)"
   ]
  },
  {
   "cell_type": "code",
   "execution_count": 55,
   "metadata": {},
   "outputs": [
    {
     "data": {
      "text/plain": [
       "(698, 11)"
      ]
     },
     "execution_count": 55,
     "metadata": {},
     "output_type": "execute_result"
    }
   ],
   "source": [
    "wis.shape"
   ]
  },
  {
   "cell_type": "code",
   "execution_count": 57,
   "metadata": {},
   "outputs": [],
   "source": [
    "data = wis.dropna()"
   ]
  },
  {
   "cell_type": "code",
   "execution_count": 58,
   "metadata": {},
   "outputs": [
    {
     "data": {
      "text/plain": [
       "(682, 11)"
      ]
     },
     "execution_count": 58,
     "metadata": {},
     "output_type": "execute_result"
    }
   ],
   "source": [
    "data.shape"
   ]
  }
 ],
 "metadata": {
  "kernelspec": {
   "display_name": "Python 3",
   "language": "python",
   "name": "python3"
  },
  "language_info": {
   "codemirror_mode": {
    "name": "ipython",
    "version": 3
   },
   "file_extension": ".py",
   "mimetype": "text/x-python",
   "name": "python",
   "nbconvert_exporter": "python",
   "pygments_lexer": "ipython3",
   "version": "3.6.0"
  }
 },
 "nbformat": 4,
 "nbformat_minor": 2
}
