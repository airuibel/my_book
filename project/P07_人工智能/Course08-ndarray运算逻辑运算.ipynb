{
 "cells": [
  {
   "cell_type": "code",
   "execution_count": 1,
   "metadata": {},
   "outputs": [],
   "source": [
    "#逻辑运算\n",
    "import numpy as np\n",
    "np.random.seed(1)"
   ]
  },
  {
   "cell_type": "code",
   "execution_count": 2,
   "metadata": {},
   "outputs": [],
   "source": [
    "# 生成10名同学，五门功课的数据\n",
    "score = np.random.randint(0,100,size=(10,5))"
   ]
  },
  {
   "cell_type": "code",
   "execution_count": 3,
   "metadata": {},
   "outputs": [
    {
     "data": {
      "text/plain": [
       "array([[37, 12, 72,  9, 75],\n",
       "       [ 5, 79, 64, 16,  1],\n",
       "       [76, 71,  6, 25, 50],\n",
       "       [20, 18, 84, 11, 28],\n",
       "       [29, 14, 50, 68, 87],\n",
       "       [87, 94, 96, 86, 13],\n",
       "       [ 9,  7, 63, 61, 22],\n",
       "       [57,  1,  0, 60, 81],\n",
       "       [ 8, 88, 13, 47, 72],\n",
       "       [30, 71,  3, 70, 21]])"
      ]
     },
     "execution_count": 3,
     "metadata": {},
     "output_type": "execute_result"
    }
   ],
   "source": [
    "score"
   ]
  },
  {
   "cell_type": "code",
   "execution_count": 4,
   "metadata": {},
   "outputs": [],
   "source": [
    "# 取出最后四名同学的成绩\n",
    "test_score = score[-4:,:]"
   ]
  },
  {
   "cell_type": "code",
   "execution_count": 5,
   "metadata": {},
   "outputs": [
    {
     "data": {
      "text/plain": [
       "array([[ 9,  7, 63, 61, 22],\n",
       "       [57,  1,  0, 60, 81],\n",
       "       [ 8, 88, 13, 47, 72],\n",
       "       [30, 71,  3, 70, 21]])"
      ]
     },
     "execution_count": 5,
     "metadata": {},
     "output_type": "execute_result"
    }
   ],
   "source": [
    "test_score"
   ]
  },
  {
   "cell_type": "code",
   "execution_count": 6,
   "metadata": {},
   "outputs": [
    {
     "data": {
      "text/plain": [
       "array([[False, False,  True,  True, False],\n",
       "       [False, False, False, False,  True],\n",
       "       [False,  True, False, False,  True],\n",
       "       [False,  True, False,  True, False]])"
      ]
     },
     "execution_count": 6,
     "metadata": {},
     "output_type": "execute_result"
    }
   ],
   "source": [
    "# 进行逻辑运算\n",
    "test_score > 60"
   ]
  },
  {
   "cell_type": "code",
   "execution_count": 9,
   "metadata": {},
   "outputs": [],
   "source": [
    "test_score[test_score >= 60] = 1"
   ]
  },
  {
   "cell_type": "code",
   "execution_count": 10,
   "metadata": {},
   "outputs": [
    {
     "data": {
      "text/plain": [
       "array([[ 9,  7,  1,  1, 22],\n",
       "       [57,  1,  0,  1,  1],\n",
       "       [ 8,  1, 13, 47,  1],\n",
       "       [30,  1,  3,  1, 21]])"
      ]
     },
     "execution_count": 10,
     "metadata": {},
     "output_type": "execute_result"
    }
   ],
   "source": [
    "test_score"
   ]
  },
  {
   "cell_type": "code",
   "execution_count": null,
   "metadata": {},
   "outputs": [],
   "source": [
    "# 通用判断函数"
   ]
  },
  {
   "cell_type": "code",
   "execution_count": 19,
   "metadata": {},
   "outputs": [
    {
     "data": {
      "text/plain": [
       "False"
      ]
     },
     "execution_count": 19,
     "metadata": {},
     "output_type": "execute_result"
    }
   ],
   "source": [
    "# 判断前两名的成绩是否全部合格\n",
    "np.all(score[:2,:] > 60)"
   ]
  },
  {
   "cell_type": "code",
   "execution_count": 20,
   "metadata": {},
   "outputs": [
    {
     "data": {
      "text/plain": [
       "False"
      ]
     },
     "execution_count": 20,
     "metadata": {},
     "output_type": "execute_result"
    }
   ],
   "source": [
    "# 判断前两名的成绩是否有大于90的\n",
    "np.any(score[:2,:] >90)"
   ]
  },
  {
   "cell_type": "code",
   "execution_count": null,
   "metadata": {},
   "outputs": [],
   "source": [
    "# np.where（条件，判断为真执行的代码。判断为假执行的代码） 三元运算符\n",
    "# 复合逻辑需要结合np.logical_and和np.logical_or使用"
   ]
  },
  {
   "cell_type": "code",
   "execution_count": 18,
   "metadata": {},
   "outputs": [
    {
     "data": {
      "text/plain": [
       "array([[0, 0, 1, 0],\n",
       "       [0, 1, 1, 0],\n",
       "       [1, 1, 0, 0],\n",
       "       [0, 0, 1, 0]])"
      ]
     },
     "execution_count": 18,
     "metadata": {},
     "output_type": "execute_result"
    }
   ],
   "source": [
    "# 判断前四名学生,前四门课程中，成绩中大于60且小于90的换为1，否则为0\n",
    "np.where(np.logical_and(score[:4,:4] >60,score[:4,:4] < 90),1,0)"
   ]
  },
  {
   "cell_type": "code",
   "execution_count": 21,
   "metadata": {},
   "outputs": [
    {
     "data": {
      "text/plain": [
       "array([[1, 1, 0, 1],\n",
       "       [1, 0, 0, 1],\n",
       "       [0, 0, 1, 1],\n",
       "       [1, 1, 0, 1]])"
      ]
     },
     "execution_count": 21,
     "metadata": {},
     "output_type": "execute_result"
    }
   ],
   "source": [
    "# 判断前四名学生,前四门课程中，成绩中大于90或小于60的换为1，否则为0\n",
    "np.where(np.logical_or(score[:4,:4] >90,score[:4,:4] < 60),1,0)"
   ]
  },
  {
   "cell_type": "code",
   "execution_count": null,
   "metadata": {},
   "outputs": [],
   "source": [
    "# 统计计算\n",
    "# 4.1 统计指标\n",
    "# 在数据挖掘/机器学习领域，统计指标的值也是我们分析问题的一种方式。常用的指标如下：\n",
    "\n",
    "# min(a, axis)\n",
    "# Return the minimum of an array or minimum along an axis.\n",
    "# max(a, axis])\n",
    "# Return the maximum of an array or maximum along an axis.\n",
    "# median(a, axis)\n",
    "# Compute the median along the specified axis.\n",
    "# mean(a, axis, dtype)\n",
    "# Compute the arithmetic mean along the specified axis.\n",
    "# std(a, axis, dtype)\n",
    "# Compute the standard deviation along the specified axis.\n",
    "# var(a, axis, dtype)\n",
    "# Compute the variance along the specified axis."
   ]
  },
  {
   "cell_type": "code",
   "execution_count": 22,
   "metadata": {},
   "outputs": [],
   "source": [
    "# 学生成绩统计计算\n",
    "# 对前四名学生，进行一些统计计算\n",
    "tem = score[:4,:]"
   ]
  },
  {
   "cell_type": "code",
   "execution_count": 24,
   "metadata": {},
   "outputs": [
    {
     "data": {
      "text/plain": [
       "array([[37, 12, 72,  9, 75],\n",
       "       [ 5, 79, 64, 16,  1],\n",
       "       [76, 71,  6, 25, 50],\n",
       "       [20, 18, 84, 11, 28]])"
      ]
     },
     "execution_count": 24,
     "metadata": {},
     "output_type": "execute_result"
    }
   ],
   "source": [
    "tem"
   ]
  },
  {
   "cell_type": "code",
   "execution_count": 25,
   "metadata": {},
   "outputs": [
    {
     "data": {
      "text/plain": [
       "array([76, 79, 84, 25, 75])"
      ]
     },
     "execution_count": 25,
     "metadata": {},
     "output_type": "execute_result"
    }
   ],
   "source": [
    "# 前四名学生，各科成绩的最大分\n",
    "np.max(tem,axis=0)"
   ]
  },
  {
   "cell_type": "code",
   "execution_count": 26,
   "metadata": {},
   "outputs": [
    {
     "data": {
      "text/plain": [
       "array([ 5, 12,  6,  9,  1])"
      ]
     },
     "execution_count": 26,
     "metadata": {},
     "output_type": "execute_result"
    }
   ],
   "source": [
    "# 前四名学生，各科成绩的最小分\n",
    "np.min(tem,axis=0)"
   ]
  },
  {
   "cell_type": "code",
   "execution_count": 27,
   "metadata": {},
   "outputs": [
    {
     "data": {
      "text/plain": [
       "array([26.5       , 30.20761493, 30.0124974 ,  6.17960355, 27.29926739])"
      ]
     },
     "execution_count": 27,
     "metadata": {},
     "output_type": "execute_result"
    }
   ],
   "source": [
    "# 前四名学生，各科成绩的波动情况\n",
    "np.std(tem,axis=0)"
   ]
  },
  {
   "cell_type": "code",
   "execution_count": 28,
   "metadata": {},
   "outputs": [
    {
     "data": {
      "text/plain": [
       "array([34.5 , 45.  , 56.5 , 15.25, 38.5 ])"
      ]
     },
     "execution_count": 28,
     "metadata": {},
     "output_type": "execute_result"
    }
   ],
   "source": [
    "# 前四名学生，各科成绩的平均分\n",
    "np.mean(tem,axis=0)"
   ]
  },
  {
   "cell_type": "code",
   "execution_count": null,
   "metadata": {},
   "outputs": [],
   "source": [
    "# 统计出某科最高分对应的同学\n",
    "# np.argmax(temp, axis=)\n",
    "# np.argmin(temp, axis=)"
   ]
  },
  {
   "cell_type": "code",
   "execution_count": 30,
   "metadata": {},
   "outputs": [
    {
     "data": {
      "text/plain": [
       "array([4, 1, 0, 2], dtype=int64)"
      ]
     },
     "execution_count": 30,
     "metadata": {},
     "output_type": "execute_result"
    }
   ],
   "source": [
    "np.argmax(tem,axis=1)"
   ]
  },
  {
   "cell_type": "markdown",
   "metadata": {},
   "source": [
    "## 5 小结\n",
    "- \n",
    "```\n",
    "    逻辑运算【知道】\n",
    "    直接进行大于,小于的判断\n",
    "    合适之后,可以直接进行赋值\n",
    "    通用判断函数【知道】\n",
    "    np.all()\n",
    "    np.any()\n",
    "    统计运算【掌握】\n",
    "    np.max()\n",
    "    np.min()\n",
    "    np.median()\n",
    "    np.mean()\n",
    "    np.std()\n",
    "    np.var()\n",
    "    np.argmax(axis=) — 最大元素对应的下标\n",
    "    np.argmin(axis=) — 最小元素对应的下标\n",
    "    ```"
   ]
  },
  {
   "cell_type": "code",
   "execution_count": null,
   "metadata": {},
   "outputs": [],
   "source": []
  }
 ],
 "metadata": {
  "kernelspec": {
   "display_name": "Python 3",
   "language": "python",
   "name": "python3"
  },
  "language_info": {
   "codemirror_mode": {
    "name": "ipython",
    "version": 3
   },
   "file_extension": ".py",
   "mimetype": "text/x-python",
   "name": "python",
   "nbconvert_exporter": "python",
   "pygments_lexer": "ipython3",
   "version": "3.6.0"
  }
 },
 "nbformat": 4,
 "nbformat_minor": 2
}
