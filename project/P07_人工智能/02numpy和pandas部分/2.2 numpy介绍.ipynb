{
 "cells": [
  {
   "cell_type": "code",
   "execution_count": 59,
   "metadata": {},
   "outputs": [],
   "source": [
    "import numpy as np\n",
    "import matplotlib.pyplot as plt"
   ]
  },
  {
   "cell_type": "code",
   "execution_count": 6,
   "metadata": {},
   "outputs": [],
   "source": [
    "# 创建ndarray\n",
    "score = np.array(\n",
    "[[80, 89, 86, 67, 79],\n",
    "[78, 97, 89, 67, 81],\n",
    "[90, 94, 78, 67, 74],\n",
    "[91, 91, 90, 67, 69],\n",
    "[76, 87, 75, 67, 86],\n",
    "[70, 79, 84, 67, 84],\n",
    "[94, 92, 93, 67, 64],\n",
    "[86, 85, 83, 67, 80]])"
   ]
  },
  {
   "cell_type": "code",
   "execution_count": 7,
   "metadata": {},
   "outputs": [
    {
     "data": {
      "text/plain": [
       "array([[80, 89, 86, 67, 79],\n",
       "       [78, 97, 89, 67, 81],\n",
       "       [90, 94, 78, 67, 74],\n",
       "       [91, 91, 90, 67, 69],\n",
       "       [76, 87, 75, 67, 86],\n",
       "       [70, 79, 84, 67, 84],\n",
       "       [94, 92, 93, 67, 64],\n",
       "       [86, 85, 83, 67, 80]])"
      ]
     },
     "execution_count": 7,
     "metadata": {},
     "output_type": "execute_result"
    }
   ],
   "source": [
    "score"
   ]
  },
  {
   "cell_type": "markdown",
   "metadata": {},
   "source": [
    "# ndarray 效率对比"
   ]
  },
  {
   "cell_type": "code",
   "execution_count": 8,
   "metadata": {},
   "outputs": [
    {
     "name": "stdout",
     "output_type": "stream",
     "text": [
      "CPU times: user 6.79 ms, sys: 1.95 ms, total: 8.73 ms\n",
      "Wall time: 8.77 ms\n",
      "CPU times: user 842 µs, sys: 65 µs, total: 907 µs\n",
      "Wall time: 769 µs\n"
     ]
    }
   ],
   "source": [
    "import random\n",
    "import time\n",
    "import numpy as np\n",
    "a = []\n",
    "for i in range(1000000):\n",
    "    a.append(random.random())\n",
    "\n",
    "# 通过%time魔法方法, 查看当前行的代码运行一次所花费的时间\n",
    "%time sum1=sum(a)\n",
    "\n",
    "b=np.array(a)\n",
    "\n",
    "%time sum2=np.sum(b)"
   ]
  },
  {
   "cell_type": "markdown",
   "metadata": {},
   "source": [
    "# 1 ndarray的属性"
   ]
  },
  {
   "cell_type": "code",
   "execution_count": 9,
   "metadata": {},
   "outputs": [
    {
     "data": {
      "text/plain": [
       "array([[80, 89, 86, 67, 79],\n",
       "       [78, 97, 89, 67, 81],\n",
       "       [90, 94, 78, 67, 74],\n",
       "       [91, 91, 90, 67, 69],\n",
       "       [76, 87, 75, 67, 86],\n",
       "       [70, 79, 84, 67, 84],\n",
       "       [94, 92, 93, 67, 64],\n",
       "       [86, 85, 83, 67, 80]])"
      ]
     },
     "execution_count": 9,
     "metadata": {},
     "output_type": "execute_result"
    }
   ],
   "source": [
    "score"
   ]
  },
  {
   "cell_type": "code",
   "execution_count": 10,
   "metadata": {},
   "outputs": [
    {
     "data": {
      "text/plain": [
       "(8, 5)"
      ]
     },
     "execution_count": 10,
     "metadata": {},
     "output_type": "execute_result"
    }
   ],
   "source": [
    "score.shape"
   ]
  },
  {
   "cell_type": "code",
   "execution_count": 11,
   "metadata": {},
   "outputs": [
    {
     "data": {
      "text/plain": [
       "2"
      ]
     },
     "execution_count": 11,
     "metadata": {},
     "output_type": "execute_result"
    }
   ],
   "source": [
    "score.ndim"
   ]
  },
  {
   "cell_type": "code",
   "execution_count": 12,
   "metadata": {},
   "outputs": [
    {
     "data": {
      "text/plain": [
       "40"
      ]
     },
     "execution_count": 12,
     "metadata": {},
     "output_type": "execute_result"
    }
   ],
   "source": [
    "score.size"
   ]
  },
  {
   "cell_type": "code",
   "execution_count": 13,
   "metadata": {},
   "outputs": [
    {
     "data": {
      "text/plain": [
       "dtype('int64')"
      ]
     },
     "execution_count": 13,
     "metadata": {},
     "output_type": "execute_result"
    }
   ],
   "source": [
    "score.dtype"
   ]
  },
  {
   "cell_type": "code",
   "execution_count": 14,
   "metadata": {},
   "outputs": [
    {
     "data": {
      "text/plain": [
       "8"
      ]
     },
     "execution_count": 14,
     "metadata": {},
     "output_type": "execute_result"
    }
   ],
   "source": [
    "score.itemsize"
   ]
  },
  {
   "cell_type": "markdown",
   "metadata": {},
   "source": [
    "# ndarray 形状"
   ]
  },
  {
   "cell_type": "code",
   "execution_count": 15,
   "metadata": {},
   "outputs": [],
   "source": [
    "# 创建不同形状的数组\n",
    "a = np.array([[1,2,3],[4,5,6]])\n",
    "b = np.array([1,2,3,4])\n",
    "c = np.array([[[1,2,3],[4,5,6]],[[1,2,3],[4,5,6]]])"
   ]
  },
  {
   "cell_type": "code",
   "execution_count": 19,
   "metadata": {},
   "outputs": [
    {
     "data": {
      "text/plain": [
       "(2, 3)"
      ]
     },
     "execution_count": 19,
     "metadata": {},
     "output_type": "execute_result"
    }
   ],
   "source": [
    "a.shape# (2,3)"
   ]
  },
  {
   "cell_type": "code",
   "execution_count": 20,
   "metadata": {},
   "outputs": [
    {
     "data": {
      "text/plain": [
       "(4,)"
      ]
     },
     "execution_count": 20,
     "metadata": {},
     "output_type": "execute_result"
    }
   ],
   "source": [
    "b.shape# (4,)"
   ]
  },
  {
   "cell_type": "code",
   "execution_count": 21,
   "metadata": {},
   "outputs": [
    {
     "data": {
      "text/plain": [
       "(2, 2, 3)"
      ]
     },
     "execution_count": 21,
     "metadata": {},
     "output_type": "execute_result"
    }
   ],
   "source": [
    "c.shape#(2,2,3)"
   ]
  },
  {
   "cell_type": "code",
   "execution_count": 26,
   "metadata": {},
   "outputs": [],
   "source": [
    "score1 = np.array(\n",
    "[[80, 89, 86, 67, 79],\n",
    "[78, 97, 89, 67, 81],\n",
    "[90, 94, 78, 67, 74],\n",
    "[91, 91, 90, 67, 69],\n",
    "[76, 87, 75, 67, 86],\n",
    "[70, 79, 84, 67, 84],\n",
    "[94, 92, 93, 67, 64],\n",
    "[86, 85, 83, 67, 80]],dtype=np.float32)"
   ]
  },
  {
   "cell_type": "code",
   "execution_count": 27,
   "metadata": {},
   "outputs": [
    {
     "data": {
      "text/plain": [
       "array([[80., 89., 86., 67., 79.],\n",
       "       [78., 97., 89., 67., 81.],\n",
       "       [90., 94., 78., 67., 74.],\n",
       "       [91., 91., 90., 67., 69.],\n",
       "       [76., 87., 75., 67., 86.],\n",
       "       [70., 79., 84., 67., 84.],\n",
       "       [94., 92., 93., 67., 64.],\n",
       "       [86., 85., 83., 67., 80.]], dtype=float32)"
      ]
     },
     "execution_count": 27,
     "metadata": {},
     "output_type": "execute_result"
    }
   ],
   "source": [
    "score1"
   ]
  },
  {
   "cell_type": "code",
   "execution_count": 30,
   "metadata": {},
   "outputs": [],
   "source": [
    "score2 = np.array(\n",
    "[[80, 89, 86, 67, 79],\n",
    "[78, 97, 89, 67, 81],\n",
    "[90, 94, 78, 67, 74],\n",
    "[91, 91, 90, 67, 69],\n",
    "[76, 87, 75, 67, 86],\n",
    "[70, 79, 84, 67, 84],\n",
    "[94, 92, 93, 67, 64],\n",
    "[86, 85, 83, 67, 80]],dtype=\"int32\")"
   ]
  },
  {
   "cell_type": "code",
   "execution_count": 31,
   "metadata": {},
   "outputs": [
    {
     "data": {
      "text/plain": [
       "array([[80, 89, 86, 67, 79],\n",
       "       [78, 97, 89, 67, 81],\n",
       "       [90, 94, 78, 67, 74],\n",
       "       [91, 91, 90, 67, 69],\n",
       "       [76, 87, 75, 67, 86],\n",
       "       [70, 79, 84, 67, 84],\n",
       "       [94, 92, 93, 67, 64],\n",
       "       [86, 85, 83, 67, 80]], dtype=int32)"
      ]
     },
     "execution_count": 31,
     "metadata": {},
     "output_type": "execute_result"
    }
   ],
   "source": [
    "score2"
   ]
  },
  {
   "cell_type": "markdown",
   "metadata": {},
   "source": [
    "# 生成0,1 数组"
   ]
  },
  {
   "cell_type": "code",
   "execution_count": 33,
   "metadata": {},
   "outputs": [],
   "source": [
    "ones = np.ones([4,5])"
   ]
  },
  {
   "cell_type": "code",
   "execution_count": 34,
   "metadata": {},
   "outputs": [
    {
     "data": {
      "text/plain": [
       "array([[0., 0., 0., 0., 0.],\n",
       "       [0., 0., 0., 0., 0.],\n",
       "       [0., 0., 0., 0., 0.],\n",
       "       [0., 0., 0., 0., 0.]])"
      ]
     },
     "execution_count": 34,
     "metadata": {},
     "output_type": "execute_result"
    }
   ],
   "source": [
    "np.zeros_like(ones)"
   ]
  },
  {
   "cell_type": "code",
   "execution_count": 35,
   "metadata": {},
   "outputs": [
    {
     "data": {
      "text/plain": [
       "array([[0., 0., 0., 0., 0., 0.],\n",
       "       [0., 0., 0., 0., 0., 0.],\n",
       "       [0., 0., 0., 0., 0., 0.],\n",
       "       [0., 0., 0., 0., 0., 0.],\n",
       "       [0., 0., 0., 0., 0., 0.]])"
      ]
     },
     "execution_count": 35,
     "metadata": {},
     "output_type": "execute_result"
    }
   ],
   "source": [
    "np.zeros([5,6])"
   ]
  },
  {
   "cell_type": "markdown",
   "metadata": {},
   "source": [
    "# 从现有数组生成"
   ]
  },
  {
   "cell_type": "code",
   "execution_count": 36,
   "metadata": {},
   "outputs": [],
   "source": [
    "a = np.array([[1,2,3],[4,5,6]])"
   ]
  },
  {
   "cell_type": "code",
   "execution_count": 39,
   "metadata": {},
   "outputs": [],
   "source": [
    "a1 = np.array(a)# 深拷贝"
   ]
  },
  {
   "cell_type": "code",
   "execution_count": 40,
   "metadata": {},
   "outputs": [],
   "source": [
    "a2 = np.asarray(a) # 浅拷贝"
   ]
  },
  {
   "cell_type": "code",
   "execution_count": 41,
   "metadata": {},
   "outputs": [
    {
     "data": {
      "text/plain": [
       "array([[1, 2, 3],\n",
       "       [4, 5, 6]])"
      ]
     },
     "execution_count": 41,
     "metadata": {},
     "output_type": "execute_result"
    }
   ],
   "source": [
    "a1"
   ]
  },
  {
   "cell_type": "code",
   "execution_count": 42,
   "metadata": {},
   "outputs": [
    {
     "data": {
      "text/plain": [
       "array([[1, 2, 3],\n",
       "       [4, 5, 6]])"
      ]
     },
     "execution_count": 42,
     "metadata": {},
     "output_type": "execute_result"
    }
   ],
   "source": [
    "a2"
   ]
  },
  {
   "cell_type": "code",
   "execution_count": 43,
   "metadata": {},
   "outputs": [],
   "source": [
    "a[0,1] = 100"
   ]
  },
  {
   "cell_type": "code",
   "execution_count": 44,
   "metadata": {},
   "outputs": [
    {
     "data": {
      "text/plain": [
       "array([[1, 2, 3],\n",
       "       [4, 5, 6]])"
      ]
     },
     "execution_count": 44,
     "metadata": {},
     "output_type": "execute_result"
    }
   ],
   "source": [
    "a1"
   ]
  },
  {
   "cell_type": "code",
   "execution_count": 45,
   "metadata": {},
   "outputs": [
    {
     "data": {
      "text/plain": [
       "array([[  1, 100,   3],\n",
       "       [  4,   5,   6]])"
      ]
     },
     "execution_count": 45,
     "metadata": {},
     "output_type": "execute_result"
    }
   ],
   "source": [
    "a2"
   ]
  },
  {
   "cell_type": "markdown",
   "metadata": {},
   "source": [
    "# 生成固定范围数组"
   ]
  },
  {
   "cell_type": "code",
   "execution_count": 48,
   "metadata": {},
   "outputs": [
    {
     "data": {
      "text/plain": [
       "array([0., 1., 2., 3., 4., 5., 6., 7., 8., 9.])"
      ]
     },
     "execution_count": 48,
     "metadata": {},
     "output_type": "execute_result"
    }
   ],
   "source": [
    "np.linspace(0,10,10,False)"
   ]
  },
  {
   "cell_type": "code",
   "execution_count": 50,
   "metadata": {},
   "outputs": [
    {
     "data": {
      "text/plain": [
       "array([ 0,  3,  6,  9, 12, 15, 18, 21, 24, 27, 30, 33, 36, 39, 42, 45, 48])"
      ]
     },
     "execution_count": 50,
     "metadata": {},
     "output_type": "execute_result"
    }
   ],
   "source": [
    "np.arange(0,50,3)"
   ]
  },
  {
   "cell_type": "code",
   "execution_count": 53,
   "metadata": {},
   "outputs": [
    {
     "data": {
      "text/plain": [
       "array([1., 3., 9.])"
      ]
     },
     "execution_count": 53,
     "metadata": {},
     "output_type": "execute_result"
    }
   ],
   "source": [
    "# 生成等比数列\n",
    "np.logspace(0,2,3,base=3)"
   ]
  },
  {
   "cell_type": "markdown",
   "metadata": {},
   "source": [
    "# 生成随机数组\n"
   ]
  },
  {
   "cell_type": "markdown",
   "metadata": {},
   "source": [
    "## 均匀分布数组"
   ]
  },
  {
   "cell_type": "code",
   "execution_count": 54,
   "metadata": {},
   "outputs": [
    {
     "data": {
      "text/plain": [
       "array([1.27469463e-01, 3.51726049e-01, 7.73610005e-01, 5.77905936e-01,\n",
       "       6.41595517e-01, 2.09926239e-01, 3.98283088e-01, 9.17422158e-01,\n",
       "       8.97403533e-01, 6.67518669e-02, 4.59415251e-01, 6.80649010e-02,\n",
       "       5.19703958e-01, 3.18850297e-01, 4.03160512e-01, 3.67948459e-01,\n",
       "       8.47598364e-02, 2.72836438e-01, 6.76721031e-01, 2.19860655e-01,\n",
       "       3.42020404e-01, 1.14899770e-01, 1.18202792e-01, 4.66230871e-02,\n",
       "       7.38778838e-01, 9.88438228e-01, 5.51081476e-01, 5.12859361e-02,\n",
       "       2.43409039e-01, 7.61139425e-01, 2.46085272e-01, 4.90158893e-01,\n",
       "       6.11229842e-01, 4.39727383e-01, 2.42545571e-01, 6.01725878e-01,\n",
       "       1.12878034e-02, 4.94153919e-01, 1.09047954e-02, 6.08455344e-01,\n",
       "       6.24238190e-01, 9.29087184e-01, 9.27552351e-01, 8.80346157e-02,\n",
       "       8.54726706e-02, 1.55254763e-01, 9.02512457e-01, 8.18725136e-01,\n",
       "       4.27031730e-01, 4.52168978e-01, 9.67130289e-01, 4.06016302e-01,\n",
       "       2.51977824e-01, 8.26519185e-01, 6.61408527e-01, 3.56571935e-01,\n",
       "       3.20974865e-02, 8.32770600e-01, 6.14003229e-01, 3.80975046e-01,\n",
       "       1.38574941e-01, 4.79064924e-01, 9.63986186e-01, 4.17097210e-01,\n",
       "       7.06920555e-01, 6.79314118e-01, 4.20343878e-01, 9.89320217e-01,\n",
       "       5.56408301e-01, 7.70220307e-01, 6.89665984e-01, 3.44199366e-01,\n",
       "       3.87698338e-01, 6.22208900e-01, 3.86594904e-01, 6.85316041e-01,\n",
       "       2.00033924e-01, 6.73633783e-01, 2.02474608e-01, 1.99822723e-01,\n",
       "       7.82052751e-01, 1.50977384e-01, 5.62476847e-01, 6.81663980e-01,\n",
       "       7.46115272e-01, 9.68612430e-02, 2.81454765e-01, 1.55601681e-01,\n",
       "       4.34482328e-01, 2.74212875e-01, 4.10720114e-01, 1.20667793e-01,\n",
       "       5.22228647e-01, 8.25482683e-01, 9.35423814e-01, 5.52298487e-01,\n",
       "       8.15773304e-01, 2.45392424e-01, 7.53934359e-01, 5.74511415e-01,\n",
       "       2.82591955e-01, 4.64655224e-01, 8.55346762e-01, 8.76619256e-01,\n",
       "       9.18471277e-02, 9.21192741e-01, 8.48741081e-01, 7.65599397e-01,\n",
       "       1.06202367e-01, 1.64667120e-01, 6.09796399e-01, 7.19881564e-01,\n",
       "       5.64521654e-01, 3.42586351e-01, 5.81432653e-01, 9.79989889e-01,\n",
       "       7.31575601e-01, 8.17763262e-01, 1.66930309e-01, 7.19659818e-01,\n",
       "       2.95613718e-01, 6.05931490e-01, 6.87593475e-01, 3.03828871e-01,\n",
       "       8.46598904e-02, 3.86701324e-01, 6.85431305e-02, 7.68638332e-01,\n",
       "       3.27726675e-01, 2.58442559e-01, 9.75653163e-01, 8.04972734e-01,\n",
       "       9.69259075e-01, 6.83700363e-01, 2.70094017e-02, 1.30452441e-01,\n",
       "       2.21514728e-01, 2.74597654e-02, 8.05630146e-01, 1.24546313e-01,\n",
       "       9.17201932e-01, 8.10606950e-01, 2.16359282e-01, 4.76590098e-01,\n",
       "       4.14458973e-01, 5.02112127e-01, 6.30449617e-01, 4.99641567e-01,\n",
       "       7.52830129e-01, 3.95473287e-01, 5.16242262e-01, 2.93915517e-01,\n",
       "       6.52776454e-01, 4.95377715e-01, 8.11188311e-01, 2.91766173e-01,\n",
       "       2.07523133e-01, 3.85873861e-01, 1.99849772e-01, 4.67513559e-01,\n",
       "       2.38767558e-01, 4.12083166e-01, 6.58136785e-01, 5.11971915e-01,\n",
       "       2.97479868e-01, 9.97427076e-01, 9.43091668e-01, 4.04205203e-01,\n",
       "       1.28222578e-01, 3.39371010e-01, 3.54477010e-01, 7.49314388e-02,\n",
       "       1.10229949e-01, 1.71341835e-01, 5.31888951e-02, 4.40023539e-01,\n",
       "       5.11105655e-01, 5.49906919e-02, 4.97744903e-01, 3.32779951e-01,\n",
       "       8.44357134e-01, 3.43928951e-01, 8.74841234e-01, 4.85030571e-01,\n",
       "       2.60710787e-01, 7.78356752e-01, 9.67277607e-01, 1.75408818e-01,\n",
       "       6.28110409e-01, 5.48924094e-02, 2.83951832e-01, 5.25386110e-01,\n",
       "       5.41151928e-01, 1.69758471e-01, 5.98919061e-01, 3.30214413e-01,\n",
       "       6.68256697e-01, 7.18857683e-01, 8.01955171e-01, 5.26016289e-01,\n",
       "       8.34010116e-01, 3.89342894e-01, 6.45280507e-01, 2.10087099e-01,\n",
       "       5.48948453e-01, 4.83753719e-01, 3.47803956e-01, 6.18237006e-01,\n",
       "       1.05046145e-01, 4.86273843e-01, 9.31024361e-01, 6.14242893e-01,\n",
       "       3.03835841e-01, 7.33953205e-01, 3.64252981e-02, 9.09700795e-01,\n",
       "       5.73147372e-01, 6.54553424e-01, 1.50866032e-01, 7.34720958e-01,\n",
       "       1.64195433e-01, 4.62485457e-01, 1.98420921e-01, 8.26936707e-01,\n",
       "       1.34739452e-01, 2.27558250e-01, 7.99228892e-01, 9.62791503e-01,\n",
       "       4.20066341e-01, 1.27813869e-02, 4.59531540e-01, 3.64057272e-01,\n",
       "       9.79543530e-01, 2.97244477e-01, 4.29236010e-02, 1.41451034e-01,\n",
       "       1.16855742e-01, 1.89477856e-01, 7.08020618e-01, 6.10791682e-01,\n",
       "       6.37080560e-01, 1.95684665e-01, 1.55914620e-01, 6.11108661e-01,\n",
       "       8.91857282e-01, 6.31320577e-01, 4.60244454e-01, 7.09122568e-01,\n",
       "       6.59387033e-01, 4.36265949e-01, 4.79521595e-01, 9.15572966e-01,\n",
       "       5.61250967e-02, 6.31026823e-01, 5.96905607e-01, 9.60929592e-01,\n",
       "       4.22603126e-01, 4.72623552e-02, 1.22874819e-01, 1.97106525e-01,\n",
       "       5.19545738e-01, 4.03642684e-01, 2.58924340e-02, 4.75136611e-01,\n",
       "       1.06870565e-01, 3.14737185e-01, 3.73310130e-01, 8.01285732e-01,\n",
       "       5.35418793e-01, 8.16105872e-01, 6.78445153e-01, 8.51562922e-01,\n",
       "       4.03699035e-01, 8.98531775e-03, 8.34621805e-01, 6.37175350e-01,\n",
       "       9.72394156e-01, 8.24529384e-01, 3.83524650e-01, 1.00773281e-01,\n",
       "       2.69349667e-01, 8.19419982e-01, 3.92811137e-01, 4.69637760e-01,\n",
       "       1.83681464e-01, 2.56753469e-01, 8.64139603e-01, 6.97430490e-01,\n",
       "       5.79844066e-01, 9.00321675e-01, 9.98085402e-02, 5.11485621e-01,\n",
       "       6.52552884e-01, 7.98095799e-01, 9.77748649e-01, 7.70565104e-01,\n",
       "       8.51670643e-01, 7.60085034e-01, 1.01521625e-01, 2.77575694e-01,\n",
       "       9.62870121e-01, 7.94628250e-01, 7.83625902e-01, 9.25857807e-01,\n",
       "       5.88589277e-01, 7.37633134e-01, 2.87109805e-01, 2.66567169e-01,\n",
       "       1.67805919e-01, 9.25099394e-01, 6.83144856e-02, 3.64831970e-01,\n",
       "       5.74547413e-01, 8.95675116e-01, 2.27613734e-01, 7.70473459e-01,\n",
       "       6.42724879e-01, 4.54982724e-01, 9.14712852e-01, 8.96394166e-01,\n",
       "       6.73738857e-01, 6.17080196e-01, 9.52685367e-01, 8.07738969e-02,\n",
       "       5.24228040e-01, 8.47183523e-01, 1.48069804e-01, 5.57008386e-01,\n",
       "       2.29022985e-01, 3.13476052e-01, 6.49974572e-02, 6.22256422e-01,\n",
       "       5.48492147e-01, 8.51628214e-01, 8.72273958e-01, 6.85777305e-01,\n",
       "       4.14745814e-02, 9.66025980e-01, 4.76202045e-01, 1.78372053e-01,\n",
       "       6.75838659e-01, 4.71572445e-01, 2.85264557e-01, 2.31694277e-01,\n",
       "       9.01165977e-01, 8.08066680e-01, 1.82035638e-01, 3.13289900e-01,\n",
       "       5.95758787e-01, 5.26067481e-01, 2.67997374e-01, 9.81494382e-01,\n",
       "       6.68448706e-01, 6.28162354e-01, 2.44634658e-01, 3.80763898e-02,\n",
       "       8.96252223e-01, 6.85853697e-01, 4.98171427e-01, 6.16057055e-02,\n",
       "       1.59022439e-01, 5.75157838e-01, 5.16295579e-01, 5.51726739e-01,\n",
       "       6.41327825e-01, 8.15953024e-01, 3.05761459e-01, 3.94549160e-01,\n",
       "       2.60677376e-01, 3.34366087e-01, 7.70743624e-01, 1.99560536e-01,\n",
       "       5.30723311e-01, 9.68241112e-01, 5.11891434e-01, 1.92273720e-01,\n",
       "       7.81675396e-01, 9.65503421e-01, 8.00907904e-01, 6.19845739e-02,\n",
       "       8.50410510e-01, 2.96105523e-01, 5.66801820e-01, 3.98770845e-01,\n",
       "       6.25282639e-01, 7.42928171e-01, 6.45821063e-01, 2.03299457e-01,\n",
       "       7.02724146e-01, 6.04982510e-01, 8.12706105e-01, 4.86920666e-01,\n",
       "       4.66859694e-01, 5.76560585e-01, 5.36057389e-01, 7.45631354e-04,\n",
       "       6.35859667e-02, 3.33332272e-01, 4.31121347e-01, 2.39915387e-01,\n",
       "       5.43020260e-01, 3.00610745e-01, 8.24499438e-01, 9.72095980e-01,\n",
       "       3.86240991e-02, 3.26953495e-01, 5.62935015e-01, 7.16946132e-01,\n",
       "       3.52060691e-01, 1.95723739e-01, 7.23624696e-01, 9.78815403e-01,\n",
       "       2.10153924e-01, 9.69719296e-01, 3.93089020e-01, 9.72284321e-01,\n",
       "       4.45035413e-01, 7.17441396e-01, 6.27483582e-01, 6.72088207e-01,\n",
       "       7.97872057e-01, 2.62114847e-01, 5.30967056e-01, 8.86901790e-01,\n",
       "       9.63386436e-02, 3.08358691e-01, 6.51157631e-01, 5.49694235e-01,\n",
       "       3.12374178e-02, 9.51350475e-01, 7.65382397e-01, 7.35264934e-01,\n",
       "       5.43263218e-01, 8.04284923e-01, 2.06761877e-01, 2.99327488e-01,\n",
       "       6.48161199e-01, 7.66963570e-01, 4.57138544e-03, 7.26879543e-01,\n",
       "       9.13896255e-01, 3.47069500e-01, 4.39234842e-01, 4.24697199e-01,\n",
       "       4.83326528e-01, 5.56859799e-01, 6.93891552e-01, 4.67207147e-01,\n",
       "       9.87968094e-01, 4.68388145e-01, 4.95068498e-01, 7.20490680e-01,\n",
       "       6.81498832e-01, 3.17705609e-01, 6.16155866e-01, 3.44337475e-01,\n",
       "       4.15283515e-01, 2.44467083e-01, 6.68831396e-02, 4.44999672e-01,\n",
       "       8.74807908e-01, 5.16310507e-01, 4.12175875e-01, 2.78615970e-01,\n",
       "       2.11731471e-01, 4.77550449e-01, 2.84876858e-01, 4.81809837e-01,\n",
       "       6.72208159e-01, 5.75855901e-01, 8.82863604e-01, 3.52173351e-01,\n",
       "       3.55060868e-01, 4.18144003e-02, 7.63891861e-01, 3.24157051e-01,\n",
       "       1.33638961e-02, 4.56822384e-02, 9.58589227e-01, 1.72268080e-01,\n",
       "       1.46362910e-01, 7.25530704e-01, 8.93647881e-01, 5.33394054e-01,\n",
       "       4.70605623e-01, 2.75292672e-01, 1.53927180e-01, 2.20346424e-02,\n",
       "       2.49560252e-02, 9.60032749e-01, 7.32355381e-01, 4.20673754e-01,\n",
       "       3.56563077e-01, 6.28077184e-01, 7.71501952e-01, 4.22661741e-01,\n",
       "       9.45777441e-01, 7.37053156e-02, 2.51458911e-01, 3.38216037e-01,\n",
       "       7.59349923e-02, 2.79297562e-01, 5.14262919e-01, 4.86262647e-01,\n",
       "       6.98955619e-01, 7.18126040e-01, 2.03062958e-01, 7.70487232e-01,\n",
       "       9.20217541e-02, 2.89680351e-01, 5.94392969e-01, 1.54121824e-01,\n",
       "       3.68947125e-01, 4.22346130e-01, 9.09905626e-02, 6.85827272e-01,\n",
       "       4.74763301e-01, 2.83042134e-01, 9.58443283e-01, 3.62622429e-01,\n",
       "       9.56792514e-01, 6.09779552e-01, 1.43949508e-02, 2.42029653e-01,\n",
       "       5.16485072e-01, 1.21883653e-01, 5.67836020e-01, 9.60541660e-01,\n",
       "       5.96887268e-01, 3.77480208e-01, 5.55049482e-01, 7.70602021e-01,\n",
       "       3.21067353e-01, 1.27103640e-01, 8.35759464e-01, 8.98754275e-01,\n",
       "       6.74996221e-01, 6.98308667e-02, 2.98028562e-01, 7.51298710e-01,\n",
       "       6.81145024e-01, 5.56547867e-01, 6.62360898e-01, 8.30190418e-01,\n",
       "       5.05869289e-01, 2.70043422e-01, 4.31171843e-01, 9.80203024e-01,\n",
       "       4.03483443e-01, 7.19270226e-01, 4.32457647e-01, 8.62849343e-01,\n",
       "       5.00455714e-01, 9.67840599e-01, 1.51479036e-01, 1.37277666e-01,\n",
       "       7.28215402e-01, 9.84662421e-01, 3.73616439e-01, 1.26815566e-01,\n",
       "       6.86757229e-01, 8.43680432e-01, 2.26839354e-02, 5.62593146e-01,\n",
       "       5.36299747e-01, 4.92189485e-01, 5.94105332e-01, 2.68995818e-01,\n",
       "       8.86233671e-01, 6.11759463e-01, 9.22552040e-01, 5.00754084e-01,\n",
       "       9.52560087e-01, 3.93326561e-01, 3.59916344e-01, 9.89446004e-01,\n",
       "       5.73851508e-01, 7.10381461e-01, 7.13856110e-01, 7.88385370e-01,\n",
       "       9.47767814e-01, 4.26032273e-01, 9.87893408e-01, 5.95508336e-01,\n",
       "       7.80106508e-01, 7.47160332e-01, 2.40087624e-01, 3.62480311e-01,\n",
       "       1.30287863e-01, 8.99012459e-01, 4.20589661e-01, 2.00251723e-01,\n",
       "       7.02034185e-01, 7.80357732e-01, 3.14864790e-01, 4.20556134e-01,\n",
       "       3.08072607e-01, 7.61403974e-01, 8.42625281e-02, 4.48055850e-01,\n",
       "       9.14255387e-01, 5.70897731e-01, 7.23069866e-01, 7.03191640e-01,\n",
       "       4.02532589e-01, 4.01251795e-01, 1.10788306e-01, 5.16363623e-01,\n",
       "       9.73840376e-01, 5.57623912e-02, 9.94226060e-01, 6.07647679e-01,\n",
       "       4.50480824e-01, 9.13762593e-01, 7.65131312e-02, 7.41112842e-01,\n",
       "       4.67399608e-01, 8.75127276e-01, 4.45694101e-01, 1.01697522e-01,\n",
       "       9.41368175e-01, 7.08322801e-01, 4.26588243e-01, 1.71411319e-01,\n",
       "       7.19797020e-01, 4.04879790e-01, 5.52249981e-01, 1.63906013e-01,\n",
       "       6.66527148e-01, 9.82803723e-01, 8.02822328e-01, 2.47856806e-01,\n",
       "       4.79623093e-01, 2.58440334e-01, 2.01295684e-01, 4.68104373e-01,\n",
       "       2.97873453e-01, 9.70841279e-01, 9.40670182e-01, 9.76515565e-01,\n",
       "       6.87311751e-01, 5.06282128e-01, 9.29123102e-01, 5.97610511e-01,\n",
       "       3.22937780e-01, 9.99850678e-01, 9.75336429e-01, 6.55958231e-01,\n",
       "       5.66018954e-02, 9.33083810e-01, 7.67794362e-01, 7.66835421e-01,\n",
       "       1.20423741e-01, 3.24770382e-01, 2.95145263e-01, 3.54619130e-01,\n",
       "       5.23809359e-01, 9.85203120e-01, 3.39924786e-01, 3.01220008e-01,\n",
       "       9.77899558e-01, 4.41557042e-01, 2.79724532e-01, 5.78157956e-01,\n",
       "       8.71567670e-01, 6.41871695e-01, 5.62622094e-01, 3.96637036e-01,\n",
       "       1.40415078e-01, 8.09448630e-01, 6.20925607e-01, 3.20617257e-01,\n",
       "       5.57458209e-01, 1.80381692e-01, 5.37894372e-01, 9.12121246e-01,\n",
       "       2.30921980e-01, 3.90619126e-01, 3.15058420e-01, 2.45509271e-01,\n",
       "       8.73985160e-02, 6.34913431e-01, 2.99795578e-01, 9.35858815e-02,\n",
       "       3.05710613e-01, 7.21131279e-01, 9.12264577e-01, 8.69373327e-01,\n",
       "       3.12224632e-01, 2.77094985e-01, 6.95915406e-01, 7.84242157e-01,\n",
       "       3.81182362e-01, 1.84399612e-01, 1.32703613e-04, 6.11455190e-01,\n",
       "       8.32581352e-01, 5.31027859e-01, 8.88801743e-01, 7.35175885e-01,\n",
       "       3.31834504e-01, 3.88012746e-01, 4.40926963e-01, 3.67972738e-01,\n",
       "       4.43818788e-01, 8.01258179e-01, 1.39139778e-01, 3.83938521e-01,\n",
       "       4.44891348e-01, 7.65168665e-01, 7.22521028e-01, 6.25377237e-01,\n",
       "       6.80336976e-01, 6.96156333e-01, 9.98873656e-01, 9.42326325e-02,\n",
       "       7.63366764e-01, 4.83694146e-02, 3.90710331e-01, 5.89193706e-01,\n",
       "       4.57906621e-01, 9.86752713e-01, 6.33352682e-01, 2.27103372e-01,\n",
       "       8.79880364e-02, 6.80728868e-01, 5.84163472e-01, 8.49607958e-02,\n",
       "       7.01990813e-01, 3.61261048e-01, 2.33741653e-01, 6.31924612e-01,\n",
       "       2.25365025e-01, 4.60878350e-01, 5.95016472e-01, 2.68191454e-01,\n",
       "       2.04560437e-01, 4.63676123e-01, 9.00429323e-01, 6.35552098e-01,\n",
       "       4.55299724e-01, 4.58370371e-01, 9.09231048e-01, 6.52320141e-01,\n",
       "       5.58956673e-01, 6.15089955e-01, 5.07026807e-01, 1.93675028e-03,\n",
       "       6.23103217e-01, 7.66119003e-01, 8.35073288e-02, 7.53344586e-01,\n",
       "       8.15131113e-01, 3.33061251e-01, 8.64540075e-01, 6.75687163e-02,\n",
       "       1.68021074e-01, 1.34308646e-01, 9.50656625e-01, 5.42884872e-01,\n",
       "       9.13025931e-01, 1.06064655e-01, 2.49239940e-01, 3.78545031e-01,\n",
       "       8.85787765e-01, 5.55315229e-02, 9.45968432e-01, 8.39231686e-01,\n",
       "       2.21614945e-01, 4.85921338e-01, 6.60193894e-01, 3.55361997e-01,\n",
       "       1.78885293e-01, 8.88956553e-01, 4.00306066e-01, 1.63717516e-01,\n",
       "       6.72185106e-01, 7.88569279e-01, 1.67996120e-01, 4.72983736e-01,\n",
       "       8.82272265e-01, 8.31003713e-01, 7.29656091e-01, 5.02038008e-03,\n",
       "       9.29391626e-01, 8.70000046e-01, 3.35918609e-01, 8.98322034e-01,\n",
       "       8.89380486e-01, 1.12950495e-01, 7.25837339e-02, 3.49110089e-01,\n",
       "       1.11828926e-02, 9.95458157e-01, 9.41317629e-01, 5.82629983e-01,\n",
       "       9.11149675e-01, 6.45397079e-01, 6.85436416e-02, 4.08724063e-01,\n",
       "       2.85540704e-03, 6.95446873e-02, 4.20428448e-01, 9.44081456e-01,\n",
       "       3.73348305e-02, 5.49998531e-01, 6.42473931e-01, 6.53374803e-01,\n",
       "       8.48045938e-01, 9.21836791e-01, 4.06756800e-01, 7.20129140e-01,\n",
       "       8.64942934e-01, 8.41877863e-01, 5.05647538e-01, 4.87474463e-01,\n",
       "       3.46353304e-01, 5.19742716e-02, 9.95513855e-01, 9.19691563e-01,\n",
       "       3.77905245e-01, 1.46413588e-01, 4.30229300e-01, 8.59972916e-02,\n",
       "       4.59942220e-01, 3.09892881e-01, 7.53963228e-01, 8.31853442e-01,\n",
       "       2.86635324e-01, 2.73157065e-01, 6.85873077e-01, 7.78256815e-02,\n",
       "       3.54879434e-02, 1.59362409e-01, 6.56855600e-01, 2.32935367e-01,\n",
       "       7.50488729e-01, 7.37401475e-01, 9.42875920e-01, 9.07850785e-01,\n",
       "       8.80114297e-01, 4.42036613e-01, 4.41316153e-01, 1.28776183e-01,\n",
       "       7.85267344e-01, 8.36998263e-01, 9.06161367e-02, 4.26527032e-01,\n",
       "       9.73524626e-01, 3.75532481e-01, 3.74408362e-01, 2.54470760e-02,\n",
       "       5.48152341e-01, 1.49632929e-01, 9.23816552e-01, 9.42982687e-01,\n",
       "       5.93472846e-01, 5.61622879e-01, 5.88758900e-01, 5.41510991e-01,\n",
       "       1.44054120e-02, 3.53696853e-01, 6.00622282e-01, 9.98344410e-01,\n",
       "       6.14144866e-01, 8.00495970e-01, 9.21311011e-01, 1.34264073e-01,\n",
       "       7.57951926e-01, 9.48377017e-02, 3.05339053e-01, 1.37598560e-01,\n",
       "       9.08408932e-01, 3.00704645e-01, 5.27333727e-01, 4.08511444e-01,\n",
       "       6.60850510e-01, 6.85448182e-01, 7.34478629e-01, 6.52822427e-01,\n",
       "       6.84919020e-01, 6.45814995e-01, 9.19368250e-02, 3.23994020e-01,\n",
       "       3.22038851e-01, 6.54404248e-01, 9.31870346e-01, 1.37354096e-01,\n",
       "       6.47516479e-01, 9.24456396e-01, 7.07201128e-01, 7.85602722e-01,\n",
       "       2.14126887e-01, 1.00147333e-01, 8.55562795e-02, 4.79924608e-01,\n",
       "       3.03509083e-01, 8.77599229e-01, 3.76579549e-01, 9.35069635e-01,\n",
       "       9.28460018e-01, 3.15295355e-01, 5.27649759e-01, 1.51926266e-01,\n",
       "       3.68675034e-01, 6.12053695e-01, 2.91239449e-02, 4.65015773e-01,\n",
       "       1.85892176e-01, 2.42587154e-01, 4.35894019e-01, 8.30926155e-01,\n",
       "       7.80170515e-01, 1.65149869e-01, 9.17040325e-01, 3.85833800e-01,\n",
       "       2.01860643e-01, 1.35155553e-02, 3.69271169e-01, 3.77344848e-01,\n",
       "       3.65068670e-01, 6.10622424e-01, 1.32754628e-01, 8.87162252e-02,\n",
       "       9.83345248e-02, 5.14837434e-01, 2.99831496e-01, 1.16063821e-02,\n",
       "       7.88528670e-01, 2.20666216e-01, 5.03127134e-01, 4.07017805e-01,\n",
       "       2.60066279e-01, 2.51918046e-01, 5.74867246e-02, 4.16370888e-01,\n",
       "       3.57437146e-01, 8.35793840e-01, 3.31377563e-01, 7.24421464e-02,\n",
       "       9.21634644e-01, 5.74052069e-01, 9.09257431e-01, 5.47874796e-01,\n",
       "       3.23559094e-01, 3.23582496e-01, 9.62711564e-01, 7.05850126e-01,\n",
       "       6.25032287e-01, 5.13985488e-01, 7.81338586e-01, 8.56949629e-01,\n",
       "       6.12916224e-01, 5.80578629e-01, 8.87176948e-01, 2.86272098e-01,\n",
       "       9.02033463e-01, 6.84726482e-02, 2.72852748e-01, 7.57372319e-01,\n",
       "       6.80140802e-01, 9.48610440e-01, 8.52264216e-01, 3.17497036e-01,\n",
       "       3.89736456e-01, 7.51744563e-03, 7.40204626e-01, 3.39236510e-01,\n",
       "       3.17310385e-01, 3.04032314e-01, 7.46659220e-01, 4.57241970e-01,\n",
       "       4.47855105e-01, 4.18264494e-02, 8.19046806e-01, 3.76088536e-01,\n",
       "       9.94365810e-01, 4.46543131e-01, 9.51624213e-01, 4.12695445e-01,\n",
       "       3.26629801e-01, 6.77478391e-01, 5.32689917e-01, 8.72981920e-01,\n",
       "       5.70920917e-01, 1.74860830e-01, 7.35667628e-01, 1.22683658e-01,\n",
       "       6.96260583e-01, 4.71385775e-01, 4.51157521e-01, 8.05611494e-01,\n",
       "       2.24445347e-01, 7.49832134e-01, 6.87711735e-01, 7.22505573e-01,\n",
       "       7.02690250e-01, 3.06766775e-01, 9.01269390e-01, 9.94161779e-01])"
      ]
     },
     "execution_count": 54,
     "metadata": {},
     "output_type": "execute_result"
    }
   ],
   "source": [
    "np.random.rand(1000)"
   ]
  },
  {
   "cell_type": "code",
   "execution_count": 56,
   "metadata": {},
   "outputs": [
    {
     "data": {
      "text/plain": [
       "array([[15.02032372, 13.8188602 , 17.28598329],\n",
       "       [15.67336744, 17.25094003, 16.52493188]])"
      ]
     },
     "execution_count": 56,
     "metadata": {},
     "output_type": "execute_result"
    }
   ],
   "source": [
    "np.random.uniform(13,18,(2,3))"
   ]
  },
  {
   "cell_type": "code",
   "execution_count": 57,
   "metadata": {},
   "outputs": [
    {
     "data": {
      "text/plain": [
       "array([[88, 73, 62, 89],\n",
       "       [71, 91, 88, 93],\n",
       "       [91, 60, 89, 75],\n",
       "       [66, 62, 96, 80],\n",
       "       [79, 64, 95, 64]])"
      ]
     },
     "execution_count": 57,
     "metadata": {},
     "output_type": "execute_result"
    }
   ],
   "source": [
    "np.random.randint(60,100,(5,4))"
   ]
  },
  {
   "cell_type": "code",
   "execution_count": null,
   "metadata": {},
   "outputs": [],
   "source": [
    "# 绘制均匀分布直方图"
   ]
  },
  {
   "cell_type": "code",
   "execution_count": 58,
   "metadata": {},
   "outputs": [],
   "source": [
    "# 构造数据\n",
    "x = np.random.uniform(-1,1,10000)"
   ]
  },
  {
   "cell_type": "code",
   "execution_count": 60,
   "metadata": {},
   "outputs": [
    {
     "data": {
      "image/png": "[encoded data removed]",
      "text/plain": [
       "<Figure size 2000x1000 with 1 Axes>"
      ]
     },
     "metadata": {},
     "output_type": "display_data"
    }
   ],
   "source": [
    "# 创建画图\n",
    "plt.figure(figsize=(20,10),dpi=100)\n",
    "# 绘制直方图\n",
    "plt.hist(x,bins=10)\n",
    "# 显示图像\n",
    "plt.show()"
   ]
  },
  {
   "cell_type": "markdown",
   "metadata": {},
   "source": [
    "##  绘制服从正太分布的直方图"
   ]
  },
  {
   "cell_type": "code",
   "execution_count": 61,
   "metadata": {},
   "outputs": [],
   "source": [
    "# 构造数据\n",
    "x = np.random.normal(1.75,1,10000)"
   ]
  },
  {
   "cell_type": "code",
   "execution_count": 62,
   "metadata": {},
   "outputs": [
    {
     "data": {
      "image/png": "[encoded data removed]",
      "text/plain": [
       "<Figure size 2000x1000 with 1 Axes>"
      ]
     },
     "metadata": {},
     "output_type": "display_data"
    }
   ],
   "source": [
    "# 创建画布\n",
    "plt.figure(figsize=(20,10),dpi=100)\n",
    "# 绘制直方图\n",
    "plt.hist(x,bins=10)\n",
    "# 显示图像\n",
    "plt.show()"
   ]
  },
  {
   "cell_type": "markdown",
   "metadata": {},
   "source": [
    "# 数组的索引和切片"
   ]
  },
  {
   "cell_type": "code",
   "execution_count": 64,
   "metadata": {},
   "outputs": [],
   "source": [
    "# # 创建符合正态分布的4只股票5天的涨跌幅数据\n",
    "stock = np.random.normal(0,1,(4,5))"
   ]
  },
  {
   "cell_type": "code",
   "execution_count": null,
   "metadata": {},
   "outputs": [],
   "source": [
    "# 举例：获取第一个股票的前3个交易日的涨跌幅数据"
   ]
  },
  {
   "cell_type": "code",
   "execution_count": 65,
   "metadata": {},
   "outputs": [
    {
     "data": {
      "text/plain": [
       "array([-0.34594041, -0.01917784,  1.72434828])"
      ]
     },
     "execution_count": 65,
     "metadata": {},
     "output_type": "execute_result"
    }
   ],
   "source": [
    "stock[0,:3]"
   ]
  },
  {
   "cell_type": "markdown",
   "metadata": {},
   "source": [
    "## 三维数组索引和切片"
   ]
  },
  {
   "cell_type": "code",
   "execution_count": 66,
   "metadata": {},
   "outputs": [],
   "source": [
    "# 三维\n",
    "a1 = np.array([ [[1,2,3],[4,5,6]], [[12,3,34],[5,6,7]]])"
   ]
  },
  {
   "cell_type": "code",
   "execution_count": 67,
   "metadata": {},
   "outputs": [
    {
     "data": {
      "text/plain": [
       "array([[[ 1,  2,  3],\n",
       "        [ 4,  5,  6]],\n",
       "\n",
       "       [[12,  3, 34],\n",
       "        [ 5,  6,  7]]])"
      ]
     },
     "execution_count": 67,
     "metadata": {},
     "output_type": "execute_result"
    }
   ],
   "source": [
    "a1"
   ]
  },
  {
   "cell_type": "code",
   "execution_count": 68,
   "metadata": {},
   "outputs": [
    {
     "data": {
      "text/plain": [
       "1"
      ]
     },
     "execution_count": 68,
     "metadata": {},
     "output_type": "execute_result"
    }
   ],
   "source": [
    "a1[0,0,0]"
   ]
  },
  {
   "cell_type": "code",
   "execution_count": 69,
   "metadata": {},
   "outputs": [
    {
     "data": {
      "text/plain": [
       "5"
      ]
     },
     "execution_count": 69,
     "metadata": {},
     "output_type": "execute_result"
    }
   ],
   "source": [
    "a1[0,1,1]"
   ]
  },
  {
   "cell_type": "code",
   "execution_count": 70,
   "metadata": {},
   "outputs": [
    {
     "data": {
      "text/plain": [
       "34"
      ]
     },
     "execution_count": 70,
     "metadata": {},
     "output_type": "execute_result"
    }
   ],
   "source": [
    "a1[1,0,2]"
   ]
  },
  {
   "cell_type": "code",
   "execution_count": null,
   "metadata": {},
   "outputs": [],
   "source": []
  },
  {
   "cell_type": "code",
   "execution_count": 71,
   "metadata": {},
   "outputs": [
    {
     "data": {
      "text/plain": [
       "array([[-0.34594041, -0.01917784,  1.72434828, -0.40642175,  0.46426415],\n",
       "       [ 0.27257279,  0.20379848,  1.26713251, -0.4943478 , -0.86968125],\n",
       "       [-0.25008999, -0.18860159, -0.87347216, -0.72020632,  0.24727361],\n",
       "       [-0.19468961,  1.84965039, -0.40261967, -1.38321396, -1.14243953]])"
      ]
     },
     "execution_count": 71,
     "metadata": {},
     "output_type": "execute_result"
    }
   ],
   "source": [
    "stock"
   ]
  },
  {
   "cell_type": "code",
   "execution_count": 72,
   "metadata": {},
   "outputs": [
    {
     "data": {
      "text/plain": [
       "array([[-0.34594041, -0.01917784,  1.72434828, -0.40642175],\n",
       "       [ 0.46426415,  0.27257279,  0.20379848,  1.26713251],\n",
       "       [-0.4943478 , -0.86968125, -0.25008999, -0.18860159],\n",
       "       [-0.87347216, -0.72020632,  0.24727361, -0.19468961],\n",
       "       [ 1.84965039, -0.40261967, -1.38321396, -1.14243953]])"
      ]
     },
     "execution_count": 72,
     "metadata": {},
     "output_type": "execute_result"
    }
   ],
   "source": [
    "stock.reshape([5,4])"
   ]
  },
  {
   "cell_type": "code",
   "execution_count": null,
   "metadata": {},
   "outputs": [],
   "source": []
  },
  {
   "cell_type": "code",
   "execution_count": 84,
   "metadata": {},
   "outputs": [],
   "source": [
    "stock.resize([2,10])"
   ]
  },
  {
   "cell_type": "code",
   "execution_count": 85,
   "metadata": {},
   "outputs": [
    {
     "data": {
      "text/plain": [
       "array([[-0.34594041, -0.01917784,  1.72434828, -0.40642175,  0.46426415,\n",
       "         0.27257279,  0.20379848,  1.26713251, -0.4943478 , -0.86968125],\n",
       "       [-0.25008999, -0.18860159, -0.87347216, -0.72020632,  0.24727361,\n",
       "        -0.19468961,  1.84965039, -0.40261967, -1.38321396, -1.14243953]])"
      ]
     },
     "execution_count": 85,
     "metadata": {},
     "output_type": "execute_result"
    }
   ],
   "source": [
    "stock"
   ]
  },
  {
   "cell_type": "code",
   "execution_count": 87,
   "metadata": {},
   "outputs": [],
   "source": [
    "stock.resize([4,5])"
   ]
  },
  {
   "cell_type": "code",
   "execution_count": 88,
   "metadata": {},
   "outputs": [
    {
     "data": {
      "text/plain": [
       "array([[-0.34594041, -0.01917784,  1.72434828, -0.40642175,  0.46426415],\n",
       "       [ 0.27257279,  0.20379848,  1.26713251, -0.4943478 , -0.86968125],\n",
       "       [-0.25008999, -0.18860159, -0.87347216, -0.72020632,  0.24727361],\n",
       "       [-0.19468961,  1.84965039, -0.40261967, -1.38321396, -1.14243953]])"
      ]
     },
     "execution_count": 88,
     "metadata": {},
     "output_type": "execute_result"
    }
   ],
   "source": [
    "stock"
   ]
  },
  {
   "cell_type": "code",
   "execution_count": 89,
   "metadata": {},
   "outputs": [
    {
     "data": {
      "text/plain": [
       "array([[-0.34594041, -0.01917784],\n",
       "       [ 1.72434828, -0.40642175],\n",
       "       [ 0.46426415,  0.27257279],\n",
       "       [ 0.20379848,  1.26713251],\n",
       "       [-0.4943478 , -0.86968125],\n",
       "       [-0.25008999, -0.18860159],\n",
       "       [-0.87347216, -0.72020632],\n",
       "       [ 0.24727361, -0.19468961],\n",
       "       [ 1.84965039, -0.40261967],\n",
       "       [-1.38321396, -1.14243953]])"
      ]
     },
     "execution_count": 89,
     "metadata": {},
     "output_type": "execute_result"
    }
   ],
   "source": [
    "stock.reshape([-1,2])"
   ]
  },
  {
   "cell_type": "code",
   "execution_count": 91,
   "metadata": {},
   "outputs": [
    {
     "data": {
      "text/plain": [
       "array([[[-0.34594041, -0.01917784,  1.72434828, -0.40642175,\n",
       "          0.46426415],\n",
       "        [ 0.27257279,  0.20379848,  1.26713251, -0.4943478 ,\n",
       "         -0.86968125]],\n",
       "\n",
       "       [[-0.25008999, -0.18860159, -0.87347216, -0.72020632,\n",
       "          0.24727361],\n",
       "        [-0.19468961,  1.84965039, -0.40261967, -1.38321396,\n",
       "         -1.14243953]]])"
      ]
     },
     "execution_count": 91,
     "metadata": {},
     "output_type": "execute_result"
    }
   ],
   "source": [
    "stock.reshape([2,2,5])"
   ]
  },
  {
   "cell_type": "code",
   "execution_count": 92,
   "metadata": {},
   "outputs": [
    {
     "data": {
      "text/plain": [
       "array([-0.34594041, -0.01917784,  1.72434828, -0.40642175,  0.46426415,\n",
       "        0.27257279,  0.20379848,  1.26713251, -0.4943478 , -0.86968125,\n",
       "       -0.25008999, -0.18860159, -0.87347216, -0.72020632,  0.24727361,\n",
       "       -0.19468961,  1.84965039, -0.40261967, -1.38321396, -1.14243953])"
      ]
     },
     "execution_count": 92,
     "metadata": {},
     "output_type": "execute_result"
    }
   ],
   "source": [
    "stock.reshape([20])"
   ]
  },
  {
   "cell_type": "code",
   "execution_count": 93,
   "metadata": {},
   "outputs": [
    {
     "data": {
      "text/plain": [
       "array([[-0.34594041, -0.01917784,  1.72434828, -0.40642175,  0.46426415],\n",
       "       [ 0.27257279,  0.20379848,  1.26713251, -0.4943478 , -0.86968125],\n",
       "       [-0.25008999, -0.18860159, -0.87347216, -0.72020632,  0.24727361],\n",
       "       [-0.19468961,  1.84965039, -0.40261967, -1.38321396, -1.14243953]])"
      ]
     },
     "execution_count": 93,
     "metadata": {},
     "output_type": "execute_result"
    }
   ],
   "source": [
    "stock"
   ]
  },
  {
   "cell_type": "code",
   "execution_count": null,
   "metadata": {},
   "outputs": [],
   "source": [
    "# 数组转置"
   ]
  },
  {
   "cell_type": "code",
   "execution_count": 94,
   "metadata": {},
   "outputs": [
    {
     "data": {
      "text/plain": [
       "array([[-0.34594041,  0.27257279, -0.25008999, -0.19468961],\n",
       "       [-0.01917784,  0.20379848, -0.18860159,  1.84965039],\n",
       "       [ 1.72434828,  1.26713251, -0.87347216, -0.40261967],\n",
       "       [-0.40642175, -0.4943478 , -0.72020632, -1.38321396],\n",
       "       [ 0.46426415, -0.86968125,  0.24727361, -1.14243953]])"
      ]
     },
     "execution_count": 94,
     "metadata": {},
     "output_type": "execute_result"
    }
   ],
   "source": [
    "stock.T"
   ]
  },
  {
   "cell_type": "code",
   "execution_count": 95,
   "metadata": {},
   "outputs": [
    {
     "data": {
      "text/plain": [
       "array([[ 0,  0,  1,  0,  0],\n",
       "       [ 0,  0,  1,  0,  0],\n",
       "       [ 0,  0,  0,  0,  0],\n",
       "       [ 0,  1,  0, -1, -1]], dtype=int32)"
      ]
     },
     "execution_count": 95,
     "metadata": {},
     "output_type": "execute_result"
    }
   ],
   "source": [
    "# 类型修改\n",
    "stock.astype('int32')"
   ]
  },
  {
   "cell_type": "code",
   "execution_count": 96,
   "metadata": {},
   "outputs": [
    {
     "data": {
      "text/plain": [
       "array([[ 0,  0,  1,  0,  0],\n",
       "       [ 0,  0,  1,  0,  0],\n",
       "       [ 0,  0,  0,  0,  0],\n",
       "       [ 0,  1,  0, -1, -1]])"
      ]
     },
     "execution_count": 96,
     "metadata": {},
     "output_type": "execute_result"
    }
   ],
   "source": [
    "stock.astype(np.int64)"
   ]
  },
  {
   "cell_type": "code",
   "execution_count": null,
   "metadata": {},
   "outputs": [],
   "source": [
    "# 类型转成字符串"
   ]
  },
  {
   "cell_type": "code",
   "execution_count": 97,
   "metadata": {},
   "outputs": [
    {
     "data": {
      "text/plain": [
       "b'\\x01\\x00\\x00\\x00\\x00\\x00\\x00\\x00\\x02\\x00\\x00\\x00\\x00\\x00\\x00\\x00\\x03\\x00\\x00\\x00\\x00\\x00\\x00\\x00\\x04\\x00\\x00\\x00\\x00\\x00\\x00\\x00\\x05\\x00\\x00\\x00\\x00\\x00\\x00\\x00\\x06\\x00\\x00\\x00\\x00\\x00\\x00\\x00\\x0c\\x00\\x00\\x00\\x00\\x00\\x00\\x00\\x03\\x00\\x00\\x00\\x00\\x00\\x00\\x00\"\\x00\\x00\\x00\\x00\\x00\\x00\\x00\\x05\\x00\\x00\\x00\\x00\\x00\\x00\\x00\\x06\\x00\\x00\\x00\\x00\\x00\\x00\\x00\\x07\\x00\\x00\\x00\\x00\\x00\\x00\\x00'"
      ]
     },
     "execution_count": 97,
     "metadata": {},
     "output_type": "execute_result"
    }
   ],
   "source": [
    "arr = np.array([[[1, 2, 3], [4, 5, 6]], [[12, 3, 34], [5, 6, 7]]])\n",
    "arr.tostring()"
   ]
  },
  {
   "cell_type": "markdown",
   "metadata": {},
   "source": [
    "## 数组去重"
   ]
  },
  {
   "cell_type": "code",
   "execution_count": 98,
   "metadata": {},
   "outputs": [],
   "source": [
    "temp = np.array([[1, 2, 3, 4],[3, 4, 5, 6]])"
   ]
  },
  {
   "cell_type": "code",
   "execution_count": 99,
   "metadata": {},
   "outputs": [
    {
     "data": {
      "text/plain": [
       "array([1, 2, 3, 4, 5, 6])"
      ]
     },
     "execution_count": 99,
     "metadata": {},
     "output_type": "execute_result"
    }
   ],
   "source": [
    "np.unique(temp)"
   ]
  },
  {
   "cell_type": "code",
   "execution_count": null,
   "metadata": {},
   "outputs": [],
   "source": []
  },
  {
   "cell_type": "code",
   "execution_count": null,
   "metadata": {},
   "outputs": [],
   "source": []
  }
 ],
 "metadata": {
  "kernelspec": {
   "display_name": "Python 3",
   "language": "python",
   "name": "python3"
  },
  "language_info": {
   "codemirror_mode": {
    "name": "ipython",
    "version": 3
   },
   "file_extension": ".py",
   "mimetype": "text/x-python",
   "name": "python",
   "nbconvert_exporter": "python",
   "pygments_lexer": "ipython3",
   "version": "3.6.5"
  },
  "toc": {
   "base_numbering": 1,
   "nav_menu": {},
   "number_sections": true,
   "sideBar": true,
   "skip_h1_title": false,
   "title_cell": "Table of Contents",
   "title_sidebar": "Contents",
   "toc_cell": false,
   "toc_position": {},
   "toc_section_display": true,
   "toc_window_display": false
  }
 },
 "nbformat": 4,
 "nbformat_minor": 2
}
