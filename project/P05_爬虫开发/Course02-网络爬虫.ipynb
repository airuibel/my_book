{
 "cells": [
  {
   "cell_type": "markdown",
   "metadata": {},
   "source": [
    "# 网络爬虫技术概述\n",
    "\n",
    "- 网络通信技术\n",
    "    * python使用urllib库 Http 和 HTTPS协议\n",
    "  \n",
    "- 多线程技术\n",
    "    * 并发性，可休眠性\n",
    "    \n",
    "- 数据交换技术\n",
    "    * XML JSON 等结构化数据\n",
    "    \n",
    "- web前段技术\n",
    "    * 不都是规范的XML JSON 等数据结构，而是HTML CSS JavaScript 等数据\n",
    "    \n",
    "- 数据分析技术\n",
    "    * HTML代码的分析可以借助第三方库 BeautifulSoup等\n",
    "    \n",
    "- 数据存储技术\n",
    "\n",
    "    * Oracle SQL Server MySQL 和 Sqlite\n",
    "    * 少量的数据可以保存到文件中，这些文件应该是结构化的文档，采用XML，JSON 和CSV等数据交换格式"
   ]
  },
  {
   "cell_type": "markdown",
   "metadata": {},
   "source": [
    "# 爬取数据\n",
    "\n",
    "- 网页静态数据和动态数据\n",
    "    * 同部请求，马上返回的，一次请求返回整个页面的所有的HTML代码，夹裹在html中 静态数据\n",
    "    * 异步请求 AJAX 部分刷新 返回的数据为动态数据 数据结构一般是JSON 或是XML，web前段获得这些数据后，再通过JavaScript动态的添加到HTML标签中。"
   ]
  }
 ],
 "metadata": {
  "kernelspec": {
   "display_name": "Python 3",
   "language": "python",
   "name": "python3"
  },
  "language_info": {
   "codemirror_mode": {
    "name": "ipython",
    "version": 3
   },
   "file_extension": ".py",
   "mimetype": "text/x-python",
   "name": "python",
   "nbconvert_exporter": "python",
   "pygments_lexer": "ipython3",
   "version": "3.6.3"
  }
 },
 "nbformat": 4,
 "nbformat_minor": 2
}
