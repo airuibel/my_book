{
 "cells": [
  {
   "cell_type": "code",
   "execution_count": 2,
   "metadata": {},
   "outputs": [
    {
     "name": "stdout",
     "output_type": "stream",
     "text": [
      "结果是 010-1234567\n"
     ]
    }
   ],
   "source": [
    "import re\n",
    "\n",
    "res = re.match(r\"^(\\d{3,4})-(\\d{6,8})\", \"010-1234567\")\n",
    "if res:\n",
    "    print(\"结果是\",res.group())\n",
    "else:\n",
    "    print(\"失败了\")"
   ]
  },
  {
   "cell_type": "code",
   "execution_count": 3,
   "metadata": {},
   "outputs": [
    {
     "name": "stdout",
     "output_type": "stream",
     "text": [
      "结果是 010\n"
     ]
    }
   ],
   "source": [
    "res = re.match(r\"^(\\d{3,4})-(\\d{6,8})\", \"010-1234567\")\n",
    "if res:\n",
    "    print(\"结果是\",res.group(1))\n",
    "else:\n",
    "    print(\"失败了\")"
   ]
  },
  {
   "cell_type": "code",
   "execution_count": 6,
   "metadata": {},
   "outputs": [
    {
     "name": "stdout",
     "output_type": "stream",
     "text": [
      "失败了\n"
     ]
    }
   ],
   "source": [
    "res = re.match(r\"^(\\d{3,4})-(\\d{6,8}) 010-1234567\", \"010-1234567 020-1234567\")\n",
    "if res:\n",
    "    print(\"结果是\",res.group())\n",
    "else:\n",
    "    print(\"失败了\")"
   ]
  },
  {
   "cell_type": "code",
   "execution_count": 8,
   "metadata": {},
   "outputs": [
    {
     "name": "stdout",
     "output_type": "stream",
     "text": [
      "结果是 010-1234567 010-1234567\n"
     ]
    }
   ],
   "source": [
    "res = re.match(r\"^(\\d{3,4})-(\\d{6,8}) \\1-\\2\", \"010-1234567 010-1234567\")\n",
    "if res:\n",
    "    print(\"结果是\",res.group())\n",
    "else:\n",
    "    print(\"失败了\")"
   ]
  },
  {
   "cell_type": "code",
   "execution_count": 17,
   "metadata": {},
   "outputs": [
    {
     "name": "stdout",
     "output_type": "stream",
     "text": [
      "你好\n"
     ]
    }
   ],
   "source": [
    "# \\w 匹配练习\n",
    "\n",
    "import re\n",
    "\n",
    "rst = re.search(r\"\\w+\",\"你好\")\n",
    "print(rst.group())"
   ]
  },
  {
   "cell_type": "code",
   "execution_count": 13,
   "metadata": {},
   "outputs": [
    {
     "name": "stdout",
     "output_type": "stream",
     "text": [
      "结果是 010-1234567 010-1234567\n"
     ]
    }
   ],
   "source": [
    "# 有名分组\n",
    "\n",
    "import re\n",
    "\n",
    "res = re.match(r\"^(?P<area>\\d{3,4})-(?P<no>\\d{6,8}) (?P=area)-(?P=no)\", \"010-1234567 010-1234567\")\n",
    "if res:\n",
    "    print(\"结果是\",res.group())\n",
    "else:\n",
    "    print(\"失败了\")"
   ]
  },
  {
   "cell_type": "code",
   "execution_count": 16,
   "metadata": {},
   "outputs": [
    {
     "name": "stdout",
     "output_type": "stream",
     "text": [
      "结果是 010-1234567 010-1234567\n"
     ]
    }
   ],
   "source": [
    "# 有名分组\n",
    "\n",
    "import re\n",
    "\n",
    "res = re.match(r\"^((?P<area>\\d{3,4})-(?P<no>\\d{6,8})) (?P=area)-(?P=no)\", \"010-1234567 010-1234567\")\n",
    "if res:\n",
    "    print(\"结果是\",res.group())\n",
    "else:\n",
    "    print(\"失败了\")"
   ]
  },
  {
   "cell_type": "code",
   "execution_count": null,
   "metadata": {},
   "outputs": [],
   "source": [
    "import re \n",
    "rst = re.match()"
   ]
  },
  {
   "cell_type": "code",
   "execution_count": null,
   "metadata": {},
   "outputs": [],
   "source": []
  }
 ],
 "metadata": {
  "kernelspec": {
   "display_name": "Python 3",
   "language": "python",
   "name": "python3"
  },
  "language_info": {
   "codemirror_mode": {
    "name": "ipython",
    "version": 3
   },
   "file_extension": ".py",
   "mimetype": "text/x-python",
   "name": "python",
   "nbconvert_exporter": "python",
   "pygments_lexer": "ipython3",
   "version": "3.6.0"
  }
 },
 "nbformat": 4,
 "nbformat_minor": 2
}
