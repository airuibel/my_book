{
 "cells": [
  {
   "cell_type": "markdown",
   "metadata": {},
   "source": [
    "## 正则表达式入门\n",
    "\n",
    "- 就是对字符串的一种逻辑公式。用事先定义好的一些特定字符，\n",
    "- 以及这些字符的组合，组成一个规则字符串，用这个字符串来表达对字符串的一种  过滤\n",
    "\n",
    "\n",
    "- 目的：\n",
    "  \n",
    "  * 判断字符串是否符合正则表达式的逻辑\n",
    "  * 通过正则表达式从指定的字符串中获取我们需要的特定部分\n",
    "  \n",
    "#### 边界匹配(不消耗待匹配字符串中的字符)\n",
    "    *  ^ 匹配字符串开头               ^abc       abc\n",
    "    *  $ 匹配字符串末尾\n",
    "         在多行模式中匹配每一行的末尾  abc$      abc\n",
    "    *  \\A 仅匹配字符串的开头           \\Aabc     abc\n",
    "    *  \\Z 仅匹配字符串的末尾           abc\\Z     abc\n",
    "    *  \\b 匹配\\w和\\W之间               a\\b!bc    a!bc\n",
    "    *  \\B {^\\b}                        a\\Bbc     abc\n",
    "    \n",
    "#### 逻辑分组 \n",
    "    *  | 用管道匹配多个分组\n",
    "       如 r'Batman|Tina Fey'将匹配'Batman'或'Tina Fey'。\n",
    "       即左右的表达式各匹配一个，他总是先尝试匹配左边的表达式，一旦匹配成功则跳过        匹配\n",
    "       右边的表达式，如果|没有被包括在()则它的范围是整个正则表达式\n",
    "    \n",
    "    \n",
    "    -  ？用问号实现可选匹配 \n",
    "       就是说，不论这段文本在不在，正则表达式都会认为匹配 \n",
    "       \n",
    "       \n",
    "    -  * 用星号匹配零次或多次\n",
    "       意味着“匹配零次或多次”，即星号之前的分组，可以在文本中\n",
    "       出现任意次。它可以完全不存在，或一次又一次地重复\n",
    "    \n",
    "    \n",
    "    -  + 加号匹配一次或多次\n",
    "       *意味着“匹配零次或多次”，+（加号）则意味着“匹配一次或多次”。星号不要分        组出现在匹配的字符串中，但加号不同，加号前面的分组必须“至少出现一 次”。这不是可选的\n",
    "    \n",
    "    \n",
    "    -  {} 用花括号匹配特定次数\n",
    "       如果想要一个分组重复特定次数，就在正则表达式中该分组的后面，跟上花括\n",
    "    号包围的数字。例如，正则表达式(Ha){3}将匹配字符串'HaHaHa'，但不会匹配'HaHa'，\n",
    "    因为后者只重复了(Ha)分组两次。除了一个数字，还可以指定一个范围，即在花括号中写下一个最小值、一个逗号和一个最大值。例如例如，正则表达式(Ha){3,5}将匹配'HaHaHa'、'HaHaHaHa'和'HaHaHaHaHa'也可以不写花括号中的第一个或第二个数字，不限定最小值或最大值。例如，(Ha){3,}将匹配 3 次或更多次实例，(Ha){,5}将匹配 0 到 5 次实例。花括号让正则表达式更简短\n",
    "    \n",
    "    \n",
    "## 正则表达式符号复习\n",
    "\n",
    "         ?匹配零次或一次前面的分组。\n",
    "         *匹配零次或多次前面的分组。\n",
    "         +匹配一次或多次前面的分组。\n",
    "         {n}匹配 n 次前面的分组。\n",
    "         {n,}匹配 n 次或更多前面的分组。\n",
    "         {,m}匹配零次到 m 次前面的分组。\n",
    "         {n,m}匹配至少 n 次、至多 m 次前面的分组。\n",
    "         {n,m}?或*?或+?对前面的分组进行非贪心匹配。\n",
    "         ^spam 意味着字符串必须以 spam 开始。\n",
    "         spam$意味着字符串必须以 spam 结束。\n",
    "         .匹配所有字符，换行符除外。\n",
    "         \\d、\\w 和\\s 分别匹配数字、单词和空格。\n",
    "         \\D、\\W 和\\S 分别匹配出数字、单词和空格外的所有字符。\n",
    "         [abc]匹配方括号内的任意字符（诸如 a、b 或 c）。\n",
    "         [^abc]匹配不在方括号内的任意字符。"
   ]
  },
  {
   "cell_type": "code",
   "execution_count": 3,
   "metadata": {},
   "outputs": [
    {
     "name": "stdout",
     "output_type": "stream",
     "text": [
      "['abc', 'abc']\n"
     ]
    }
   ],
   "source": [
    "import re\n",
    "\n",
    "str_eg = '11abcsdbb5s&as*sddabc'\n",
    "#rst = re.match(\"abc\",str_eg)\n",
    "\n",
    "#rst = re.search(\"abc\",str_eg)\n",
    "\n",
    "# 找出所有的匹配结果\n",
    "rst = re.findall(\"abc\",str_eg)\n",
    "print(rst)"
   ]
  },
  {
   "cell_type": "code",
   "execution_count": 7,
   "metadata": {},
   "outputs": [
    {
     "name": "stdout",
     "output_type": "stream",
     "text": [
      "<_sre.SRE_Match object; span=(0, 5), match='zoooo'>\n"
     ]
    }
   ],
   "source": [
    "import re\n",
    "\n",
    "str_eg = 'zoooo'\n",
    "rst = re.match(\"zo*\",str_eg)\n",
    "\n",
    "#rst = re.search(\"abc\",str_eg)\n",
    "\n",
    "# 找出所有的匹配结果\n",
    "#rst = re.findall(\"abc\",str_eg)\n",
    "print(rst)\n",
    "\n",
    "\n",
    "#  *号为贪婪匹配\n",
    "#  ？号为非贪婪匹配"
   ]
  },
  {
   "cell_type": "code",
   "execution_count": 46,
   "metadata": {},
   "outputs": [
    {
     "name": "stdout",
     "output_type": "stream",
     "text": [
      "请输入用户名: sdfsdfsd\n",
      "请输入QQ号: 877055656\n",
      "你输入的信息是有效的!\n"
     ]
    }
   ],
   "source": [
    "\"\"\"\n",
    "\n",
    "验证输入用户名和QQ号是否有效并给出对应的提示信息\n",
    "\n",
    "要求：\n",
    "用户名必须由字母、数字或下划线构成且长度在6~20个字符之间\n",
    "QQ号是5~12的数字且首位不能为0\n",
    "\n",
    "\"\"\"\n",
    "\n",
    "import re\n",
    "\n",
    "\n",
    "def main():\n",
    "    username = input('请输入用户名: ')\n",
    "    qq = input('请输入QQ号: ')\n",
    "    m1 = re.match(r'^[0-9a-zA-Z_]{6,20}$', username)\n",
    "    if not m1:\n",
    "        print('请输入有效的用户名.')\n",
    "    m2 = re.match(r'^[1-9]\\d{4,11}$', qq)\n",
    "    if not m2:\n",
    "        print('请输入有效的QQ号.')\n",
    "    if m1 and m2:\n",
    "        print('你输入的信息是有效的!')\n",
    "\n",
    "\n",
    "if __name__ == '__main__':\n",
    "    main()\n"
   ]
  },
  {
   "cell_type": "code",
   "execution_count": 12,
   "metadata": {},
   "outputs": [
    {
     "name": "stdout",
     "output_type": "stream",
     "text": [
      "['13512346789', '15600998765', '15600998765']\n",
      "--------华丽的分隔线--------\n",
      "13512346789\n",
      "15600998765\n",
      "15600998765\n",
      "--------华丽的分隔线--------\n",
      "13512346789\n",
      "15600998765\n",
      "15600998765\n"
     ]
    }
   ],
   "source": [
    "import re\n",
    "\n",
    "\n",
    "def main():\n",
    "    # 创建正则表达式对象 使用了前瞻和回顾来保证手机号前后不应该出现数字\n",
    "    pattern = re.compile(r'(?<=\\D)(1[38]\\d{9}|14[57]\\d{8}|15[0-35-9]\\d{8}|17[678]\\d{8})(?=\\D)')\n",
    "    sentence = '''\n",
    "    重要的事情说8130123456789遍，我的手机号是13512346789这个靓号，\n",
    "    不是15600998765，也是110或119，王大锤的手机号才是15600998765。\n",
    "    '''\n",
    "    # 查找所有匹配并保存到一个列表中\n",
    "    mylist = re.findall(pattern, sentence)\n",
    "    print(mylist)\n",
    "    print('--------华丽的分隔线--------')\n",
    "    # 通过迭代器取出匹配对象并获得匹配的内容\n",
    "    for temp in pattern.finditer(sentence):\n",
    "        print(temp.group())\n",
    "    print('--------华丽的分隔线--------')\n",
    "    # 通过search函数指定搜索位置找出所有匹配\n",
    "    m = pattern.search(sentence)\n",
    "    while m:\n",
    "        print(m.group())\n",
    "        m = pattern.search(sentence, m.end())\n",
    "\n",
    "\n",
    "if __name__ == '__main__':\n",
    "    main()\n"
   ]
  },
  {
   "cell_type": "code",
   "execution_count": 13,
   "metadata": {},
   "outputs": [
    {
     "name": "stdout",
     "output_type": "stream",
     "text": [
      "你丫是*吗? 我*你大爷的. * you.\n"
     ]
    }
   ],
   "source": [
    "import re\n",
    "\n",
    "\n",
    "def main():\n",
    "    sentence = '你丫是傻叉吗? 我操你大爷的. Fuck you.'\n",
    "    purified = re.sub('[操肏艹草曹]|fuck|shit|傻[比屄逼叉缺吊屌]|煞笔',\n",
    "                      '*', sentence, flags=re.IGNORECASE)\n",
    "    print(purified)\n",
    "\n",
    "\n",
    "if __name__ == '__main__':\n",
    "    main()\n"
   ]
  },
  {
   "cell_type": "markdown",
   "metadata": {},
   "source": [
    "#### 利用正则表达式查找文本模式"
   ]
  },
  {
   "cell_type": "code",
   "execution_count": 5,
   "metadata": {},
   "outputs": [
    {
     "name": "stdout",
     "output_type": "stream",
     "text": [
      "找到电话号码了:945-655-7895\n"
     ]
    }
   ],
   "source": [
    "# 匹配电话号码\n",
    "import re\n",
    "str1 = \"jasdhk6545546-5655-565sa5545we(415)-555-4242wujkdkh945-655-7895edesdjjjlS\"\n",
    "phone_num = re.compile(r'\\d{3}-\\d{3}-\\d{4}')\n",
    "mo = phone_num.search(str1)\n",
    "print(\"找到电话号码了:\"+ mo.group())"
   ]
  },
  {
   "cell_type": "markdown",
   "metadata": {},
   "source": [
    "### 匹配 Regex 对象\n",
    "- Regex 对象的search()方法查找传入的字符串，寻找该正则表达式的所有匹配。如\n",
    "    果字符串中没有找到该正则表达式模式，search()方法将返回None。如果找到了该模式，\n",
    "    search()方法将返回一个 Match 对象。Match 对象有一个 group()方法，它返回被查找字符串中实际匹配的文本\n",
    "    \n",
    "#### 关于正则表达式传入原始字符串及\\的转义\n",
    "- \n",
    "    向 re.compile()传递原始字符串\n",
    "    \n",
    "    回忆一下，Python 中转义字符使用倒斜杠（\\）。字符串'\\n'表示一个换行字符，\n",
    "    而不是倒斜杠加上一个小写的 n。你需要输入转义字符\\\\，才能打印出一个倒斜杠。\n",
    "    所以'\\\\n'表示一个倒斜杠加上一个小写的 n。但是，通过在字符串的第一个引号之\n",
    "    前加上 r，可以将该字符串标记为原始字符串，它不包括转义字符。\n",
    "    因为正则表达式常常使用倒斜杠，向 re.compile()函数传入原始字符串就很方\n",
    "    便 ， 而 不 是 输 入 额 外 得 到 斜 杠 。 输 入 r'\\d\\d\\d-\\d\\d\\d-\\d\\d\\d\\d' ， 比 输 入\n",
    "    '\\\\d\\\\d\\\\d-\\\\d\\\\d\\\\d-\\\\d\\\\d\\\\d\\\\d'要容易得多。\n",
    "\n",
    "## 正则的一般步骤\n",
    "- \n",
    "    * 1．用 import re 导入正则表达式模块。\n",
    "    * 2．用 re.compile()函数创建一个 Regex 对象（记得使用原始字符串）。\n",
    "    * 3．向 Regex 对象的 search()方法传入想查找的字符串。它返回一个 Match 对象。\n",
    "    * 4．调用 Match 对象的 group()方法，返回实际匹配文本的字符串。"
   ]
  },
  {
   "cell_type": "code",
   "execution_count": 7,
   "metadata": {},
   "outputs": [
    {
     "name": "stdout",
     "output_type": "stream",
     "text": [
      "415\n",
      "555-4242\n",
      "415-555-4242\n"
     ]
    }
   ],
   "source": [
    "# 1() 用括号分组\n",
    "# 正则表达式字符串中的第一对括号是第 1 组。第二对括号是第 2 组。向 group()\n",
    "# 匹配对象方法传入整数 1 或 2，就可以取得匹配文本的不同部分。向 group()方法传\n",
    "# 入 0 或不传入参数，将返回整个匹配的文本\n",
    "\n",
    "import re \n",
    "phone_num_regex = re.compile(r'(\\d{3})-(\\d{3}-\\d{4})')\n",
    "phone_num = phone_num_regex.search('My number is 415-555-4242.')\n",
    "print(phone_num.group(1))\n",
    "print(phone_num.group(2))\n",
    "# 如果要一次获取所有的分组，就要使用groups()方法\n",
    "print(phone_num.group())"
   ]
  },
  {
   "cell_type": "code",
   "execution_count": 13,
   "metadata": {},
   "outputs": [
    {
     "name": "stdout",
     "output_type": "stream",
     "text": [
      "(415)\n",
      "555-4242\n",
      "(415)-555-4242\n"
     ]
    }
   ],
   "source": [
    "# 2.如何匹配括号\n",
    "# 需要用倒斜杠对(和)进行字符转义\n",
    "\n",
    "import re \n",
    "phone_num_regex = re.compile(r'(\\(\\d{3}\\))-(\\d{3}-\\d{4})')\n",
    "phone_num = phone_num_regex.search('My number is (415)-555-4242.')\n",
    "print(phone_num.group(1))\n",
    "print(phone_num.group(2))\n",
    "print(phone_num.group())\n",
    "# 传递给 re.compile()的原始字符串中，\\(和\\)转义字符将匹配实际的括号字符"
   ]
  },
  {
   "cell_type": "code",
   "execution_count": 17,
   "metadata": {},
   "outputs": [
    {
     "name": "stdout",
     "output_type": "stream",
     "text": [
      "Batman\n",
      "Tina Fey\n"
     ]
    }
   ],
   "source": [
    "# 3 \\ 用管道匹配多个分组\n",
    "# 字符|称为“管道”。希望匹配许多表达式中的一个时，就可以使用它。例如，\n",
    "# 正则表达式 r'Batman|Tina Fey'将匹配'Batman'或'Tina Fey'。\n",
    "# 如果 Batman 和 Tina Fey 都出现在被查找的字符串中，第一次出现的匹配文本，\n",
    "# 将作为 Match 对象返回\n",
    "\n",
    "import re\n",
    "heroRegex = re.compile(r'Batman|Tina Fey')\n",
    "hero1 = heroRegex.search('Batman and Tina Fey.')\n",
    "hero2 = heroRegex.search('Tina Fey and Batman')\n",
    "print(hero1.group())\n",
    "print(hero2.group())"
   ]
  },
  {
   "cell_type": "code",
   "execution_count": 18,
   "metadata": {},
   "outputs": [
    {
     "data": {
      "text/plain": [
       "'Batmobile'"
      ]
     },
     "execution_count": 18,
     "metadata": {},
     "output_type": "execute_result"
    }
   ],
   "source": [
    "# 假设你希望匹配'Batman'、'Batmobile'、'Batcopter'和'Batbat'中任意一个。因为所有这\n",
    "# 些字符串都以 Bat 开始，所以如果能够只指定一次前缀，就很方便。这可以通过括\n",
    "# 号实现\n",
    "import re\n",
    "batRegex = re.compile(r'Bat(man|mobile|copter|bat)')\n",
    "mo = batRegex.search('Batmobile lost a wheel')\n",
    "mo.group()\n",
    "# 用管道符和括号可以实现几种可选模式的匹配，如果要匹配真正的 \\ 就要用到反斜杠"
   ]
  },
  {
   "cell_type": "code",
   "execution_count": 20,
   "metadata": {},
   "outputs": [
    {
     "name": "stdout",
     "output_type": "stream",
     "text": [
      "Batman\n",
      "Batwoman\n"
     ]
    }
   ],
   "source": [
    "# 4 ？用问号实现可选匹配 \n",
    "# 有时候，想匹配的模式是可选的。就是说，不论这段文本在不在，正则表达式\n",
    "# 都会认为匹配。字符?表明它前面的分组在这个模式中是可选的\n",
    "\n",
    "import re\n",
    "batRegex = re.compile(r'Bat(wo)?man')\n",
    "mo1 = batRegex.search('The adventures of Batman.')\n",
    "print(mo1.group())\n",
    "mo2 = batRegex.search('The adventures of Batwoman.')\n",
    "print(mo2.group())\n",
    "\n",
    "# 正则表达式中的(wo)?部分表明，模式wo 是可选的分组。该正则表达式匹配的文本\n",
    "# 中，wo将出现零次或一次。这就是为什么正则表达式既匹配'Batwoman'，又匹配'Batman'。"
   ]
  },
  {
   "cell_type": "code",
   "execution_count": 24,
   "metadata": {},
   "outputs": [
    {
     "name": "stdout",
     "output_type": "stream",
     "text": [
      "415-555-4242\n",
      "976-2324\n"
     ]
    }
   ],
   "source": [
    "# 匹配包含区号和不包含区号的电话号码\n",
    "\n",
    "import re\n",
    "import re \n",
    "phone_num_regex = re.compile(r'(\\d{3}-)?(\\d{3}-\\d{4})')\n",
    "phone_num1 = phone_num_regex.search('My number is 415-555-4242.')\n",
    "print(phone_num1.group())\n",
    "phone_num2 = phone_num_regex.search('His num is 976-2324')\n",
    "print(phone_num2.group())"
   ]
  },
  {
   "cell_type": "code",
   "execution_count": 25,
   "metadata": {},
   "outputs": [
    {
     "data": {
      "text/plain": [
       "'Batman'"
      ]
     },
     "execution_count": 25,
     "metadata": {},
     "output_type": "execute_result"
    }
   ],
   "source": [
    "# 5. 用星号匹配零次或多次\n",
    "# *（称为星号）意味着“匹配零次或多次”，即星号之前的分组，可以在文本中出\n",
    "# 本文档由Linux公社 www.linuxidc.com 整理\n",
    "# Python 编程快速上手——让繁琐工作自动化\n",
    "# 现任意次。它可以完全不存在，或一次又一次地重复\n",
    "\n",
    "import re\n",
    "batRegex = re.compile(r'Bat(wo)*man')\n",
    "mo = batRegex.search('The Advantures of Batman')\n",
    "mo.group()\n",
    "# 不出现"
   ]
  },
  {
   "cell_type": "code",
   "execution_count": 27,
   "metadata": {},
   "outputs": [
    {
     "data": {
      "text/plain": [
       "'Batwowoman'"
      ]
     },
     "execution_count": 27,
     "metadata": {},
     "output_type": "execute_result"
    }
   ],
   "source": [
    "batRegex = re.compile(r'Bat(wo)*man')\n",
    "mo = batRegex.search('The Advantures of Batwoman')\n",
    "mo.group()\n",
    "# 出现一次"
   ]
  },
  {
   "cell_type": "code",
   "execution_count": 28,
   "metadata": {},
   "outputs": [
    {
     "data": {
      "text/plain": [
       "'Batwowowoman'"
      ]
     },
     "execution_count": 28,
     "metadata": {},
     "output_type": "execute_result"
    }
   ],
   "source": [
    "batRegex = re.compile(r'Bat(wo)*man')\n",
    "mo = batRegex.search('The Advantures of Batwowowoman')\n",
    "mo.group()\n",
    "# 出现多次"
   ]
  },
  {
   "cell_type": "code",
   "execution_count": 29,
   "metadata": {},
   "outputs": [
    {
     "data": {
      "text/plain": [
       "'Bat*wowowoman'"
      ]
     },
     "execution_count": 29,
     "metadata": {},
     "output_type": "execute_result"
    }
   ],
   "source": [
    "#如果需要匹配真正的星号字符，就在正则表达式的星号字符前加上倒斜杠，即\\*。\n",
    "import re\n",
    "batRegex = re.compile(r'Bat\\*(wo)*man')\n",
    "mo = batRegex.search('The Advantures of Bat*wowowoman')\n",
    "mo.group()"
   ]
  },
  {
   "cell_type": "code",
   "execution_count": 31,
   "metadata": {},
   "outputs": [
    {
     "data": {
      "text/plain": [
       "'Batwoman'"
      ]
     },
     "execution_count": 31,
     "metadata": {},
     "output_type": "execute_result"
    }
   ],
   "source": [
    "# 6.用加号匹配一次或多次\n",
    "# *意味着“匹配零次或多次”，+（加号）则意味着“匹配一次或多次”。星号不要求\n",
    "# 分组出现在匹配的字符串中，但加号不同，加号前面的分组必须“至少出现一次”。这不\n",
    "# 是可选的\n",
    "import re\n",
    "batRegex = re.compile(r'Bat(wo)+man')\n",
    "mo = batRegex.search('The Advantures of Batwoman')\n",
    "mo.group()\n",
    "# 匹配出现一次"
   ]
  },
  {
   "cell_type": "code",
   "execution_count": 33,
   "metadata": {},
   "outputs": [
    {
     "data": {
      "text/plain": [
       "'Batwowoman'"
      ]
     },
     "execution_count": 33,
     "metadata": {},
     "output_type": "execute_result"
    }
   ],
   "source": [
    "batRegex = re.compile(r'Bat(wo)+man')\n",
    "mo = batRegex.search('The Advantures of Batwowoman')\n",
    "mo.group()\n",
    "# 匹配出现多次"
   ]
  },
  {
   "cell_type": "code",
   "execution_count": 35,
   "metadata": {},
   "outputs": [
    {
     "data": {
      "text/plain": [
       "True"
      ]
     },
     "execution_count": 35,
     "metadata": {},
     "output_type": "execute_result"
    }
   ],
   "source": [
    "batRegex = re.compile(r'Bat(wo)+man')\n",
    "mo = batRegex.search('The Advantures of Batman')\n",
    "mo == None\n",
    "# 没有匹配到"
   ]
  },
  {
   "cell_type": "code",
   "execution_count": 36,
   "metadata": {},
   "outputs": [
    {
     "data": {
      "text/plain": [
       "'hahaha'"
      ]
     },
     "execution_count": 36,
     "metadata": {},
     "output_type": "execute_result"
    }
   ],
   "source": [
    "# 7 用花括号匹配特定次数\n",
    "# 如果想要一个分组重复特定次数，就在正则表达式中该分组的后面，跟上花括\n",
    "# 号包围的数字。例如，正则表达式(Ha){3}将匹配字符串'HaHaHa'，但不会匹配'HaHa'，\n",
    "# 因为后者只重复了(Ha)分组两次。\n",
    "# 除了一个数字，还可以指定一个范围，即在花括号中写下一个最小值、一个逗号和\n",
    "# 一个最大值。例如，正则表达式(Ha){3,5}将匹配'HaHaHa'、'HaHaHaHa'和'HaHaHaHaHa'。\n",
    "# 也可以不写花括号中的第一个或第二个数字，不限定最小值或最大值。例如，\n",
    "# 本文档由Linux公社 www.linuxidc.com 整理\n",
    "# 第 7 章 模式匹配与正则表达式 \n",
    "# (Ha){3,}将匹配 3 次或更多次实例，(Ha){,5}将匹配 0 到 5 次实例。花括号让正则表\n",
    "# 达式更简短\n",
    "import re\n",
    "batRegex = re.compile(r'(ha){3}')\n",
    "mo1 = batRegex.search('khafjhahahakha')\n",
    "mo1.group()"
   ]
  },
  {
   "cell_type": "code",
   "execution_count": 37,
   "metadata": {},
   "outputs": [
    {
     "data": {
      "text/plain": [
       "True"
      ]
     },
     "execution_count": 37,
     "metadata": {},
     "output_type": "execute_result"
    }
   ],
   "source": [
    "import re\n",
    "batRegex = re.compile(r'(ha){3}')\n",
    "mo2 = batRegex.search('khakha')\n",
    "mo2 == None"
   ]
  },
  {
   "cell_type": "markdown",
   "metadata": {},
   "source": [
    "## 贪婪和非贪婪匹配\n",
    "- 贪婪：在整个表达式匹配成功的前提下，尽可能多的匹配\n",
    "\n",
    "- 非贪婪：在整个表达式匹配成功的前提下，尽可能少的匹配，遇到结束的标  签则结束，在花括号后面加个 ?\n",
    "\n",
    "    在字符串'HaHaHaHaHa'中，因为(Ha){3,5}可以匹配3 个、4 个或5 个实例，你可能会想，为什么在前面花括号的例子中，Match 对象的group()调用会返回'HaHaHaHaHa'，而不是更短的可能结果。'HaHaHa'和'HaHaHaHa'也能够有效地匹配正则表达式(Ha){3,5}。\n",
    "    Python 的正则表达式默认是“贪心”的，这表示在有二义的情况下，它们会尽可能匹配最长的字符串。\n",
    "    \n",
    "    花括号的“非贪心”版本匹配尽可能最短的字符串，即在结束的花括号后跟着一个问号。\n",
    "    \n",
    "- .* 匹配任意字符无限次"
   ]
  },
  {
   "cell_type": "code",
   "execution_count": 38,
   "metadata": {},
   "outputs": [
    {
     "data": {
      "text/plain": [
       "'HaHaHaHaHa'"
      ]
     },
     "execution_count": 38,
     "metadata": {},
     "output_type": "execute_result"
    }
   ],
   "source": [
    "# 贪心匹配\n",
    "import re\n",
    "greedyHaRegex = re.compile(r'(Ha){3,5}')\n",
    "mo1 = greedyHaRegex.search('HaHaHaHaHa')\n",
    "mo1.group()"
   ]
  },
  {
   "cell_type": "code",
   "execution_count": 42,
   "metadata": {},
   "outputs": [
    {
     "data": {
      "text/plain": [
       "'HaHaHa'"
      ]
     },
     "execution_count": 42,
     "metadata": {},
     "output_type": "execute_result"
    }
   ],
   "source": [
    "# 非贪心匹配\n",
    "geedyHaRegey = re.compile(r'(Ha){3,5}?')\n",
    "mo2 = geedyHaRegey.search(\"HaHaHaHaHa\")\n",
    "mo2.group()\n",
    "# 请注意，问号在正则表达式中可能有两种含义：声明非贪心匹配或表示可选的\n",
    "# 分组。这两种含义是完全无关的"
   ]
  },
  {
   "cell_type": "code",
   "execution_count": 83,
   "metadata": {},
   "outputs": [
    {
     "name": "stdout",
     "output_type": "stream",
     "text": [
      "['<p>hello</p>bbb<p>world</p>']\n",
      "['<p>hello</p>', '<p>world</p>']\n"
     ]
    }
   ],
   "source": [
    "# 贪婪模式 和 非贪婪模式\n",
    "import re\n",
    "str1 = 'aaa<p>hello</p>bbb<p>world</p>ccc'\n",
    "pattern1 = re.compile(r'<p>.*</p>')  # 匹配任意字符无限次\n",
    "pattern2 = re.compile(r'<p>.*?</p>') # 加个问号为非贪婪匹配\n",
    "result1 = pattern1.findall(str1)# 贪婪模式匹配\n",
    "result2 = pattern2.findall(str1)# 婪模式匹配\n",
    "print(result1)\n",
    "print(result2)"
   ]
  },
  {
   "cell_type": "markdown",
   "metadata": {},
   "source": [
    "## 正则表达式\n",
    "- compile() 编译正则表达式，返回一个对象模式。\n",
    "\n",
    "- match() 字符串的开头进行匹配即字符串索引的[0]位置匹配成功就返回一个匹配对象，匹配失败就返回None\n",
    "\n",
    "- search() 函数会在字符串内查找模式匹配，只要找到第一个匹配然后返回，\n",
    "  如果字符串没有匹配，则返回None\n",
    "  \n",
    "- findall() 遍历匹配 可以获取字符串中所有匹配的字符串，返回一个列"
   ]
  },
  {
   "cell_type": "code",
   "execution_count": 44,
   "metadata": {
    "scrolled": true
   },
   "outputs": [
    {
     "name": "stdout",
     "output_type": "stream",
     "text": [
      "he\n"
     ]
    }
   ],
   "source": [
    "import re\n",
    "mo = re.match(r'he','hello world')\n",
    "print(mo.group())"
   ]
  },
  {
   "cell_type": "code",
   "execution_count": 49,
   "metadata": {},
   "outputs": [
    {
     "name": "stdout",
     "output_type": "stream",
     "text": [
      "['A', 'a', 'b', 'c']\n"
     ]
    }
   ],
   "source": [
    "import re\n",
    "pa = re.compile(r'[a-zA-Z]{1}') # 匹配单个的字母\n",
    "strs = '123Aabc456' # 会匹配整个字符串，将符合规则的保存在列表中\n",
    "mo = pa.findall(strs)\n",
    "print(mo)\n",
    "#print(re.findall(pa,strs))"
   ]
  },
  {
   "cell_type": "code",
   "execution_count": 50,
   "metadata": {},
   "outputs": [
    {
     "name": "stdout",
     "output_type": "stream",
     "text": [
      "['fdsdf', 'fdFd']\n"
     ]
    }
   ],
   "source": [
    "# 匹配任意长度的字符\n",
    "import re\n",
    "pattern = re.compile(r'[a-zA-Z]+') # 匹配任意长度的英文字母\n",
    "str1 = '123fdsdf456fdFd789' # 会匹配整个字符串，将符合规则的保存在列表中\n",
    "result= pattern.findall(str1)\n",
    "print(result) # 返回一个符合的列表"
   ]
  },
  {
   "cell_type": "code",
   "execution_count": 51,
   "metadata": {},
   "outputs": [
    {
     "name": "stdout",
     "output_type": "stream",
     "text": [
      "[('f', 'b'), ('d', 'd')]\n"
     ]
    }
   ],
   "source": [
    "# findall 遇上分组的时候只返回分组匹配的结果\n",
    "import re\n",
    "pattern = re.compile(r'([a-z])[a-z]([a-z])') # 匹配任意长度的英文字母\n",
    "str1 = '123fabd456dfd789' # 会匹配整个字符串，将符合规则的保存在列表中\n",
    "result= pattern.findall(str1)\n",
    "print(result) # 返回一个符合的列表"
   ]
  },
  {
   "cell_type": "code",
   "execution_count": 58,
   "metadata": {},
   "outputs": [
    {
     "name": "stdout",
     "output_type": "stream",
     "text": [
      "f\n",
      "b\n",
      "d\n",
      "d\n"
     ]
    }
   ],
   "source": [
    "# finditer 可以返回完整的匹配结果是一个迭代器可以用for循环遍历，以及分组的匹配结果\n",
    "import re\n",
    "pattern = re.compile(r'([a-z])[a-z]([a-z])') # 匹配任意长度的英文字母\n",
    "str1 = '123fabd456dfd789' # 会匹配整个字符串，将符合规则的保存在列表中\n",
    "result= pattern.finditer(str1)\n",
    "for i in result:\n",
    "    print(i.group(1))# 返回一个符合的列表,使用group返回完整的匹配结果\n",
    "    print(i.group(2)) # 返回第一个分组的匹配结果"
   ]
  },
  {
   "cell_type": "code",
   "execution_count": 67,
   "metadata": {},
   "outputs": [
    {
     "name": "stdout",
     "output_type": "stream",
     "text": [
      "['one', 'two', 'three', 'four']\n",
      "['one', 'two', 'three', 'four']\n",
      "['one', 'two', 'three', 'four']\n"
     ]
    }
   ],
   "source": [
    "# split 分割字符串的匹配结果\n",
    "# \\w 字母数字下划线\n",
    "import re\n",
    "str1 = 'one,two,three,four'\n",
    "str2 = 'one1two2three3four'\n",
    "str1_list = str1.split(\",\")\n",
    "print(str1_list)\n",
    "str_split1 = re.split('\\W+',str1)\n",
    "str_split2 = re.split('\\d+',str2)\n",
    "print(str_split1)\n",
    "print(str_split2)"
   ]
  },
  {
   "cell_type": "code",
   "execution_count": 72,
   "metadata": {},
   "outputs": [
    {
     "name": "stdout",
     "output_type": "stream",
     "text": [
      "ja-dashg-dagagashghhfour-five-\n"
     ]
    }
   ],
   "source": [
    "# sub() 使用re替换string中每一个匹配的子串后返回替换后的字符串\n",
    "import re \n",
    "subRegex = re.compile('\\d+')\n",
    "str1 = 'ja45dashg468dagagashghhfour5five9'\n",
    "mo2 = subRegex.sub('-',str1)\n",
    "print(mo2)"
   ]
  },
  {
   "cell_type": "code",
   "execution_count": 71,
   "metadata": {},
   "outputs": [
    {
     "name": "stdout",
     "output_type": "stream",
     "text": [
      "('ja-dashg-dagagashghhfour-five-', 4)\n"
     ]
    }
   ],
   "source": [
    "# subn() 返回替换次数\n",
    "import re \n",
    "subRegex = re.compile('\\d+')\n",
    "str1 = 'ja45dashg468dagagashghhfour5five9'\n",
    "mo1 = subRegex.subn('-',str1)\n",
    "print(mo1)"
   ]
  },
  {
   "cell_type": "code",
   "execution_count": 73,
   "metadata": {},
   "outputs": [
    {
     "name": "stdout",
     "output_type": "stream",
     "text": [
      "hello 123\n",
      "world 321\n"
     ]
    }
   ],
   "source": [
    "#  引用分组\n",
    "import re\n",
    "strs = 'hello 123,world 321'\n",
    "pattern = re.compile('\\w+ \\d+')\n",
    "for i in pattern.finditer(strs):\n",
    "    print(i.group())"
   ]
  },
  {
   "cell_type": "markdown",
   "metadata": {},
   "source": [
    "##  打印分组\n",
    "    import re\n",
    "    strs = 'hello 123,world 321'\n",
    "    pattern = re.compile('(\\w+) (\\d+)')\n",
    "    for i in pattern.finditer(strs):\n",
    "        print(i.group())\n",
    "        print(i.group(1))\n",
    "        print(i.group(2))"
   ]
  },
  {
   "cell_type": "code",
   "execution_count": 77,
   "metadata": {},
   "outputs": [
    {
     "name": "stdout",
     "output_type": "stream",
     "text": [
      "123 hello,321 world\n",
      "123***hello,321***world\n"
     ]
    }
   ],
   "source": [
    "#  替换分组\n",
    "import re\n",
    "strs = 'hello 123,world 321'\n",
    "pattern = re.compile('(\\w+) (\\d+)')\n",
    "print(pattern.sub(r'\\2 \\1',strs)) # 取得分组 \\1 \\2\n",
    "print(pattern.sub(r'\\2***\\1',strs))"
   ]
  },
  {
   "cell_type": "markdown",
   "metadata": {},
   "source": [
    "### 匹配中文字符\n",
    "- pattern = re.compile(r'[\\u4e00-\\u9fa5]+') 匹配中文字符"
   ]
  },
  {
   "cell_type": "code",
   "execution_count": 86,
   "metadata": {},
   "outputs": [
    {
     "name": "stdout",
     "output_type": "stream",
     "text": [
      "['你好', '美女']\n"
     ]
    }
   ],
   "source": [
    "# 匹配中文字符\n",
    "import re\n",
    "str1 = '你好,hello,美女!'\n",
    "pattern = re.compile(r'[\\u4e00-\\u9fa5]+')\n",
    "result = pattern.findall(str1)\n",
    "print(result)"
   ]
  },
  {
   "cell_type": "code",
   "execution_count": 94,
   "metadata": {},
   "outputs": [
    {
     "name": "stdout",
     "output_type": "stream",
     "text": [
      "['http://www.abc.com.cn', 'https://www.sae.com', 'ftp://www.mmm.org', 'ftps://www.jksad.net']\n"
     ]
    }
   ],
   "source": [
    "# 练习\n",
    "# 将以下字符串中的url匹配出来\n",
    "\n",
    "import re\n",
    "str2 = '''31356456@qq.com\n",
    "hjfdjds@163.com\n",
    "http://www.abc.com.cn\n",
    "https://www.sae.com\n",
    "ftp://www.mmm.org\n",
    "ftps://www.jksad.net'''\n",
    "pattern = re.compile(r'[a-z]+://www(.\\w+)(.\\w+){1,2}')\n",
    "result = pattern.finditer(str2)\n",
    "print([i.group() for i in result ])"
   ]
  },
  {
   "cell_type": "code",
   "execution_count": 98,
   "metadata": {},
   "outputs": [
    {
     "name": "stdout",
     "output_type": "stream",
     "text": [
      "全是中文字符\n",
      "['广东省广州市']\n"
     ]
    }
   ],
   "source": [
    "# 判断是全部是中文\n",
    "\n",
    "str1 = '广东省广州市'\n",
    "pattern = re.compile(r'^[\\u4e00-\\u9fa5]+$')\n",
    "result = pattern.findall(str1)\n",
    "#print(result)\n",
    "if result:\n",
    "    print(\"全是中文字符\")\n",
    "    print(result)\n",
    "else:\n",
    "    print(\"不全是中文字符\")\n"
   ]
  },
  {
   "cell_type": "code",
   "execution_count": 102,
   "metadata": {},
   "outputs": [
    {
     "name": "stdout",
     "output_type": "stream",
     "text": [
      "[\"<script language='javascript>'alert('cc');</script>\", \"<script>alert('dd');</script>\"]\n",
      "以下内容不显示：<p>hjsgjgsjakak</p>\n"
     ]
    }
   ],
   "source": [
    "# 写出正则表达式，过滤掉所有的JS脚本的内容\n",
    "import re\n",
    "script = \"以下内容不显示：<script language='javascript>'alert('cc');</script><p>hjsgjgsjakak</p><script>alert('dd');</script>\"\n",
    "pattern = re.compile(r'<script.*?</script>') # 用非贪婪模式匹配出所有的\n",
    "result = pattern.findall(script)\n",
    "print([i for i in result])\n",
    "clr_js_rst = pattern.sub('',script)\n",
    "print(clr_js_rst)"
   ]
  },
  {
   "cell_type": "code",
   "execution_count": 110,
   "metadata": {},
   "outputs": [
    {
     "name": "stdout",
     "output_type": "stream",
     "text": [
      "../public/img/img1.png\n",
      "xxx.jpg\n"
     ]
    }
   ],
   "source": [
    "# 写出正则表达式吧img标签中的src路径匹配出来\n",
    "import re\n",
    "str1 = '''<img name=\"photo\" src=\"../public/img/img1.png\" />\n",
    "<img name=\"news\" src=\"xxx.jpg\" title='news' />'''\n",
    "pattern = re.compile(r'src=[\\'\\\"](.*?)[\\'\\\"]')\n",
    "result = pattern.findall(str1)\n",
    "for i in result:\n",
    "    print(i)"
   ]
  },
  {
   "cell_type": "code",
   "execution_count": 121,
   "metadata": {},
   "outputs": [
    {
     "name": "stdout",
     "output_type": "stream",
     "text": [
      "13966669999\n",
      "139****9999\n"
     ]
    }
   ],
   "source": [
    "# 匹配电话号码\n",
    "phone = '13966669999'\n",
    "pattern = re.compile(r'^(1[3578]\\d)(\\d{4})(\\d{4})$')\n",
    "phone2 = pattern.finditer(phone)\n",
    "for i in phone2:\n",
    "    tt = i.group()\n",
    "    print(tt)\n",
    "    result = pattern.sub(r\"\\1****\\3\",phone)\n",
    "    print(result)"
   ]
  },
  {
   "cell_type": "code",
   "execution_count": 3,
   "metadata": {},
   "outputs": [
    {
     "name": "stdout",
     "output_type": "stream",
     "text": [
      "First Name: Al\n",
      "Last Name: Sweigart\n"
     ]
    }
   ],
   "source": [
    "# 用 .* 匹配任意字符\n",
    "# 有时候想要匹配所有字符串。例如，假定想要匹配字符串'First Name:'，接下来\n",
    "# 是任意文本，接下来是'Last Name:'，然后又是任意文本。可以用点-星（.*）表示“任\n",
    "# 意文本”。回忆一下，句点字符表示“除换行外所有单个字符”，星号字符表示“前\n",
    "# 面字符出现零次或多次”\n",
    "\n",
    "import re \n",
    "nameRegex = re.compile(r\"First Name:(.*) Last Name:(.*)\")\n",
    "mo = nameRegex.search(\"First Name: Al Last Name: Sweigart\")\n",
    "print(\"First Name:\"+ mo.group(1)+\"\\n\"+ \"Last Name:\"+mo.group(2))"
   ]
  },
  {
   "cell_type": "code",
   "execution_count": 4,
   "metadata": {},
   "outputs": [
    {
     "data": {
      "text/plain": [
       "'<To serve man>'"
      ]
     },
     "execution_count": 4,
     "metadata": {},
     "output_type": "execute_result"
    }
   ],
   "source": [
    "# 点-星使用“贪心”模式：它总是匹配尽可能多的文本。要用“非贪心”模式匹配\n",
    "# 所有文本，就使用点-星和问号。像和大括号一起使用时那样，问号告诉Python 用非贪\n",
    "# 心模式匹配。在交互式环境中输入以下代码，看看贪心模式和非贪心模式的区别\n",
    "\n",
    "import re\n",
    "nongreedyRegex = re.compile(r'<.*?>')\n",
    "mo = nongreedyRegex.search('<To serve man> for dinner.>')\n",
    "mo.group()"
   ]
  },
  {
   "cell_type": "code",
   "execution_count": 5,
   "metadata": {},
   "outputs": [
    {
     "data": {
      "text/plain": [
       "'<To serve man> for dinner.>'"
      ]
     },
     "execution_count": 5,
     "metadata": {},
     "output_type": "execute_result"
    }
   ],
   "source": [
    "nongreedyRegex = re.compile(r'<.*>')\n",
    "mo = nongreedyRegex.search('<To serve man> for dinner.>')\n",
    "mo.group()\n",
    "\n",
    "# 两个正则表达式都可以翻译成“匹配一个左尖括号，接下来是任意字符，接下\n",
    "# 来是一个右尖括号”。但是字符串'<To serve man> for dinner.>'对右肩括号有两种可能的\n",
    "# 匹配。在非贪心的正则表达式中，Python 匹配最短可能的字符串：'<To serve man>'。\n",
    "# 在贪心版本中，Python 匹配最长可能的字符串：'<To serve man> for dinner.>'。"
   ]
  },
  {
   "cell_type": "markdown",
   "metadata": {},
   "source": [
    "#### 用句点字符匹配换行\n",
    "    点-星将匹配除换行外的所有字符。通过传入 re.DOTALL 作为 re.compile()的第\n",
    "    二个参数，可以让句点字符匹配所有字符，包括换行字符。"
   ]
  },
  {
   "cell_type": "code",
   "execution_count": 6,
   "metadata": {},
   "outputs": [
    {
     "data": {
      "text/plain": [
       "'Serve the public trust.'"
      ]
     },
     "execution_count": 6,
     "metadata": {},
     "output_type": "execute_result"
    }
   ],
   "source": [
    "import re\n",
    "noNewlineRegex = re.compile(\".*\")\n",
    "mo = noNewlineRegex.search(\"Serve the public trust.\\nProtect the innocent.\\nUphold the law.\")\n",
    "mo.group()"
   ]
  },
  {
   "cell_type": "code",
   "execution_count": 8,
   "metadata": {},
   "outputs": [
    {
     "data": {
      "text/plain": [
       "'Serve the public trust.\\nProtect the innocent.\\nUphold the law.'"
      ]
     },
     "execution_count": 8,
     "metadata": {},
     "output_type": "execute_result"
    }
   ],
   "source": [
    "# 通过传入re.DOTALL作为re.compile()的第二个参数，可以让句点字符匹配所有字符，包括换行符。\n",
    "import re\n",
    "noNewlineRegex = re.compile(\".*\",re.DOTALL)\n",
    "mo = noNewlineRegex.search(\"Serve the public trust.\\nProtect the innocent.\\nUphold the law.\")\n",
    "mo.group()\n",
    "\n",
    "# 正则表达式 noNewlineRegex 在创建时没有向 re.compile()传入 re.DOTALL，它\n",
    "# 将匹配所有字符，直到第一个换行字符。但是，newlineRegex 在创建时向re.compile()传\n",
    "# 入了 re.DOTALL，它将匹配所有字符。这就是为什么 newlineRegex.search()调用匹配完\n",
    "# 整的字符串，包括其中的换行字符"
   ]
  },
  {
   "cell_type": "code",
   "execution_count": 9,
   "metadata": {},
   "outputs": [
    {
     "data": {
      "text/plain": [
       "'RoboCop'"
      ]
     },
     "execution_count": 9,
     "metadata": {},
     "output_type": "execute_result"
    }
   ],
   "source": [
    "# 不区分大小写的匹配\n",
    "import re\n",
    "robocop = re.compile(r'robocop', re.I)\n",
    "robocop.search('RoboCop is part man, part machine, all cop.').group()"
   ]
  },
  {
   "cell_type": "markdown",
   "metadata": {},
   "source": [
    "### 管理复杂的正则表达式\n",
    "\n",
    "如果要匹配的文本模式很简单，正则表达式就很好。但匹配复杂的文本模式，可能需要长的、费解的正则表达式。你可以告诉 re.compile()，忽略正则表达式字符串中的空白符和注释，从而缓解这一点。要实现这种详细模式，可以向 re.compile()传入变量 re.VERBOSE，作为第二个参数。"
   ]
  },
  {
   "cell_type": "code",
   "execution_count": null,
   "metadata": {},
   "outputs": [],
   "source": [
    "# 可以将正则表达式放在多行中，并加上注释，像这样\n",
    "phoneRegex = re.compile(r'''(\n",
    "(\\d{3}|\\(\\d{3}\\))? # area code\n",
    "(\\s|-|\\.)? # separator\n",
    "\\d{3} # first 3 digits\n",
    "(\\s|-|\\.) # separator\n",
    "\\d{4} # last 4 digits\n",
    "(\\s*(ext|x|ext.)\\s*\\d{2,5})? # extension\n",
    ")''', re.VERBOSE)\n",
    "\n",
    "\n",
    "# 请注意，前面的例子使用了三重引号('\")，创建了一个多行字符串。这样就可以\n",
    "# 将正则表达式定义放在多行中，让它更可读。\n",
    "# 正则表达式字符串中的注释规则，与普通的 Python 代码一样：#符号和它后面直\n",
    "# 到行末的内容，都被忽略。而且，表示正则表达式的多行字符串中，多余的空白字符\n",
    "# 也不认为是要匹配的文本模式的一部分。这让你能够组织正则表达式，让它更可读。"
   ]
  },
  {
   "cell_type": "markdown",
   "metadata": {},
   "source": [
    "#### 组合使用 re.IGNOREC ASE、re.DOTALL 和 re.VERBOSE\n",
    "\n",
    "    如果你希望在正则表达式中使用 re.VERBOSE 来编写注释，还希望使用\n",
    "    re.IGNORECASE 来忽略大小写，该怎么办？遗憾的是，re.compile()函数只接受一个值作为它的第二参数。可以使用管道字符（|）将变量组合起来，从而绕过这个限制。管道字符在这里称为“按位或”操作符。\n",
    "    所以，如果希望正则表达式不区分大小写，并且句点字符匹配换行，就可以这样构造 re.compile()调用："
   ]
  },
  {
   "cell_type": "code",
   "execution_count": 11,
   "metadata": {},
   "outputs": [
    {
     "data": {
      "text/plain": [
       "'hahaha gege heiheiFo\\naskkjdkFoo'"
      ]
     },
     "execution_count": 11,
     "metadata": {},
     "output_type": "execute_result"
    }
   ],
   "source": [
    "import re\n",
    "someRegexValue = re.compile('.foo', re.IGNORECASE | re.DOTALL)\n",
    "mo = someRegexValue.search(\"hahaha gege heiheiFo\\naskkjdkFoos\")\n",
    "mo.group()"
   ]
  },
  {
   "cell_type": "markdown",
   "metadata": {},
   "source": [
    "#### 项目：电话号码和 E-mail 地址提取程序\n",
    "    假设你有一个无聊的任务，要在一篇长的网页或文章中，找出所有电话号码和邮件地址。如果手动翻页，可能需要查找很长时间。如果有一个程序，可以在剪贴板的文本中查找电话号码和 E-mail 地址，那你就只要按一下 Ctrl-A 选择所有文本，按下 Ctrl-C 将它复制到剪贴板，然后运行你的程序。它会用找到的电话号码和 E-mail地址，替换掉剪贴板中的文本。\n",
    "    当你开始接手一个新项目时，很容易想要直接开始写代码。但更多的时候最\n",
    "    好是后退一步，考虑更大的图景。我建议先草拟高层次的计划，弄清楚程序需要做什么。暂时不要思考真正的代码，稍后再来考虑。现在，先关注大框架。\n",
    "- 例如，你的电话号码和 E-mail 地址提取程序需要完成以下任务：\n",
    "\n",
    "    *  从剪贴板取得文本。\n",
    "    *  找出文本中所有的电话号码和 E-mail 地址。\n",
    "    *  将它们粘贴到剪贴板。\n",
    "    *    现在你可以开始思考，如何用代码来完成工作。代码需要做下面的事情：\n",
    "    *  使用 pyperclip 模块复制和粘贴字符串。\n",
    "    *  创建两个正则表达式，一个匹配电话号码，另一个匹配 E-mail 地址。\n",
    "    *  对两个正则表达式，找到所有的匹配，而不只是第一次匹配。\n",
    "    *  将匹配的字符串整理好格式，放在一个字符串中，用于粘贴。\n",
    "    *  如果文本中没有找到匹配，显示某种消息。\n",
    "    \n",
    "    这个列表就像项目的路线图。在编写代码时，可以独立地关注其中的每一步。\n",
    "    每一步都很好管理。它的表达方式让你知道在 Python 中如何去做。"
   ]
  },
  {
   "cell_type": "code",
   "execution_count": null,
   "metadata": {},
   "outputs": [],
   "source": [
    "# 为电话记号码创建一个正则表达式\n",
    "import pyperclip, re\n",
    "phoneRegex = re.compile(r'''(\n",
    "(\\d{3}|\\(\\d{3}\\))? # 区号\n",
    "(\\s|-|\\.)? # 分隔符\n",
    "(\\d{3}) # 前三个数字\n",
    "(\\s|-|\\.) # 分隔符\n",
    "(\\d{4}) # 后四个数字\n",
    "(\\s*(ext|x|ext.)\\s*(\\d{2,5}))? # 转机号码\n",
    ")''', re.VERBOSE)\n",
    "\n",
    "# 电话号码从一个“可选的”区号开始，所以区号分组跟着一个问号。因为区号\n",
    "# 可能只是 3 个数字（即\\d{3}），或括号中的 3 个数字（即\\(\\d{3}\\)），所以应该用管\n",
    "# 道符号连接这两部分。可以对这部分多行字符串加上正则表达式注释# Area code，\n",
    "# 帮助你记忆(\\d{3}|\\(\\d{3}\\))?要匹配的是什么。\n",
    "# 电话号码分割字符可以是空格（\\s）、短横（-）或句点（.），所以这些部分也应\n",
    "# 该用管道连接。这个正则表达式接下来的几部分很简单：3 个数字，接下来是另一\n",
    "# 个分割符，接下来是 4 个数字。最后的部分是可选的分机号，包括任意数目的空格，\n",
    "# 接着 ext、x 或 ext.，再接着 2 到 5 位数字。"
   ]
  },
  {
   "cell_type": "code",
   "execution_count": null,
   "metadata": {},
   "outputs": [],
   "source": [
    "# 为E-Mail创建一个正则表达式\n",
    "# Create email regex.\n",
    "emailRegex = re.compile(r'''(\n",
    " [a-zA-Z0-9._%+-]+ # 用户名\n",
    " @ # @符号\n",
    " [a-zA-Z0-9.-]+ # 邮箱类别\n",
    "(\\.[a-zA-Z]{2,4}) # 域名\n",
    ")''', re.VERBOSE)"
   ]
  }
 ],
 "metadata": {
  "kernelspec": {
   "display_name": "Python 3",
   "language": "python",
   "name": "python3"
  },
  "language_info": {
   "codemirror_mode": {
    "name": "ipython",
    "version": 3
   },
   "file_extension": ".py",
   "mimetype": "text/x-python",
   "name": "python",
   "nbconvert_exporter": "python",
   "pygments_lexer": "ipython3",
   "version": "3.6.0"
  }
 },
 "nbformat": 4,
 "nbformat_minor": 2
}
