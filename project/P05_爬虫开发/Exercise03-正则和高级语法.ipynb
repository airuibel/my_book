{
 "cells": [
  {
   "cell_type": "markdown",
   "metadata": {},
   "source": [
    "## 3. 正则表达式\n",
    "\n",
    "### 3.1 概述\n",
    "\n",
    "作用: 一种描述 匹配/提取/搜索 规则的字符串\n",
    "\n",
    "*正则表达式*(regular expression)\n",
    "\n",
    "### 3.2 基本使用\n",
    "\n",
    "```python\n",
    "import re\n",
    "\n",
    "# 从第一个字符每个字符  开始就必须匹配\n",
    "匹配结果对象 = re.match(r\"正则\",数据)\n",
    "# 获取匹配结果  匹配结果对象.group()\n",
    "# 如果匹配失败  匹配结果对象 是 None\n",
    "\n",
    "# 从头开始搜索 并且尝试匹配 \n",
    "匹配结果对象  = re.search(r\"正则\",数据)\n",
    "# 获取匹配结果  匹配结果对象.group()\n",
    "# 如果匹配失败  匹配结果对象 是 None\n",
    "```\n",
    "\n",
    "### 3.3 匹配单个字符\n",
    "\n",
    "匹配单个字符的字符- 元字符\n",
    "\n",
    ".        匹配一个任意字符<默认除\\n  re.S 模式可以匹配\\n >\n",
    "\n",
    "[]      匹配[]中任意一个字符\n",
    "\n",
    "[-]    匹配[]中范围内任意一个字符\n",
    "\n",
    "[^]    禁止匹配[]中任意一个字符\n",
    "\n",
    "\\d \\D 一个数字字符、非数字字符\n",
    "\n",
    "\\s \\S  一个空白字符、非空白         \\s= [\\r\\n\\v\\t\\f ]\n",
    "\n",
    "\\w \\W 一个单词字符<数字字母下划线>  py3re.U 匹配汉字;  re.A 不匹配汉字\n",
    "\n",
    "```python\n",
    "import re\n",
    "\n",
    "\n",
    "# 1 .匹配一个任意字符\n",
    "res = re.match(r\"hell.\", \"hello meizi\")\n",
    "res = re.match(r\"hell.\", \"hell2 meizi\")\n",
    "res = re.match(r\"hell.\", \"hell\\n meizi\")  # .默认情况不能匹配\\n\n",
    "res = re.match(r\"hell.\", \"hell\\n meizi\", re.S)  # 扩展: 多行模式 .可以匹配\\n\n",
    "res = re.match(r\"hell\\.\", \"hell.itcast.cn\")  # 只让正则中.只匹配.  r\"\\.\"\n",
    "\n",
    "# 2. [] 匹配集合中任意一个字符\n",
    "res = re.match(r\"hell[ab]\", \"hella meizi\")\n",
    "res = re.match(r\"hell[ab]\", \"hellc meizi\")\n",
    "res = re.match(r\"hello[0123456789]\", \"hello0 meizi\")\n",
    "# 2.1 [-] 表示匹配范围内的任意一个字符\n",
    "res = re.match(r\"hello[0-9]\", \"hello0 meizi\")\n",
    "res = re.match(r\"hello[a-z]\", \"helloa meizi\")\n",
    "res = re.match(r\"hello[a-zA-Z0-9_]\", \"helloA meizi\")\n",
    "# 2.2 [^] 取反 表示禁止匹配集合中任意一个字符\n",
    "res = re.match(r\"hello[^0-9]\", \"hello0 meizi\")\n",
    "res = re.match(r\"hello[^0-9]\", \"hello$ meizi\")\n",
    "\n",
    "# 3 \\d digit 匹配一个数字字符 [0-9] \\D 匹配一个非数字字符\n",
    "res = re.match(r\"hello[0-9]\", \"hello1 meizi\")\n",
    "res = re.match(r\"hello\\d\", \"hello1 meizi\")\n",
    "res = re.match(r\"hello[^0-9]\", \"hello$ meizi\")\n",
    "res = re.match(r\"hello\\D\", \"hello$ meizi\")\n",
    "\n",
    "# 4 \\s space 匹配一个空白字符 [ \\r\\n\\v\\t\\f]  \\S=[^ \\r\\n\\v\\t\\f]\n",
    "res = re.match(r\"hello\\s\", \"hello meizi\")\n",
    "res = re.match(r\"hello\\s\", \"hello\\tmeizi\")\n",
    "res = re.match(r\"hello\\S\", \"hello\\tmeizi\")\n",
    "res = re.match(r\"hello\\S\", \"hello1meizi\")\n",
    "\n",
    "# 5 \\w word 匹配一个单词字符 [a-zA-Z0-9_]  \\W=[^a-zA-Z0-9_]\n",
    "# py3 默认是 UNICODE 模式 \\w 可以匹配汉字    ASCII re.A re.ASCII模式\\w 不能匹配汉字\n",
    "# py2 默认是 ASCII 模式    re.U re.UNICODE\n",
    "\n",
    "res = re.match(r\"hello\\w\", \"hello1meizi\")\n",
    "res = re.match(r\"hello\\w\", \"hello_meizi\")\n",
    "res = re.match(r\"hello\\w\", \"hello呵meizi\")\n",
    "res = re.match(r\"hello\\w\", \"hello呵meizi\", re.U)\n",
    "res = re.match(r\"hello\\w\", \"hello呵meizi\", re.A)\n",
    "res = re.match(r\"hello\\W\", \"hello呵meizi\")\n",
    "res = re.match(r\"hello\\W\", \"hello_meizi\")\n",
    "res = re.match(r\"hello\\W\", \"hello%meizi\")\n",
    "\n",
    "if res:\n",
    "    print(\"结果是\", res.group())\n",
    "else:\n",
    "    print(\"失败了\")\n",
    "```\n",
    "\n",
    "\n",
    "\n",
    "### 3.4 匹配数量\n",
    "\n",
    "匹配数量的 字符-量词\n",
    "\n",
    "```python\n",
    "{m,n}    匹配大于等于m 次  小于等于 n次\n",
    "\n",
    "+        至少 1 次        \n",
    "\n",
    "*        至少 0 次 \n",
    "\n",
    "?        1 次或者 0 次\n",
    "```\n",
    "\n",
    "````python\n",
    "import re\n",
    "\n",
    "res = re.match(r\"嫦娥\\d号\", \"嫦娥1号\")\n",
    "res = re.match(r\"嫦娥\\d\\d\\d\\d号\", \"嫦娥1111号\")\n",
    "res = re.match(r\"嫦娥\\d\\d\\d\\d\\d号\", \"嫦娥11111号\")\n",
    "\n",
    "\n",
    "# 1 字符{m,n}  最少 m 次  最多 n 次\n",
    "res = re.match(r\"嫦娥\\d{3,5}号\", \"嫦娥11111号\")\n",
    "res = re.match(r\"嫦娥\\d{3,5}号\", \"嫦娥111号\")\n",
    "\n",
    "# 2 {m} 出现 m 次\n",
    "res = re.match(r\"嫦娥\\d{3,3}号\", \"嫦娥111号\")\n",
    "res = re.match(r\"嫦娥\\d{3}号\", \"嫦娥111号\")\n",
    "# res = re.match(r\"嫦娥\\d{10,5}号\", \"嫦娥111号\")  # 出错\n",
    "# 3 {m,}   {1,}==+\n",
    "res = re.match(r\"嫦娥\\d{3,}号\", \"嫦娥111号\")  # 大于等于3次\n",
    "res = re.match(r\"嫦娥\\d{3,}号\", \"嫦娥1234567555555555555555555555555555555555555559号\")  # 大于等于3\n",
    "res = re.match(r\"嫦娥\\d{1,}号\", \"嫦娥111号\")  # 大于等于1次\n",
    "res = re.match(r\"嫦娥\\d+号\", \"嫦娥1号\")  # 大于等于1次\n",
    "\n",
    "# 4 {0,} 至少 0 次   可以没有可以有任意多次  {0,} == * = {,}\n",
    "res = re.match(r\"嫦娥\\d{0,}号\", \"嫦娥111号\")  # 大于等于0次\n",
    "res = re.match(r\"嫦娥\\d*号\", \"嫦娥111号\")  # 大于等于0次\n",
    "res = re.match(r\"嫦娥\\d*号\", \"嫦娥号\")  # 大于等于0次\n",
    "res = re.match(r\"嫦娥\\d{,}号\", \"嫦娥号\")  # 大于等于0次\n",
    "res = re.match(r\"嫦娥\\d{,2}号\", \"嫦娥2号\")  # 大于等于0次  小于等于2次  {0,2}\n",
    "\n",
    "# 5 {0,1} = {,1} = ?  要么 1 次要么就没有\n",
    "res = re.match(r\"嫦娥\\d{,1}号\", \"嫦娥号\")\n",
    "res = re.match(r\"嫦娥\\d{,1}号\", \"嫦娥1号\")\n",
    "res = re.match(r\"嫦娥\\d?号\", \"嫦娥1号\")\n",
    "if res:\n",
    "    print(\"结果是\", res.group())\n",
    "else:\n",
    "    print(\"失败了\")\n",
    "\n",
    "\n",
    "````\n",
    "\n",
    "\n",
    "\n",
    "### 3.5 匹配位置\n",
    "\n",
    "^    匹配开始位置\n",
    "\n",
    "$   匹配结束位置\n",
    "\n",
    "```python\n",
    "res = re.match(r\"\\w{6,20}@qq\\.com\", \"123456789@qq.com\")\n",
    "res = re.match(r\"\\w{6,20}@qq\\.com\", \"123456789@qq.com.hehlk\")\n",
    "res = re.search(r\"\\w{6,20}@qq\\.com\", \"haha.123456789@qq.com.hehlk\")\n",
    "res = re.search(r\"^\\w{6,20}@qq\\.com$\", \"123456789@qq.com\")\n",
    "res = re.match(r\"^\\w{6,20}@qq\\.com$\", \"123456789@qq.com.hehlk\")\n",
    "\n",
    "# 标识符规则    不大于255个字符(数字字母下划线) 不能以数字开始  man4xx\n",
    "res = re.match(r\"^[a-zA-Z_][\\da-zA-Z_]{0,254}$\", \"__man4xx\")\n",
    "if res:\n",
    "    print(\"结果是\", res.group())\n",
    "else:\n",
    "    print(\"失败了\")\n",
    "\n",
    "```\n",
    "\n",
    "### 3.6 分组\n",
    "\n",
    "分组目的: 提取部分\n",
    "\n",
    "#### 3.6.1 匿名分组\n",
    "\n",
    "创建 :  r\"(正则)\"\n",
    "\n",
    "获取: 匹配结果对象.group(分组编号=0)  0号分组存整体正则结果\n",
    "\n",
    "引用: \\分组编号    \n",
    "\n",
    "```python\n",
    "import re\n",
    "\n",
    "# 匿名分组: 只能根据编号操作的分组\n",
    "# 1 目的: 从整体数据 *提取* 出感兴趣的 *部分* 数据\n",
    "# 2 创建: (正则)\n",
    "# 4 引用: 需要将前面分组的数据 放到正则后续继续进行匹配  \\分组编号\n",
    "res = re.match(r\"^(\\d{3,4})-(\\d{6,8}) 010-1234567$\", \"010-1234567 010-1234567\")\n",
    "res = re.match(r\"^(\\d{3,4})-(\\d{6,8}) 020-98765321$\", \"020-987654321 010-1234567\")\n",
    "res = re.match(r\"^(\\d{3,4})-(\\d{6,8}) \\1-\\2$\", \"020-98765432 020-98765432\")\n",
    "# res = re.match(\"^(\\d{3,4})-(\\d{6,8}) \\1-\\2$\", \"020-98765432 020-98765432\")\n",
    "\n",
    "if res:\n",
    "    # 3 获取分组结果 匹配结果对象.group(分组编号=0)\n",
    "    # 默认就是 0号分组 是整体结果  用户创建的分组默认从 1 开始\n",
    "    print(\"结果是\", res.group(1,2))  # 可以传多个分组编号 获取多个分组的数据了\n",
    "else:\n",
    "    print(\"失败了\")\n",
    "```\n",
    "\n",
    "\n",
    "\n",
    "#### 3.6.2 有名分组\n",
    "\n",
    ">   匿名分组有缺陷:\n",
    ">\n",
    ">   一旦分组编号发生变化  分组引用往往都需要重新修改\n",
    ">\n",
    ">   解决方案: 给分组起一个唯一的名字<有名分组 不需要收到分组变化的影响>\n",
    "\n",
    "````python\n",
    "import re\n",
    "\n",
    "# 1 创建有名分组: r\"(?P<分组名字>正则)\"\n",
    "# 2 分组引用  r\"(?P<分组名字>正则) (?P=name)\"\n",
    "res = re.match(\n",
    "    r\"^(\\d{3,4})-(\\d{6,8}) \\1-\\2$\", \n",
    "    \"020-98765432 020-98765432\")\n",
    "# res = re.match(r\"^((\\d{3,4})-(\\d{6,8})) \\1-\\2$\", \"020-98765432 020-98765432\")  # 报错因为分组编号发生变化了\n",
    "\n",
    "res = re.match(\n",
    "    r\"^((\\d{3,4})-(\\d{6,8})) \\2-\\3$\", \n",
    "    \"020-98765432 020-98765432\")\n",
    "\n",
    "res = re.match(\n",
    "    r\"^(?P<area>\\d{3,4})-(?P<no>\\d{6,8}) (?P=area)-(?P=no)$\",\n",
    "    \"020-98765432 020-98765432\")\n",
    "\n",
    "res = re.match(\n",
    "    r\"^((?P<area>\\d{3,4})-(?P<no>\\d{6,8})) (?P=area)-(?P=no)$\",\n",
    "    \"020-98765432 020-98765432\")\n",
    "\n",
    "\n",
    "if res:\n",
    "    # 3 获取分组结果 匹配结果对象.group(分组编号=0/分组名字)\n",
    "    print(\"结果是\", res.group('area', 'no'))\n",
    "else:\n",
    "    print(\"失败了\")\n",
    "\n",
    "````\n",
    "\n",
    "\n",
    "\n",
    "### 3.6.3 匹配其中任何一个表达式\n",
    "\n",
    "```python\n",
    "import re\n",
    "\n",
    "\n",
    "# 6-20单词字符@邮箱域名.com 8.8.8.8  t.cn\n",
    "# ^匹配开始   $匹配结束位置   r\"^正则$\"\n",
    "\n",
    "# 1 r\"正则1|2|3|4....\"  匹配|左右任意一个表达式\n",
    "res = re.match(r\"^\\w{6,20}@qq\\.com$\", \"123456789@qq.com.hehlk\")\n",
    "res = re.match(r\"^\\w{6,20}@qq\\.com$|^\\w{6,20}@163\\.com$\", \"123456789@163.com\")\n",
    "res = re.match(r\"^\\w{6,20}@qq\\.com$|^\\w{6,20}@163\\.com$|^\\w{6,20}@itheima\\.com$\", \"123456789@itheima.com\")\n",
    "\n",
    "# 2 r\"(正则1|2|3)正则\"   匹配分组中|左右任意一个表达式\n",
    "res = re.match(r\"^\\w{6,20}@(qq|163|itheima)\\.com$\", \"123456789@itheima.com\")\n",
    "\n",
    "\n",
    "if res:\n",
    "    print(\"结果是\", res.group())\n",
    "else:\n",
    "    print(\"失败了\")\n",
    "\n",
    "```\n",
    "\n",
    "\n",
    "\n",
    "\n",
    "\n",
    "### 3.7 正则扩展用法\n",
    "\n",
    "#### 3.7.1 r 字符\n",
    "\n",
    ">   r 字符是编写正则规范  一般情况都加上即可\n",
    "\n",
    "```python\n",
    "数据的\n",
    "\\      正则需要使用\\\\\n",
    "\\\\           \\\\\\\\\n",
    "\\\\           r\"\\\\\"  原生字符串\n",
    "\n",
    "\n",
    "r 作用就是 自动对字符串中\\进行转义  \\\\\n",
    "  让用户在匹配数据的\\ 编写起来更新高效简介\n",
    "```\n",
    "\n",
    "```python\n",
    "In [1]: r\"\\1\"\n",
    "Out[1]: '\\\\1'\n",
    "\n",
    "In [2]: len(r\"\\1\")\n",
    "Out[2]: 2\n",
    "    \n",
    "re.match(\"c:\\\\a\",\"c:\\\\a\\\\b\\\\c\").group() # 出错\n",
    "\n",
    "\n",
    "In [14]: re.match(\"c:\\\\\\\\a\\\\\\\\b\\\\\\\\c\",\"c:\\\\a\\\\b\\\\c\").group()\n",
    "Out[14]: 'c:\\\\a\\\\b\\\\c'\n",
    "\n",
    "In [15]: re.match(r\"c:\\\\a\\\\b\\\\c\",\"c:\\\\a\\\\b\\\\c\").group()\n",
    "Out[15]: 'c:\\\\a\\\\b\\\\c'\n",
    "```\n",
    "\n",
    "#### 3.7.2 非贪婪模式\n",
    "\n",
    "```python\n",
    "import re\n",
    "\n",
    "\n",
    "# 两种人: 懒惰 贪婪\n",
    "# 1 在 Python 中正则默认是贪婪模式  尽可能多匹配\n",
    "# 2 默认贪婪模式变为懒惰模式 可能少匹配 在量词后加?\n",
    "# 3 贪婪和懒惰都是有前提的:  整体匹配结果满足\n",
    "\n",
    "res = re.match(r\"^(\\d+)(\\d+)$\", \"123456789\")  #  12345678,9\n",
    "res = re.match(r\"^(\\d+?)(\\d+)$\", \"123456789\")  # 1,23456789\n",
    "res = re.match(r\"^(\\d+?)(\\d{1})$\", \"123456789\")  # '12345678', '9'\n",
    "res = re.match(r\"^(\\d+)(\\d{8})$\", \"123456789\")  # '1', '23456789'\n",
    "\n",
    "print(res.group(1,2))\n",
    "```\n",
    "\n",
    "\n",
    "\n",
    "\n",
    "\n",
    "#### 3.7.3 斗鱼URL提取案例\n",
    "\n",
    ">   finall\n",
    ">\n",
    ">   取消分组 (?:正则)  借助分组的形式 但是无需要分为匹配数据 故取消分组\n",
    ">\n",
    ">   所有小姐姐的 图片URL\n",
    "\n",
    "```python\n",
    "import re\n",
    "\n",
    "\n",
    "with open(\"./my.json\") as file:\n",
    "    html = file.read()\n",
    "# findall 从数据中查找所有符合正则规则的数据\n",
    "# https://sta-op.douyucdn.cn/dy-listicon/web-king-1-10-v3.png\n",
    "# 返回值就是所有符合规则的列表\n",
    "res = re.findall(r\"https://.+\\.(jpg|png|gif)\", html)\n",
    "res = re.findall(r\"https://.+\\.(?:jpg|png|gif)\", html)\n",
    "res = re.findall(r\"https://.+?\\.(?:jpg|png|gif)\", html)\n",
    "res = re.findall(r\"https?://.+?\\.(?:jpg|png|gif)\", html)\n",
    "\n",
    "print(len(res))\n",
    "print(res)\n",
    "```\n",
    "\n",
    "\n",
    "\n",
    "## 4. 高级语法知识\n",
    "\n",
    "### 4.1 property 属性\n",
    "\n",
    ">   操作属性   既简单又安全\n",
    "\n",
    "\n",
    "\n",
    "```python\n",
    "class 类(object):\n",
    "    def __init__(self,x1):\n",
    "        self.__x = x1\n",
    "    \n",
    "    @property\n",
    "    def x(self):\n",
    "        \"\"\"提供属性的方法 对象.x\"\"\"\n",
    "        return self.__x\n",
    "    \n",
    "    @x.setter\n",
    "    def x(self, x2):\n",
    "\t\t\"\"\"设置属性的方法  对象.x = 值\"\"\"\n",
    "        判断值的合法性 如果合法就设置 否则出错\n",
    "        if x2 > 100 or x2 < 0:\n",
    "            print(\"请输入正确的年龄\")\n",
    "        else:\n",
    "            self.__age = x2\n",
    "        \n",
    "        \n",
    "对象 = 类()\n",
    "对象.x\n",
    "对象.x = 值\n",
    "```\n",
    "\n",
    "\n",
    "\n",
    "```python\n",
    "class 类(object):\n",
    "    def __init__(self,x1):\n",
    "        self.__x = x1\n",
    "   \n",
    "    def get_x(self):\n",
    "        \"\"\"提供属性的方法 对象.x\"\"\"\n",
    "        return self.__x\n",
    "\n",
    "    def set_x(self, x2):\n",
    "\t\t\"\"\"设置属性的方法  对象.x = 值\"\"\"\n",
    "        判断值的合法性 如果合法就设置 否则出错\n",
    "    # 类属性方式创建\n",
    "    x = property(get_x, set_x)\n",
    "    \n",
    "对象 = 类()\n",
    "对象.x\n",
    "对象.x = 值  "
   ]
  },
  {
   "cell_type": "code",
   "execution_count": 19,
   "metadata": {},
   "outputs": [
    {
     "name": "stdout",
     "output_type": "stream",
     "text": [
      "结果为 o\n"
     ]
    }
   ],
   "source": [
    "#  []匹配集合中的一个字符\n",
    "import re\n",
    "rst = re.search(r\"[oyt]\",\"hello world\")\n",
    "if rst:\n",
    "    print(\"结果为\",rst.group())\n",
    "else:\n",
    "    print(\"失败了\")"
   ]
  },
  {
   "cell_type": "code",
   "execution_count": 103,
   "metadata": {},
   "outputs": [
    {
     "name": "stdout",
     "output_type": "stream",
     "text": [
      "结果为 ['The ', 'the ', ' The', ' the']\n"
     ]
    }
   ],
   "source": [
    "#  匹配集合中的一个单词\n",
    "import re\n",
    "rst = re.findall(r\"\\W?[tT]he\\W+|\\W[tT]he\\W?\",\"The the thello Theworld the\")\n",
    "if rst:\n",
    "    print(\"结果为\",rst)\n",
    "else:\n",
    "    print(\"失败了\")"
   ]
  },
  {
   "cell_type": "code",
   "execution_count": 116,
   "metadata": {},
   "outputs": [
    {
     "name": "stdout",
     "output_type": "stream",
     "text": [
      "结果为 ['The ', ' the']\n"
     ]
    }
   ],
   "source": [
    "import re\n",
    "rst = re.findall(r\"(^[Tt]he\\s|\\s+[tT]he\\s+|\\s[tT]he$)\",\"The the thello Theworld the\")\n",
    "if rst:\n",
    "    print(\"结果为\",rst)\n",
    "else:\n",
    "    print(\"失败了\")"
   ]
  },
  {
   "cell_type": "code",
   "execution_count": 139,
   "metadata": {},
   "outputs": [
    {
     "name": "stdout",
     "output_type": "stream",
     "text": [
      "结果为 ['the', 'thello', 'the']\n"
     ]
    }
   ],
   "source": [
    "import re\n",
    "rst = re.findall(r\"(th\\w+)\",\"The the thello Theworld the\")\n",
    "if rst:\n",
    "    print(\"结果为\",rst)\n",
    "else:\n",
    "    print(\"失败了\")"
   ]
  },
  {
   "cell_type": "code",
   "execution_count": 146,
   "metadata": {},
   "outputs": [
    {
     "name": "stdout",
     "output_type": "stream",
     "text": [
      "结果为 ('1234567', '8')\n"
     ]
    }
   ],
   "source": [
    "# 非贪婪模式 , 默认为贪婪模式\n",
    "rst = re.findall(r\"^(\\d+)(\\d+)$\",\"12345678\")\n",
    "if rst:\n",
    "    print(\"结果为\",i)\n",
    "else:\n",
    "    print(\"失败了\")"
   ]
  },
  {
   "cell_type": "code",
   "execution_count": 153,
   "metadata": {},
   "outputs": [
    {
     "name": "stdout",
     "output_type": "stream",
     "text": [
      "结果为 [('1', '2345678')]\n"
     ]
    }
   ],
   "source": [
    "# 非贪婪模式\n",
    "rst = re.findall(r\"^(\\d+?)(\\d+)$\",\"12345678\")\n",
    "if rst:\n",
    "    print(\"结果为\",rst)\n",
    "else:\n",
    "    print(\"失败了\")"
   ]
  },
  {
   "cell_type": "code",
   "execution_count": 155,
   "metadata": {},
   "outputs": [
    {
     "name": "stdout",
     "output_type": "stream",
     "text": [
      "结果为 [('1', '2345678')]\n"
     ]
    }
   ],
   "source": [
    "# 非贪婪模式\n",
    "rst = re.findall(r\"^(\\d+?)(\\d{7})$\",\"12345678\")\n",
    "if rst:\n",
    "    print(\"结果为\",rst)\n",
    "else:\n",
    "    print(\"失败了\")"
   ]
  },
  {
   "cell_type": "code",
   "execution_count": 156,
   "metadata": {},
   "outputs": [
    {
     "name": "stdout",
     "output_type": "stream",
     "text": [
      "结果为 [('1234567', '8')]\n"
     ]
    }
   ],
   "source": [
    "# 非贪婪模式\n",
    "rst = re.findall(r\"^(\\d+?)(\\d{1})$\",\"12345678\")\n",
    "if rst:\n",
    "    print(\"结果为\",rst)\n",
    "else:\n",
    "    print(\"失败了\")"
   ]
  },
  {
   "cell_type": "code",
   "execution_count": 2,
   "metadata": {},
   "outputs": [
    {
     "name": "stdout",
     "output_type": "stream",
     "text": [
      "结果是 010-1234567\n"
     ]
    }
   ],
   "source": [
    "# 匿名分组\n",
    "import re\n",
    "\n",
    "res = re.match(r\"^(\\d{3,4})-(\\d{6,8})\", \"010-1234567\")\n",
    "if res:\n",
    "    print(\"结果是\",res.group())\n",
    "else:\n",
    "    print(\"失败了\")"
   ]
  },
  {
   "cell_type": "code",
   "execution_count": 3,
   "metadata": {},
   "outputs": [
    {
     "name": "stdout",
     "output_type": "stream",
     "text": [
      "结果是 010\n"
     ]
    }
   ],
   "source": [
    "# 获取分组\n",
    "res = re.match(r\"^(\\d{3,4})-(\\d{6,8})\", \"010-1234567\")\n",
    "if res:\n",
    "    print(\"结果是\",res.group(1))\n",
    "else:\n",
    "    print(\"失败了\")"
   ]
  },
  {
   "cell_type": "code",
   "execution_count": 6,
   "metadata": {},
   "outputs": [
    {
     "name": "stdout",
     "output_type": "stream",
     "text": [
      "失败了\n"
     ]
    }
   ],
   "source": [
    "# 匿名分组的缺点\n",
    "res = re.match(r\"^(\\d{3,4})-(\\d{6,8}) 010-1234567\", \"010-1234567 020-1234567\")\n",
    "if res:\n",
    "    print(\"结果是\",res.group())\n",
    "else:\n",
    "    print(\"失败了\")"
   ]
  },
  {
   "cell_type": "code",
   "execution_count": 8,
   "metadata": {},
   "outputs": [
    {
     "name": "stdout",
     "output_type": "stream",
     "text": [
      "结果是 010-1234567 010-1234567\n"
     ]
    }
   ],
   "source": [
    "# 匿名分组的引用\n",
    "res = re.match(r\"^(\\d{3,4})-(\\d{6,8}) \\1-\\2\", \"010-1234567 010-1234567\")\n",
    "if res:\n",
    "    print(\"结果是\",res.group())\n",
    "else:\n",
    "    print(\"失败了\")"
   ]
  },
  {
   "cell_type": "code",
   "execution_count": 17,
   "metadata": {},
   "outputs": [
    {
     "name": "stdout",
     "output_type": "stream",
     "text": [
      "你好\n"
     ]
    }
   ],
   "source": [
    "# \\w 匹配练习\n",
    "\n",
    "import re\n",
    "\n",
    "rst = re.search(r\"\\w+\",\"你好\")\n",
    "print(rst.group())"
   ]
  },
  {
   "cell_type": "code",
   "execution_count": 13,
   "metadata": {},
   "outputs": [
    {
     "name": "stdout",
     "output_type": "stream",
     "text": [
      "结果是 010-1234567 010-1234567\n"
     ]
    }
   ],
   "source": [
    "# 有名分组\n",
    "\n",
    "import re\n",
    "\n",
    "res = re.match(r\"^(?P<area>\\d{3,4})-(?P<no>\\d{6,8}) (?P=area)-(?P=no)\", \"010-1234567 010-1234567\")\n",
    "if res:\n",
    "    print(\"结果是\",res.group())\n",
    "else:\n",
    "    print(\"失败了\")"
   ]
  },
  {
   "cell_type": "code",
   "execution_count": 16,
   "metadata": {},
   "outputs": [
    {
     "name": "stdout",
     "output_type": "stream",
     "text": [
      "结果是 010-1234567 010-1234567\n"
     ]
    }
   ],
   "source": [
    "# 有名分组\n",
    "\n",
    "import re\n",
    "\n",
    "res = re.match(r\"^((?P<area>\\d{3,4})-(?P<no>\\d{6,8})) (?P=area)-(?P=no)\", \"010-1234567 010-1234567\")\n",
    "if res:\n",
    "    print(\"结果是\",res.group())\n",
    "else:\n",
    "    print(\"失败了\")"
   ]
  },
  {
   "cell_type": "markdown",
   "metadata": {},
   "source": [
    "    根据要求写出以下练习中的正则表达式：\n",
    "\n",
    "    写出识别下列字符串的正则：\"bat\",\"bit\",\"but\",\"hat\",\"hit\"或 \"hut\"。\n",
    "    长度为 8-10 位的用户密码（以字母开头、数字、下划线组成）\n",
    "    匹配年月日日期 格式2018-12-6\n",
    "    匹配 qq 号（5-12 位）\n",
    "    11位电话号码\n",
    "    有以下内容，匹配标签如： a b h1 这样的内容"
   ]
  },
  {
   "cell_type": "code",
   "execution_count": 177,
   "metadata": {},
   "outputs": [
    {
     "name": "stdout",
     "output_type": "stream",
     "text": [
      "结果是 ['bat', 'bit', 'but', 'hat', 'hit', 'hut']\n"
     ]
    }
   ],
   "source": [
    "import re\n",
    "rst = re.findall(r\"[bh][aiu]t\",'bat,bit,but,hat,hitt或 hut')\n",
    "if rst:\n",
    "    print(\"结果是\",rst)\n",
    "else:\n",
    "    print(\"失败了\")"
   ]
  },
  {
   "cell_type": "code",
   "execution_count": 181,
   "metadata": {},
   "outputs": [
    {
     "name": "stdout",
     "output_type": "stream",
     "text": [
      "结果是 Bk8546sg_\n"
     ]
    }
   ],
   "source": [
    "import re\n",
    "rst = re.match(r\"^[a-zA-Z][a-zA-Z0-9_]{7,9}$\",'Bk8546sg_')\n",
    "if rst:\n",
    "    print(\"结果是\",rst.group())\n",
    "else:\n",
    "    print(\"失败了\")"
   ]
  },
  {
   "cell_type": "code",
   "execution_count": null,
   "metadata": {},
   "outputs": [],
   "source": [
    "import re\n",
    "rst = re.match(r\"^$\",'2018-12-6')\n",
    "if rst:\n",
    "    print(\"结果是\",rst.group())\n",
    "else:\n",
    "    print(\"失败了\")"
   ]
  },
  {
   "cell_type": "code",
   "execution_count": 159,
   "metadata": {},
   "outputs": [
    {
     "name": "stdout",
     "output_type": "stream",
     "text": [
      "10\n",
      "请输入正确的年龄\n",
      "10\n"
     ]
    }
   ],
   "source": [
    "# property 属性方法1\n",
    "\n",
    "class Cat(object):\n",
    "    def __init__(self,age):\n",
    "        self.__age = age\n",
    "    \n",
    "    @property\n",
    "    def age(self):\n",
    "        return self.__age\n",
    "    \n",
    "    @age.setter\n",
    "    def age(self,new_age):\n",
    "        if new_age > 100 or new_age < 0:\n",
    "            print(\"请输入正确的年龄\")\n",
    "        else:\n",
    "            self.__age = new_age\n",
    "        \n",
    "        \n",
    "c = Cat(10)\n",
    "print(c.age)\n",
    "c.age = 101\n",
    "print(c.age)"
   ]
  },
  {
   "cell_type": "code",
   "execution_count": 169,
   "metadata": {},
   "outputs": [
    {
     "name": "stdout",
     "output_type": "stream",
     "text": [
      "10\n",
      "请输入正确的年龄\n",
      "10\n"
     ]
    }
   ],
   "source": [
    "# 方式2\n",
    "\n",
    "\n",
    "class Cat(object):\n",
    "    def __init__(self,age):\n",
    "        self.__age = age\n",
    "    \n",
    "    def get_age(self):\n",
    "        return self.__age\n",
    "    \n",
    "    def set_age(self,new_age):\n",
    "        if new_age > 100 or new_age < 0:\n",
    "            print(\"请输入正确的年龄\")\n",
    "        else:\n",
    "            self.__age = new_age\n",
    "   \n",
    "    age = property(get_age,set_age)   \n",
    "        \n",
    "c = Cat(10)\n",
    "print(c.age)\n",
    "c.age = 101\n",
    "print(c.age)"
   ]
  },
  {
   "cell_type": "code",
   "execution_count": 171,
   "metadata": {},
   "outputs": [
    {
     "name": "stdout",
     "output_type": "stream",
     "text": [
      "小明\n",
      "20\n",
      "----------\n",
      "小美\n",
      "18\n"
     ]
    }
   ],
   "source": [
    "\"\"\"\n",
    "\n",
    "题目 property 属性[加强练习]\n",
    "题干\n",
    "有学生类，Student，类中存在私有属性，name 和 age：\n",
    "\n",
    "要求：\n",
    "\n",
    "使用装饰器的方式定义 name属性的property 属性\n",
    "使用类属性的方法定义 age 属性的 property 属性\n",
    "使代码可以完整的运行\n",
    "\"\"\"\n",
    "\n",
    "\n",
    "class Student(object):\n",
    "    def __init__(self,name,age=18):\n",
    "        self.__name = name\n",
    "        self.__age = age\n",
    "    \n",
    "    @property\n",
    "    def name(self):\n",
    "        return self.__name\n",
    "    \n",
    "    @name.setter\n",
    "    def name(self,new_name):\n",
    "        self.__name = new_name\n",
    "        \n",
    "    def get_age(self):\n",
    "        return self.__age\n",
    "        \n",
    "    def set_age(self,new_age):\n",
    "        self.__age = new_age\n",
    "        \n",
    "    age = property(get_age,set_age)\n",
    "    \n",
    "    \n",
    "stu = Student(\"小明\",20)\n",
    "print(stu.name)\n",
    "print(stu.age)\n",
    "\n",
    "print(\"----------\")\n",
    "stu.name = '小美'\n",
    "stu.age = 18\n",
    "print(stu.name)\n",
    "print(stu.age)"
   ]
  },
  {
   "cell_type": "code",
   "execution_count": 183,
   "metadata": {},
   "outputs": [
    {
     "name": "stdout",
     "output_type": "stream",
     "text": [
      "执行了\n",
      "100\n",
      "200\n",
      "300\n"
     ]
    }
   ],
   "source": []
  }
 ],
 "metadata": {
  "kernelspec": {
   "display_name": "Python 3",
   "language": "python",
   "name": "python3"
  },
  "language_info": {
   "codemirror_mode": {
    "name": "ipython",
    "version": 3
   },
   "file_extension": ".py",
   "mimetype": "text/x-python",
   "name": "python",
   "nbconvert_exporter": "python",
   "pygments_lexer": "ipython3",
   "version": "3.6.0"
  }
 },
 "nbformat": 4,
 "nbformat_minor": 2
}
