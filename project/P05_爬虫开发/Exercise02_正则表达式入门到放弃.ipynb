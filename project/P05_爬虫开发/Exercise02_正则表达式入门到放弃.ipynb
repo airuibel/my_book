{
 "cells": [
  {
   "cell_type": "markdown",
   "metadata": {},
   "source": [
    "<p align=\"center\">\n",
    "    <br/>\n",
    "    <a href=\"https://github.com/ziishaned/learn-regex\">\n",
    "        <img src=\"https://i.imgur.com/bYwl7Vf.png\" alt=\"Learn Regex\">\n",
    "    </a>\n",
    "    <br /><br />\n",
    "    <p>\n",
    "        <a href=\"https://twitter.com/home?status=Learn%20regex%20the%20easy%20way%20by%20%40ziishaned%20http%3A//github.com/ziishaned/learn-regex\">\n",
    "            <img src=\"https://img.shields.io/badge/twitter-tweet-blue.svg?style=flat-square\"/>\n",
    "        </a>\n",
    "        <a href=\"https://twitter.com/ziishaned\">\n",
    "            <img src=\"https://img.shields.io/badge/feedback-@ziishaned-blue.svg?style=flat-square\" />\n",
    "        </a>\n",
    "    </p>\n",
    "</p>\n",
    "\n",
    "## Translations:\n",
    "\n",
    "* [English](../README.md)\n",
    "* [Español](../translations/README-es.md)\n",
    "* [Français](../translations/README-fr.md)\n",
    "* [Português do Brasil](../translations/README-pt_BR.md)\n",
    "* [中文版](../translations/README-cn.md)\n",
    "* [日本語](../translations/README-ja.md)\n",
    "* [한국어](../translations/README-ko.md)\n",
    "* [Turkish](../translations/README-tr.md)\n",
    "* [Greek](../translations/README-gr.md)\n",
    "* [Magyar](../translations/README-hu.md)\n",
    "* [Polish](../translations/README-pl.md)\n",
    "\n",
    "## 什么是正则表达式?\n",
    " \n",
    "> 正则表达式是一组由字母和符号组成的特殊文本, 它可以用来从文本中找出满足你想要的格式的句子.\n",
    "\n",
    "\n",
    "一个正则表达式是在一个主体字符串中从左到右匹配字符串时的一种样式.\n",
    "例如\"Regular expression\"是一个完整的句子, 但我们常使用缩写的术语\"regex\"或\"regexp\".\n",
    "正则表达式可以用来替换文本中的字符串,验证形式,提取字符串等等.\n",
    "\n",
    "想象你正在写一个应用, 然后你想设定一个用户命名的规则, 让用户名包含字符,数字,下划线和连字符,以及限制字符的个数,好让名字看起来没那么丑.\n",
    "我们使用以下正则表达式来验证一个用户名:\n",
    "\n",
    "<br/><br/>\n",
    "<p align=\"center\">\n",
    "  <img src=\"../img/regexp-cn.png\" alt=\"Regular expression\">\n",
    "</p>\n",
    "\n",
    "以上的正则表达式可以接受 `john_doe`, `jo-hn_doe`, `john12_as`.\n",
    "但不匹配`Jo`, 因为它包含了大写的字母而且太短了.\n",
    "\n",
    "目录\n",
    "=================\n",
    "\n",
    " * [1. 基本匹配](#1-基本匹配)\n",
    " * [2. 元字符](#2-元字符)\n",
    " \t* [2.1 点运算符 .](#21-点运算符-)\n",
    " \t* [2.2 字符集](#22-字符集)\n",
    "\t\t* [2.2.1 否定字符集](#221-否定字符集)\n",
    "\t* [2.3 重复次数](#23-重复次数)\n",
    "\t\t* [2.3.1 * 号](#231--号)\n",
    "\t\t* [2.3.2   号](#232--号)\n",
    "\t\t* [2.3.3 ? 号](#233--号)\n",
    "\t* [2.4 {} 号](#24--号)\n",
    "\t* [2.5 (...) 特征标群](#25--特征标群)\n",
    "\t* [2.6 | 或运算符](#26--或运算符)\n",
    "\t* [2.7 转码特殊字符](#27-转码特殊字符)\n",
    "\t* [2.8 锚点](#28-锚点)\n",
    "\t\t* [2.8.1 ^ 号](#281--号)\n",
    "\t\t* [2.8.2 $ 号](#282--号)\n",
    "* [3. 简写字符集](#3-简写字符集)\n",
    "* [4. 前后关联约束(前后预查)](#4-前后关联约束前后预查)\n",
    "\t* [4.1 ?=... 前置约束(存在)](#41--前置约束存在)\n",
    "\t* [4.2 ?!... 前置约束-排除](#42--前置约束-排除)\n",
    "\t* [4.3 ?&lt;= ... 后置约束-存在](#43---后置约束-存在)\n",
    "\t* [4.4 ?&lt;!... 后置约束-排除](#44--后置约束-排除)\n",
    "* [5. 标志](#5-标志)\n",
    "\t* [5.1 忽略大小写 (Case Insensitive)](#51-忽略大小写-case-insensitive)\n",
    "\t* [5.2 全局搜索 (Global search)](#52-全局搜索-global-search)\n",
    "\t* [5.3 多行修饰符 (Multiline)](#53-多行修饰符-multiline)\n",
    "* [额外补充](#额外补充)\n",
    "* [贡献](#贡献)\n",
    "* [许可证](#许可证)\n",
    "\n",
    "## 1. 基本匹配\n",
    "\n",
    "正则表达式其实就是在执行搜索时的格式, 它由一些字母和数字组合而成.\n",
    "例如: 一个正则表达式 `the`, 它表示一个规则: 由字母`t`开始,接着是`h`,再接着是`e`.\n",
    "\n",
    "<pre>\n",
    "\"the\" => The fat cat sat on <a href=\"#learn-regex\"><strong>the</strong></a> mat. \n",
    "</pre>\n",
    "\n",
    "[在线练习](https://regex101.com/r/dmRygT/1)\n",
    "\n",
    "正则表达式`123`匹配字符串`123`. 它逐个字符的与输入的正则表达式做比较.\n",
    "\n",
    "正则表达式是大小写敏感的, 所以`The`不会匹配`the`.\n",
    "\n",
    "<pre>\n",
    "\"The\" => <a href=\"#learn-regex\"><strong>The</strong></a> fat cat sat on the mat.\n",
    "</pre>\n",
    "\n",
    "[在线练习](https://regex101.com/r/1paXsy/1)\n",
    "\n",
    "## 2. 元字符\n",
    "\n",
    "正则表达式主要依赖于元字符.  \n",
    "元字符不代表他们本身的字面意思, 他们都有特殊的含义. 一些元字符写在方括号中的时候有一些特殊的意思. 以下是一些元字符的介绍:\n",
    "\n",
    "|元字符|描述|\n",
    "|:----:|----|\n",
    "|.|句号匹配任意单个字符除了换行符.|\n",
    "|[ ]|字符种类. 匹配方括号内的任意字符.|\n",
    "|[^ ]|否定的字符种类. 匹配除了方括号里的任意字符|\n",
    "|*|匹配>=0个重复的在*号之前的字符.|\n",
    "|+|匹配>1个重复的+号前的字符.\n",
    "|?|标记?之前的字符为可选.|\n",
    "|{n,m}|匹配num个中括号之前的字符 (n <= num <= m).|\n",
    "|(xyz)|字符集, 匹配与 xyz 完全相等的字符串.|\n",
    "|&#124;|或运算符,匹配符号前或后的字符.|\n",
    "|&#92;|转义字符,用于匹配一些保留的字符 <code>[ ] ( ) { } . * + ? ^ $ \\ &#124;</code>|\n",
    "|^|从开始行开始匹配.|\n",
    "|$|从末端开始匹配.|\n",
    "\n",
    "## 2.1 点运算符 `.`\n",
    "\n",
    "`.`是元字符中最简单的例子. \n",
    "`.`匹配任意单个字符, 但不匹配换行符.\n",
    "例如, 表达式`.ar`匹配一个任意字符后面跟着是`a`和`r`的字符串.\n",
    "\n",
    "<pre>\n",
    "\".ar\" => The <a href=\"#learn-regex\"><strong>car</strong></a> <a href=\"#learn-regex\"><strong>par</strong></a>ked in the <a href=\"#learn-regex\"><strong>gar</strong></a>age.\n",
    "</pre>\n",
    "\n",
    "[在线练习](https://regex101.com/r/xc9GkU/1)\n",
    "\n",
    "## 2.2 字符集\n",
    "\n",
    "字符集也叫做字符类.\n",
    "方括号用来指定一个字符集.\n",
    "在方括号中使用连字符来指定字符集的范围.\n",
    "在方括号中的字符集不关心顺序.\n",
    "例如, 表达式`[Tt]he` 匹配 `the` 和 `The`.\n",
    "\n",
    "<pre>\n",
    "\"[Tt]he\" => <a href=\"#learn-regex\"><strong>The</strong></a> car parked in <a href=\"#learn-regex\"><strong>the</strong></a> garage.\n",
    "</pre>\n",
    "\n",
    "[在线练习](https://regex101.com/r/2ITLQ4/1)\n",
    "\n",
    "方括号的句号就表示句号.\n",
    "表达式 `ar[.]` 匹配 `ar.`字符串\n",
    "\n",
    "<pre>\n",
    "\"ar[.]\" => A garage is a good place to park a c<a href=\"#learn-regex\"><strong>ar.</strong></a>\n",
    "</pre>\n",
    "\n",
    "[在线练习](https://regex101.com/r/wL3xtE/1)\n",
    "\n",
    "### 2.2.1 否定字符集\n",
    "\n",
    "一般来说 `^` 表示一个字符串的开头, 但它用在一个方括号的开头的时候, 它表示这个字符集是否定的.\n",
    "例如, 表达式`[^c]ar` 匹配一个后面跟着`ar`的除了`c`的任意字符.\n",
    "\n",
    "<pre>\n",
    "\"[^c]ar\" => The car <a href=\"#learn-regex\"><strong>par</strong></a>ked in the <a href=\"#learn-regex\"><strong>gar</strong></a>age.\n",
    "</pre>\n",
    "\n",
    "[在线练习](https://regex101.com/r/nNNlq3/1)\n",
    "\n",
    "## 2.3 重复次数\n",
    "\n",
    "后面跟着元字符 `+`, `*` or `?` 的, 用来指定匹配子模式的次数. \n",
    "这些元字符在不同的情况下有着不同的意思.\n",
    "\n",
    "### 2.3.1 `*` 号\n",
    "\n",
    "`*`号匹配 在`*`之前的字符出现`大于等于0`次.\n",
    "例如, 表达式 `a*` 匹配以0或更多个a开头的字符, 因为有0个这个条件, 其实也就匹配了所有的字符. 表达式`[a-z]*` 匹配一个行中所有以小写字母开头的字符串.\n",
    "\n",
    "<pre>\n",
    "\"[a-z]*\" => T<a href=\"#learn-regex\"><strong>he</strong></a> <a href=\"#learn-regex\"><strong>car</strong></a> <a href=\"#learn-regex\"><strong>parked</strong></a> <a href=\"#learn-regex\"><strong>in</strong></a> <a href=\"#learn-regex\"><strong>the</strong></a> <a href=\"#learn-regex\"><strong>garage</strong></a> #21.\n",
    "</pre>\n",
    "\n",
    "[在线练习](https://regex101.com/r/7m8me5/1)\n",
    "\n",
    "`*`字符和`.`字符搭配可以匹配所有的字符`.*`.\n",
    "`*`和表示匹配空格的符号`\\s`连起来用, 如表达式`\\s*cat\\s*`匹配0或更多个空格开头和0或更多个空格结尾的cat字符串.\n",
    "\n",
    "<pre>\n",
    "\"\\s*cat\\s*\" => The fat<a href=\"#learn-regex\"><strong> cat </strong></a>sat on the <a href=\"#learn-regex\">con<strong>cat</strong>enation</a>.\n",
    "</pre>\n",
    "\n",
    "[在线练习](https://regex101.com/r/gGrwuz/1)\n",
    "\n",
    "### 2.3.2 `+` 号\n",
    "\n",
    "`+`号匹配`+`号之前的字符出现 >=1 次个字符.\n",
    "例如表达式`c.+t` 匹配以首字母`c`开头以`t`结尾,中间跟着任意个字符的字符串.\n",
    "\n",
    "<pre>\n",
    "\"c.+t\" => The fat <a href=\"#learn-regex\"><strong>cat sat on the mat</strong></a>.\n",
    "</pre>\n",
    "\n",
    "[在线练习](https://regex101.com/r/Dzf9Aa/1)\n",
    "\n",
    "### 2.3.3 `?` 号\n",
    "\n",
    "在正则表达式中元字符 `?` 标记在符号前面的字符为可选, 即出现 0 或 1 次.\n",
    "例如, 表达式 `[T]?he` 匹配字符串 `he` 和 `The`.\n",
    "\n",
    "<pre>\n",
    "\"[T]he\" => <a href=\"#learn-regex\"><strong>The</strong></a> car is parked in the garage.\n",
    "</pre>\n",
    "\n",
    "[在线练习](https://regex101.com/r/cIg9zm/1)\n",
    "\n",
    "<pre>\n",
    "\"[T]?he\" => <a href=\"#learn-regex\"><strong>The</strong></a> car is parked in t<a href=\"#learn-regex\"><strong>he</strong></a> garage.\n",
    "</pre>\n",
    "\n",
    "[在线练习](https://regex101.com/r/kPpO2x/1)\n",
    "\n",
    "## 2.4 `{}` 号\n",
    "\n",
    "在正则表达式中 `{}` 是一个量词, 常用来一个或一组字符可以重复出现的次数.\n",
    "例如,  表达式 `[0-9]{2,3}` 匹配 2~3 位 0~9 的数字.\n",
    "\n",
    "\n",
    "<pre>\n",
    "\"[0-9]{2,3}\" => The number was 9.<a href=\"#learn-regex\"><strong>999</strong></a>7 but we rounded it off to <a href=\"#learn-regex\"><strong>10</strong></a>.0.\n",
    "</pre>\n",
    "\n",
    "[在线练习](https://regex101.com/r/juM86s/1)\n",
    "\n",
    "我们可以省略第二个参数.\n",
    "例如, `[0-9]{2,}` 匹配至少两位 0~9 的数字.\n",
    "\n",
    "如果逗号也省略掉则表示重复固定的次数. \n",
    "例如, `[0-9]{3}` 匹配3位数字\n",
    "\n",
    "<pre>\n",
    "\"[0-9]{2,}\" => The number was 9.<a href=\"#learn-regex\"><strong>9997</strong></a> but we rounded it off to <a href=\"#learn-regex\"><strong>10</strong></a>.0.\n",
    "</pre>\n",
    "\n",
    "[在线练习](https://regex101.com/r/Gdy4w5/1)\n",
    "\n",
    "<pre>\n",
    "\"[0-9]{3}\" => The number was 9.<a href=\"#learn-regex\"><strong>999</strong></a>7 but we rounded it off to 10.0.\n",
    "</pre>\n",
    "\n",
    "[在线练习](https://regex101.com/r/Sivu30/1)\n",
    "\n",
    "## 2.5 `(...)` 特征标群\n",
    "\n",
    "特征标群是一组写在 `(...)` 中的子模式. 例如之前说的 `{}` 是用来表示前面一个字符出现指定次数. 但如果在 `{}` 前加入特征标群则表示整个标群内的字符重复 N 次. 例如, 表达式 `(ab)*` 匹配连续出现 0 或更多个 `ab`.\n",
    "\n",
    "我们还可以在 `()` 中用或字符 `|` 表示或. 例如, `(c|g|p)ar` 匹配 `car` 或 `gar` 或 `par`.\n",
    "\n",
    "<pre>\n",
    "\"(c|g|p)ar\" => The <a href=\"#learn-regex\"><strong>car</strong></a> is <a href=\"#learn-regex\"><strong>par</strong></a>ked in the <a href=\"#learn-regex\"><strong>gar</strong></a>age.\n",
    "</pre>\n",
    "\n",
    "[在线练习](https://regex101.com/r/tUxrBG/1)\n",
    "\n",
    "## 2.6 `|` 或运算符\n",
    "\n",
    "或运算符就表示或, 用作判断条件.\n",
    "\n",
    "例如 `(T|t)he|car` 匹配 `(T|t)he` 或 `car`.\n",
    "\n",
    "<pre>\n",
    "\"(T|t)he|car\" => <a href=\"#learn-regex\"><strong>The</strong></a> <a href=\"#learn-regex\"><strong>car</strong></a> is parked in <a href=\"#learn-regex\"><strong>the</strong></a> garage.\n",
    "</pre>\n",
    "\n",
    "[在线练习](https://regex101.com/r/fBXyX0/1)\n",
    "\n",
    "## 2.7 转码特殊字符\n",
    "\n",
    "反斜线 `\\` 在表达式中用于转码紧跟其后的字符. 用于指定 `{ } [ ] / \\ + * . $ ^ | ?` 这些特殊字符. 如果想要匹配这些特殊字符则要在其前面加上反斜线 `\\`.\n",
    "\n",
    "例如 `.` 是用来匹配除换行符外的所有字符的. 如果想要匹配句子中的 `.` 则要写成 `\\.`.\n",
    "\n",
    "<pre>\n",
    "\"(f|c|m)at\\.?\" => The <a href=\"#learn-regex\"><strong>fat</strong></a> <a href=\"#learn-regex\"><strong>cat</strong></a> sat on the <a href=\"#learn-regex\"><strong>mat.</strong></a>\n",
    "</pre>\n",
    "\n",
    "[在线练习](https://regex101.com/r/DOc5Nu/1)\n",
    "\n",
    "## 2.8 锚点\n",
    "\n",
    "在正则表达式中, 想要匹配指定开头或结尾的字符串就要使用到锚点. `^` 指定开头, `$` 指定结尾.\n",
    "\n",
    "### 2.8.1 `^` 号\n",
    "\n",
    "`^` 用来检查匹配的字符串是否在所匹配字符串的开头.\n",
    "\n",
    "例如, 在 `abc` 中使用表达式 `^a` 会得到结果 `a`. 但如果使用 `^b` 将匹配不到任何结果. 应为在字符串 `abc` 中并不是以 `b` 开头.\n",
    "\n",
    "例如, `^(T|t)he` 匹配以 `The` 或 `the` 开头的字符串.\n",
    "\n",
    "<pre>\n",
    "\"(T|t)he\" => <a href=\"#learn-regex\"><strong>The</strong></a> car is parked in <a href=\"#learn-regex\"><strong>the</strong></a> garage.\n",
    "</pre>\n",
    "\n",
    "[在线练习](https://regex101.com/r/5ljjgB/1)\n",
    "\n",
    "<pre>\n",
    "\"^(T|t)he\" => <a href=\"#learn-regex\"><strong>The</strong></a> car is parked in the garage.\n",
    "</pre>\n",
    "\n",
    "[在线练习](https://regex101.com/r/jXrKne/1)\n",
    "\n",
    "### 2.8.2 `$` 号\n",
    "\n",
    "同理于 `^` 号, `$` 号用来匹配字符是否是最后一个.\n",
    "\n",
    "例如, `(at\\.)$` 匹配以 `at.` 结尾的字符串.\n",
    "\n",
    "<pre>\n",
    "\"(at\\.)\" => The fat c<a href=\"#learn-regex\"><strong>at.</strong></a> s<a href=\"#learn-regex\"><strong>at.</strong></a> on the m<a href=\"#learn-regex\"><strong>at.</strong></a>\n",
    "</pre>\n",
    "\n",
    "[在线练习](https://regex101.com/r/y4Au4D/1)\n",
    "\n",
    "<pre>\n",
    "\"(at\\.)$\" => The fat cat. sat. on the m<a href=\"#learn-regex\"><strong>at.</strong></a>\n",
    "</pre>\n",
    "\n",
    "[在线练习](https://regex101.com/r/t0AkOd/1)\n",
    "\n",
    "##  3. 简写字符集\n",
    "\n",
    "正则表达式提供一些常用的字符集简写. 如下:\n",
    "\n",
    "|简写|描述|\n",
    "|:----:|----|\n",
    "|.|除换行符外的所有字符|\n",
    "|\\w|匹配所有字母数字, 等同于 `[a-zA-Z0-9_]`|\n",
    "|\\W|匹配所有非字母数字, 即符号, 等同于: `[^\\w]`|\n",
    "|\\d|匹配数字: `[0-9]`|\n",
    "|\\D|匹配非数字: `[^\\d]`|\n",
    "|\\s|匹配所有空格字符, 等同于: `[\\t\\n\\f\\r\\p{Z}]`|\n",
    "|\\S|匹配所有非空格字符: `[^\\s]`|\n",
    "\n",
    "## 4. 前后关联约束(前后预查)\n",
    "\n",
    "前置约束和后置约束都属于**非捕获簇**(用于匹配不在匹配列表中的格式).\n",
    "前置约束用于判断所匹配的格式是否在另一个确定的格式之后.\n",
    "\n",
    "例如, 我们想要获得所有跟在 `$` 符号后的数字, 我们可以使用正向向后约束 `(?<=\\$)[0-9\\.]*`.\n",
    "这个表达式匹配 `$` 开头, 之后跟着 `0,1,2,3,4,5,6,7,8,9,.` 这些字符可以出现大于等于 0 次.\n",
    "\n",
    "前后关联约束如下:\n",
    "\n",
    "|符号|描述|\n",
    "|:----:|----|\n",
    "|?=|前置约束-存在|\n",
    "|?!|前置约束-排除|\n",
    "|?<=|后置约束-存在|\n",
    "|?<!|后置约束-排除|\n",
    "\n",
    "### 4.1 `?=...` 前置约束(存在)\n",
    "\n",
    "`?=...` 前置约束(存在), 表示第一部分表达式必须跟在 `?=...`定义的表达式之后.\n",
    "\n",
    "返回结果只瞒住第一部分表达式.\n",
    "定义一个前置约束(存在)要使用 `()`. 在括号内部使用一个问号和等号: `(?=...)`. \n",
    "\n",
    "前置约束的内容写在括号中的等号后面.\n",
    "例如, 表达式 `[T|t]he(?=\\sfat)` 匹配 `The` 和 `the`, 在括号中我们又定义了前置约束(存在) `(?=\\sfat)` ,即 `The` 和 `the` 后面紧跟着 `(空格)fat`.\n",
    "\n",
    "<pre>\n",
    "\"[T|t]he(?=\\sfat)\" => <a href=\"#learn-regex\"><strong>The</strong></a> fat cat sat on the mat.\n",
    "</pre>\n",
    "\n",
    "[在线练习](https://regex101.com/r/IDDARt/1)\n",
    "\n",
    "### 4.2 `?!...` 前置约束-排除\n",
    "\n",
    "前置约束-排除 `?!` 用于筛选所有匹配结果, 筛选条件为 其后不跟随着定义的格式\n",
    "`前置约束-排除`  定义和 `前置约束(存在)` 一样, 区别就是 `=` 替换成 `!` 也就是 `(?!...)`. \n",
    "\n",
    "表达式 `[T|t]he(?!\\sfat)` 匹配 `The` 和 `the`, 且其后不跟着 `(空格)fat`.\n",
    "\n",
    "<pre>\n",
    "\"[T|t]he(?!\\sfat)\" => The fat cat sat on <a href=\"#learn-regex\"><strong>the</strong></a> mat.\n",
    "</pre>\n",
    "\n",
    "[在线练习](https://regex101.com/r/V32Npg/1)\n",
    "\n",
    "### 4.3 `?<= ...` 后置约束-存在\n",
    "\n",
    "后置约束-存在 记作`(?<=...)` 用于筛选所有匹配结果, 筛选条件为 其前跟随着定义的格式.\n",
    "例如, 表达式 `(?<=[T|t]he\\s)(fat|mat)` 匹配 `fat` 和 `mat`, 且其前跟着 `The` 或 `the`.\n",
    "\n",
    "<pre>\n",
    "\"(?<=[T|t]he\\s)(fat|mat)\" => The <a href=\"#learn-regex\"><strong>fat</strong></a> cat sat on the <a href=\"#learn-regex\"><strong>mat</strong></a>.\n",
    "</pre>\n",
    "\n",
    "[在线练习](https://regex101.com/r/avH165/1)\n",
    "\n",
    "### 4.4 `?<!...` 后置约束-排除\n",
    "\n",
    "后置约束-排除 记作 `(?<!...)` 用于筛选所有匹配结果, 筛选条件为 其前不跟着定义的格式.\n",
    "例如, 表达式 `(?<!(T|t)he\\s)(cat)` 匹配 `cat`, 且其前不跟着 `The` 或 `the`.\n",
    "\n",
    "<pre>\n",
    "\"(?&lt;![T|t]he\\s)(cat)\" => The cat sat on <a href=\"#learn-regex\"><strong>cat</strong></a>.\n",
    "</pre>\n",
    "\n",
    "[在线练习](https://regex101.com/r/8Efx5G/1)\n",
    "\n",
    "## 5. 标志\n",
    "\n",
    "标志也叫修饰语, 因为它可以用来修改表达式的搜索结果.\n",
    "这些标志可以任意的组合使用, 它也是整个正则表达式的一部分.\n",
    "\n",
    "|标志|描述|\n",
    "|:----:|----|\n",
    "|i|忽略大小写.|\n",
    "|g|全局搜索.|\n",
    "|m|多行的: 锚点元字符 `^` `$` 工作范围在每行的起始.|\n",
    "\n",
    "### 5.1 忽略大小写 (Case Insensitive)\n",
    "\n",
    "修饰语 `i` 用于忽略大小写.\n",
    "例如, 表达式 `/The/gi` 表示在全局搜索 `The`, 在后面的 `i` 将其条件修改为忽略大小写, 则变成搜索 `the` 和 `The`, `g` 表示全局搜索.\n",
    "\n",
    "<pre>\n",
    "\"The\" => <a href=\"#learn-regex\"><strong>The</strong></a> fat cat sat on the mat.\n",
    "</pre>\n",
    "\n",
    "[在线练习](https://regex101.com/r/dpQyf9/1)\n",
    "\n",
    "<pre>\n",
    "\"/The/gi\" => <a href=\"#learn-regex\"><strong>The</strong></a> fat cat sat on <a href=\"#learn-regex\"><strong>the</strong></a> mat.\n",
    "</pre>\n",
    "\n",
    "[在线练习](https://regex101.com/r/ahfiuh/1)\n",
    "\n",
    "### 5.2 全局搜索 (Global search)\n",
    "\n",
    "修饰符 `g` 常用语执行一个全局搜索匹配, 即(不仅仅返回第一个匹配的, 而是返回全部). \n",
    "例如, 表达式 `/.(at)/g` 表示搜索 任意字符(除了换行) + `at`, 并返回全部结果.\n",
    "\n",
    "<pre>\n",
    "\"/.(at)/\" => The <a href=\"#learn-regex\"><strong>fat</strong></a> cat sat on the mat.\n",
    "</pre>\n",
    "\n",
    "[在线练习](https://regex101.com/r/jnk6gM/1)\n",
    "\n",
    "<pre>\n",
    "\"/.(at)/g\" => The <a href=\"#learn-regex\"><strong>fat</strong></a> <a href=\"#learn-regex\"><strong>cat</strong></a> <a href=\"#learn-regex\"><strong>sat</strong></a> on the <a href=\"#learn-regex\"><strong>mat</strong></a>.\n",
    "</pre>\n",
    "\n",
    "[在线练习](https://regex101.com/r/dO1nef/1)\n",
    "\n",
    "### 5.3 多行修饰符 (Multiline)\n",
    "\n",
    "多行修饰符 `m` 常用语执行一个多行匹配. \n",
    "\n",
    "像之前介绍的 `(^,$)` 用于检查格式是否是在待检测字符串的开头或结尾. 但我们如果想要它在每行的开头和结尾生效, 我们需要用到多行修饰符 `m`.\n",
    "\n",
    "例如, 表达式 `/at(.)?$/gm` 表示在待检测字符串每行的末尾搜索 `at`后跟一个或多个 `.` 的字符串, 并返回全部结果.\n",
    "\n",
    "<pre>\n",
    "\"/.at(.)?$/\" => The fat\n",
    "                cat sat\n",
    "                on the <a href=\"#learn-regex\"><strong>mat.</strong></a>\n",
    "</pre>\n",
    "\n",
    "[在线练习](https://regex101.com/r/hoGMkP/1)\n",
    "\n",
    "<pre>\n",
    "\"/.at(.)?$/gm\" => The <a href=\"#learn-regex\"><strong>fat</strong></a>\n",
    "                  cat <a href=\"#learn-regex\"><strong>sat</strong></a>\n",
    "                  on the <a href=\"#learn-regex\"><strong>mat.</strong></a>\n",
    "</pre>\n",
    "\n",
    "[在线练习](https://regex101.com/r/E88WE2/1)\n",
    "\n",
    "## 额外补充\n",
    "\n",
    "* *正整数*: `^\\d+$`\n",
    "* *负整数*: `^-\\d+$`\n",
    "* *手机国家号*: `^+?[\\d\\s]{3,}$`\n",
    "* *手机号*: `^+?[\\d\\s]+(?[\\d\\s]{10,}$`\n",
    "* *整数*: `^-?\\d+$`\n",
    "* *用户名*: `^[\\w\\d_.]{4,16}$`\n",
    "* *数字和英文字母*: `^[a-zA-Z0-9]*$`\n",
    "* *数字和应为字母和空格*: `^[a-zA-Z0-9 ]*$`\n",
    "* *密码*: `^(?=^.{6,}$)((?=.*[A-Za-z0-9])(?=.*[A-Z])(?=.*[a-z]))^.*$`\n",
    "* *邮箱*: `^([a-zA-Z0-9._%-]+@[a-zA-Z0-9.-]+\\.[a-zA-Z]{2,4})*$`\n",
    "* *IP4 地址*: `^((?:(?:25[0-5]|2[0-4][0-9]|[01]?[0-9][0-9]?)\\.){3}(?:25[0-5]|2[0-4][0-9]|[01]?[0-9][0-9]?))*$`\n",
    "* *纯小写字母*: `^([a-z])*$`\n",
    "* *纯大写字母*: `^([A-Z])*$`\n",
    "* *URL*: `^(((http|https|ftp):\\/\\/)?([[a-zA-Z0-9]\\-\\.])+(\\.)([[a-zA-Z0-9]]){2,4}([[a-zA-Z0-9]\\/+=%&_\\.~?\\-]*))*$`\n",
    "* *VISA 信用卡号*: `^(4[0-9]{12}(?:[0-9]{3})?)*$`\n",
    "* *日期 (MM/DD/YYYY)*: `^(0?[1-9]|1[012])[- /.](0?[1-9]|[12][0-9]|3[01])[- /.](19|20)?[0-9]{2}$`\n",
    "* *日期 (YYYY/MM/DD)*: `^(19|20)?[0-9]{2}[- /.](0?[1-9]|1[012])[- /.](0?[1-9]|[12][0-9]|3[01])$`\n",
    "* *MasterCard 信用卡号*: `^(5[1-5][0-9]{14})*$`\n",
    "\n",
    "## 贡献\n",
    "\n",
    "* 报告问题\n",
    "* 开放合并请求\n",
    "* 传播此文档\n",
    "* 直接和我联系 ziishaned@gmail.com 或 [![Twitter URL](https://img.shields.io/twitter/url/https/twitter.com/ziishaned.svg?style=social&label=Follow%20%40ziishaned)](https://twitter.com/ziishaned)\n",
    "\n",
    "## 许可证\n",
    "\n",
    "MIT &copy; [Zeeshan Ahmad](https://twitter.com/ziishaned)\n"
   ]
  },
  {
   "attachments": {
    "image.png": {
     "image/png": "[encoded data removed]"
    }
   },
   "cell_type": "markdown",
   "metadata": {},
   "source": [
    "![image.png](attachment:image.png)"
   ]
  },
  {
   "cell_type": "code",
   "execution_count": 39,
   "metadata": {},
   "outputs": [
    {
     "name": "stdout",
     "output_type": "stream",
     "text": [
      "08/07/2019\n"
     ]
    }
   ],
   "source": [
    "# 匹配日期练习(MM/DD/YY) 写出规范的正则表达式(08/29/2019)\n",
    "import re\n",
    "\n",
    "# pattern = re.compile(r\"^(0?[1-9]|1[012])[-/ .](0?[1-9]|[12][0-9]|3[01])[-/ .]((19|20)[0-9]{2}$)\")\n",
    "pattern = re.compile(r\"(0?[1-9]|1[012])[- /.](0?[1-9]|[12][0-9]|3[01])[- /.](19|20)?[0-9]{2}\")\n",
    "str1 = \"正则表达式比较繁琐，但是有相当有用。泛泛地学很难精通。必须掰开了一点08/07/2019一点的学习，效果才会更好。所以我设定的学习思路是：总结出python正则表达式应用的几个函数，然后通过一次练习一个到几个匹配模式，慢慢地掌握它们。到年底吧，把正则表达式练得比较熟悉。这篇文章两个目的。一是掌握‘\\d+’这一正则表达式，二是总结出练习套路，即常用的几个函数，不断利用这几个函数进行练习。最终熟悉正则表达式。当然，在这个过程中，对python的re模块也就比较熟悉了\"\n",
    "result = pattern.search(str1)\n",
    "print(result.group())\n",
    "# for i in result:\n",
    "#     print(i)"
   ]
  },
  {
   "cell_type": "code",
   "execution_count": 29,
   "metadata": {},
   "outputs": [
    {
     "name": "stdout",
     "output_type": "stream",
     "text": [
      "415-555-4242\n",
      "415\n",
      "555-4242\n"
     ]
    }
   ],
   "source": [
    "import re\n",
    "phoneNumRegex = re.compile(r\"(\\d{3})-(\\d{3}-\\d{4})\")\n",
    "mo = phoneNumRegex.search(\"My number is 415-555-4242.\")\n",
    "print(mo.group())\n",
    "print(mo.group(1))\n",
    "print(mo.group(2))"
   ]
  },
  {
   "cell_type": "code",
   "execution_count": 30,
   "metadata": {},
   "outputs": [
    {
     "name": "stdout",
     "output_type": "stream",
     "text": [
      "('415', '555-4242')\n"
     ]
    }
   ],
   "source": [
    "# 一次性匹配所有分组\n",
    "print(mo.groups())"
   ]
  },
  {
   "cell_type": "code",
   "execution_count": 32,
   "metadata": {},
   "outputs": [
    {
     "data": {
      "text/plain": [
       "'(415)-555-4242'"
      ]
     },
     "execution_count": 32,
     "metadata": {},
     "output_type": "execute_result"
    }
   ],
   "source": [
    "# 在文本中匹配括号\n",
    "import re\n",
    "phoneNumRegex = re.compile(r\"(\\(\\d{3}\\))-(\\d{3}-\\d{4})\")\n",
    "mo = phoneNumRegex.search(\"My number is (415)-555-4242.\")\n",
    "mo.group()"
   ]
  },
  {
   "cell_type": "code",
   "execution_count": 34,
   "metadata": {},
   "outputs": [
    {
     "data": {
      "text/plain": [
       "'Batman'"
      ]
     },
     "execution_count": 34,
     "metadata": {},
     "output_type": "execute_result"
    }
   ],
   "source": [
    "# 用管道符匹配多个分组,如果 Batman 和 Tina Fey 都出现在被查找的字符串中，第一次出现的匹配文本\n",
    "import re\n",
    "hero_regex = re.compile(r\"Batman|Tina Fey\")\n",
    "mo1 = hero_regex.search(\"Batman and Tina Fey.\")\n",
    "mo1.group()"
   ]
  },
  {
   "cell_type": "code",
   "execution_count": 1,
   "metadata": {},
   "outputs": [
    {
     "name": "stdout",
     "output_type": "stream",
     "text": [
      "结果是 hello\n"
     ]
    }
   ],
   "source": [
    "import re\n",
    "rst = re.search(r'hello', \"hello meizi\")\n",
    "if rst:\n",
    "    print(\"结果是\", rst.group())\n",
    "else:\n",
    "    print(\"失败了\")"
   ]
  },
  {
   "cell_type": "code",
   "execution_count": 2,
   "metadata": {},
   "outputs": [
    {
     "name": "stdout",
     "output_type": "stream",
     "text": [
      "结果是 hello\n"
     ]
    }
   ],
   "source": [
    "# . 号匹配一个字符\n",
    "rst = re.search(r'hell.', \"hello meizi\")\n",
    "if rst:\n",
    "    print(\"结果是\", rst.group())\n",
    "else:\n",
    "    print(\"失败了\")"
   ]
  },
  {
   "cell_type": "code",
   "execution_count": 4,
   "metadata": {},
   "outputs": [
    {
     "name": "stdout",
     "output_type": "stream",
     "text": [
      "结果是 hello\n"
     ]
    }
   ],
   "source": [
    "# [] 号匹配列举中的字符\n",
    "rst = re.search(r'hell[a-zA-Z0-9]', \"hello meizi\")\n",
    "if rst:\n",
    "    print(\"结果是\", rst.group())\n",
    "else:\n",
    "    print(\"失败了\")"
   ]
  },
  {
   "cell_type": "code",
   "execution_count": 6,
   "metadata": {},
   "outputs": [
    {
     "name": "stdout",
     "output_type": "stream",
     "text": [
      "结果是 hell2\n"
     ]
    }
   ],
   "source": [
    "#  \\d\n",
    "rst = re.search(r'hell\\d', \"hell2 meizi\")\n",
    "if rst:\n",
    "    print(\"结果是\", rst.group())\n",
    "else:\n",
    "    print(\"失败了\")"
   ]
  },
  {
   "cell_type": "code",
   "execution_count": 7,
   "metadata": {},
   "outputs": [
    {
     "name": "stdout",
     "output_type": "stream",
     "text": [
      "结果是 hello\n"
     ]
    }
   ],
   "source": [
    "# \\D\n",
    "rst = re.search(r'hell\\D', \"hello meizi\")\n",
    "if rst:\n",
    "    print(\"结果是\", rst.group())\n",
    "else:\n",
    "    print(\"失败了\")"
   ]
  },
  {
   "cell_type": "code",
   "execution_count": null,
   "metadata": {},
   "outputs": [],
   "source": [
    "# . \\s\n",
    "rst = re.search(r'hell.', \"hello meizi\")\n",
    "if rst:\n",
    "    print(\"结果是\", rst.group())\n",
    "else:\n",
    "    print(\"失败了\")"
   ]
  },
  {
   "cell_type": "code",
   "execution_count": 10,
   "metadata": {},
   "outputs": [
    {
     "name": "stdout",
     "output_type": "stream",
     "text": [
      "结果是 嫦娥65号\n"
     ]
    }
   ],
   "source": [
    "# {m,n}\n",
    "\n",
    "rst = re.search(r'嫦娥\\d{1,2}号', \"嫦娥65号\")\n",
    "if rst:\n",
    "    print(\"结果是\", rst.group())\n",
    "else:\n",
    "    print(\"失败了\")"
   ]
  },
  {
   "cell_type": "code",
   "execution_count": 11,
   "metadata": {},
   "outputs": [
    {
     "name": "stdout",
     "output_type": "stream",
     "text": [
      "结果是 嫦娥65号\n"
     ]
    }
   ],
   "source": [
    "# {,n}\n",
    "\n",
    "rst = re.search(r'嫦娥\\d{,2}号', \"嫦娥65号\")\n",
    "if rst:\n",
    "    print(\"结果是\", rst.group())\n",
    "else:\n",
    "    print(\"失败了\")"
   ]
  },
  {
   "cell_type": "code",
   "execution_count": 12,
   "metadata": {},
   "outputs": [
    {
     "name": "stdout",
     "output_type": "stream",
     "text": [
      "结果是 嫦娥65号\n"
     ]
    }
   ],
   "source": [
    "# {m}\n",
    "\n",
    "rst = re.search(r'嫦娥\\d{2}号', \"嫦娥65号\")\n",
    "if rst:\n",
    "    print(\"结果是\", rst.group())\n",
    "else:\n",
    "    print(\"失败了\")"
   ]
  },
  {
   "cell_type": "code",
   "execution_count": 13,
   "metadata": {},
   "outputs": [
    {
     "name": "stdout",
     "output_type": "stream",
     "text": [
      "结果是 嫦娥65656号\n"
     ]
    }
   ],
   "source": [
    "# {m,}\n",
    "\n",
    "rst = re.search(r'嫦娥\\d{2,}号', \"嫦娥65656号\")\n",
    "if rst:\n",
    "    print(\"结果是\", rst.group())\n",
    "else:\n",
    "    print(\"失败了\")"
   ]
  },
  {
   "cell_type": "code",
   "execution_count": 16,
   "metadata": {},
   "outputs": [
    {
     "name": "stdout",
     "output_type": "stream",
     "text": [
      "结果是 嫦娥65号\n",
      "结果是 嫦娥65号\n"
     ]
    }
   ],
   "source": [
    "# {1,} = +\n",
    "\n",
    "rst = re.search(r'嫦娥\\d{1,}号', \"嫦娥65号\")\n",
    "if rst:\n",
    "    print(\"结果是\", rst.group())\n",
    "else:\n",
    "    print(\"失败了\")\n",
    "    \n",
    "# +\n",
    "\n",
    "rst = re.search(r'嫦娥\\d+号', \"嫦娥65号\")\n",
    "if rst:\n",
    "    print(\"结果是\", rst.group())\n",
    "else:\n",
    "    print(\"失败了\")"
   ]
  },
  {
   "cell_type": "code",
   "execution_count": 18,
   "metadata": {},
   "outputs": [
    {
     "name": "stdout",
     "output_type": "stream",
     "text": [
      "结果是 嫦娥6655号\n",
      "结果是 嫦娥65号\n"
     ]
    }
   ],
   "source": [
    "# {0,} = *\n",
    "\n",
    "rst = re.search(r'嫦娥\\d{0,}号', \"嫦娥6655号\")\n",
    "if rst:\n",
    "    print(\"结果是\", rst.group())\n",
    "else:\n",
    "    print(\"失败了\")\n",
    "    \n",
    "# {,}\n",
    "\n",
    "rst = re.search(r'嫦娥\\d{,}号', \"嫦娥65号\")\n",
    "if rst:\n",
    "    print(\"结果是\", rst.group())\n",
    "else:\n",
    "    print(\"失败了\")"
   ]
  },
  {
   "cell_type": "code",
   "execution_count": 21,
   "metadata": {},
   "outputs": [
    {
     "name": "stdout",
     "output_type": "stream",
     "text": [
      "结果是 嫦娥6号\n",
      "结果是 嫦娥6号\n"
     ]
    }
   ],
   "source": [
    "# {0,1} = ?\n",
    "\n",
    "rst = re.search(r'嫦娥\\d{0,1}号', \"嫦娥6号\")\n",
    "if rst:\n",
    "    print(\"结果是\", rst.group())\n",
    "else:\n",
    "    print(\"失败了\")\n",
    "    \n",
    "    \n",
    "rst = re.search(r'嫦娥\\d{,1}号', \"嫦娥6号\")\n",
    "if rst:\n",
    "    print(\"结果是\", rst.group())\n",
    "else:\n",
    "    print(\"失败了\")"
   ]
  },
  {
   "cell_type": "code",
   "execution_count": 24,
   "metadata": {},
   "outputs": [
    {
     "name": "stdout",
     "output_type": "stream",
     "text": [
      "结果是 khlsdl@ldkf.com\n"
     ]
    }
   ],
   "source": [
    "import re\n",
    "rst = re.search(r'^\\w{6,20}@\\w+\\.com$', \"khlsdl@ldkf.com\")\n",
    "if rst:\n",
    "    print(\"结果是\", rst.group())\n",
    "else:\n",
    "    print(\"失败了\")"
   ]
  },
  {
   "cell_type": "code",
   "execution_count": null,
   "metadata": {},
   "outputs": [],
   "source": [
    "import re\n",
    "rst = re.search(r'^', \"khlsdl@ldkf.com\")\n",
    "if rst:\n",
    "    print(\"结果是\", rst.group())\n",
    "else:\n",
    "    print(\"失败了\")"
   ]
  }
 ],
 "metadata": {
  "kernelspec": {
   "display_name": "Python 3",
   "language": "python",
   "name": "python3"
  },
  "language_info": {
   "codemirror_mode": {
    "name": "ipython",
    "version": 3
   },
   "file_extension": ".py",
   "mimetype": "text/x-python",
   "name": "python",
   "nbconvert_exporter": "python",
   "pygments_lexer": "ipython3",
   "version": "3.6.0"
  }
 },
 "nbformat": 4,
 "nbformat_minor": 2
}
