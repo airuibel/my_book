{
 "cells": [
  {
   "cell_type": "markdown",
   "metadata": {},
   "source": [
    "### pyperclip\n",
    "    pyperclip 模块有 copy()和 paste()函数，可以向计算机的剪贴板发送文本，或从\n",
    "    它接收文本。将程序的输出发送到剪贴板，使它很容易粘贴到邮件、文字处理程序\n",
    "    或其他软件中。pyperclip 模块不是 Python 自带的。要安装它"
   ]
  },
  {
   "cell_type": "code",
   "execution_count": 1,
   "metadata": {},
   "outputs": [
    {
     "data": {
      "text/plain": [
       "'Hello World!'"
      ]
     },
     "execution_count": 1,
     "metadata": {},
     "output_type": "execute_result"
    }
   ],
   "source": [
    "import pyperclip\n",
    "pyperclip.copy(\"Hello World!\")\n",
    "pyperclip.paste()"
   ]
  },
  {
   "cell_type": "code",
   "execution_count": 2,
   "metadata": {},
   "outputs": [
    {
     "data": {
      "text/plain": [
       "'pyperclip 模块有 copy()和 paste()函数，可以向计算机的剪贴板发送文本，或从\\r\\n它接收文本。将程序的输出发送到剪贴板，使它很容易粘贴到邮件、文字处理程序\\r\\n或其他软件中。pyperclip 模块不是 Python 自带的。要安装它'"
      ]
     },
     "execution_count": 2,
     "metadata": {},
     "output_type": "execute_result"
    }
   ],
   "source": [
    "import pyperclip\n",
    "pyperclip.paste()"
   ]
  },
  {
   "cell_type": "markdown",
   "metadata": {},
   "source": [
    "## 项目二 口令保管箱\n",
    "\n",
    "#### 第一步，程序设计和数据结构"
   ]
  },
  {
   "cell_type": "code",
   "execution_count": null,
   "metadata": {},
   "outputs": [],
   "source": [
    "PASSWORDS = {'email': 'F7minlBDDuvMJuxESSKHFhTxFtjVB6',\n",
    "'blog': 'VmALvQyKAxiVH5G8v01if1MLZF3sdt',\n",
    "'luggage': '12345'}"
   ]
  },
  {
   "cell_type": "markdown",
   "metadata": {},
   "source": [
    "#### 第 2 步：处理命令行参数\n",
    "    命令行参数将存储在变量 sys.argv 中（关于如何在程序中使用命令行参数，更多\n",
    "    信息请参见附录 B）。sys.argv 列表中的第一项总是一个字符串，它包含程序的文件名\n",
    "    （'pw.py'）。第二项应该是第一个命令行参数。对于这个程序，这个参数就是账户名称，\n",
    "    你希望获取它的口令。因为命令行参数是必须的，所以如果用户忘记添加参数（也就\n",
    "    是说，如果列表中少于两个值），你就显示用法信息"
   ]
  },
  {
   "cell_type": "code",
   "execution_count": 4,
   "metadata": {},
   "outputs": [
    {
     "name": "stdout",
     "output_type": "stream",
     "text": [
      "There is no account named -f\n"
     ]
    }
   ],
   "source": [
    "import sys,pyperclip\n",
    "PASSWORDS = {'email': 'F7minlBDDuvMJuxESSKHFhTxFtjVB6',\n",
    "'blog': 'VmALvQyKAxiVH5G8v01if1MLZF3sdt',\n",
    "'luggage': '12345'}\n",
    "if len(sys.argv)<2:\n",
    "    print(\"copy account passworld\")\n",
    "    sys.exit()\n",
    "account = sys.argv[1] # 账户名\n",
    "if account in PASSWORDS:\n",
    "    pyperclip.copy(PASSWORDS[account])\n",
    "    print(\"Password for\" + account+ \"copied to clipboard.\")\n",
    "else:\n",
    "    print(\"There is no account named \" + account)"
   ]
  }
 ],
 "metadata": {
  "kernelspec": {
   "display_name": "Python 3",
   "language": "python",
   "name": "python3"
  },
  "language_info": {
   "codemirror_mode": {
    "name": "ipython",
    "version": 3
   },
   "file_extension": ".py",
   "mimetype": "text/x-python",
   "name": "python",
   "nbconvert_exporter": "python",
   "pygments_lexer": "ipython3",
   "version": "3.6.0"
  }
 },
 "nbformat": 4,
 "nbformat_minor": 2
}
