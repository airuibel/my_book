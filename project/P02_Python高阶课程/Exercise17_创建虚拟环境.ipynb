{
 "cells": [
  {
   "cell_type": "markdown",
   "metadata": {},
   "source": [
    "# Windows下环境安装\n",
    "\n",
    "- 进入cmd运行 pip install virtualenv\n",
    "- 继续使用pip 安装virtualenvwrapper-win\n",
    "- 配置Windows系统环境变量\n",
    "    * 新建系统环境变量：变量名为WORKON_HOME,路径可以自行选择(本人使用D:\\Python\\)\n",
    "- 查看虚拟环境是否配置成功，打开cmd输入Isvirtualenv，就可以查看虚拟环境所在目录\n",
    "- 创建虚拟环境 mkvirtualenv 环境名称\n",
    "- 使用 workon 命令切换虚拟环境\n",
    "- 激活虚拟环境 source 虚拟环境名称/bin/activate\n",
    "- 在虚拟环境中直接安装木块 pip install 模块名称\n",
    "- 退出当前的虚拟环境用 deactivate\n",
    "- 删除虚拟环境用 rmvirtualenv 虚拟环境名称"
   ]
  },
  {
   "cell_type": "markdown",
   "metadata": {},
   "source": [
    "# Linux 创建虚拟环境\n",
    "\n",
    "- 进入终端\n",
    "    *  sudo pip install virtualenv\n",
    "    *  sudo pip install virtualenvwrapper\n",
    "    *  mkdir ~/.virtualenvs\n",
    "    *  sudo vim ~/bashrc 文件末尾添加 \n",
    "            export WORK_HOME=$HOME/.virtualenvs\n",
    "            source /usr/local/bin/virtualenvwrapper.sh\n",
    "    *  source ~/bashrc\n",
    "- 创建虚拟环境\n",
    "    *  创建虚拟环境 mkvirtualenv 环境名称，此环境是根据系统环境变量创建的py2\n",
    "    *  创建py3的虚拟环境 mkvirtualenv 环境名称 python=3.x\n",
    "- 删除虚拟环境 rmvirtualenv 虚拟环境名称\n",
    "- 进入虚拟环境 workon 虚拟环境名称\n",
    "- 退出虚拟环境名称 deactivate\n",
    "- 说明所有的虚拟环境，都位于/home/.virtualenvs目录下"
   ]
  },
  {
   "cell_type": "markdown",
   "metadata": {},
   "source": [
    "# linux 创建工作环境\n",
    "- 进入终端，cd进入工程目录下 创建 requirements.txt文件\n",
    "- 打开requirements.txt文件，在里面写入工程需要的安装语句。例如\n",
    "    *  flask == 0.10.1\n",
    "    *  pymysql\n",
    "    *  flask-migrate==2.1.1\n",
    "    *  flask-restful\n",
    "- 在工程目录下输入命令 virtualenv env即可在工程下创建env的文件夹\n",
    "- 进入工程自带的虚拟环境 source env/bin/activate\n",
    "- 安装所需要的模块，在当前env环境下输入命令 pip install -r requirements.txt\n",
    "  这样就可以开心的浏览这个工程了"
   ]
  },
  {
   "cell_type": "markdown",
   "metadata": {},
   "source": [
    "## 用Anaconda 创建python虚拟环境\n",
    "- 创建虚拟环境 conda create --name 环境名称 python=3.6\n",
    "- 激活虚拟环境 \n",
    "    *  activate 虚拟环境名称(windows) \n",
    "    *  source activate 虚拟环境名称(linux)\n",
    "- 安装模块和包 conda install matplotlib(包名称)\n",
    "- 查看已安装的包conda list\n",
    "- 更新包 conda update matplotlib\n",
    "- 删除包 conda remove matplotlib"
   ]
  }
 ],
 "metadata": {
  "kernelspec": {
   "display_name": "Python 3",
   "language": "python",
   "name": "python3"
  },
  "language_info": {
   "codemirror_mode": {
    "name": "ipython",
    "version": 3
   },
   "file_extension": ".py",
   "mimetype": "text/x-python",
   "name": "python",
   "nbconvert_exporter": "python",
   "pygments_lexer": "ipython3",
   "version": "3.6.0"
  }
 },
 "nbformat": 4,
 "nbformat_minor": 2
}
