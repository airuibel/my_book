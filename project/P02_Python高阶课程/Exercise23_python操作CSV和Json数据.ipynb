{
 "cells": [
  {
   "cell_type": "code",
   "execution_count": 3,
   "metadata": {},
   "outputs": [
    {
     "name": "stdout",
     "output_type": "stream",
     "text": [
      "[['key1', 'key2', 'value1', 'value2'], ['one', 'a', '1', '2'], ['one', 'b', '3', '4'], ['one', 'c', '5', '6'], ['one', 'd', '7', '8'], ['two', 'a', '9', '10'], ['two', 'b', '11', '12'], ['two', 'c', '13', '14'], ['two', 'd', '15', '16']]\n"
     ]
    }
   ],
   "source": [
    "import csv\n",
    "exampleFile = open(\"csv_mindex.csv\")\n",
    "exampleReader = csv.reader(exampleFile)\n",
    "examepleData = list(exampleReader)\n",
    "print(examepleData)"
   ]
  }
 ],
 "metadata": {
  "kernelspec": {
   "display_name": "Python 3",
   "language": "python",
   "name": "python3"
  },
  "language_info": {
   "codemirror_mode": {
    "name": "ipython",
    "version": 3
   },
   "file_extension": ".py",
   "mimetype": "text/x-python",
   "name": "python",
   "nbconvert_exporter": "python",
   "pygments_lexer": "ipython3",
   "version": "3.6.0"
  }
 },
 "nbformat": 4,
 "nbformat_minor": 2
}
