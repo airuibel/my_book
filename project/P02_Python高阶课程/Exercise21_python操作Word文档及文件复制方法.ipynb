{
 "cells": [
  {
   "cell_type": "markdown",
   "metadata": {},
   "source": [
    "## python 操作Word文档\n",
    "\n",
    "- 安装 python-docx模块\n",
    "    利用 python-docx 模块，Python 可以创建和修改 Word 文档，它带有.docx 文件\n",
    "    扩展名。运行 pip install python-docx，可以安装该模块。\n",
    "\n",
    "\n",
    "    如果你没有 Word 软件，LibreOffice Writer 和 OpenOffice Writer 都是免费的替\n",
    "    代软件，它们可以在 Windows、OS X 和 Linux 上打开.docx 文件。可以分别从\n",
    "    https://www.libreoffice.org 和 http://openoffice.org 下载它们。python-docx 的完整文档\n",
    "    在 https://python-docx.readthedocs.org/。尽管有针对 OS X 平台的 Word 版本，但本\n",
    "    章将使用 Windows 平台的 Word。\n",
    "    \n",
    "    和纯文本相比，.docx 文件有很多结构。这些结构在 python-docx 中用 3 种不同\n",
    "    的类型来表示。在最高一层，Document 对象表示整个文档。Document 对象包含\n",
    "    一个 Paragraph 对象的列表，表示文档中的段落（用户在 Word 文档中输入时，如\n",
    "    果按下回车，新的段落就开始了）。每个 Paragraph 对象都包含一个 Run 对象的列\n",
    "    表。图 13-4 中的单句段落有 4 个 Run 对象。\n",
    "    \n",
    "    Word 文档中的文本不仅仅是字符串。它包含与之相关的字体、大小、颜色和\n",
    "    其他样式信息。在 Word 中，样式是这些属性的集合。一个 Run 对象是相同样式文\n",
    "    本的延续。当文本样式发生改变时，就需要一个新的 Run 对象"
   ]
  },
  {
   "cell_type": "code",
   "execution_count": 4,
   "metadata": {},
   "outputs": [
    {
     "name": "stdout",
     "output_type": "stream",
     "text": [
      "Word 和其他文字处理软件利用样式，保持类似类型的文本在视觉展现上一致，\n",
      "并易于修改。例如，也许你希望将内容段落设置为 11 点，Times New Roman，左对\n",
      "齐，右边不对齐的文本。可以用这些设置创建一种样式，将它赋给所有的文本段落。\n",
      "然后，如果稍后想改变文档中所有内容段落的展现形式，只要改变这种样式，所有\n",
      "段落都会自动更新。\n"
     ]
    }
   ],
   "source": [
    "# 读取word文档\n",
    "import docx\n",
    "doc = docx.Document(\"./Document/text.docx\")\n",
    "len(doc.paragraphs)\n",
    "full_text = []\n",
    "for text in doc.paragraphs:\n",
    "    full_text.append(text.text)\n",
    "text_str = \"\\n\".join(full_text)\n",
    "print(text_str)"
   ]
  },
  {
   "cell_type": "markdown",
   "metadata": {},
   "source": [
    "### 写入Word文档\n",
    "- \n",
    "    要创建自己的.docx 文件，就调用 docx.Document()，返回一个新的、空白的 Word\n",
    "    Document 对象。Document 对象的 add_paragraph()方法将一段新文本添加到文档中，\n",
    "    并返回添加的 Paragraph 对象的引用。在添加完文本之后，向 Document 对象的 save()\n",
    "    方法传入一个文件名字符串，将 Document 对象保存到文件\n",
    "    \n",
    "- 设置标题的对齐方式参考文档  https://www.cnblogs.com/z123zero/archive/2019/04/25/10770097.html"
   ]
  },
  {
   "cell_type": "code",
   "execution_count": 22,
   "metadata": {},
   "outputs": [],
   "source": [
    "import docx\n",
    "from docx.oxml.ns import qn\n",
    "from docx.shared import Inches\n",
    "from docx.enum.text import WD_ALIGN_PARAGRAPH\n",
    "doc = docx.Document()\n",
    "# 设置字体样式\n",
    "doc.styles['Normal'].font.name = u'宋体'\n",
    "doc.styles['Normal']._element.rPr.rFonts.set(qn('w:eastAsia'), u'宋体')\n",
    "# 设置标题\n",
    "title = doc.add_heading(\"Document Title\",0)  # 标题\n",
    "# 标题居中\n",
    "title.alignment = WD_ALIGN_PARAGRAPH.CENTER\n",
    "# 添加文本\n",
    "doc.add_paragraph(\"hello,world!\\nThis is the second Paragraph!\")\n",
    "# 添加段落\n",
    "doc.add_paragraph(\"\"\"Word 和其他文字处理软件利用样式，保持类似类型的文本在视觉展现上一致，\n",
    "并易于修改。例如，也许你希望将内容段落设置为 11 点，Times New Roman，左对\n",
    "齐，右边不对齐的文本。可以用这些设置创建一种样式，将它赋给所有的文本段落。\n",
    "然后，如果稍后想改变文档中所有内容段落的展现形式，只要改变这种样式，所有\n",
    "段落都会自动更新。\"\"\",)\n",
    "# 保存文档\n",
    "doc.save(\"./Document/hello_world.docx\")"
   ]
  },
  {
   "cell_type": "markdown",
   "metadata": {},
   "source": [
    "## word 里面添加图像\n",
    "- Document 对象有一个 add_picture()方法，让你在文档末尾添加图像。\n",
    "\n",
    "    第一个参数是一个字符串，表示图像的文件名。可选的 width 和 height 关键字\n",
    "    参数，将设置该图像在文档中的宽度和高度。如果省略，宽度和高度将采用默认值，\n",
    "    即该图像的正常尺寸。\n",
    "    你可能愿意用熟悉的单位来指定图像的高度和宽度，诸如英寸或厘米。所以在指\n",
    "    定 width 和 height 关键字参数时，可以使用 docx.shared.Inches()和docx.shared.Cm()函数。"
   ]
  },
  {
   "cell_type": "code",
   "execution_count": 24,
   "metadata": {},
   "outputs": [],
   "source": [
    "import docx\n",
    "from docx.oxml.ns import qn\n",
    "from docx.shared import Inches\n",
    "from docx.enum.text import WD_ALIGN_PARAGRAPH\n",
    "doc = docx.Document()\n",
    "# 设置字体样式\n",
    "doc.styles['Normal'].font.name = u'宋体'\n",
    "doc.styles['Normal']._element.rPr.rFonts.set(qn('w:eastAsia'), u'宋体')\n",
    "# 设置标题\n",
    "title = doc.add_heading(\"Document Title\",0)  # 标题\n",
    "# 标题居中\n",
    "title.alignment = WD_ALIGN_PARAGRAPH.CENTER\n",
    "# 添加文本\n",
    "doc.add_paragraph(\"hello,world!\\nThis is the second Paragraph!\")\n",
    "# 添加段落\n",
    "doc.add_paragraph(\"\"\"Word 和其他文字处理软件利用样式，保持类似类型的文本在视觉展现上一致，\n",
    "并易于修改。例如，也许你希望将内容段落设置为 11 点，Times New Roman，左对\n",
    "齐，右边不对齐的文本。可以用这些设置创建一种样式，将它赋给所有的文本段落。\n",
    "然后，如果稍后想改变文档中所有内容段落的展现形式，只要改变这种样式，所有\n",
    "段落都会自动更新。\"\"\",)\n",
    "# 添加图片\n",
    "doc.add_picture(\"./Document/picture.jpg\")\n",
    "# 保存文档\n",
    "doc.save(\"./Document/hello_world.docx\")"
   ]
  },
  {
   "cell_type": "code",
   "execution_count": null,
   "metadata": {},
   "outputs": [],
   "source": [
    "# 设置标题\n",
    "title_ = document.add_heading(level=0)\n",
    "# 标题居中\n",
    "title_.alignment = WD_ALIGN_PARAGRAPH.CENTER\n",
    "# 添加标题内容\n",
    "title_run = title_.add_run(title)\n",
    "# 设置标题字体大小\n",
    "title_run.font.size = Pt(14)\n",
    "# 设置标题西文字体\n",
    "title_run.font.name = 'Times New Roman'\n",
    "# 设置标题中文字体\n",
    "title_run.element.rPr.rFonts.set(qn('w:eastAsia'), '微软雅黑')"
   ]
  },
  {
   "cell_type": "code",
   "execution_count": 25,
   "metadata": {},
   "outputs": [],
   "source": [
    "# 复制Word文档\n",
    "import docx\n",
    "doc = docx.Document(\"./Document/hello_world.docx\")\n",
    "doc.save(\"./Document/hello_world_copy.docx\")"
   ]
  },
  {
   "cell_type": "markdown",
   "metadata": {},
   "source": [
    "### 用python 复制文件的方法\n",
    "\n",
    "- 参考文档https://www.cnblogs.com/keeptg/p/10944109.html"
   ]
  },
  {
   "cell_type": "code",
   "execution_count": 27,
   "metadata": {},
   "outputs": [],
   "source": [
    "# 用python 复制文件的方法\n",
    "import shutil\n",
    "source = \"./Document/hello_world_copy.docx\"\n",
    "target = \"./hello.docx\"\n",
    "try:\n",
    "    shutil.copy(source,target)\n",
    "except Exception as e:\n",
    "    print(e)"
   ]
  },
  {
   "cell_type": "code",
   "execution_count": 34,
   "metadata": {},
   "outputs": [
    {
     "data": {
      "text/plain": [
       "2"
      ]
     },
     "execution_count": 34,
     "metadata": {},
     "output_type": "execute_result"
    }
   ],
   "source": [
    "1 and 2"
   ]
  }
 ],
 "metadata": {
  "kernelspec": {
   "display_name": "Python 3",
   "language": "python",
   "name": "python3"
  },
  "language_info": {
   "codemirror_mode": {
    "name": "ipython",
    "version": 3
   },
   "file_extension": ".py",
   "mimetype": "text/x-python",
   "name": "python",
   "nbconvert_exporter": "python",
   "pygments_lexer": "ipython3",
   "version": "3.6.0"
  }
 },
 "nbformat": 4,
 "nbformat_minor": 2
}
