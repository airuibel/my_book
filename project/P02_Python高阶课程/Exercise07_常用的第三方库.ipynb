{
 "cells": [
  {
   "cell_type": "markdown",
   "metadata": {},
   "source": [
    "## 数值计算 numpy\n",
    "\n",
    "## 数据处理分析pandas\n",
    "\n",
    "## 可视化 matplotlib/seaborn(统计可视化，少量代码)\n",
    "\n",
    "## 机器学习 Sklean/keras\n",
    "\n",
    "## 交互 pygame\n",
    "\n",
    "## 网络 selenium 模拟人的行为进行点击etc."
   ]
  }
 ],
 "metadata": {
  "kernelspec": {
   "display_name": "Python 3",
   "language": "python",
   "name": "python3"
  },
  "language_info": {
   "codemirror_mode": {
    "name": "ipython",
    "version": 3
   },
   "file_extension": ".py",
   "mimetype": "text/x-python",
   "name": "python",
   "nbconvert_exporter": "python",
   "pygments_lexer": "ipython3",
   "version": "3.6.0"
  }
 },
 "nbformat": 4,
 "nbformat_minor": 2
}
