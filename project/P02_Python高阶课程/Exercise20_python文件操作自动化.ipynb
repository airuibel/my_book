{
 "cells": [
  {
   "cell_type": "markdown",
   "metadata": {},
   "source": [
    "#### Windows 上的倒斜杠以及 OS X 和 Linux 上的正斜杠\n",
    "\n",
    "    在 Windows 上，路径书写使用倒斜杠作为文件夹之间的分隔符。但在 OS X 和\n",
    "    Linux 上，使用正斜杠作为它们的路径分隔符。如果想要程序运行在所有操作系统\n",
    "    上，在编写 Python 脚本时，就必须处理这两种情况。\n",
    "    好在，用 os.path.join()函数来做这件事很简单。如果将单个文件和路径上的文\n",
    "    件夹名称的字符串传递给它，os.path.join()就会返回一个文件路径的字符串，包含正\n",
    "    确的路径分隔符"
   ]
  },
  {
   "cell_type": "code",
   "execution_count": 2,
   "metadata": {},
   "outputs": [
    {
     "data": {
      "text/plain": [
       "'usr\\\\bin\\\\spam'"
      ]
     },
     "execution_count": 2,
     "metadata": {},
     "output_type": "execute_result"
    }
   ],
   "source": [
    "import os\n",
    "os.path.join(\"usr\",\"bin\",\"spam\")\n",
    "\n",
    "#如果需要创建文件名称的字符串，os.path.join()函数就很有用。这些字符串将传\n",
    "#递给几个文件相关的函数"
   ]
  },
  {
   "cell_type": "code",
   "execution_count": 3,
   "metadata": {},
   "outputs": [
    {
     "name": "stdout",
     "output_type": "stream",
     "text": [
      "C:\\Users\\asweigart\\accounts.txt\n",
      "C:\\Users\\asweigart\\details.csv\n",
      "C:\\Users\\asweigart\\invite.docx\n"
     ]
    }
   ],
   "source": [
    "# 下面的例子将一个文件名列表中的名称，添加到文件夹名称的末尾。\n",
    "import os\n",
    "myFiles = [\"accounts.txt\",\"details.csv\",\"invite.docx\"]\n",
    "for filename in myFiles:\n",
    "    print(os.path.join(\"C:\\\\Users\\\\asweigart\",filename))"
   ]
  },
  {
   "cell_type": "code",
   "execution_count": 4,
   "metadata": {},
   "outputs": [
    {
     "data": {
      "text/plain": [
       "'D:\\\\Python\\\\Learning\\\\Exercise\\\\P02_Python高阶课程'"
      ]
     },
     "execution_count": 4,
     "metadata": {},
     "output_type": "execute_result"
    }
   ],
   "source": [
    "# 当前工作的目录\n",
    "os.getcwd()"
   ]
  },
  {
   "cell_type": "code",
   "execution_count": 5,
   "metadata": {},
   "outputs": [],
   "source": [
    "# 创建新的文件夹 os.makedirs()\n",
    "import os\n",
    "os.makedirs(\"D:\\\\mkdirtest\\\\test\")\n",
    "\n",
    "# 这将不仅创建mkdirtest文件夹，也会创建test文件夹"
   ]
  },
  {
   "cell_type": "markdown",
   "metadata": {},
   "source": [
    "### os.path 模块\n",
    "\n",
    "    os.path 模块包含了许多与文件名和文件路径相关的有用函数。例如，你已经使用了 os.path.join()来构建所有操作系统上都有效的路径。因为 os.path 是 os 模块中的模块，所以只要执行 import os 就可以导入它。"
   ]
  },
  {
   "cell_type": "code",
   "execution_count": 9,
   "metadata": {},
   "outputs": [
    {
     "name": "stdout",
     "output_type": "stream",
     "text": [
      "D:\\Python\\Learning\\Exercise\\P02_Python高阶课程\n"
     ]
    },
    {
     "data": {
      "text/plain": [
       "False"
      ]
     },
     "execution_count": 9,
     "metadata": {},
     "output_type": "execute_result"
    }
   ],
   "source": [
    "# 处理绝对路径和相对路径 \n",
    "\n",
    "# 将相对路径转换为绝对路径\n",
    "import os\n",
    "path = os.path.abspath(\"./\")\n",
    "print(path)\n",
    "\n",
    "# 判断路劲是不是绝对路径\n",
    "os.path.isabs(\"./\")"
   ]
  },
  {
   "cell_type": "code",
   "execution_count": 11,
   "metadata": {},
   "outputs": [
    {
     "name": "stdout",
     "output_type": "stream",
     "text": [
      "calc.exe\n",
      "C:\\Windows\\System32\n"
     ]
    }
   ],
   "source": [
    "import os\n",
    "path = 'C:\\\\Windows\\\\System32\\\\calc.exe'\n",
    "print(os.path.basename(path))\n",
    "print(os.path.dirname(path))"
   ]
  },
  {
   "cell_type": "code",
   "execution_count": 1,
   "metadata": {},
   "outputs": [
    {
     "data": {
      "text/html": [
       "<div>\n",
       "<style scoped>\n",
       "    .dataframe tbody tr th:only-of-type {\n",
       "        vertical-align: middle;\n",
       "    }\n",
       "\n",
       "    .dataframe tbody tr th {\n",
       "        vertical-align: top;\n",
       "    }\n",
       "\n",
       "    .dataframe thead th {\n",
       "        text-align: right;\n",
       "    }\n",
       "</style>\n",
       "<table border=\"1\" class=\"dataframe\">\n",
       "  <thead>\n",
       "    <tr style=\"text-align: right;\">\n",
       "      <th></th>\n",
       "      <th>Alice</th>\n",
       "      <th>Bob</th>\n",
       "      <th>Carol</th>\n",
       "    </tr>\n",
       "  </thead>\n",
       "  <tbody>\n",
       "    <tr>\n",
       "      <th>apple pies</th>\n",
       "      <td>NaN</td>\n",
       "      <td>NaN</td>\n",
       "      <td>1.0</td>\n",
       "    </tr>\n",
       "    <tr>\n",
       "      <th>apples</th>\n",
       "      <td>5.0</td>\n",
       "      <td>2.0</td>\n",
       "      <td>NaN</td>\n",
       "    </tr>\n",
       "    <tr>\n",
       "      <th>cups</th>\n",
       "      <td>NaN</td>\n",
       "      <td>NaN</td>\n",
       "      <td>3.0</td>\n",
       "    </tr>\n",
       "    <tr>\n",
       "      <th>ham sandwiches</th>\n",
       "      <td>NaN</td>\n",
       "      <td>3.0</td>\n",
       "      <td>NaN</td>\n",
       "    </tr>\n",
       "    <tr>\n",
       "      <th>pretzels</th>\n",
       "      <td>12.0</td>\n",
       "      <td>NaN</td>\n",
       "      <td>NaN</td>\n",
       "    </tr>\n",
       "  </tbody>\n",
       "</table>\n",
       "</div>"
      ],
      "text/plain": [
       "                Alice  Bob  Carol\n",
       "apple pies        NaN  NaN    1.0\n",
       "apples            5.0  2.0    NaN\n",
       "cups              NaN  NaN    3.0\n",
       "ham sandwiches    NaN  3.0    NaN\n",
       "pretzels         12.0  NaN    NaN"
      ]
     },
     "execution_count": 1,
     "metadata": {},
     "output_type": "execute_result"
    }
   ],
   "source": [
    "import pandas as pd\n",
    "allGuests = {'Alice': {'apples': 5, 'pretzels': 12},\n",
    "'Bob': {'ham sandwiches': 3, 'apples': 2},\n",
    "'Carol': {'cups': 3, 'apple pies': 1}}\n",
    "\n",
    "guest_frame = pd.DataFrame(allGuests)\n",
    "guest_frame"
   ]
  },
  {
   "cell_type": "code",
   "execution_count": 4,
   "metadata": {},
   "outputs": [
    {
     "data": {
      "text/html": [
       "<div>\n",
       "<style scoped>\n",
       "    .dataframe tbody tr th:only-of-type {\n",
       "        vertical-align: middle;\n",
       "    }\n",
       "\n",
       "    .dataframe tbody tr th {\n",
       "        vertical-align: top;\n",
       "    }\n",
       "\n",
       "    .dataframe thead th {\n",
       "        text-align: right;\n",
       "    }\n",
       "</style>\n",
       "<table border=\"1\" class=\"dataframe\">\n",
       "  <thead>\n",
       "    <tr style=\"text-align: right;\">\n",
       "      <th></th>\n",
       "      <th>0</th>\n",
       "      <th>1</th>\n",
       "      <th>2</th>\n",
       "      <th>3</th>\n",
       "    </tr>\n",
       "  </thead>\n",
       "  <tbody>\n",
       "    <tr>\n",
       "      <th>0</th>\n",
       "      <td>apples</td>\n",
       "      <td>oranges</td>\n",
       "      <td>cherries</td>\n",
       "      <td>banana</td>\n",
       "    </tr>\n",
       "    <tr>\n",
       "      <th>1</th>\n",
       "      <td>Alice</td>\n",
       "      <td>Bob</td>\n",
       "      <td>Carol</td>\n",
       "      <td>David</td>\n",
       "    </tr>\n",
       "    <tr>\n",
       "      <th>2</th>\n",
       "      <td>dogs</td>\n",
       "      <td>cats</td>\n",
       "      <td>moose</td>\n",
       "      <td>goose</td>\n",
       "    </tr>\n",
       "  </tbody>\n",
       "</table>\n",
       "</div>"
      ],
      "text/plain": [
       "        0        1         2       3\n",
       "0  apples  oranges  cherries  banana\n",
       "1   Alice      Bob     Carol   David\n",
       "2    dogs     cats     moose   goose"
      ]
     },
     "execution_count": 4,
     "metadata": {},
     "output_type": "execute_result"
    }
   ],
   "source": [
    "import pandas as pd\n",
    "tableData = [['apples', 'oranges', 'cherries', 'banana'],\n",
    "['Alice', 'Bob', 'Carol', 'David'],\n",
    "['dogs', 'cats', 'moose', 'goose']]\n",
    "tableData = pd.DataFrame(tableData)\n",
    "tableData"
   ]
  },
  {
   "cell_type": "code",
   "execution_count": 32,
   "metadata": {},
   "outputs": [
    {
     "name": "stdout",
     "output_type": "stream",
     "text": [
      "--------------------------------------------\n",
      "|   apples |  oranges | cherries |   banana |\n",
      "--------------------------------------------\n",
      "|    Alice |      Bob |    Carol |    David |\n",
      "--------------------------------------------\n",
      "|     dogs |     cats |    moose |    goose |\n",
      "--------------------------------------------\n"
     ]
    }
   ],
   "source": [
    "\"\"\"\n",
    "编写一个名为 printTable()的函数，它接受字符串的列表的列表，将它显示在组\n",
    "织良好的表格中，每列右对齐。假定所有内层列表都包含同样数目的字符串。例如，\n",
    "该值可能看起来像这样：\n",
    "tableData = [['apples', 'oranges', 'cherries', 'banana', 'pair'],\n",
    "['Alice', 'Bob', 'Carol', 'David', 'pair'],\n",
    "['dogs', 'cats', 'moose', 'goose', 'pair']]\n",
    "\"\"\"\n",
    "tableData = [['apples', 'oranges', 'cherries', 'banana'],\n",
    "['Alice', 'Bob', 'Carol', 'David'],\n",
    "['dogs', 'cats', 'moose', 'goose']]\n",
    "\n",
    "\n",
    "def printTable(str_list):\n",
    "    long_str = 0\n",
    "    for inner_list in str_list:\n",
    "        len_inner_list = len(inner_list)\n",
    "        for ele in inner_list:\n",
    "            if len(ele) > long_str:\n",
    "                long_str = len(ele)\n",
    "    print(\"-\" * (long_str + 3) * len_inner_list)\n",
    "    for inner_list in str_list:\n",
    "        for ele in inner_list:\n",
    "            print(\"|\" + \"%s\"%ele.rjust(long_str + 1), end=\" \")\n",
    "        print(\"|\")\n",
    "        print(\"-\" * (long_str + 3) * len_inner_list)\n",
    "        \n",
    "\n",
    "printTable(tableData)"
   ]
  }
 ],
 "metadata": {
  "kernelspec": {
   "display_name": "Python 3",
   "language": "python",
   "name": "python3"
  },
  "language_info": {
   "codemirror_mode": {
    "name": "ipython",
    "version": 3
   },
   "file_extension": ".py",
   "mimetype": "text/x-python",
   "name": "python",
   "nbconvert_exporter": "python",
   "pygments_lexer": "ipython3",
   "version": "3.6.0"
  }
 },
 "nbformat": 4,
 "nbformat_minor": 2
}
