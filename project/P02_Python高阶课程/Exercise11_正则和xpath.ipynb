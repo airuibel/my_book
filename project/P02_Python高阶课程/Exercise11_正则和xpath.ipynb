{
 "cells": [
  {
   "cell_type": "markdown",
   "metadata": {},
   "source": [
    "# 正则表达式(RegularExpression, re)\n",
    "- 是一个计算机科学的概念\n",
    "- 用于使用单个字符串来描述，匹配符合某个规则的字符串\n",
    "- 常常用来检索，替换某些模式的文本\n",
    "\n",
    "# 正则的写法\n",
    "- .(点号):表示任意一个字符，除了\\n, 比如查找所有的一个字符 \\.\n",
    "- []: 匹配中括号中列举的任意字符，比如[L,Y,0] , LLY, Y0, LIU\n",
    "- \\d: 任意一个数字\n",
    "- \\D:除了数字都可以\n",
    "- \\s:表示空格，tab键\n",
    "- \\S:除了空白符号\n",
    "- \\w: 单词字符， 就是a-z, A-Z, 0-9, _\n",
    "- \\W: 除了\n",
    "- *： 表示前面内容重复零次或者多次， \\w*\n",
    "- +: 表示前面内容至少出现一次\n",
    "- ？： 前面才出现的内容零次或者一次\n",
    "- {m,n}:允许前面内容出现最少m次，最多n次\n",
    "- ^:匹配字符串的开始\n",
    "- $:匹配字符串的结尾\n",
    "- \\b:匹配单词的边界\n",
    "- ():对正则表达式内容进行分组， 从第一个括号开始，编号逐渐增大\n",
    "    \n",
    "        验证一个数字： ^\\d$\n",
    "        必须有一个数字，最少一位：^\\d+$\n",
    "        只能出现数字，且位数为5-10位： ^\\d{5,10}$\n",
    "        注册者输入年龄，要求16岁以上，99岁以下： ^[16-99]$\n",
    "        只能输入英文字符和数字： ^[A-Za-z0-9]$\n",
    "        验证qq号码： [0-9]{5,12}\n",
    "        \n",
    "- \\A: 只匹配字符串开头， \\Aabcd, 则abcd\n",
    "- \\Z: 仅匹配字符串末尾， abcd\\Z, abcd\n",
    "- |: 左右任意一个\n",
    "- (?P<name>...): 分组，除了原来的编号再制定一个别名， (?P<id>12345){2}， 1234512345\n",
    "- (?P=name): 引用分组， \n",
    "        "
   ]
  },
  {
   "cell_type": "markdown",
   "metadata": {},
   "source": [
    "# RE使用大致步骤\n",
    "1. 使用compile将表示正则的字符串编译为一个pattern对象\n",
    "2. 通过pattern对象提供一系列方法对文本进行查找匹配，获得匹配结果，一个match对象\n",
    "3. 最后使用match对象提供的属性和方法获取信息，根据需要进行操作\n",
    "\n",
    "# RE常用函数\n",
    "- group():获得一个火多个分组匹配的字符串，当要获得整个匹配的字符串时，直接使用group或者group(0)\n",
    "- start:获取分组匹配的字符串在整个字符串中的起始位置，参数默认为0\n",
    "- end：获取分组匹配的字符串在整个字符串中的结束位置，默认为0\n",
    "- span：返回的结构技术start(group),end(group)"
   ]
  },
  {
   "cell_type": "markdown",
   "metadata": {},
   "source": [
    "## 使用正则表达式\n",
    "\n",
    "### 正则表达式相关知识\n",
    "\n",
    "在编写处理字符串的程序或网页时，经常会有查找符合某些复杂规则的字符串的需要，正则表达式就是用于描述这些规则的工具，换句话说正则表达式是一种工具，它定义了字符串的匹配模式（如何检查一个字符串是否有跟某种模式匹配的部分或者从一个字符串中将与模式匹配的部分提取出来或者替换掉）。如果你在Windows操作系统中使用过文件查找并且在指定文件名时使用过通配符（\\*和?），那么正则表达式也是与之类似的用来进行文本匹配的工具，只不过比起通配符正则表达式更强大，它能更精确地描述你的需求（当然你付出的代价是书写一个正则表达式比打出一个通配符要复杂得多，要知道任何给你带来好处的东西都是有代价的，就如同学习一门编程语言一样），比如你可以编写一个正则表达式，用来查找所有以0开头，后面跟着2-3个数字，然后是一个连字号“-”，最后是7或8位数字的字符串（像028-12345678或0813-7654321），这不就是国内的座机号码吗。最初计算机是为了做数学运算而诞生的，处理的信息基本上都是数值，而今天我们在日常工作中处理的信息基本上都是文本数据，我们希望计算机能够识别和处理符合某些模式的文本，正则表达式就显得非常重要了。今天几乎所有的编程语言都提供了对正则表达式操作的支持，Python通过标准库中的re模块来支持正则表达式操作。\n",
    "\n",
    "我们可以考虑下面一个问题：我们从某个地方（可能是一个文本文件，也可能是网络上的一则新闻）获得了一个字符串，希望在字符串中找出手机号和座机号。当然我们可以设定手机号是11位的数字（注意并不是随机的11位数字，因为你没有见过“25012345678”这样的手机号吧）而座机号跟上一段中描述的模式相同，如果不使用正则表达式要完成这个任务就会很麻烦。\n",
    "\n",
    "关于正则表达式的相关知识，大家可以阅读一篇非常有名的博客叫[《正则表达式30分钟入门教程》](https://deerchao.net/tutorials/regex/regex.htm)，读完这篇文章后你就可以看懂下面的表格，这是我们对正则表达式中的一些基本符号进行的扼要总结。\n",
    "\n",
    "| 符号               | 解释                                      | 示例             | 说明                                               |\n",
    "| ------------------ | ----------------------------------------- | ---------------- | -------------------------------------------------- |\n",
    "| .                  | 匹配任意字符                              | b.t              | 可以匹配bat / but / b#t / b1t等                    |\n",
    "| \\\\w                | 匹配字母/数字/下划线                      | b\\\\wt            | 可以匹配bat / b1t / b_t等<br>但不能匹配b#t         |\n",
    "| \\\\s                | 匹配空白字符（包括\\r、\\n、\\t等）          | love\\\\syou       | 可以匹配love you                                   |\n",
    "| \\\\d                | 匹配数字                                  | \\\\d\\\\d           | 可以匹配01 / 23 / 99等                             |\n",
    "| \\\\b                | 匹配单词的边界                            | \\\\bThe\\\\b        |                                                    |\n",
    "| ^                  | 匹配字符串的开始                          | ^The             | 可以匹配The开头的字符串                            |\n",
    "| $                  | 匹配字符串的结束                          | .exe$            | 可以匹配.exe结尾的字符串                           |\n",
    "| \\\\W                 | 匹配非字母/数字/下划线                    | b\\\\Wt            | 可以匹配b#t / b@t等<br>但不能匹配but / b1t / b_t等 |\n",
    "| \\\\S                 | 匹配非空白字符                            | love\\\\Syou       | 可以匹配love#you等<br>但不能匹配love you           |\n",
    "| \\\\D                 | 匹配非数字                                | \\\\d\\\\D           | 可以匹配9a / 3# / 0F等                             |\n",
    "| \\\\B                 | 匹配非单词边界                            | \\\\Bio\\\\B         |                                                    |\n",
    "| []                 | 匹配来自字符集的任意单一字符              | [aeiou]          | 可以匹配任一元音字母字符                           |\n",
    "| [^]                | 匹配不在字符集中的任意单一字符            | [^aeiou]         | 可以匹配任一非元音字母字符                         |\n",
    "| *                  | 匹配0次或多次                             | \\\\w*             |                                                    |\n",
    "| +                  | 匹配1次或多次                             | \\\\w+             |                                                    |\n",
    "| ?                  | 匹配0次或1次                              | \\\\w?             |                                                    |\n",
    "| {N}                | 匹配N次                                   | \\\\w{3}            |                                                    |\n",
    "| {M,}               | 匹配至少M次                               | \\\\w{3,}           |                                                    |\n",
    "| {M,N}              | 匹配至少M次至多N次                        | \\\\w{3,6}          |                                                    |\n",
    "| \\|                 | 分支                                      | foo\\|bar         | 可以匹配foo或者bar                                 |\n",
    "| (?#)               | 注释                                      |                  |                                                    |\n",
    "| (exp)              | 匹配exp并捕获到自动命名的组中             |                  |                                                    |\n",
    "| (?&lt;name&gt;exp) | 匹配exp并捕获到名为name的组中             |                  |                                                    |\n",
    "| (?:exp)            | 匹配exp但是不捕获匹配的文本               |                  |                                                    |\n",
    "| (?=exp)            | 匹配exp前面的位置                         | \\\\b\\\\w+(?=ing)     | 可以匹配I'm dancing中的danc                        |\n",
    "| (?<=exp)           | 匹配exp后面的位置                         | (?<=\\\\bdanc)\\\\w+\\\\b | 可以匹配I love dancing and reading中的第一个ing    |\n",
    "| (?!exp)            | 匹配后面不是exp的位置                     |                  |                                                    |\n",
    "| (?<!exp)           | 匹配前面不是exp的位置                     |                  |                                                    |\n",
    "| *?                 | 重复任意次，但尽可能少重复 | a.\\*b<br>a.\\*?b | 将正则表达式应用于aabab，前者会匹配整个字符串aabab，后者会匹配aab和ab两个字符串 |\n",
    "| +?                 | 重复1次或多次，但尽可能少重复 |                  |                                                    |\n",
    "| ??                 | 重复0次或1次，但尽可能少重复 |                  |                                                    |\n",
    "| {M,N}?             | 重复M到N次，但尽可能少重复 |                  |                                                    |\n",
    "| {M,}?              | 重复M次以上，但尽可能少重复 |                  |                                                    |\n",
    "\n",
    "> **说明：**如果需要匹配的字符是正则表达式中的特殊字符，那么可以使用\\\\进行转义处理，例如想匹配小数点可以写成\\\\.就可以了，因为直接写.会匹配任意字符；同理，想匹配圆括号必须写成\\\\(和\\\\)，否则圆括号被视为正则表达式中的分组。\n",
    "\n",
    "### Python对正则表达式的支持\n",
    "\n",
    "Python提供了re模块来支持正则表达式相关操作，下面是re模块中的核心函数。\n",
    "\n",
    "| 函数                                         | 说明                                                         |\n",
    "| -------------------------------------------- | ------------------------------------------------------------ |\n",
    "| compile(pattern, flags=0)                    | 编译正则表达式返回正则表达式对象                             |\n",
    "| match(pattern, string, flags=0)              | 用正则表达式匹配字符串 成功返回匹配对象 否则返回None         |\n",
    "| search(pattern, string, flags=0)             | 搜索字符串中第一次出现正则表达式的模式 成功返回匹配对象 否则返回None |\n",
    "| split(pattern, string, maxsplit=0, flags=0)  | 用正则表达式指定的模式分隔符拆分字符串 返回列表              |\n",
    "| sub(pattern, repl, string, count=0, flags=0) | 用指定的字符串替换原字符串中与正则表达式匹配的模式 可以用count指定替换的次数 |\n",
    "| fullmatch(pattern, string, flags=0)          | match函数的完全匹配（从字符串开头到结尾）版本                |\n",
    "| findall(pattern, string, flags=0)            | 查找字符串所有与正则表达式匹配的模式 返回字符串的列表        |\n",
    "| finditer(pattern, string, flags=0)           | 查找字符串所有与正则表达式匹配的模式 返回一个迭代器          |\n",
    "| purge()                                      | 清除隐式编译的正则表达式的缓存                               |\n",
    "| re.I / re.IGNORECASE                         | 忽略大小写匹配标记                                           |\n",
    "| re.M / re.MULTILINE                          | 多行匹配标记                                                 |\n",
    "\n",
    "> **说明：**上面提到的re模块中的这些函数，实际开发中也可以用正则表达式对象的方法替代对这些函数的使用，如果一个正则表达式需要重复的使用，那么先通过compile函数编译正则表达式并创建出正则表达式对象无疑是更为明智的选择。\n",
    "\n",
    "下面我们通过一系列的例子来告诉大家在Python中如何使用正则表达式。\n",
    "\n",
    "#### 例子1：验证输入用户名和QQ号是否有效并给出对应的提示信息。\n",
    "\n",
    "```Python\n",
    "\"\"\"\n",
    "\n",
    "验证输入用户名和QQ号是否有效并给出对应的提示信息\n",
    "\n",
    "要求：\n",
    "用户名必须由字母、数字或下划线构成且长度在6~20个字符之间\n",
    "QQ号是5~12的数字且首位不能为0\n",
    "\n",
    "\"\"\"\n",
    "\n",
    "import re\n",
    "\n",
    "\n",
    "def main():\n",
    "    username = input('请输入用户名: ')\n",
    "    qq = input('请输入QQ号: ')\n",
    "    # match函数的第一个参数是正则表达式字符串或正则表达式对象\n",
    "    # 第二个参数是要跟正则表达式做匹配的字符串对象\n",
    "    m1 = re.match(r'^[0-9a-zA-Z_]{6,20}$', username)\n",
    "    if not m1:\n",
    "        print('请输入有效的用户名.')\n",
    "    m2 = re.match(r'^[1-9]\\d{4,11}$', qq)\n",
    "    if not m2:\n",
    "        print('请输入有效的QQ号.')\n",
    "    if m1 and m2:\n",
    "        print('你输入的信息是有效的!')\n",
    "\n",
    "\n",
    "if __name__ == '__main__':\n",
    "    main()\n",
    "\n",
    "```\n",
    "\n",
    "> **提示**：上面在书写正则表达式时使用了“原始字符串”的写法（在字符串前面加上了r），所谓“原始字符串”就是字符串中的每个字符都是它原始的意义，说得更直接一点就是字符串中没有所谓的转义字符啦。因为正则表达式中有很多元字符和需要进行转义的地方，如果不使用原始字符串就需要将反斜杠写作\\\\\\\\，例如表示数字的\\\\d得书写成\\\\\\\\d，这样不仅写起来不方便，阅读的时候也会很吃力。\n",
    "\n",
    "#### 例子2：从一段文字中提取出国内手机号码。\n",
    "\n",
    "下面这张图是截止到2017年底，国内三家运营商推出的手机号段。\n",
    "\n",
    "![](./res/tel-start-number.png)\n",
    "\n",
    "```Python\n",
    "import re\n",
    "\n",
    "\n",
    "def main():\n",
    "    # 创建正则表达式对象 使用了前瞻和回顾来保证手机号前后不应该出现数字\n",
    "    pattern = re.compile(r'(?<=\\D)1[34578]\\d{9}(?=\\D)')\n",
    "    sentence = '''\n",
    "    重要的事情说8130123456789遍，我的手机号是13512346789这个靓号，\n",
    "    不是15600998765，也是110或119，王大锤的手机号才是15600998765。\n",
    "    '''\n",
    "    # 查找所有匹配并保存到一个列表中\n",
    "    mylist = re.findall(pattern, sentence)\n",
    "    print(mylist)\n",
    "    print('--------华丽的分隔线--------')\n",
    "    # 通过迭代器取出匹配对象并获得匹配的内容\n",
    "    for temp in pattern.finditer(sentence):\n",
    "        print(temp.group())\n",
    "    print('--------华丽的分隔线--------')\n",
    "    # 通过search函数指定搜索位置找出所有匹配\n",
    "    m = pattern.search(sentence)\n",
    "    while m:\n",
    "        print(m.group())\n",
    "        m = pattern.search(sentence, m.end())\n",
    "\n",
    "\n",
    "if __name__ == '__main__':\n",
    "    main()\n",
    "\n",
    "```\n",
    "\n",
    "> **说明**：上面匹配国内手机号的正则表达式并不够好，因为像14开头的号码只有145或147，而上面的正则表达式并没有考虑这种情况，要匹配国内手机号，更好的正则表达式的写法是：`(?<=\\D)(1[38]\\d{9}|14[57]\\d{8}|15[0-35-9]\\d{8}|17[678]\\d{8})(?=\\D)`，国内最近好像有19和16开头的手机号了，但是这个暂时不在我们考虑之列。\n",
    "\n",
    "#### 例子3：替换字符串中的不良内容\n",
    "\n",
    "```Python\n",
    "import re\n",
    "\n",
    "\n",
    "def main():\n",
    "    sentence = '你丫是傻叉吗? 我操你大爷的. Fuck you.'\n",
    "    purified = re.sub('[操肏艹草曹]|fuck|shit|傻[比屄逼叉缺吊屌]|煞笔',\n",
    "                      '*', sentence, flags=re.IGNORECASE)\n",
    "    print(purified)  # 你丫是*吗? 我*你大爷的. * you.\n",
    "\n",
    "\n",
    "if __name__ == '__main__':\n",
    "    main()\n",
    "\n",
    "```\n",
    "\n",
    "> **说明**：re模块的正则表达式相关函数中都有一个flags参数，它代表了正则表达式的匹配标记，可以通过该标记来指定匹配时是否忽略大小写、是否进行多行匹配、是否显示调试信息等。如果需要为flags参数指定多个值，可以使用[按位或运算符](http://www.runoob.com/python/python-operators.html#ysf5)进行叠加，如`flags=re.I | re.M`。\n",
    "\n",
    "#### 例子4：拆分长字符串\n",
    "\n",
    "```Python\n",
    "import re\n",
    "\n",
    "\n",
    "def main():\n",
    "    poem = '窗前明月光，疑是地上霜。举头望明月，低头思故乡。'\n",
    "    sentence_list = re.split(r'[，。, .]', poem)\n",
    "    while '' in sentence_list:\n",
    "        sentence_list.remove('')\n",
    "    print(sentence_list)  # ['窗前明月光', '疑是地上霜', '举头望明月', '低头思故乡']\n",
    "\n",
    "\n",
    "if __name__ == '__main__':\n",
    "    main()\n",
    "\n",
    "```\n",
    "\n",
    "### 后话\n",
    "\n",
    "如果要从事爬虫类应用的开发，那么正则表达式一定是一个非常好的助手，因为它可以帮助我们迅速的从网页代码中发现某种我们指定的模式并提取出我们需要的信息，当然对于初学者来收，要编写一个正确的适当的正则表达式可能并不是一件容易的事情（当然有些常用的正则表达式可以直接在网上找找），所以实际开发爬虫应用的时候，有很多人会选择[Beautiful Soup](https://www.crummy.com/software/BeautifulSoup/)或[Lxml](http://lxml.de/)来进行匹配和信息的提取，前者简单方便但是性能较差，后者既好用性能也好，但是安装稍嫌麻烦，这些内容我们会在后期的爬虫专题中为大家介绍。"
   ]
  },
  {
   "cell_type": "code",
   "execution_count": 2,
   "metadata": {},
   "outputs": [
    {
     "name": "stdout",
     "output_type": "stream",
     "text": [
      "<_sre.SRE_Match object; span=(3, 5), match='12'>\n"
     ]
    }
   ],
   "source": [
    "# 导入正则包\n",
    "import re\n",
    "\n",
    "# 查找数字\n",
    "# r表示字符串不转义\n",
    "p = re.compile(r\"\\d+\")\n",
    "# 在字符串中进行查找，按照规则p制定的正则进行查找\n",
    "#返回结果是None表示没有找到，否则返回match对象\n",
    "#参数3，6表示在字符串中查找的范围\n",
    "m = p.match(\"one12twothree55665four979\",3,8)\n",
    "\n",
    "print(m)\n",
    "\n",
    "# 上述代码说明的问题\n",
    "# 1.match可以输入参数表示起始位置\n",
    "# 2.查找到的结果只包含一个，表示第一次进行匹配唱功的内容"
   ]
  },
  {
   "cell_type": "code",
   "execution_count": 4,
   "metadata": {},
   "outputs": [
    {
     "name": "stdout",
     "output_type": "stream",
     "text": [
      "12\n",
      "3\n",
      "5\n"
     ]
    }
   ],
   "source": [
    "print(m[0])\n",
    "print(m.start(0))\n",
    "print(m.end(0))"
   ]
  },
  {
   "cell_type": "code",
   "execution_count": 5,
   "metadata": {},
   "outputs": [
    {
     "name": "stdout",
     "output_type": "stream",
     "text": [
      "<_sre.SRE_Match object; span=(0, 4), match='I am'>\n"
     ]
    }
   ],
   "source": [
    "import re\n",
    "# I 表示忽略掉大小写\n",
    "p = re.compile(r\"([a-z]+) ([a-z]+)\",re.I)\n",
    "\n",
    "m = p.match(\"I am really love wangxiaojing\")\n",
    "print(m)"
   ]
  },
  {
   "cell_type": "code",
   "execution_count": 8,
   "metadata": {
    "scrolled": true
   },
   "outputs": [
    {
     "name": "stdout",
     "output_type": "stream",
     "text": [
      "I am\n",
      "0\n",
      "4\n"
     ]
    }
   ],
   "source": [
    "print(m.group(0))\n",
    "print(m.start(0))\n",
    "print(m.end(0))"
   ]
  },
  {
   "cell_type": "code",
   "execution_count": 9,
   "metadata": {
    "scrolled": true
   },
   "outputs": [
    {
     "name": "stdout",
     "output_type": "stream",
     "text": [
      "I\n",
      "0\n",
      "1\n"
     ]
    }
   ],
   "source": [
    "print(m.group(1))\n",
    "print(m.start(1))\n",
    "print(m.end(1))"
   ]
  },
  {
   "cell_type": "code",
   "execution_count": 10,
   "metadata": {},
   "outputs": [
    {
     "name": "stdout",
     "output_type": "stream",
     "text": [
      "('I', 'am')\n"
     ]
    }
   ],
   "source": [
    "print(m.groups())"
   ]
  },
  {
   "cell_type": "markdown",
   "metadata": {},
   "source": [
    "# 查找\n",
    "- search(str,[,pos[enpos]]):在字符串中查找匹配，pos和endpos表示起始位置\n",
    "- findall：查找所有\n",
    "- finditer：查找，返回一个iter结果"
   ]
  },
  {
   "cell_type": "code",
   "execution_count": 11,
   "metadata": {},
   "outputs": [
    {
     "name": "stdout",
     "output_type": "stream",
     "text": [
      "12\n"
     ]
    }
   ],
   "source": [
    "import re\n",
    "p = re.compile(r'\\d+')\n",
    "m = p.search(\"one12two34three567four\")\n",
    "print(m.group())"
   ]
  },
  {
   "cell_type": "code",
   "execution_count": 12,
   "metadata": {},
   "outputs": [
    {
     "name": "stdout",
     "output_type": "stream",
     "text": [
      "<class 'list'>\n",
      "['12', '34', '567']\n"
     ]
    }
   ],
   "source": [
    "rst= p.findall(\"one12two34three567four\")\n",
    "print(type(rst))\n",
    "print(rst)"
   ]
  },
  {
   "cell_type": "markdown",
   "metadata": {},
   "source": [
    "# sub 替换\n",
    "- sub(rep1.str[,count])"
   ]
  },
  {
   "cell_type": "code",
   "execution_count": 14,
   "metadata": {},
   "outputs": [
    {
     "name": "stdout",
     "output_type": "stream",
     "text": [
      "Hello world Hello world xiaojing, Hello world you\n"
     ]
    }
   ],
   "source": [
    "# sub替换案例\n",
    "import re\n",
    "p = re.compile(r'(\\w+) (\\w+)')\n",
    "s = \"hello 123 wang 456 xiaojing, i love you\"\n",
    "rst = p.sub(r'Hello world',s)\n",
    "print(rst)"
   ]
  },
  {
   "cell_type": "markdown",
   "metadata": {},
   "source": [
    "# 匹配中文\n",
    "- 大部分中文内容表示范围[u4e00-u9fa5],不包括全角标点"
   ]
  },
  {
   "cell_type": "code",
   "execution_count": 15,
   "metadata": {},
   "outputs": [
    {
     "name": "stdout",
     "output_type": "stream",
     "text": [
      "['世界', '你好']\n"
     ]
    }
   ],
   "source": [
    "import re \n",
    "title = u'世界 你好，hello moto'\n",
    "p = re.compile(r'[\\u4e00-\\u9fa5]+')\n",
    "rst = p.findall(title)\n",
    "print(rst)"
   ]
  },
  {
   "cell_type": "markdown",
   "metadata": {},
   "source": [
    "# 贪婪和非贪婪\n",
    "- 贪婪：尽可能多的匹配，(*)表示贪婪匹配\n",
    "- 非贪婪：找到符合条件的最小内容即可，(?)表示非贪婪\n",
    "- 正则默认使用贪婪匹配"
   ]
  },
  {
   "cell_type": "code",
   "execution_count": 21,
   "metadata": {},
   "outputs": [
    {
     "name": "stdout",
     "output_type": "stream",
     "text": [
      "<div>name</div><div>age</div>\n",
      "<div>name</div>\n"
     ]
    }
   ],
   "source": [
    "import re\n",
    "title = u'<div>name</div><div>age</div>'\n",
    "\n",
    "p1 = re.compile(r'<div>.*</div>')\n",
    "p2 = re.compile(r'<div>.*?</div>')\n",
    "\n",
    "m1 = p1.search(title)\n",
    "print(m1.group())\n",
    "\n",
    "m2 = p2.search(title)\n",
    "print(m2.group())"
   ]
  },
  {
   "cell_type": "markdown",
   "metadata": {},
   "source": [
    "# 结构化文件存储\n",
    "- xml, json,\n",
    "- 为了解决不同设备之间信息交换\n",
    "- xml，\n",
    "- json\n",
    "# XML文件\n",
    "- 参考资料\n",
    "    - https://docs.python.org/3/library/xml.etree.elementtree.html\n",
    "    - http://www.runoob.com/python/python-xml.html\n",
    "    - https://blog.csdn.net/seetheworld518/article/details/49535285\n",
    "  \n",
    "- XML(eXtensibleMarkupLanguage)， 可扩展标记语言\n",
    "    - 标记语言： 语言中使用尖括号括起来的文本字符串标记\n",
    "    - 可扩展：用户可以自己定义需要的标记\n",
    "    - 例如：\n",
    "          \n",
    "            <Teacher> \n",
    "                自定义标记Teacher\n",
    "                在两个标记之间任何内容都应该跟Teacher相关\n",
    "            </Teacher>\n",
    "    - 是w3c组织制定的一个标准\n",
    "    - XML描述的是数据本身，即数据的结构和语义\n",
    "    - HTML侧重于如何显示web页面中的数据\n",
    "    \n",
    "- XML文档的构成\n",
    "    - 处理指令(可以认为一个文件内只有一个处理指令)\n",
    "        - 最多只有一行\n",
    "        - 且必须在第一行\n",
    "        - 内容是与xml本身处理起相关的一些声明或者指令\n",
    "        - 以xml关键字开头\n",
    "        - 一般用于声明XML的版本和采用的编码\n",
    "            - version属性是必须的\n",
    "            - encoding属性用来支出xml解释器使用的编码\n",
    "    - 根元素(一个文件内只有一个根元素)\n",
    "        - 在整个xml文件中，可以把他看作一个树形结构\n",
    "        - 根元素有且只能由一个\n",
    "    - 子元素\n",
    "    - 属性\n",
    "    - 内容\n",
    "        - 表明标签所存储的信息\n",
    "    - 注释\n",
    "        - 起说明作用的信息\n",
    "        - 注释不能嵌套在标签里\n",
    "        - 只有在注释的开始和结尾使用双短横线\n",
    "        - 三短横线只能出现在注释的开头而不能用在结尾\n",
    "        \n",
    "                <name> <!-- wangdapeng -->   </name> #可以\n",
    "                <name <!-- wangdapeng -->>   </name> #不可以，注释在标签内\n",
    "                \n",
    "                <!--my-name-by-wang--> #可以，注释内容可以有一个短横线\n",
    "                <!--my--name--by--wang-->#不可以，双短横线只能出现在开头或结尾\n",
    "                \n",
    "                <!---my-name--> #可以， 三短横线只能出现在开头\n",
    "                <!---my-name---> #不可以， 三短横线只能出现在开头        \n",
    "                \n",
    "- 保留字符的处理\n",
    "    - XML中使用的符号可能跟实际符号相冲突，典型的就是左右尖括号\n",
    "    - 使用实体引用(EntityReference)来表示保留字符\n",
    "    \n",
    "             <score> score>80 </score> #有错误，xml中不能出现>\n",
    "             <score> score&gt;80</score> #使用实体引用\n",
    "    - 把含有保留字符的部分放在CDATA块内部，CDATA块把内部信息视为不需要转义\n",
    "    \n",
    "              <![CDATA[\n",
    "                 select name,age\n",
    "                 from Student\n",
    "                 where score>80\n",
    "                 ]]>\n",
    "                 \n",
    "    - 常用的需要转移的保留字符和对应实体引用\n",
    "    \n",
    "            - &:&amp;\n",
    "            - <:&lt;\n",
    "            - >:&gt;\n",
    "            - ':&apos;\n",
    "            - \":&quot;\n",
    "            - 一共五个， 每个实体引用都以&开头并且以分号结尾\n",
    "            \n",
    "- XML标签的命名规则\n",
    "    - Pascal命名法\n",
    "    - 用单词表示，第一个字母大写\n",
    "    - 大小写严格区分\n",
    "    - 配对的标签必须一直\n",
    "    \n",
    "- 命名空间\n",
    "    - 为了防止命名冲突\n",
    "        \n",
    "              <Student>\n",
    "                        <Name>LiuYing</Name>\n",
    "                        <Age>23</Age>\n",
    "                </Student>\n",
    "                <Room>\n",
    "                    <Name>2014</Name>\n",
    "                    <Location>1-23-1</Location>\n",
    "                </Room>\n",
    "                      \n",
    "    - 如果归并上述两个内容信息，会产生冲突\n",
    "    \n",
    "              <Schooler>\n",
    "                        <Name>LiuYing</Name>\n",
    "                        <Age>23</Age>\n",
    "                    <Name>2014</Name>\n",
    "                    <Location>1-23-1</Location>\n",
    "                </Schooler>\n",
    "                      \n",
    "    - 为了避免冲突，需要给可能冲突元素添加命名空间\n",
    "    - xmlns: xml name space 的缩写\n",
    "    \n",
    "    \n",
    "              <Schooler xmlns:student=\"http://my_student\" xmlns:room=\"http://my_room\">\n",
    "                        <student:Name>LiuYing</student:Name>\n",
    "                        <Age>23</Age>\n",
    "                    <romm:Name>2014</room:Name>\n",
    "                    <Location>1-23-1</Location>\n",
    "                </Schooler>\n",
    "\n",
    "\n",
    "# XML访问\n",
    "\n",
    "## 读取\n",
    "- XML读取分两个主要技术,SAX， DOM\n",
    "- SAX（Simple API for XML):\n",
    "    - 基于事件驱动的API\n",
    "    - 利用SAX解析文档设计到解析器和事件处理两部分\n",
    "    - 特点:\n",
    "        - 快\n",
    "        - 流式读取\n",
    "        \n",
    "- DOM\n",
    "    - 是W3C规定的XML编程接口\n",
    "    - 一个XML文件再缓存中以树形结构保存，读取\n",
    "    - 用途\n",
    "        - 定位浏览XML任何一个节点信息\n",
    "        - 添加删除相应内容\n",
    "    - minidom\n",
    "        - minidom.parse(filename):加载读取的xml文件, filename也可以是xml代码\n",
    "        - doc.documentElement:获取xml文档对象，一个xml文件只有一个对于的文档对象\n",
    "        - node.getAttribute(attr_name):获取xml节点的属性值\n",
    "        - node.getElementByTagName(tage_name)：得到一个节点对象集合\n",
    "        - node.childNodes:得到所有孩子节点\n",
    "        - node.childNodes[index].nodeValue:获取单个节点值\n",
    "        - node.firstNode:得到第一个节点，等价于node.childNodes[0]\n",
    "        - node.attributes[tage_name]\n",
    "        - 案例v01\n",
    "    - etree \n",
    "        - 以树形结构来表示xml\n",
    "        - root.getiterator:得到相应的可迭代的node集合\n",
    "        - root.iter\n",
    "        - find(node_name):查找指定node_name的节点,返回一个node\n",
    "        - root.findall(node_name):返回多个node_name的节点\n",
    "        - node.tag: node对应的tagename\n",
    "        - node.text:node的文本值\n",
    "        - node.attrib： 是node的属性的字典类型的内容\n",
    "        - 案例v02\n",
    "        \n",
    "- xml文件写入\n",
    "    - 更改\n",
    "        - ele.set:修改属性\n",
    "        - ele.append: 添加子元素\n",
    "        - ele.remove:删除元素\n",
    "        - 案例 v03\n",
    "    - 生成创建\n",
    "        - SubElement, 案例v04\n",
    "        - minidom 写入， 案例v05\n",
    "        - etree创建， 案例v06"
   ]
  },
  {
   "cell_type": "markdown",
   "metadata": {},
   "source": [
    "# JSON\n",
    "- 在线工具\n",
    "    - https://www.sojson.com/\n",
    "    - http://www.w3school.com.cn/json/\n",
    "    - http://www.runoob.com/json/json-tutorial.html\n",
    "- JSON(JavaScriptObjectNotation) \n",
    "- 轻量级的数据交换格式，基于ECMAScript\n",
    "- json格式是一个键值对形式的数据集    \n",
    "    - key: 字符串\n",
    "    - value:字符串，数字，列表，json\n",
    "    - json使用大括号包裹\n",
    "    - 键值对直接用都好隔开\n",
    "    \n",
    "               \n",
    "        student={\n",
    "            \"name\": \"wangdapeng\",\n",
    "            \"age\": 18,\n",
    "            \"mobile\":\"13260446055\"\n",
    "            }\n",
    "            \n",
    "- json和python格式的对应\n",
    "    - 字符串：字符串\n",
    "    - 数字：数字\n",
    "    - 队列：list\n",
    "    - 对象：dict\n",
    "    - 布尔值：布尔值\n",
    "- python for json\n",
    "    - json包\n",
    "    - json和python对象的转换\n",
    "        - json.dumps():对数据编码，把python格式表示成json格式\n",
    "        - json.loads(): 对数据解码，把json格式转换成python格式\n",
    "    - python读取json文件\n",
    "        - json.dump(): 把内容写入文件\n",
    "        - json.load(): 把json文件内容读入python\n",
    "        \n",
    "    - 案例v07\n",
    "    - 案例v08读取文件 "
   ]
  },
  {
   "cell_type": "markdown",
   "metadata": {},
   "source": [
    "# XPath\n",
    "- 在XML文件中查找信息的一套规则/语言，根据XML的元素或者属性进行遍历\n",
    "- http://www.w3school.com.cn/xpath/index.asp\n",
    "\n",
    "# XPath 开发工具\n",
    "- 开源的XPath表达式编辑工具：XMLQuire\n",
    "- Chrome插件：XPath Helper\n",
    "- Firefox插件: XPath Checker\n",
    "\n",
    "# 选取节点\n",
    "- nodename: 选取此节点的所有子节点\n",
    "- /： 从根节点开始选取\n",
    "\n",
    "        /Student:没有结果\n",
    "        /School:选区School节点\n",
    "- //:  选取节点，不考虑位置\n",
    "\n",
    "        //age: 选取出三个节点，一般组成列表返回\n",
    "      \n",
    "- .: 选取当前接待你\n",
    "- ..：选取当前节点的父亲节点\n",
    "- @:选取属性\n",
    "- xpath中查找一般按照路径方法查找,一下是路径表示方法\n",
    "\n",
    "\n",
    "        School/Teacher:返回Teacher节点\n",
    "        School/Student: 返回两个Student节点\n",
    "        //Student:  选取所有Studetn的节点，不考虑位置\n",
    "        School//Age:选取School后代中所有Age节点\n",
    "        //@Other: 选取Other属性\n",
    "        //Age[@Detail]:  选取带有属性Detail的Age元素\n",
    "        \n",
    "# 谓语-Predicates\n",
    "- /School/Student[1]: 选取School下面的第一个Student节点\n",
    "- /School/Student[last()]: 选取School下面的最后一个Student节点\n",
    "- /School/Student[last()-1]: 选取School下面的倒数第二个Student节点\n",
    "- /School/Student[position()<3]: 选取School下面的前二个Student节点\n",
    "- //Student[@score]: 选取带有属性score的Student节点\n",
    "- //Student[@score=\"99\"]: 选取带有属性score并且属性值是99的Student节点\n",
    "- //Student[@score]/Age: 选取带有属性score的Student节点的子节点Age\n",
    "\n",
    "# XPath的一些操作\n",
    "- |: 或者\n",
    "\n",
    "        //Student[@score] | //Teacher: 选取带有属性score的Student节点和Teahcer节点\n",
    "- 其余不常见XPath运算符号包括+, - , *, div, >, < "
   ]
  },
  {
   "cell_type": "code",
   "execution_count": 3,
   "metadata": {},
   "outputs": [
    {
     "name": "stdout",
     "output_type": "stream",
     "text": [
      "alice-b@google.com\n"
     ]
    }
   ],
   "source": [
    "# 用正则判断一字符串是否是合法的email地址\n",
    "\n",
    "import re\n",
    "str_eg = \"purple alice-b@google.com mokey dishwasher\"\n",
    "match = re.search(r\"[\\w,-]+@[\\w,-,.]+\",str_eg)\n",
    "if match:\n",
    "    print(match.group())"
   ]
  },
  {
   "cell_type": "code",
   "execution_count": null,
   "metadata": {},
   "outputs": [],
   "source": []
  }
 ],
 "metadata": {
  "kernelspec": {
   "display_name": "Python 3",
   "language": "python",
   "name": "python3"
  },
  "language_info": {
   "codemirror_mode": {
    "name": "ipython",
    "version": 3
   },
   "file_extension": ".py",
   "mimetype": "text/x-python",
   "name": "python",
   "nbconvert_exporter": "python",
   "pygments_lexer": "ipython3",
   "version": "3.6.0"
  }
 },
 "nbformat": 4,
 "nbformat_minor": 2
}
