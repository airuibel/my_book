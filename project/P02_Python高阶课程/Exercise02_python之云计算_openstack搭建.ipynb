{
 "cells": [
  {
   "cell_type": "markdown",
   "metadata": {},
   "source": [
    "## openstack云主机搭建\n",
    "\n",
    "- 第一个组件 keystone 验证用户身份\n",
    "- 第二个组件 Glance 提供镜像\n",
    "- 第三个组件 Nova 提供虚拟机复机，创建快照 提供计算\n",
    "- 第四个组件 Neutron 虚拟网络管理系统\n",
    "- 第五个组件 Horizon 基于web的管理系统\n",
    "- 第六个组件 Cinder 添加虚拟硬盘\n",
    "- 第六个组件 Swift 存储文件到云端 对象储存\n",
    "\n",
    "\n",
    "#### openstack 是一个面向IAAS层的开源项目\n",
    "\n",
    "- 优点 出租电脑，硬件资源"
   ]
  },
  {
   "cell_type": "markdown",
   "metadata": {},
   "source": [
    "## openstack安装\n",
    "\n",
    "- 先安装fuel Fuel是一个为OpenStack端到端“一键部署”设计的工具\n",
    "- 参考网址 https://wiki.openstack.org/wiki/Fuel\n",
    "- fuel Master Node 控制节点\n",
    "- Computer Nodes 计算节点\n",
    "- storage Nodes 存储节点"
   ]
  }
 ],
 "metadata": {
  "kernelspec": {
   "display_name": "Python 3",
   "language": "python",
   "name": "python3"
  },
  "language_info": {
   "codemirror_mode": {
    "name": "ipython",
    "version": 3
   },
   "file_extension": ".py",
   "mimetype": "text/x-python",
   "name": "python",
   "nbconvert_exporter": "python",
   "pygments_lexer": "ipython3",
   "version": "3.6.0"
  }
 },
 "nbformat": 4,
 "nbformat_minor": 2
}
