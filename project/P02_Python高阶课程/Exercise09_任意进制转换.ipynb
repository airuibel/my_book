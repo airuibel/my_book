{
 "cells": [
  {
   "cell_type": "code",
   "execution_count": 4,
   "metadata": {},
   "outputs": [
    {
     "name": "stdout",
     "output_type": "stream",
     "text": [
      "0b100000000\n"
     ]
    }
   ],
   "source": [
    "# 十进制和二进制之间的转换\n",
    "print(bin(256))"
   ]
  },
  {
   "cell_type": "code",
   "execution_count": 5,
   "metadata": {},
   "outputs": [
    {
     "name": "stdout",
     "output_type": "stream",
     "text": [
      "442\n"
     ]
    }
   ],
   "source": [
    "print(0b0110111010)"
   ]
  },
  {
   "cell_type": "code",
   "execution_count": 7,
   "metadata": {},
   "outputs": [
    {
     "name": "stdout",
     "output_type": "stream",
     "text": [
      "0o277271452320\n"
     ]
    }
   ],
   "source": [
    "#十进制和八进制之间的转换\n",
    "print(oct(25684235472))"
   ]
  },
  {
   "cell_type": "code",
   "execution_count": 8,
   "metadata": {},
   "outputs": [
    {
     "name": "stdout",
     "output_type": "stream",
     "text": [
      "89262\n"
     ]
    }
   ],
   "source": [
    "print(0o256256)"
   ]
  },
  {
   "cell_type": "code",
   "execution_count": 9,
   "metadata": {},
   "outputs": [
    {
     "name": "stdout",
     "output_type": "stream",
     "text": [
      "0x2f0e24fb\n"
     ]
    }
   ],
   "source": [
    "# 十进制和16进制之间的转换\n",
    "print(hex(789456123))"
   ]
  },
  {
   "cell_type": "code",
   "execution_count": 10,
   "metadata": {},
   "outputs": [
    {
     "name": "stdout",
     "output_type": "stream",
     "text": [
      "151366959868589\n"
     ]
    }
   ],
   "source": [
    "print(0x89aadddfaaad)"
   ]
  },
  {
   "cell_type": "code",
   "execution_count": 2,
   "metadata": {},
   "outputs": [
    {
     "name": "stdout",
     "output_type": "stream",
     "text": [
      "请输入一个整数5656546455646565\n",
      "将5656546455646565转换为36进制数为:1jp2tkfznmt\n"
     ]
    }
   ],
   "source": [
    "# 编写一个函数，实现将一个十进制数转换为36进制，字符串使用(a-z)\n",
    "def shift_num(nu):\n",
    "    # 生成字母与数字的对应列表\n",
    "    zimu_list = [chr(i) for i in range(97,123)]\n",
    "    shuzi_list = [i for i in range(10,36)]\n",
    "    # 用map函数生成映射\n",
    "    map_t = map(lambda x,y:(x,y),shuzi_list,zimu_list)\n",
    "    #print(map_t)\n",
    "    set_dic = dict(map_t)\n",
    "    quyu_list = []\n",
    "    # 用取整取余法获取36进制的各个位\n",
    "    def quyu(nu):\n",
    "            yushu = nu % 36\n",
    "            quyu_list.insert(0,yushu)\n",
    "            nu = nu // 36\n",
    "            while nu > 0:\n",
    "                # 判断条件 生成每一位的0-35 数字列表\n",
    "                return quyu(nu)\n",
    "            \n",
    "    quyu(nu)        \n",
    "    # 将列表中的数与字母一一对应\n",
    "    for nu36 in quyu_list:\n",
    "        for key,value in set_dic.items():\n",
    "            if nu36 == key:\n",
    "                quyu_list[quyu_list.index(nu36)] = value\n",
    "    #print(quyu_list)\n",
    "    # 转化为字符串\n",
    "    str36 = \"\".join(str(i) for i in quyu_list)\n",
    "    #print(str_nu36)\n",
    "    return \"将{}转换为36进制数为:{}\".format(nu,str36)\n",
    "try:\n",
    "    nu = int(input(\"请输入一个整数\"))\n",
    "    rst = shift_num(nu)\n",
    "    print(rst)\n",
    "except ValueError:\n",
    "    print(\"请输入正确的整数\")\n",
    "except Exception as result:\n",
    "    print(\"未知错误%s\"%result)"
   ]
  },
  {
   "cell_type": "code",
   "execution_count": 56,
   "metadata": {},
   "outputs": [
    {
     "name": "stdout",
     "output_type": "stream",
     "text": [
      "请输入一个整数0\n",
      "将0转换为36进制数为:0\n"
     ]
    }
   ],
   "source": [
    "请输入一个整数5656546455646565\n",
    "将5656546455646565转换为36进制数为:1jp2tkfznmt "
   ]
  },
  {
   "cell_type": "code",
   "execution_count": 45,
   "metadata": {},
   "outputs": [
    {
     "name": "stdout",
     "output_type": "stream",
     "text": [
      "[1, 0, 1, 24]\n"
     ]
    }
   ],
   "source": [
    "quyu_list = []\n",
    "def quyu(nu):\n",
    "\n",
    "    yushu = nu % 36\n",
    "    quyu_list.insert(0,yushu)\n",
    "    nu = nu // 36\n",
    "    if nu > 0:\n",
    "        return quyu(nu)\n",
    "    \n",
    "quyu(46716)\n",
    "print(quyu_list)"
   ]
  }
 ],
 "metadata": {
  "kernelspec": {
   "display_name": "Python 3",
   "language": "python",
   "name": "python3"
  },
  "language_info": {
   "codemirror_mode": {
    "name": "ipython",
    "version": 3
   },
   "file_extension": ".py",
   "mimetype": "text/x-python",
   "name": "python",
   "nbconvert_exporter": "python",
   "pygments_lexer": "ipython3",
   "version": "3.6.0"
  }
 },
 "nbformat": 4,
 "nbformat_minor": 2
}
