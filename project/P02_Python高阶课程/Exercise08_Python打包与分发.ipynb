{
 "cells": [
  {
   "cell_type": "markdown",
   "metadata": {},
   "source": [
    "## 使用distutils的setup.py"
   ]
  },
  {
   "cell_type": "code",
   "execution_count": null,
   "metadata": {},
   "outputs": [],
   "source": [
    "from distutils.core import setup\n",
    "\n",
    "setup(name=\"rebuildd\",\n",
    "     description=\"Debian packages rebuild tool\",\n",
    "     author=\"Julien Danjou\",\n",
    "     author_email = \"acid@debian.org\",\n",
    "     url=\"http://julien.danjou.info/software/rebuildd.html\",\n",
    "     packages=['rebuildd'])\n",
    "# 用户要生成或安装软只需通过合适的命令运行setup.py即可。如果你发布的软件中包含了除原生的python之外的C语言模块，它甚至可以自动处理"
   ]
  },
  {
   "cell_type": "markdown",
   "metadata": {},
   "source": [
    "## 使用setuptools的setup.py"
   ]
  },
  {
   "cell_type": "code",
   "execution_count": 2,
   "metadata": {},
   "outputs": [
    {
     "ename": "SystemExit",
     "evalue": "usage: ipykernel_launcher.py [global_opts] cmd1 [cmd1_opts] [cmd2 [cmd2_opts] ...]\n   or: ipykernel_launcher.py --help [cmd1 cmd2 ...]\n   or: ipykernel_launcher.py --help-commands\n   or: ipykernel_launcher.py cmd --help\n\nerror: option -f not recognized",
     "output_type": "error",
     "traceback": [
      "An exception has occurred, use %tb to see the full traceback.\n",
      "\u001b[1;31mSystemExit\u001b[0m\u001b[1;31m:\u001b[0m usage: ipykernel_launcher.py [global_opts] cmd1 [cmd1_opts] [cmd2 [cmd2_opts] ...]\n   or: ipykernel_launcher.py --help [cmd1 cmd2 ...]\n   or: ipykernel_launcher.py --help-commands\n   or: ipykernel_launcher.py cmd --help\n\nerror: option -f not recognized\n"
     ]
    },
    {
     "name": "stderr",
     "output_type": "stream",
     "text": [
      "C:\\Users\\Administrator\\Anaconda3\\lib\\site-packages\\IPython\\core\\interactiveshell.py:2918: UserWarning: To exit: use 'exit', 'quit', or Ctrl-D.\n",
      "  warn(\"To exit: use 'exit', 'quit', or Ctrl-D.\", stacklevel=1)\n"
     ]
    }
   ],
   "source": [
    "import setuptools\n",
    "\n",
    "setuptools.setup(name=\"pynumnincili\",\n",
    "                version=\"0.2\",\n",
    "                author=\"Julien Danjou\",\n",
    "                author_email=\"julien@danjou.info\",\n",
    "                description=\"munin client library\",\n",
    "                license='GPL',\n",
    "                url=\"http://julien.danjou.info/software/pymunincli/\",\n",
    "                packages=['munin'],\n",
    "                classifiers=[\n",
    "                    \"Development Status::2-Pre-Alpha\",\n",
    "                    \"Intended Audience:Developers\"\n",
    "                    \"Intended Audience::Information Technology\",\n",
    "                    \"License::OST Approved::GNU General Public License (GPL)\",\n",
    "                    \"Operating System::OS Independent\",\n",
    "                    \"Operation System::OS Independent\",\n",
    "                    \"Programming Language::Python\"\n",
    "                ])"
   ]
  },
  {
   "cell_type": "markdown",
   "metadata": {},
   "source": [
    "## 使用pbr打包"
   ]
  },
  {
   "cell_type": "code",
   "execution_count": null,
   "metadata": {},
   "outputs": [],
   "source": [
    "import setuptools\n",
    "\n",
    "\n",
    "setuptools.setup(setup_requires=['pbr',pbr=True])\n",
    "\n",
    "# 就两行代码，非常简单。实际上安装所需要的元数据存储在setup.cfg文件中"
   ]
  },
  {
   "cell_type": "markdown",
   "metadata": {},
   "source": [
    "### pbr还提供了其他一些功能\n",
    "- 基于requirement.txt做自动依赖安装\n",
    "- 利用Sphinx实现文档自动化\n",
    "- 基于git history自动生成AUTHORS和ChangeLog文件\n",
    "- 针对git自动创建文件列表\n",
    "- 基于git tags的版本管理"
   ]
  },
  {
   "cell_type": "markdown",
   "metadata": {},
   "source": [
    "#  使用pyinstaller 打包python程序\n",
    "\n",
    "- 升级pip版本\n",
    "\n",
    "  -    python -m pip install -- upgrade pip\n",
    "  \n",
    "- 通过pip  安装pyinstaller\n",
    "\n",
    "  -    pip install pyinstaller(\n",
    "  \n",
    "- 进入项目文件的文件夹，打开命令窗， 执行下面的命令\n",
    "\n",
    "  -    pyinstaller -w 项目名.py"
   ]
  }
 ],
 "metadata": {
  "kernelspec": {
   "display_name": "Python 3",
   "language": "python",
   "name": "python3"
  },
  "language_info": {
   "codemirror_mode": {
    "name": "ipython",
    "version": 3
   },
   "file_extension": ".py",
   "mimetype": "text/x-python",
   "name": "python",
   "nbconvert_exporter": "python",
   "pygments_lexer": "ipython3",
   "version": "3.6.0"
  }
 },
 "nbformat": 4,
 "nbformat_minor": 2
}
