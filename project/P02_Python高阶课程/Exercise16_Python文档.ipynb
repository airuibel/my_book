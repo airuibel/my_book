{
 "cells": [
  {
   "cell_type": "markdown",
   "metadata": {},
   "source": [
    "## Python文档简介\n",
    "- python文档格式的事实标准是reStructuredText，或简称reST\n",
    "- Sphinx(http://sphinx-doc.org/) 是处理这一格式的最常用的工具，他能读取reST格式的文档并输出其他格式的文档。\n",
    "\n",
    "#### 项目的文档应该包括下列内容\n",
    "- 用一两句话描述这个项目要解决的问题\n",
    "- 项目所基于的分发许可。如果是开源软件的话，应该在每一行代码文件中包含相应的信息。\n",
    "  因为上传代码到互联网并不意味着人们知道他们可以对代码做什么\n",
    "- 一个展示项目如何工作的小列子\n",
    "- 安装指南\n",
    "- 指向社区支持，邮件列表，IRC，论坛等的连接\n",
    "- 指向bug跟踪系统的连接\n",
    "- 指向源代码的连接，以便开发人员可以下载并立刻投入开发。\n",
    "- 还应该包含一个README.rst文件，解释项目是做什么的。这个README.rst文会显示在GitHub(http://github.com) 或PyPI(http://pypi.python.org) \n",
    "  的项目页面上\n",
    "- Read The Docs(http://readthedocs.org)\n",
    "可以自动在线生成和发布文档。"
   ]
  },
  {
   "cell_type": "markdown",
   "metadata": {},
   "source": [
    "## Sphinx和reSt入门\n",
    "- reST的完全指南(http://docutils.sourceforge.net/docs/ref/rst)\n",
    "\n",
    "### Sphinx模块\n",
    "- Sphinx是高度可扩展的：它的基本功能只支持手工文档，但他有许多有用的模块可以支持自动化文档的其他功能。\n",
    "- Sphinx.ext.autodoc可以从模块中抽取reST格式的文档字符串(docstrings)并生成.rst文件\n",
    "- Sphinx.ext.autogen模块可以以表格的形式格式化API，利于开发Python库\n",
    "- Sphinx-apidoc命令能自动创建generated/mymodule.rst和generated/mymodule.submodule.rst文件\n",
    "\n",
    "#### doctest可以做文档驱动开发：即先写文档和例子，然后写代码去匹配文档。\n",
    "\n",
    "### Sphinx其他功能\n",
    "- 项目间的连接\n",
    "- HTML主题\n",
    "- 图标和公式\n",
    "- 输出为Texinfo和EPUB格式\n",
    "- 连接到外部文档\n",
    "\n",
    "- WSME(https://pypi.python.org/pypi/WSME) 开发了一个名为sphinxcontrib-pecanwsme(https://pypi.python.org/pypi/sphinxcontrib-pecanwsme) 的Sphinx的扩展，它可以分析文档字符串和实际的Python代码并自动生成REST API文档"
   ]
  }
 ],
 "metadata": {
  "kernelspec": {
   "display_name": "Python 3",
   "language": "python",
   "name": "python3"
  },
  "language_info": {
   "codemirror_mode": {
    "name": "ipython",
    "version": 3
   },
   "file_extension": ".py",
   "mimetype": "text/x-python",
   "name": "python",
   "nbconvert_exporter": "python",
   "pygments_lexer": "ipython3",
   "version": "3.6.0"
  }
 },
 "nbformat": 4,
 "nbformat_minor": 2
}
