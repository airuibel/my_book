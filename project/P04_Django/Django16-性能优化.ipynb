{
 "cells": [
  {
   "cell_type": "markdown",
   "metadata": {},
   "source": [
    "# 14-性能优化\n",
    "## 1.页面静态化\n",
    "#### 1.步骤\n",
    "* 1. 获取页面显示的数据 IO数据库查询\n",
    "* 2. 获取模板文件  from django.template import loader  loader.get_template()\n",
    "* 3. 数据和模板拼接渲染==>txt  template.render(data)\n",
    "* 4. 渲染完毕html_string 写入到文件\n",
    "\n",
    "#### 2.定时任务的流程\n",
    "* 1. pip install django-crontab\n",
    "* 2. 注册appp  django_crontab\n",
    "* 3. 定义定时任务 dev.py -- */1 * * * * 'apps.contents.crons.genraa_index_html'\n",
    "* 4. 设置适配中文 dev.py \n",
    "* 5. 添加定时任务 python manage craontab add \n",
    "\n",
    "## 2.mysql的读写分离\n",
    "* 1.从端配置\n",
    "    * 1. docker 安装了 mysql5.7.22 版本 镜像 sudo docker image load -i\n",
    "    * 2. cd ~ mkdir mysql_slave\n",
    "    * 3. cd mysl_slave\n",
    "    * 4. mkdir data\n",
    "    * 5. cp -r /etc/mysql/mysql.conf.d  ./\n",
    "    * 6. sudo vi ./mysqld.conf\n",
    "    * 7. port = 8306 generate_log = 0 server-id =2\n",
    "    * 8. 运行的镜像 (设置从端 客户端 root:mysql)\n",
    "    * 9. 测试 从端的 服务 myslq -uroot -pmysl -h127.0.0.1 --port=8306\n",
    "\n",
    "* 2. 主端配置\n",
    "        * sudo vi  /etc/mysql/mysql.conf.d/mysqld.cnf  检查了一下配置项\n",
    "\n",
    "* 3.冷备份 --手动将主端 老原始 --同步到 从端\n",
    "    * 1. 主端myql 所有数据库 导出 mysqldump >\n",
    "    * 2. < xx.sql \n",
    "* 4.热备份---自动将主端数据--同步到 从端---二进制文件\n",
    "    * 1.登录主端 --给从端启个名字和权限 --查看一下主端的信息show master status\n",
    "    * 2.登录从端-- 使用用户名和密码 链接主端, 配置 二进制文件, position\n",
    "    * 3.开启从端 start slave \n",
    "    * 4. 测试\n",
    "    * change master to master_host='127.0.0.1', master_user='slave', master_password='slave',master_log_file='mysql-bin.000003', master_log_pos=1019526;\n",
    "## 3. django项目配置读写分离\n",
    "*   1. dev.py ---新增 主从端mysql\n",
    "*   2. utils.db_router.py  告诉系统 读 \"slave\" 写 'default' 关联操作 return True\n",
    "*   3. dev.py  告诉django项目 DATABASE_ROUTERS = ['utils.db_router.MasterSlaveDBRouter']\n",
    "\n",
    "    \n",
    "\n"
   ]
  }
 ],
 "metadata": {
  "kernelspec": {
   "display_name": "Python 3",
   "language": "python",
   "name": "python3"
  },
  "language_info": {
   "codemirror_mode": {
    "name": "ipython",
    "version": 3
   },
   "file_extension": ".py",
   "mimetype": "text/x-python",
   "name": "python",
   "nbconvert_exporter": "python",
   "pygments_lexer": "ipython3",
   "version": "3.6.0"
  }
 },
 "nbformat": 4,
 "nbformat_minor": 2
}
