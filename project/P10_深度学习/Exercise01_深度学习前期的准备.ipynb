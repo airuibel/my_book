{
 "cells": [
  {
   "cell_type": "markdown",
   "metadata": {},
   "source": [
    "## 学习的三大原则\n",
    "\n",
    "- 保证时间\n",
    "\n",
    "- 学会坚持，业余时间花大量时间练习\n",
    "\n",
    "  -  demo侠\n",
    "  -  调参侠\n",
    "  -  懂原理侠\n",
    "\n",
    "- 勤奋钻研"
   ]
  },
  {
   "cell_type": "markdown",
   "metadata": {},
   "source": [
    "## 前期准备\n",
    "\n",
    "- 数学\n",
    "  - 快速过一遍大体的知识点\n",
    "  - 针对具体指示点深入学习\n",
    "- 编程\n",
    "  - 有基础:快速学python\n",
    "  - 没基础:笨方法系列，入门，学会用"
   ]
  },
  {
   "cell_type": "markdown",
   "metadata": {},
   "source": [
    "## 时间规划\n",
    "\n",
    "- 第一个月：打好数学和编程基础\n",
    "\n",
    "- 第二个月：掌握各类深度算法\n",
    "\n",
    "- 第三个月：训练实战项目，提升训练技能"
   ]
  }
 ],
 "metadata": {
  "kernelspec": {
   "display_name": "Python 3",
   "language": "python",
   "name": "python3"
  },
  "language_info": {
   "codemirror_mode": {
    "name": "ipython",
    "version": 3
   },
   "file_extension": ".py",
   "mimetype": "text/x-python",
   "name": "python",
   "nbconvert_exporter": "python",
   "pygments_lexer": "ipython3",
   "version": "3.6.0"
  }
 },
 "nbformat": 4,
 "nbformat_minor": 2
}
