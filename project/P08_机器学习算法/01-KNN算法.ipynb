{
 "cells": [
  {
   "cell_type": "markdown",
   "metadata": {},
   "source": [
    "课程介绍\n",
    "\n",
    "有监督学习\n",
    "\n",
    "​\t目标值-连续-回归\n",
    "\n",
    "​\t\t\t\t\t线性回归\n",
    "\n",
    "​\t\t\t\t\t\t岭回归\n",
    "\n",
    "​\t\t\t\t\t\tlasso回归\t\t\t\n",
    "\n",
    "​\t目标值-离散-分类\n",
    "\n",
    "​\t\t\t\tKNN\n",
    "\n",
    "​\t\t\t\t逻辑回归\n",
    "\n",
    "​\t\t\t\t决策树\n",
    "\n",
    "集成学习\n",
    "\n",
    "无监督学习\t\n",
    "\n",
    "​\t\t聚类\n",
    "\n",
    "今日课程\n",
    "\n",
    "​\t\tK-近邻 -KNN\n",
    "\n",
    "# K-近邻算法\n",
    "\n",
    "KNN\n",
    "\n",
    "K  -K个\n",
    "\n",
    "N-nearest -最近\n",
    "\n",
    "N-Neighbors 邻居\n",
    "\n",
    "## 1 什么是K-近邻算法\n",
    "\n",
    "根据离你最近的K个邻居判断你的类别\n",
    "\n",
    "找邻居?\n",
    "\n",
    "K?决定你的类别 可变  根据模型评估结果\n",
    "\n",
    "### 1.1 K-近邻算法(KNN)概念\n",
    "\n",
    "**k个最相似(即特征空间中最邻近)的样本中的大多数属于某一个类别**，则该样本也属于这个类别。(K=1,3,5,7)K最好是奇数\n",
    "\n",
    "欧式距离:两点间的直线距离\n",
    "\n",
    "公式: 每个维度差值平方和开根号\n",
    "\n",
    "### 1.3 KNN算法流程总结\n",
    "\n",
    "根据K个邻居判定你的类别\n",
    "\n",
    "1. 计算当前样本与所有样本距离\n",
    "2. 距离从小到大排序\n",
    "3. 取前K?个邻居\n",
    "4. K个邻居投票,统计投票结果(A,B)\n",
    "5. 根据投票结果值出现频率高类别作为最终类别\n",
    "\n",
    "\n",
    "\n",
    "# 1.2 k近邻算法api初步使用\n",
    "\n",
    "机器学习流程复习：\n",
    "\n",
    "1. 获取数据\n",
    "2. 数据基本处理\n",
    "3. 特征工程\n",
    "4. 建立模型\n",
    "   1. KNN\n",
    "5. 模型评估\n",
    "\n",
    "## 1 Scikit-learn工具介绍\n",
    "\n",
    "- Python语言的机器学习工具\n",
    "- Scikit-learn包括许多知名的机器学习算法的实现\n",
    "- Scikit-learn文档完善，容易上手，丰富的API\n",
    "\n",
    "### 1.1 安装\n",
    "\n",
    "### 1.2 Scikit-learn包含的内容\n",
    "\n",
    "- 分类、聚类、回归\n",
    "- 特征工程\n",
    "- 模型选择、调优\n",
    "\n",
    "## 2 K-近邻算法API\n",
    "\n",
    "sklearn.neighbors.KNeighborsClassifier(n_neighbors=5)\n",
    "\n",
    "- n_neighbors：int,可选（默认= 5），k_neighbors查询默认使用的邻居数\n",
    "\n",
    "## 3 案例\n",
    "\n",
    "1. 实例化api\n",
    "\n",
    "   estimator =  KNeighborsClassifier(n_neighbors=5)\n",
    "\n",
    "2. 执行训练\n",
    "\n",
    "   estimator .fit(x,y)\n",
    "\n",
    "3. 预测\n",
    "\n",
    "   estimator .predict(x)\n",
    "\n",
    "\n",
    "\n",
    "记住:  fit()---训练\n",
    "\n",
    " predict()---预测\n",
    "\n",
    "# 1.3 距离度量\n",
    "\n",
    "## 1 欧式距离**(Euclidean Distance)：**\n",
    "\n",
    "每个维度差值平方和开根号\n",
    "\n",
    "## 2 **曼哈顿距离(Manhattan Distance)：**\n",
    "\n",
    "每个维度差值绝对值和\n",
    "\n",
    "## 3 切比雪夫距离 (Chebyshev Distance)：\n",
    "\n",
    "每个维度差值绝对值的最大值\n",
    "\n",
    "## 4 闵可夫斯基距离(Minkowski Distance)：\n",
    "\n",
    "![image-20191113094456656](/Users/zhangqingtao/Library/Application Support/typora-user-images/image-20191113094456656.png)\n",
    "\n",
    "P=1    曼哈顿距离\n",
    "\n",
    "P=2 欧式距离\n",
    "\n",
    "当p→∞时，就是切比雪夫距离。\n",
    "\n",
    "缺点\n",
    "\n",
    "(1) 单位相同看待\n",
    "\n",
    "(2) 未考虑数据分布\n",
    "\n",
    "## 5 标准化欧氏距离 (Standardized EuclideanDistance)：\n",
    "\n",
    "![image-20191113095134941](/Users/zhangqingtao/Library/Application Support/typora-user-images/image-20191113095134941.png)\n",
    "\n",
    "## 6 余弦距离(Cosine Distance)\n",
    "\n",
    "cos  \n",
    "\n",
    "[-1,1]\n",
    "\n",
    "两个变量方向差距  趋向1 关系比较大\n",
    "\n",
    "## 7 汉明距离(Hamming Distance)\n",
    "\n",
    "两个字符串S1变成S2需要替代的最小字符数\n",
    "\n",
    "```\n",
    "1011101\n",
    "1001001\n",
    "\n",
    "3\n",
    "\n",
    "2143896\n",
    "2233796\n",
    "3\n",
    "```\n",
    "\n",
    "**汉明重量**\n",
    "\n",
    "1 的个数\n",
    "\n",
    "11101\n",
    "\n",
    "汉明距离 汉明重量的差a-b。\n",
    "\n",
    "## **8 杰卡德距离(Jaccard Distance)**\n",
    "\n",
    "\n",
    "\n",
    "杰卡德相似系数\n",
    "\n",
    "![image-20191113100550797](/Users/zhangqingtao/Library/Application Support/typora-user-images/image-20191113100550797.png)\n",
    "\n",
    "杰卡德距离    1-J(A,B) \n",
    "\n",
    "## 9 马氏距离(Mahalanobis Distance)\n",
    "\n",
    "考虑样本分布\n",
    "\n",
    "![image-20191113101059340](/Users/zhangqingtao/Library/Application Support/typora-user-images/image-20191113101059340.png)\n",
    "\n",
    "**马氏距离特性**\n",
    "\n",
    "1.**量纲无关**  \n",
    "\n",
    "2.**马氏距离的计算是建立在总体样本的基础上的**\n",
    "\n",
    "3. **要求总体样本数大于样本的维数**\n",
    "\n",
    "# 1.4 k值的选择\n",
    "\n",
    "K值的取值直接影响分类结果\n",
    "\n",
    "K过小 \n",
    "\n",
    "容易受异常点影响    **K值的减小就意味着整体模型变得复杂，容易发生过拟合**\n",
    "\n",
    "**k值过大：**\n",
    "\n",
    "- 受到样本均衡的问题\n",
    "- **与输入实例较远（不相似的）训练实例也会对预测器作用，使预测发生错误，且K值的增大就意味着整体的模型变得简单。**\n",
    "- 欠拟合\n",
    "\n",
    "K=N 完全失效\n",
    "\n",
    "在**实际应用中，K值一般取一个比较小的数值**，模型评估\n",
    "\n",
    "采用交叉验证法\n",
    "\n",
    "**近似误差**: 关注的是训练集误差  近似误差小 容易过拟合\n",
    "\n",
    "**估计误差**：关注的测试集误差\n",
    "\n",
    "估计误差小说明对未知数据的预测能力好，\n",
    "\n",
    "模型本身最接近最佳模型。\n",
    "\n",
    "# 1.5 kd树\n",
    "\n",
    "帮助我们最快找到邻居的树形存储结果\n",
    "\n",
    "缺点: 线性扫描速度慢\n",
    "\n",
    "## 1 kd树简介\n",
    "\n",
    "### 1.1 什么是kd树\n",
    "\n",
    "**A和B距离很远，B和C距离很近，那么A和C的距离也很远**\n",
    "\n",
    "分割超平面 : 一维中是一个点，二维中是线，三维的是面。\n",
    "\n",
    "**2.最近邻域搜索（Nearest-Neighbor Lookup）**\n",
    "\n",
    "**造kd树相当于不断地用垂直于坐标轴的超平面将K维空间切分，构成一系列的K维超矩形区域**。\n",
    "\n",
    "\n",
    "\n",
    "## 2 构造方法\n",
    "\n",
    "1. 构造根节点\n",
    "2. 通过递归方法,不断的对空间进行切分\n",
    "3. 直到所有样本点没有实例终止\n",
    "\n",
    "**（1）选择向量的哪一维进行划分；**\n",
    "\n",
    "​\t**更好的方法应该是在数据比较分散的那一维进行划分（分散的程度可以根据方差来衡量）**\n",
    "\n",
    "  (2)  选择哪个点作为切割点\n",
    "\n",
    "​\t\t中位数\n",
    "\n",
    "### 3.2 最近领域的搜索\n",
    "\n",
    "邻居 :欧氏距离   \n",
    "\n",
    "kd 可能错过最优邻居\n",
    "\n",
    "1. 候选超球\n",
    "\n",
    "   查询点为圆心，以当前的最近距离为半径画圆\n",
    "\n",
    "2. 回溯队列\n",
    "\n",
    "   对比过的数据全部进入回溯队列\n",
    "\n",
    "找领居\n",
    "\n",
    "1.  对比根节点(切割面)\n",
    "2. 不断迭代找到最近\"邻居\",将所有对比点加入回溯队列里面\n",
    "3. 当前点为圆心,最近\"邻居\"距离为半径绘制候选超球\n",
    "4. 如果候选超球与切割面相交,将另外数据进入回溯队列\n",
    "5. 直到回溯队列没有数据为止\n",
    "\n",
    "# 1.6 案例：鸢尾花种类预测--数据集介绍\n",
    "\n",
    "## 2 scikit-learn中数据集介绍\n",
    "\n",
    "### 2.1 scikit-learn数据集API介绍\n",
    "\n",
    "load_iris() \n",
    "\n",
    "小数据集\n",
    "\n",
    "fetch(地址)\n",
    "\n",
    "大数据集  网络\n",
    "\n",
    "#### 2.1.1 sklearn小数据集\n",
    "\n",
    "\n",
    "\n",
    "sklearn.datasets.load_iris()\n",
    "\n",
    "#### 2.1.2 sklearn大数据集\n",
    "\n",
    "fetch('路径')\n",
    "\n",
    "### 2.2 sklearn数据集返回值介绍\n",
    "\n",
    "data : 特征值\n",
    "\n",
    "target :目标值\n",
    "\n",
    "DESCR: 描述\n",
    "\n",
    "feature_name :特征名称\n",
    "\n",
    "target_name : 标签名称\n",
    "\n",
    "### 2.3 查看数据分布\n",
    "\n",
    "seaborn  基于matplotlib \n",
    "\n",
    "更加美观\n",
    "\n",
    "seaborn.lmplot() \n",
    "\n",
    "data  数据集\n",
    "\n",
    "x  横轴\n",
    "\n",
    "y  y轴\n",
    "\n",
    "hue  类别\n",
    "\n",
    "fit_reg True  直接进行线性拟合\n",
    "\n",
    "### 2.4 数据集的划分\n",
    "\n",
    "训练集 80%  70%   构建模型\n",
    "\n",
    "测试集 20%   20%  模型评估\n",
    "\n",
    "**数据集划分api**\n",
    "\n",
    "train_test_split(x,y,test_size=0.2,random_state=)\n",
    "\n",
    "x 特征值\n",
    "\n",
    "y目标值\n",
    "\n",
    "test_size 测试集比例  20%\n",
    "\n",
    "random_state 随机数种子\n",
    "\n",
    "返回值\n",
    "\n",
    "x_train,x_test,y_train,y_test=\n",
    "\n",
    "随机数种子固定抽样的数据集\n",
    "\n",
    "种子值不同,抽回来的数据集也不相同\n",
    "\n",
    "# 1.7 特征工程-特征预处理\n",
    "\n",
    "## 1 什么是特征预处理\n",
    "\n",
    "### 1.1 特征预处理定义\n",
    "\n",
    "通过转化函数将特征转换成更适合模型的特征数据\n",
    "\n",
    "方法:\n",
    "\n",
    "归一化 标准化\n",
    "\n",
    "#### 为什么我们要进行归一化/标准化？\n",
    "\n",
    "量级大影响大,算法无法学习到量级小的特征\n",
    "\n",
    "### 1.2 包含内容(数值型数据的无量纲化)\n",
    "\n",
    "归一化\n",
    "\n",
    "标准化\n",
    "\n",
    "### 1.3 特征预处理API\n",
    "\n",
    "```python\n",
    "sklearn.preprocessing\n",
    "```\n",
    "\n",
    "\n",
    "\n",
    "## 2 归一化\n",
    "\n",
    "### 2.1 定义\n",
    "\n",
    "通过对原始数据进行变换把数据映射到(默认为[0,1])之间\n",
    "\n",
    "### 2.2 公式\n",
    "\n",
    "![image-20191113151208846](/Users/zhangqingtao/Library/Application Support/typora-user-images/image-20191113151208846.png)\n",
    "\n",
    "![image-20191113151438984](/Users/zhangqingtao/Library/Application Support/typora-user-images/image-20191113151438984.png)\n",
    "\n",
    "### 2.3 API\n",
    "\n",
    "sklearn.preprocessing.MinMaxScaler (feature_range=(0,1)… )\n",
    "\n",
    "- MinMaxScalar.fit_transform(X)\n",
    "  - X:numpy array格式的数据[n_samples,n_features]\n",
    "- 返回值：转换后的形状相同的array\n",
    "\n",
    "1. 实例化api\n",
    "\n",
    "   transfer = MinMaxScaler()\n",
    "\n",
    "2. 执行转化\n",
    "\n",
    "   transfer.fit_transfrom(data)\n",
    "\n",
    "   0. 缺点:\n",
    "\n",
    "      容易受异常点影响\n",
    "\n",
    "      \n",
    "\n",
    "### 2.5 归一化总结\n",
    "\n",
    "只适用与传统精确小数据场景\n",
    "\n",
    "## 3 标准化\n",
    "\n",
    "均值为0 标准差为1 范围内\n",
    "\n",
    "![image-20191113153525886](/Users/zhangqingtao/Library/Application Support/typora-user-images/image-20191113153525886.png)\n",
    "\n",
    "mean为平均值，σ为标准差   决定受异常点影响小\n",
    "\n",
    "- 对于归一化来说：如果出现异常点，影响了最大值和最小值，那么结果显然会发生改变\n",
    "- 对于标准化来说：如果出现异常点，由于具有一定数据量，少量的异常点对于平均值的影响并不大，从而方差改变较小。\n",
    "\n",
    "\n",
    "\n",
    "结论:\n",
    "\n",
    "   标准化比归一化稳定\n",
    "\n",
    "### 3.3 API\n",
    "\n",
    "sklearn.preprocessing.StandardScaler( )\n",
    "\n",
    "- 处理之后每列来说所有数据都聚集在均值0附近标准差差为1\n",
    "- StandardScaler.fit_transform(X)\n",
    "  - X:numpy array格式的数据[n_samples,n_features]\n",
    "- 返回值：转换后的形状相同的array\n",
    "\n",
    "实例化api\n",
    "\n",
    "transfer = StandardScaler( )\n",
    "\n",
    "执行转化\n",
    "\n",
    "transfer.fit_transform()\n",
    "\n",
    "### 3.5 标准化总结\n",
    "\n",
    "在已有样本足够多的情况下比较稳定，适合现代嘈杂大数据场景。\n",
    "\n",
    "# 1.8 案例：鸢尾花种类预测—流程实现\n",
    "\n",
    "## 1 再识K-近邻算法API\n",
    "\n",
    "sklearn.neighbors.KNeighborsClassifier(n_neighbors=5,algorithm='auto')\n",
    "\n",
    "- n_neighbors：\n",
    "\n",
    "  - int,可选（默认= 5），k_neighbors查询默认使用的邻居数\n",
    "\n",
    "- algorithm：{‘auto’，‘ball_tree’，‘kd_tree’，‘brute’}\n",
    "\n",
    "  - 快速k近邻搜索算法，默认参数为auto，可以理解为算法自己决定合适的搜索算法。除此之外，用户也可以自己指定搜索算法ball_tree、kd_tree、brute方法进行搜索，\n",
    "    - brute是蛮力搜索，也就是线性扫描，当训练集很大时，计算非常耗时。\n",
    "    - kd_tree，构造kd树存储数据以便对其进行快速检索的树形数据结构，kd树也就是数据结构中的二叉树。以中值切分构造的树，每个结点是一个超矩形，在维数小于20时效率高。\n",
    "    - ball tree是为了克服kd树高维失效而发明的，其构造过程是以质心C和半径r分割样本空间，每个节点是一个超球体。\n",
    "\n",
    "  ## 2 案例：鸢尾花种类预测\n",
    "\n",
    "目的  实现鸢尾花种类预测\n",
    "\n",
    "问题:   分类   ---KNN\n",
    "\n",
    "建模工作流程\n",
    "\n",
    "1. 获取数据\n",
    "   1. load_iris\n",
    "2. 数据基本处理\n",
    "   1. 切割数据\n",
    "3. 特征工程\n",
    "   1. 特征预处理\n",
    "4. 建立模型\n",
    "   1. KNN\n",
    "5. 模型评估\n",
    "\n",
    "#### **k近邻算法总结**\n",
    "\n",
    "优点\n",
    "\n",
    "**简单有效**\n",
    "\n",
    "**重新训练的代价低**\n",
    "\n",
    "**适合类域交叉样本**\n",
    "\n",
    "**适合大样本自动分类**\n",
    "\n",
    "缺点\n",
    "\n",
    "**惰性学习**\n",
    "\n",
    "**类别评分不是规格化**\n",
    "\n",
    "**输出可解释性不强**\n",
    "\n",
    "**对不均衡的样本不擅长**\n",
    "\n",
    "**计算量较大**\n",
    "\n"
   ]
  },
  {
   "cell_type": "code",
   "execution_count": 2,
   "metadata": {},
   "outputs": [],
   "source": [
    "import sklearn\n",
    "from sklearn.neighbors import KNeighborsClassifier"
   ]
  },
  {
   "cell_type": "code",
   "execution_count": 1,
   "metadata": {},
   "outputs": [],
   "source": [
    "import numpy as np\n",
    "x = np.arange(4).reshape(4,1)\n",
    "y = [0,0,1,1]"
   ]
  },
  {
   "cell_type": "code",
   "execution_count": 3,
   "metadata": {},
   "outputs": [
    {
     "data": {
      "text/plain": [
       "array([1])"
      ]
     },
     "execution_count": 3,
     "metadata": {},
     "output_type": "execute_result"
    }
   ],
   "source": [
    "# 实例化API\n",
    "estimator = KNeighborsClassifier(n_neighbors=2)\n",
    "# 使用fit方法进行训练\n",
    "estimator.fit(x,y)\n",
    "# 预测结果\n",
    "estimator.predict([[10]])"
   ]
  },
  {
   "cell_type": "code",
   "execution_count": 9,
   "metadata": {},
   "outputs": [
    {
     "data": {
      "text/plain": [
       "0.9486832980505138"
      ]
     },
     "execution_count": 9,
     "metadata": {},
     "output_type": "execute_result"
    }
   ],
   "source": [
    "3/(np.sqrt(2*5))"
   ]
  },
  {
   "cell_type": "code",
   "execution_count": 10,
   "metadata": {},
   "outputs": [
    {
     "data": {
      "text/html": [
       "<div>\n",
       "<style scoped>\n",
       "    .dataframe tbody tr th:only-of-type {\n",
       "        vertical-align: middle;\n",
       "    }\n",
       "\n",
       "    .dataframe tbody tr th {\n",
       "        vertical-align: top;\n",
       "    }\n",
       "\n",
       "    .dataframe thead th {\n",
       "        text-align: right;\n",
       "    }\n",
       "</style>\n",
       "<table border=\"1\" class=\"dataframe\">\n",
       "  <thead>\n",
       "    <tr style=\"text-align: right;\">\n",
       "      <th></th>\n",
       "      <th>0</th>\n",
       "      <th>1</th>\n",
       "    </tr>\n",
       "  </thead>\n",
       "  <tbody>\n",
       "    <tr>\n",
       "      <th>count</th>\n",
       "      <td>4.000000</td>\n",
       "      <td>4.000000</td>\n",
       "    </tr>\n",
       "    <tr>\n",
       "      <th>mean</th>\n",
       "      <td>2.500000</td>\n",
       "      <td>2.500000</td>\n",
       "    </tr>\n",
       "    <tr>\n",
       "      <th>std</th>\n",
       "      <td>1.290994</td>\n",
       "      <td>1.290994</td>\n",
       "    </tr>\n",
       "    <tr>\n",
       "      <th>min</th>\n",
       "      <td>1.000000</td>\n",
       "      <td>1.000000</td>\n",
       "    </tr>\n",
       "    <tr>\n",
       "      <th>25%</th>\n",
       "      <td>1.750000</td>\n",
       "      <td>1.750000</td>\n",
       "    </tr>\n",
       "    <tr>\n",
       "      <th>50%</th>\n",
       "      <td>2.500000</td>\n",
       "      <td>2.500000</td>\n",
       "    </tr>\n",
       "    <tr>\n",
       "      <th>75%</th>\n",
       "      <td>3.250000</td>\n",
       "      <td>3.250000</td>\n",
       "    </tr>\n",
       "    <tr>\n",
       "      <th>max</th>\n",
       "      <td>4.000000</td>\n",
       "      <td>4.000000</td>\n",
       "    </tr>\n",
       "  </tbody>\n",
       "</table>\n",
       "</div>"
      ],
      "text/plain": [
       "              0         1\n",
       "count  4.000000  4.000000\n",
       "mean   2.500000  2.500000\n",
       "std    1.290994  1.290994\n",
       "min    1.000000  1.000000\n",
       "25%    1.750000  1.750000\n",
       "50%    2.500000  2.500000\n",
       "75%    3.250000  3.250000\n",
       "max    4.000000  4.000000"
      ]
     },
     "execution_count": 10,
     "metadata": {},
     "output_type": "execute_result"
    }
   ],
   "source": [
    "import pandas as pd\n",
    "X=[[1,1],[2,2],[3,3],[4,4]]\n",
    "pd.DataFrame(X).describe()"
   ]
  },
  {
   "cell_type": "markdown",
   "metadata": {},
   "source": [
    "## K值的选择\n",
    "- 近似误差\n",
    "    - 对现有训练集的训练误差，关注训练集\n",
    "    * 如果近似值过小可能会出现过拟合的现象，对现有的训练集能有很好的预测，但对未知的测试样本将会出现较大偏差的预测\n",
    "    * 未知的测试样本将会出现较大的预测\n",
    "    * 模型本身不是最接近最佳模型\n",
    "- 估计误差\n",
    "    - 对测试集的测试误差，关注测试集，\n",
    "    - 估计误差小说明对未知数据的预测能力好，\n",
    "    - 模型本省最接近最佳模型\n",
    "    \n",
    "### 结论\n",
    "- K值过小\n",
    "    * 容易受到异常点的影响\n",
    "    * 容易过拟合\n",
    "    \n",
    "- K值过大\n",
    "    * 容易受到样本均衡的问题\n",
    "    * 容易欠拟合"
   ]
  },
  {
   "cell_type": "markdown",
   "metadata": {},
   "source": [
    "### 最近领域搜索\n",
    "- kd树是一种k维空间中的实例中的实例点进行存储以便对其进行快速检索的树形数据结构。kd树是一种二叉树，表示对k维空间的一个划分，构造kd数相当于不断的用垂直于坐标轴的超平面将k位空间切分，构成一系列的k维超矩形区域。kd树的每个节点对应于一个k维超矩形区域。利用kd树可以省去对大部分数据点的搜索，从而减少计算量。"
   ]
  },
  {
   "cell_type": "code",
   "execution_count": 12,
   "metadata": {},
   "outputs": [
    {
     "data": {
      "text/html": [
       "<div>\n",
       "<style scoped>\n",
       "    .dataframe tbody tr th:only-of-type {\n",
       "        vertical-align: middle;\n",
       "    }\n",
       "\n",
       "    .dataframe tbody tr th {\n",
       "        vertical-align: top;\n",
       "    }\n",
       "\n",
       "    .dataframe thead th {\n",
       "        text-align: right;\n",
       "    }\n",
       "</style>\n",
       "<table border=\"1\" class=\"dataframe\">\n",
       "  <thead>\n",
       "    <tr style=\"text-align: right;\">\n",
       "      <th></th>\n",
       "      <th>0</th>\n",
       "      <th>1</th>\n",
       "    </tr>\n",
       "  </thead>\n",
       "  <tbody>\n",
       "    <tr>\n",
       "      <th>count</th>\n",
       "      <td>6.000000</td>\n",
       "      <td>6.000000</td>\n",
       "    </tr>\n",
       "    <tr>\n",
       "      <th>mean</th>\n",
       "      <td>5.833333</td>\n",
       "      <td>3.833333</td>\n",
       "    </tr>\n",
       "    <tr>\n",
       "      <th>std</th>\n",
       "      <td>2.639444</td>\n",
       "      <td>2.316607</td>\n",
       "    </tr>\n",
       "    <tr>\n",
       "      <th>min</th>\n",
       "      <td>2.000000</td>\n",
       "      <td>1.000000</td>\n",
       "    </tr>\n",
       "    <tr>\n",
       "      <th>25%</th>\n",
       "      <td>4.250000</td>\n",
       "      <td>2.250000</td>\n",
       "    </tr>\n",
       "    <tr>\n",
       "      <th>50%</th>\n",
       "      <td>6.000000</td>\n",
       "      <td>3.500000</td>\n",
       "    </tr>\n",
       "    <tr>\n",
       "      <th>75%</th>\n",
       "      <td>7.750000</td>\n",
       "      <td>5.500000</td>\n",
       "    </tr>\n",
       "    <tr>\n",
       "      <th>max</th>\n",
       "      <td>9.000000</td>\n",
       "      <td>7.000000</td>\n",
       "    </tr>\n",
       "  </tbody>\n",
       "</table>\n",
       "</div>"
      ],
      "text/plain": [
       "              0         1\n",
       "count  6.000000  6.000000\n",
       "mean   5.833333  3.833333\n",
       "std    2.639444  2.316607\n",
       "min    2.000000  1.000000\n",
       "25%    4.250000  2.250000\n",
       "50%    6.000000  3.500000\n",
       "75%    7.750000  5.500000\n",
       "max    9.000000  7.000000"
      ]
     },
     "execution_count": 12,
     "metadata": {},
     "output_type": "execute_result"
    }
   ],
   "source": [
    "T=[(2,3),(5,4),(9,6),(4,7),(8,1),(7,2)]\n",
    "pd.DataFrame(T).describe()"
   ]
  },
  {
   "cell_type": "markdown",
   "metadata": {},
   "source": [
    "### kd树的构建过程【知道】\n",
    "```\n",
    "1.构造根节点\n",
    "2.通过递归的方法，不断地对k维空间进行切分，生成子节点\n",
    "3.重复第二步骤，直到子区域中没有示例时终止\n",
    "需要关注细节：a.选择向量的哪一维进行划分；b.如何划分数据\n",
    "kd树的搜索过程【知道】\n",
    "1.二叉树搜索比较待查询节点和分裂节点的分裂维的值，（小于等于就进入左子树分支，大于就进入右子树分支直到叶子结点）\n",
    "2.顺着“搜索路径”找到最近邻的近似点\n",
    "3.回溯搜索路径，并判断搜索路径上的结点的其他子结点空间中是否可能有距离查询点更近的数据点，如果有可能，则需要跳到其他子结点空间中去搜索\n",
    "4.重复这个过程直到搜索路径为空\n",
    "```"
   ]
  },
  {
   "cell_type": "code",
   "execution_count": null,
   "metadata": {},
   "outputs": [],
   "source": [
    "## 案例：鸢尾花种类预测--数据集介绍"
   ]
  },
  {
   "cell_type": "code",
   "execution_count": 2,
   "metadata": {},
   "outputs": [
    {
     "name": "stdout",
     "output_type": "stream",
     "text": [
      "鸢尾花数据集的返回值:\n",
      " {'data': array([[5.1, 3.5, 1.4, 0.2],\n",
      "       [4.9, 3. , 1.4, 0.2],\n",
      "       [4.7, 3.2, 1.3, 0.2],\n",
      "       [4.6, 3.1, 1.5, 0.2],\n",
      "       [5. , 3.6, 1.4, 0.2],\n",
      "       [5.4, 3.9, 1.7, 0.4],\n",
      "       [4.6, 3.4, 1.4, 0.3],\n",
      "       [5. , 3.4, 1.5, 0.2],\n",
      "       [4.4, 2.9, 1.4, 0.2],\n",
      "       [4.9, 3.1, 1.5, 0.1],\n",
      "       [5.4, 3.7, 1.5, 0.2],\n",
      "       [4.8, 3.4, 1.6, 0.2],\n",
      "       [4.8, 3. , 1.4, 0.1],\n",
      "       [4.3, 3. , 1.1, 0.1],\n",
      "       [5.8, 4. , 1.2, 0.2],\n",
      "       [5.7, 4.4, 1.5, 0.4],\n",
      "       [5.4, 3.9, 1.3, 0.4],\n",
      "       [5.1, 3.5, 1.4, 0.3],\n",
      "       [5.7, 3.8, 1.7, 0.3],\n",
      "       [5.1, 3.8, 1.5, 0.3],\n",
      "       [5.4, 3.4, 1.7, 0.2],\n",
      "       [5.1, 3.7, 1.5, 0.4],\n",
      "       [4.6, 3.6, 1. , 0.2],\n",
      "       [5.1, 3.3, 1.7, 0.5],\n",
      "       [4.8, 3.4, 1.9, 0.2],\n",
      "       [5. , 3. , 1.6, 0.2],\n",
      "       [5. , 3.4, 1.6, 0.4],\n",
      "       [5.2, 3.5, 1.5, 0.2],\n",
      "       [5.2, 3.4, 1.4, 0.2],\n",
      "       [4.7, 3.2, 1.6, 0.2],\n",
      "       [4.8, 3.1, 1.6, 0.2],\n",
      "       [5.4, 3.4, 1.5, 0.4],\n",
      "       [5.2, 4.1, 1.5, 0.1],\n",
      "       [5.5, 4.2, 1.4, 0.2],\n",
      "       [4.9, 3.1, 1.5, 0.1],\n",
      "       [5. , 3.2, 1.2, 0.2],\n",
      "       [5.5, 3.5, 1.3, 0.2],\n",
      "       [4.9, 3.1, 1.5, 0.1],\n",
      "       [4.4, 3. , 1.3, 0.2],\n",
      "       [5.1, 3.4, 1.5, 0.2],\n",
      "       [5. , 3.5, 1.3, 0.3],\n",
      "       [4.5, 2.3, 1.3, 0.3],\n",
      "       [4.4, 3.2, 1.3, 0.2],\n",
      "       [5. , 3.5, 1.6, 0.6],\n",
      "       [5.1, 3.8, 1.9, 0.4],\n",
      "       [4.8, 3. , 1.4, 0.3],\n",
      "       [5.1, 3.8, 1.6, 0.2],\n",
      "       [4.6, 3.2, 1.4, 0.2],\n",
      "       [5.3, 3.7, 1.5, 0.2],\n",
      "       [5. , 3.3, 1.4, 0.2],\n",
      "       [7. , 3.2, 4.7, 1.4],\n",
      "       [6.4, 3.2, 4.5, 1.5],\n",
      "       [6.9, 3.1, 4.9, 1.5],\n",
      "       [5.5, 2.3, 4. , 1.3],\n",
      "       [6.5, 2.8, 4.6, 1.5],\n",
      "       [5.7, 2.8, 4.5, 1.3],\n",
      "       [6.3, 3.3, 4.7, 1.6],\n",
      "       [4.9, 2.4, 3.3, 1. ],\n",
      "       [6.6, 2.9, 4.6, 1.3],\n",
      "       [5.2, 2.7, 3.9, 1.4],\n",
      "       [5. , 2. , 3.5, 1. ],\n",
      "       [5.9, 3. , 4.2, 1.5],\n",
      "       [6. , 2.2, 4. , 1. ],\n",
      "       [6.1, 2.9, 4.7, 1.4],\n",
      "       [5.6, 2.9, 3.6, 1.3],\n",
      "       [6.7, 3.1, 4.4, 1.4],\n",
      "       [5.6, 3. , 4.5, 1.5],\n",
      "       [5.8, 2.7, 4.1, 1. ],\n",
      "       [6.2, 2.2, 4.5, 1.5],\n",
      "       [5.6, 2.5, 3.9, 1.1],\n",
      "       [5.9, 3.2, 4.8, 1.8],\n",
      "       [6.1, 2.8, 4. , 1.3],\n",
      "       [6.3, 2.5, 4.9, 1.5],\n",
      "       [6.1, 2.8, 4.7, 1.2],\n",
      "       [6.4, 2.9, 4.3, 1.3],\n",
      "       [6.6, 3. , 4.4, 1.4],\n",
      "       [6.8, 2.8, 4.8, 1.4],\n",
      "       [6.7, 3. , 5. , 1.7],\n",
      "       [6. , 2.9, 4.5, 1.5],\n",
      "       [5.7, 2.6, 3.5, 1. ],\n",
      "       [5.5, 2.4, 3.8, 1.1],\n",
      "       [5.5, 2.4, 3.7, 1. ],\n",
      "       [5.8, 2.7, 3.9, 1.2],\n",
      "       [6. , 2.7, 5.1, 1.6],\n",
      "       [5.4, 3. , 4.5, 1.5],\n",
      "       [6. , 3.4, 4.5, 1.6],\n",
      "       [6.7, 3.1, 4.7, 1.5],\n",
      "       [6.3, 2.3, 4.4, 1.3],\n",
      "       [5.6, 3. , 4.1, 1.3],\n",
      "       [5.5, 2.5, 4. , 1.3],\n",
      "       [5.5, 2.6, 4.4, 1.2],\n",
      "       [6.1, 3. , 4.6, 1.4],\n",
      "       [5.8, 2.6, 4. , 1.2],\n",
      "       [5. , 2.3, 3.3, 1. ],\n",
      "       [5.6, 2.7, 4.2, 1.3],\n",
      "       [5.7, 3. , 4.2, 1.2],\n",
      "       [5.7, 2.9, 4.2, 1.3],\n",
      "       [6.2, 2.9, 4.3, 1.3],\n",
      "       [5.1, 2.5, 3. , 1.1],\n",
      "       [5.7, 2.8, 4.1, 1.3],\n",
      "       [6.3, 3.3, 6. , 2.5],\n",
      "       [5.8, 2.7, 5.1, 1.9],\n",
      "       [7.1, 3. , 5.9, 2.1],\n",
      "       [6.3, 2.9, 5.6, 1.8],\n",
      "       [6.5, 3. , 5.8, 2.2],\n",
      "       [7.6, 3. , 6.6, 2.1],\n",
      "       [4.9, 2.5, 4.5, 1.7],\n",
      "       [7.3, 2.9, 6.3, 1.8],\n",
      "       [6.7, 2.5, 5.8, 1.8],\n",
      "       [7.2, 3.6, 6.1, 2.5],\n",
      "       [6.5, 3.2, 5.1, 2. ],\n",
      "       [6.4, 2.7, 5.3, 1.9],\n",
      "       [6.8, 3. , 5.5, 2.1],\n",
      "       [5.7, 2.5, 5. , 2. ],\n",
      "       [5.8, 2.8, 5.1, 2.4],\n",
      "       [6.4, 3.2, 5.3, 2.3],\n",
      "       [6.5, 3. , 5.5, 1.8],\n",
      "       [7.7, 3.8, 6.7, 2.2],\n",
      "       [7.7, 2.6, 6.9, 2.3],\n",
      "       [6. , 2.2, 5. , 1.5],\n",
      "       [6.9, 3.2, 5.7, 2.3],\n",
      "       [5.6, 2.8, 4.9, 2. ],\n",
      "       [7.7, 2.8, 6.7, 2. ],\n",
      "       [6.3, 2.7, 4.9, 1.8],\n",
      "       [6.7, 3.3, 5.7, 2.1],\n",
      "       [7.2, 3.2, 6. , 1.8],\n",
      "       [6.2, 2.8, 4.8, 1.8],\n",
      "       [6.1, 3. , 4.9, 1.8],\n",
      "       [6.4, 2.8, 5.6, 2.1],\n",
      "       [7.2, 3. , 5.8, 1.6],\n",
      "       [7.4, 2.8, 6.1, 1.9],\n",
      "       [7.9, 3.8, 6.4, 2. ],\n",
      "       [6.4, 2.8, 5.6, 2.2],\n",
      "       [6.3, 2.8, 5.1, 1.5],\n",
      "       [6.1, 2.6, 5.6, 1.4],\n",
      "       [7.7, 3. , 6.1, 2.3],\n",
      "       [6.3, 3.4, 5.6, 2.4],\n",
      "       [6.4, 3.1, 5.5, 1.8],\n",
      "       [6. , 3. , 4.8, 1.8],\n",
      "       [6.9, 3.1, 5.4, 2.1],\n",
      "       [6.7, 3.1, 5.6, 2.4],\n",
      "       [6.9, 3.1, 5.1, 2.3],\n",
      "       [5.8, 2.7, 5.1, 1.9],\n",
      "       [6.8, 3.2, 5.9, 2.3],\n",
      "       [6.7, 3.3, 5.7, 2.5],\n",
      "       [6.7, 3. , 5.2, 2.3],\n",
      "       [6.3, 2.5, 5. , 1.9],\n",
      "       [6.5, 3. , 5.2, 2. ],\n",
      "       [6.2, 3.4, 5.4, 2.3],\n",
      "       [5.9, 3. , 5.1, 1.8]]), 'target': array([0, 0, 0, 0, 0, 0, 0, 0, 0, 0, 0, 0, 0, 0, 0, 0, 0, 0, 0, 0, 0, 0,\n",
      "       0, 0, 0, 0, 0, 0, 0, 0, 0, 0, 0, 0, 0, 0, 0, 0, 0, 0, 0, 0, 0, 0,\n",
      "       0, 0, 0, 0, 0, 0, 1, 1, 1, 1, 1, 1, 1, 1, 1, 1, 1, 1, 1, 1, 1, 1,\n",
      "       1, 1, 1, 1, 1, 1, 1, 1, 1, 1, 1, 1, 1, 1, 1, 1, 1, 1, 1, 1, 1, 1,\n",
      "       1, 1, 1, 1, 1, 1, 1, 1, 1, 1, 1, 1, 2, 2, 2, 2, 2, 2, 2, 2, 2, 2,\n",
      "       2, 2, 2, 2, 2, 2, 2, 2, 2, 2, 2, 2, 2, 2, 2, 2, 2, 2, 2, 2, 2, 2,\n",
      "       2, 2, 2, 2, 2, 2, 2, 2, 2, 2, 2, 2, 2, 2, 2, 2, 2, 2]), 'target_names': array(['setosa', 'versicolor', 'virginica'], dtype='<U10'), 'DESCR': 'Iris Plants Database\\n====================\\n\\nNotes\\n-----\\nData Set Characteristics:\\n    :Number of Instances: 150 (50 in each of three classes)\\n    :Number of Attributes: 4 numeric, predictive attributes and the class\\n    :Attribute Information:\\n        - sepal length in cm\\n        - sepal width in cm\\n        - petal length in cm\\n        - petal width in cm\\n        - class:\\n                - Iris-Setosa\\n                - Iris-Versicolour\\n                - Iris-Virginica\\n    :Summary Statistics:\\n\\n    ============== ==== ==== ======= ===== ====================\\n                    Min  Max   Mean    SD   Class Correlation\\n    ============== ==== ==== ======= ===== ====================\\n    sepal length:   4.3  7.9   5.84   0.83    0.7826\\n    sepal width:    2.0  4.4   3.05   0.43   -0.4194\\n    petal length:   1.0  6.9   3.76   1.76    0.9490  (high!)\\n    petal width:    0.1  2.5   1.20  0.76     0.9565  (high!)\\n    ============== ==== ==== ======= ===== ====================\\n\\n    :Missing Attribute Values: None\\n    :Class Distribution: 33.3% for each of 3 classes.\\n    :Creator: R.A. Fisher\\n    :Donor: Michael Marshall (MARSHALL%PLU@io.arc.nasa.gov)\\n    :Date: July, 1988\\n\\nThis is a copy of UCI ML iris datasets.\\nhttp://archive.ics.uci.edu/ml/datasets/Iris\\n\\nThe famous Iris database, first used by Sir R.A Fisher\\n\\nThis is perhaps the best known database to be found in the\\npattern recognition literature.  Fisher\\'s paper is a classic in the field and\\nis referenced frequently to this day.  (See Duda & Hart, for example.)  The\\ndata set contains 3 classes of 50 instances each, where each class refers to a\\ntype of iris plant.  One class is linearly separable from the other 2; the\\nlatter are NOT linearly separable from each other.\\n\\nReferences\\n----------\\n   - Fisher,R.A. \"The use of multiple measurements in taxonomic problems\"\\n     Annual Eugenics, 7, Part II, 179-188 (1936); also in \"Contributions to\\n     Mathematical Statistics\" (John Wiley, NY, 1950).\\n   - Duda,R.O., & Hart,P.E. (1973) Pattern Classification and Scene Analysis.\\n     (Q327.D83) John Wiley & Sons.  ISBN 0-471-22361-1.  See page 218.\\n   - Dasarathy, B.V. (1980) \"Nosing Around the Neighborhood: A New System\\n     Structure and Classification Rule for Recognition in Partially Exposed\\n     Environments\".  IEEE Transactions on Pattern Analysis and Machine\\n     Intelligence, Vol. PAMI-2, No. 1, 67-71.\\n   - Gates, G.W. (1972) \"The Reduced Nearest Neighbor Rule\".  IEEE Transactions\\n     on Information Theory, May 1972, 431-433.\\n   - See also: 1988 MLC Proceedings, 54-64.  Cheeseman et al\"s AUTOCLASS II\\n     conceptual clustering system finds 3 classes in the data.\\n   - Many, many more ...\\n', 'feature_names': ['sepal length (cm)', 'sepal width (cm)', 'petal length (cm)', 'petal width (cm)']}\n",
      "鸢尾花的特征:\n",
      " [[5.1 3.5 1.4 0.2]\n",
      " [4.9 3.  1.4 0.2]\n",
      " [4.7 3.2 1.3 0.2]\n",
      " [4.6 3.1 1.5 0.2]\n",
      " [5.  3.6 1.4 0.2]\n",
      " [5.4 3.9 1.7 0.4]\n",
      " [4.6 3.4 1.4 0.3]\n",
      " [5.  3.4 1.5 0.2]\n",
      " [4.4 2.9 1.4 0.2]\n",
      " [4.9 3.1 1.5 0.1]\n",
      " [5.4 3.7 1.5 0.2]\n",
      " [4.8 3.4 1.6 0.2]\n",
      " [4.8 3.  1.4 0.1]\n",
      " [4.3 3.  1.1 0.1]\n",
      " [5.8 4.  1.2 0.2]\n",
      " [5.7 4.4 1.5 0.4]\n",
      " [5.4 3.9 1.3 0.4]\n",
      " [5.1 3.5 1.4 0.3]\n",
      " [5.7 3.8 1.7 0.3]\n",
      " [5.1 3.8 1.5 0.3]\n",
      " [5.4 3.4 1.7 0.2]\n",
      " [5.1 3.7 1.5 0.4]\n",
      " [4.6 3.6 1.  0.2]\n",
      " [5.1 3.3 1.7 0.5]\n",
      " [4.8 3.4 1.9 0.2]\n",
      " [5.  3.  1.6 0.2]\n",
      " [5.  3.4 1.6 0.4]\n",
      " [5.2 3.5 1.5 0.2]\n",
      " [5.2 3.4 1.4 0.2]\n",
      " [4.7 3.2 1.6 0.2]\n",
      " [4.8 3.1 1.6 0.2]\n",
      " [5.4 3.4 1.5 0.4]\n",
      " [5.2 4.1 1.5 0.1]\n",
      " [5.5 4.2 1.4 0.2]\n",
      " [4.9 3.1 1.5 0.1]\n",
      " [5.  3.2 1.2 0.2]\n",
      " [5.5 3.5 1.3 0.2]\n",
      " [4.9 3.1 1.5 0.1]\n",
      " [4.4 3.  1.3 0.2]\n",
      " [5.1 3.4 1.5 0.2]\n",
      " [5.  3.5 1.3 0.3]\n",
      " [4.5 2.3 1.3 0.3]\n",
      " [4.4 3.2 1.3 0.2]\n",
      " [5.  3.5 1.6 0.6]\n",
      " [5.1 3.8 1.9 0.4]\n",
      " [4.8 3.  1.4 0.3]\n",
      " [5.1 3.8 1.6 0.2]\n",
      " [4.6 3.2 1.4 0.2]\n",
      " [5.3 3.7 1.5 0.2]\n",
      " [5.  3.3 1.4 0.2]\n",
      " [7.  3.2 4.7 1.4]\n",
      " [6.4 3.2 4.5 1.5]\n",
      " [6.9 3.1 4.9 1.5]\n",
      " [5.5 2.3 4.  1.3]\n",
      " [6.5 2.8 4.6 1.5]\n",
      " [5.7 2.8 4.5 1.3]\n",
      " [6.3 3.3 4.7 1.6]\n",
      " [4.9 2.4 3.3 1. ]\n",
      " [6.6 2.9 4.6 1.3]\n",
      " [5.2 2.7 3.9 1.4]\n",
      " [5.  2.  3.5 1. ]\n",
      " [5.9 3.  4.2 1.5]\n",
      " [6.  2.2 4.  1. ]\n",
      " [6.1 2.9 4.7 1.4]\n",
      " [5.6 2.9 3.6 1.3]\n",
      " [6.7 3.1 4.4 1.4]\n",
      " [5.6 3.  4.5 1.5]\n",
      " [5.8 2.7 4.1 1. ]\n",
      " [6.2 2.2 4.5 1.5]\n",
      " [5.6 2.5 3.9 1.1]\n",
      " [5.9 3.2 4.8 1.8]\n",
      " [6.1 2.8 4.  1.3]\n",
      " [6.3 2.5 4.9 1.5]\n",
      " [6.1 2.8 4.7 1.2]\n",
      " [6.4 2.9 4.3 1.3]\n",
      " [6.6 3.  4.4 1.4]\n",
      " [6.8 2.8 4.8 1.4]\n",
      " [6.7 3.  5.  1.7]\n",
      " [6.  2.9 4.5 1.5]\n",
      " [5.7 2.6 3.5 1. ]\n",
      " [5.5 2.4 3.8 1.1]\n",
      " [5.5 2.4 3.7 1. ]\n",
      " [5.8 2.7 3.9 1.2]\n",
      " [6.  2.7 5.1 1.6]\n",
      " [5.4 3.  4.5 1.5]\n",
      " [6.  3.4 4.5 1.6]\n",
      " [6.7 3.1 4.7 1.5]\n",
      " [6.3 2.3 4.4 1.3]\n",
      " [5.6 3.  4.1 1.3]\n",
      " [5.5 2.5 4.  1.3]\n",
      " [5.5 2.6 4.4 1.2]\n",
      " [6.1 3.  4.6 1.4]\n",
      " [5.8 2.6 4.  1.2]\n",
      " [5.  2.3 3.3 1. ]\n",
      " [5.6 2.7 4.2 1.3]\n",
      " [5.7 3.  4.2 1.2]\n",
      " [5.7 2.9 4.2 1.3]\n",
      " [6.2 2.9 4.3 1.3]\n",
      " [5.1 2.5 3.  1.1]\n",
      " [5.7 2.8 4.1 1.3]\n",
      " [6.3 3.3 6.  2.5]\n",
      " [5.8 2.7 5.1 1.9]\n",
      " [7.1 3.  5.9 2.1]\n",
      " [6.3 2.9 5.6 1.8]\n",
      " [6.5 3.  5.8 2.2]\n",
      " [7.6 3.  6.6 2.1]\n",
      " [4.9 2.5 4.5 1.7]\n",
      " [7.3 2.9 6.3 1.8]\n",
      " [6.7 2.5 5.8 1.8]\n",
      " [7.2 3.6 6.1 2.5]\n",
      " [6.5 3.2 5.1 2. ]\n",
      " [6.4 2.7 5.3 1.9]\n",
      " [6.8 3.  5.5 2.1]\n",
      " [5.7 2.5 5.  2. ]\n",
      " [5.8 2.8 5.1 2.4]\n",
      " [6.4 3.2 5.3 2.3]\n",
      " [6.5 3.  5.5 1.8]\n",
      " [7.7 3.8 6.7 2.2]\n",
      " [7.7 2.6 6.9 2.3]\n",
      " [6.  2.2 5.  1.5]\n",
      " [6.9 3.2 5.7 2.3]\n",
      " [5.6 2.8 4.9 2. ]\n",
      " [7.7 2.8 6.7 2. ]\n",
      " [6.3 2.7 4.9 1.8]\n",
      " [6.7 3.3 5.7 2.1]\n",
      " [7.2 3.2 6.  1.8]\n",
      " [6.2 2.8 4.8 1.8]\n",
      " [6.1 3.  4.9 1.8]\n",
      " [6.4 2.8 5.6 2.1]\n",
      " [7.2 3.  5.8 1.6]\n",
      " [7.4 2.8 6.1 1.9]\n",
      " [7.9 3.8 6.4 2. ]\n",
      " [6.4 2.8 5.6 2.2]\n",
      " [6.3 2.8 5.1 1.5]\n",
      " [6.1 2.6 5.6 1.4]\n",
      " [7.7 3.  6.1 2.3]\n",
      " [6.3 3.4 5.6 2.4]\n",
      " [6.4 3.1 5.5 1.8]\n",
      " [6.  3.  4.8 1.8]\n",
      " [6.9 3.1 5.4 2.1]\n",
      " [6.7 3.1 5.6 2.4]\n",
      " [6.9 3.1 5.1 2.3]\n",
      " [5.8 2.7 5.1 1.9]\n",
      " [6.8 3.2 5.9 2.3]\n",
      " [6.7 3.3 5.7 2.5]\n",
      " [6.7 3.  5.2 2.3]\n",
      " [6.3 2.5 5.  1.9]\n",
      " [6.5 3.  5.2 2. ]\n",
      " [6.2 3.4 5.4 2.3]\n",
      " [5.9 3.  5.1 1.8]]\n",
      "鸢尾花的目标值:\n",
      " [0 0 0 0 0 0 0 0 0 0 0 0 0 0 0 0 0 0 0 0 0 0 0 0 0 0 0 0 0 0 0 0 0 0 0 0 0\n",
      " 0 0 0 0 0 0 0 0 0 0 0 0 0 1 1 1 1 1 1 1 1 1 1 1 1 1 1 1 1 1 1 1 1 1 1 1 1\n",
      " 1 1 1 1 1 1 1 1 1 1 1 1 1 1 1 1 1 1 1 1 1 1 1 1 1 1 2 2 2 2 2 2 2 2 2 2 2\n",
      " 2 2 2 2 2 2 2 2 2 2 2 2 2 2 2 2 2 2 2 2 2 2 2 2 2 2 2 2 2 2 2 2 2 2 2 2 2\n",
      " 2 2]\n",
      "鸢尾花特征的名字:\n",
      " ['sepal length (cm)', 'sepal width (cm)', 'petal length (cm)', 'petal width (cm)']\n",
      "鸢尾花目标值的名字:\n",
      " ['setosa' 'versicolor' 'virginica']\n",
      "鸢尾花的描述:\n",
      " Iris Plants Database\n",
      "====================\n",
      "\n",
      "Notes\n",
      "-----\n",
      "Data Set Characteristics:\n",
      "    :Number of Instances: 150 (50 in each of three classes)\n",
      "    :Number of Attributes: 4 numeric, predictive attributes and the class\n",
      "    :Attribute Information:\n",
      "        - sepal length in cm\n",
      "        - sepal width in cm\n",
      "        - petal length in cm\n",
      "        - petal width in cm\n",
      "        - class:\n",
      "                - Iris-Setosa\n",
      "                - Iris-Versicolour\n",
      "                - Iris-Virginica\n",
      "    :Summary Statistics:\n",
      "\n",
      "    ============== ==== ==== ======= ===== ====================\n",
      "                    Min  Max   Mean    SD   Class Correlation\n",
      "    ============== ==== ==== ======= ===== ====================\n",
      "    sepal length:   4.3  7.9   5.84   0.83    0.7826\n",
      "    sepal width:    2.0  4.4   3.05   0.43   -0.4194\n",
      "    petal length:   1.0  6.9   3.76   1.76    0.9490  (high!)\n",
      "    petal width:    0.1  2.5   1.20  0.76     0.9565  (high!)\n",
      "    ============== ==== ==== ======= ===== ====================\n",
      "\n",
      "    :Missing Attribute Values: None\n",
      "    :Class Distribution: 33.3% for each of 3 classes.\n",
      "    :Creator: R.A. Fisher\n",
      "    :Donor: Michael Marshall (MARSHALL%PLU@io.arc.nasa.gov)\n",
      "    :Date: July, 1988\n",
      "\n",
      "This is a copy of UCI ML iris datasets.\n",
      "http://archive.ics.uci.edu/ml/datasets/Iris\n",
      "\n",
      "The famous Iris database, first used by Sir R.A Fisher\n",
      "\n",
      "This is perhaps the best known database to be found in the\n",
      "pattern recognition literature.  Fisher's paper is a classic in the field and\n",
      "is referenced frequently to this day.  (See Duda & Hart, for example.)  The\n",
      "data set contains 3 classes of 50 instances each, where each class refers to a\n",
      "type of iris plant.  One class is linearly separable from the other 2; the\n",
      "latter are NOT linearly separable from each other.\n",
      "\n",
      "References\n",
      "----------\n",
      "   - Fisher,R.A. \"The use of multiple measurements in taxonomic problems\"\n",
      "     Annual Eugenics, 7, Part II, 179-188 (1936); also in \"Contributions to\n",
      "     Mathematical Statistics\" (John Wiley, NY, 1950).\n",
      "   - Duda,R.O., & Hart,P.E. (1973) Pattern Classification and Scene Analysis.\n",
      "     (Q327.D83) John Wiley & Sons.  ISBN 0-471-22361-1.  See page 218.\n",
      "   - Dasarathy, B.V. (1980) \"Nosing Around the Neighborhood: A New System\n",
      "     Structure and Classification Rule for Recognition in Partially Exposed\n",
      "     Environments\".  IEEE Transactions on Pattern Analysis and Machine\n",
      "     Intelligence, Vol. PAMI-2, No. 1, 67-71.\n",
      "   - Gates, G.W. (1972) \"The Reduced Nearest Neighbor Rule\".  IEEE Transactions\n",
      "     on Information Theory, May 1972, 431-433.\n",
      "   - See also: 1988 MLC Proceedings, 54-64.  Cheeseman et al\"s AUTOCLASS II\n",
      "     conceptual clustering system finds 3 classes in the data.\n",
      "   - Many, many more ...\n",
      "\n"
     ]
    }
   ],
   "source": [
    "from sklearn.datasets import load_iris\n",
    "\n",
    "# 获取鸢尾花数据集\n",
    "iris = load_iris()\n",
    "print('鸢尾花数据集的返回值:\\n',iris)\n",
    "print('鸢尾花的特征:\\n',iris.data)\n",
    "print('鸢尾花的目标值:\\n',iris.target)\n",
    "print('鸢尾花特征的名字:\\n',iris.feature_names)\n",
    "print('鸢尾花目标值的名字:\\n',iris.target_names)\n",
    "print('鸢尾花的描述:\\n',iris.DESCR)"
   ]
  },
  {
   "cell_type": "code",
   "execution_count": 3,
   "metadata": {},
   "outputs": [],
   "source": [
    "import seaborn as sns\n",
    "import matplotlib.pyplot as plt\n",
    "import pandas as pd\n",
    "# 把数据转换成dataframe的格式\n",
    "iris_d = pd.DataFrame(iris.data,columns = ['Sepal_Length', 'Sepal_Width', 'Petal_Length', 'Petal_Width'])\n",
    "iris_d['Species'] = iris.target\n"
   ]
  },
  {
   "cell_type": "code",
   "execution_count": 28,
   "metadata": {},
   "outputs": [
    {
     "data": {
      "image/png": "[encoded data removed]",
      "text/plain": [
       "<Figure size 402.625x360 with 1 Axes>"
      ]
     },
     "metadata": {
      "needs_background": "light"
     },
     "output_type": "display_data"
    }
   ],
   "source": [
    "def plot_iris(iris,col1,col2):\n",
    "#     sns.lmplot() 里的 x, y 分别代表横纵坐标的列名,\n",
    "#     data= 是关联到数据集,\n",
    "#     hue=*代表按照 species即花的类别分类显示,\n",
    "#     fit_reg=是否进行线性拟合。\n",
    "    sns.lmplot(x = col1,y=col2,data=iris,hue='Species',fit_reg=False)\n",
    "    plt.xlabel(col1)\n",
    "    plt.ylabel(col2)\n",
    "    plt.show()\n",
    "\n",
    "plot_iris(iris_d,'Petal_Width','Sepal_Length')"
   ]
  },
  {
   "cell_type": "markdown",
   "metadata": {},
   "source": [
    "# 数据集的划分"
   ]
  },
  {
   "cell_type": "code",
   "execution_count": 32,
   "metadata": {},
   "outputs": [
    {
     "name": "stdout",
     "output_type": "stream",
     "text": [
      "x_train:\n",
      " (120, 4)\n"
     ]
    }
   ],
   "source": [
    "from sklearn.datasets import load_iris\n",
    "from sklearn.model_selection import train_test_split\n",
    "# 获取鸢尾花数据集\n",
    "iris = load_iris()\n",
    "# 对鸢尾花数据集进行分割\n",
    "# 随机数种子random_state 设置后随机数据将不会改变\n",
    "# 训练集的的特征值x_train,测试集的特征值x_test，训练集的目标值y_train,测试集的目标值y_test\n",
    "x_train,x_test,y_train,y_test = train_test_split(iris.data,iris.target,random_state=22,test_size=0.2)\n",
    "\n",
    "print(\"x_train:\\n\",x_train.shape)\n"
   ]
  },
  {
   "cell_type": "markdown",
   "metadata": {},
   "source": [
    "# 特征工程-特征预处理\n",
    "## 实现归一化"
   ]
  },
  {
   "cell_type": "code",
   "execution_count": 37,
   "metadata": {},
   "outputs": [],
   "source": [
    "from sklearn.datasets import load_iris\n",
    "from sklearn.model_selection import train_test_split\n",
    "from sklearn.preprocessing import MinMaxScaler,StandardScaler\n",
    "import pandas as pd\n",
    "dating = pd.read_csv(\"./data/dating.txt\")"
   ]
  },
  {
   "cell_type": "code",
   "execution_count": 36,
   "metadata": {},
   "outputs": [
    {
     "data": {
      "text/html": [
       "<div>\n",
       "<style scoped>\n",
       "    .dataframe tbody tr th:only-of-type {\n",
       "        vertical-align: middle;\n",
       "    }\n",
       "\n",
       "    .dataframe tbody tr th {\n",
       "        vertical-align: top;\n",
       "    }\n",
       "\n",
       "    .dataframe thead th {\n",
       "        text-align: right;\n",
       "    }\n",
       "</style>\n",
       "<table border=\"1\" class=\"dataframe\">\n",
       "  <thead>\n",
       "    <tr style=\"text-align: right;\">\n",
       "      <th></th>\n",
       "      <th>milage</th>\n",
       "      <th>Liters</th>\n",
       "      <th>Consumtime</th>\n",
       "      <th>target</th>\n",
       "    </tr>\n",
       "  </thead>\n",
       "  <tbody>\n",
       "    <tr>\n",
       "      <th>0</th>\n",
       "      <td>40920</td>\n",
       "      <td>8.326976</td>\n",
       "      <td>0.953952</td>\n",
       "      <td>3</td>\n",
       "    </tr>\n",
       "    <tr>\n",
       "      <th>1</th>\n",
       "      <td>14488</td>\n",
       "      <td>7.153469</td>\n",
       "      <td>1.673904</td>\n",
       "      <td>2</td>\n",
       "    </tr>\n",
       "    <tr>\n",
       "      <th>2</th>\n",
       "      <td>26052</td>\n",
       "      <td>1.441871</td>\n",
       "      <td>0.805124</td>\n",
       "      <td>1</td>\n",
       "    </tr>\n",
       "    <tr>\n",
       "      <th>3</th>\n",
       "      <td>75136</td>\n",
       "      <td>13.147394</td>\n",
       "      <td>0.428964</td>\n",
       "      <td>1</td>\n",
       "    </tr>\n",
       "    <tr>\n",
       "      <th>4</th>\n",
       "      <td>38344</td>\n",
       "      <td>1.669788</td>\n",
       "      <td>0.134296</td>\n",
       "      <td>1</td>\n",
       "    </tr>\n",
       "  </tbody>\n",
       "</table>\n",
       "</div>"
      ],
      "text/plain": [
       "   milage     Liters  Consumtime  target\n",
       "0   40920   8.326976    0.953952       3\n",
       "1   14488   7.153469    1.673904       2\n",
       "2   26052   1.441871    0.805124       1\n",
       "3   75136  13.147394    0.428964       1\n",
       "4   38344   1.669788    0.134296       1"
      ]
     },
     "execution_count": 36,
     "metadata": {},
     "output_type": "execute_result"
    }
   ],
   "source": [
    "dating.head()"
   ]
  },
  {
   "cell_type": "code",
   "execution_count": 38,
   "metadata": {},
   "outputs": [],
   "source": [
    "# 实例化api\n",
    "transfer = MinMaxScaler(feature_range=(0,10))\n"
   ]
  },
  {
   "cell_type": "code",
   "execution_count": 39,
   "metadata": {},
   "outputs": [
    {
     "data": {
      "text/plain": [
       "array([[4.48325354, 3.98051393, 5.62333529],\n",
       "       [1.58732593, 3.41954666, 9.87244159],\n",
       "       [2.85429426, 0.68925233, 4.74496285],\n",
       "       ...,\n",
       "       [2.91159489, 5.09102936, 5.10794925],\n",
       "       [5.27110975, 4.36654506, 4.29004799],\n",
       "       [4.7940793 , 3.76809097, 7.85718038]])"
      ]
     },
     "execution_count": 39,
     "metadata": {},
     "output_type": "execute_result"
    }
   ],
   "source": [
    "transfer.fit_transform(dating[['milage','Liters','Consumtime']])"
   ]
  },
  {
   "cell_type": "markdown",
   "metadata": {},
   "source": [
    "# 标准化"
   ]
  },
  {
   "cell_type": "code",
   "execution_count": 40,
   "metadata": {},
   "outputs": [],
   "source": [
    "# 实例化\n",
    "transfer = StandardScaler()"
   ]
  },
  {
   "cell_type": "code",
   "execution_count": 41,
   "metadata": {},
   "outputs": [],
   "source": [
    "# 执行转化\n",
    "data = transfer.fit_transform(dating[['milage','Liters','Consumtime']])"
   ]
  },
  {
   "cell_type": "code",
   "execution_count": 42,
   "metadata": {},
   "outputs": [
    {
     "name": "stdout",
     "output_type": "stream",
     "text": [
      "标准化后的数据\n",
      " [[ 0.33193158  0.41660188  0.24523407]\n",
      " [-0.87247784  0.13992897  1.69385734]\n",
      " [-0.34554872 -1.20667094 -0.05422437]\n",
      " ...\n",
      " [-0.32171752  0.96431572  0.06952649]\n",
      " [ 0.65959911  0.60699509 -0.20931587]\n",
      " [ 0.46120328  0.31183342  1.00680598]]\n"
     ]
    }
   ],
   "source": [
    "print(\"标准化后的数据\\n\",data)"
   ]
  },
  {
   "cell_type": "code",
   "execution_count": 43,
   "metadata": {},
   "outputs": [
    {
     "name": "stdout",
     "output_type": "stream",
     "text": [
      "均值 [3.36354210e+04 6.55996083e+00 8.32072997e-01]\n"
     ]
    }
   ],
   "source": [
    "print(\"均值\",transfer.mean_)"
   ]
  },
  {
   "cell_type": "code",
   "execution_count": 45,
   "metadata": {
    "scrolled": true
   },
   "outputs": [
    {
     "name": "stdout",
     "output_type": "stream",
     "text": [
      "方差 [4.81628039e+08 1.79902874e+01 2.46999554e-01]\n"
     ]
    }
   ],
   "source": [
    "print(\"方差\",transfer.var_)"
   ]
  },
  {
   "cell_type": "markdown",
   "metadata": {},
   "source": [
    "# 鸢尾花种类预测--流程实现"
   ]
  },
  {
   "cell_type": "code",
   "execution_count": 46,
   "metadata": {},
   "outputs": [],
   "source": [
    "from sklearn.datasets import load_iris\n",
    "from sklearn.model_selection import train_test_split\n",
    "from sklearn.preprocessing import StandardScaler\n",
    "from sklearn.neighbors import KNeighborsClassifier\n",
    "\n",
    "# 获取数据\n",
    "iris = load_iris()\n",
    "# 数据的基本处理\n",
    "# 数据切割\n",
    "x_train,x_test,y_train,y_test = train_test_split(iris.data,iris.target,test_size=0.2,random_state = 22)\n"
   ]
  },
  {
   "cell_type": "code",
   "execution_count": 48,
   "metadata": {},
   "outputs": [],
   "source": [
    "# 特征工程\n",
    "# 特征预处理\n",
    "transfer = StandardScaler()\n",
    "# 通过fit_transform转化为标准化数据\n",
    "x_train = transfer.fit_transform(x_train)\n",
    "x_test = transfer.transform(x_test)\n",
    "# 建立模型\n",
    "# 评估模型"
   ]
  },
  {
   "cell_type": "code",
   "execution_count": 49,
   "metadata": {},
   "outputs": [
    {
     "data": {
      "text/plain": [
       "KNeighborsClassifier(algorithm='auto', leaf_size=30, metric='minkowski',\n",
       "           metric_params=None, n_jobs=1, n_neighbors=3, p=2,\n",
       "           weights='uniform')"
      ]
     },
     "execution_count": 49,
     "metadata": {},
     "output_type": "execute_result"
    }
   ],
   "source": [
    "# 建立模型 KNN\n",
    "estimator = KNeighborsClassifier(n_neighbors=3)\n",
    "estimator.fit(x_train,y_train)"
   ]
  },
  {
   "cell_type": "code",
   "execution_count": 50,
   "metadata": {},
   "outputs": [],
   "source": [
    "# 评估模型\n",
    "pre = estimator.predict(x_test)"
   ]
  },
  {
   "cell_type": "code",
   "execution_count": 51,
   "metadata": {},
   "outputs": [
    {
     "name": "stdout",
     "output_type": "stream",
     "text": [
      "预测值与真实值\n",
      " [ True  True  True  True  True  True  True  True  True  True  True  True\n",
      "  True  True  True  True  True  True False  True  True  True  True  True\n",
      "  True  True  True  True  True  True]\n"
     ]
    }
   ],
   "source": [
    "print(\"预测值与真实值\\n\",pre==y_test)"
   ]
  },
  {
   "cell_type": "code",
   "execution_count": 52,
   "metadata": {},
   "outputs": [
    {
     "data": {
      "text/plain": [
       "0.9666666666666667"
      ]
     },
     "execution_count": 52,
     "metadata": {},
     "output_type": "execute_result"
    }
   ],
   "source": [
    "estimator.score(x_test,y_test)"
   ]
  },
  {
   "cell_type": "markdown",
   "metadata": {},
   "source": [
    "#  交叉验证，网格搜索\n",
    "\n",
    "- 交叉验证：将拿到的训练数据，分为训练和验证集。以下图为例：将数据分成4份，其中一份作为验证集。然后经过4次(组)的测试，每次都更换不同的验证集。即得到4组模型的结果，取平均值作为最终结果。又称4折交叉验证。\n",
    "\n",
    "- 交叉验证目的：为了让被评估的模型更加准确可信"
   ]
  },
  {
   "cell_type": "markdown",
   "metadata": {},
   "source": [
    "# 什么是网格搜索(Grid Search)\n",
    "- 通常情况下，有很多参数是需要手动指定的（如k-近邻算法中的K值），这种叫超参数。但是手动过程繁杂，所以需要对模型预设几种超参数组合。每组超参数都采用交叉验证来进行评估。最后选出最优参数组合建立模型。"
   ]
  },
  {
   "cell_type": "markdown",
   "metadata": {},
   "source": [
    "```\n",
    "sklearn.model_selection.GridSearchCV(estimator, param_grid=None,cv=None)\n",
    "对估计器的指定参数值进行详尽搜索\n",
    "estimator：估计器对象\n",
    "param_grid：估计器参数(dict){“n_neighbors”:[1,3,5]}\n",
    "cv：指定几折交叉验证\n",
    "fit：输入训练数据\n",
    "score：准确率\n",
    "结果分析：\n",
    "bestscore__:在交叉验证中验证的最好结果\n",
    "bestestimator：最好的参数模型\n",
    "cvresults:每次交叉验证后的验证集准确率结果和训练集准确率结果\n",
    "```"
   ]
  },
  {
   "cell_type": "markdown",
   "metadata": {},
   "source": [
    "## 案例1鸢尾花案例增加k值调优"
   ]
  },
  {
   "cell_type": "code",
   "execution_count": 7,
   "metadata": {},
   "outputs": [],
   "source": [
    "from sklearn.datasets import load_iris\n",
    "from sklearn.model_selection import train_test_split,GridSearchCV\n",
    "from sklearn.preprocessing import StandardScaler\n",
    "from sklearn.neighbors import KNeighborsClassifier\n",
    "# 获取数据\n",
    "iris = load_iris()"
   ]
  },
  {
   "cell_type": "code",
   "execution_count": 3,
   "metadata": {},
   "outputs": [],
   "source": [
    "# 数据的基本处理\n",
    "# 划分数据集\n",
    "x_train,x_test,y_train,y_test = train_test_split(iris.data,iris.target,random_state=22)"
   ]
  },
  {
   "cell_type": "code",
   "execution_count": 5,
   "metadata": {},
   "outputs": [],
   "source": [
    "# 特征工程\n",
    "# 特征预处理\n",
    "# 标准化\n",
    "transfer = StandardScaler()\n",
    "x_train = transfer.fit_transform(x_train)\n",
    "x_test = transfer.transform(x_test)"
   ]
  },
  {
   "cell_type": "code",
   "execution_count": 9,
   "metadata": {},
   "outputs": [
    {
     "data": {
      "text/plain": [
       "GridSearchCV(cv=3, error_score='raise',\n",
       "       estimator=KNeighborsClassifier(algorithm='auto', leaf_size=30, metric='minkowski',\n",
       "           metric_params=None, n_jobs=1, n_neighbors=5, p=2,\n",
       "           weights='uniform'),\n",
       "       fit_params=None, iid=True, n_jobs=1,\n",
       "       param_grid={'n_neighbors': [1, 3, 5, 7, 9]},\n",
       "       pre_dispatch='2*n_jobs', refit=True, return_train_score='warn',\n",
       "       scoring=None, verbose=0)"
      ]
     },
     "execution_count": 9,
     "metadata": {},
     "output_type": "execute_result"
    }
   ],
   "source": [
    "# 建立模型\n",
    "# KNN算法\n",
    "# 实例化预估类\n",
    "estimator = KNeighborsClassifier()\n",
    "# 模型选择与调优--网格搜索与验证\n",
    "# 估计参数对象字典\n",
    "param = {\"n_neighbors\":[1,3,5,7,9]}\n",
    "estimator = GridSearchCV(estimator,param_grid=param,cv=3)\n",
    "# 执行训练\n",
    "estimator.fit(x_train,y_train)"
   ]
  },
  {
   "cell_type": "code",
   "execution_count": 12,
   "metadata": {},
   "outputs": [],
   "source": [
    "# 模型评估\n",
    "pre = estimator.predict(x_test)"
   ]
  },
  {
   "cell_type": "code",
   "execution_count": 14,
   "metadata": {},
   "outputs": [
    {
     "name": "stdout",
     "output_type": "stream",
     "text": [
      "预测值与真实值\n",
      " [ True  True  True  True  True  True  True False  True  True  True  True\n",
      "  True  True  True  True  True  True False  True  True  True  True  True\n",
      "  True  True  True  True  True  True  True  True  True  True  True  True\n",
      "  True  True]\n"
     ]
    }
   ],
   "source": [
    "print(\"预测值与真实值\\n\",pre == y_test)"
   ]
  },
  {
   "cell_type": "code",
   "execution_count": 15,
   "metadata": {},
   "outputs": [],
   "source": [
    "score = estimator.score(x_test,y_test)"
   ]
  },
  {
   "cell_type": "code",
   "execution_count": 16,
   "metadata": {},
   "outputs": [
    {
     "data": {
      "text/plain": [
       "0.9473684210526315"
      ]
     },
     "execution_count": 16,
     "metadata": {},
     "output_type": "execute_result"
    }
   ],
   "source": [
    "score"
   ]
  },
  {
   "cell_type": "code",
   "execution_count": 17,
   "metadata": {
    "scrolled": true
   },
   "outputs": [
    {
     "name": "stdout",
     "output_type": "stream",
     "text": [
      "最优模型 KNeighborsClassifier(algorithm='auto', leaf_size=30, metric='minkowski',\n",
      "           metric_params=None, n_jobs=1, n_neighbors=5, p=2,\n",
      "           weights='uniform')\n"
     ]
    }
   ],
   "source": [
    "print(\"最优模型\",estimator.best_estimator_)"
   ]
  },
  {
   "cell_type": "code",
   "execution_count": 18,
   "metadata": {},
   "outputs": [
    {
     "name": "stdout",
     "output_type": "stream",
     "text": [
      "最优结果 0.9732142857142857\n"
     ]
    }
   ],
   "source": [
    "print(\"最优结果\",estimator.best_score_)"
   ]
  },
  {
   "cell_type": "code",
   "execution_count": 19,
   "metadata": {
    "collapsed": true
   },
   "outputs": [
    {
     "name": "stderr",
     "output_type": "stream",
     "text": [
      "C:\\Users\\Administrator\\Anaconda3\\lib\\site-packages\\sklearn\\utils\\deprecation.py:122: FutureWarning: You are accessing a training score ('mean_train_score'), which will not be available by default any more in 0.21. If you need training scores, please set return_train_score=True\n",
      "  warnings.warn(*warn_args, **warn_kwargs)\n",
      "C:\\Users\\Administrator\\Anaconda3\\lib\\site-packages\\sklearn\\utils\\deprecation.py:122: FutureWarning: You are accessing a training score ('split0_train_score'), which will not be available by default any more in 0.21. If you need training scores, please set return_train_score=True\n",
      "  warnings.warn(*warn_args, **warn_kwargs)\n",
      "C:\\Users\\Administrator\\Anaconda3\\lib\\site-packages\\sklearn\\utils\\deprecation.py:122: FutureWarning: You are accessing a training score ('split1_train_score'), which will not be available by default any more in 0.21. If you need training scores, please set return_train_score=True\n",
      "  warnings.warn(*warn_args, **warn_kwargs)\n",
      "C:\\Users\\Administrator\\Anaconda3\\lib\\site-packages\\sklearn\\utils\\deprecation.py:122: FutureWarning: You are accessing a training score ('split2_train_score'), which will not be available by default any more in 0.21. If you need training scores, please set return_train_score=True\n",
      "  warnings.warn(*warn_args, **warn_kwargs)\n",
      "C:\\Users\\Administrator\\Anaconda3\\lib\\site-packages\\sklearn\\utils\\deprecation.py:122: FutureWarning: You are accessing a training score ('std_train_score'), which will not be available by default any more in 0.21. If you need training scores, please set return_train_score=True\n",
      "  warnings.warn(*warn_args, **warn_kwargs)\n"
     ]
    },
    {
     "data": {
      "text/plain": [
       "{'mean_fit_time': array([0.00600147, 0.00100001, 0.00033259, 0.00100048, 0.00066686]),\n",
       " 'mean_score_time': array([0.00266862, 0.00199922, 0.00233483, 0.00166686, 0.00133244]),\n",
       " 'mean_test_score': array([0.96428571, 0.94642857, 0.97321429, 0.97321429, 0.94642857]),\n",
       " 'mean_train_score': array([1.        , 0.95981982, 0.96876877, 0.9596997 , 0.96870871]),\n",
       " 'param_n_neighbors': masked_array(data=[1, 3, 5, 7, 9],\n",
       "              mask=[False, False, False, False, False],\n",
       "        fill_value='?',\n",
       "             dtype=object),\n",
       " 'params': [{'n_neighbors': 1},\n",
       "  {'n_neighbors': 3},\n",
       "  {'n_neighbors': 5},\n",
       "  {'n_neighbors': 7},\n",
       "  {'n_neighbors': 9}],\n",
       " 'rank_test_score': array([3, 4, 1, 1, 4]),\n",
       " 'split0_test_score': array([0.97368421, 0.97368421, 0.97368421, 0.97368421, 0.94736842]),\n",
       " 'split0_train_score': array([1.        , 0.95945946, 0.97297297, 0.93243243, 0.95945946]),\n",
       " 'split1_test_score': array([0.97297297, 0.97297297, 0.97297297, 0.97297297, 0.97297297]),\n",
       " 'split1_train_score': array([1.        , 0.96      , 0.97333333, 0.97333333, 0.97333333]),\n",
       " 'split2_test_score': array([0.94594595, 0.89189189, 0.97297297, 0.97297297, 0.91891892]),\n",
       " 'split2_train_score': array([1.        , 0.96      , 0.96      , 0.97333333, 0.97333333]),\n",
       " 'std_fit_time': array([7.07207261e-03, 1.58547857e-06, 4.70358829e-04, 6.83651389e-07,\n",
       "        4.71538951e-04]),\n",
       " 'std_score_time': array([0.00170133, 0.00081527, 0.00047171, 0.00047143, 0.00046991]),\n",
       " 'std_test_score': array([0.01288472, 0.03830641, 0.00033675, 0.00033675, 0.02197906]),\n",
       " 'std_train_score': array([0.        , 0.00025481, 0.0062022 , 0.01928087, 0.00654021])}"
      ]
     },
     "execution_count": 19,
     "metadata": {},
     "output_type": "execute_result"
    }
   ],
   "source": [
    "# 每次交叉验证后的验证集准确率结果和训练集准确率结果\n",
    "estimator.cv_results_"
   ]
  },
  {
   "cell_type": "markdown",
   "metadata": {},
   "source": [
    "## 案例2：预测facebook签到位置"
   ]
  },
  {
   "cell_type": "code",
   "execution_count": 2,
   "metadata": {},
   "outputs": [],
   "source": [
    "import pandas as pd\n",
    "from sklearn.model_selection import train_test_split,GridSearchCV\n",
    "from sklearn.preprocessing import StandardScaler\n",
    "from sklearn.neighbors import KNeighborsClassifier\n",
    "# 获取数据\n",
    "facebook = pd.read_csv(\"./data/FBlocation/train.csv\")"
   ]
  },
  {
   "cell_type": "code",
   "execution_count": 3,
   "metadata": {},
   "outputs": [
    {
     "name": "stdout",
     "output_type": "stream",
     "text": [
      "(29118021, 6)\n"
     ]
    }
   ],
   "source": [
    "# 数据的基本处理,根据分析，可能跟时间，星期数有关\n",
    "print(facebook.shape)\n",
    "# 缩小数据范围\n",
    "data = facebook.query(\"x>2 & x<2.5 & y>2 & y<2.5\")\n"
   ]
  },
  {
   "cell_type": "code",
   "execution_count": 26,
   "metadata": {},
   "outputs": [
    {
     "data": {
      "text/html": [
       "<div>\n",
       "<style scoped>\n",
       "    .dataframe tbody tr th:only-of-type {\n",
       "        vertical-align: middle;\n",
       "    }\n",
       "\n",
       "    .dataframe tbody tr th {\n",
       "        vertical-align: top;\n",
       "    }\n",
       "\n",
       "    .dataframe thead th {\n",
       "        text-align: right;\n",
       "    }\n",
       "</style>\n",
       "<table border=\"1\" class=\"dataframe\">\n",
       "  <thead>\n",
       "    <tr style=\"text-align: right;\">\n",
       "      <th></th>\n",
       "      <th>row_id</th>\n",
       "      <th>x</th>\n",
       "      <th>y</th>\n",
       "      <th>accuracy</th>\n",
       "      <th>time</th>\n",
       "      <th>place_id</th>\n",
       "    </tr>\n",
       "  </thead>\n",
       "  <tbody>\n",
       "    <tr>\n",
       "      <th>163</th>\n",
       "      <td>163</td>\n",
       "      <td>2.1663</td>\n",
       "      <td>2.3755</td>\n",
       "      <td>84</td>\n",
       "      <td>669737</td>\n",
       "      <td>3869813743</td>\n",
       "    </tr>\n",
       "    <tr>\n",
       "      <th>310</th>\n",
       "      <td>310</td>\n",
       "      <td>2.3695</td>\n",
       "      <td>2.2034</td>\n",
       "      <td>3</td>\n",
       "      <td>234719</td>\n",
       "      <td>2636621520</td>\n",
       "    </tr>\n",
       "    <tr>\n",
       "      <th>658</th>\n",
       "      <td>658</td>\n",
       "      <td>2.3236</td>\n",
       "      <td>2.1768</td>\n",
       "      <td>66</td>\n",
       "      <td>502343</td>\n",
       "      <td>7877745055</td>\n",
       "    </tr>\n",
       "    <tr>\n",
       "      <th>1368</th>\n",
       "      <td>1368</td>\n",
       "      <td>2.2613</td>\n",
       "      <td>2.3392</td>\n",
       "      <td>73</td>\n",
       "      <td>319822</td>\n",
       "      <td>9775192577</td>\n",
       "    </tr>\n",
       "    <tr>\n",
       "      <th>1627</th>\n",
       "      <td>1627</td>\n",
       "      <td>2.3331</td>\n",
       "      <td>2.0011</td>\n",
       "      <td>66</td>\n",
       "      <td>595084</td>\n",
       "      <td>6731326909</td>\n",
       "    </tr>\n",
       "  </tbody>\n",
       "</table>\n",
       "</div>"
      ],
      "text/plain": [
       "      row_id       x       y  accuracy    time    place_id\n",
       "163      163  2.1663  2.3755        84  669737  3869813743\n",
       "310      310  2.3695  2.2034         3  234719  2636621520\n",
       "658      658  2.3236  2.1768        66  502343  7877745055\n",
       "1368    1368  2.2613  2.3392        73  319822  9775192577\n",
       "1627    1627  2.3331  2.0011        66  595084  6731326909"
      ]
     },
     "execution_count": 26,
     "metadata": {},
     "output_type": "execute_result"
    }
   ],
   "source": [
    "data.head()"
   ]
  },
  {
   "cell_type": "code",
   "execution_count": 4,
   "metadata": {},
   "outputs": [],
   "source": [
    "# 获取时间特征\n",
    "time = pd.to_datetime(data['time'],unit=\"s\")\n"
   ]
  },
  {
   "cell_type": "code",
   "execution_count": 5,
   "metadata": {},
   "outputs": [],
   "source": [
    "# 转化为pd 日期时间的格式\n",
    "time = pd.DatetimeIndex(time)"
   ]
  },
  {
   "cell_type": "code",
   "execution_count": 30,
   "metadata": {},
   "outputs": [
    {
     "data": {
      "text/plain": [
       "DatetimeIndex(['1970-01-08 18:02:17', '1970-01-03 17:11:59',\n",
       "               '1970-01-06 19:32:23', '1970-01-04 16:50:22',\n",
       "               '1970-01-07 21:18:04', '1970-01-02 03:14:59',\n",
       "               '1970-01-07 03:45:16', '1970-01-05 03:28:43',\n",
       "               '1970-01-01 18:59:03', '1970-01-09 07:50:12',\n",
       "               ...\n",
       "               '1970-01-09 20:03:34', '1970-01-08 09:26:50',\n",
       "               '1970-01-07 04:45:59', '1970-01-07 22:36:18',\n",
       "               '1970-01-06 23:29:43', '1970-01-03 12:31:26',\n",
       "               '1970-01-04 15:19:20', '1970-01-01 20:49:14',\n",
       "               '1970-01-03 09:17:37', '1970-01-02 20:34:43'],\n",
       "              dtype='datetime64[ns]', name='time', length=71664, freq=None)"
      ]
     },
     "execution_count": 30,
     "metadata": {},
     "output_type": "execute_result"
    }
   ],
   "source": [
    "time"
   ]
  },
  {
   "cell_type": "code",
   "execution_count": 6,
   "metadata": {
    "collapsed": true
   },
   "outputs": [
    {
     "name": "stderr",
     "output_type": "stream",
     "text": [
      "C:\\Users\\Administrator\\Anaconda3\\lib\\site-packages\\ipykernel_launcher.py:2: SettingWithCopyWarning: \n",
      "A value is trying to be set on a copy of a slice from a DataFrame.\n",
      "Try using .loc[row_indexer,col_indexer] = value instead\n",
      "\n",
      "See the caveats in the documentation: http://pandas.pydata.org/pandas-docs/stable/indexing.html#indexing-view-versus-copy\n",
      "  \n"
     ]
    }
   ],
   "source": [
    "# 添加星期\n",
    "data['weekday'] = time.weekday"
   ]
  },
  {
   "cell_type": "code",
   "execution_count": 33,
   "metadata": {},
   "outputs": [
    {
     "data": {
      "text/html": [
       "<div>\n",
       "<style scoped>\n",
       "    .dataframe tbody tr th:only-of-type {\n",
       "        vertical-align: middle;\n",
       "    }\n",
       "\n",
       "    .dataframe tbody tr th {\n",
       "        vertical-align: top;\n",
       "    }\n",
       "\n",
       "    .dataframe thead th {\n",
       "        text-align: right;\n",
       "    }\n",
       "</style>\n",
       "<table border=\"1\" class=\"dataframe\">\n",
       "  <thead>\n",
       "    <tr style=\"text-align: right;\">\n",
       "      <th></th>\n",
       "      <th>row_id</th>\n",
       "      <th>x</th>\n",
       "      <th>y</th>\n",
       "      <th>accuracy</th>\n",
       "      <th>time</th>\n",
       "      <th>place_id</th>\n",
       "      <th>weekday</th>\n",
       "    </tr>\n",
       "  </thead>\n",
       "  <tbody>\n",
       "    <tr>\n",
       "      <th>163</th>\n",
       "      <td>163</td>\n",
       "      <td>2.1663</td>\n",
       "      <td>2.3755</td>\n",
       "      <td>84</td>\n",
       "      <td>669737</td>\n",
       "      <td>3869813743</td>\n",
       "      <td>3</td>\n",
       "    </tr>\n",
       "    <tr>\n",
       "      <th>310</th>\n",
       "      <td>310</td>\n",
       "      <td>2.3695</td>\n",
       "      <td>2.2034</td>\n",
       "      <td>3</td>\n",
       "      <td>234719</td>\n",
       "      <td>2636621520</td>\n",
       "      <td>5</td>\n",
       "    </tr>\n",
       "    <tr>\n",
       "      <th>658</th>\n",
       "      <td>658</td>\n",
       "      <td>2.3236</td>\n",
       "      <td>2.1768</td>\n",
       "      <td>66</td>\n",
       "      <td>502343</td>\n",
       "      <td>7877745055</td>\n",
       "      <td>1</td>\n",
       "    </tr>\n",
       "    <tr>\n",
       "      <th>1368</th>\n",
       "      <td>1368</td>\n",
       "      <td>2.2613</td>\n",
       "      <td>2.3392</td>\n",
       "      <td>73</td>\n",
       "      <td>319822</td>\n",
       "      <td>9775192577</td>\n",
       "      <td>6</td>\n",
       "    </tr>\n",
       "    <tr>\n",
       "      <th>1627</th>\n",
       "      <td>1627</td>\n",
       "      <td>2.3331</td>\n",
       "      <td>2.0011</td>\n",
       "      <td>66</td>\n",
       "      <td>595084</td>\n",
       "      <td>6731326909</td>\n",
       "      <td>2</td>\n",
       "    </tr>\n",
       "  </tbody>\n",
       "</table>\n",
       "</div>"
      ],
      "text/plain": [
       "      row_id       x       y  accuracy    time    place_id  weekday\n",
       "163      163  2.1663  2.3755        84  669737  3869813743        3\n",
       "310      310  2.3695  2.2034         3  234719  2636621520        5\n",
       "658      658  2.3236  2.1768        66  502343  7877745055        1\n",
       "1368    1368  2.2613  2.3392        73  319822  9775192577        6\n",
       "1627    1627  2.3331  2.0011        66  595084  6731326909        2"
      ]
     },
     "execution_count": 33,
     "metadata": {},
     "output_type": "execute_result"
    }
   ],
   "source": [
    "data.head()"
   ]
  },
  {
   "cell_type": "code",
   "execution_count": 7,
   "metadata": {
    "collapsed": true
   },
   "outputs": [
    {
     "name": "stderr",
     "output_type": "stream",
     "text": [
      "C:\\Users\\Administrator\\Anaconda3\\lib\\site-packages\\ipykernel_launcher.py:2: SettingWithCopyWarning: \n",
      "A value is trying to be set on a copy of a slice from a DataFrame.\n",
      "Try using .loc[row_indexer,col_indexer] = value instead\n",
      "\n",
      "See the caveats in the documentation: http://pandas.pydata.org/pandas-docs/stable/indexing.html#indexing-view-versus-copy\n",
      "  \n"
     ]
    }
   ],
   "source": [
    "# 添加小时数\n",
    "data['hour'] = time.hour"
   ]
  },
  {
   "cell_type": "code",
   "execution_count": 35,
   "metadata": {},
   "outputs": [
    {
     "data": {
      "text/html": [
       "<div>\n",
       "<style scoped>\n",
       "    .dataframe tbody tr th:only-of-type {\n",
       "        vertical-align: middle;\n",
       "    }\n",
       "\n",
       "    .dataframe tbody tr th {\n",
       "        vertical-align: top;\n",
       "    }\n",
       "\n",
       "    .dataframe thead th {\n",
       "        text-align: right;\n",
       "    }\n",
       "</style>\n",
       "<table border=\"1\" class=\"dataframe\">\n",
       "  <thead>\n",
       "    <tr style=\"text-align: right;\">\n",
       "      <th></th>\n",
       "      <th>row_id</th>\n",
       "      <th>x</th>\n",
       "      <th>y</th>\n",
       "      <th>accuracy</th>\n",
       "      <th>time</th>\n",
       "      <th>place_id</th>\n",
       "      <th>weekday</th>\n",
       "      <th>hour</th>\n",
       "    </tr>\n",
       "  </thead>\n",
       "  <tbody>\n",
       "    <tr>\n",
       "      <th>163</th>\n",
       "      <td>163</td>\n",
       "      <td>2.1663</td>\n",
       "      <td>2.3755</td>\n",
       "      <td>84</td>\n",
       "      <td>669737</td>\n",
       "      <td>3869813743</td>\n",
       "      <td>3</td>\n",
       "      <td>18</td>\n",
       "    </tr>\n",
       "    <tr>\n",
       "      <th>310</th>\n",
       "      <td>310</td>\n",
       "      <td>2.3695</td>\n",
       "      <td>2.2034</td>\n",
       "      <td>3</td>\n",
       "      <td>234719</td>\n",
       "      <td>2636621520</td>\n",
       "      <td>5</td>\n",
       "      <td>17</td>\n",
       "    </tr>\n",
       "    <tr>\n",
       "      <th>658</th>\n",
       "      <td>658</td>\n",
       "      <td>2.3236</td>\n",
       "      <td>2.1768</td>\n",
       "      <td>66</td>\n",
       "      <td>502343</td>\n",
       "      <td>7877745055</td>\n",
       "      <td>1</td>\n",
       "      <td>19</td>\n",
       "    </tr>\n",
       "    <tr>\n",
       "      <th>1368</th>\n",
       "      <td>1368</td>\n",
       "      <td>2.2613</td>\n",
       "      <td>2.3392</td>\n",
       "      <td>73</td>\n",
       "      <td>319822</td>\n",
       "      <td>9775192577</td>\n",
       "      <td>6</td>\n",
       "      <td>16</td>\n",
       "    </tr>\n",
       "    <tr>\n",
       "      <th>1627</th>\n",
       "      <td>1627</td>\n",
       "      <td>2.3331</td>\n",
       "      <td>2.0011</td>\n",
       "      <td>66</td>\n",
       "      <td>595084</td>\n",
       "      <td>6731326909</td>\n",
       "      <td>2</td>\n",
       "      <td>21</td>\n",
       "    </tr>\n",
       "  </tbody>\n",
       "</table>\n",
       "</div>"
      ],
      "text/plain": [
       "      row_id       x       y  accuracy    time    place_id  weekday  hour\n",
       "163      163  2.1663  2.3755        84  669737  3869813743        3    18\n",
       "310      310  2.3695  2.2034         3  234719  2636621520        5    17\n",
       "658      658  2.3236  2.1768        66  502343  7877745055        1    19\n",
       "1368    1368  2.2613  2.3392        73  319822  9775192577        6    16\n",
       "1627    1627  2.3331  2.0011        66  595084  6731326909        2    21"
      ]
     },
     "execution_count": 35,
     "metadata": {},
     "output_type": "execute_result"
    }
   ],
   "source": [
    "data.head()"
   ]
  },
  {
   "cell_type": "code",
   "execution_count": 9,
   "metadata": {
    "collapsed": true
   },
   "outputs": [
    {
     "name": "stderr",
     "output_type": "stream",
     "text": [
      "C:\\Users\\Administrator\\Anaconda3\\lib\\site-packages\\ipykernel_launcher.py:2: SettingWithCopyWarning: \n",
      "A value is trying to be set on a copy of a slice from a DataFrame.\n",
      "Try using .loc[row_indexer,col_indexer] = value instead\n",
      "\n",
      "See the caveats in the documentation: http://pandas.pydata.org/pandas-docs/stable/indexing.html#indexing-view-versus-copy\n",
      "  \n"
     ]
    }
   ],
   "source": [
    "# 添加 天数\n",
    "data[\"day\"] = time.day"
   ]
  },
  {
   "cell_type": "code",
   "execution_count": 10,
   "metadata": {},
   "outputs": [
    {
     "data": {
      "text/html": [
       "<div>\n",
       "<style scoped>\n",
       "    .dataframe tbody tr th:only-of-type {\n",
       "        vertical-align: middle;\n",
       "    }\n",
       "\n",
       "    .dataframe tbody tr th {\n",
       "        vertical-align: top;\n",
       "    }\n",
       "\n",
       "    .dataframe thead th {\n",
       "        text-align: right;\n",
       "    }\n",
       "</style>\n",
       "<table border=\"1\" class=\"dataframe\">\n",
       "  <thead>\n",
       "    <tr style=\"text-align: right;\">\n",
       "      <th></th>\n",
       "      <th>row_id</th>\n",
       "      <th>x</th>\n",
       "      <th>y</th>\n",
       "      <th>accuracy</th>\n",
       "      <th>time</th>\n",
       "      <th>place_id</th>\n",
       "      <th>weekday</th>\n",
       "      <th>hour</th>\n",
       "      <th>day</th>\n",
       "    </tr>\n",
       "  </thead>\n",
       "  <tbody>\n",
       "    <tr>\n",
       "      <th>163</th>\n",
       "      <td>163</td>\n",
       "      <td>2.1663</td>\n",
       "      <td>2.3755</td>\n",
       "      <td>84</td>\n",
       "      <td>669737</td>\n",
       "      <td>3869813743</td>\n",
       "      <td>3</td>\n",
       "      <td>18</td>\n",
       "      <td>8</td>\n",
       "    </tr>\n",
       "    <tr>\n",
       "      <th>310</th>\n",
       "      <td>310</td>\n",
       "      <td>2.3695</td>\n",
       "      <td>2.2034</td>\n",
       "      <td>3</td>\n",
       "      <td>234719</td>\n",
       "      <td>2636621520</td>\n",
       "      <td>5</td>\n",
       "      <td>17</td>\n",
       "      <td>3</td>\n",
       "    </tr>\n",
       "    <tr>\n",
       "      <th>658</th>\n",
       "      <td>658</td>\n",
       "      <td>2.3236</td>\n",
       "      <td>2.1768</td>\n",
       "      <td>66</td>\n",
       "      <td>502343</td>\n",
       "      <td>7877745055</td>\n",
       "      <td>1</td>\n",
       "      <td>19</td>\n",
       "      <td>6</td>\n",
       "    </tr>\n",
       "    <tr>\n",
       "      <th>1368</th>\n",
       "      <td>1368</td>\n",
       "      <td>2.2613</td>\n",
       "      <td>2.3392</td>\n",
       "      <td>73</td>\n",
       "      <td>319822</td>\n",
       "      <td>9775192577</td>\n",
       "      <td>6</td>\n",
       "      <td>16</td>\n",
       "      <td>4</td>\n",
       "    </tr>\n",
       "    <tr>\n",
       "      <th>1627</th>\n",
       "      <td>1627</td>\n",
       "      <td>2.3331</td>\n",
       "      <td>2.0011</td>\n",
       "      <td>66</td>\n",
       "      <td>595084</td>\n",
       "      <td>6731326909</td>\n",
       "      <td>2</td>\n",
       "      <td>21</td>\n",
       "      <td>7</td>\n",
       "    </tr>\n",
       "  </tbody>\n",
       "</table>\n",
       "</div>"
      ],
      "text/plain": [
       "      row_id       x       y  accuracy    time    place_id  weekday  hour  day\n",
       "163      163  2.1663  2.3755        84  669737  3869813743        3    18    8\n",
       "310      310  2.3695  2.2034         3  234719  2636621520        5    17    3\n",
       "658      658  2.3236  2.1768        66  502343  7877745055        1    19    6\n",
       "1368    1368  2.2613  2.3392        73  319822  9775192577        6    16    4\n",
       "1627    1627  2.3331  2.0011        66  595084  6731326909        2    21    7"
      ]
     },
     "execution_count": 10,
     "metadata": {},
     "output_type": "execute_result"
    }
   ],
   "source": [
    "data.head()"
   ]
  },
  {
   "cell_type": "code",
   "execution_count": 11,
   "metadata": {},
   "outputs": [],
   "source": [
    "# 去掉签到较少的地方\n",
    "place_count = data.groupby(\"place_id\").count()['x']\n",
    "place_count = place_count[place_count > 3]\n",
    "data = data[data[\"place_id\"].isin(place_count.index)]\n"
   ]
  },
  {
   "cell_type": "code",
   "execution_count": 12,
   "metadata": {},
   "outputs": [
    {
     "data": {
      "text/html": [
       "<div>\n",
       "<style scoped>\n",
       "    .dataframe tbody tr th:only-of-type {\n",
       "        vertical-align: middle;\n",
       "    }\n",
       "\n",
       "    .dataframe tbody tr th {\n",
       "        vertical-align: top;\n",
       "    }\n",
       "\n",
       "    .dataframe thead th {\n",
       "        text-align: right;\n",
       "    }\n",
       "</style>\n",
       "<table border=\"1\" class=\"dataframe\">\n",
       "  <thead>\n",
       "    <tr style=\"text-align: right;\">\n",
       "      <th></th>\n",
       "      <th>row_id</th>\n",
       "      <th>x</th>\n",
       "      <th>y</th>\n",
       "      <th>accuracy</th>\n",
       "      <th>time</th>\n",
       "      <th>place_id</th>\n",
       "      <th>weekday</th>\n",
       "      <th>hour</th>\n",
       "      <th>day</th>\n",
       "    </tr>\n",
       "  </thead>\n",
       "  <tbody>\n",
       "    <tr>\n",
       "      <th>163</th>\n",
       "      <td>163</td>\n",
       "      <td>2.1663</td>\n",
       "      <td>2.3755</td>\n",
       "      <td>84</td>\n",
       "      <td>669737</td>\n",
       "      <td>3869813743</td>\n",
       "      <td>3</td>\n",
       "      <td>18</td>\n",
       "      <td>8</td>\n",
       "    </tr>\n",
       "    <tr>\n",
       "      <th>310</th>\n",
       "      <td>310</td>\n",
       "      <td>2.3695</td>\n",
       "      <td>2.2034</td>\n",
       "      <td>3</td>\n",
       "      <td>234719</td>\n",
       "      <td>2636621520</td>\n",
       "      <td>5</td>\n",
       "      <td>17</td>\n",
       "      <td>3</td>\n",
       "    </tr>\n",
       "    <tr>\n",
       "      <th>658</th>\n",
       "      <td>658</td>\n",
       "      <td>2.3236</td>\n",
       "      <td>2.1768</td>\n",
       "      <td>66</td>\n",
       "      <td>502343</td>\n",
       "      <td>7877745055</td>\n",
       "      <td>1</td>\n",
       "      <td>19</td>\n",
       "      <td>6</td>\n",
       "    </tr>\n",
       "    <tr>\n",
       "      <th>1368</th>\n",
       "      <td>1368</td>\n",
       "      <td>2.2613</td>\n",
       "      <td>2.3392</td>\n",
       "      <td>73</td>\n",
       "      <td>319822</td>\n",
       "      <td>9775192577</td>\n",
       "      <td>6</td>\n",
       "      <td>16</td>\n",
       "      <td>4</td>\n",
       "    </tr>\n",
       "    <tr>\n",
       "      <th>1627</th>\n",
       "      <td>1627</td>\n",
       "      <td>2.3331</td>\n",
       "      <td>2.0011</td>\n",
       "      <td>66</td>\n",
       "      <td>595084</td>\n",
       "      <td>6731326909</td>\n",
       "      <td>2</td>\n",
       "      <td>21</td>\n",
       "      <td>7</td>\n",
       "    </tr>\n",
       "  </tbody>\n",
       "</table>\n",
       "</div>"
      ],
      "text/plain": [
       "      row_id       x       y  accuracy    time    place_id  weekday  hour  day\n",
       "163      163  2.1663  2.3755        84  669737  3869813743        3    18    8\n",
       "310      310  2.3695  2.2034         3  234719  2636621520        5    17    3\n",
       "658      658  2.3236  2.1768        66  502343  7877745055        1    19    6\n",
       "1368    1368  2.2613  2.3392        73  319822  9775192577        6    16    4\n",
       "1627    1627  2.3331  2.0011        66  595084  6731326909        2    21    7"
      ]
     },
     "execution_count": 12,
     "metadata": {},
     "output_type": "execute_result"
    }
   ],
   "source": [
    "data.head()"
   ]
  },
  {
   "cell_type": "code",
   "execution_count": 13,
   "metadata": {},
   "outputs": [],
   "source": [
    "# 确定特征值和目标值\n",
    "x = data[['x','y','accuracy','weekday','hour','day']]\n",
    "y = data['place_id']\n"
   ]
  },
  {
   "cell_type": "code",
   "execution_count": 15,
   "metadata": {},
   "outputs": [],
   "source": [
    "# 划分数据集\n",
    "x_train,x_test,y_train,y_test = train_test_split(x,y,test_size=0.2,random_state=22)"
   ]
  },
  {
   "cell_type": "code",
   "execution_count": 16,
   "metadata": {},
   "outputs": [],
   "source": [
    "# 特征工程\n",
    "# 特征预处理\n",
    "# 标准化\n",
    "transfer = StandardScaler()\n",
    "x_train = transfer.fit_transform(x_train)\n",
    "x_test = transfer.transform(x_test)"
   ]
  },
  {
   "cell_type": "code",
   "execution_count": 18,
   "metadata": {},
   "outputs": [
    {
     "name": "stderr",
     "output_type": "stream",
     "text": [
      "C:\\Users\\Administrator\\Anaconda3\\lib\\site-packages\\sklearn\\model_selection\\_split.py:605: Warning: The least populated class in y has only 1 members, which is too few. The minimum number of members in any class cannot be less than n_splits=4.\n",
      "  % (min_groups, self.n_splits)), Warning)\n"
     ]
    },
    {
     "data": {
      "text/plain": [
       "GridSearchCV(cv=4, error_score='raise',\n",
       "       estimator=KNeighborsClassifier(algorithm='auto', leaf_size=30, metric='minkowski',\n",
       "           metric_params=None, n_jobs=1, n_neighbors=3, p=2,\n",
       "           weights='uniform'),\n",
       "       fit_params=None, iid=True, n_jobs=1,\n",
       "       param_grid={'n_neighbors': [1, 3, 5, 7]}, pre_dispatch='2*n_jobs',\n",
       "       refit=True, return_train_score='warn', scoring=None, verbose=0)"
      ]
     },
     "execution_count": 18,
     "metadata": {},
     "output_type": "execute_result"
    }
   ],
   "source": [
    "# 模型建立，机器学习 KNN + CV\n",
    "# 网格搜索，交叉验证\n",
    "estimator = KNeighborsClassifier(n_neighbors=3)\n",
    "param = {'n_neighbors':[1,3,5,7]}\n",
    "estimator = GridSearchCV(estimator,param_grid=param,cv=4)\n",
    "estimator.fit(x_train,y_train)"
   ]
  },
  {
   "cell_type": "code",
   "execution_count": 19,
   "metadata": {},
   "outputs": [
    {
     "data": {
      "text/plain": [
       "0.36952284703674293"
      ]
     },
     "execution_count": 19,
     "metadata": {},
     "output_type": "execute_result"
    }
   ],
   "source": [
    "# 模型评估\n",
    "estimator.score(x_test,y_test)"
   ]
  },
  {
   "cell_type": "code",
   "execution_count": 20,
   "metadata": {},
   "outputs": [
    {
     "data": {
      "text/plain": [
       "KNeighborsClassifier(algorithm='auto', leaf_size=30, metric='minkowski',\n",
       "           metric_params=None, n_jobs=1, n_neighbors=1, p=2,\n",
       "           weights='uniform')"
      ]
     },
     "execution_count": 20,
     "metadata": {},
     "output_type": "execute_result"
    }
   ],
   "source": [
    "# 最优模型\n",
    "estimator.best_estimator_"
   ]
  },
  {
   "cell_type": "code",
   "execution_count": 21,
   "metadata": {
    "collapsed": true
   },
   "outputs": [
    {
     "name": "stderr",
     "output_type": "stream",
     "text": [
      "C:\\Users\\Administrator\\Anaconda3\\lib\\site-packages\\sklearn\\utils\\deprecation.py:122: FutureWarning: You are accessing a training score ('mean_train_score'), which will not be available by default any more in 0.21. If you need training scores, please set return_train_score=True\n",
      "  warnings.warn(*warn_args, **warn_kwargs)\n",
      "C:\\Users\\Administrator\\Anaconda3\\lib\\site-packages\\sklearn\\utils\\deprecation.py:122: FutureWarning: You are accessing a training score ('split0_train_score'), which will not be available by default any more in 0.21. If you need training scores, please set return_train_score=True\n",
      "  warnings.warn(*warn_args, **warn_kwargs)\n",
      "C:\\Users\\Administrator\\Anaconda3\\lib\\site-packages\\sklearn\\utils\\deprecation.py:122: FutureWarning: You are accessing a training score ('split1_train_score'), which will not be available by default any more in 0.21. If you need training scores, please set return_train_score=True\n",
      "  warnings.warn(*warn_args, **warn_kwargs)\n",
      "C:\\Users\\Administrator\\Anaconda3\\lib\\site-packages\\sklearn\\utils\\deprecation.py:122: FutureWarning: You are accessing a training score ('split2_train_score'), which will not be available by default any more in 0.21. If you need training scores, please set return_train_score=True\n",
      "  warnings.warn(*warn_args, **warn_kwargs)\n",
      "C:\\Users\\Administrator\\Anaconda3\\lib\\site-packages\\sklearn\\utils\\deprecation.py:122: FutureWarning: You are accessing a training score ('split3_train_score'), which will not be available by default any more in 0.21. If you need training scores, please set return_train_score=True\n",
      "  warnings.warn(*warn_args, **warn_kwargs)\n",
      "C:\\Users\\Administrator\\Anaconda3\\lib\\site-packages\\sklearn\\utils\\deprecation.py:122: FutureWarning: You are accessing a training score ('std_train_score'), which will not be available by default any more in 0.21. If you need training scores, please set return_train_score=True\n",
      "  warnings.warn(*warn_args, **warn_kwargs)\n"
     ]
    },
    {
     "data": {
      "text/plain": [
       "{'mean_fit_time': array([0.18382788, 0.18225628, 0.2170527 , 0.22816682]),\n",
       " 'mean_score_time': array([0.79520094, 1.59694976, 2.22330695, 2.41725302]),\n",
       " 'mean_test_score': array([0.35646352, 0.34401112, 0.35413546, 0.35310678]),\n",
       " 'mean_train_score': array([1.        , 0.60596231, 0.53970602, 0.50044704]),\n",
       " 'param_n_neighbors': masked_array(data=[1, 3, 5, 7],\n",
       "              mask=[False, False, False, False],\n",
       "        fill_value='?',\n",
       "             dtype=object),\n",
       " 'params': [{'n_neighbors': 1},\n",
       "  {'n_neighbors': 3},\n",
       "  {'n_neighbors': 5},\n",
       "  {'n_neighbors': 7}],\n",
       " 'rank_test_score': array([1, 4, 2, 3]),\n",
       " 'split0_test_score': array([0.35178395, 0.33754054, 0.34713016, 0.3455789 ]),\n",
       " 'split0_train_score': array([1.        , 0.60695142, 0.54265202, 0.50197676]),\n",
       " 'split1_test_score': array([0.35683608, 0.3480315 , 0.352398  , 0.35354331]),\n",
       " 'split1_train_score': array([1.        , 0.60399122, 0.5405275 , 0.50080838]),\n",
       " 'split2_test_score': array([0.35879529, 0.34315437, 0.3558126 , 0.35573985]),\n",
       " 'split2_train_score': array([1.        , 0.60669627, 0.53800552, 0.49883595]),\n",
       " 'split3_test_score': array([0.35861763, 0.34751721, 0.36157774, 0.3578776 ]),\n",
       " 'split3_train_score': array([1.        , 0.60621032, 0.53763903, 0.50016707]),\n",
       " 'std_fit_time': array([0.0027416 , 0.00874919, 0.06354274, 0.04473133]),\n",
       " 'std_score_time': array([0.03266363, 0.06963127, 0.18820031, 0.14248991]),\n",
       " 'std_test_score': array([0.00284958, 0.0042392 , 0.00524655, 0.00467146]),\n",
       " 'std_train_score': array([0.        , 0.00116873, 0.00203211, 0.00113409])}"
      ]
     },
     "execution_count": 21,
     "metadata": {},
     "output_type": "execute_result"
    }
   ],
   "source": [
    "# 验证集准确率和训练集准确率\n",
    "estimator.cv_results_"
   ]
  },
  {
   "cell_type": "code",
   "execution_count": 22,
   "metadata": {},
   "outputs": [
    {
     "name": "stdout",
     "output_type": "stream",
     "text": [
      "预测值与真实值\n",
      " 24703810     True\n",
      "19445902    False\n",
      "18490063     True\n",
      "7762709     False\n",
      "6505956     False\n",
      "14457513    False\n",
      "17814238     True\n",
      "14306056     True\n",
      "16488083    False\n",
      "17062930    False\n",
      "11317096    False\n",
      "3051666     False\n",
      "14849232     True\n",
      "9015944      True\n",
      "11106006    False\n",
      "7885852     False\n",
      "2448673     False\n",
      "16491341    False\n",
      "8969522     False\n",
      "18463134    False\n",
      "4228061     False\n",
      "4073153     False\n",
      "5366876     False\n",
      "26617983     True\n",
      "28140899    False\n",
      "3971601     False\n",
      "15668533     True\n",
      "24483192    False\n",
      "2337316     False\n",
      "21035784    False\n",
      "            ...  \n",
      "14061315    False\n",
      "26691044    False\n",
      "14461756     True\n",
      "25917365    False\n",
      "4701918     False\n",
      "991627      False\n",
      "26137214    False\n",
      "19034521     True\n",
      "10852558    False\n",
      "14884877    False\n",
      "12699358    False\n",
      "28587664    False\n",
      "2009434      True\n",
      "22970622    False\n",
      "27543156    False\n",
      "1432189      True\n",
      "17870841    False\n",
      "11486816     True\n",
      "6150132      True\n",
      "4021004     False\n",
      "29005319    False\n",
      "11697331    False\n",
      "12965998    False\n",
      "672605      False\n",
      "10116079    False\n",
      "8778525     False\n",
      "17159429    False\n",
      "11539767    False\n",
      "13047968     True\n",
      "24701938    False\n",
      "Name: place_id, Length: 13853, dtype: bool\n"
     ]
    }
   ],
   "source": [
    "# 预测树\n",
    "pre = estimator.predict(x_test)\n",
    "print(\"预测值与真实值\\n\",pre == y_test)"
   ]
  }
 ],
 "metadata": {
  "kernelspec": {
   "display_name": "Python 3",
   "language": "python",
   "name": "python3"
  },
  "language_info": {
   "codemirror_mode": {
    "name": "ipython",
    "version": 3
   },
   "file_extension": ".py",
   "mimetype": "text/x-python",
   "name": "python",
   "nbconvert_exporter": "python",
   "pygments_lexer": "ipython3",
   "version": "3.6.0"
  }
 },
 "nbformat": 4,
 "nbformat_minor": 2
}
