{
 "cells": [
  {
   "cell_type": "markdown",
   "metadata": {},
   "source": [
    "# 线性回归api初步使用 \n",
    "\n",
    "今日课程\n",
    "\n",
    "KNN剩下案例\n",
    "\n",
    "线性回归\n",
    "\n",
    "目标值-连续 --回归\n",
    "\n",
    "岭回归\n",
    "\n",
    "lasso回归\n",
    "\n",
    "\n",
    "\n",
    "# 1.10 交叉验证，网格搜索\n",
    "\n",
    "适用于所有算法\n",
    "\n",
    "找到最优超参数\n",
    "\n",
    "在一起\n",
    "\n",
    "## 1 什么是交叉验证(cross validation)\n",
    "\n",
    "**为了让从训练得到模型结果更加准确**\n",
    "\n",
    "数据切割:\n",
    "\n",
    "训练集:  n 等分 训练集和验证集\n",
    "\n",
    "测试集\n",
    "\n",
    "n等分 n个结果 平均值最终结果\n",
    "\n",
    "### 1.2 为什么需要交叉验证\n",
    "\n",
    "交叉验证目的：**为了让被评估的模型更加准确可信**\n",
    "\n",
    "最终:没有优化模型(算法)\n",
    "\n",
    "## 2 什么是网格搜索(Grid Search)\n",
    "\n",
    "超参数: 需要手动指定的参数\n",
    "\n",
    "## 3 交叉验证，网格搜索（模型选择与调优）API：\n",
    "\n",
    "sklearn.model_selection.GridSearchCV(estimator, param_grid=None,cv=None)\n",
    "\n",
    "- 对估计器的指定参数值进行详尽搜索\n",
    "- estimator：估计器对象\n",
    "- param_grid：估计器参数(dict){“n_neighbors”:[1,3,5]}\n",
    "- cv：指定几折交叉验证\n",
    "\n",
    " 实例化\n",
    "\n",
    "param={n_neightbors:[1,3,5,7]}\n",
    "\n",
    "estimator = GridSearchCV(estimator, cv= ,param_grid=param)\n",
    "\n",
    "执行fit(训练集)\n",
    "\n",
    "estimator . _bestscore_\n",
    "\n",
    "estimator.bestestimator\n",
    "\n",
    "cv*results*:每次交叉验证后的验证集准确率结果和训练集准确率结果\n",
    "\n",
    "# 1.11 案例2：预测facebook签到位置\n",
    "\n",
    "​\t\t\t特征值\t\t\t\t\t目标值\n",
    "\n",
    "x, y  accuracy   time       place_Id\n",
    "\n",
    "算法: 分类  -KNN\n",
    "\n",
    "机器学习流程\n",
    "\n",
    "1. 获取数据\n",
    "\n",
    "2. 数据基本处理\n",
    "\n",
    "   2.1 缩小数据范围\n",
    "\n",
    "   2.2 时间转化星期,小时,天\n",
    "\n",
    "   2.3 删除到的次数少的数据\n",
    "\n",
    "   2.4 确定特征值和目标值\n",
    "\n",
    "   2.5 切割数据\n",
    "\n",
    "3. 特征工程\n",
    "\n",
    "   数据标准化\n",
    "\n",
    "4. 建立模型\n",
    "\n",
    "   KNN+CV\n",
    "\n",
    "5. 模型评估\n",
    "\n",
    "# 线性回归\n",
    "\n",
    "目标值-连续-回归问题\n",
    "\n",
    "# 2.1 线性回归简介\n",
    "\n",
    "## 2 什么是线性回归\n",
    "\n",
    "通过方程描述自变量(特征值)和因变量(关系)的过程\n",
    "\n",
    "求解关系的过程就是求解方程过程\n",
    "\n",
    "\n",
    "\n",
    "特征值                                           目标值\n",
    "\n",
    "考试成绩     平时成绩                 期末成绩\n",
    "\n",
    "### 2.2 线性回归的特征与目标的关系分析\n",
    "\n",
    "1.  线性关系\n",
    "   1. 单变量线性关系\n",
    "   2. 多变量线性关系\n",
    "2. 非线性关系\n",
    "\n",
    "# 2.2 线性回归api初步使用\n",
    "\n",
    "sklearn.linear_model.LinearRegression()\n",
    "\n",
    "- LinearRegression.coef_：回归系数( w)\n",
    "\n",
    "特征值                                      目标值\n",
    "\n",
    "平时成绩  期末成绩               最终成绩\n",
    "\n",
    "建模步骤\n",
    "\n",
    "1. 获取数据\n",
    "2. 数据基本处理(不需要)\n",
    "3. 特征工程(不需要)\n",
    "4. 建立模型\n",
    "5. 模型评估\n",
    "\n",
    "通过回归方程求解特征值与目标值关系的过程-建模过程\n",
    "\n",
    "建模过程???? \n",
    "\n",
    "y = 0.3 x1+0.7*x2\n",
    "\n",
    "W ?    \n",
    "\n",
    "# 2.4 线性回归的损失和优化\n",
    "\n",
    "如何求解w的过程\n",
    "\n",
    "## 1 损失函数\n",
    "\n",
    "(预测值-真实值)^2 \n",
    "\n",
    "预测值对真实值损失的度量\n",
    "\n",
    "最小二乘法\n",
    "\n",
    "## 2 优化算法\n",
    "\n",
    "优化w 求一个w值能让损失值小\n",
    "\n",
    "W ?   \n",
    "\n",
    "1. 正规方程   直接求解    兔子\n",
    "2. 梯度下降法  通过迭代 一步一步走到谷底   乌龟\n",
    "\n",
    "### 2.1 正规方程\n",
    "\n",
    "#### 2.1.1 什么是正规方程\n",
    "\n",
    "#### 2.1.3 正规方程的推导\n",
    "\n",
    "- **推导方式一：**\n",
    "\n",
    "  \n",
    "\n",
    "  ### 2.2 梯度下降(Gradient Descent)\n",
    "\n",
    "  #### 2.2.1 什么是梯度下降\n",
    "\n",
    "  **寻找这个位置最陡峭的地方，然后朝着山的高度下降的地方走**\n",
    "\n",
    "  梯度:  导数  微分 \n",
    "\n",
    "  #### 2.2.2 梯度的概念\n",
    "\n",
    "  **在单变量的函数中，梯度其实就是函数的微分，代表着函数在某个给定点的切线的斜率**---导数\n",
    "\n",
    "  **在多变量函数中，梯度是一个向量，向量有方向，梯度的方向就指出了函数在给定点的上升最快的方向；**\n",
    "\n",
    "  #### 2.2.4 梯度下降**（**Gradient Descent）公式\n",
    "\n",
    "  ![image-20191115112515253](/Users/zhangqingtao/Library/Application Support/typora-user-images/image-20191115112515253.png)\n",
    "\n",
    "**1) α是什么含义？**\n",
    "\n",
    "学习率/步长\n",
    "\n",
    "a太大 容易错过谷底\n",
    "\n",
    "a太小 指定的迭代次数后还没有走到谷底\n",
    "\n",
    "**2) 为什么梯度要乘以一个负号**？\n",
    "\n",
    "导数的方向向上的,加-就是向下\n",
    "\n",
    "不一定是全局最优,可能是局部最优\n",
    "\n",
    "## 3 梯度下降和正规方程的对比\n",
    "\n",
    "![image-20191115113150214](/Users/zhangqingtao/Library/Application Support/typora-user-images/image-20191115113150214.png)\n",
    "\n",
    "### 3.1 算法选择依据\n",
    "\n",
    "大量数据\n",
    "\n",
    "+ 梯度下降\n",
    "\n",
    "小规模数据：\n",
    "\n",
    "- 正规方程：**LinearRegression(不能解决拟合问题)**\n",
    "- 岭回归\n",
    "\n",
    "# 2.5 梯度下降法介绍\n",
    "\n",
    "梯度优化\n",
    "\n",
    "- 全梯度下降算法(Full gradient descent）,\n",
    "- 随机梯度下降算法（Stochastic gradient descent）,\n",
    "- 小批量梯度下降算法（Mini-batch gradient descent）,\n",
    "- 随机平均梯度下降算法（Stochastic average gradient descent）\n",
    "\n",
    "## 1 全梯度下降算法（FG）\n",
    "\n",
    "**计算训练集所有样本误差**，**对其求和再取平均值作为目标函数**。\n",
    "\n",
    "计算慢 内存消耗\n",
    "\n",
    "心细  慢\n",
    "\n",
    "## 2 随机梯度下降算法（SG）\n",
    "\n",
    "只用一个样本数据迭代\n",
    "\n",
    "胆子大  快 \n",
    "\n",
    "SG每次只使用一个样本迭代，若遇上噪声则容易陷入局部最优解。\n",
    "\n",
    "## 3 小批量梯度下降算法（mini-batch）\n",
    "\n",
    "**每次从训练样本集上随机抽取一个小样本集，在抽出来的小样本集上采用FG迭代更新权重。**\n",
    "\n",
    "## 4 随机平均梯度下降算法（SAG）\n",
    "\n",
    "**随机平均梯度算法克服了这个问题，在内存中为每一个样本都维护一个旧的梯度，随机选择第i个样本来更新此样本的梯度，其他样本的梯度保持不变，然后求得所有梯度的平均值，进而更新了参数。**\n",
    "\n",
    "#2 .6 线性回归api再介绍\n",
    "\n",
    "\n",
    "\n",
    "sklearn.linear_model.LinearRegression(fit_intercept=True)\n",
    "\n",
    "属性\n",
    "\n",
    "- LinearRegression.coef_：回归系数 (W)  \n",
    "- LinearRegression.intercept_：偏置(b)\n",
    "\n",
    "sklearn.linear_model.SGDRegressor(loss=\"squared_loss\", fit_intercept=True, learning_rate ='invscaling', eta0=0.01)\n",
    "\n",
    "- SGDRegressor类实现了随机梯度下降学习，它支持不同的**loss函数和正则化惩罚项**来拟合线性回归模型。\n",
    "- 参数：\n",
    "  - loss:损失类型\n",
    "    - **loss=”squared_loss”: 普通最小二乘法**\n",
    "  - fit_intercept：是否计算偏置\n",
    "  - learning_rate : string, optional\n",
    "    - 学习率填充\n",
    "    - **'constant': eta = eta0**\n",
    "    - **'optimal': eta = 1.0 / (alpha \\* (t + t0)) [default]**\n",
    "    - 'invscaling': eta = eta0 / pow(t, power_t)\n",
    "      - **power_t=0.25:存在父类当中**\n",
    "    - **对于一个常数值的学习率来说，可以使用learning_rate=’constant’ ，并使用eta0来指定学习率。**\n",
    "- 属性：\n",
    "  - SGDRegressor.coef_：回归系数\n",
    "  - SGDRegressor.intercept_：偏置\n",
    "\n",
    "#2 .7 案例：波士顿房价预测\n",
    "\n",
    "回归问题\n",
    "\n",
    "## 3 回归性能评估\n",
    "\n",
    "思考：MSE和最小二乘法的区别是？\n",
    "\n",
    "应用场景不同\n",
    "\n",
    "​\t最小二乘法==>求W\n",
    "\n",
    "MSE\n",
    "\n",
    "​\t评估指标\n",
    "\n",
    "sklearn.metrics.mean_squared_error(y_true, y_pred)\n",
    "\n",
    "- 均方误差回归损失\n",
    "- y_true:真实值\n",
    "- y_pred:预测值\n",
    "- return:浮点数结果\n",
    "\n",
    "越小越好\n",
    "\n",
    "建模步骤\n",
    "\n",
    "1. 获取数据\n",
    "\n",
    "2. 数据基本处理\n",
    "\n",
    "   1. 切割数据\n",
    "\n",
    "3. 特征工程\n",
    "\n",
    "   1. 特征标准化\n",
    "\n",
    "4. 建立模型\n",
    "\n",
    "   1. 正规方程\n",
    "   2. 梯度下降法\n",
    "\n",
    "5. 模型评估\n",
    "\n",
    "   均方误差\n",
    "\n",
    "# 2.8 欠拟合和过拟合\n",
    "\n",
    "## 1.  定义\n",
    "\n",
    "过拟合: 训练集效果好,测试集效果不好(模型复杂)\n",
    "\n",
    "欠拟合: 训练集效果不好,测试集效果也不好(模型比较简单)\n",
    "\n",
    "##2  原因以及解决办法\n",
    "\n",
    "原因：学习到数据的特征过少(说少了)\n",
    "\n",
    "解决办法：\n",
    "\n",
    "**1）添加其他特征项，**(添加特征值)  说的多一些\n",
    "\n",
    "**2）添加多项式特征**(添加高次项)\n",
    "\n",
    "过拟合\n",
    "\n",
    "原因:原始特征过多，存在一些嘈杂特征， 模型过于复杂是因为模型尝试去兼顾各个测试数据\n",
    "\n",
    "(说多了)\n",
    "\n",
    "解决办法\n",
    "\n",
    "1. 清洗数据\n",
    "2. 增大数据训练量\n",
    "3. 正则化\n",
    "4. 减少特征维度 **维灾难**\n",
    "\n",
    "\n",
    "\n",
    "## 1 什么是维灾难\n",
    "\n",
    "维度增加 模型效果先上升后下降\n",
    "\n",
    "高维度--->样本稀疏\n",
    "\n",
    "**训练集的维度越多，过度拟合的风险就越大**\n",
    "\n",
    "## 3 正则化\n",
    "\n",
    "3.1 什么是正则化\n",
    "\n",
    "尽量减少不重要特征的影响\n",
    "\n",
    "### 3.2 正则化类别\n",
    "\n",
    "L2  \n",
    "\n",
    "将不重要特征权重值趋于0 但不为0\n",
    "\n",
    "优点：越小的参数说明模型越简单，越简单的模型则越不容易产生过拟合现象\n",
    "\n",
    "岭回归\n",
    "\n",
    "L1 \n",
    "\n",
    "将不重要的特征权重置为0\n",
    "\n",
    "LASSO回归\n",
    "\n",
    "# 2.9 正则化线性模型\n",
    "\n",
    "## Ridge Regression (岭回归，又名 Tikhonov regularization)\n",
    "\n",
    "L2正则化\n",
    "\n",
    "![image-20191115150645188](/Users/zhangqingtao/Library/Application Support/typora-user-images/image-20191115150645188.png)\n",
    "\n",
    "## 2 Lasso Regression(Lasso 回归)\n",
    "\n",
    "倾向于完全消除不重要的权重。(将w 值置为0)\n",
    "\n",
    "## 3 Elastic Net (弹性网络)\n",
    "\n",
    "岭回归和Lasso回归中进行了折中 **混合比(mix ratio) r** 进行控制\n",
    "\n",
    "- r=0：弹性网络变为岭回归\n",
    "- r=1：弹性网络便为Lasso回归\n",
    "\n",
    "常用:\n",
    "\n",
    "   岭回归\n",
    "\n",
    "假设只有少部分特征是有用的\n",
    "\n",
    "​\t弹性网络\n",
    "\n",
    "​\tLasso\n",
    "\n",
    "api\n",
    "\n",
    "```python\n",
    "from sklearn.linear_model import Ridge, ElasticNet, Lasso\n",
    "```\n",
    "\n",
    "Ridge  岭回归\n",
    "\n",
    "ElasticNet  弹性网络\n",
    "\n",
    "Lasso   Lasso 回归\n",
    "\n",
    "## 4 Early Stopping\n",
    "\n",
    "损失函数的错误率 达到最小值 或者某一阈值  停止训练 \n",
    "\n",
    "# 2.10 线性回归的改进-岭回归\n",
    "\n",
    "Ridge(alpha=1.0, fit_intercept=True,solver=\"auto\", normalize=False)\n",
    "\n",
    "- 具有l2正则化的线性回归\n",
    "- alpha:正则化力度，也叫 λ\n",
    "  - **λ取值：0~1 1~10**\n",
    "- fit_intercept=True 是否计算偏置\n",
    "- solver=  优化方法\n",
    "- normalize=False  是否进行标准化\n",
    "\n",
    "- Ridge.coef_:回归权重(w) \n",
    "- Ridge.intercept_:回归偏置\n",
    "\n",
    "sklearn.linear_model.RidgeCV(_BaseRidgeCV, RegressorMixin)\n",
    "\n",
    "- 具有l2正则化的线性回归，可以进行交叉验证\n",
    "- coef_:回归系数\n",
    "\n",
    "## 2 观察正则化程度的变化，对结果的影响？\n",
    "\n",
    "正则化  a   \n",
    "\n",
    "a值大  w 小\n",
    "\n",
    "a值小  w 大\n",
    "\n",
    "- 正则化力度越大，权重系数会越小\n",
    "- 正则化力度越小，权重系数会越大\n",
    "\n",
    "# 2.11 模型的保存和加载\n",
    "\n",
    "帮助模型本地保存\n",
    "\n",
    "sklearn.externals import joblib\n",
    "\n",
    "保存   joblib.dump(模型,\"保存路径+模型名称)\n",
    "\n",
    "加载   joblib.load(\"路径\")\n",
    "\n",
    "\n"
   ]
  },
  {
   "cell_type": "code",
   "execution_count": 1,
   "metadata": {},
   "outputs": [],
   "source": [
    "from sklearn.linear_model import LinearRegression"
   ]
  },
  {
   "cell_type": "code",
   "execution_count": 8,
   "metadata": {},
   "outputs": [],
   "source": [
    "# 获取数据\n",
    "x = [[80, 86],\n",
    "[82, 80],\n",
    "[85, 78],\n",
    "[90, 90],\n",
    "[86, 82],\n",
    "[82, 90],\n",
    "[78, 80],\n",
    "[92, 94]]\n",
    "y = [84.2, 80.6, 80.1, 90, 83.2, 87.6, 79.4, 93.4]"
   ]
  },
  {
   "cell_type": "code",
   "execution_count": 4,
   "metadata": {},
   "outputs": [],
   "source": [
    "# 数据的基本处理\n",
    "# 划分数据集"
   ]
  },
  {
   "cell_type": "code",
   "execution_count": 5,
   "metadata": {},
   "outputs": [],
   "source": [
    "# 特征工程\n",
    "# 特征预处理\n",
    "# 标准化"
   ]
  },
  {
   "cell_type": "code",
   "execution_count": 9,
   "metadata": {},
   "outputs": [
    {
     "data": {
      "text/plain": [
       "LinearRegression(copy_X=True, fit_intercept=True, n_jobs=1, normalize=False)"
      ]
     },
     "execution_count": 9,
     "metadata": {},
     "output_type": "execute_result"
    }
   ],
   "source": [
    "# 建立模型，机器学习，训练\n",
    "estimator = LinearRegression()\n",
    "estimator.fit(x,y)"
   ]
  },
  {
   "cell_type": "code",
   "execution_count": 12,
   "metadata": {},
   "outputs": [
    {
     "data": {
      "text/plain": [
       "array([88.])"
      ]
     },
     "execution_count": 12,
     "metadata": {},
     "output_type": "execute_result"
    }
   ],
   "source": [
    "# 模型评估\n",
    "estimator.predict([[81,91]])"
   ]
  },
  {
   "cell_type": "code",
   "execution_count": 11,
   "metadata": {},
   "outputs": [
    {
     "data": {
      "text/plain": [
       "array([0.3, 0.7])"
      ]
     },
     "execution_count": 11,
     "metadata": {},
     "output_type": "execute_result"
    }
   ],
   "source": [
    "estimator.coef_"
   ]
  },
  {
   "cell_type": "code",
   "execution_count": 13,
   "metadata": {},
   "outputs": [],
   "source": [
    "# 求导\n",
    "import numpy as np"
   ]
  },
  {
   "cell_type": "code",
   "execution_count": 15,
   "metadata": {},
   "outputs": [
    {
     "data": {
      "text/plain": [
       "5"
      ]
     },
     "execution_count": 15,
     "metadata": {},
     "output_type": "execute_result"
    }
   ],
   "source": [
    "# 绝对值\n",
    "np.abs(-5)"
   ]
  },
  {
   "cell_type": "code",
   "execution_count": 16,
   "metadata": {},
   "outputs": [
    {
     "data": {
      "text/plain": [
       "5.0"
      ]
     },
     "execution_count": 16,
     "metadata": {},
     "output_type": "execute_result"
    }
   ],
   "source": [
    "# 没有负数的数求绝对值\n",
    "np.fabs(-5)"
   ]
  },
  {
   "cell_type": "code",
   "execution_count": 17,
   "metadata": {},
   "outputs": [
    {
     "data": {
      "text/plain": [
       "2.0"
      ]
     },
     "execution_count": 17,
     "metadata": {},
     "output_type": "execute_result"
    }
   ],
   "source": [
    "# 计算元素的平方根\n",
    "np.sqrt(4)"
   ]
  },
  {
   "cell_type": "code",
   "execution_count": 18,
   "metadata": {},
   "outputs": [
    {
     "data": {
      "text/plain": [
       "4"
      ]
     },
     "execution_count": 18,
     "metadata": {},
     "output_type": "execute_result"
    }
   ],
   "source": [
    "# 计算元素的平方\n",
    "np.square(2)"
   ]
  },
  {
   "cell_type": "code",
   "execution_count": 20,
   "metadata": {},
   "outputs": [
    {
     "data": {
      "text/plain": [
       "2.718281828459045"
      ]
     },
     "execution_count": 20,
     "metadata": {},
     "output_type": "execute_result"
    }
   ],
   "source": [
    "#计算以自然常数e为底的幂次方\n",
    "np.exp(1)"
   ]
  },
  {
   "cell_type": "code",
   "execution_count": 30,
   "metadata": {},
   "outputs": [
    {
     "data": {
      "text/plain": [
       "0.999896315728952"
      ]
     },
     "execution_count": 30,
     "metadata": {},
     "output_type": "execute_result"
    }
   ],
   "source": [
    "# 自然对数\n",
    "np.log(2.718)"
   ]
  },
  {
   "cell_type": "code",
   "execution_count": 31,
   "metadata": {},
   "outputs": [
    {
     "data": {
      "text/plain": [
       "1.0"
      ]
     },
     "execution_count": 31,
     "metadata": {},
     "output_type": "execute_result"
    }
   ],
   "source": [
    "np.log10(10)"
   ]
  },
  {
   "cell_type": "code",
   "execution_count": 32,
   "metadata": {},
   "outputs": [
    {
     "data": {
      "text/plain": [
       "6.0"
      ]
     },
     "execution_count": 32,
     "metadata": {},
     "output_type": "execute_result"
    }
   ],
   "source": [
    "# 向上取整\n",
    "np.ceil(5.4)"
   ]
  },
  {
   "cell_type": "code",
   "execution_count": 33,
   "metadata": {},
   "outputs": [
    {
     "data": {
      "text/plain": [
       "5.0"
      ]
     },
     "execution_count": 33,
     "metadata": {},
     "output_type": "execute_result"
    }
   ],
   "source": [
    "# 向下取整\n",
    "np.floor(5.4)"
   ]
  },
  {
   "cell_type": "code",
   "execution_count": 34,
   "metadata": {},
   "outputs": [
    {
     "data": {
      "text/plain": [
       "-0.46460217941375737"
      ]
     },
     "execution_count": 34,
     "metadata": {},
     "output_type": "execute_result"
    }
   ],
   "source": [
    "np.sin(5.8)"
   ]
  },
  {
   "cell_type": "markdown",
   "metadata": {},
   "source": [
    "# 线性回归的损失和优化\n",
    "\n",
    "### 正规方程\n",
    "\n",
    "### 梯度下降法"
   ]
  },
  {
   "attachments": {
    "image.png": {
     "image/png": "[encoded data removed]"
    }
   },
   "cell_type": "markdown",
   "metadata": {},
   "source": [
    "## 案例波士顿房价预测\n",
    "![image.png](attachment:image.png)"
   ]
  },
  {
   "cell_type": "markdown",
   "metadata": {},
   "source": [
    "# 正规方程"
   ]
  },
  {
   "cell_type": "code",
   "execution_count": 1,
   "metadata": {},
   "outputs": [],
   "source": [
    "from sklearn.datasets import load_boston\n",
    "from sklearn.model_selection import train_test_split\n",
    "from sklearn.preprocessing import StandardScaler\n",
    "from sklearn.linear_model import LinearRegression,SGDRegressor,Ridge,RidgeCV\n",
    "from sklearn.metrics import mean_squared_error\n",
    "from sklearn.externals import joblib"
   ]
  },
  {
   "cell_type": "code",
   "execution_count": 51,
   "metadata": {},
   "outputs": [],
   "source": [
    "# 获取数据\n",
    "data = load_boston()"
   ]
  },
  {
   "cell_type": "code",
   "execution_count": 52,
   "metadata": {},
   "outputs": [],
   "source": [
    "# 数据基本处理\n",
    "# 数据切割\n",
    "x_train,x_test,y_train,y_test = train_test_split(data.data,data.target,test_size=0.2,random_state=22)\n"
   ]
  },
  {
   "cell_type": "code",
   "execution_count": 53,
   "metadata": {},
   "outputs": [],
   "source": [
    "# 特征工程\n",
    "# 特征标准化\n",
    "transfer = StandardScaler()\n",
    "x_train = transfer.fit_transform(x_train)\n",
    "x_test = transfer.transform(x_test)"
   ]
  },
  {
   "cell_type": "code",
   "execution_count": 54,
   "metadata": {},
   "outputs": [
    {
     "data": {
      "text/plain": [
       "LinearRegression(copy_X=True, fit_intercept=True, n_jobs=1, normalize=False)"
      ]
     },
     "execution_count": 54,
     "metadata": {},
     "output_type": "execute_result"
    }
   ],
   "source": [
    "# 建立模型,机器学习\n",
    "# 正规方程\n",
    "estimator = LinearRegression()\n",
    "estimator.fit(x_train,y_train)"
   ]
  },
  {
   "cell_type": "code",
   "execution_count": 58,
   "metadata": {},
   "outputs": [
    {
     "name": "stdout",
     "output_type": "stream",
     "text": [
      "均方误差\n",
      " 20.76576753805218\n",
      "回归系数\n",
      " [-0.71524786  1.13048393 -0.13884313  0.86348199 -2.02863944  2.71817142\n",
      " -0.1585671  -3.36555855  2.55314374 -1.67916496 -1.67755255  0.92141091\n",
      " -3.80141123]\n",
      "偏置\n",
      " 22.57970297029704\n"
     ]
    }
   ],
   "source": [
    "# 模型评估\n",
    "# 均方误差\n",
    "pre = estimator.predict(x_test)\n",
    "print(\"均方误差\\n\",mean_squared_error(y_test,pre))\n",
    "print(\"回归系数\\n\",estimator.coef_)\n",
    "print(\"偏置\\n\",estimator.intercept_)"
   ]
  },
  {
   "cell_type": "markdown",
   "metadata": {},
   "source": [
    "## 梯度下降法"
   ]
  },
  {
   "cell_type": "code",
   "execution_count": 59,
   "metadata": {},
   "outputs": [],
   "source": [
    "# 获取数据\n",
    "data = load_boston()"
   ]
  },
  {
   "cell_type": "code",
   "execution_count": 60,
   "metadata": {},
   "outputs": [],
   "source": [
    "# 数据基本处理\n",
    "# 数据切割\n",
    "x_train,x_test,y_train,y_test = train_test_split(data.data,data.target,test_size=0.2,random_state=22)\n"
   ]
  },
  {
   "cell_type": "code",
   "execution_count": 61,
   "metadata": {},
   "outputs": [],
   "source": [
    "# 特征工程\n",
    "# 特征标准化\n",
    "transfer = StandardScaler()\n",
    "x_train = transfer.fit_transform(x_train)\n",
    "x_test = transfer.transform(x_test)"
   ]
  },
  {
   "cell_type": "code",
   "execution_count": 62,
   "metadata": {},
   "outputs": [
    {
     "data": {
      "text/plain": [
       "SGDRegressor(alpha=0.0001, average=False, epsilon=0.1, eta0=0.001,\n",
       "       fit_intercept=True, l1_ratio=0.15, learning_rate='constant',\n",
       "       loss='squared_loss', max_iter=1000, n_iter=None, penalty='l2',\n",
       "       power_t=0.25, random_state=None, shuffle=True, tol=None, verbose=0,\n",
       "       warm_start=False)"
      ]
     },
     "execution_count": 62,
     "metadata": {},
     "output_type": "execute_result"
    }
   ],
   "source": [
    "# 建立模型,机器学习\n",
    "# 梯度下降法\n",
    "# estimator = LinearRegression()\n",
    "estimator = SGDRegressor(max_iter=1000,learning_rate='constant',eta0=0.001)\n",
    "estimator.fit(x_train,y_train)"
   ]
  },
  {
   "cell_type": "code",
   "execution_count": 63,
   "metadata": {},
   "outputs": [
    {
     "name": "stdout",
     "output_type": "stream",
     "text": [
      "均方误差\n",
      " 20.360356045482742\n",
      "回归系数\n",
      " [-0.72851334  1.15721904 -0.15949417  0.86413337 -2.05904785  2.71705753\n",
      " -0.180288   -3.35685451  2.52463469 -1.70280599 -1.70716969  0.91585929\n",
      " -3.81518523]\n",
      "偏置\n",
      " [22.57619349]\n"
     ]
    }
   ],
   "source": [
    "# 模型评估\n",
    "# 均方误差\n",
    "pre = estimator.predict(x_test)\n",
    "print(\"均方误差\\n\",mean_squared_error(y_test,pre))\n",
    "print(\"回归系数\\n\",estimator.coef_)\n",
    "print(\"偏置\\n\",estimator.intercept_)"
   ]
  },
  {
   "cell_type": "markdown",
   "metadata": {},
   "source": [
    "## 岭回归"
   ]
  },
  {
   "cell_type": "code",
   "execution_count": 65,
   "metadata": {
    "scrolled": true
   },
   "outputs": [
    {
     "name": "stdout",
     "output_type": "stream",
     "text": [
      "均方误差\n",
      " 22.71720469524869\n",
      "回归系数\n",
      " [-0.44470202  0.50601476 -0.53723366  0.86805726 -0.85263804  2.73443404\n",
      " -0.3065462  -1.60265073  0.67087182 -0.38676485 -1.32172721  0.79633395\n",
      " -2.94114521]\n",
      "偏置\n",
      " 22.579702970297042\n"
     ]
    }
   ],
   "source": [
    "# 获取数据\n",
    "data = load_boston()\n",
    "# 数据基本处理\n",
    "# 数据切割\n",
    "x_train,x_test,y_train,y_test = train_test_split(data.data,data.target,test_size=0.2,random_state=22)\n",
    "# 特征工程\n",
    "# 特征标准化\n",
    "transfer = StandardScaler()\n",
    "x_train = transfer.fit_transform(x_train)\n",
    "x_test = transfer.transform(x_test)\n",
    "# 建立模型,机器学习\n",
    "# 梯度下降法\n",
    "# estimator = LinearRegression()\n",
    "# estimator = SGDRegressor(max_iter=1000,learning_rate='constant',eta0=0.001)\n",
    "\n",
    "#  L2正则化\n",
    "# L2正则化\n",
    "# 作用：可以使得其中一些W的都很小，都接近于0，削弱某个特征的影响\n",
    "# 优点：越小的参数说明模型越简单，越简单的模型则越不容易产生过拟合现象\n",
    "# Ridge回归\n",
    "estimator = Ridge(alpha=100)\n",
    "estimator.fit(x_train,y_train)\n",
    "# 模型评估\n",
    "# 均方误差\n",
    "pre = estimator.predict(x_test)\n",
    "print(\"均方误差\\n\",mean_squared_error(y_test,pre))\n",
    "print(\"回归系数\\n\",estimator.coef_)\n",
    "print(\"偏置\\n\",estimator.intercept_)\n"
   ]
  },
  {
   "cell_type": "code",
   "execution_count": 2,
   "metadata": {},
   "outputs": [],
   "source": [
    "from sklearn.datasets import load_boston\n",
    "from sklearn.model_selection import train_test_split\n",
    "from sklearn.preprocessing import StandardScaler\n",
    "from sklearn.linear_model import LinearRegression,SGDRegressor,Ridge,RidgeCV\n",
    "from sklearn.metrics import mean_squared_error\n",
    "from sklearn.externals import joblib"
   ]
  },
  {
   "cell_type": "code",
   "execution_count": 66,
   "metadata": {},
   "outputs": [
    {
     "name": "stdout",
     "output_type": "stream",
     "text": [
      "均方误差\n",
      " 21.03360477471773\n",
      "回归系数\n",
      " [-0.61990598  0.94631264 -0.31665966  0.88594399 -1.74413196  2.79010443\n",
      " -0.20188216 -3.01252177  1.94493073 -1.14271415 -1.61041215  0.91048372\n",
      " -3.67949124]\n",
      "偏置\n",
      " 22.579702970297042\n"
     ]
    }
   ],
   "source": [
    "# 获取数据\n",
    "data = load_boston()\n",
    "# 数据基本处理\n",
    "# 数据切割\n",
    "x_train,x_test,y_train,y_test = train_test_split(data.data,data.target,test_size=0.2,random_state=22)\n",
    "# 特征工程\n",
    "# 特征标准化\n",
    "transfer = StandardScaler()\n",
    "x_train = transfer.fit_transform(x_train)\n",
    "x_test = transfer.transform(x_test)\n",
    "# 建立模型,机器学习\n",
    "# 梯度下降法\n",
    "# estimator = LinearRegression()\n",
    "# estimator = SGDRegressor(max_iter=1000,learning_rate='constant',eta0=0.001)\n",
    "\n",
    "# L1正则化\n",
    "# 作用：可以使得其中一些W的值直接为0，删除这个特征的影响\n",
    "# LASSO回归\n",
    "estimator = RidgeCV(alphas=(0.1,1,10,20))\n",
    "estimator.fit(x_train,y_train)\n",
    "# 模型评估\n",
    "# 均方误差\n",
    "pre = estimator.predict(x_test)\n",
    "print(\"均方误差\\n\",mean_squared_error(y_test,pre))\n",
    "print(\"回归系数\\n\",estimator.coef_)\n",
    "print(\"偏置\\n\",estimator.intercept_)\n"
   ]
  },
  {
   "cell_type": "markdown",
   "metadata": {},
   "source": [
    "## 模型的保存与加载"
   ]
  },
  {
   "cell_type": "code",
   "execution_count": 2,
   "metadata": {},
   "outputs": [
    {
     "name": "stdout",
     "output_type": "stream",
     "text": [
      "均方误差\n",
      " 21.03360477471773\n",
      "回归系数\n",
      " [-0.61990598  0.94631264 -0.31665966  0.88594399 -1.74413196  2.79010443\n",
      " -0.20188216 -3.01252177  1.94493073 -1.14271415 -1.61041215  0.91048372\n",
      " -3.67949124]\n",
      "偏置\n",
      " 22.579702970297042\n"
     ]
    }
   ],
   "source": [
    "# 获取数据\n",
    "data = load_boston()\n",
    "# 数据基本处理\n",
    "# 数据切割\n",
    "x_train,x_test,y_train,y_test = train_test_split(data.data,data.target,test_size=0.2,random_state=22)\n",
    "# 特征工程\n",
    "# 特征标准化\n",
    "transfer = StandardScaler()\n",
    "x_train = transfer.fit_transform(x_train)\n",
    "x_test = transfer.transform(x_test)\n",
    "# 建立模型,机器学习\n",
    "# 梯度下降法\n",
    "# estimator = LinearRegression()\n",
    "# estimator = SGDRegressor(max_iter=1000,learning_rate='constant',eta0=0.001)\n",
    "\n",
    "# L1正则化\n",
    "# 作用：可以使得其中一些W的值直接为0，删除这个特征的影响\n",
    "# LASSO回归\n",
    "estimator = RidgeCV(alphas=(0.1,1,10,20))\n",
    "estimator.fit(x_train,y_train)\n",
    "\n",
    "# 实现模型的保存\n",
    "joblib.dump(estimator,\"./python28.pkl\")\n",
    "# 模型评估\n",
    "# 均方误差\n",
    "pre = estimator.predict(x_test)\n",
    "print(\"均方误差\\n\",mean_squared_error(y_test,pre))\n",
    "print(\"回归系数\\n\",estimator.coef_)\n",
    "print(\"偏置\\n\",estimator.intercept_)"
   ]
  },
  {
   "cell_type": "code",
   "execution_count": 3,
   "metadata": {},
   "outputs": [
    {
     "name": "stdout",
     "output_type": "stream",
     "text": [
      "均方误差\n",
      " 21.03360477471773\n",
      "回归系数\n",
      " [-0.61990598  0.94631264 -0.31665966  0.88594399 -1.74413196  2.79010443\n",
      " -0.20188216 -3.01252177  1.94493073 -1.14271415 -1.61041215  0.91048372\n",
      " -3.67949124]\n",
      "偏置\n",
      " 22.579702970297042\n"
     ]
    }
   ],
   "source": [
    "# 模型的加载\n",
    "estimator = joblib.load(\"./python28.pkl\")\n",
    "# 模型评估\n",
    "# 均方误差\n",
    "pre = estimator.predict(x_test)\n",
    "print(\"均方误差\\n\",mean_squared_error(y_test,pre))\n",
    "print(\"回归系数\\n\",estimator.coef_)\n",
    "print(\"偏置\\n\",estimator.intercept_)"
   ]
  }
 ],
 "metadata": {
  "kernelspec": {
   "display_name": "Python 3",
   "language": "python",
   "name": "python3"
  },
  "language_info": {
   "codemirror_mode": {
    "name": "ipython",
    "version": 3
   },
   "file_extension": ".py",
   "mimetype": "text/x-python",
   "name": "python",
   "nbconvert_exporter": "python",
   "pygments_lexer": "ipython3",
   "version": "3.6.0"
  }
 },
 "nbformat": 4,
 "nbformat_minor": 2
}
