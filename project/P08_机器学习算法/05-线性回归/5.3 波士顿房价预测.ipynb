{
 "cells": [
  {
   "cell_type": "code",
   "execution_count": 36,
   "metadata": {},
   "outputs": [],
   "source": [
    "from sklearn.datasets import load_boston\n",
    "from sklearn.model_selection import train_test_split\n",
    "from sklearn.preprocessing import StandardScaler\n",
    "from sklearn.linear_model import LinearRegression,SGDRegressor,Ridge,RidgeCV\n",
    "from sklearn.metrics import mean_squared_error\n",
    "from sklearn.externals import joblib"
   ]
  },
  {
   "cell_type": "markdown",
   "metadata": {},
   "source": [
    "# 正规方程"
   ]
  },
  {
   "cell_type": "code",
   "execution_count": 2,
   "metadata": {},
   "outputs": [],
   "source": [
    "# 1. 获取数据\n",
    "data = load_boston()"
   ]
  },
  {
   "cell_type": "code",
   "execution_count": 4,
   "metadata": {},
   "outputs": [],
   "source": [
    "# 2. 数据基本处理\n",
    "#    1. 切割数据\n",
    "x_train,x_test,y_train,y_test = train_test_split(data.data,data.target,test_size=0.2,random_state =22)"
   ]
  },
  {
   "cell_type": "code",
   "execution_count": 6,
   "metadata": {},
   "outputs": [],
   "source": [
    "# 3. 特征工程\n",
    "#    1. 特征标准化\n",
    "transfer = StandardScaler()\n",
    "x_train = transfer.fit_transform(x_train)\n",
    "x_test = transfer.transform(x_test)"
   ]
  },
  {
   "cell_type": "code",
   "execution_count": 7,
   "metadata": {},
   "outputs": [],
   "source": [
    "# 4. 建立模型\n",
    "#    1. 正规方程\n",
    "estimator = LinearRegression()"
   ]
  },
  {
   "cell_type": "code",
   "execution_count": 8,
   "metadata": {},
   "outputs": [
    {
     "data": {
      "text/plain": [
       "LinearRegression(copy_X=True, fit_intercept=True, n_jobs=1, normalize=False)"
      ]
     },
     "execution_count": 8,
     "metadata": {},
     "output_type": "execute_result"
    }
   ],
   "source": [
    "estimator.fit(x_train,y_train)"
   ]
  },
  {
   "cell_type": "code",
   "execution_count": 10,
   "metadata": {},
   "outputs": [
    {
     "data": {
      "text/plain": [
       "20.765767538052206"
      ]
     },
     "execution_count": 10,
     "metadata": {},
     "output_type": "execute_result"
    }
   ],
   "source": [
    "# 5. 模型评估\n",
    "#    均方误差\n",
    "pre = estimator.predict(x_test)\n",
    "print(\"均方误差\\n\",mean_squared_error(y_test,pre))\n",
    "print(\"回归系数\\n\",estimator.coef_)\n",
    "print(\"偏置 \",estimator.intercept_)"
   ]
  },
  {
   "cell_type": "markdown",
   "metadata": {},
   "source": [
    "# 梯度下降法\n",
    "\n"
   ]
  },
  {
   "cell_type": "code",
   "execution_count": 23,
   "metadata": {},
   "outputs": [
    {
     "name": "stdout",
     "output_type": "stream",
     "text": [
      "均方误差\n",
      " 20.868134059323125\n",
      "回归系数\n",
      " [-0.71076945  1.12798929 -0.13690293  0.85464758 -2.02480284  2.71818672\n",
      " -0.14310194 -3.38051822  2.5625931  -1.67712958 -1.66926933  0.91772807\n",
      " -3.78877832]\n",
      "偏置  [22.57126489]\n"
     ]
    }
   ],
   "source": [
    "# 1. 获取数据\n",
    "data = load_boston()\n",
    "# 2. 数据基本处理\n",
    "#    1. 切割数据\n",
    "x_train,x_test,y_train,y_test = train_test_split(data.data,data.target,test_size=0.2,random_state =22)\n",
    "# 3. 特征工程\n",
    "#    1. 特征标准化\n",
    "transfer = StandardScaler()\n",
    "x_train = transfer.fit_transform(x_train)\n",
    "x_test = transfer.transform(x_test)\n",
    "# 4. 建立模型\n",
    "#    1. 正规方程\n",
    "# estimator = LinearRegression()\n",
    "estimator = SGDRegressor(max_iter=1000,learning_rate=\"constant\",eta0=0.001)\n",
    "estimator.fit(x_train,y_train)\n",
    "# 5. 模型评估\n",
    "#    均方误差\n",
    "pre = estimator.predict(x_test)\n",
    "print(\"均方误差\\n\",mean_squared_error(y_test,pre))\n",
    "print(\"回归系数\\n\",estimator.coef_)\n",
    "print(\"偏置 \",estimator.intercept_)"
   ]
  },
  {
   "cell_type": "markdown",
   "metadata": {},
   "source": [
    "# 岭回归"
   ]
  },
  {
   "cell_type": "code",
   "execution_count": 31,
   "metadata": {},
   "outputs": [
    {
     "name": "stdout",
     "output_type": "stream",
     "text": [
      "均方误差\n",
      " 22.717204695248682\n",
      "回归系数\n",
      " [-0.44470202  0.50601476 -0.53723366  0.86805726 -0.85263804  2.73443404\n",
      " -0.3065462  -1.60265073  0.67087182 -0.38676485 -1.32172721  0.79633395\n",
      " -2.94114521]\n",
      "偏置  22.579702970297042\n"
     ]
    }
   ],
   "source": [
    "# 1. 获取数据\n",
    "data = load_boston()\n",
    "# 2. 数据基本处理\n",
    "#    1. 切割数据\n",
    "x_train,x_test,y_train,y_test = train_test_split(data.data,data.target,test_size=0.2,random_state =22)\n",
    "# 3. 特征工程\n",
    "#    1. 特征标准化\n",
    "transfer = StandardScaler()\n",
    "x_train = transfer.fit_transform(x_train)\n",
    "x_test = transfer.transform(x_test)\n",
    "# 4. 建立模型\n",
    "#    1. 正规方程\n",
    "# estimator = LinearRegression()\n",
    "# estimator = SGDRegressor(max_iter=1000,learning_rate=\"constant\",eta0=0.001)\n",
    "estimator = Ridge(alpha=100)\n",
    "estimator.fit(x_train,y_train)\n",
    "# 5. 模型评估\n",
    "#    均方误差\n",
    "pre = estimator.predict(x_test)\n",
    "print(\"均方误差\\n\",mean_squared_error(y_test,pre))\n",
    "print(\"回归系数\\n\",estimator.coef_)\n",
    "print(\"偏置 \",estimator.intercept_)"
   ]
  },
  {
   "cell_type": "markdown",
   "metadata": {},
   "source": [
    "## 交叉验证"
   ]
  },
  {
   "cell_type": "code",
   "execution_count": 34,
   "metadata": {},
   "outputs": [
    {
     "name": "stdout",
     "output_type": "stream",
     "text": [
      "均方误差\n",
      " 21.033604774721336\n",
      "回归系数\n",
      " [-0.61990598  0.94631264 -0.31665966  0.88594399 -1.74413196  2.79010443\n",
      " -0.20188216 -3.01252177  1.94493073 -1.14271415 -1.61041215  0.91048372\n",
      " -3.67949124]\n",
      "偏置  22.579702970297042\n",
      "最优正则化力度\n",
      " 10.0\n"
     ]
    }
   ],
   "source": [
    "# 1. 获取数据\n",
    "data = load_boston()\n",
    "# 2. 数据基本处理\n",
    "#    1. 切割数据\n",
    "x_train,x_test,y_train,y_test = train_test_split(data.data,data.target,test_size=0.2,random_state =22)\n",
    "# 3. 特征工程\n",
    "#    1. 特征标准化\n",
    "transfer = StandardScaler()\n",
    "x_train = transfer.fit_transform(x_train)\n",
    "x_test = transfer.transform(x_test)\n",
    "# 4. 建立模型\n",
    "#    1. 正规方程\n",
    "# estimator = LinearRegression()\n",
    "# estimator = SGDRegressor(max_iter=1000,learning_rate=\"constant\",eta0=0.001)\n",
    "estimator = RidgeCV(alphas=(0.1,10,20,100))\n",
    "estimator.fit(x_train,y_train)\n",
    "# 5. 模型评估\n",
    "#    均方误差\n",
    "pre = estimator.predict(x_test)\n",
    "print(\"均方误差\\n\",mean_squared_error(y_test,pre))\n",
    "print(\"回归系数\\n\",estimator.coef_)\n",
    "print(\"偏置 \",estimator.intercept_)\n",
    "print(\"最优正则化力度\\n\",estimator.alpha_)"
   ]
  },
  {
   "cell_type": "markdown",
   "metadata": {},
   "source": [
    "#  模型保存和加载"
   ]
  },
  {
   "cell_type": "markdown",
   "metadata": {},
   "source": [
    "## 模型保存"
   ]
  },
  {
   "cell_type": "code",
   "execution_count": 37,
   "metadata": {},
   "outputs": [
    {
     "name": "stdout",
     "output_type": "stream",
     "text": [
      "均方误差\n",
      " 21.033604774721336\n",
      "回归系数\n",
      " [-0.61990598  0.94631264 -0.31665966  0.88594399 -1.74413196  2.79010443\n",
      " -0.20188216 -3.01252177  1.94493073 -1.14271415 -1.61041215  0.91048372\n",
      " -3.67949124]\n",
      "偏置  22.579702970297042\n",
      "最优正则化力度\n",
      " 10.0\n"
     ]
    }
   ],
   "source": [
    "\n",
    "# 1. 获取数据\n",
    "data = load_boston()\n",
    "# 2. 数据基本处理\n",
    "#    1. 切割数据\n",
    "x_train,x_test,y_train,y_test = train_test_split(data.data,data.target,test_size=0.2,random_state =22)\n",
    "# 3. 特征工程\n",
    "#    1. 特征标准化\n",
    "transfer = StandardScaler()\n",
    "x_train = transfer.fit_transform(x_train)\n",
    "x_test = transfer.transform(x_test)\n",
    "# 4. 建立模型\n",
    "#    1. 正规方程\n",
    "# estimator = LinearRegression()\n",
    "# estimator = SGDRegressor(max_iter=1000,learning_rate=\"constant\",eta0=0.001)\n",
    "estimator = RidgeCV(alphas=(0.1,10,20,100))\n",
    "estimator.fit(x_train,y_train)\n",
    "# 实现模型保存\n",
    "joblib.dump(estimator,\"./python28.pkl\")\n",
    "# 5. 模型评估\n",
    "#    均方误差\n",
    "pre = estimator.predict(x_test)\n",
    "print(\"均方误差\\n\",mean_squared_error(y_test,pre))\n",
    "print(\"回归系数\\n\",estimator.coef_)\n",
    "print(\"偏置 \",estimator.intercept_)\n",
    "print(\"最优正则化力度\\n\",estimator.alpha_)"
   ]
  },
  {
   "cell_type": "markdown",
   "metadata": {},
   "source": [
    "## 模型加载"
   ]
  },
  {
   "cell_type": "code",
   "execution_count": 38,
   "metadata": {},
   "outputs": [],
   "source": [
    "estimator1 = joblib.load('./python28.pkl')"
   ]
  },
  {
   "cell_type": "code",
   "execution_count": 40,
   "metadata": {},
   "outputs": [],
   "source": [
    "pre = estimator1.predict(x_test)"
   ]
  },
  {
   "cell_type": "code",
   "execution_count": 41,
   "metadata": {},
   "outputs": [
    {
     "data": {
      "text/plain": [
       "array([-0.61990598,  0.94631264, -0.31665966,  0.88594399, -1.74413196,\n",
       "        2.79010443, -0.20188216, -3.01252177,  1.94493073, -1.14271415,\n",
       "       -1.61041215,  0.91048372, -3.67949124])"
      ]
     },
     "execution_count": 41,
     "metadata": {},
     "output_type": "execute_result"
    }
   ],
   "source": [
    "estimator1.coef_"
   ]
  },
  {
   "cell_type": "code",
   "execution_count": 42,
   "metadata": {},
   "outputs": [
    {
     "data": {
      "text/plain": [
       "22.579702970297042"
      ]
     },
     "execution_count": 42,
     "metadata": {},
     "output_type": "execute_result"
    }
   ],
   "source": [
    "estimator1.intercept_"
   ]
  },
  {
   "cell_type": "code",
   "execution_count": 43,
   "metadata": {},
   "outputs": [
    {
     "data": {
      "text/plain": [
       "21.033604774721336"
      ]
     },
     "execution_count": 43,
     "metadata": {},
     "output_type": "execute_result"
    }
   ],
   "source": [
    "mean_squared_error(y_test,pre)"
   ]
  },
  {
   "cell_type": "code",
   "execution_count": null,
   "metadata": {},
   "outputs": [],
   "source": []
  },
  {
   "cell_type": "code",
   "execution_count": null,
   "metadata": {},
   "outputs": [],
   "source": []
  },
  {
   "cell_type": "code",
   "execution_count": null,
   "metadata": {},
   "outputs": [],
   "source": []
  },
  {
   "cell_type": "code",
   "execution_count": null,
   "metadata": {},
   "outputs": [],
   "source": []
  }
 ],
 "metadata": {
  "kernelspec": {
   "display_name": "Python 3",
   "language": "python",
   "name": "python3"
  },
  "language_info": {
   "codemirror_mode": {
    "name": "ipython",
    "version": 3
   },
   "file_extension": ".py",
   "mimetype": "text/x-python",
   "name": "python",
   "nbconvert_exporter": "python",
   "pygments_lexer": "ipython3",
   "version": "3.6.5"
  },
  "toc": {
   "base_numbering": 1,
   "nav_menu": {},
   "number_sections": true,
   "sideBar": true,
   "skip_h1_title": false,
   "title_cell": "Table of Contents",
   "title_sidebar": "Contents",
   "toc_cell": false,
   "toc_position": {},
   "toc_section_display": true,
   "toc_window_display": false
  }
 },
 "nbformat": 4,
 "nbformat_minor": 2
}
