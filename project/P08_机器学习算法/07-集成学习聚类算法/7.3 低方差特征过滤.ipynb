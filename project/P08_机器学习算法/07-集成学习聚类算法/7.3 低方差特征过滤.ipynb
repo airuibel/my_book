{
 "cells": [
  {
   "cell_type": "code",
   "execution_count": 9,
   "metadata": {},
   "outputs": [],
   "source": [
    "import pandas as pd\n",
    "from sklearn.feature_selection import VarianceThreshold"
   ]
  },
  {
   "cell_type": "code",
   "execution_count": 2,
   "metadata": {},
   "outputs": [],
   "source": [
    "data = pd.read_csv('./data/factor_returns.csv')"
   ]
  },
  {
   "cell_type": "code",
   "execution_count": 3,
   "metadata": {},
   "outputs": [
    {
     "data": {
      "text/html": [
       "<div>\n",
       "<style scoped>\n",
       "    .dataframe tbody tr th:only-of-type {\n",
       "        vertical-align: middle;\n",
       "    }\n",
       "\n",
       "    .dataframe tbody tr th {\n",
       "        vertical-align: top;\n",
       "    }\n",
       "\n",
       "    .dataframe thead th {\n",
       "        text-align: right;\n",
       "    }\n",
       "</style>\n",
       "<table border=\"1\" class=\"dataframe\">\n",
       "  <thead>\n",
       "    <tr style=\"text-align: right;\">\n",
       "      <th></th>\n",
       "      <th>index</th>\n",
       "      <th>pe_ratio</th>\n",
       "      <th>pb_ratio</th>\n",
       "      <th>market_cap</th>\n",
       "      <th>return_on_asset_net_profit</th>\n",
       "      <th>du_return_on_equity</th>\n",
       "      <th>ev</th>\n",
       "      <th>earnings_per_share</th>\n",
       "      <th>revenue</th>\n",
       "      <th>total_expense</th>\n",
       "      <th>date</th>\n",
       "      <th>return</th>\n",
       "    </tr>\n",
       "  </thead>\n",
       "  <tbody>\n",
       "    <tr>\n",
       "      <th>0</th>\n",
       "      <td>000001.XSHE</td>\n",
       "      <td>5.9572</td>\n",
       "      <td>1.1818</td>\n",
       "      <td>8.525255e+10</td>\n",
       "      <td>0.8008</td>\n",
       "      <td>14.9403</td>\n",
       "      <td>1.211445e+12</td>\n",
       "      <td>2.010</td>\n",
       "      <td>2.070140e+10</td>\n",
       "      <td>1.088254e+10</td>\n",
       "      <td>2012-01-31</td>\n",
       "      <td>0.027657</td>\n",
       "    </tr>\n",
       "    <tr>\n",
       "      <th>1</th>\n",
       "      <td>000002.XSHE</td>\n",
       "      <td>7.0289</td>\n",
       "      <td>1.5880</td>\n",
       "      <td>8.411336e+10</td>\n",
       "      <td>1.6463</td>\n",
       "      <td>7.8656</td>\n",
       "      <td>3.002521e+11</td>\n",
       "      <td>0.326</td>\n",
       "      <td>2.930837e+10</td>\n",
       "      <td>2.378348e+10</td>\n",
       "      <td>2012-01-31</td>\n",
       "      <td>0.082352</td>\n",
       "    </tr>\n",
       "    <tr>\n",
       "      <th>2</th>\n",
       "      <td>000008.XSHE</td>\n",
       "      <td>-262.7461</td>\n",
       "      <td>7.0003</td>\n",
       "      <td>5.170455e+08</td>\n",
       "      <td>-0.5678</td>\n",
       "      <td>-0.5943</td>\n",
       "      <td>7.705178e+08</td>\n",
       "      <td>-0.006</td>\n",
       "      <td>1.167983e+07</td>\n",
       "      <td>1.203008e+07</td>\n",
       "      <td>2012-01-31</td>\n",
       "      <td>0.099789</td>\n",
       "    </tr>\n",
       "    <tr>\n",
       "      <th>3</th>\n",
       "      <td>000060.XSHE</td>\n",
       "      <td>16.4760</td>\n",
       "      <td>3.7146</td>\n",
       "      <td>1.968046e+10</td>\n",
       "      <td>5.6036</td>\n",
       "      <td>14.6170</td>\n",
       "      <td>2.800916e+10</td>\n",
       "      <td>0.350</td>\n",
       "      <td>9.189387e+09</td>\n",
       "      <td>7.935543e+09</td>\n",
       "      <td>2012-01-31</td>\n",
       "      <td>0.121595</td>\n",
       "    </tr>\n",
       "    <tr>\n",
       "      <th>4</th>\n",
       "      <td>000069.XSHE</td>\n",
       "      <td>12.5878</td>\n",
       "      <td>2.5616</td>\n",
       "      <td>4.172721e+10</td>\n",
       "      <td>2.8729</td>\n",
       "      <td>10.9097</td>\n",
       "      <td>8.124738e+10</td>\n",
       "      <td>0.271</td>\n",
       "      <td>8.951453e+09</td>\n",
       "      <td>7.091398e+09</td>\n",
       "      <td>2012-01-31</td>\n",
       "      <td>-0.002681</td>\n",
       "    </tr>\n",
       "  </tbody>\n",
       "</table>\n",
       "</div>"
      ],
      "text/plain": [
       "         index  pe_ratio  pb_ratio    market_cap  return_on_asset_net_profit  \\\n",
       "0  000001.XSHE    5.9572    1.1818  8.525255e+10                      0.8008   \n",
       "1  000002.XSHE    7.0289    1.5880  8.411336e+10                      1.6463   \n",
       "2  000008.XSHE -262.7461    7.0003  5.170455e+08                     -0.5678   \n",
       "3  000060.XSHE   16.4760    3.7146  1.968046e+10                      5.6036   \n",
       "4  000069.XSHE   12.5878    2.5616  4.172721e+10                      2.8729   \n",
       "\n",
       "   du_return_on_equity            ev  earnings_per_share       revenue  \\\n",
       "0              14.9403  1.211445e+12               2.010  2.070140e+10   \n",
       "1               7.8656  3.002521e+11               0.326  2.930837e+10   \n",
       "2              -0.5943  7.705178e+08              -0.006  1.167983e+07   \n",
       "3              14.6170  2.800916e+10               0.350  9.189387e+09   \n",
       "4              10.9097  8.124738e+10               0.271  8.951453e+09   \n",
       "\n",
       "   total_expense        date    return  \n",
       "0   1.088254e+10  2012-01-31  0.027657  \n",
       "1   2.378348e+10  2012-01-31  0.082352  \n",
       "2   1.203008e+07  2012-01-31  0.099789  \n",
       "3   7.935543e+09  2012-01-31  0.121595  \n",
       "4   7.091398e+09  2012-01-31 -0.002681  "
      ]
     },
     "execution_count": 3,
     "metadata": {},
     "output_type": "execute_result"
    }
   ],
   "source": [
    "data.head()"
   ]
  },
  {
   "cell_type": "code",
   "execution_count": 7,
   "metadata": {},
   "outputs": [],
   "source": [
    "data = data.iloc[:,1:-2]"
   ]
  },
  {
   "cell_type": "code",
   "execution_count": 8,
   "metadata": {},
   "outputs": [
    {
     "data": {
      "text/plain": [
       "(2318, 9)"
      ]
     },
     "execution_count": 8,
     "metadata": {},
     "output_type": "execute_result"
    }
   ],
   "source": [
    "data.shape"
   ]
  },
  {
   "cell_type": "code",
   "execution_count": 20,
   "metadata": {},
   "outputs": [],
   "source": [
    "# 实例化\n",
    "transfer = VarianceThreshold(threshold=20)"
   ]
  },
  {
   "cell_type": "code",
   "execution_count": 21,
   "metadata": {},
   "outputs": [],
   "source": [
    "mydata = transfer.fit_transform(data)"
   ]
  },
  {
   "cell_type": "code",
   "execution_count": 22,
   "metadata": {},
   "outputs": [
    {
     "data": {
      "text/plain": [
       "(2318, 7)"
      ]
     },
     "execution_count": 22,
     "metadata": {},
     "output_type": "execute_result"
    }
   ],
   "source": [
    "mydata.shape"
   ]
  },
  {
   "cell_type": "code",
   "execution_count": null,
   "metadata": {},
   "outputs": [],
   "source": []
  },
  {
   "cell_type": "code",
   "execution_count": null,
   "metadata": {},
   "outputs": [],
   "source": []
  }
 ],
 "metadata": {
  "kernelspec": {
   "display_name": "Python 3",
   "language": "python",
   "name": "python3"
  },
  "language_info": {
   "codemirror_mode": {
    "name": "ipython",
    "version": 3
   },
   "file_extension": ".py",
   "mimetype": "text/x-python",
   "name": "python",
   "nbconvert_exporter": "python",
   "pygments_lexer": "ipython3",
   "version": "3.6.5"
  },
  "toc": {
   "base_numbering": 1,
   "nav_menu": {},
   "number_sections": true,
   "sideBar": true,
   "skip_h1_title": false,
   "title_cell": "Table of Contents",
   "title_sidebar": "Contents",
   "toc_cell": false,
   "toc_position": {},
   "toc_section_display": true,
   "toc_window_display": false
  }
 },
 "nbformat": 4,
 "nbformat_minor": 2
}
