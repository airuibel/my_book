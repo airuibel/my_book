{
 "cells": [
  {
   "cell_type": "code",
   "execution_count": 8,
   "metadata": {},
   "outputs": [
    {
     "name": "stdout",
     "output_type": "stream",
     "text": [
      "请输入第一个数-7\n",
      "请输入第二个数-9\n",
      "-7和-9的最大公约数为：-1\n"
     ]
    }
   ],
   "source": [
    "try:\n",
    "    x = int(input(\"请输入第一个数\"))\n",
    "    y = int(input(\"请输入第二个数\"))\n",
    "    a = x\n",
    "    b = y\n",
    "    if a < b:\n",
    "        a, b = b, a\n",
    "    while b != 0:\n",
    "        #辗转法求最大公约数\n",
    "        tem = a % b \n",
    "        a = b\n",
    "        b = tem\n",
    "    else:\n",
    "        print(\"%s和%s的最大公约数为：%s\"%(x,y,a))\n",
    "except Exception as result:\n",
    "    print(\"请正确输入！！！%s\"%result)"
   ]
  },
  {
   "cell_type": "code",
   "execution_count": 9,
   "metadata": {},
   "outputs": [
    {
     "data": {
      "text/plain": [
       "-1"
      ]
     },
     "execution_count": 9,
     "metadata": {},
     "output_type": "execute_result"
    }
   ],
   "source": [
    "a"
   ]
  }
 ],
 "metadata": {
  "kernelspec": {
   "display_name": "Python 3",
   "language": "python",
   "name": "python3"
  },
  "language_info": {
   "codemirror_mode": {
    "name": "ipython",
    "version": 3
   },
   "file_extension": ".py",
   "mimetype": "text/x-python",
   "name": "python",
   "nbconvert_exporter": "python",
   "pygments_lexer": "ipython3",
   "version": "3.6.0"
  }
 },
 "nbformat": 4,
 "nbformat_minor": 2
}
