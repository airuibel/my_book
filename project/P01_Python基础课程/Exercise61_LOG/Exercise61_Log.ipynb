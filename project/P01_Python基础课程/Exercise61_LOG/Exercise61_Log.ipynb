{
 "cells": [
  {
   "cell_type": "code",
   "execution_count": 2,
   "metadata": {},
   "outputs": [],
   "source": [
    "import logging\n",
    "\n",
    "LOG_FORMAT = \"%(asctime)s=====%(levelname)s++++++%(message)s\"\n",
    "\n",
    "logging.basicConfig(filename=\"D:\\Python\\Learning\\Exercise\\Exercise61_LOG\\exercise.log\", level=logging.DEBUG, format=LOG_FORMAT)\n",
    "\n",
    "logging.debug(\"This is a debug log.\")\n",
    "logging.info(\"This is a info log.\")\n",
    "logging.warning(\"This is a warning log.\")\n",
    "logging.error(\"This is a error log.\")\n",
    "logging.critical(\"This is a critical log.\")\n",
    "\n",
    "\n",
    "\n",
    "\n",
    "\n",
    "# 另外一种写法\n"
   ]
  },
  {
   "cell_type": "code",
   "execution_count": null,
   "metadata": {},
   "outputs": [],
   "source": [
    "# 另外一种写法\n",
    "logging.log(logging.DEBUG, \"This is a debug log.\")\n",
    "logging.log(logging.INFO, \"This is a info log.\")\n",
    "logging.log(logging.WARNING, \"This is a warning log.\")\n",
    "logging.log(logging.ERROR, \"This is a error log.\")\n",
    "logging.log(logging.CRITICAL, \"This is a critical log.\")"
   ]
  },
  {
   "cell_type": "code",
   "execution_count": 9,
   "metadata": {},
   "outputs": [],
   "source": [
    "# w = '01234'\n",
    "# d_list = [d for d in w] \n",
    "# e_list = [e for e in w]\n",
    "# f_list = [str(f) for f in range(10)]\n",
    "# z500_list = []\n",
    "# for i in d_list:\n",
    "#     for j in e_list:\n",
    "#         for k in f_list:\n",
    "#             z500_list.append(\"%s%s%s\" % (i, j ,k))\n",
    "#             z500_list.append(\"%s%s%s\" % (i, k, j))\n",
    "#             z500_list.append(\"%s%s%s\" % (j, i, k))\n",
    "#             z500_list.append(\"%s%s%s\" % (j, k, i))\n",
    "#             z500_list.append(\"%s%s%s\" % (k, i, j))\n",
    "#             z500_list.append(\"%s%s%s\" % (k, j, i))\n",
    "# print(len(z500_list))\n",
    "# z500 = list(set(z500_list))\n",
    "# z500.sort()\n",
    "# print(z500)"
   ]
  },
  {
   "cell_type": "code",
   "execution_count": 2,
   "metadata": {},
   "outputs": [
    {
     "name": "stdout",
     "output_type": "stream",
     "text": [
      "27\n",
      "28\n",
      "29\n",
      "30\n",
      "31\n",
      "32\n",
      "33\n",
      "34\n",
      "35\n",
      "36\n",
      "37\n",
      "38\n",
      "39\n",
      "40\n",
      "41\n",
      "42\n",
      "43\n",
      "44\n",
      "45\n",
      "46\n",
      "47\n",
      "48\n",
      "49\n",
      "50\n",
      "51\n",
      "52\n",
      "53\n",
      "54\n",
      "55\n",
      "56\n",
      "57\n",
      "58\n",
      "59\n",
      "00\n",
      "01\n",
      "02\n",
      "03\n",
      "04\n",
      "05\n",
      "06\n",
      "07\n",
      "08\n",
      "ok\n"
     ]
    }
   ],
   "source": [
    "import time\n",
    "while True:\n",
    "    t = str(time.strftime(\"%S\",time.localtime()))\n",
    "    time.sleep(1)\n",
    "    print(t)\n",
    "    if t in [\"08\",\"09\"]:\n",
    "        print(\"ok\")\n",
    "        break"
   ]
  }
 ],
 "metadata": {
  "kernelspec": {
   "display_name": "Python 3",
   "language": "python",
   "name": "python3"
  },
  "language_info": {
   "codemirror_mode": {
    "name": "ipython",
    "version": 3
   },
   "file_extension": ".py",
   "mimetype": "text/x-python",
   "name": "python",
   "nbconvert_exporter": "python",
   "pygments_lexer": "ipython3",
   "version": "3.6.0"
  }
 },
 "nbformat": 4,
 "nbformat_minor": 2
}
