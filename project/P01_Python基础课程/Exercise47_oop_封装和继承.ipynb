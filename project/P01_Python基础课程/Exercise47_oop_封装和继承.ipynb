{
 "cells": [
  {
   "cell_type": "code",
   "execution_count": 8,
   "metadata": {},
   "outputs": [
    {
     "name": "stdout",
     "output_type": "stream",
     "text": [
      "60\n"
     ]
    }
   ],
   "source": [
    "# 封装(隐藏数据和保护属性)\n",
    "class Person():\n",
    "    def __init__(self, name, age):\n",
    "        self.name = name\n",
    "        self.age = age\n",
    "    def set_age(self, new_age):\n",
    "        if new_age > 0 and new_age < 120:\n",
    "            self.__age = new_age\n",
    "    def get_age(self):\n",
    "        return self.__age\n",
    "person = Person(\"老王\", 50)   \n",
    "person.set_age(60)\n",
    "print(person.get_age())"
   ]
  },
  {
   "cell_type": "code",
   "execution_count": 10,
   "metadata": {},
   "outputs": [
    {
     "name": "stdout",
     "output_type": "stream",
     "text": [
      "---跑---\n",
      "白色\n"
     ]
    }
   ],
   "source": [
    "# 单继承，在现在有类的基础上构建一个新的类\n",
    "class Cat():\n",
    "    def __init__(self,color = \"白色\"):\n",
    "        self.color = color\n",
    "    def run_(self):\n",
    "        print(\"---跑---\")\n",
    "class PersianCat(Cat):\n",
    "    pass\n",
    "cat = PersianCat(\"黑色\")\n",
    "cat.run_()\n",
    "print(cat.color)"
   ]
  },
  {
   "cell_type": "code",
   "execution_count": 31,
   "metadata": {},
   "outputs": [
    {
     "name": "stdout",
     "output_type": "stream",
     "text": [
      "哮天犬\n",
      "黑色\n",
      "出去玩耍喽\n",
      "报告主人,我找到他们的踪迹了\n",
      "白色\n",
      "哈哈，逮到一只老鼠\n"
     ]
    }
   ],
   "source": [
    "# 继承的传递性注意事项\n",
    "class Animal():\n",
    "    def __init__(self,name,color):\n",
    "        self.name = name\n",
    "        self.color = color\n",
    "    def eat_(self):\n",
    "        print(\"吃不饱呀，吃不饱\")\n",
    "    def drink_(self):\n",
    "        print(\"吃饱喝足才能愉快的玩耍\")\n",
    "    def run_(self):\n",
    "        print(\"出去玩耍喽\")\n",
    "    def sleep_(self):\n",
    "        print(\"累了就睡觉\")\n",
    "        \n",
    "class Dog(Animal):           \n",
    "    def bark_(self):\n",
    "        print(\"--汪汪汪--\")\n",
    "class XiaoTianQuan(Dog):\n",
    "    def fly_(self):\n",
    "        print(\"报告主人,我找到他们的踪迹了\")\n",
    "        \n",
    "class Cat(Animal):\n",
    "\n",
    "    def catch_(self):\n",
    "        print(\"哈哈，逮到一只老鼠\")\n",
    "        \n",
    "dog = XiaoTianQuan(\"哮天犬\",\"黑色\")\n",
    "print(dog.name)\n",
    "print(dog.color)\n",
    "dog.run_()\n",
    "dog.fly_()\n",
    "cat = Cat(\"咪咪\",\"白色\")\n",
    "print(cat.color)\n",
    "cat.catch_()"
   ]
  },
  {
   "cell_type": "code",
   "execution_count": 44,
   "metadata": {},
   "outputs": [
    {
     "name": "stdout",
     "output_type": "stream",
     "text": [
      "叫的跟神一样\n"
     ]
    }
   ],
   "source": [
    "#  覆盖父类方法\n",
    "#  如果在开发中，父类的方法和子类的方法实现完全不同\n",
    "#  就可以使用覆盖的方式。在子类中重新编写父类的方法实现\n",
    "# 具体的实现方式，就相当于在子类中定义一个和父类同名的方法并实现\n",
    "class Animal():\n",
    "    def __init__(self,name,color):\n",
    "        self.name = name\n",
    "        self.color = color\n",
    "    def eat_(self):\n",
    "        print(\"吃不饱呀，吃不饱\")\n",
    "    def drink_(self):\n",
    "        print(\"吃饱喝足才能愉快的玩耍\")\n",
    "    def run_(self):\n",
    "        print(\"出去玩耍喽\")\n",
    "    def sleep_(self):\n",
    "        print(\"累了就睡觉\")\n",
    "        \n",
    "class Dog(Animal):           \n",
    "    def bark_(self):\n",
    "        print(\"--汪汪汪--\")\n",
    "class XiaoTianQuan(Dog):\n",
    "    def fly_(self):\n",
    "        print(\"报告主人,我找到他们的踪迹了\")\n",
    "    def bark_(self):\n",
    "        print(\"叫的跟神一样\")\n",
    "        \n",
    "dog = XiaoTianQuan(\"哮天犬\",\"黑色\")\n",
    "dog.bark_()\n"
   ]
  },
  {
   "cell_type": "code",
   "execution_count": 46,
   "metadata": {},
   "outputs": [
    {
     "name": "stdout",
     "output_type": "stream",
     "text": [
      "叫的跟神一样\n",
      "--汪汪汪--\n",
      "$%^$%^$%^$%^&\n"
     ]
    }
   ],
   "source": [
    "# 扩展父类的方法\n",
    "# 在需要的位置使用super()。父类方法  来调用父类封装的 方法\n",
    "# 代码其他的位置针对子类的需求，编写特有的代码实现\n",
    "class Animal():\n",
    "    def __init__(self,name,color):\n",
    "        self.name = name\n",
    "        self.color = color\n",
    "    def eat_(self):\n",
    "        print(\"吃不饱呀，吃不饱\")\n",
    "    def drink_(self):\n",
    "        print(\"吃饱喝足才能愉快的玩耍\")\n",
    "    def run_(self):\n",
    "        print(\"出去玩耍喽\")\n",
    "    def sleep_(self):\n",
    "        print(\"累了就睡觉\")\n",
    "        \n",
    "class Dog(Animal):           \n",
    "    def bark_(self):\n",
    "        print(\"--汪汪汪--\")\n",
    "class XiaoTianQuan(Dog):\n",
    "    def fly_(self):\n",
    "        print(\"报告主人,我找到他们的踪迹了\")\n",
    "    def bark_(self):\n",
    "        # 1 针对子类特有的的需求，编写代码\n",
    "        print(\"叫的跟神一样\")\n",
    "        # 2 使用supe()调用原本在父类中封装的方法\n",
    "        super().bark_()\n",
    "        # 增加其他子类代码\n",
    "        print(\"$%^$%^$%^$%^&\")\n",
    "dog = XiaoTianQuan(\"哮天犬\",\"黑色\")\n",
    "dog.bark_()\n"
   ]
  },
  {
   "cell_type": "code",
   "execution_count": 51,
   "metadata": {},
   "outputs": [
    {
     "name": "stdout",
     "output_type": "stream",
     "text": [
      "访问父类的私有属性100\n",
      "父类共有方法200\n",
      "私有方法 100  200\n",
      "None\n"
     ]
    }
   ],
   "source": [
    "# 父类的私有属性和方法\n",
    "# 子类对象可以通过父类的共有方法简介访问到私有属性或私有方法\n",
    "class A():\n",
    "    def __init__(self):\n",
    "        self.num1 = 100\n",
    "        self.__num = 200\n",
    "        \n",
    "    def __test(self):\n",
    "        print(\"私有方法 %d  %d\"%(self.num1,self.__num))\n",
    "    def test(self):\n",
    "        print(\"父类共有方法%d\"%self.__num)\n",
    "        self.__test()\n",
    "class B(A):\n",
    "    def demo(self):\n",
    "        print(\"访问父类的私有属性%d\"%self.num1)\n",
    "        \n",
    "        # 1 访问父类的私有属性\n",
    "        # 2 调用父类的私有方法,简介调用\n",
    "        self.test()\n",
    "b = B()\n",
    "print(b.demo())\n",
    "\n"
   ]
  },
  {
   "cell_type": "code",
   "execution_count": 52,
   "metadata": {},
   "outputs": [
    {
     "name": "stdout",
     "output_type": "stream",
     "text": [
      "test方法\n",
      "demo方法\n"
     ]
    }
   ],
   "source": [
    "#  多继承\n",
    "#  子类可以拥有多个父类，并且具有所有父类的属性和方法\n",
    "#  例如：孩子会继承自己父亲和母亲的特性\n",
    "\n",
    "class A():\n",
    "    def test(self):\n",
    "        print(\"test方法\")\n",
    "        \n",
    "class B():\n",
    "    def demo(self):\n",
    "        print(\"demo方法\")\n",
    "        \n",
    "class C(A,B):\n",
    "    pass\n",
    "c = C()\n",
    "c.test()\n",
    "c.demo()"
   ]
  },
  {
   "cell_type": "code",
   "execution_count": 54,
   "metadata": {},
   "outputs": [
    {
     "name": "stdout",
     "output_type": "stream",
     "text": [
      "这是A类的方法\n"
     ]
    }
   ],
   "source": [
    "# 多继承使用注意事项\n",
    "# 如果父类之间存在同名的属性或者方法，应该尽量避免多继承\n",
    "class A():\n",
    "    def test(self):\n",
    "        print(\"这是A类的方法\")    \n",
    "class B():\n",
    "    def demo(self):\n",
    "        print(\"demo方法\")\n",
    "    def test(self):\n",
    "        print(\"这是B类的方法\")\n",
    "class C(A,B):\n",
    "    pass\n",
    "c = C()\n",
    "c.test()"
   ]
  },
  {
   "cell_type": "code",
   "execution_count": 57,
   "metadata": {},
   "outputs": [
    {
     "name": "stdout",
     "output_type": "stream",
     "text": [
      "(<class '__main__.C'>, <class '__main__.A'>, <class '__main__.B'>, <class 'object'>)\n"
     ]
    }
   ],
   "source": [
    "#  多继承 __mro__方法 方法搜索顺序\n",
    "class A():\n",
    "    def test(self):\n",
    "        print(\"这是A类的方法\")    \n",
    "class B():\n",
    "    def demo(self):\n",
    "        print(\"demo方法\")\n",
    "    def test(self):\n",
    "        print(\"这是B类的方法\")\n",
    "class C(A,B):\n",
    "    pass\n",
    "c = C()\n",
    "print(C.__mro__)\n"
   ]
  },
  {
   "cell_type": "code",
   "execution_count": 1,
   "metadata": {},
   "outputs": [
    {
     "name": "stdout",
     "output_type": "stream",
     "text": [
      "['__class__', '__delattr__', '__dict__', '__dir__', '__doc__', '__eq__', '__format__', '__ge__', '__getattribute__', '__gt__', '__hash__', '__init__', '__init_subclass__', '__le__', '__lt__', '__module__', '__ne__', '__new__', '__reduce__', '__reduce_ex__', '__repr__', '__setattr__', '__sizeof__', '__str__', '__subclasshook__', '__weakref__']\n"
     ]
    }
   ],
   "source": [
    "#  object 是Python 为所有对象提供的基类，提供有一些内置的属性和方法，\n",
    "#  可以使用dir  函数查看\n",
    "\n",
    "#  新式类 以object 为基类的类，推荐使用\n",
    "#  经典类： 布衣object 为基类的类，不推荐使用\n",
    "# 在今后定义类时。如果没有父类，建议同意继承object\n",
    "class A(object):\n",
    "    pass\n",
    "a = A()\n",
    "#dir(a)\n",
    "\n",
    "class B:\n",
    "    pass\n",
    "b = B()\n",
    "print(dir(b))"
   ]
  },
  {
   "cell_type": "code",
   "execution_count": 4,
   "metadata": {},
   "outputs": [
    {
     "name": "stdout",
     "output_type": "stream",
     "text": [
      "神一样的叫唤\n",
      "--汪汪汪--\n",
      "$%^$$%$$^%$#%%\n"
     ]
    }
   ],
   "source": [
    "# 在子类中重写父类的方法\n",
    "# 在需要的位置使用super().父类方法来调用父类方法执行\n",
    "# 代码其他的位置对子类的需求，编写子类特有的代码实现\n",
    "\n",
    "# super()的用法\n",
    "# 在python 中 super 是一个特殊的类\n",
    "# super()就是使用super类创建出来的的对象\n",
    "# 最常使用的场景就是重写父类方法是，调用在父类中封装的方法实现\n",
    "\n",
    "class Animal():\n",
    "    def __init__(self,name,color):\n",
    "        self.name = name\n",
    "        self.color = color\n",
    "    def eat_(self):\n",
    "        print(\"吃不饱呀，吃不饱\")\n",
    "    def drink_(self):\n",
    "        print(\"吃饱喝足才能愉快的玩耍\")\n",
    "    def run_(self):\n",
    "        print(\"出去玩耍喽\")\n",
    "    def sleep_(self):\n",
    "        print(\"累了就睡觉\")\n",
    "        \n",
    "class Dog(Animal):           \n",
    "    def bark_(self):\n",
    "        print(\"--汪汪汪--\")\n",
    "\n",
    "class XiaoTianQuan(Dog):\n",
    "    def fly_(self):\n",
    "        print(\"报告主人,我找到他们的踪迹了\")\n",
    "    def bark(self):\n",
    "        # 1. 针对子类特有的需求编写代码\n",
    "        print(\"神一样的叫唤\")\n",
    "        # 2. 使用super().调用原本在父类中封装的方法\n",
    "        super().bark_()\n",
    "        # 3. 增加其他子类的代码\n",
    "        print(\"$%^$$%$$^%$#%%\")\n",
    "        \n",
    "xiaotianquan = XiaoTianQuan(\"哮天犬\",\"黑色\")\n",
    "xiaotianquan.bark()"
   ]
  }
 ],
 "metadata": {
  "kernelspec": {
   "display_name": "Python 3",
   "language": "python",
   "name": "python3"
  },
  "language_info": {
   "codemirror_mode": {
    "name": "ipython",
    "version": 3
   },
   "file_extension": ".py",
   "mimetype": "text/x-python",
   "name": "python",
   "nbconvert_exporter": "python",
   "pygments_lexer": "ipython3",
   "version": "3.6.0"
  }
 },
 "nbformat": 4,
 "nbformat_minor": 2
}
