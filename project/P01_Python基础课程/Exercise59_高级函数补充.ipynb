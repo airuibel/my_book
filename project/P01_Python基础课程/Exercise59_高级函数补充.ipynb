{
 "cells": [
  {
   "cell_type": "code",
   "execution_count": 2,
   "metadata": {},
   "outputs": [
    {
     "name": "stdout",
     "output_type": "stream",
     "text": [
      "<zip object at 0x0000016EBA510F88>\n",
      "('床', '疑')\n",
      "('前', '是')\n",
      "('明', '地')\n",
      "('月', '上')\n",
      "('光', '霜')\n"
     ]
    }
   ],
   "source": [
    "# zip\n",
    "# 把两个可迭代内容生成一个可迭代的tuple元素类型组成的内容\n",
    "# 返回一个类\n",
    "\n",
    "l1 = [\"床\",\"前\",\"明\",\"月\",\"光\"]\n",
    "l2 = [\"疑\",\"是\",\"地\",\"上\",\"霜\"]\n",
    "z = zip(l1,l2)\n",
    "print(z)\n",
    "for i in z:\n",
    "    print(i)"
   ]
  },
  {
   "cell_type": "code",
   "execution_count": 4,
   "metadata": {},
   "outputs": [
    {
     "name": "stdout",
     "output_type": "stream",
     "text": [
      "[(0, 1), (1, 2), (2, 3), (3, 4), (4, 5)]\n",
      "<class 'list'>\n"
     ]
    }
   ],
   "source": [
    "# enumerate\n",
    "# 功能跟zip比较像，配上一个索引。然后缩影和内容构成tuple类型\n",
    "#  默认参数 start= 0，步长为1，返回一个列表 \n",
    "l1 = [1,2,3,4,5]\n",
    "en = enumerate(l1)\n",
    "l2 = [i for i in en]\n",
    "print(l2)\n",
    "print(type(l2))"
   ]
  },
  {
   "cell_type": "code",
   "execution_count": 7,
   "metadata": {},
   "outputs": [
    {
     "name": "stdout",
     "output_type": "stream",
     "text": [
      "[(200, 1), (201, 2), (202, 3), (203, 4), (204, 5)]\n",
      "<class 'list'>\n"
     ]
    }
   ],
   "source": [
    "l1 = [1,2,3,4,5]\n",
    "en = enumerate(l1,start=200)\n",
    "l2 = [i for i in en]\n",
    "print(l2)\n",
    "print(type(l2))"
   ]
  },
  {
   "cell_type": "code",
   "execution_count": 11,
   "metadata": {},
   "outputs": [],
   "source": [
    "enumerate??"
   ]
  },
  {
   "cell_type": "markdown",
   "metadata": {},
   "source": [
    "# collections模块\n",
    "- tuple类型\n",
    "- 是一个可命名的tuple"
   ]
  },
  {
   "cell_type": "code",
   "execution_count": 14,
   "metadata": {},
   "outputs": [
    {
     "name": "stdout",
     "output_type": "stream",
     "text": [
      "11\n",
      "11\n"
     ]
    }
   ],
   "source": [
    "# namedtuple\n",
    "import collections\n",
    "Point = collections.namedtuple(\"Point\",['x', 'y'])\n",
    "p = Point(11, 22)\n",
    "print(p.x)\n",
    "print(p[0])"
   ]
  },
  {
   "cell_type": "code",
   "execution_count": 16,
   "metadata": {},
   "outputs": [
    {
     "name": "stdout",
     "output_type": "stream",
     "text": [
      "Circle(x=100, y=150, r=50)\n",
      "<class '__main__.Circle'>\n"
     ]
    },
    {
     "data": {
      "text/plain": [
       "True"
      ]
     },
     "execution_count": 16,
     "metadata": {},
     "output_type": "execute_result"
    }
   ],
   "source": [
    "Circle = collections.namedtuple(\"Circle\",['x', 'y', 'r'])\n",
    "c = Circle(100, 150, 50)\n",
    "print(c)\n",
    "print(type(c))\n",
    "# 检测一下namedtuple到底属于谁的子类\n",
    "isinstance(c, tuple)"
   ]
  },
  {
   "cell_type": "code",
   "execution_count": 18,
   "metadata": {},
   "outputs": [
    {
     "name": "stdout",
     "output_type": "stream",
     "text": [
      "deque(['a', 'b', 'c'])\n",
      "deque(['a', 'b', 'c', 'd'])\n",
      "deque(['x', 'a', 'b', 'c', 'd'])\n"
     ]
    }
   ],
   "source": [
    "# dequeue 比较方便的解决了频繁删除插入带来的效率问题\n",
    "from collections import deque\n",
    "q = deque(['a', 'b', 'c'])\n",
    "print(q)\n",
    "\n",
    "q.append(\"d\")\n",
    "print(q)\n",
    "\n",
    "q.appendleft('x')\n",
    "print(q)"
   ]
  },
  {
   "cell_type": "markdown",
   "metadata": {},
   "source": [
    "### defaultdict\n",
    "- 当直接读取dict不存在的属性时，直接返回默认值\n"
   ]
  },
  {
   "cell_type": "code",
   "execution_count": null,
   "metadata": {},
   "outputs": [],
   "source": [
    "from collections import defaultdict\n",
    "# lambda表达式，直接返回字符串\n",
    "func = lambda: \"刘大拿\"\n",
    "d2 = defaultdict(func)\n",
    "\n",
    "d2[\"one\"] = 1\n",
    "d2[\"two\"] = 2\n",
    "\n",
    "print(d2['one'])\n",
    "print(d2['four'])"
   ]
  },
  {
   "cell_type": "markdown",
   "metadata": {},
   "source": [
    "# Counter\n",
    "- 统计字符串个数"
   ]
  },
  {
   "cell_type": "code",
   "execution_count": 26,
   "metadata": {},
   "outputs": [
    {
     "name": "stdout",
     "output_type": "stream",
     "text": [
      "Counter({'abcdefgabcdeabcdabcaba': 1})\n"
     ]
    }
   ],
   "source": [
    "from collections import Counter\n",
    "\n",
    "# 为什么下面结果不把abcdefgabced.....作为键值，而是以其中每一个字母作为键值\n",
    "# 需要括号里内容为可迭代\n",
    "c = Counter([\"abcdefgabcdeabcdabcaba\"])\n",
    "print(c)"
   ]
  },
  {
   "cell_type": "code",
   "execution_count": 20,
   "metadata": {},
   "outputs": [
    {
     "name": "stdout",
     "output_type": "stream",
     "text": [
      "Counter({'love': 4, 'liudana': 1, 'wangxiaona': 1})\n"
     ]
    }
   ],
   "source": [
    "s = [\"liudana\", \"love\", \"love\", \"love\", \"love\", \"wangxiaona\"]\n",
    "c = Counter(s)\n",
    "\n",
    "print(c)"
   ]
  }
 ],
 "metadata": {
  "kernelspec": {
   "display_name": "Python 3",
   "language": "python",
   "name": "python3"
  },
  "language_info": {
   "codemirror_mode": {
    "name": "ipython",
    "version": 3
   },
   "file_extension": ".py",
   "mimetype": "text/x-python",
   "name": "python",
   "nbconvert_exporter": "python",
   "pygments_lexer": "ipython3",
   "version": "3.6.0"
  }
 },
 "nbformat": 4,
 "nbformat_minor": 2
}
