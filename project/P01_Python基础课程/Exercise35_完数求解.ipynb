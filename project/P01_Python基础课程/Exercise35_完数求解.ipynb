{
 "cells": [
  {
   "cell_type": "code",
   "execution_count": 1,
   "metadata": {},
   "outputs": [
    {
     "name": "stdout",
     "output_type": "stream",
     "text": [
      "6\n",
      "[1, 2, 3]\n",
      "28\n",
      "[1, 2, 4, 7, 14]\n",
      "496\n",
      "[1, 2, 4, 8, 16, 31, 62, 124, 248]\n"
     ]
    }
   ],
   "source": [
    "#  题目：一个数如果恰好等于它的因子之和，这个数就称为“完数” 。例如 6=1＋2＋3。编\n",
    "#  程找出 1000 以内的所有完数。\n",
    "for i in range(1, 1000):\n",
    "    yueshu_list = []\n",
    "    sum_wansu = 0\n",
    "    for j in range(1, i):\n",
    "        if i % j == 0:\n",
    "            yueshu_list.append(j)\n",
    "    for k in yueshu_list:\n",
    "        sum_wansu += k\n",
    "    if sum_wansu == i:\n",
    "        print(i)\n",
    "        print(yueshu_list)"
   ]
  }
 ],
 "metadata": {
  "kernelspec": {
   "display_name": "Python 3",
   "language": "python",
   "name": "python3"
  },
  "language_info": {
   "codemirror_mode": {
    "name": "ipython",
    "version": 3
   },
   "file_extension": ".py",
   "mimetype": "text/x-python",
   "name": "python",
   "nbconvert_exporter": "python",
   "pygments_lexer": "ipython3",
   "version": "3.6.0"
  }
 },
 "nbformat": 4,
 "nbformat_minor": 2
}
