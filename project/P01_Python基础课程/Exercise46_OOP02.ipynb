{
 "cells": [
  {
   "cell_type": "markdown",
   "metadata": {},
   "source": [
    "## 3.2 继承\n",
    "- 继承就是一个类可以获得另外一个类中的成员属性和成员方法\n",
    "- 作用： 减少代码，增加代码的复用功能， 同时可以设置类与类直接的关系\n",
    "- 继承与被继承的概念：\n",
    "    - 被继承的类叫父类，也叫基类，也叫超类\n",
    "    - 用于继承的类，叫子类，也叫派生类\n",
    "    - 继承与被继承一定存在一个 is-a 关系\n",
    "- 继承的语法，参见oop-2.ipynb\n",
    "- 继承的特征\n",
    "    - 所有的类都继承自object类，即所有的类都是object类的子类\n",
    "    - 子类一旦继承父类，则可以使用父类中除私有成员外的所有内容\n",
    "    - 子类继承父类后并没有将父类成员完全赋值到子类中，而是通过引用关系访问调用\n",
    "    - 子类中可以定义独有的成员属性和方法\n",
    "    - 子类中定义的成员和父类成员如果相同，则优先使用子类成员\n",
    "    - 子类如果想扩充父类的方法，可以在定义新方法的同时访问父类成员来进行代码重用，\n",
    "    可以使用 [父类名.父类成员] 的格式来调用父类成员，也可以使用super().父类成员的\n",
    "    格式来调用\n",
    "- 继承变量函数的查找顺序问题\n",
    "    - 优先查找自己的变量\n",
    "    - 没有则查找父类\n",
    "    - 构造函数如果本类中没有定义，则自动查找调用父类构造函数\n",
    "    - 如果本类有定义，则不在继续向上查找\n",
    "- 构造函数\n",
    "    - 是一类特殊的函数，在类进行实例化之前进行调用\n",
    "    - 如果定义了构造函数，则实例化时使用构造函数，不查找父类构造函数\n",
    "    - 如果没定义，则自动查找父类构造函数\n",
    "    - 如果子类没定义，父类的构造函数带参数，则构造对象时的参数应该按父类参数构造 \n",
    "- super\n",
    "    - super不是关键字， 而是一个类\n",
    "    - super的作用是获取MRO（MethodResolustionOrder）列表中的第一个类\n",
    "    - super于父类直接没任何实质性关系，但通过super可以调用到父类\n",
    "    - super使用两个方,参见在构造函数中调用父类的构造函数"
   ]
  },
  {
   "cell_type": "code",
   "execution_count": 6,
   "metadata": {},
   "outputs": [
    {
     "name": "stdout",
     "output_type": "stream",
     "text": [
      "大拿\n",
      "Noname\n",
      "sec\n",
      "我要睡觉\n"
     ]
    }
   ],
   "source": [
    "class Person():\n",
    "    name = \"Noname\"\n",
    "    age = 20\n",
    "    gender = None\n",
    "    __score = 0 #考试成绩是秘密，只要自己知道\n",
    "    _petname = \"sec\"\n",
    "    def sleep(self):\n",
    "        print(\"我要睡觉\")\n",
    "    \n",
    "        \n",
    "class Teacher(Person):\n",
    "    teacher_id = \"9875\"\n",
    "    name = \"大拿\"\n",
    "    def take_test(self):\n",
    "        print(\"考考你呀！\")\n",
    "        \n",
    "t = Teacher()\n",
    "print(t.name)   # 优先使用子类的属性\n",
    "print(Person.name)\n",
    "#print(t.__score)\n",
    "print(t._petname)\n",
    "t.sleep()"
   ]
  },
  {
   "cell_type": "code",
   "execution_count": 8,
   "metadata": {},
   "outputs": [
    {
     "name": "stdout",
     "output_type": "stream",
     "text": [
      "Make some money\n",
      "考考你呀！\n"
     ]
    }
   ],
   "source": [
    "# 子类扩充父类的工作\n",
    "class Person():\n",
    "    name = \"Noname\"\n",
    "    age = 20\n",
    "    gender = None\n",
    "    __score = 0 #考试成绩是秘密，只要自己知道\n",
    "    _petname = \"sec\"\n",
    "    def sleep(self):\n",
    "        print(\"睡觉Zz~\")\n",
    "        \n",
    "    def work(self):\n",
    "        print(\"Make some money\")\n",
    "        \n",
    "class Teacher(Person):\n",
    "    teacher_id = \"9875\"\n",
    "    name = \"大拿\"\n",
    "    def take_test(self):\n",
    "        print(\"Pay attentions please\")\n",
    "     \n",
    "    def work(self):\n",
    "        # 扩充父类的功能只需要调用父类相应的函数\n",
    "        Person.work(self)\n",
    "        # 扩充父类的另一种方法\n",
    "        self.take_test()\n",
    "t = Teacher()\n",
    "t.work()"
   ]
  },
  {
   "cell_type": "code",
   "execution_count": 49,
   "metadata": {},
   "outputs": [],
   "source": [
    "# 任何时候都是优先查找知己\n",
    "# 没有则查找父类\n",
    "# 构造函数如果本垒中没有定义，则自动查找调用父类构造函数\n",
    "# 语法 __init__ 实例化自动被执行\n",
    "\n",
    "class Animal():\n",
    "    def __inti__(self):\n",
    "        print(\"Animal\")\n",
    "\n",
    "class PaxingAni(Animal):\n",
    "    pass\n",
    "#     def __init__(self):\n",
    "#         print(\"Paxing Dongwu\")\n",
    "class Dog(PaxingAni):\n",
    "    pass\n",
    "    \n",
    "    #def __init__(self):\n",
    "        #print(\"I am init in dog\")\n",
    "        \n",
    "class Cat(PaxingAni):\n",
    "    pass\n",
    "\n",
    "mimi = Cat()\n",
    "kaka = Dog()"
   ]
  },
  {
   "cell_type": "code",
   "execution_count": 50,
   "metadata": {},
   "outputs": [
    {
     "name": "stdout",
     "output_type": "stream",
     "text": [
      "<class 'type'>\n"
     ]
    }
   ],
   "source": [
    "print(type(super))"
   ]
  },
  {
   "cell_type": "code",
   "execution_count": 64,
   "metadata": {},
   "outputs": [
    {
     "name": "stdout",
     "output_type": "stream",
     "text": [
      "小芳 的年龄是18\n",
      "小芳 的年龄是18\n",
      "18\n"
     ]
    }
   ],
   "source": [
    "class Women():\n",
    "    def __init__(self, name):\n",
    "        self.name = name\n",
    "        self.__age = 18\n",
    "    def secret(self):\n",
    "        # 在对象的方法内部是可以使用私有方法的\n",
    "        print(\"%s 的年龄是%d\"%(self.name,self.__age))\n",
    "    \n",
    "    def __secret(self):\n",
    "        print(\"%s 的年龄是%d\"%(self.name,self.__age))\n",
    "        \n",
    "xiaofang = Women(\"小芳\")\n",
    "xiaofang.secret()\n",
    "xiaofang._Women__secret()\n",
    "print(xiaofang._Women__age)"
   ]
  },
  {
   "cell_type": "code",
   "execution_count": 69,
   "metadata": {},
   "outputs": [
    {
     "name": "stdout",
     "output_type": "stream",
     "text": [
      "skjllSnJDJkjsd\n"
     ]
    }
   ],
   "source": [
    "s = \"skjllSDJDJkjsd\"\n",
    "s = s[:6] + 'n' + s[7:]\n",
    "print(s)"
   ]
  },
  {
   "cell_type": "code",
   "execution_count": 72,
   "metadata": {
    "scrolled": true
   },
   "outputs": [
    {
     "name": "stdout",
     "output_type": "stream",
     "text": [
      "{97: 56, 100: 55}\n"
     ]
    }
   ],
   "source": [
    "str1 = \"ad64a684d6\"\n",
    "print(str1.maketrans(\"ad\", \"87\"))\n"
   ]
  },
  {
   "cell_type": "code",
   "execution_count": 11,
   "metadata": {},
   "outputs": [
    {
     "name": "stdout",
     "output_type": "stream",
     "text": [
      "data_one = 100; data_two = 200\n",
      "data_one = 100; data_two = 200\n",
      "<__main__.Demo object at 0x00000224B773DBA8>\n"
     ]
    }
   ],
   "source": [
    "# 定制对象的字符串格式   __srt__方法\n",
    "class Demo():\n",
    "    data_one = 100\n",
    "    # 定义为data_two 赋值的方法\n",
    "    def set(self,num):\n",
    "        self.data_two = num\n",
    "    #  重载方法\n",
    "    def __str__(self):\n",
    "        #返回自定义字符串\n",
    "        return \"data_one = %d; data_two = %d\"%(self.data_one,self.data_two)\n",
    "#  创建实例对象\n",
    "demo = Demo()\n",
    "demo.set(200)\n",
    "print(demo)\n",
    "print(str(demo))\n",
    "print(repr(demo))"
   ]
  },
  {
   "cell_type": "code",
   "execution_count": 10,
   "metadata": {},
   "outputs": [
    {
     "name": "stdout",
     "output_type": "stream",
     "text": [
      "data_one = 100; data_two = 200\n",
      "data_one = 100; data_two = 200\n",
      "data_one = 100; data_two = 200\n"
     ]
    }
   ],
   "source": [
    "# 定制对象的字符串格式   __repr__方法\n",
    "# 重载__repr__方法，可以保证各种操作下都能正确获得实例对象自定义的字符新式\n",
    "# 为了让读者更好的理解。接下来通过一个案例介绍重载__repr__方法\n",
    "class Demo():\n",
    "    data_one = 100\n",
    "    # 定义为data_two 赋值的方法\n",
    "    def set(self,num):\n",
    "        self.data_two = num\n",
    "    #  重载方法\n",
    "    def __repr__(self):\n",
    "        #返回自定义字符串\n",
    "        return \"data_one = %d; data_two = %d\"%(self.data_one,self.data_two)\n",
    "#  创建实例对象\n",
    "demo = Demo()\n",
    "demo.set(200)\n",
    "print(demo)\n",
    "print(str(demo))\n",
    "print(repr(demo))"
   ]
  },
  {
   "cell_type": "code",
   "execution_count": 9,
   "metadata": {},
   "outputs": [
    {
     "name": "stdout",
     "output_type": "stream",
     "text": [
      "我的名字是小明\n"
     ]
    }
   ],
   "source": [
    "class Person():\n",
    "    def __init__(self,name):\n",
    "        self.name = name\n",
    "    def __str__(self):\n",
    "        return  \"我的名字是\" + self.name\n",
    "        \n",
    "person = Person(\"小明\")\n",
    "print(person)"
   ]
  },
  {
   "cell_type": "code",
   "execution_count": null,
   "metadata": {},
   "outputs": [],
   "source": [
    "# 在子类中重写父类的方法\n",
    "# 在需要的位置使用super().父类方法来调用父类方法执行\n",
    "# 代码其他的位置对子类的需求，编写子类特有的代码实现\n",
    "\n",
    "# super()的用法\n",
    "# 在python 中 super 是一个特殊的类\n",
    "# super()就是使用super类创建出来的的对象\n",
    "# 最常使用的场景就是重写父类方法是，调用在父类中封装的方法实现"
   ]
  },
  {
   "cell_type": "markdown",
   "metadata": {},
   "source": []
  }
 ],
 "metadata": {
  "kernelspec": {
   "display_name": "Python 3",
   "language": "python",
   "name": "python3"
  },
  "language_info": {
   "codemirror_mode": {
    "name": "ipython",
    "version": 3
   },
   "file_extension": ".py",
   "mimetype": "text/x-python",
   "name": "python",
   "nbconvert_exporter": "python",
   "pygments_lexer": "ipython3",
   "version": "3.6.0"
  }
 },
 "nbformat": 4,
 "nbformat_minor": 2
}
