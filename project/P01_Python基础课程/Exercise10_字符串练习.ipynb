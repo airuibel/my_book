{
 "cells": [
  {
   "cell_type": "code",
   "execution_count": null,
   "metadata": {
    "scrolled": true
   },
   "outputs": [],
   "source": [
    "num_one = input(\"请输入一个整数:\")\n",
    "num_two = input(\"请输入一个整数:\")\n",
    "a = int(num_one)\n",
    "b = int(num_two)\n",
    "\n",
    "if a % b == 0:\n",
    "    print(\"验证码正确\")"
   ]
  },
  {
   "cell_type": "code",
   "execution_count": 4,
   "metadata": {},
   "outputs": [
    {
     "name": "stdout",
     "output_type": "stream",
     "text": [
      "J\n"
     ]
    }
   ],
   "source": [
    "name = 'Steve Jobs'\n",
    "print(name[6])"
   ]
  },
  {
   "cell_type": "code",
   "execution_count": 5,
   "metadata": {},
   "outputs": [
    {
     "ename": "ValueError",
     "evalue": "substring not found",
     "output_type": "error",
     "traceback": [
      "\u001b[1;31m---------------------------------------------------------------------------\u001b[0m",
      "\u001b[1;31mValueError\u001b[0m                                Traceback (most recent call last)",
      "\u001b[1;32m<ipython-input-5-0ce33dfb1a31>\u001b[0m in \u001b[0;36m<module>\u001b[1;34m()\u001b[0m\n\u001b[0;32m      1\u001b[0m \u001b[0mstring_example\u001b[0m \u001b[1;33m=\u001b[0m \u001b[1;34m'Hello world itheima'\u001b[0m\u001b[1;33m\u001b[0m\u001b[0m\n\u001b[1;32m----> 2\u001b[1;33m \u001b[0mindex\u001b[0m \u001b[1;33m=\u001b[0m \u001b[0mstring_example\u001b[0m\u001b[1;33m.\u001b[0m\u001b[0mindex\u001b[0m\u001b[1;33m(\u001b[0m\u001b[1;34m\"itheima\"\u001b[0m\u001b[1;33m,\u001b[0m\u001b[1;36m0\u001b[0m\u001b[1;33m,\u001b[0m\u001b[1;36m10\u001b[0m\u001b[1;33m)\u001b[0m\u001b[1;33m\u001b[0m\u001b[0m\n\u001b[0m\u001b[0;32m      3\u001b[0m \u001b[0mprint\u001b[0m\u001b[1;33m(\u001b[0m\u001b[0mindex\u001b[0m\u001b[1;33m)\u001b[0m\u001b[1;33m\u001b[0m\u001b[0m\n",
      "\u001b[1;31mValueError\u001b[0m: substring not found"
     ]
    }
   ],
   "source": [
    "string_example = 'Hello world itheima'\n",
    "index = string_example.index(\"itheima\",0,10)\n",
    "print(index)"
   ]
  },
  {
   "cell_type": "code",
   "execution_count": 6,
   "metadata": {},
   "outputs": [
    {
     "name": "stdout",
     "output_type": "stream",
     "text": [
      "HelloPython\n"
     ]
    }
   ],
   "source": [
    "str_example = \"Hello\" + 'Python'\n",
    "print(str_example)"
   ]
  },
  {
   "cell_type": "code",
   "execution_count": 8,
   "metadata": {},
   "outputs": [
    {
     "name": "stdout",
     "output_type": "stream",
     "text": [
      "Hello World\n"
     ]
    }
   ],
   "source": [
    "string_example = \"   Hello World  \"\n",
    "print(string_example.strip())"
   ]
  },
  {
   "cell_type": "code",
   "execution_count": null,
   "metadata": {},
   "outputs": [],
   "source": [
    "str1 = \"ksajdkj6afaf8f66af6a4f5f5sd44affafdsf54d\"\n",
    "i = 0\n",
    "sum1 = 0\n",
    "while i < 10:\n",
    "     sum1 = sum1 + str1.count(str(i)) \n",
    "i += i\n",
    "print(sum1)\n"
   ]
  },
  {
   "cell_type": "code",
   "execution_count": 16,
   "metadata": {},
   "outputs": [
    {
     "name": "stdout",
     "output_type": "stream",
     "text": [
      "请输入星期的第一个字母：s\n",
      "请输入星期的第二个字母：a\n",
      "今天星期六\n"
     ]
    }
   ],
   "source": [
    "week1 =input(\"请输入星期的第一个字母：\")\n",
    "if week1 == 'm':\n",
    "    print(\"今天是星期一\")\n",
    "elif week1 == 'w':\n",
    "    print(\"今天是星期三\")\n",
    "elif week1 == 'f':\n",
    "    print(\"今天是星期五\")\n",
    "elif week1 == 's':\n",
    "    week2 =input(\"请输入星期的第二个字母：\")\n",
    "    if week2 == 'u':\n",
    "        print(\"今天星期天\")\n",
    "    elif week2 == 'a':\n",
    "        print(\"今天星期六\")\n",
    "    else:\n",
    "        print(\"请正确输入！！！\")\n",
    "elif week1 == 't':\n",
    "    week2 =input(\"请输入星期的第二个字母：\")\n",
    "    if week2 == 'u':\n",
    "        print(\"今天是星期二\")\n",
    "    elif week2 == 'h':\n",
    "        print(\"今天星期四\")\n",
    "    else:\n",
    "        print(\"请正确输入\")\n",
    "else:\n",
    "    print(\"请正确输入！！！\")  \n"
   ]
  },
  {
   "cell_type": "code",
   "execution_count": 10,
   "metadata": {},
   "outputs": [
    {
     "name": "stdout",
     "output_type": "stream",
     "text": [
      "uy\n"
     ]
    }
   ],
   "source": [
    "week1 = 'u'\n",
    "week2 = 'y'\n",
    "print(week1 + week2)"
   ]
  },
  {
   "cell_type": "code",
   "execution_count": 3,
   "metadata": {},
   "outputs": [
    {
     "name": "stdout",
     "output_type": "stream",
     "text": [
      "210\n",
      "876543\n"
     ]
    }
   ],
   "source": [
    "str1 = \"012345678\"\n",
    "print(str1[2::-1])\n",
    "print(str1[8:2:-1])"
   ]
  },
  {
   "cell_type": "code",
   "execution_count": 4,
   "metadata": {},
   "outputs": [
    {
     "name": "stdout",
     "output_type": "stream",
     "text": [
      "1\n"
     ]
    }
   ],
   "source": [
    "nameList = ['TOM', 'Rose', 'Lily', 'Rose']\n",
    "\n",
    "# index(): 数据存在返回下标，不存在报错\n",
    "print(nameList.index('Rose'))\n",
    "# print(nameList.index('Roses'))\n",
    "\n",
    "\n",
    "# count()： 统计某个数据出现的次数\n",
    "# print(nameList.count('Rose'))\n",
    "# print(nameList.count('Roses'))\n",
    "\n",
    "\n",
    "# len(): 统计序列内数据的个数\n",
    "# print(len(nameList))\n",
    "\n"
   ]
  }
 ],
 "metadata": {
  "kernelspec": {
   "display_name": "Python 3",
   "language": "python",
   "name": "python3"
  },
  "language_info": {
   "codemirror_mode": {
    "name": "ipython",
    "version": 3
   },
   "file_extension": ".py",
   "mimetype": "text/x-python",
   "name": "python",
   "nbconvert_exporter": "python",
   "pygments_lexer": "ipython3",
   "version": "3.6.0"
  }
 },
 "nbformat": 4,
 "nbformat_minor": 2
}
