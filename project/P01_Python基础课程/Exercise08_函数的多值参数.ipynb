{
 "cells": [
  {
   "cell_type": "code",
   "execution_count": 7,
   "metadata": {},
   "outputs": [
    {
     "name": "stdout",
     "output_type": "stream",
     "text": [
      "Hello 大家好，我自我介绍下，简单说两句：\n",
      "<class 'tuple'>\n",
      "liuying\n",
      "18\n",
      "北京大通周区\n",
      "王晓静\n",
      "single\n",
      "Hello 大家好，我自我介绍下，简单说两句：\n",
      "<class 'tuple'>\n",
      "周大神\n"
     ]
    }
   ],
   "source": [
    "def stu(*args):\n",
    "    print(\"Hello 大家好，我自我介绍下，简单说两句：\")\n",
    "    #type函数作用是检测变量类型\n",
    "    print(type(args))\n",
    "    for item in args:\n",
    "        print(item)\n",
    "        \n",
    "stu(\"liuying\",18,\"北京大通周区\",\"王晓静\",\"single\")\n",
    "stu(\"周大神\")\n"
   ]
  },
  {
   "cell_type": "code",
   "execution_count": 12,
   "metadata": {},
   "outputs": [
    {
     "name": "stdout",
     "output_type": "stream",
     "text": [
      "hello 大家好，我自我介绍下：\n",
      "<class 'dict'>\n",
      "name --- liuying\n",
      "age --- 19\n",
      "addr --- 北京大通粥区\n",
      "lover --- wangxiaojing\n",
      "work --- Teacher\n",
      "********************\n",
      "hello 大家好，我自我介绍下：\n",
      "<class 'dict'>\n",
      "name --- 周大神\n"
     ]
    }
   ],
   "source": [
    "def stu(**kwargs):\n",
    "    print(\"hello 大家好，我自我介绍下：\")\n",
    "    print(type(kwargs))\n",
    "    for k,v in kwargs.items():\n",
    "        print(k,\"---\",v)\n",
    "stu(name=\"liuying\",age=19,addr=\"北京大通粥区\",lover=\"wangxiaojing\",work='Teacher')\n",
    "print('*' * 20)\n",
    "stu(name=\"周大神\")"
   ]
  },
  {
   "cell_type": "code",
   "execution_count": 16,
   "metadata": {},
   "outputs": [
    {
     "name": "stdout",
     "output_type": "stream",
     "text": [
      "请输入用户名：sadasds\n",
      "用户名为：sadasds\n",
      "请输入密码：sadasd\n",
      "密码为:sadasd\n"
     ]
    }
   ],
   "source": [
    "user_name = input(\"请输入用户名：\")\n",
    "print(\"用户名为：%s\"%user_name)\n",
    "user_password = input(\"请输入密码：\")\n",
    "print(\"密码为:%s\"%user_password)"
   ]
  },
  {
   "cell_type": "code",
   "execution_count": 38,
   "metadata": {},
   "outputs": [
    {
     "name": "stdout",
     "output_type": "stream",
     "text": [
      "hello 大家好\n",
      "我叫刘英,我今年19岁了。\n",
      "我没有爱好,so sorry\n",
      "##############################\n",
      "hello 大家好\n",
      "我叫刘英,我今年19岁了。\n",
      "我的爱好是游泳\n",
      "##############################\n",
      "hello 大家好\n",
      "我叫小明,我今年24岁了。\n",
      "我的爱好是打球\n",
      "##############################\n",
      "name1 --- 刘石头\n",
      "hobby1 --- 跟不同的女生聊天\n",
      "name2 --- 王晓静\n",
      "hobby2 --- 游泳\n"
     ]
    }
   ],
   "source": [
    "def stu(name,age,hobby=\"没有\",**kwargs):\n",
    "    print(\"hello 大家好\")\n",
    "    print(\"我叫{0},我今年{1}岁了。\".format(name,age))\n",
    "    if hobby == \"没有\":\n",
    "          print(\"我没有爱好,so sorry\")\n",
    "    else:\n",
    "          print(\"我的爱好是{0}\".format(hobby))\n",
    "    print(\"#\" * 30)\n",
    "    for k,v in kwargs.items():\n",
    "          print(k,\"---\",v)\n",
    "\n",
    "name = \"刘英\"\n",
    "age = 19\n",
    "stu(name,age)\n",
    "stu(name,age,hobby=\"游泳\")\n",
    "stu(name='小明',age=24,hobby=\"打球\",name1=\"刘石头\",hobby1=\"跟不同的女生聊天\",name2=\"王晓静\",hobby2=\"游泳\")"
   ]
  },
  {
   "cell_type": "code",
   "execution_count": 26,
   "metadata": {
    "scrolled": true
   },
   "outputs": [
    {
     "name": "stdout",
     "output_type": "stream",
     "text": [
      "哈哈哈哈\n",
      "<class 'str'>\n",
      "0\n",
      "lliuying\n",
      "<class 'int'>\n",
      "1\n",
      "19\n",
      "<class 'int'>\n",
      "2\n",
      "23\n",
      "<class 'str'>\n",
      "3\n",
      "王晓静\n"
     ]
    }
   ],
   "source": [
    "def stu(args):\n",
    "    print(\"哈哈哈哈\")\n",
    "    # n用来表示循环次数\n",
    "    # 主要用来调试\n",
    "    n=0\n",
    "    for i in args:\n",
    "        print(type(i))\n",
    "        print(n)\n",
    "        n += 1\n",
    "        print(i)\n",
    "l = (\"lliuying\",19,23,'王晓静')\n",
    "stu(l)"
   ]
  },
  {
   "cell_type": "markdown",
   "metadata": {},
   "source": [
    "## 函数文档"
   ]
  },
  {
   "cell_type": "code",
   "execution_count": 39,
   "metadata": {},
   "outputs": [
    {
     "name": "stdout",
     "output_type": "stream",
     "text": [
      "Help on function stu in module __main__:\n",
      "\n",
      "stu(name, age)\n",
      "    这是文档的文字内容\n",
      "    :param name: 表示学生的姓名\n",
      "    :param age: 表示学生的年龄\n",
      "    :return: 此函数没有返回值\n",
      "\n",
      "None\n",
      "********************\n",
      "\n",
      "    这是文档的文字内容\n",
      "    :param name: 表示学生的姓名\n",
      "    :param age: 表示学生的年龄\n",
      "    :return: 此函数没有返回值\n",
      "    \n"
     ]
    }
   ],
   "source": [
    "def stu(name, age):\n",
    "    '''\n",
    "    这是文档的文字内容\n",
    "    :param name: 表示学生的姓名\n",
    "    :param age: 表示学生的年龄\n",
    "    :return: 此函数没有返回值\n",
    "    '''\n",
    "    pass\n",
    "\n",
    "\n",
    "print(help(stu))\n",
    "\n",
    "print(\"*\" * 20)\n",
    "\n",
    "print(stu.__doc__)"
   ]
  }
 ],
 "metadata": {
  "kernelspec": {
   "display_name": "Python 3",
   "language": "python",
   "name": "python3"
  },
  "language_info": {
   "codemirror_mode": {
    "name": "ipython",
    "version": 3
   },
   "file_extension": ".py",
   "mimetype": "text/x-python",
   "name": "python",
   "nbconvert_exporter": "python",
   "pygments_lexer": "ipython3",
   "version": "3.6.0"
  }
 },
 "nbformat": 4,
 "nbformat_minor": 2
}
