{
 "cells": [
  {
   "cell_type": "code",
   "execution_count": null,
   "metadata": {},
   "outputs": [],
   "source": [
    "#  传值和传地址的区别\n",
    "#  对于简单的数值，采用传值操作，对于复杂变量，采用传地址操作\n",
    "def a(n):\n",
    "    n[2] = 300\n",
    "    print(n)\n",
    "    return None\n",
    "\n",
    "def b(n):\n",
    "    n += 100\n",
    "    print(n)\n",
    "    return None\n",
    "\n",
    "an =[1,2,3,4,5,6]\n",
    "bn = 9\n",
    "\n",
    "print(an)\n",
    "a(an)\n",
    "print(an)\n",
    "\n",
    "print(bn)\n",
    "b(bn)\n",
    "print(bn)"
   ]
  },
  {
   "cell_type": "code",
   "execution_count": null,
   "metadata": {},
   "outputs": [],
   "source": [
    "# copy  拷贝 浅拷贝\n",
    "a = [1,2,3,4,5]\n",
    "b = a.copy()\n",
    "a.append(7)\n",
    "print(a)\n",
    "print(b)"
   ]
  },
  {
   "cell_type": "code",
   "execution_count": null,
   "metadata": {},
   "outputs": [],
   "source": [
    "#  浅拷贝 ，只拷贝一层\n",
    "a = [1,2,3,[10,20,30]]\n",
    "b = a.copy()\n",
    "print(id(a))\n",
    "print(id(b))\n",
    "print(id(a[3]))\n",
    "print(id(b[3]))\n",
    "a[3][2] = 666\n",
    "print(a)\n",
    "print(b)"
   ]
  }
 ],
 "metadata": {
  "kernelspec": {
   "display_name": "Python 3",
   "language": "python",
   "name": "python3"
  },
  "language_info": {
   "codemirror_mode": {
    "name": "ipython",
    "version": 3
   },
   "file_extension": ".py",
   "mimetype": "text/x-python",
   "name": "python",
   "nbconvert_exporter": "python",
   "pygments_lexer": "ipython3",
   "version": "3.6.0"
  }
 },
 "nbformat": 4,
 "nbformat_minor": 2
}
