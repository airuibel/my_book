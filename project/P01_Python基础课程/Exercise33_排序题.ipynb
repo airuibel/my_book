{
 "cells": [
  {
   "cell_type": "code",
   "execution_count": null,
   "metadata": {},
   "outputs": [],
   "source": [
    "#  题目：输入三个整数 x，y，z，请把这三个数由小到大输\n",
    "x = int(input(\"请输入一个整数：\"))\n",
    "y = int(input(\"请输入一个整数：\"))\n",
    "z = int(input(\"请输入一个整数：\"))\n",
    "num_list = [x,y,z]\n",
    "num_list.sort()\n",
    "for num in num_list:\n",
    "    print(num)"
   ]
  }
 ],
 "metadata": {
  "kernelspec": {
   "display_name": "Python 3",
   "language": "python",
   "name": "python3"
  },
  "language_info": {
   "codemirror_mode": {
    "name": "ipython",
    "version": 3
   },
   "file_extension": ".py",
   "mimetype": "text/x-python",
   "name": "python",
   "nbconvert_exporter": "python",
   "pygments_lexer": "ipython3",
   "version": "3.6.0"
  }
 },
 "nbformat": 4,
 "nbformat_minor": 2
}
