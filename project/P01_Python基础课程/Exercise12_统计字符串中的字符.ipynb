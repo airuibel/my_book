{
 "cells": [
  {
   "cell_type": "code",
   "execution_count": 4,
   "metadata": {},
   "outputs": [
    {
     "name": "stdout",
     "output_type": "stream",
     "text": [
      "请输入学生成绩：100\n",
      "太棒了，你的成绩为A\n"
     ]
    }
   ],
   "source": [
    "#  题目：利用条件运算符的嵌套来完成此题：学习成绩 >=90 分的同学用 A表示，60-89 分\n",
    "#  之间的用 B表示，60 分以下的用 C表示。\n",
    "score = int(input(\"请输入学生成绩：\"))\n",
    "if score >= 90 and score <= 100:\n",
    "    print(\"太棒了，你的成绩为A\")\n",
    "elif score >= 60 and score < 90:\n",
    "    print(\"你的成绩为B，还须努力呀\")\n",
    "elif score < 60:\n",
    "    print(\"很遗憾，你的成绩为B,赶紧回家写作业吧！\")\n",
    "else:\n",
    "    print(\"输入错误。请重新输入！！\")"
   ]
  },
  {
   "cell_type": "code",
   "execution_count": 6,
   "metadata": {},
   "outputs": [
    {
     "name": "stdout",
     "output_type": "stream",
     "text": [
      "字符串中英文字母有11个\n",
      "字符串中数字有9个\n",
      "字符串中空格有2个\n",
      "字符串中其他字符有25个\n"
     ]
    }
   ],
   "source": [
    "#  题目：输入一行字符，分别统计出其中英文字母、空格、数字和其它字符的个数\n",
    "test_str = \"Pq 6q%wq 11q-w781**4qqs44q_\"\n",
    "count_1 = 0\n",
    "count_2 = 0\n",
    "count_3 = 0\n",
    "count_4 = 0\n",
    "for i in test_str:\n",
    "    if i.isalpha():\n",
    "        count_1 += 1\n",
    "    if i.isdigit():\n",
    "        count_2 += 1\n",
    "    if i.isspace():\n",
    "        count_3 += 1\n",
    "    else:\n",
    "        count_4 += 1\n",
    "print(\"字符串中英文字母有%d个\"%count_1)\n",
    "print(\"字符串中数字有%d个\"%count_2)\n",
    "print(\"字符串中空格有%d个\"%count_3)\n",
    "print(\"字符串中其他字符有%d个\"%count_4)"
   ]
  }
 ],
 "metadata": {
  "kernelspec": {
   "display_name": "Python 3",
   "language": "python",
   "name": "python3"
  },
  "language_info": {
   "codemirror_mode": {
    "name": "ipython",
    "version": 3
   },
   "file_extension": ".py",
   "mimetype": "text/x-python",
   "name": "python",
   "nbconvert_exporter": "python",
   "pygments_lexer": "ipython3",
   "version": "3.6.0"
  }
 },
 "nbformat": 4,
 "nbformat_minor": 2
}
