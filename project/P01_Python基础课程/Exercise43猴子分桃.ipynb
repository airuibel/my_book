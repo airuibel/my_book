{
 "cells": [
  {
   "cell_type": "code",
   "execution_count": 4,
   "metadata": {},
   "outputs": [
    {
     "name": "stdout",
     "output_type": "stream",
     "text": [
      "原来的桃子数目为3121\n",
      "结束\n"
     ]
    }
   ],
   "source": [
    "# 方法一\n",
    "# 猴子分桃\n",
    "# 海滩上有一堆桃子，五只猴子来分。第一只猴子把这堆桃子平均分成5份，多了一个，那只猴子把多的那个扔入海中，拿走了一份。\n",
    "# 第二只猴子把剩下的桃子又分成了5份，又多了一个，他同样把多的一个扔入了海中，拿走了一份。\n",
    "# 第三、第四、第五只猴子都是这样做的。问海滩上原来最少有多少个桃子？\n",
    "#  刚开始桃子数目为a，做while 循环\n",
    "a = 1\n",
    "while a > 0:\n",
    "    if a % 5 == 1:\n",
    "        b = (a - 1) - (a - 1) / 5\n",
    "        #  第一个猴子走后 剩余的桃子\n",
    "        if b % 5 == 1:\n",
    "            c = (b - 1) - (b - 1) / 5\n",
    "            if c % 5 == 1:\n",
    "                d = (c - 1) - (c - 1) / 5\n",
    "                if d % 5 == 1:\n",
    "                    e = (d - 1) - (d - 1) / 5\n",
    "                    if e % 5 == 1:\n",
    "                        f = (e - 1) - (e - 1) / 5\n",
    "                        #  第五个猴子走 后剩余的桃子\n",
    "                        if f % 5 == 0:\n",
    "                            print(\"原来的桃子数目为%d\" % a)\n",
    "                            break\n",
    "                        else:\n",
    "                            a += 1\n",
    "                    else:\n",
    "                        a += 1\n",
    "                else:\n",
    "                    a += 1\n",
    "            else:\n",
    "                a += 1\n",
    "        else:\n",
    "            a += 1\n",
    "    else:\n",
    "        a += 1\n",
    "print(\"结束\")\n",
    "    "
   ]
  },
  {
   "cell_type": "code",
   "execution_count": 1,
   "metadata": {},
   "outputs": [
    {
     "name": "stdout",
     "output_type": "stream",
     "text": [
      "3121\n",
      "18746\n",
      "34371\n",
      "49996\n",
      "65621\n",
      "81246\n",
      "96871\n"
     ]
    }
   ],
   "source": [
    "# 方法二\n",
    "def natao(times):\n",
    "    b = (times - 1) * 0.8\n",
    "    return b\n",
    "for i in range(99999):\n",
    "    a = natao(natao(natao(natao(natao(i)))))\n",
    "    if a % 5 == 0:\n",
    "        print(i)"
   ]
  },
  {
   "cell_type": "code",
   "execution_count": 5,
   "metadata": {},
   "outputs": [
    {
     "name": "stdout",
     "output_type": "stream",
     "text": [
      "  答案: 3121\n",
      "  答案: 6246\n",
      "  答案: 9371\n"
     ]
    }
   ],
   "source": [
    "# 方法三\n",
    "def fen_pei(s,n):\n",
    "    \n",
    "    if (s-1)% 5 == 0 and s>0:\n",
    "        if n == 5:\n",
    "            return \"anser\"\n",
    "        return fen_pei((s-1)*4/5,n+1)\n",
    " \n",
    "\n",
    "for i in range (10000):\n",
    "    n = 1\n",
    "    if fen_pei(i,n) == \"anser\":\n",
    "        print (\"  答案:\",i)\n"
   ]
  }
 ],
 "metadata": {
  "kernelspec": {
   "display_name": "Python 3",
   "language": "python",
   "name": "python3"
  },
  "language_info": {
   "codemirror_mode": {
    "name": "ipython",
    "version": 3
   },
   "file_extension": ".py",
   "mimetype": "text/x-python",
   "name": "python",
   "nbconvert_exporter": "python",
   "pygments_lexer": "ipython3",
   "version": "3.6.0"
  }
 },
 "nbformat": 4,
 "nbformat_minor": 2
}
