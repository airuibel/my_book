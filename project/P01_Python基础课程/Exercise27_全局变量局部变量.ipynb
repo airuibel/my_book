{
 "cells": [
  {
   "cell_type": "code",
   "execution_count": 1,
   "metadata": {},
   "outputs": [
    {
     "name": "stdout",
     "output_type": "stream",
     "text": [
      "100\n",
      "200\n"
     ]
    }
   ],
   "source": [
    "def func():\n",
    "    x = 200\n",
    "    print(x)\n",
    "    \n",
    "x = 100\n",
    "func()\n",
    "print(x)"
   ]
  },
  {
   "cell_type": "code",
   "execution_count": 3,
   "metadata": {},
   "outputs": [
    {
     "name": "stdout",
     "output_type": "stream",
     "text": [
      "200\n",
      "100\n"
     ]
    }
   ],
   "source": [
    "def func():\n",
    "    global x\n",
    "    x = 200\n",
    "    print(x)\n",
    "    \n",
    "func()\n",
    "x = 100\n",
    "print(x)"
   ]
  },
  {
   "cell_type": "code",
   "execution_count": 4,
   "metadata": {},
   "outputs": [
    {
     "name": "stdout",
     "output_type": "stream",
     "text": [
      "200\n",
      "100\n"
     ]
    }
   ],
   "source": [
    "def func():\n",
    "    x = 200\n",
    "    def func2():\n",
    "        print(x)\n",
    "    func2()\n",
    "x = 100\n",
    "func()\n",
    "print(x)"
   ]
  },
  {
   "cell_type": "code",
   "execution_count": 10,
   "metadata": {},
   "outputs": [
    {
     "name": "stdout",
     "output_type": "stream",
     "text": [
      "请输入一个整数：89\n",
      "请输入一个整数：78\n",
      "请输入一个整数：45\n",
      "[45, 78, 89]\n",
      "89\n"
     ]
    }
   ],
   "source": [
    "#  定义一个函数，返回三个数中的最大值（从键盘输入的整数）\n",
    "\n",
    "def getMax():\n",
    "    num_1 = int(input(\"请输入一个整数：\"))\n",
    "    num_2 = int(input(\"请输入一个整数：\"))\n",
    "    num_3 = int(input(\"请输入一个整数：\"))\n",
    "    num_list = [num_1,num_2,num_3]\n",
    "    num_list.sort()\n",
    "    print(num_list)\n",
    "    max_num = num_list.pop()\n",
    "    print(max_num)\n",
    "getMax()"
   ]
  },
  {
   "cell_type": "code",
   "execution_count": 14,
   "metadata": {},
   "outputs": [
    {
     "name": "stdout",
     "output_type": "stream",
     "text": [
      "0.5\n"
     ]
    }
   ],
   "source": [
    "# 编写函数 求出1/(1 * 2) - 1/(2 * 3) + 1/(3 * 4) - 1/(4 * 5) + ...的前n项和，函数以n为参数\n",
    "# 通项(-1) ** (n + 1)/(n * (n+1))\n",
    "def sum_1(n):\n",
    "    sum_n = 0\n",
    "    for i in range(1, n + 1):\n",
    "        tongxiang = ((-1) ** (i + 1))/(i * (i+1))\n",
    "        sum_n += tongxiang\n",
    "    return sum_n\n",
    "    \n",
    "result = sum_1(1)\n",
    "print(result)"
   ]
  },
  {
   "cell_type": "code",
   "execution_count": 20,
   "metadata": {},
   "outputs": [
    {
     "name": "stdout",
     "output_type": "stream",
     "text": [
      "8999不是一个回文数\n"
     ]
    }
   ],
   "source": [
    "# 回文数是一个正向逆向都相同的整数，如 123454321，9889。编写一个程序判断一个整数是否是回文数\n",
    "def huiwenshu(n):\n",
    "    num_str = \"%d\"%n\n",
    "    num_list = []\n",
    "    for i in num_str:\n",
    "        num_list.append(i)\n",
    "    num_list.reverse()\n",
    "    num_str2 = \"\".join(num_list)\n",
    "    if num_str == num_str2:\n",
    "        print(\"%d是一个回文数\"%n)\n",
    "    else:\n",
    "        print(\"%d不是一个回文数\"%n)\n",
    "\n",
    "huiwenshu(8999)\n",
    "        "
   ]
  },
  {
   "cell_type": "code",
   "execution_count": 4,
   "metadata": {},
   "outputs": [
    {
     "name": "stdout",
     "output_type": "stream",
     "text": [
      "数字8 9 10能构成三角形\n"
     ]
    }
   ],
   "source": [
    "#  编写一个程序，判断三个数字能否构成三角形的三边\n",
    "def triaugle(a, b, c):\n",
    "    if (abs(b - c) < a < b + c and\n",
    "        abs(a - c) < b < a + c and\n",
    "        abs(a - b) < c < a + b):\n",
    "        print(\"数字%d %d %d能构成三角形\"%(a, b, c))\n",
    "    else:\n",
    "        print(\"数字%d %d %d不能构成三角形\"%(a, b, c))\n",
    "triaugle(8,9,10)"
   ]
  },
  {
   "cell_type": "code",
   "execution_count": 31,
   "metadata": {},
   "outputs": [
    {
     "name": "stdout",
     "output_type": "stream",
     "text": [
      "6 和 10的最小公倍数为 30\n"
     ]
    }
   ],
   "source": [
    "# 编写一个程序，求两个正整数的最小公倍数\n",
    "def gongbeishu(a, b):\n",
    "    num_tuple = (a, b)\n",
    "    max_num = max(num_tuple)\n",
    "    for i in range(max_num, a * b + 1):\n",
    "        if i % a == 0 and i % b == 0:\n",
    "            print(\"%d 和 %d的最小公倍数为 %d\"\n",
    "                  %(a, b, i))\n",
    "            break\n",
    "    \n",
    "gongbeishu(6,10)"
   ]
  }
 ],
 "metadata": {
  "kernelspec": {
   "display_name": "Python 3",
   "language": "python",
   "name": "python3"
  },
  "language_info": {
   "codemirror_mode": {
    "name": "ipython",
    "version": 3
   },
   "file_extension": ".py",
   "mimetype": "text/x-python",
   "name": "python",
   "nbconvert_exporter": "python",
   "pygments_lexer": "ipython3",
   "version": "3.6.0"
  }
 },
 "nbformat": 4,
 "nbformat_minor": 2
}
