{
 "cells": [
  {
   "cell_type": "code",
   "execution_count": 1,
   "metadata": {},
   "outputs": [
    {
     "name": "stdout",
     "output_type": "stream",
     "text": [
      "1\n",
      "1000\n"
     ]
    }
   ],
   "source": [
    "# get()两个参数，一个是要获取的键，第二个是键不在时设置的默认值。\n",
    "d = {\"one\":1, \"two\":2,\"three\":3}\n",
    "print(d.get(\"one\"))\n",
    "print(d.get(\"onee\",1000))"
   ]
  },
  {
   "cell_type": "code",
   "execution_count": 4,
   "metadata": {},
   "outputs": [
    {
     "name": "stdout",
     "output_type": "stream",
     "text": [
      "{'xiaoming': 60, 'xiaohua': 60, 'xiaomei': 60}\n"
     ]
    }
   ],
   "source": [
    "l = [\"xiaoming\",\"xiaohua\",\"xiaomei\"]\n",
    "d = dict.fromkeys(l, 60)\n",
    "print(d)"
   ]
  },
  {
   "cell_type": "code",
   "execution_count": 10,
   "metadata": {},
   "outputs": [
    {
     "name": "stdout",
     "output_type": "stream",
     "text": [
      "{'xiaoming': 60, 'xiaohua': 60, 'xiaomei': 60, 'xiaoqiang': 70}\n"
     ]
    }
   ],
   "source": [
    "# 在字典中添加键值对setdefault(),第一个参数为要检查的键，第二个参数为该键不存在时要设置的值\n",
    "dict_1 = {'xiaoming': 60, 'xiaohua': 60, 'xiaomei': 60}\n",
    "dict_1.setdefault(\"xiaoming\",80)\n",
    "dict_1.setdefault(\"xiaoqiang\",70)\n",
    "print(dict_1)"
   ]
  },
  {
   "cell_type": "code",
   "execution_count": 8,
   "metadata": {},
   "outputs": [
    {
     "name": "stdout",
     "output_type": "stream",
     "text": [
      "{'l': 2, 'i': 4, 'f': 1, 'e': 2, ' ': 5, 's': 2, 't': 3, 'o': 4, 'h': 2, 'r': 1, ',': 1, 'k': 1, 'p': 1, 'y': 1, 'n': 1}\n"
     ]
    }
   ],
   "source": [
    "# 统计字符串中的字符\n",
    "str1 = \"life is too short,i like python\"\n",
    "count = {}\n",
    "for character in str1:\n",
    "    count.setdefault(character,0)\n",
    "    count[character] += 1\n",
    "print(count)"
   ]
  },
  {
   "cell_type": "code",
   "execution_count": 9,
   "metadata": {
    "scrolled": true
   },
   "outputs": [
    {
     "name": "stdout",
     "output_type": "stream",
     "text": [
      "{' ': 5,\n",
      " ',': 1,\n",
      " 'e': 2,\n",
      " 'f': 1,\n",
      " 'h': 2,\n",
      " 'i': 4,\n",
      " 'k': 1,\n",
      " 'l': 2,\n",
      " 'n': 1,\n",
      " 'o': 4,\n",
      " 'p': 1,\n",
      " 'r': 1,\n",
      " 's': 2,\n",
      " 't': 3,\n",
      " 'y': 1}\n"
     ]
    }
   ],
   "source": [
    "# 漂亮打印\n",
    "import pprint\n",
    "# 统计字符串中的字符\n",
    "str1 = \"life is too short,i like python\"\n",
    "count = {}\n",
    "for character in str1:\n",
    "    count.setdefault(character,0)\n",
    "    count[character] += 1\n",
    "pprint.pprint(count)"
   ]
  },
  {
   "cell_type": "code",
   "execution_count": 14,
   "metadata": {},
   "outputs": [
    {
     "name": "stdout",
     "output_type": "stream",
     "text": [
      "Inventory:\n",
      "1 rope\n",
      "6 torch\n",
      "42 gold coin\n",
      "1 dagger\n",
      "12 arrow\n",
      "Total number of items: 12\n"
     ]
    }
   ],
   "source": [
    "stuff = {'rope': 1, 'torch': 6, 'gold coin': 42, 'dagger': 1, 'arrow': 12}\n",
    "def displayInventory(inventory):\n",
    "    print(\"Inventory:\")\n",
    "    item_total = 0\n",
    "    for k, v in inventory.items():\n",
    "        print(str(v) + ' ' + k)\n",
    "    item_total += v\n",
    "    print(\"Total number of items: \" + str(item_total))\n",
    "displayInventory(stuff)"
   ]
  },
  {
   "cell_type": "code",
   "execution_count": 15,
   "metadata": {},
   "outputs": [
    {
     "name": "stdout",
     "output_type": "stream",
     "text": [
      "Inventory:\n",
      "45 gold coin\n",
      "1 rope\n",
      "1 dagger\n",
      "1 ruby\n",
      "Total number of items: 1\n"
     ]
    }
   ],
   "source": [
    "from collections import Counter\n",
    "def addInventory(inventory,addItems):\n",
    "    item_dict = dict(Counter(addItems))\n",
    "    for key,value in item_dict.items():\n",
    "        inventory[key] = inventory.get(key,0) + value\n",
    "    return inventory\n",
    "inv = {'gold coin':42,'rope':1}\n",
    "dragonLoot = ['gold coin','gold coin','dagger','gold coin','ruby']\n",
    "inv = addInventory(inv,dragonLoot)\n",
    "displayInventory(inv)"
   ]
  }
 ],
 "metadata": {
  "kernelspec": {
   "display_name": "Python 3",
   "language": "python",
   "name": "python3"
  },
  "language_info": {
   "codemirror_mode": {
    "name": "ipython",
    "version": 3
   },
   "file_extension": ".py",
   "mimetype": "text/x-python",
   "name": "python",
   "nbconvert_exporter": "python",
   "pygments_lexer": "ipython3",
   "version": "3.6.0"
  }
 },
 "nbformat": 4,
 "nbformat_minor": 2
}
