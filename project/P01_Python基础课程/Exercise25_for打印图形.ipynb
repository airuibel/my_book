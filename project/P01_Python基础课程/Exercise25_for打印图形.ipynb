{
 "cells": [
  {
   "cell_type": "code",
   "execution_count": 1,
   "metadata": {},
   "outputs": [
    {
     "name": "stdout",
     "output_type": "stream",
     "text": [
      "[1, 2, 3, 4, 5, 6]\n",
      "[1, 2, 300, 4, 5, 6]\n",
      "[1, 2, 300, 4, 5, 6]\n",
      "9\n",
      "109\n",
      "9\n"
     ]
    }
   ],
   "source": []
  },
  {
   "cell_type": "code",
   "execution_count": 11,
   "metadata": {
    "scrolled": true
   },
   "outputs": [
    {
     "name": "stdout",
     "output_type": "stream",
     "text": [
      "* * * * * \n",
      "* * * * * \n",
      "* * * * * \n",
      "* * * * * \n",
      "* * * * * \n"
     ]
    }
   ],
   "source": [
    "for i in range(5):\n",
    "    for j in range(5):\n",
    "        print(\"* \", end = \"\")\n",
    "    print()"
   ]
  },
  {
   "cell_type": "code",
   "execution_count": 16,
   "metadata": {},
   "outputs": [
    {
     "name": "stdout",
     "output_type": "stream",
     "text": [
      "* * * * * \n",
      "* * * * \n",
      "* * * \n",
      "* * \n",
      "* \n"
     ]
    }
   ],
   "source": [
    "for i in range(5):\n",
    "    for j in range(5 - i):\n",
    "        print(\"* \", end = \"\")\n",
    "    print()"
   ]
  },
  {
   "cell_type": "code",
   "execution_count": 18,
   "metadata": {},
   "outputs": [
    {
     "name": "stdout",
     "output_type": "stream",
     "text": [
      "* \n",
      "* * \n",
      "* * * \n",
      "* * * * \n",
      "* * * * * \n"
     ]
    }
   ],
   "source": [
    "for i in range(5):\n",
    "    for j in range(i + 1):\n",
    "        print(\"* \", end = \"\")\n",
    "    print()"
   ]
  },
  {
   "cell_type": "code",
   "execution_count": 41,
   "metadata": {},
   "outputs": [
    {
     "name": "stdout",
     "output_type": "stream",
     "text": [
      "* * * * * \n",
      "  * * * * \n",
      "    * * * \n",
      "      * * \n",
      "        * \n"
     ]
    }
   ],
   "source": [
    "for i in range(5):\n",
    "    print(\"  \" * i, end = '')\n",
    "    for j in range(5 - i):\n",
    "        print(\"* \" ,end = \"\")\n",
    "    print()"
   ]
  },
  {
   "cell_type": "code",
   "execution_count": 42,
   "metadata": {},
   "outputs": [
    {
     "name": "stdout",
     "output_type": "stream",
     "text": [
      "        * \n",
      "      * * \n",
      "    * * * \n",
      "  * * * * \n",
      "* * * * * \n"
     ]
    }
   ],
   "source": [
    "for i in range(5):\n",
    "    print(\"  \" * (4 - i),end = \"\")\n",
    "    for j in range(i + 1):\n",
    "        print(\"* \", end = \"\")\n",
    "    print()"
   ]
  },
  {
   "cell_type": "code",
   "execution_count": 43,
   "metadata": {},
   "outputs": [
    {
     "name": "stdout",
     "output_type": "stream",
     "text": [
      "    * \n",
      "   * * \n",
      "  * * * \n",
      " * * * * \n",
      "* * * * * \n"
     ]
    }
   ],
   "source": [
    "for i in range(5):\n",
    "    print(\" \" * (4 - i),end = \"\")\n",
    "    for j in range(i + 1):\n",
    "        print(\"* \", end = \"\")\n",
    "    print()"
   ]
  },
  {
   "cell_type": "code",
   "execution_count": 44,
   "metadata": {},
   "outputs": [
    {
     "name": "stdout",
     "output_type": "stream",
     "text": [
      "* * * * * \n",
      " * * * * \n",
      "  * * * \n",
      "   * * \n",
      "    * \n"
     ]
    }
   ],
   "source": [
    "for i in range(5):\n",
    "    print(\" \" * i, end = '')\n",
    "    for j in range(5 - i):\n",
    "        print(\"* \" ,end = \"\")\n",
    "    print()"
   ]
  },
  {
   "cell_type": "code",
   "execution_count": 46,
   "metadata": {},
   "outputs": [
    {
     "name": "stdout",
     "output_type": "stream",
     "text": [
      "* * * * * \n",
      "*       * \n",
      "*       * \n",
      "*       * \n",
      "* * * * * \n"
     ]
    }
   ],
   "source": [
    "for i in range(5):\n",
    "    if i in [1,2,3]:\n",
    "        for j in range(5):\n",
    "            if j in [1,2,3]:\n",
    "                print(\"  \",end = \"\")\n",
    "            else:\n",
    "                print(\"* \", end = \"\")\n",
    "        print()\n",
    "    else:\n",
    "        for k in range(5):\n",
    "            print(\"* \", end = \"\")\n",
    "        print()"
   ]
  },
  {
   "cell_type": "code",
   "execution_count": 6,
   "metadata": {},
   "outputs": [
    {
     "name": "stdout",
     "output_type": "stream",
     "text": [
      "* * * * * \n",
      " *     * \n",
      "  *   * \n",
      "   * * \n",
      "    * \n"
     ]
    }
   ],
   "source": [
    "for i in range(5):\n",
    "    print(\" \" * i, end = '')\n",
    "    if i == 1:\n",
    "        for j in range(5 - i):\n",
    "            if j in [1, 2]:\n",
    "                print(\"  \", end = \"\")\n",
    "            else:\n",
    "                print(\"* \" ,end = \"\")\n",
    "        print()\n",
    "    elif i == 2:\n",
    "        for j in range(5 - i):\n",
    "            if j == 1:\n",
    "                print(\"  \", end = \"\")\n",
    "            else:\n",
    "                print(\"* \" ,end = \"\")\n",
    "        print()\n",
    "    else:\n",
    "         for j in range(5 - i):\n",
    "                print(\"* \" , end = \"\")\n",
    "         print()"
   ]
  },
  {
   "cell_type": "code",
   "execution_count": 10,
   "metadata": {},
   "outputs": [
    {
     "name": "stdout",
     "output_type": "stream",
     "text": [
      "* * * * * \n",
      "  *     * \n",
      "    *   * \n",
      "      * * \n",
      "        * \n"
     ]
    }
   ],
   "source": [
    "for i in range(5):\n",
    "    print(\"  \" * i, end = '')\n",
    "    for j in range(5 - i):\n",
    "        if (i == 1 and j in [1,2] or\n",
    "            i == 2 and j == 1):\n",
    "            print(\"  \", end = \"\")\n",
    "        else:\n",
    "            print(\"* \" ,end = \"\")\n",
    "    print()"
   ]
  },
  {
   "cell_type": "code",
   "execution_count": 18,
   "metadata": {},
   "outputs": [
    {
     "name": "stdout",
     "output_type": "stream",
     "text": [
      "    * \n",
      "   * * \n",
      "  * * * \n",
      " * * * * \n",
      "  * * * \n",
      "   * * \n",
      "    * \n"
     ]
    }
   ],
   "source": [
    "for i in range(7):\n",
    "    if i in range(4):\n",
    "        print(\" \" * (4 - i),end = \"\")\n",
    "        for j in range(i + 1):\n",
    "            print(\"* \", end = \"\")\n",
    "        print()\n",
    "    else:\n",
    "        print(\" \" * (i - 2),end = \"\")\n",
    "        for k in range(7 - i):\n",
    "            print(\"* \", end = \"\")\n",
    "        print()"
   ]
  },
  {
   "cell_type": "code",
   "execution_count": 22,
   "metadata": {},
   "outputs": [
    {
     "name": "stdout",
     "output_type": "stream",
     "text": [
      "    * \n",
      "   * * \n",
      "  *   * \n",
      " *     * \n",
      "  *   * \n",
      "   * * \n",
      "    * \n"
     ]
    }
   ],
   "source": [
    "for i in range(7):\n",
    "    if i in range(4):\n",
    "        print(\" \" * (4 - i),end = \"\")\n",
    "        for j in range(i + 1):\n",
    "            if ((i == 2 and j == 1) or\n",
    "                (i == 3 and j in [1, 2])):\n",
    "                print(\"  \", end = \"\")\n",
    "            else:\n",
    "                print(\"* \", end = \"\")\n",
    "        print()\n",
    "    else:\n",
    "        print(\" \" * (i - 2),end = \"\")\n",
    "        for k in range(7 - i):\n",
    "            if i == 4 and k == 1:\n",
    "                print(\"  \", end = \"\")\n",
    "            else:\n",
    "                print(\"* \", end = \"\")\n",
    "        print()"
   ]
  },
  {
   "cell_type": "code",
   "execution_count": 32,
   "metadata": {},
   "outputs": [
    {
     "name": "stdout",
     "output_type": "stream",
     "text": [
      "      *       \n",
      "    *   *     \n",
      "  *       *   \n",
      "*           * \n",
      "  *       *   \n",
      "    *   *     \n",
      "      *       \n"
     ]
    }
   ],
   "source": [
    "for i in range(7):\n",
    "    for j in range(7):\n",
    "        if i in [0, 6] and j == 3:\n",
    "            print(\"* \", end = \"\")\n",
    "        elif ((i == 1 and j in [2, 4]) or\n",
    "              (i == 5 and j in [2, 4])):\n",
    "            print(\"* \", end = \"\")\n",
    "        elif ((i == 2 and j in [1, 5]) or\n",
    "              (i == 4 and j in [1, 5])):\n",
    "            print(\"* \", end = \"\")\n",
    "        elif (i == 3 and j in [0, 6]):\n",
    "            print(\"* \", end = \"\")\n",
    "        else:\n",
    "            print(\"  \", end = \"\")\n",
    "    print()\n",
    "            \n",
    "              "
   ]
  },
  {
   "cell_type": "code",
   "execution_count": 18,
   "metadata": {
    "scrolled": true
   },
   "outputs": [
    {
     "name": "stdout",
     "output_type": "stream",
     "text": [
      "    *    \n",
      "   * *   \n",
      "  * * *  \n",
      " *     * \n",
      "*       *\n"
     ]
    }
   ],
   "source": [
    "# 打印字母A\n",
    "for i in range(5):\n",
    "    for j in range(9):\n",
    "        if i == 0 and j == 4:\n",
    "            print(\"*\",end = \"\")\n",
    "        elif i == 1 and j in [3,5]:\n",
    "            print(\"*\",end = \"\")\n",
    "        elif i == 2 and j in [2,4,6]:\n",
    "            print(\"*\",end = \"\")\n",
    "        elif i == 3 and j in [1,7]:\n",
    "            print(\"*\",end = \"\")\n",
    "        elif i == 4 and j in [0,8]:\n",
    "            print(\"*\",end = \"\")\n",
    "        else:\n",
    "            print(\" \",end = \"\")\n",
    "    print()"
   ]
  },
  {
   "cell_type": "code",
   "execution_count": 37,
   "metadata": {},
   "outputs": [
    {
     "name": "stdout",
     "output_type": "stream",
     "text": [
      "* * * *   \n",
      "*       * \n",
      "* * * * * \n",
      "*       * \n",
      "* * * *   \n"
     ]
    }
   ],
   "source": [
    "#打印字母B\n",
    "for i in range(5):\n",
    "    for j in range(5):\n",
    "        if i in [1, 3] and j in range(1,4):\n",
    "            print(\"  \",end = \"\")\n",
    "        elif i in[0,4] and j == 4:\n",
    "            print(\"  \",end = \"\")\n",
    "        else:\n",
    "            print(\"* \",end = \"\")\n",
    "    print()"
   ]
  },
  {
   "cell_type": "code",
   "execution_count": 47,
   "metadata": {},
   "outputs": [
    {
     "name": "stdout",
     "output_type": "stream",
     "text": [
      "  * * *   \n",
      "*         \n",
      "*   * * * \n",
      "*       * \n",
      "  * * * * \n"
     ]
    }
   ],
   "source": [
    "#打印字母G\n",
    "for i in range(5):\n",
    "    for j in range(5):\n",
    "        if i in [1, 3] and j in range(1,4):\n",
    "            print(\"  \",end = \"\")\n",
    "        elif i in[0,4] and j in [0,4]:\n",
    "            if i == 4 and j == 4:\n",
    "                print(\"* \",end = \"\")\n",
    "            else:\n",
    "                print(\"  \",end = \"\")\n",
    "        elif ((i == 1 and j == 4) or \n",
    "              (i == 2 and j == 1)):\n",
    "            print(\"  \",end  = \"\")\n",
    "        else:\n",
    "            print(\"* \",end = \"\")\n",
    "    print()"
   ]
  },
  {
   "cell_type": "code",
   "execution_count": 51,
   "metadata": {},
   "outputs": [
    {
     "name": "stdout",
     "output_type": "stream",
     "text": [
      "*       * \n",
      "* *   * * \n",
      "*   *   * \n",
      "*       * \n",
      "*       * \n"
     ]
    }
   ],
   "source": [
    "#打印字母M\n",
    "for i in range(5):\n",
    "    for j in range(5):\n",
    "        if i in range(5) and j in [0,4]:\n",
    "            print(\"* \", end = \"\")\n",
    "        elif i == 1 and j in [1,3]:\n",
    "            print(\"* \", end = \"\")\n",
    "        elif i == 2 and j == 2:\n",
    "            print(\"* \", end = \"\")\n",
    "        else:\n",
    "            print(\"  \", end = \"\")\n",
    "    print()"
   ]
  },
  {
   "cell_type": "code",
   "execution_count": 57,
   "metadata": {},
   "outputs": [
    {
     "ename": "UnicodeEncodeError",
     "evalue": "'locale' codec can't encode character '\\u5e74' in position 2: Illegal byte sequence",
     "output_type": "error",
     "traceback": [
      "\u001b[1;31m---------------------------------------------------------------------------\u001b[0m",
      "\u001b[1;31mUnicodeEncodeError\u001b[0m                        Traceback (most recent call last)",
      "\u001b[1;32m<ipython-input-57-6100bf3ffc7f>\u001b[0m in \u001b[0;36m<module>\u001b[1;34m()\u001b[0m\n\u001b[0;32m      1\u001b[0m \u001b[1;32mimport\u001b[0m \u001b[0mtime\u001b[0m\u001b[1;33m\u001b[0m\u001b[0m\n\u001b[0;32m      2\u001b[0m \u001b[0mt\u001b[0m \u001b[1;33m=\u001b[0m \u001b[0mtime\u001b[0m\u001b[1;33m.\u001b[0m\u001b[0mlocaltime\u001b[0m\u001b[1;33m(\u001b[0m\u001b[1;33m)\u001b[0m\u001b[1;33m\u001b[0m\u001b[0m\n\u001b[1;32m----> 3\u001b[1;33m \u001b[0mft\u001b[0m \u001b[1;33m=\u001b[0m \u001b[0mtime\u001b[0m\u001b[1;33m.\u001b[0m\u001b[0mstrftime\u001b[0m\u001b[1;33m(\u001b[0m\u001b[1;34m\"%Y年%m%d %H:%M\"\u001b[0m\u001b[1;33m,\u001b[0m \u001b[0mt\u001b[0m\u001b[1;33m)\u001b[0m\u001b[1;33m\u001b[0m\u001b[0m\n\u001b[0m\u001b[0;32m      4\u001b[0m \u001b[0mprint\u001b[0m\u001b[1;33m(\u001b[0m\u001b[0mft\u001b[0m\u001b[1;33m)\u001b[0m\u001b[1;33m\u001b[0m\u001b[0m\n",
      "\u001b[1;31mUnicodeEncodeError\u001b[0m: 'locale' codec can't encode character '\\u5e74' in position 2: Illegal byte sequence"
     ]
    }
   ],
   "source": []
  }
 ],
 "metadata": {
  "kernelspec": {
   "display_name": "Python 3",
   "language": "python",
   "name": "python3"
  },
  "language_info": {
   "codemirror_mode": {
    "name": "ipython",
    "version": 3
   },
   "file_extension": ".py",
   "mimetype": "text/x-python",
   "name": "python",
   "nbconvert_exporter": "python",
   "pygments_lexer": "ipython3",
   "version": "3.6.0"
  }
 },
 "nbformat": 4,
 "nbformat_minor": 2
}
