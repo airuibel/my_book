{
 "cells": [
  {
   "cell_type": "code",
   "execution_count": 10,
   "metadata": {},
   "outputs": [
    {
     "name": "stdout",
     "output_type": "stream",
     "text": [
      "请输入一个字符串ldhnseud97\n",
      "lhsu9dned7\n"
     ]
    }
   ],
   "source": [
    "# 用户输入一个字符串，将下标为偶数的字符提取出来合并成一个新的字符串A,在将下标为奇数的字符提取出来合并成字符串B，\n",
    "# 再将字符串A和B连接出来输出\n",
    "in_str = input(\"请输入一个字符串\")\n",
    "str_list1 = []\n",
    "str_list2 = []\n",
    "str_length = len(in_str)\n",
    "#  计算字符串长度\n",
    "for i in range(str_length):\n",
    "    if i % 2 == 0:\n",
    "        str_list1.append(in_str[i])\n",
    "    else:\n",
    "        str_list2.append(in_str[i])\n",
    "A = \"\".join(str_list1)\n",
    "# 将列表转化为字符串\n",
    "B = ''.join(str_list2)\n",
    "print(\"%s%s\"%(A,B))\n",
    "        "
   ]
  },
  {
   "cell_type": "code",
   "execution_count": 17,
   "metadata": {},
   "outputs": [
    {
     "name": "stdout",
     "output_type": "stream",
     "text": [
      "['4:1', '2:1', 'm:1', 'j:1', 'k:2', 'i:2', 'e:2', 'o:1', 'w:3', 'p:1', '8:1']\n"
     ]
    }
   ],
   "source": [
    "# 请编写一个程序，用于统计字符串中每个字符出现的次数（字母忽略大小写，a和A看作同一个字母）\n",
    "# 统计出结果，请按照['a':3,'b':2]的格式输出\n",
    "test_str = \"ipwjikkeom8we24w\"\n",
    "quchong_str = list(set(test_str))\n",
    "# 字符串去重\n",
    "pipei_list = []\n",
    "str_len = len(quchong_str)\n",
    "for i in quchong_str:\n",
    "    pipei_list.append('%s:%d'%(i,test_str.count(i)))\n",
    "    # 统计每个字符出现的次数\n",
    "print(pipei_list)\n",
    "    "
   ]
  },
  {
   "cell_type": "code",
   "execution_count": 26,
   "metadata": {},
   "outputs": [
    {
     "name": "stdout",
     "output_type": "stream",
     "text": [
      "wipwjikkeom8we24\n"
     ]
    }
   ],
   "source": [
    "# 编写一个程序，用户输入一个字符串，请将字符串中所有的字母全部向后移动一位，\n",
    "# 最后一个字母放到字符串的开头，最后将新的字符串输出\n",
    "test_str = \"ipwjikkeom8we24w\"\n",
    "test2_list = list(set(test_str))\n",
    "count_all = 0\n",
    "for i in test2_list:\n",
    "    count_all += test2_list.count(i)\n",
    "    #统计字符串的个数\n",
    "test2_str = test_str[count_all]\n",
    "test3_str = test_str.rstrip(test2_str)\n",
    "# 删除字符串最右边的字符\n",
    "print(\"%s%s\"%(test2_str,test3_str))"
   ]
  },
  {
   "cell_type": "code",
   "execution_count": 1,
   "metadata": {},
   "outputs": [
    {
     "name": "stdout",
     "output_type": "stream",
     "text": [
      "nohtyP evol I\n",
      "I love Python\n",
      "nohtyP evol I\n",
      "I love Python\n",
      "nohtyP evol I\n",
      "I love Python\n",
      "nohtyP evol I\n",
      "I love Python\n",
      "nohtyP evol I\n",
      "I love Python\n"
     ]
    }
   ],
   "source": [
    "# 实现字符串倒转的方法\n",
    "\"\"\"\n",
    "字符串常用操作 - 实现字符串倒转的方法\n",
    "Version: 0.1\n",
    "Author: 骆昊\n",
    "Date: 2018-03-19\n",
    "\"\"\"\n",
    "\n",
    "from io import StringIO\n",
    "\n",
    "def reverse_str1(str):\n",
    "\treturn str[::-1]\n",
    "\n",
    "def reverse_str2(str):\n",
    "\tif len(str) <= 1:\n",
    "\t\treturn str\n",
    "\treturn reverse_str2(str[1:]) + str[0:1]\n",
    "\n",
    "\n",
    "def reverse_str3(str):\n",
    "\t# StringIO对象是Python中的可变字符串\n",
    "\t# 不应该使用不变字符串做字符串连接操作 因为会产生很多无用字符串对象\n",
    "\trstr = StringIO()\n",
    "\tstr_len = len(str)\n",
    "\tfor index in range(str_len - 1, -1, -1):\n",
    "\t\trstr.write(str[index])\n",
    "\treturn rstr.getvalue()\n",
    "\n",
    "\n",
    "def reverse_str4(str):\n",
    "\treturn ''.join(str[index] for index in range(len(str) - 1, -1, -1))\n",
    "\n",
    "\n",
    "def reverse_str5(str):\n",
    "\t# 将字符串处理成列表\n",
    "\tstr_list = list(str)\n",
    "\tstr_len = len(str)\n",
    "\t# 使用zip函数将两个序列合并成一个产生元组的迭代器\n",
    "\t# 每次正好可以取到一前一后两个下标来实现元素的交换\n",
    "\tfor i, j in zip(range(str_len // 2), range(str_len - 1, str_len // 2, -1)):\n",
    "\t\tstr_list[i], str_list[j] = str_list[j], str_list[i]\n",
    "\t# 将列表元素连接成字符串\n",
    "\treturn ''.join(str_list)\n",
    "\n",
    "\n",
    "if __name__ == '__main__':\n",
    "\tstr = 'I love Python'\n",
    "\tprint(reverse_str1(str))\n",
    "\tprint(str)\n",
    "\tprint(reverse_str2(str))\n",
    "\tprint(str)\n",
    "\tprint(reverse_str3(str))\n",
    "\tprint(str)\n",
    "\tprint(reverse_str4(str))\n",
    "\tprint(str)\n",
    "\tprint(reverse_str5(str))\n",
    "\tprint(str)\n",
    "# 提醒学生注意这是一个面试题: 写出你能想到的实现字符串倒转的代码\n"
   ]
  }
 ],
 "metadata": {
  "kernelspec": {
   "display_name": "Python 3",
   "language": "python",
   "name": "python3"
  },
  "language_info": {
   "codemirror_mode": {
    "name": "ipython",
    "version": 3
   },
   "file_extension": ".py",
   "mimetype": "text/x-python",
   "name": "python",
   "nbconvert_exporter": "python",
   "pygments_lexer": "ipython3",
   "version": "3.6.0"
  }
 },
 "nbformat": 4,
 "nbformat_minor": 2
}
