{
 "cells": [
  {
   "cell_type": "code",
   "execution_count": 1,
   "metadata": {},
   "outputs": [
    {
     "name": "stdout",
     "output_type": "stream",
     "text": [
      "There are 21 sticks, you can take 1-4 number of sticks at a time.\n",
      "Whoever will take the last stick will loose\n",
      "Sticks left:  21\n",
      "Take sticks(1-4):3\n",
      "Computer took:  2 \n",
      "\n",
      "Sticks left:  16\n",
      "Take sticks(1-4):3\n",
      "Computer took:  2 \n",
      "\n",
      "Sticks left:  11\n",
      "Take sticks(1-4):4\n",
      "Computer took:  1 \n",
      "\n",
      "Sticks left:  6\n",
      "Take sticks(1-4):1\n",
      "Computer took:  4 \n",
      "\n",
      "Sticks left:  1\n",
      "Take sticks(1-4):4\n",
      "You took the last stick, you loose\n"
     ]
    }
   ],
   "source": [
    "#!/usr/bin/env python3\n",
    "sticks = 21\n",
    "\n",
    "print(\"There are 21 sticks, you can take 1-4 number of sticks at a time.\")\n",
    "print(\"Whoever will take the last stick will loose\")\n",
    "\n",
    "while True:\n",
    "    print(\"Sticks left: \" , sticks)\n",
    "    sticks_taken = int(input(\"Take sticks(1-4):\"))\n",
    "    if sticks == 1:\n",
    "        print(\"You took the last stick, you loose\")\n",
    "        break\n",
    "    if sticks_taken >= 5 or sticks_taken <= 0:\n",
    "        print(\"Wrong choice\")\n",
    "        continue\n",
    "    print(\"Computer took: \" , (5 - sticks_taken) , \"\\n\")\n",
    "    sticks -= 5"
   ]
  }
 ],
 "metadata": {
  "kernelspec": {
   "display_name": "Python 3",
   "language": "python",
   "name": "python3"
  },
  "language_info": {
   "codemirror_mode": {
    "name": "ipython",
    "version": 3
   },
   "file_extension": ".py",
   "mimetype": "text/x-python",
   "name": "python",
   "nbconvert_exporter": "python",
   "pygments_lexer": "ipython3",
   "version": "3.6.0"
  }
 },
 "nbformat": 4,
 "nbformat_minor": 2
}
