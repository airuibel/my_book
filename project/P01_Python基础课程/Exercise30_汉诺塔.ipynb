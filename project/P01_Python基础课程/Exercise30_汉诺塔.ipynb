{
 "cells": [
  {
   "cell_type": "code",
   "execution_count": 28,
   "metadata": {},
   "outputs": [
    {
     "name": "stdout",
     "output_type": "stream",
     "text": [
      "移动第 1 次 A --> C\n",
      "移动第 2 次 A --> B\n",
      "移动第 3 次 C --> B\n",
      "移动第 4 次 A --> C\n",
      "移动第 5 次 B --> A\n",
      "移动第 6 次 B --> C\n",
      "移动第 7 次 A --> C\n"
     ]
    }
   ],
   "source": [
    "i = 0\n",
    "def move(n,a,b,c):\n",
    "    global i\n",
    "    if n == 1:\n",
    "        i += 1\n",
    "        print('移动第',i,'次',a,'-->',c)\n",
    "    else:\n",
    "        move(n - 1,a,c,b)\n",
    "        move(1,a,b,c)\n",
    "        move(n - 1,b,a,c)\n",
    "\n",
    "move(3,\"A\",\"B\",\"C\")"
   ]
  }
 ],
 "metadata": {
  "kernelspec": {
   "display_name": "Python 3",
   "language": "python",
   "name": "python3"
  },
  "language_info": {
   "codemirror_mode": {
    "name": "ipython",
    "version": 3
   },
   "file_extension": ".py",
   "mimetype": "text/x-python",
   "name": "python",
   "nbconvert_exporter": "python",
   "pygments_lexer": "ipython3",
   "version": "3.6.0"
  }
 },
 "nbformat": 4,
 "nbformat_minor": 2
}
