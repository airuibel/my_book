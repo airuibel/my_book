{
 "cells": [
  {
   "cell_type": "code",
   "execution_count": 65,
   "metadata": {},
   "outputs": [
    {
     "name": "stdout",
     "output_type": "stream",
     "text": [
      "当前弹夹的子弹数量为：0/20\n",
      "当前弹夹的子弹数量为：5/20\n",
      "枪没有弹夹\n",
      "枪当前有弹夹\n",
      "敌人剩余血量为：100\n",
      "当前弹夹的子弹数量为：4/20\n",
      "敌人剩余血量为：95\n",
      "当前弹夹的子弹数量为：3/20\n",
      "敌人剩余血量为：90\n"
     ]
    }
   ],
   "source": [
    "# 阶段案例——反恐精英\n",
    "class Person():\n",
    "    def __init__(self,name):\n",
    "        # 士兵和敌人都有初始血量100\n",
    "        self.name = name\n",
    "        self.blood = 100\n",
    "    # 给弹夹安装子弹\n",
    "    def install_bullet(self,clip,bullet):\n",
    "        # 战士安装子弹到子弹夹\n",
    "        clip.save_bullet(bullet)\n",
    "    # 给枪安装弹夹\n",
    "    def install_clip(self,gun,clip):\n",
    "        gun.mounting_clip(clip)\n",
    "    def take_gun(self,gun):\n",
    "        self.gun = gun\n",
    "        # 士兵拿枪\n",
    "    def fire(self,enemy):\n",
    "        #射击敌人\n",
    "        self.gun.shoot(enemy)\n",
    "    def __str__(self):\n",
    "        return self.name + \"剩余血量为：\" + str(self.blood)\n",
    "    def lose_blood(self,damage):\n",
    "        self.blood -= damage\n",
    "class Clip():\n",
    "    def __init__(self,capacity):\n",
    "        # 弹夹起始没有子弹\n",
    "        self.capacity = capacity\n",
    "        self.current_list = []\n",
    "    def save_bullet(self,bullet):\n",
    "        #当前子弹小于最大容量\n",
    "        if len(self.current_list) < self.capacity:\n",
    "            self.current_list.append(bullet)\n",
    "    def __str__(self):\n",
    "        return \"当前弹夹的子弹数量为：\" + str(len(self.current_list)) + \"/\" + str(self.capacity)\n",
    "    def launch_bullet(self):\n",
    "        # 判断当前弹夹中是否含有子弹\n",
    "        if len(self.current_list) > 0:\n",
    "            bullet = self.current_list[-1]\n",
    "            # 如果有子弹就出弹\n",
    "            self.current_list.pop()\n",
    "            return bullet\n",
    "        else:\n",
    "            return None\n",
    "class Bullet():\n",
    "    def __init__(self,damage):\n",
    "        #伤害力\n",
    "        self.damage = damage\n",
    "        #伤害敌人\n",
    "    def hurt(self,enemy):\n",
    "        enemy.lose_blood(self.damage)\n",
    "\n",
    "# 创建一个战士\n",
    "soldier = Person(\"许三多\")\n",
    "#创建一个弹夹\n",
    "clip = Clip(20)\n",
    "print(clip)\n",
    "        \n",
    "#添加五颗子弹\n",
    "i = 0\n",
    "while i < 5:\n",
    "    #bullet = Bullet(4)\n",
    "    #战士安装子弹到子弹夹\n",
    "    soldier.install_bullet(clip, bullet)\n",
    "    i += 1\n",
    "#输出当前弹夹中的子弹数量\n",
    "print(clip)        \n",
    "class Gun():\n",
    "    def __init__(self):\n",
    "        #枪起始没有弹夹\n",
    "        self.clip = None\n",
    "    def __str__(self):\n",
    "        if self.clip:\n",
    "            return \"枪当前有弹夹\"\n",
    "        else:\n",
    "            return \"枪没有弹夹\"\n",
    "    # 链接弹夹\n",
    "    def mounting_clip(self,clip):\n",
    "        if not self.clip:\n",
    "            self.clip = clip\n",
    "    # 射击\n",
    "    def shoot(self,enemy):\n",
    "        # 弹出子弹夹\n",
    "        bullet = self.clip.launch_bullet()\n",
    "        if bullet:\n",
    "            bullet.hurt(enemy)\n",
    "        else:\n",
    "            print(\"没有子弹了放了空枪...\")\n",
    "#创建一个枪        \n",
    "gun = Gun()\n",
    "print(gun)\n",
    "#安装弹夹\n",
    "soldier.install_clip(gun,clip)\n",
    "print(gun)\n",
    "bullet = Bullet(5)\n",
    "\n",
    "# 创建一个敌人\n",
    "enemy = Person(\"敌人\")\n",
    "print(enemy)\n",
    "#士兵拿枪\n",
    "soldier.take_gun(gun)\n",
    "#士兵开枪\n",
    "soldier.fire(enemy)\n",
    "print(clip)\n",
    "print(enemy)\n",
    "soldier.fire(enemy)\n",
    "print(clip)\n",
    "print(enemy)\n",
    "        "
   ]
  },
  {
   "cell_type": "code",
   "execution_count": 93,
   "metadata": {},
   "outputs": [
    {
     "name": "stdout",
     "output_type": "stream",
     "text": [
      "坐标在(6, -1)的半径为8圆的周长为50.27 面积为201.06它的颜色为红色\n"
     ]
    }
   ],
   "source": [
    "# 设计一个Circle(圆)类，包括圆心位置，半径，颜色等属性。编写构造方法和其他方法\n",
    "#计算周长和面积。请编写程序验证类的功能\n",
    "import math\n",
    "class Circle():\n",
    "    def __init__(self,local,r,color):\n",
    "        self.local = local\n",
    "        self.r = r\n",
    "        self.color = color\n",
    "    def perimeter(self): \n",
    "        return float(2 * (math.pi) * self.r) \n",
    "    def area(self):\n",
    "        return (math.pi) * (self.r) * (self.r)\n",
    "    def __repr__(self):\n",
    "        return (\"坐标在%s的半径为%s的圆的周长为%.2f 面积为%.2f\"\n",
    "                \"它的颜色为%s\"%\n",
    "                (self.local,self.r,self.perimeter(),self.area(),self.color))\n",
    "circle = Circle((6,-1),8,\"红色\")\n",
    "print(circle)"
   ]
  },
  {
   "cell_type": "code",
   "execution_count": null,
   "metadata": {},
   "outputs": [],
   "source": [
    "# 设计一个课程类，包括课程编号，课程名称。任课教师。上课地点等属性\n",
    "# 把上课地点设为私有的，增加构造方法和显示课程信息的方法。"
   ]
  },
  {
   "cell_type": "code",
   "execution_count": 97,
   "metadata": {},
   "outputs": [
    {
     "name": "stdout",
     "output_type": "stream",
     "text": [
      "课程大学物理(编号100215) 任课教师为周老师 上课地点学汇楼3011室\n"
     ]
    }
   ],
   "source": [
    "class Course():\n",
    "    def __init__(self,id_num,name,teacher,addr):\n",
    "        self.id_num = id_num\n",
    "        self.name = name\n",
    "        self.teacher = teacher\n",
    "        self.__addr = addr\n",
    "    def __repr__(self):\n",
    "        return (\"课程%s(编号%d) 任课教师为%s 上课地点%s\"\n",
    "                %(self.name,self.id_num,self.teacher,self.__addr))\n",
    "    \n",
    "course = Course(100215,\"大学物理\",\"周老师\",\"学汇楼3011室\")\n",
    "print(course)"
   ]
  },
  {
   "cell_type": "code",
   "execution_count": null,
   "metadata": {},
   "outputs": [],
   "source": []
  }
 ],
 "metadata": {
  "kernelspec": {
   "display_name": "Python 3",
   "language": "python",
   "name": "python3"
  },
  "language_info": {
   "codemirror_mode": {
    "name": "ipython",
    "version": 3
   },
   "file_extension": ".py",
   "mimetype": "text/x-python",
   "name": "python",
   "nbconvert_exporter": "python",
   "pygments_lexer": "ipython3",
   "version": "3.6.0"
  }
 },
 "nbformat": 4,
 "nbformat_minor": 2
}
