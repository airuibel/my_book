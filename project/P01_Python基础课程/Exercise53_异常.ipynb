{
 "cells": [
  {
   "cell_type": "code",
   "execution_count": 2,
   "metadata": {},
   "outputs": [
    {
     "name": "stdout",
     "output_type": "stream",
     "text": [
      "请输入一个整数：a\n",
      "请输入正确的整数\n",
      "--------------------\n"
     ]
    }
   ],
   "source": [
    "# 捕获异常的语法\n",
    "try:\n",
    "    num = int(input(\"请输入一个整数：\"))\n",
    "except:\n",
    "    print(\"请输入正确的整数\")\n",
    "print(\"-\" * 20)"
   ]
  },
  {
   "cell_type": "code",
   "execution_count": 10,
   "metadata": {},
   "outputs": [
    {
     "name": "stdout",
     "output_type": "stream",
     "text": [
      "请输入一个整数：0\n",
      "除0错误\n"
     ]
    }
   ],
   "source": [
    "# 错误类型捕获\n",
    "# 当python解释器抛出异常时，最后一行错误信息的第一个单词\n",
    "# 就是错误类型\n",
    "# 提示用户输入一个整数\n",
    "try:\n",
    "    num  = int(input(\"请输入一个整数：\"))\n",
    "    result = 8 / num\n",
    "    print(result)\n",
    "except ZeroDivisionError:\n",
    "    print(\"除0错误\")\n",
    "except ValueError:\n",
    "    print(\"请输入正确的整数\")"
   ]
  },
  {
   "cell_type": "code",
   "execution_count": 11,
   "metadata": {},
   "outputs": [
    {
     "name": "stdout",
     "output_type": "stream",
     "text": [
      "请输入一个整数：0\n",
      "未知错误division by zero\n"
     ]
    }
   ],
   "source": [
    "# 捕获未知错误\n",
    "# 如果希望程序无论出现任何错误，都不会因为解释器抛出异常而被终止\n",
    "# 可以再增加一个except\n",
    "try:\n",
    "    num  = int(input(\"请输入一个整数：\"))\n",
    "    result = 8 / num\n",
    "    print(result)\n",
    "except ValueError:\n",
    "    print(\"请输入正确的整数\")\n",
    "except Exception as result:\n",
    "    print(\"未知错误%s\"%result)"
   ]
  },
  {
   "cell_type": "code",
   "execution_count": null,
   "metadata": {},
   "outputs": [],
   "source": [
    "# 异常捕获的完整语法\n",
    "try:\n",
    "    # 尝试执行的代码\n",
    "    pass\n",
    "except 错误类型1:\n",
    "    # 针对错误类型1，对应的代码处理\n",
    "    pass\n",
    "except 错误类型2:\n",
    "    # 针对错误类型2，对应的代码处理\n",
    "    pass\n",
    "except (错误类型3,错误类型4):\n",
    "    # 针对错误类型3 和 4，对应的代码处理\n",
    "    pass\n",
    "except Exception as result:\n",
    "    # 打印错误信息\n",
    "    print(\"未知错误\"result)\n",
    "else:\n",
    "    # 没有异常才会执行的代码\n",
    "    pass\n",
    "finally:\n",
    "    # 无论是否有异常，都会执行的代码\n",
    "    print(\"无论是否有异常，都会执行的代码\")"
   ]
  },
  {
   "cell_type": "code",
   "execution_count": 14,
   "metadata": {},
   "outputs": [
    {
     "name": "stdout",
     "output_type": "stream",
     "text": [
      "请输入一个整数：4\n",
      "2.0\n",
      "尝试成功\n",
      "无论是否有异常，都会执行的代码\n",
      "--------------------\n"
     ]
    }
   ],
   "source": [
    "try:\n",
    "    num  = int(input(\"请输入一个整数：\"))\n",
    "    result = 8 / num\n",
    "    print(result)\n",
    "except ValueError:\n",
    "    print(\"请输入正确的整数\")\n",
    "except Exception as result:\n",
    "    print(\"未知错误%s\"%result)\n",
    "else:\n",
    "    print(\"尝试成功\")\n",
    "finally:\n",
    "    print(\"无论是否有异常，都会执行的代码\")\n",
    "print(\"-\" * 20)"
   ]
  },
  {
   "cell_type": "code",
   "execution_count": null,
   "metadata": {},
   "outputs": [],
   "source": [
    "# 异常的传递\n",
    "# 当函数/方法执行出现异常，会将异常传递给函数/方法的调用一方\n",
    "# 如果传递到主程序，任然没有异常处理，程序才会被终止\n",
    "\n",
    "# 在开发中，可以在主函数中增加 异常捕获\n",
    "# 而在主函数中调用的其他函数，只要出现异常，都会传递到主函数的异常捕获中\n",
    "# 这样就不需要在代码中，增加大量的异常捕获，能够保证代码的整洁\n",
    "def demo1():\n",
    "    return int(input(\"请输入一个整数：\"))\n",
    "def demo2():\n",
    "    return demo1()\n",
    "try:\n",
    "    print(demo2())\n",
    "except ValueError:\n",
    "    print(\"请输入正确的整数\")\n",
    "except Exception as result:\n",
    "    print(\"未知错误%s\"%result)"
   ]
  },
  {
   "cell_type": "code",
   "execution_count": 16,
   "metadata": {},
   "outputs": [
    {
     "name": "stdout",
     "output_type": "stream",
     "text": [
      "请输入密码至少8位a\n",
      "主动抛出异常\n",
      "密码长度不够\n"
     ]
    }
   ],
   "source": [
    "# 抛出raise异常\n",
    "#Python中提供了一个Exceptiion异常类\n",
    "#在开发时，如果满足特定业务需求时，希望抛出异常，可以\n",
    "# 1.创建一个Exception 的对象\n",
    "# 使用raise关键字抛出异常\n",
    "def input_passwd():\n",
    "    # 提示用户输入密码\n",
    "    passwd = input(\"请输入密码至少8位\")\n",
    "    if len(passwd) >= 8:\n",
    "        return passwd\n",
    "    print(\"主动抛出异常\")\n",
    "    xe = Exception(\"密码长度不够\")\n",
    "    raise xe\n",
    "try:\n",
    "    \n",
    "    print(input_passwd())\n",
    "except Exception as result:\n",
    "    print(result)"
   ]
  },
  {
   "cell_type": "code",
   "execution_count": 16,
   "metadata": {},
   "outputs": [
    {
     "name": "stdout",
     "output_type": "stream",
     "text": [
      "请输入您的身高(cm)：175\n",
      "请输入您的体重(kg)：72\n",
      "体重正常\n"
     ]
    }
   ],
   "source": [
    "# 假设成年人的体重和身高存在此种关系：\n",
    "#                身高(厘米) - 100 = 标准体重(千克)\n",
    "# 如果一个人的体重与其标准体重的差值在正负5%之间，显示\"体重正常\"，其他则显示\"体重超常\"\n",
    "# 或者体重不达标。编写程序，能处理用户输入的异常，并且使用自定义异常类来处理高小于30cm\n",
    "# 大于250cm的异常情况。\n",
    "class HeightException(Exception):\n",
    "    def __init__(self,real_height,up_height,low_height):\n",
    "        self.real_height = real_height\n",
    "        self.up_height = up_height\n",
    "        self.low_height = low_height\n",
    "try:\n",
    "    height = float(input(\"请输入您的身高(cm)：\"))\n",
    "    weight = float(input(\"请输入您的体重(kg)：\"))\n",
    "    if height < 30 or height > 250:\n",
    "        raise HeightException(height,250,30)\n",
    "    else:    \n",
    "        standard_weight = height - 100\n",
    "        standard_percent = abs(standard_weight - weight) / standard_weight\n",
    "        if standard_percent <= 0.05:\n",
    "            print(\"体重正常\")\n",
    "        else:\n",
    "            print(\"体重不达标\")\n",
    "except TypeError:\n",
    "    print(\"请输入数字\")\n",
    "except HeightException as result:\n",
    "    print(\"您的身高为%scm不符合计算要求请在%s--%s之间输入\"%\n",
    "          (height,result.low_height,result.up_height))\n",
    "except Exception as result:\n",
    "    print(\"未知错误%s\"%result)"
   ]
  },
  {
   "cell_type": "code",
   "execution_count": null,
   "metadata": {},
   "outputs": [],
   "source": []
  }
 ],
 "metadata": {
  "kernelspec": {
   "display_name": "Python 3",
   "language": "python",
   "name": "python3"
  },
  "language_info": {
   "codemirror_mode": {
    "name": "ipython",
    "version": 3
   },
   "file_extension": ".py",
   "mimetype": "text/x-python",
   "name": "python",
   "nbconvert_exporter": "python",
   "pygments_lexer": "ipython3",
   "version": "3.6.0"
  }
 },
 "nbformat": 4,
 "nbformat_minor": 2
}
