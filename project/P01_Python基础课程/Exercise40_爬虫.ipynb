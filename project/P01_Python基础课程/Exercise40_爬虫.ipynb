{
 "cells": [
  {
   "cell_type": "code",
   "execution_count": 3,
   "metadata": {},
   "outputs": [
    {
     "name": "stdout",
     "output_type": "stream",
     "text": [
      "正在下载 0页 的图片\n"
     ]
    },
    {
     "ename": "FileNotFoundError",
     "evalue": "[Errno 2] No such file or directory: './images/2147041519.jpg'",
     "output_type": "error",
     "traceback": [
      "\u001b[1;31m---------------------------------------------------------------------------\u001b[0m",
      "\u001b[1;31mFileNotFoundError\u001b[0m                         Traceback (most recent call last)",
      "\u001b[1;32m<ipython-input-3-8f85fbd1370e>\u001b[0m in \u001b[0;36m<module>\u001b[1;34m()\u001b[0m\n\u001b[0;32m     47\u001b[0m            \u001b[0mdown_cont\u001b[0m\u001b[1;33m(\u001b[0m\u001b[0murl\u001b[0m\u001b[1;33m)\u001b[0m\u001b[1;33m\u001b[0m\u001b[0m\n\u001b[0;32m     48\u001b[0m \u001b[1;32mif\u001b[0m \u001b[0m__name__\u001b[0m \u001b[1;33m==\u001b[0m \u001b[1;34m'__main__'\u001b[0m\u001b[1;33m:\u001b[0m\u001b[1;33m\u001b[0m\u001b[0m\n\u001b[1;32m---> 49\u001b[1;33m    \u001b[0mmain\u001b[0m\u001b[1;33m(\u001b[0m\u001b[1;33m)\u001b[0m\u001b[1;33m\u001b[0m\u001b[0m\n\u001b[0m",
      "\u001b[1;32m<ipython-input-3-8f85fbd1370e>\u001b[0m in \u001b[0;36mmain\u001b[1;34m()\u001b[0m\n\u001b[0;32m     45\u001b[0m        \u001b[0murlset\u001b[0m \u001b[1;33m=\u001b[0m \u001b[0mjson_load\u001b[0m\u001b[1;33m(\u001b[0m\u001b[0mtext\u001b[0m\u001b[1;33m)\u001b[0m\u001b[1;33m\u001b[0m\u001b[0m\n\u001b[0;32m     46\u001b[0m        \u001b[1;32mfor\u001b[0m \u001b[0murl\u001b[0m \u001b[1;32min\u001b[0m \u001b[0murlset\u001b[0m\u001b[1;33m:\u001b[0m\u001b[1;33m\u001b[0m\u001b[0m\n\u001b[1;32m---> 47\u001b[1;33m            \u001b[0mdown_cont\u001b[0m\u001b[1;33m(\u001b[0m\u001b[0murl\u001b[0m\u001b[1;33m)\u001b[0m\u001b[1;33m\u001b[0m\u001b[0m\n\u001b[0m\u001b[0;32m     48\u001b[0m \u001b[1;32mif\u001b[0m \u001b[0m__name__\u001b[0m \u001b[1;33m==\u001b[0m \u001b[1;34m'__main__'\u001b[0m\u001b[1;33m:\u001b[0m\u001b[1;33m\u001b[0m\u001b[0m\n\u001b[0;32m     49\u001b[0m    \u001b[0mmain\u001b[0m\u001b[1;33m(\u001b[0m\u001b[1;33m)\u001b[0m\u001b[1;33m\u001b[0m\u001b[0m\n",
      "\u001b[1;32m<ipython-input-3-8f85fbd1370e>\u001b[0m in \u001b[0;36mdown_cont\u001b[1;34m(url)\u001b[0m\n\u001b[0;32m     34\u001b[0m    \u001b[1;32mif\u001b[0m \u001b[0mresponse\u001b[0m\u001b[1;33m.\u001b[0m\u001b[0mstatus_code\u001b[0m \u001b[1;33m==\u001b[0m \u001b[1;36m200\u001b[0m\u001b[1;33m:\u001b[0m\u001b[1;33m\u001b[0m\u001b[0m\n\u001b[0;32m     35\u001b[0m        \u001b[1;31m# 表示,如果文件名字相同,就删除当前文件,然后再创建一个一样名字的文件\u001b[0m\u001b[1;33m\u001b[0m\u001b[1;33m\u001b[0m\u001b[0m\n\u001b[1;32m---> 36\u001b[1;33m        \u001b[1;32mwith\u001b[0m \u001b[0mopen\u001b[0m\u001b[1;33m(\u001b[0m\u001b[1;34m'./images/%s.jpg'\u001b[0m \u001b[1;33m%\u001b[0m \u001b[0mname\u001b[0m\u001b[1;33m,\u001b[0m \u001b[1;34m'wb'\u001b[0m\u001b[1;33m)\u001b[0m \u001b[1;32mas\u001b[0m \u001b[0mf\u001b[0m\u001b[1;33m:\u001b[0m\u001b[1;33m\u001b[0m\u001b[0m\n\u001b[0m\u001b[0;32m     37\u001b[0m            \u001b[0mprint\u001b[0m\u001b[1;33m(\u001b[0m\u001b[1;34m'正在下载当前图片: '\u001b[0m \u001b[1;33m+\u001b[0m \u001b[0murl\u001b[0m\u001b[1;33m)\u001b[0m\u001b[1;33m\u001b[0m\u001b[0m\n\u001b[0;32m     38\u001b[0m            \u001b[1;31m# 以二进制的方法写入到本地\u001b[0m\u001b[1;33m\u001b[0m\u001b[1;33m\u001b[0m\u001b[0m\n",
      "\u001b[1;31mFileNotFoundError\u001b[0m: [Errno 2] No such file or directory: './images/2147041519.jpg'"
     ]
    }
   ],
   "source": [
    "# !/usr/bin/env python\n",
    "# -*- coding:utf-8 -*-\n",
    "import requests\n",
    "import json\n",
    "# 定义一个请求函数,接收页面参数\n",
    "def get_page(page):\n",
    "   # 把页面参数添加在url的字符串当中\n",
    "   url = 'https://image.baidu.com/search/acjson?tn=resultjson_com&ipn=rj&ct=201326592&is=&fp=result&queryWord=美女&cl=2&lm=-1&ie=utf-8&oe=utf-8&adpicid=&st=-1&z=&ic=0&word=美女&s=&se=&tab=&width=&height=&face=0&istype=2&qc=&nc=1&fr=&cg=girl&pn={}&rn=30&gsm=1e'.format(\n",
    "       page)\n",
    "   # 请求网站,并且得到网站的响应\n",
    "   response = requests.get(url)\n",
    "   # 判断状态的状况\n",
    "   if response.status_code == 200:\n",
    "       # 返回文本文件信息\n",
    "       return response.text\n",
    "def json_load(text):\n",
    "   # 把文本文件处理成字典格式\n",
    "   jsondict = json.loads(text)\n",
    "   # 创建一个空的合集,作用是去重\n",
    "   urlset = set()\n",
    "   # 检查字典里面是否包含了data这个值\n",
    "   if 'data' in jsondict.keys():\n",
    "       # 从jsondict中取出data这个字典里面的东西,依次赋值给items!\n",
    "       for items in jsondict.get('data'):\n",
    "           # 异常处理,不是每一行数据都包含thumbURL这个数据的\n",
    "           try:\n",
    "               urlset.add(items['thumbURL'])\n",
    "           except:\n",
    "               pass\n",
    "   return urlset\n",
    "def down_cont(url):\n",
    "   response = requests.get(url)\n",
    "   name = url.split(',')[-1].split('&')[0]\n",
    "   if response.status_code == 200:\n",
    "       # 表示,如果文件名字相同,就删除当前文件,然后再创建一个一样名字的文件\n",
    "       with open('./images/%s.jpg' % name, 'wb') as f:\n",
    "           print('正在下载当前图片: ' + url)\n",
    "           # 以二进制的方法写入到本地\n",
    "           f.write(response.content)\n",
    "def main():\n",
    "   for p in range(5):\n",
    "       print('正在下载 %s页 的图片' % p)\n",
    "       page = p * 30\n",
    "       text = get_page(page)\n",
    "       urlset = json_load(text)\n",
    "       for url in urlset:\n",
    "           down_cont(url)\n",
    "if __name__ == '__main__':\n",
    "   main()\n"
   ]
  }
 ],
 "metadata": {
  "kernelspec": {
   "display_name": "Python 3",
   "language": "python",
   "name": "python3"
  },
  "language_info": {
   "codemirror_mode": {
    "name": "ipython",
    "version": 3
   },
   "file_extension": ".py",
   "mimetype": "text/x-python",
   "name": "python",
   "nbconvert_exporter": "python",
   "pygments_lexer": "ipython3",
   "version": "3.6.4"
  }
 },
 "nbformat": 4,
 "nbformat_minor": 2
}
