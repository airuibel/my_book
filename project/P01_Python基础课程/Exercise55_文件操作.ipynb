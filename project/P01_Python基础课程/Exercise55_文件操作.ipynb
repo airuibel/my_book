{
 "cells": [
  {
   "cell_type": "markdown",
   "metadata": {},
   "source": [
    "### 文件的基本操作\n",
    "- 在计算机中要操作文件的套路非常固定，一共包括三个步骤\n",
    "  -  1.打开文件\n",
    "  -  2.读写文件\n",
    "      -读 将文件内容读入内存\n",
    "      -写 将内存内容写入文件\n",
    "  -  3.关闭文件\n",
    "  \n",
    "#### 操作文件的函数方法\n",
    "- 在python中 操作文件需要记住1个函数和3个方法\n",
    "\n",
    " *   1 open   打开文件，并且返回文件操作对象\n",
    " *   2 read   将文件内容读取到内存\n",
    " *   3 write  将内容写入文件\n",
    " *   4 close  关闭文件\n",
    " \n",
    " - open 函数负责打开文件，并返回文件对象\n",
    " - read/write/close 三个方法都需要通过文件对象来调用"
   ]
  },
  {
   "cell_type": "markdown",
   "metadata": {},
   "source": [
    "#### read方法--读取文件\n",
    " - open函数的第一个参数是要打开的文件名\n",
    "   - 如果文件存在，返回文件操作对象\n",
    "   - 如果文件不存在，会抛出异常\n",
    " - read 方法可以一次性读入并返回文件的所有内容\n",
    " - close 方法负责关闭文件\n",
    "   - 如果忘记关闭文件，会造成系统资源的消耗，而且会影响后续对文件的访问\n",
    " \n",
    " - 注意方法执行后，会把 文件指针 移动到文件末尾\n",
    " \n",
    "#### 在开发中，通常会先编写打开和关闭的代码，在编写中间针对文件的读写操作！\n"
   ]
  },
  {
   "cell_type": "markdown",
   "metadata": {},
   "source": [
    "## 文件指针\n",
    "- 文件指针标记从哪个位置开始读取数据\n",
    "- 第一次打开文件时，通常文件指针会指向文件的开始位置\n",
    "- 当执行了read方法后，文件指针会移动到读取内容的末尾\n",
    "\n",
    " * 默认情况下会移动到文件末尾\n",
    " \n",
    " * 思考 \n",
    "  -  如果执行了一次read方法，读取了所有内容，那么再次调用read方法，还能获取的到内容吗？\n",
    "  -  答案不能\n",
    "  -  第一次读取之后，文件指针移动到了文件末尾，再次调用不会读取到任何内容"
   ]
  },
  {
   "cell_type": "markdown",
   "metadata": {},
   "source": [
    "\n",
    "## python文件打开的访问模式\n",
    "    r\t以只读方式打开文件。文件的指针将会放在文件的开头。这是默认模式。\n",
    "    w\t打开一个文件只用于写入。如果该文件已存在则将其覆盖。如果该文件不存在，创建新文件。\n",
    "    a\t打开一个文件用于追加。如果该文件已存在，文件指针将会放在文件的结尾。也就是说，新的内容将会被写入到已有内容之后。\n",
    "         如果该文件不存在，创建新文件进行写入。\n",
    "    rb   以二进制格式打开一个文件用于只读。文件指针将会放在文件的开头。这是默认模式。\n",
    "    wb   以二进制格式打开一个文件只用于写入。如果该文件已存在则将其覆盖。如果该文件不存在，创建新文件。\n",
    "    ab   以二进制格式打开一个文件用于追加。如果该文件已存在，文件指针将会放在文件的结尾。\n",
    "         也就是说，新的内容将会被写入到已有内容之后。如果该文件不存在，创建新文件进行写入。\n",
    "    r+   打开一个文件用于读写。文件指针将会放在文件的开头。\n",
    "    w+   打开一个文件用于读写。如果该文件已存在则将其覆盖。如果该文件不存在，创建新文件。\n",
    "    a+   打开一个文件用于读写。如果该文件已存在，文件指针将会放在文件的结尾。文件打开时会是追加模式。\n",
    "         如果该文件不存在，创建新文件用于读写。\n",
    "    rb   以二进制格式打开一个文件用于读写。文件指针将会放在文件的开头。\n",
    "    wb+  以二进制格式打开一个文件用于读写。如果该文件已存在则将其覆盖。如果该文件不存在，创建新文件。\n",
    "    ab+  以二进制格式打开一个文件用于追加。如果该文件已存在，文件指针将会放在文件的结尾。如果该文件不存在，创建新文件用于读写。"
   ]
  },
  {
   "cell_type": "markdown",
   "metadata": {},
   "source": [
    "#### 频繁的移动文件指针，会影响文件的读写效率开发中更多的时候会以只读只写的方式来操作"
   ]
  },
  {
   "cell_type": "markdown",
   "metadata": {},
   "source": [
    "#### 按行读取文件内容\n",
    "- read 方法默认会把文件的所有内容一次性读取到内存\n",
    "- 如果文件太大，对内存的占用非常严重\n",
    "\n",
    "* readline方法\n",
    "  \n",
    "  - readline方法可以一次读取一行内容\n",
    "  - 方法执行后，会把文件指针移动到下一行\n",
    "  \n",
    "* write只能写入字符串\n",
    "* writelines函数可以写入字符串序列\n",
    "\n",
    "#### 持久化 - pickle\n",
    "  -  序列化(持久化，落地) ; 吧程序运行中的信息保存在磁盘上\n",
    "  -  反序列化： 序列号的逆过程\n",
    "  -  pickle；python提供的序列化模块\n",
    "  -  pick.dump；序列化\n",
    "  -  pickle.load：反序列化\n",
    "  \n",
    "#### 持久化-shelve\n",
    "\n",
    "- 持久化工具\n",
    "- 类似字典，用kv对保存数据，存取方式跟字典也类似\n",
    "- open  .close\n",
    "  \n",
    "  \n",
    "* shelve特性\n",
    "\n",
    "  -  不支持多个应用并行写入\n",
    "     -    为了解决这个问题。open的时候可以使用flag=r\n",
    "  - 写回问题\n",
    "     -     shelve默认情况下不会等待持久化对象进行任何修改\n",
    "     -     解决办法： 强制写回：writeback=True"
   ]
  },
  {
   "cell_type": "code",
   "execution_count": 5,
   "metadata": {},
   "outputs": [
    {
     "ename": "FileNotFoundError",
     "evalue": "[Errno 2] No such file or directory: 'D:\\\\Python\\\\Learning\\\\ppt\\\\runoob.txt'",
     "output_type": "error",
     "traceback": [
      "\u001b[1;31m---------------------------------------------------------------------------\u001b[0m",
      "\u001b[1;31mFileNotFoundError\u001b[0m                         Traceback (most recent call last)",
      "\u001b[1;32m<ipython-input-5-4e55c45453db>\u001b[0m in \u001b[0;36m<module>\u001b[1;34m()\u001b[0m\n\u001b[1;32m----> 1\u001b[1;33m \u001b[0mfile\u001b[0m \u001b[1;33m=\u001b[0m \u001b[0mopen\u001b[0m\u001b[1;33m(\u001b[0m\u001b[1;34mr\"D:\\Python\\Learning\\ppt\\runoob.txt\"\u001b[0m\u001b[1;33m,\u001b[0m \u001b[1;34m\"w\"\u001b[0m\u001b[1;33m)\u001b[0m\u001b[1;33m\u001b[0m\u001b[0m\n\u001b[0m\u001b[0;32m      2\u001b[0m \u001b[1;33m\u001b[0m\u001b[0m\n\u001b[0;32m      3\u001b[0m file.write(\"www.runoob.com\\n\"\n\u001b[0;32m      4\u001b[0m \u001b[1;34m\"www.runoob.com\\n\"\u001b[0m\u001b[1;33m\u001b[0m\u001b[0m\n\u001b[0;32m      5\u001b[0m \u001b[1;34m\"www.runoob.com\\n\"\u001b[0m\u001b[1;33m\u001b[0m\u001b[0m\n",
      "\u001b[1;31mFileNotFoundError\u001b[0m: [Errno 2] No such file or directory: 'D:\\\\Python\\\\Learning\\\\ppt\\\\runoob.txt'"
     ]
    }
   ],
   "source": [
    "file = open(r\"D:\\Python\\Learning\\ppt\\runoob.txt\", \"w\")\n",
    "\n",
    "file.write(\"www.runoob.com\\n\"\n",
    "\"www.runoob.com\\n\"\n",
    "\"www.runoob.com\\n\"\n",
    "\"www.runoob.com\\n\"\n",
    "\"www.runoob.com\\n\")\n",
    "\n",
    "file.close()\n",
    "file = open(r\"D:\\Python\\Learning\\ppt\\runoob.txt\")\n",
    "\n",
    "print(file.name)\n",
    "\n",
    "text = file.read()\n",
    "print(text)\n",
    "\n",
    "file.close()"
   ]
  },
  {
   "cell_type": "code",
   "execution_count": 6,
   "metadata": {},
   "outputs": [
    {
     "name": "stdout",
     "output_type": "stream",
     "text": [
      "文件名为:  runoob.txt\n",
      "读取第一行 www.runoob.com\n",
      "\n",
      "读取的字符串为: www.r\n"
     ]
    }
   ],
   "source": [
    "# 读取文件的正确姿势\n",
    "fo = open(\"runoob.txt\", \"r+\")\n",
    "print (\"文件名为: \", fo.name)\n",
    "\n",
    "line = fo.readline()\n",
    "print (\"读取第一行 %s\" % (line))\n",
    "\n",
    "line = fo.readline(5)\n",
    "print (\"读取的字符串为: %s\" % (line))\n",
    "\n",
    "# 关闭文件\n",
    "fo.close()"
   ]
  },
  {
   "cell_type": "code",
   "execution_count": 2,
   "metadata": {},
   "outputs": [
    {
     "name": "stdout",
     "output_type": "stream",
     "text": [
      "文件名为:  runoob.txt\n",
      "读取第一行 www.runoob.com\n",
      "\n",
      "['w', 'w', 'w', '.', 'r', 'u', 'n', 'o', 'o', 'b', '.', 'c', 'o', 'm', '\\n']\n"
     ]
    }
   ],
   "source": [
    "# 用readline读取时每行结束都有一个换行符\n",
    "\n",
    "fo = open(\"runoob.txt\", \"r\")\n",
    "print (\"文件名为: \", fo.name)\n",
    "\n",
    "line = fo.readline()\n",
    "print (\"读取第一行 %s\" % (line))\n",
    "\n",
    "s1 = list(line)\n",
    "print(s1)\n",
    "fo.close()"
   ]
  },
  {
   "cell_type": "code",
   "execution_count": 7,
   "metadata": {},
   "outputs": [
    {
     "name": "stdout",
     "output_type": "stream",
     "text": [
      "文件名为:  runoob.txt\n",
      "www.runoob.com\n",
      "\n",
      "www.runoob.com\n",
      "\n",
      "www.runoob.com\n",
      "\n",
      "www.runoob.com\n",
      "\n",
      "www.runoob.com\n",
      "\n",
      "\n"
     ]
    }
   ],
   "source": [
    "fo = open(\"runoob.txt\", \"r+\")\n",
    "print (\"文件名为: \", fo.name)\n",
    "while 1:\n",
    "    txt = fo.readline()\n",
    "    print(txt)\n",
    "    if not txt:\n",
    "        break\n",
    "# 关闭文件\n",
    "fo.close()"
   ]
  },
  {
   "cell_type": "code",
   "execution_count": 10,
   "metadata": {},
   "outputs": [
    {
     "name": "stdout",
     "output_type": "stream",
     "text": [
      "runoob[附件].txt\n",
      "www.runoob.com\n",
      "www.runoob.com\n",
      "www.runoob.com\n",
      "www.runoob.com\n",
      "www.runoob.com\n",
      "\n"
     ]
    }
   ],
   "source": [
    "# 文件读写案例-- 复制文件\n",
    "# 用代码的方式来实现文件复制过程\n",
    "\n",
    "# # 1.打开\n",
    "# file_read = open(\"runoob.txt\")\n",
    "# file_write = open(\"runoob[附件].txt\",\"w\")\n",
    "# # 2.读，写\n",
    "# text = file_read.read()\n",
    "# file_write.write(text)\n",
    "# # 3.关闭\n",
    "# file_read.close()\n",
    "# file_write.close()\n",
    "\n",
    "# 1.打开\n",
    "file_write = open(\"runoob[附件].txt\")\n",
    "print(file_write.name)\n",
    "# 2.读，写\n",
    "text = file_write.read()\n",
    "print(text)\n",
    "# 3.关闭\n",
    "file_write.close()"
   ]
  },
  {
   "cell_type": "code",
   "execution_count": 11,
   "metadata": {},
   "outputs": [
    {
     "name": "stdout",
     "output_type": "stream",
     "text": [
      "runoob[附件].txt\n",
      "www.runoob.com\n",
      "www.runoob.com\n",
      "www.runoob.com\n",
      "www.runoob.com\n",
      "www.runoob.com\n",
      "\n"
     ]
    }
   ],
   "source": [
    "# 复制大文件，逐行复制\n",
    "# 1.打开\n",
    "file_read = open(\"runoob.txt\")\n",
    "file_write = open(\"runoob[附件].txt\",\"w\")\n",
    "# 2.读，写\n",
    "while 1:\n",
    "    text = file_read.readline()\n",
    "    if not text:\n",
    "        break\n",
    "    file_write.write(text)\n",
    "# 3.关闭\n",
    "file_read.close()\n",
    "file_write.close()\n",
    "file_write = open(\"runoob[附件].txt\")\n",
    "print(file_write.name)\n",
    "# 2.读，写\n",
    "text = file_write.read()\n",
    "print(text)\n",
    "# 3.关闭\n",
    "file_write.close()"
   ]
  },
  {
   "cell_type": "code",
   "execution_count": 49,
   "metadata": {},
   "outputs": [
    {
     "name": "stdout",
     "output_type": "stream",
     "text": [
      "www.runoob.com\n",
      "\n",
      "www.runoob.com\n",
      "\n",
      "www.runoob.com\n",
      "\n",
      "www.runoob.com\n",
      "\n",
      "www.runoob.com\n",
      "\n",
      "www.runoob.com\n",
      "\n",
      "www.runoob.com\n",
      "\n",
      "www.runoob.com\n",
      "\n",
      "www.runoob.com\n",
      "\n",
      "www.runoob.com\n"
     ]
    }
   ],
   "source": [
    "## 文件打开的正确方式 with open(filepath)\n",
    "# 此种方式打开不用close函数关闭文件\n",
    "\n",
    "with open(\"runoob.txt\") as f:\n",
    "    content = f.readline()\n",
    "    while content:\n",
    "        print(content)\n",
    "        content = f.readline()"
   ]
  },
  {
   "cell_type": "code",
   "execution_count": 50,
   "metadata": {},
   "outputs": [],
   "source": [
    "# 序列化操作案列\n",
    "import pickle\n",
    "\n",
    "age = 19\n",
    "\n",
    "with open(r\"test.txt\",\"wb\") as f:\n",
    "    age = pickle.dump(age,f)\n",
    "    "
   ]
  },
  {
   "cell_type": "code",
   "execution_count": 51,
   "metadata": {},
   "outputs": [
    {
     "name": "stdout",
     "output_type": "stream",
     "text": [
      "19\n"
     ]
    }
   ],
   "source": [
    "# 反序列化案列\n",
    "import pickle\n",
    "\n",
    "age = 19\n",
    "\n",
    "with open(r\"test.txt\",\"rb\") as f:\n",
    "    age = pickle.load(f)\n",
    "    print(age)"
   ]
  },
  {
   "cell_type": "code",
   "execution_count": null,
   "metadata": {},
   "outputs": [],
   "source": [
    "# 使用shelve创建文件并使用\n",
    "import shelve\n",
    "\n",
    "# 打开文件\n",
    "# shv相当于一个字典\n",
    "\n",
    "shv = shelve.open(r\"shv.db\")\n",
    "\n",
    "shv['one'] = 1\n",
    "shv['two'] = 2\n",
    "\n",
    "shv.close()\n",
    "\n",
    "# shelve 创建的是一个数据库文件，包括其他格式色文件\n"
   ]
  },
  {
   "cell_type": "code",
   "execution_count": null,
   "metadata": {},
   "outputs": [],
   "source": [
    "import shelve\n",
    "shv = shelve.open(r\"shv.db\")\n",
    "\n",
    "try:\n",
    "    print(shv[\"two\"])\n",
    "    print(shv[\"one\"])\n",
    "except Exception as result:\n",
    "    print(\"未知错误%s\"%result)\n",
    "finally:\n",
    "    shv.close()"
   ]
  },
  {
   "cell_type": "code",
   "execution_count": null,
   "metadata": {},
   "outputs": [],
   "source": [
    "# shelve 之只读打开\n",
    "import shelve\n",
    "\n",
    "shv = shelve.open(r'shv.db', flag='r')\n",
    "\n",
    "try:\n",
    "    k1 = shv['one']\n",
    "    print(k1)\n",
    "finally:\n",
    "    shv.close()"
   ]
  },
  {
   "cell_type": "code",
   "execution_count": null,
   "metadata": {},
   "outputs": [],
   "source": [
    "import shelve\n",
    "\n",
    " \n",
    "\n",
    "shv = shelve.open(r'shv.db')\n",
    "try:\n",
    "    shv['one'] = {\"eins\":1, \"zwei\":2, \"drei\":3}\n",
    "finally:\n",
    "    shv.close()\n",
    "\n",
    "\n",
    "shv = shelve.open(r'shv.db')\n",
    "try:\n",
    "    one = shv['one']\n",
    "    print(one)\n",
    "finally:\n",
    "    shv.close()\n",
    "    "
   ]
  },
  {
   "cell_type": "code",
   "execution_count": null,
   "metadata": {},
   "outputs": [],
   "source": [
    "# shelve忘记写回，需要使用强制写回\n",
    "shv = shelve.open(r'shv.db')\n",
    "try:\n",
    "    k1 = shv['one']\n",
    "    print(k1)\n",
    "    # 此时，一旦shelve关闭，则内容还是存在于内存中，没有写回数据库\n",
    "    k1[\"eins\"] =100\n",
    "finally:\n",
    "    shv.close()\n",
    "    \n",
    "    \n",
    "shv = shelve.open(r'shv.db')\n",
    "try:\n",
    "    k1 = shv['one']\n",
    "    print(k1)\n",
    "finally:\n",
    "    shv.close()"
   ]
  },
  {
   "cell_type": "code",
   "execution_count": null,
   "metadata": {},
   "outputs": [],
   "source": [
    "# shelve忘记写回，需要使用强制写回\n",
    "shv = shelve.open(r'shv.db', writeback=True)\n",
    "try:\n",
    "    k1 = shv['one']\n",
    "    print(k1)\n",
    "    # 此时，一旦shelve关闭，则内容还是存在于内存中，没有写回数据库\n",
    "    k1[\"eins\"] =100\n",
    "finally:\n",
    "    shv.close()\n",
    "    \n",
    "    \n",
    "shv = shelve.open(r'shv.db')\n",
    "try:\n",
    "    k1 = shv['one']\n",
    "    print(k1)\n",
    "finally:\n",
    "    shv.close()"
   ]
  },
  {
   "cell_type": "markdown",
   "metadata": {},
   "source": [
    "### 文件/目录的常用管理操作\n",
    "\n",
    "** 首先引入os模块import os\n",
    "\n",
    "#### 文件操作\n",
    "- rename   重命名文件   os.rename(源文件名，目标文件名)\n",
    "- remove   删除文件     os.remove(文件名)\n",
    "\n",
    "#### 目录操作\n",
    "    - listdir     目录列表        os.listdir(目录名)\n",
    "    - mkdir       创建目录        os.mkdir(目录名)\n",
    "    - rmdir       删除目录        os.rmdir(目录名)\n",
    "    - getcwd      获取当前目录    os.getcwd()\n",
    "    - chdir       修改工作目录    os.chdir(目标目录)\n",
    "    - path.isdir  判断是否是文件  os.path.isdir(文件路径)\n",
    "\n",
    "* 提示：文件或者目录操作都支持相对路径和绝对路径"
   ]
  },
  {
   "cell_type": "markdown",
   "metadata": {},
   "source": [
    "#### 文本文件的编码格式\n",
    "- 文本文件储存的内容是基于 字符编码的文件，常见的有ASSII编码，UNICODE编码\n",
    "\n",
    "  * python2.x默认使用ASSII编码\n",
    "  * python3.x默认使用UTF-8编码\n",
    "  \n",
    "- ASCII编码和UNICODE编码\n",
    "\n",
    "  * ASCII编码\n",
    "    - 计算机中只有256个ASCII字符\n",
    "    - 一个ASCII在内存中占用1个字节的空间\n",
    "     · 8个0/1的排列组合方式一共有256中，也就是 2** 8\n",
    "  * UTF-8 编码格式\n",
    "    - 计算机中使用1-6个字节来表示一个UTF-8字符，涵盖了地球上几乎所有地区的文字\n",
    "    - 大多数汉子会使用3个字节表示\n",
    "    - UTF-8是UNICODE编码的一种编码格式"
   ]
  },
  {
   "cell_type": "code",
   "execution_count": 80,
   "metadata": {},
   "outputs": [],
   "source": [
    "# 文件的重命名和删除\n",
    "#  os模块的rename方法可以对文件进行重命名\n",
    "import os\n",
    "#os.rename(\"runoob[复件].txt\",\"runoob0.txt\")\n",
    "os.remove(\"runoob0.txt\")"
   ]
  },
  {
   "cell_type": "code",
   "execution_count": 1,
   "metadata": {},
   "outputs": [
    {
     "name": "stdout",
     "output_type": "stream",
     "text": [
      "D:\\Python\\Learning\\Exercise\n"
     ]
    }
   ],
   "source": [
    "import os\n",
    "print(os.getcwd())"
   ]
  },
  {
   "cell_type": "code",
   "execution_count": null,
   "metadata": {},
   "outputs": [],
   "source": [
    "#!/usr/bin/python\n",
    "# -*- coding: UTF-8 -*-\n",
    "\n",
    "hello_str = \"hello 世界\"\n",
    "print(hello_str)"
   ]
  },
  {
   "cell_type": "markdown",
   "metadata": {},
   "source": [
    "## 如果要在python2中使用UTF-8的编码格式\n",
    "\n",
    "**  在python.2x文件的第一行增加以下代码，解释器会以UTF-8编码 来处理python文件\n",
    "\n",
    "`# *-* coding:utf8 *-*`\n",
    "\n",
    "- 这是官方推荐使用的\n",
    "\n",
    "- 也可以使用\n",
    "\n",
    "`# coding = utf8`"
   ]
  },
  {
   "cell_type": "code",
   "execution_count": null,
   "metadata": {},
   "outputs": [],
   "source": [
    "#!/usr/bin/python\n",
    "# -*- coding: UTF-8 -*-\n",
    "\n",
    "# 打开文件\n",
    "fo = open(\"runoob.txt\", \"r+\")\n",
    "print (\"文件名为: \", fo.name)\n",
    "\n",
    "line = fo.readline()\n",
    "print (\"读取第一行 %s\" % (line))\n",
    "\n",
    "line = fo.readline(5)\n",
    "print (\"读取的字符串为: %s\" % (line))\n",
    "\n",
    "# 关闭文件\n",
    "fo.close()"
   ]
  },
  {
   "cell_type": "markdown",
   "metadata": {},
   "source": [
    "#### 有时候python2遍历含有UTF-8编码的字符时即便指定了UTF-8的编码\n",
    "#### 但还是会出现乱码这时只要在字符串引号前加个u就可以了"
   ]
  },
  {
   "cell_type": "code",
   "execution_count": null,
   "metadata": {},
   "outputs": [],
   "source": [
    "#有时候python2遍历含有UTF-8编码的字符时即便指定了UTF-8的编码\n",
    "#但还是会出现乱码这时只要在字符串引号前加个u就可以了\n",
    "\n",
    "# *-* coding:utf8 *-*\n",
    "# 引号前面的u告诉解释器这是一个utf8编码格式的字符串\n",
    "hello_str = u\"hello 世界\"\n",
    "print(hello_str)\n",
    "\n",
    "for c in hello_str:\n",
    "\tprint(c)"
   ]
  },
  {
   "cell_type": "markdown",
   "metadata": {},
   "source": [
    "## eval函数\n",
    "\n",
    "#### eval()函数十分强大 --将字符串当成有效表达式来求值并返回计算结果"
   ]
  },
  {
   "cell_type": "code",
   "execution_count": 12,
   "metadata": {},
   "outputs": [
    {
     "data": {
      "text/plain": [
       "2"
      ]
     },
     "execution_count": 12,
     "metadata": {},
     "output_type": "execute_result"
    }
   ],
   "source": [
    "# 基本的数学计算\n",
    "eval(\"1 + 1\")"
   ]
  },
  {
   "cell_type": "code",
   "execution_count": 13,
   "metadata": {},
   "outputs": [
    {
     "data": {
      "text/plain": [
       "'**********'"
      ]
     },
     "execution_count": 13,
     "metadata": {},
     "output_type": "execute_result"
    }
   ],
   "source": [
    "# 字符串重复\n",
    "eval(\"'*' * 10\")"
   ]
  },
  {
   "cell_type": "code",
   "execution_count": 14,
   "metadata": {},
   "outputs": [
    {
     "data": {
      "text/plain": [
       "[1, 2, 3, 4, 5]"
      ]
     },
     "execution_count": 14,
     "metadata": {},
     "output_type": "execute_result"
    }
   ],
   "source": [
    "# 将字符串转换成列表\n",
    "eval(\"[1, 2, 3, 4, 5]\")"
   ]
  },
  {
   "cell_type": "code",
   "execution_count": 16,
   "metadata": {},
   "outputs": [
    {
     "data": {
      "text/plain": [
       "{'age': 18, 'name': 'xiaoming'}"
      ]
     },
     "execution_count": 16,
     "metadata": {},
     "output_type": "execute_result"
    }
   ],
   "source": [
    "# 将字符串转换成字典\n",
    "eval(\"{'name':'xiaoming','age':18}\")"
   ]
  },
  {
   "cell_type": "code",
   "execution_count": 18,
   "metadata": {},
   "outputs": [
    {
     "name": "stdout",
     "output_type": "stream",
     "text": [
      "789\n",
      "<class 'int'>\n"
     ]
    }
   ],
   "source": [
    "a = eval(\"789\")\n",
    "print(a)\n",
    "print(type(a))"
   ]
  },
  {
   "cell_type": "code",
   "execution_count": 22,
   "metadata": {},
   "outputs": [
    {
     "name": "stdout",
     "output_type": "stream",
     "text": [
      "请输入一个算数题:2 ** 10\n",
      "1024\n",
      "<class 'int'>\n"
     ]
    }
   ],
   "source": [
    "a = eval(input(\"请输入一个算数题:\"))\n",
    "print(a)\n",
    "print(type(a))"
   ]
  },
  {
   "cell_type": "markdown",
   "metadata": {},
   "source": [
    "### 不要滥用eval\n",
    "\n",
    "- 在开发时千万不要使用eval直接转换input的结果\n",
    "- 使用eval方法调用system方法时可以执行任何终端命令"
   ]
  },
  {
   "cell_type": "code",
   "execution_count": 23,
   "metadata": {},
   "outputs": [
    {
     "name": "stdout",
     "output_type": "stream",
     "text": [
      "请输入一个算数题:__import__('os').system(\"touch aaa\")\n",
      "1\n"
     ]
    }
   ],
   "source": [
    "a = eval(input(\"请输入一个算数题:\"))\n",
    "print(a)\n"
   ]
  },
  {
   "cell_type": "code",
   "execution_count": 24,
   "metadata": {},
   "outputs": [],
   "source": [
    "# 文件操作 删除文件\n",
    "import os\n",
    "os.remove(\"runoob[附件].txt\")"
   ]
  },
  {
   "cell_type": "code",
   "execution_count": 81,
   "metadata": {},
   "outputs": [
    {
     "name": "stdout",
     "output_type": "stream",
     "text": [
      "请输入要拷贝的文件名字:runoob.txt\n"
     ]
    }
   ],
   "source": [
    "# 文件操作 制作文件的备份\n",
    "file_old_name = input(\"请输入要拷贝的文件名字:\")\n",
    "old_file = open(file_old_name)\n",
    "# 如果打开文件\n",
    "if old_file:\n",
    "    file_expand_num = file_old_name.rfind(\".\")\n",
    "    if file_expand_num > 0:\n",
    "        new_file_expond_name = file_old_name[file_expand_num:]\n",
    "        #组织新的文件名字\n",
    "        new_file_name = file_old_name[:file_expand_num] + \"[复件]\"+ new_file_expond_name\n",
    "    # 创建新的文件\n",
    "    new_file = open(new_file_name,\"w\")\n",
    "    # 把旧的文件一一复制到新的文件\n",
    "    for line_content in old_file.readlines():\n",
    "        new_file.write(line_content)\n",
    "\n",
    "#关闭文件\n",
    "new_file.close()\n",
    "old_file.close()\n"
   ]
  },
  {
   "cell_type": "code",
   "execution_count": 73,
   "metadata": {},
   "outputs": [
    {
     "name": "stdout",
     "output_type": "stream",
     "text": [
      "www.runoob.com\n",
      "www.runoob.com\n",
      "www.runoob.com\n",
      "www.runoob.com\n",
      "www.runoob.com\n",
      "www.runoob.com\n",
      "www.runoob.com\n",
      "www.runoob.com\n",
      "www.runoob.com\n",
      "www.runoob.com"
     ]
    }
   ],
   "source": [
    "file = open(\"runoob.txt\")\n",
    "for content in file.readlines():\n",
    "    print(content,end = \"\")\n",
    "file.close()"
   ]
  },
  {
   "cell_type": "code",
   "execution_count": 36,
   "metadata": {},
   "outputs": [
    {
     "name": "stdout",
     "output_type": "stream",
     "text": [
      "指针当前的位置是: 16\n"
     ]
    }
   ],
   "source": [
    "# 文件的定位读写\n",
    "# 在读写文件时，如果想知道当前的位置，可以使用tell方法来获得\n",
    "# tell方法返回文件的当前位置\n",
    "\n",
    "file = open(\"runoob.txt\")\n",
    "file.readline()\n",
    "print(\"指针当前的位置是:\",file.tell())\n",
    "file.close()"
   ]
  },
  {
   "cell_type": "markdown",
   "metadata": {},
   "source": [
    "### 使用seek方法定位到文件的制定读写位置\n",
    "\n",
    " - 语法` seek(offset[,whence])`\n",
    " - offset:表示偏移量，也就是要移动的字节数\n",
    " - whence:表示方向，该参数的值有三个\n",
    "   * seek_set 或者0：whence参数的默认值，表示从文件的起始位置开始偏移\n",
    "   * seek_cur 或者1：表示从文件当前的位置开始偏移\n",
    "   * seek_end 或者2：从文件末尾开始偏移"
   ]
  },
  {
   "cell_type": "code",
   "execution_count": 69,
   "metadata": {},
   "outputs": [
    {
     "name": "stdout",
     "output_type": "stream",
     "text": [
      "指针当前的位置是: 16\n",
      "指针当前的位置是: 4\n",
      "指针当前的位置是: 16\n",
      "指针当前的位置是: 12\n",
      "指针当前的位置是: 154\n"
     ]
    }
   ],
   "source": [
    "file = open(\"runoob.txt\",\"rb+\")\n",
    "file.readline()\n",
    "print(\"指针当前的位置是:\",file.tell())\n",
    "file.seek(4)\n",
    "print(\"指针当前的位置是:\",file.tell())\n",
    "file.readline()\n",
    "print(\"指针当前的位置是:\",file.tell())\n",
    "file.seek(-4,1)\n",
    "print(\"指针当前的位置是:\",file.tell())\n",
    "file.seek(-4,2)\n",
    "print(\"指针当前的位置是:\",file.tell())\n",
    "file.close()"
   ]
  },
  {
   "cell_type": "code",
   "execution_count": 85,
   "metadata": {},
   "outputs": [
    {
     "name": "stdout",
     "output_type": "stream",
     "text": [
      "指针当前的位置为 16\n",
      "读取到的数据为 b'www.runoob.com\\r\\n'\n",
      "指针当前的位置是: 154\n",
      "读取到的数据为 b'.'\n"
     ]
    }
   ],
   "source": [
    "# 将文件的读写位置定位到文件末尾三字节出\n",
    "file = open(\"runoob.txt\",\"rb+\")\n",
    "words = file.readline()\n",
    "print(\"指针当前的位置为\",file.tell())\n",
    "print(\"读取到的数据为\",words)\n",
    "file.seek(-4,2)\n",
    "print(\"指针当前的位置是:\",file.tell())\n",
    "words = file.read(1)\n",
    "print(\"读取到的数据为\",words)\n",
    "file.close()"
   ]
  },
  {
   "cell_type": "code",
   "execution_count": 77,
   "metadata": {},
   "outputs": [
    {
     "name": "stdout",
     "output_type": "stream",
     "text": [
      "一共有 10 行\n"
     ]
    }
   ],
   "source": [
    "# 判断一个文件有多少行\n",
    "file = open(\"runoob.txt\")\n",
    "i = 0\n",
    "while 1:\n",
    "    content = file.readline()\n",
    "    if not content:\n",
    "        break\n",
    "    i += 1\n",
    "print(\"一共有\",i,\"行\")\n",
    "file.close()"
   ]
  },
  {
   "cell_type": "code",
   "execution_count": null,
   "metadata": {},
   "outputs": [],
   "source": [
    "    url = \"http://free.manycai.com/K25b4b4a4538993/cqssc-7.json\"\n",
    "    rsp = request.urlopen(url)\n",
    "    html = rsp.read()\n",
    "    html = html.decode()\n",
    "    #print(html)\n",
    "    # r如果想把bytes内容转换成字符串，需要解码\n",
    "    data_list = (eval(html))\n",
    "    # print(data_list)\n",
    "    num_1 = ((data_list[0])['code']).replace(',','',4)\n",
    "    num_2 = ((data_list[1])['code']).replace(',','',4)\n",
    "    num_3 = ((data_list[2])['code']).replace(',','',4)\n",
    "    num_4 = ((data_list[3])['code']).replace(',','',4)\n",
    "    num_5 = ((data_list[4])['code']).replace(',','',4)\n",
    "    num_6 = ((data_list[5])['code']).replace(',','',4)\n",
    "    num_7 = ((data_list[6])['code']).replace(',','',4)\n",
    "    num_list = [num_1,num_2,num_3,num_4,num_5,num_6,num_7]\n",
    "    print(num_list)\n",
    "    num1_list = []\n",
    "    num2_list = []\n",
    "    num3_list = []\n",
    "    num4_list = []\n",
    "    num5_list = []\n",
    "    num6_list = []\n",
    "    num7_list = []\n",
    "    num8_list = []\n",
    "    num9_list = []\n",
    "    num10_list = []\n",
    "    for n in num_list:\n",
    "        num1_list.append(n[:3])\n",
    "        num2_list.append(n[:2] + n[3])\n",
    "        num3_list.append(n[:2] + n[4])\n",
    "        num4_list.append(n[0] + n[2] + n[3])\n",
    "        num5_list.append(n[0] + n[2] + n[4])\n",
    "        num6_list.append(n[0] + n[3] + n[4])\n",
    "        num7_list.append(n[1:4])\n",
    "        num8_list.append(n[1:3] + n[4])\n",
    "        num9_list.append(n[1] + n[3:])\n",
    "        num10_list.append(n[2:])\n",
    "    print(num1_list)\n",
    "    print(num2_list)\n",
    "    print(num3_list)\n",
    "    print(num4_list)\n",
    "    print(num5_list)\n",
    "    print(num6_list)\n",
    "    print(num7_list)\n",
    "    print(num8_list)\n",
    "    print(num9_list)\n",
    "    print(num10_list)\n",
    "\n",
    "    time.sleep(20)\n",
    "\n",
    "\n",
    "    basic_list = ['0', '1', '2', '3', '4', '5', '6', '7', '8', '9']\n",
    "    def cal_times(lits):\n",
    "        hot_num_list = []\n",
    "        for i in basic_list:\n",
    "            k = 0\n",
    "            for j in lits:\n",
    "                if i in j:\n",
    "                    k += 1\n",
    "                    if k == 3:\n",
    "                        hot_num_list.append(i)\n",
    "        return hot_num_list\n",
    "    hot_num1 = cal_times(num1_list)\n",
    "    hot_num2 = cal_times(num2_list)\n",
    "    hot_num3 = cal_times(num3_list)\n",
    "    hot_num4 = cal_times(num4_list)\n",
    "    hot_num5 = cal_times(num5_list)\n",
    "    hot_num6 = cal_times(num6_list)\n",
    "    hot_num7 = cal_times(num7_list)\n",
    "    hot_num8 = cal_times(num8_list)\n",
    "    hot_num9 = cal_times(num9_list)\n",
    "    hot_num10 = cal_times(num10_list)\n",
    "    print(hot_num1)\n",
    "    print(hot_num2)\n",
    "    print(hot_num3)\n",
    "    print(hot_num4)\n",
    "    print(hot_num5)\n",
    "    print(hot_num6)\n",
    "    print(hot_num7)\n",
    "    print(hot_num8)\n",
    "    print(hot_num9)\n"
   ]
  },
  {
   "cell_type": "code",
   "execution_count": 38,
   "metadata": {},
   "outputs": [
    {
     "name": "stdout",
     "output_type": "stream",
     "text": [
      "[1588, 45565]\n"
     ]
    }
   ],
   "source": [
    "li = [\"01588\",\"45565\"]\n",
    "l2 =[]\n",
    "for i in li:\n",
    "    l2.append((int(i)))\n",
    "print(l2)"
   ]
  },
  {
   "cell_type": "code",
   "execution_count": 29,
   "metadata": {},
   "outputs": [
    {
     "name": "stdout",
     "output_type": "stream",
     "text": [
      "4\n"
     ]
    }
   ],
   "source": [
    "c = '4'\n",
    "a = b = c \n",
    "b = 8\n",
    "print(a)"
   ]
  },
  {
   "cell_type": "code",
   "execution_count": 35,
   "metadata": {},
   "outputs": [
    {
     "name": "stdout",
     "output_type": "stream",
     "text": [
      "[('3', 3), ('5', 3), ('2', 2), ('6', 2), ('7', 2), ('0', 1), ('1', 1), ('4', 1), ('8', 1), ('9', 0)]\n",
      "[('3', 3), ('5', 3), ('2', 2)]\n",
      "['3', '5', '2']\n"
     ]
    }
   ],
   "source": [
    "hot_num_list = ['778','353','265','036','457','123']\n",
    "hot_num_dic = {}\n",
    "basic_list = ['0', '1', '2', '3', '4', '5', '6', '7', '8', '9']\n",
    "for i in basic_list:\n",
    "    k = 0\n",
    "    for j in hot_num_list:\n",
    "        if i in j:\n",
    "            k += 1\n",
    "    hot_num_dic[i] = k\n",
    "sort_list = sorted(hot_num_dic.items(), key=lambda x: x[1], reverse=True)\n",
    "print(sort_list)\n",
    "\n",
    "sort_list = sort_list[:3]\n",
    "print(sort_list)\n",
    "hot_num_list = []\n",
    "for i in sort_list:\n",
    "    hot_num_list.append(i[0])\n",
    "print(hot_num_list)    "
   ]
  },
  {
   "cell_type": "code",
   "execution_count": 48,
   "metadata": {},
   "outputs": [
    {
     "name": "stdout",
     "output_type": "stream",
     "text": [
      "\n"
     ]
    }
   ],
   "source": []
  }
 ],
 "metadata": {
  "kernelspec": {
   "display_name": "Python 3",
   "language": "python",
   "name": "python3"
  },
  "language_info": {
   "codemirror_mode": {
    "name": "ipython",
    "version": 3
   },
   "file_extension": ".py",
   "mimetype": "text/x-python",
   "name": "python",
   "nbconvert_exporter": "python",
   "pygments_lexer": "ipython3",
   "version": "3.6.0"
  }
 },
 "nbformat": 4,
 "nbformat_minor": 2
}
