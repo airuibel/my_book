{
 "cells": [
  {
   "cell_type": "code",
   "execution_count": null,
   "metadata": {},
   "outputs": [],
   "source": [
    "# peroperty案例\n",
    "# 定义一个Person类，具有name，age属性\n",
    "# 对于任意输入的姓名，我们希望都用大写方式保存\n",
    "# 年龄，我们希望内部统一用整数保存\n",
    "# x = property(fget, fset, fdel, doc)\n",
    "class Person():\n",
    "    '''\n",
    "    这是一个人，一个高尚的人，一个脱离了低级趣味的人\n",
    "    他还他妈的有属性\n",
    "    '''\n",
    "    # 函数的名称可以任意\n",
    "    def fget(self):\n",
    "        return self._name * 2\n",
    "    \n",
    "    def fset(self, name):\n",
    "        # 所有输入的姓名以大写形式保存\n",
    "        self._name = name.upper()\n",
    "        \n",
    "    def fdel(self):\n",
    "        self._name = \"NoName\"\n",
    "    \n",
    "    name = property(fget, fset, fdel, \"对name进行下下操作啦\")\n",
    "    \n",
    "# 作业：\n",
    "# 1. 在用户输入年龄的时候，可以输入整数，小数，浮点数\n",
    "# 2. 但内部为了数据清洁，我们统一需要保存整数，直接舍去小数点"
   ]
  },
  {
   "cell_type": "code",
   "execution_count": 2,
   "metadata": {},
   "outputs": [
    {
     "name": "stdout",
     "output_type": "stream",
     "text": [
      "49\n"
     ]
    }
   ],
   "source": [
    "#作业一\n",
    "class Person():\n",
    "    '''\n",
    "    这是个说明\n",
    "    '''\n",
    "    def fget(self):\n",
    "        return \"%d\"%self._age\n",
    "    def fset(self,age):\n",
    "        self._age = age // 1\n",
    "    def fdel(self):\n",
    "        self._age = \"NoneAge\"\n",
    "    age = property(fget,fset,fdel,\"对Age进行下下操作\")\n",
    "person = Person()\n",
    "person.age = 49.99\n",
    "print(person.age)"
   ]
  },
  {
   "cell_type": "code",
   "execution_count": 6,
   "metadata": {},
   "outputs": [
    {
     "name": "stdout",
     "output_type": "stream",
     "text": [
      "NoName\n",
      "没找到呀没找到\n",
      "addr\n",
      "addr\n"
     ]
    }
   ],
   "source": [
    "# 作业2\n",
    "# __getattr__\n",
    "\n",
    "class A():\n",
    "    name = \"NoName\"\n",
    "    age = 18\n",
    "   \n",
    "    def __getattr__(self, name):\n",
    "        print(\"没找到呀没找到\")\n",
    "        print(name)\n",
    "        return name\n",
    "        # __getattr_有返回值，没有的话返回None\n",
    "a = A()\n",
    "print(a.name)\n",
    "print(a.addr)  \n",
    "# 作业：\n",
    "# 为什么会打印第四句话，而且第四句话是打印的 None"
   ]
  },
  {
   "cell_type": "code",
   "execution_count": 17,
   "metadata": {},
   "outputs": [
    {
     "name": "stdout",
     "output_type": "stream",
     "text": [
      "哈哈， one 会比 two 大吗？\n",
      "False\n"
     ]
    }
   ],
   "source": [
    "# __gt__\n",
    "#`__gt__`: 进行大于判断的时候触发的函数\n",
    "class Student():\n",
    "    def __init__(self, name):\n",
    "        self._name = name\n",
    "    \n",
    "   \n",
    "    def __gt__(self, obj):\n",
    "        print(\"哈哈， {0} 会比 {1} 大吗？\".format(self._name, obj._name))\n",
    "        return self._name > obj._name\n",
    "        \n",
    "# 作业：\n",
    "# 字符串的比较是按什么规则\n",
    "stu1 = Student(\"one\")\n",
    "stu2 = Student(\"two\")\n",
    "\n",
    "print(stu1 > stu2)\n",
    "\n",
    "\n",
    "# 作业：\n",
    "# 下面显示结果不太美观，能否改成形如  \"哈哈， one 会比 two 大吗？“"
   ]
  },
  {
   "cell_type": "code",
   "execution_count": 10,
   "metadata": {},
   "outputs": [
    {
     "name": "stdout",
     "output_type": "stream",
     "text": [
      "Object `gt` not found.\n"
     ]
    }
   ],
   "source": [
    "gt?"
   ]
  }
 ],
 "metadata": {
  "kernelspec": {
   "display_name": "Python 3",
   "language": "python",
   "name": "python3"
  },
  "language_info": {
   "codemirror_mode": {
    "name": "ipython",
    "version": 3
   },
   "file_extension": ".py",
   "mimetype": "text/x-python",
   "name": "python",
   "nbconvert_exporter": "python",
   "pygments_lexer": "ipython3",
   "version": "3.6.0"
  }
 },
 "nbformat": 4,
 "nbformat_minor": 2
}
