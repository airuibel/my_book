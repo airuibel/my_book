{
 "cells": [
  {
   "cell_type": "code",
   "execution_count": 23,
   "metadata": {},
   "outputs": [
    {
     "name": "stdout",
     "output_type": "stream",
     "text": [
      "请输入要修改文件的目录批量文件更名\n",
      "请输入文件前缀我心飞翔\n",
      "请输入文件扩展名[回车不修改]txt\n",
      "更名后的文件名列表如下：\n",
      "我心飞翔01.txt\n",
      "我心飞翔02.txt\n",
      "我心飞翔03.txt\n",
      "我心飞翔04.txt\n",
      "我心飞翔05.txt\n",
      "我心飞翔06.txt\n",
      "我心飞翔07.txt\n",
      "我心飞翔08.txt\n",
      "我心飞翔09.txt\n",
      "我心飞翔10.txt\n",
      "我心飞翔11.txt\n",
      "我心飞翔12.txt\n",
      "我心飞翔13.txt\n",
      "我心飞翔14.txt\n",
      "我心飞翔15.txt\n",
      "批量改名成功\n"
     ]
    }
   ],
   "source": [
    "# 批量修改文件名\n",
    "\n",
    "# 1 批量提取文件名\n",
    "import os\n",
    "edit_dir = input(\"请输入要修改文件的目录\")\n",
    "first_name = input(\"请输入文件前缀\")\n",
    "expond_name = input(\"请输入文件扩展名[回车不修改]\")\n",
    "expond_name = \".%s\"%expond_name\n",
    "dir_list = os.listdir(\"%s/\"%edit_dir)\n",
    "#print(dir_list)\n",
    "i = 0\n",
    "expond_name_list = []\n",
    "# 修改扩展名\n",
    "for dir_content in dir_list:\n",
    "    i += 1\n",
    "    expond_num = dir_content.rfind(\".\")\n",
    "    # 判断是否要修改扩展名\n",
    "    if expond_name == \".\":\n",
    "        expond_name = dir_content[expond_num:]\n",
    "    dir_content = \"%.2d%s\"%(i,expond_name)\n",
    "    expond_name_list.append(dir_content)\n",
    "new_namelist = []\n",
    "# 生成新名列表\n",
    "for last_name in expond_name_list:\n",
    "    new_name = \"%s%s\"%(first_name,last_name)\n",
    "    new_namelist.append(new_name)\n",
    "#print(new_namelist)\n",
    "n = 0\n",
    "# 将旧名换成新名\n",
    "for old_name in dir_list:\n",
    "    # 逐个替换旧名\n",
    "    os.rename(\"%s/%s\"%(edit_dir,old_name),\"%s/%s\"%(edit_dir,new_namelist[n]))\n",
    "    n += 1\n",
    "dir_list = os.listdir(\"%s/\"%edit_dir)\n",
    "print(\"更名后的文件名列表如下：\")\n",
    "# 打印新名列表\n",
    "for new_name in dir_list:\n",
    "    print(new_name)\n",
    "print(\"批量改名成功\")"
   ]
  },
  {
   "cell_type": "code",
   "execution_count": 2,
   "metadata": {},
   "outputs": [
    {
     "name": "stdout",
     "output_type": "stream",
     "text": [
      "['runoob - 副本 (2) - 副本.txt', 'runoob - 副本 (2).txt', 'runoob - 副本 (3) - 副本.txt', 'runoob - 副本 (3).txt', 'runoob - 副本 (4) - 副本.txt', 'runoob - 副本 (4).txt', 'runoob - 副本 (5) - 副本.txt', 'runoob - 副本 (5).txt', 'runoob - 副本 (6).txt', 'runoob - 副本 - 副本 (2).txt', 'runoob - 副本 - 副本 (3).txt', 'runoob - 副本 - 副本 (4).txt', 'runoob - 副本 - 副本.txt', 'runoob - 副本.txt', 'runoob.txt']\n"
     ]
    }
   ],
   "source": [
    "import os\n",
    "dir_list = os.listdir(\"批量文件更名/\")\n",
    "print(dir_list)"
   ]
  }
 ],
 "metadata": {
  "kernelspec": {
   "display_name": "Python 3",
   "language": "python",
   "name": "python3"
  },
  "language_info": {
   "codemirror_mode": {
    "name": "ipython",
    "version": 3
   },
   "file_extension": ".py",
   "mimetype": "text/x-python",
   "name": "python",
   "nbconvert_exporter": "python",
   "pygments_lexer": "ipython3",
   "version": "3.6.0"
  }
 },
 "nbformat": 4,
 "nbformat_minor": 2
}
