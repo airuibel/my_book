{
 "cells": [
  {
   "cell_type": "code",
   "execution_count": 1,
   "metadata": {},
   "outputs": [
    {
     "name": "stdout",
     "output_type": "stream",
     "text": [
      "4\n",
      "10\n",
      "22\n",
      "46\n",
      "94\n",
      "190\n",
      "382\n",
      "766\n",
      "1534\n"
     ]
    }
   ],
   "source": [
    "#  猴子第一天摘下若干桃子，当即吃了一半，还不过瘾，有多吃了一个。第二天又将剩下的\n",
    "#  吃掉一半，有多吃了一个。以后每天早上都吃前一天剩下的一半零一个。第十天早上想吃\n",
    "#  时，只剩下一个桃子了。求第一天一共摘多少桃子？\n",
    "p = 1\n",
    "for i in range(1,10):\n",
    "    p = (p + 1) * 2\n",
    "    print(p)"
   ]
  }
 ],
 "metadata": {
  "kernelspec": {
   "display_name": "Python 3",
   "language": "python",
   "name": "python3"
  },
  "language_info": {
   "codemirror_mode": {
    "name": "ipython",
    "version": 3
   },
   "file_extension": ".py",
   "mimetype": "text/x-python",
   "name": "python",
   "nbconvert_exporter": "python",
   "pygments_lexer": "ipython3",
   "version": "3.6.0"
  }
 },
 "nbformat": 4,
 "nbformat_minor": 2
}
