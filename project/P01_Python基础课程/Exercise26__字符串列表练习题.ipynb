{
 "cells": [
  {
   "cell_type": "code",
   "execution_count": 12,
   "metadata": {},
   "outputs": [
    {
     "name": "stdout",
     "output_type": "stream",
     "text": [
      "0b11001010\n",
      "0x59\n"
     ]
    }
   ],
   "source": [
    "b = 0o312\n",
    "a = bin(b)\n",
    "print(a)\n",
    "c = 0b1011001\n",
    "h = hex(c)\n",
    "print(h)"
   ]
  },
  {
   "cell_type": "code",
   "execution_count": 13,
   "metadata": {},
   "outputs": [
    {
     "name": "stdout",
     "output_type": "stream",
     "text": [
      "59\n"
     ]
    }
   ],
   "source": [
    "b = 0b111011\n",
    "print(b)"
   ]
  },
  {
   "cell_type": "code",
   "execution_count": 4,
   "metadata": {},
   "outputs": [
    {
     "name": "stdout",
     "output_type": "stream",
     "text": [
      "请输入一个整数：6454\n",
      "请输入一个整数：98\n",
      "请输入一个整数：6\n",
      "6\n",
      "98\n",
      "6454\n"
     ]
    }
   ],
   "source": [
    "#  题目：输入三个整数 x，y，z，请把这三个数由小到大输\n",
    "x = int(input(\"请输入一个整数：\"))\n",
    "y = int(input(\"请输入一个整数：\"))\n",
    "z = int(input(\"请输入一个整数：\"))\n",
    "num_list = [x,y,z]\n",
    "num_list.sort()\n",
    "for i in num_list:\n",
    "    print(i)"
   ]
  },
  {
   "cell_type": "code",
   "execution_count": 28,
   "metadata": {},
   "outputs": [
    {
     "name": "stdout",
     "output_type": "stream",
     "text": [
      "  * * *   \n",
      "*       * \n",
      "* \n",
      "* \n",
      "* \n",
      "*       * \n",
      "  * * *   \n"
     ]
    }
   ],
   "source": [
    "#  题目：用 *号输出字母 C的图案。\n",
    "for i in range(7):\n",
    "    if i == 0 or i == 6:\n",
    "        for j in range(5):\n",
    "            if j == 0 or j == 4:\n",
    "                print(\"  \",end = \"\")\n",
    "            else:\n",
    "                print(\"* \",end = \"\")\n",
    "        print()\n",
    "    elif i == 1 or i == 5:\n",
    "        for k in range(5):\n",
    "            if k == 0 or k == 4:\n",
    "                print(\"* \",end = \"\")\n",
    "            else:\n",
    "                print(\"  \",end = \"\")\n",
    "        print()\n",
    "    else:\n",
    "        print(\"* \",end = \"\")\n",
    "        print()"
   ]
  },
  {
   "cell_type": "code",
   "execution_count": 20,
   "metadata": {},
   "outputs": [
    {
     "name": "stdout",
     "output_type": "stream",
     "text": [
      "[153, 370, 371, 407]\n"
     ]
    }
   ],
   "source": [
    "#  题目：打印出所有的“水仙花数” ，所谓“水仙花数”是指一个三位数，其各位数字立\n",
    "#  方和等于该数本身。例如： 153 是一个“水仙花数” ，因为 153=1 的三次方＋5 的三次方\n",
    "#  ＋3 的三次方。\n",
    "i = 100\n",
    "num_list = []\n",
    "while i < 1000:\n",
    "    j = i // 100\n",
    "    k = i // 10 % 10\n",
    "    l = i % 10\n",
    "    if i == j ** 3 + k ** 3 + l ** 3:\n",
    "        num_list.append(i)\n",
    "    i += 1           \n",
    "print(num_list)\n",
    "    \n",
    "    "
   ]
  },
  {
   "cell_type": "code",
   "execution_count": 16,
   "metadata": {},
   "outputs": [],
   "source": [
    "for n in range(100,1000):\n",
    "    i = n / 100\n",
    "    j = n / 10 % 10\n",
    "    k = n % 10\n",
    "    if n == i ** 3 + j ** 3 + k ** 3:\n",
    "        print(n)"
   ]
  },
  {
   "cell_type": "code",
   "execution_count": 1,
   "metadata": {},
   "outputs": [
    {
     "name": "stdout",
     "output_type": "stream",
     "text": [
      "90=\n",
      "2 *\n"
     ]
    },
    {
     "ename": "TypeError",
     "evalue": "'float' object cannot be interpreted as an integer",
     "output_type": "error",
     "traceback": [
      "\u001b[1;31m---------------------------------------------------------------------------\u001b[0m",
      "\u001b[1;31mTypeError\u001b[0m                                 Traceback (most recent call last)",
      "\u001b[1;32m<ipython-input-1-29004f0457f9>\u001b[0m in \u001b[0;36m<module>\u001b[1;34m()\u001b[0m\n\u001b[0;32m     15\u001b[0m                     \u001b[0mprint\u001b[0m \u001b[1;33m(\u001b[0m\u001b[1;34m'{} *'\u001b[0m\u001b[1;33m.\u001b[0m\u001b[0mformat\u001b[0m\u001b[1;33m(\u001b[0m\u001b[0mindex\u001b[0m\u001b[1;33m)\u001b[0m\u001b[1;33m)\u001b[0m\u001b[1;33m,\u001b[0m\u001b[1;33m\u001b[0m\u001b[0m\n\u001b[0;32m     16\u001b[0m                 \u001b[1;32mbreak\u001b[0m\u001b[1;33m\u001b[0m\u001b[0m\n\u001b[1;32m---> 17\u001b[1;33m \u001b[0mreduceNum\u001b[0m\u001b[1;33m(\u001b[0m\u001b[1;36m90\u001b[0m\u001b[1;33m)\u001b[0m\u001b[1;33m\u001b[0m\u001b[0m\n\u001b[0m",
      "\u001b[1;32m<ipython-input-1-29004f0457f9>\u001b[0m in \u001b[0;36mreduceNum\u001b[1;34m(n)\u001b[0m\n\u001b[0;32m      7\u001b[0m         \u001b[0mprint\u001b[0m\u001b[1;33m(\u001b[0m\u001b[1;34m'{}'\u001b[0m\u001b[1;33m.\u001b[0m\u001b[0mformat\u001b[0m\u001b[1;33m(\u001b[0m\u001b[0mn\u001b[0m\u001b[1;33m)\u001b[0m\u001b[1;33m)\u001b[0m\u001b[1;33m\u001b[0m\u001b[0m\n\u001b[0;32m      8\u001b[0m     \u001b[1;32mwhile\u001b[0m \u001b[0mn\u001b[0m \u001b[1;32mnot\u001b[0m \u001b[1;32min\u001b[0m \u001b[1;33m[\u001b[0m\u001b[1;36m1\u001b[0m\u001b[1;33m]\u001b[0m \u001b[1;33m:\u001b[0m \u001b[1;31m# 循环保证递归\u001b[0m\u001b[1;33m\u001b[0m\u001b[0m\n\u001b[1;32m----> 9\u001b[1;33m         \u001b[1;32mfor\u001b[0m \u001b[0mindex\u001b[0m \u001b[1;32min\u001b[0m \u001b[0mrange\u001b[0m\u001b[1;33m(\u001b[0m\u001b[1;36m2\u001b[0m\u001b[1;33m,\u001b[0m \u001b[0mn\u001b[0m \u001b[1;33m+\u001b[0m \u001b[1;36m1\u001b[0m\u001b[1;33m)\u001b[0m\u001b[1;33m:\u001b[0m\u001b[1;33m\u001b[0m\u001b[0m\n\u001b[0m\u001b[0;32m     10\u001b[0m             \u001b[1;32mif\u001b[0m \u001b[0mn\u001b[0m \u001b[1;33m%\u001b[0m \u001b[0mindex\u001b[0m \u001b[1;33m==\u001b[0m \u001b[1;36m0\u001b[0m\u001b[1;33m:\u001b[0m\u001b[1;33m\u001b[0m\u001b[0m\n\u001b[0;32m     11\u001b[0m                 \u001b[0mn\u001b[0m \u001b[1;33m/=\u001b[0m \u001b[0mindex\u001b[0m \u001b[1;31m# n 等于 n/index\u001b[0m\u001b[1;33m\u001b[0m\u001b[0m\n",
      "\u001b[1;31mTypeError\u001b[0m: 'float' object cannot be interpreted as an integer"
     ]
    }
   ],
   "source": [
    "def reduceNum(n):\n",
    "    print('{}='.format(n)),\n",
    "    if not isinstance(n, int) or n <= 0 :\n",
    "        print('iplaypy.com请输入一个正确的数字 !')\n",
    "        exit(0)\n",
    "    elif n in [1] :\n",
    "        print('{}'.format(n))\n",
    "    while n not in [1] : # 循环保证递归\n",
    "        for index in range(2, n + 1):\n",
    "            if n % index == 0:\n",
    "                n /= index # n 等于 n/index\n",
    "                if n == 1: \n",
    "                    print(index)\n",
    "                else : # index 一定是素数\n",
    "                    print ('{} *'.format(index)),\n",
    "                break\n",
    "reduceNum(90)"
   ]
  }
 ],
 "metadata": {
  "kernelspec": {
   "display_name": "Python 3",
   "language": "python",
   "name": "python3"
  },
  "language_info": {
   "codemirror_mode": {
    "name": "ipython",
    "version": 3
   },
   "file_extension": ".py",
   "mimetype": "text/x-python",
   "name": "python",
   "nbconvert_exporter": "python",
   "pygments_lexer": "ipython3",
   "version": "3.6.0"
  }
 },
 "nbformat": 4,
 "nbformat_minor": 2
}
