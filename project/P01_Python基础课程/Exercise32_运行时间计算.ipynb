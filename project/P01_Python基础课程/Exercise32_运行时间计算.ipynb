{
 "cells": [
  {
   "cell_type": "code",
   "execution_count": null,
   "metadata": {},
   "outputs": [
    {
     "name": "stdout",
     "output_type": "stream",
     "text": [
      "请输入0或1[0开始][1结束]0\n",
      "请输入0或1[0开始][1结束]1\n",
      "运行了6.38 s\n"
     ]
    }
   ],
   "source": [
    "import time as t\n",
    "while True:\n",
    "    start_end = int(input(\"请输入0或1[0开始][1结束]\"))\n",
    "    if not start_end:\n",
    "        start = t.time()\n",
    "    elif start_end:\n",
    "        end = t.time()\n",
    "        print(\"运行了%.2f s\"%(end-start))\n",
    "    else:\n",
    "        print(\"请正确输入，输入0开始\")"
   ]
  }
 ],
 "metadata": {
  "kernelspec": {
   "display_name": "Python 3",
   "language": "python",
   "name": "python3"
  },
  "language_info": {
   "codemirror_mode": {
    "name": "ipython",
    "version": 3
   },
   "file_extension": ".py",
   "mimetype": "text/x-python",
   "name": "python",
   "nbconvert_exporter": "python",
   "pygments_lexer": "ipython3",
   "version": "3.6.0"
  }
 },
 "nbformat": 4,
 "nbformat_minor": 2
}
