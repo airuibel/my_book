{
 "cells": [
  {
   "cell_type": "markdown",
   "metadata": {},
   "source": [
    "## 1. 多线程Threding和多进程Multiprocessing"
   ]
  },
  {
   "cell_type": "markdown",
   "metadata": {},
   "source": [
    "### 顺序执行单线程与同时执行两个并发线程"
   ]
  },
  {
   "cell_type": "code",
   "execution_count": 1,
   "metadata": {},
   "outputs": [
    {
     "name": "stdout",
     "output_type": "stream",
     "text": [
      "Total time: 34.5584599972\n"
     ]
    }
   ],
   "source": [
    "from threading import Thread\n",
    "import time\n",
    "\n",
    "def my_counter():\n",
    "    i = 0\n",
    "    for _ in range(100000000):\n",
    "        i = i + 1\n",
    "    return True\n",
    "\n",
    "def main():\n",
    "    thread_array = {}\n",
    "    start_time = time.time()\n",
    "    for tid in range(2):\n",
    "        t = Thread(target=my_counter)\n",
    "        t.start()\n",
    "        t.join()\n",
    "    end_time = time.time()\n",
    "    print(\"Total time: {}\".format(end_time - start_time))\n",
    "\n",
    "if __name__ == '__main__':\n",
    "    main()"
   ]
  },
  {
   "cell_type": "code",
   "execution_count": 2,
   "metadata": {},
   "outputs": [
    {
     "name": "stdout",
     "output_type": "stream",
     "text": [
      "Total time: 45.1772201061\n"
     ]
    }
   ],
   "source": [
    "from threading import Thread\n",
    "import time\n",
    "\n",
    "def my_counter():\n",
    "    i = 0\n",
    "    for _ in range(100000000):\n",
    "        i = i + 1\n",
    "    return True\n",
    "\n",
    "def main():\n",
    "    thread_array = {}\n",
    "    start_time = time.time()\n",
    "    for tid in range(2):\n",
    "        t = Thread(target=my_counter)\n",
    "        t.start()\n",
    "        thread_array[tid] = t\n",
    "    for i in range(2):\n",
    "        thread_array[i].join()\n",
    "    end_time = time.time()\n",
    "    print(\"Total time: {}\".format(end_time - start_time))\n",
    "\n",
    "if __name__ == '__main__':\n",
    "    main()"
   ]
  },
  {
   "cell_type": "markdown",
   "metadata": {},
   "source": [
    "### 多进程multiprocessing"
   ]
  },
  {
   "cell_type": "code",
   "execution_count": 3,
   "metadata": {},
   "outputs": [
    {
     "name": "stdout",
     "output_type": "stream",
     "text": [
      "0\n",
      "1\n",
      "4\n",
      "9\n",
      "16\n",
      "25\n",
      "36\n",
      "49\n",
      "64\n",
      "81\n"
     ]
    }
   ],
   "source": [
    "from multiprocessing import Process\n",
    "import time\n",
    " \n",
    "def f(n):\n",
    "    time.sleep(1)\n",
    "    print n*n\n",
    "\n",
    "if __name__=='__main__':\n",
    "    for i in range(10):\n",
    "        p = Process(target=f,args=[i,])\n",
    "        p.start()"
   ]
  },
  {
   "cell_type": "markdown",
   "metadata": {},
   "source": [
    "### 进程间通信Queue"
   ]
  },
  {
   "cell_type": "code",
   "execution_count": 4,
   "metadata": {},
   "outputs": [
    {
     "name": "stdout",
     "output_type": "stream",
     "text": [
      "Put A to queue\n",
      "get A from queue\n",
      "Put B to queue\n",
      "get B from queue\n",
      "Put C to queue\n",
      "get C from queue\n",
      "Put D to queue\n",
      "get D from queue\n",
      "Put E to queue\n",
      "get E from queue\n"
     ]
    }
   ],
   "source": [
    "from multiprocessing import Process, Queue\n",
    "import time\n",
    " \n",
    "def write(q):\n",
    "    for i in ['A','B','C','D','E']:\n",
    "        print('Put %s to queue' % i)\n",
    "        q.put(i)\n",
    "        time.sleep(0.5)\n",
    " \n",
    "def read(q):\n",
    "    while True:\n",
    "        v = q.get(True)\n",
    "        print('get %s from queue' %v)\n",
    "        if(v == 'E'): break;\n",
    " \n",
    "if __name__ == '__main__':\n",
    "    q = Queue()\n",
    "    pw = Process(target=write,args=(q,))\n",
    "    pr = Process(target=read,args=(q,))\n",
    "    pw.start()\n",
    "    pr.start()\n",
    "    pr.join()\n",
    "    pr.terminate()"
   ]
  },
  {
   "cell_type": "markdown",
   "metadata": {},
   "source": [
    "### 进程池Pool"
   ]
  },
  {
   "cell_type": "code",
   "execution_count": null,
   "metadata": {},
   "outputs": [
    {
     "name": "stdout",
     "output_type": "stream",
     "text": [
      "-------: 0\n",
      "-------: 1\n",
      "-------: 2\n",
      "-------: 3\n",
      "-------: 4\n",
      "-------: 5\n",
      "-------: 6\n",
      "-------: 7\n",
      "-------: 8\n",
      "-------: 9\n"
     ]
    }
   ],
   "source": [
    "from multiprocessing import Pool\n",
    "import time\n",
    " \n",
    "def f(x):\n",
    "    print(x*x)\n",
    "    time.sleep(2)\n",
    "    return x*x\n",
    "if __name__ == '__main__':\n",
    "    '''定义启动的进程数量'''\n",
    "    pool = Pool(processes=5)\n",
    "    res_list = []\n",
    "\n",
    "    for i in range(10):\n",
    "        '''以异步并行的方式启动进程，如果要同步等待的方式，可以在每次启动进程之后调用res.get()方法，也可以使用Pool.apply'''\n",
    "        res = pool.apply_async(f,[i,]) \n",
    "        print('-------:',i)\n",
    "        res_list.append(res)\n",
    "    pool.close()\n",
    "    pool.join()\n",
    "    for r in res_list:\n",
    "        print( \"result\",(r.get(timeout=5)))"
   ]
  },
  {
   "cell_type": "markdown",
   "metadata": {},
   "source": [
    "### 多进程与多线程对比"
   ]
  },
  {
   "cell_type": "code",
   "execution_count": 6,
   "metadata": {},
   "outputs": [
    {
     "name": "stdout",
     "output_type": "stream",
     "text": [
      "[0]\n",
      "\n",
      "[1]\n",
      "\n",
      "[2]\n",
      "\n",
      "[3]\n",
      "\n",
      "[4]\n",
      "\n",
      "[5]\n",
      "\n",
      "[6]\n",
      "\n",
      "[7]\n",
      "\n",
      "[8]\n",
      "\n",
      "[9]\n",
      "\n",
      "------------threading--------------\n",
      "[0]\n",
      "\n",
      "[0, 1]\n",
      "\n",
      "[0, 1, 2]\n",
      "\n",
      "[0, 1, 2, 3]\n",
      "\n",
      "[0, 1, 2, 3, 4]\n",
      "\n",
      "[0, 1, 2, 3, 4, 5]\n",
      "\n",
      "[0, 1, 2, 3, 4, 5, 6]\n",
      "\n",
      "[0, 1, 2, 3, 4, 5, 6, 7]\n",
      "\n",
      "[0, 1, 2, 3, 4, 5, 6, 7, 8]\n",
      "\n",
      "[0, 1, 2, 3, 4, 5, 6, 7, 8, 9]\n",
      "\n"
     ]
    }
   ],
   "source": [
    "from multiprocessing import Process\n",
    "import threading\n",
    "import time\n",
    "lock = threading.Lock()\n",
    " \n",
    "def run(info_list,n):\n",
    "    lock.acquire()\n",
    "    info_list.append(n)\n",
    "    lock.release()\n",
    "    print('%s\\n' % info_list)\n",
    "    \n",
    "if __name__=='__main__':\n",
    "    info = []\n",
    "    for i in range(10):\n",
    "        #target为子进程执行的函数，args为需要给函数传递的参数 \n",
    "        p = Process(target=run,args=[info,i])\n",
    "        p.start()\n",
    "        p.join()\n",
    "    time.sleep(1) #这里是为了输出整齐让主进程的执行等一下子进程\n",
    "    print('------------threading--------------')\n",
    "    for i in range(10):\n",
    "        p = threading.Thread(target=run,args=[info,i])\n",
    "        p.start()\n",
    "        p.join()"
   ]
  },
  {
   "cell_type": "markdown",
   "metadata": {},
   "source": [
    "## 2. 函数式编程 & （lambda、map、filter、reduce）& pyspark"
   ]
  },
  {
   "cell_type": "code",
   "execution_count": 7,
   "metadata": {},
   "outputs": [
    {
     "name": "stdout",
     "output_type": "stream",
     "text": [
      "7\n",
      "10\n"
     ]
    }
   ],
   "source": [
    "def inc(x):\n",
    "    def incx(y):\n",
    "        return x+y\n",
    "    return incx\n",
    " \n",
    "inc2 = inc(2)\n",
    "inc5 = inc(5)\n",
    " \n",
    "print inc2(5) # 输出 7\n",
    "print inc5(5) # 输出 10"
   ]
  },
  {
   "cell_type": "code",
   "execution_count": 8,
   "metadata": {},
   "outputs": [
    {
     "name": "stdout",
     "output_type": "stream",
     "text": [
      "6\n",
      "8\n"
     ]
    }
   ],
   "source": [
    "g = lambda x: x * 2\n",
    "print g(3)\n",
    "print (lambda x: x * 2)(4)"
   ]
  },
  {
   "cell_type": "code",
   "execution_count": 9,
   "metadata": {},
   "outputs": [
    {
     "name": "stdout",
     "output_type": "stream",
     "text": [
      "2\n",
      "3\n",
      "4\n"
     ]
    }
   ],
   "source": [
    "for n in [\"qi\", \"yue\", \"July\"]:\n",
    "    print len(n)"
   ]
  },
  {
   "cell_type": "code",
   "execution_count": 10,
   "metadata": {},
   "outputs": [
    {
     "name": "stdout",
     "output_type": "stream",
     "text": [
      "[2, 3, 4]\n"
     ]
    }
   ],
   "source": [
    "name_len = map(len, [\"qi\", \"yue\", \"July\"])\n",
    "print name_len"
   ]
  },
  {
   "cell_type": "code",
   "execution_count": 11,
   "metadata": {},
   "outputs": [
    {
     "name": "stdout",
     "output_type": "stream",
     "text": [
      "['QI', 'YUE', 'JULY']\n"
     ]
    }
   ],
   "source": [
    "def toUpper(item):\n",
    "      return item.upper()\n",
    " \n",
    "upper_name = map(toUpper, [\"qi\", \"yue\", \"July\"])\n",
    "print upper_name"
   ]
  },
  {
   "cell_type": "code",
   "execution_count": 12,
   "metadata": {},
   "outputs": [
    {
     "name": "stdout",
     "output_type": "stream",
     "text": [
      "[1, 4, 9, 16, 25]\n"
     ]
    }
   ],
   "source": [
    "items = [1, 2, 3, 4, 5]\n",
    "squared = []\n",
    "for i in items:\n",
    "    squared.append(i**2)\n",
    "print squared"
   ]
  },
  {
   "cell_type": "code",
   "execution_count": 13,
   "metadata": {},
   "outputs": [
    {
     "name": "stdout",
     "output_type": "stream",
     "text": [
      "[1, 4, 9, 16, 25]\n"
     ]
    }
   ],
   "source": [
    "items = [1, 2, 3, 4, 5]\n",
    "squared = list(map(lambda x: x**2, items))\n",
    "print squared"
   ]
  },
  {
   "cell_type": "code",
   "execution_count": 14,
   "metadata": {},
   "outputs": [
    {
     "name": "stdout",
     "output_type": "stream",
     "text": [
      "[-5, -4, -3, -2, -1]\n"
     ]
    }
   ],
   "source": [
    "number_list = range(-5, 5)\n",
    "less_than_zero = list(filter(lambda x: x < 0, number_list))\n",
    "print(less_than_zero)"
   ]
  },
  {
   "cell_type": "code",
   "execution_count": 15,
   "metadata": {},
   "outputs": [
    {
     "name": "stdout",
     "output_type": "stream",
     "text": [
      "10\n",
      "20\n"
     ]
    }
   ],
   "source": [
    "def add(x,y): return x + y\n",
    "print reduce(add, range(1, 5))\n",
    "print reduce(add, range(1, 5), 10)"
   ]
  },
  {
   "cell_type": "markdown",
   "metadata": {},
   "source": [
    "### 例：计算数组中的平均数"
   ]
  },
  {
   "cell_type": "code",
   "execution_count": 16,
   "metadata": {},
   "outputs": [
    {
     "name": "stdout",
     "output_type": "stream",
     "text": [
      "5\n"
     ]
    }
   ],
   "source": [
    "# 正常写法：\n",
    "num =[2, -5, 9, 7, -2, 5, 3, 1, 0, -3, 8]\n",
    "positive_num_cnt = 0\n",
    "positive_num_sum = 0\n",
    "for i in range(len(num)):\n",
    "    if num[i] > 0:\n",
    "        positive_num_cnt += 1\n",
    "        positive_num_sum += num[i]\n",
    " \n",
    "if positive_num_cnt > 0:\n",
    "    average = positive_num_sum / positive_num_cnt\n",
    " \n",
    "print average\n",
    "# 输出 5"
   ]
  },
  {
   "cell_type": "code",
   "execution_count": 17,
   "metadata": {},
   "outputs": [
    {
     "name": "stdout",
     "output_type": "stream",
     "text": [
      "5\n"
     ]
    }
   ],
   "source": [
    "# 函数式写法：\n",
    "num =[2, -5, 9, 7, -2, 5, 3, 1, 0, -3, 8]\n",
    "positive_num = filter(lambda x: x>0, num)\n",
    "average = reduce(lambda x,y: x+y, positive_num) / len( positive_num )\n",
    "print average"
   ]
  },
  {
   "cell_type": "markdown",
   "metadata": {},
   "source": [
    "## pyspark"
   ]
  },
  {
   "cell_type": "code",
   "execution_count": 18,
   "metadata": {},
   "outputs": [],
   "source": [
    "import sys\n",
    "from operator import add\n",
    "from pyspark import SparkContext\n",
    "sc = SparkContext()"
   ]
  },
  {
   "cell_type": "code",
   "execution_count": 19,
   "metadata": {},
   "outputs": [
    {
     "name": "stdout",
     "output_type": "stream",
     "text": [
      "Tyrion: 36\n",
      "Jon: 26\n",
      "Sansa: 26\n",
      "Robb: 25\n",
      "Jaime: 24\n",
      "Tywin: 22\n",
      "Cersei: 20\n",
      "Arya: 19\n",
      "Robert: 18\n",
      "Joffrey: 18\n"
     ]
    }
   ],
   "source": [
    "lines = sc.textFile(\"stormofswords.csv\")\n",
    "counts = lines.flatMap(lambda x: x.split(',')) \\\n",
    "              .map(lambda x: (x, 1)) \\\n",
    "              .reduceByKey(add)\n",
    "output = counts.collect()\n",
    "output = filter(lambda x:not x[0].isnumeric(), sorted(output, key=lambda x:x[1], reverse = True))\n",
    "for (word, count) in output[:10]:\n",
    "    print \"%s: %i\" % (word, count)\n",
    "\n",
    "sc.stop()"
   ]
  },
  {
   "cell_type": "markdown",
   "metadata": {},
   "source": [
    "## 3.正则表达式"
   ]
  },
  {
   "cell_type": "code",
   "execution_count": 20,
   "metadata": {},
   "outputs": [
    {
     "name": "stdout",
     "output_type": "stream",
     "text": [
      "dog\n",
      "None\n",
      "cat\n",
      "['dog', 'dog']\n"
     ]
    }
   ],
   "source": [
    "import re\n",
    "m = re.match(r'dog', 'dog cat dog')\n",
    "print m.group()\n",
    "print re.match(r'cat', 'dog cat dog')\n",
    "s = re.search(r'cat', 'dog cat dog')\n",
    "print s.group()\n",
    "print re.findall(r'dog', 'dog cat dog')"
   ]
  },
  {
   "cell_type": "code",
   "execution_count": 21,
   "metadata": {},
   "outputs": [
    {
     "name": "stdout",
     "output_type": "stream",
     "text": [
      "Doe\n",
      "John\n",
      "555-1212\n",
      "Doe, John: 555-1212\n"
     ]
    }
   ],
   "source": [
    "# group()分组\n",
    "contactInfo = 'Doe, John: 555-1212'\n",
    "m = re.search(r'(\\w+), (\\w+): (\\S+)', contactInfo)\n",
    "print m.group(1)\n",
    "print m.group(2)\n",
    "print m.group(3)\n",
    "print m.group(0)"
   ]
  },
  {
   "cell_type": "code",
   "execution_count": 22,
   "metadata": {},
   "outputs": [
    {
     "name": "stdout",
     "output_type": "stream",
     "text": [
      "b@google\n"
     ]
    }
   ],
   "source": [
    "# email example\n",
    "str = 'purple alice-b@google.com monkey dishwasher'\n",
    "match = re.search(r'\\w+@\\w+', str)\n",
    "if match:\n",
    "    print match.group()  ## 'b@google',因为\\w不能匹配到地址中的'-'和'.'"
   ]
  },
  {
   "cell_type": "code",
   "execution_count": 23,
   "metadata": {},
   "outputs": [
    {
     "name": "stdout",
     "output_type": "stream",
     "text": [
      "alice-b@google.com\n"
     ]
    }
   ],
   "source": [
    "match = re.search(r'[\\w.-]+@[\\w.-]+', str)\n",
    "if match:\n",
    "    print match.group()  ## 'alice-b@google.com'"
   ]
  },
  {
   "cell_type": "markdown",
   "metadata": {},
   "source": [
    "## 4.时间和日期"
   ]
  },
  {
   "cell_type": "code",
   "execution_count": 24,
   "metadata": {},
   "outputs": [
    {
     "name": "stdout",
     "output_type": "stream",
     "text": [
      "1479487832.06\n",
      "time.struct_time(tm_year=2016, tm_mon=11, tm_mday=19, tm_hour=0, tm_min=50, tm_sec=32, tm_wday=5, tm_yday=324, tm_isdst=0)\n",
      "Tick!\n",
      "Tick!\n",
      "Tick!\n"
     ]
    }
   ],
   "source": [
    "import time\n",
    "print time.time()\n",
    "print time.localtime()\n",
    "for i in range(3):\n",
    "    time.sleep(0.5)\n",
    "    print \"Tick!\""
   ]
  },
  {
   "cell_type": "code",
   "execution_count": 25,
   "metadata": {},
   "outputs": [
    {
     "name": "stdout",
     "output_type": "stream",
     "text": [
      "today is:  2016-11-19\n",
      "now is:  2016-11-19 00:50:38.551905\n",
      "2016-06-04\n",
      "14:00:00\n"
     ]
    }
   ],
   "source": [
    "import datetime\n",
    "print \"today is: \", datetime.date.today()\n",
    "print \"now is: \", datetime.datetime.now()\n",
    "print datetime.date(2016,6,4)\n",
    "print datetime.time(14,00)"
   ]
  },
  {
   "cell_type": "code",
   "execution_count": 26,
   "metadata": {},
   "outputs": [
    {
     "name": "stdout",
     "output_type": "stream",
     "text": [
      "2016-11-18 2016-11-19 2016-11-20\n"
     ]
    }
   ],
   "source": [
    "# 计算昨天和明天的日期\n",
    "import datetime\n",
    "today = datetime.date.today()\n",
    "yesterday = today - datetime.timedelta(days=1)\n",
    "tomorrow = today + datetime.timedelta(days=1)\n",
    "print yesterday,today,tomorrow"
   ]
  },
  {
   "cell_type": "markdown",
   "metadata": {},
   "source": [
    "## 5.常用模块"
   ]
  },
  {
   "cell_type": "markdown",
   "metadata": {},
   "source": [
    "### enumerate函数"
   ]
  },
  {
   "cell_type": "code",
   "execution_count": 27,
   "metadata": {},
   "outputs": [
    {
     "name": "stdout",
     "output_type": "stream",
     "text": [
      "0 1\n",
      "1 2\n",
      "2 3\n"
     ]
    }
   ],
   "source": [
    "# 对一个列表或数组既要遍历索引又要遍历元素时\n",
    "l = [1,2,3]\n",
    "for i in range (len(l)): \n",
    "    print i ,l[i]"
   ]
  },
  {
   "cell_type": "code",
   "execution_count": 28,
   "metadata": {},
   "outputs": [
    {
     "name": "stdout",
     "output_type": "stream",
     "text": [
      "0 1\n",
      "1 2\n",
      "2 3\n"
     ]
    }
   ],
   "source": [
    "# enumerate会将数组或列表组成一个索引序列。使我们再获取索引和索引内容的时候更加方便如下：\n",
    "for index,text in enumerate(l): \n",
    "   print index ,text"
   ]
  },
  {
   "cell_type": "markdown",
   "metadata": {},
   "source": [
    "### 集合collections模块"
   ]
  },
  {
   "cell_type": "code",
   "execution_count": 29,
   "metadata": {},
   "outputs": [
    {
     "name": "stdout",
     "output_type": "stream",
     "text": [
      "1\n",
      "2\n"
     ]
    }
   ],
   "source": [
    "from collections import namedtuple\n",
    "Point = namedtuple('Point', ['x', 'y'])\n",
    "p = Point(1, 2)\n",
    "print p.x\n",
    "print p.y"
   ]
  },
  {
   "cell_type": "code",
   "execution_count": 30,
   "metadata": {},
   "outputs": [
    {
     "name": "stdout",
     "output_type": "stream",
     "text": [
      "deque(['y', 'a', 'b', 'c', 'x'])\n"
     ]
    }
   ],
   "source": [
    "from collections import deque\n",
    "q = deque(['a', 'b', 'c'])\n",
    "q.append('x')\n",
    "q.appendleft('y')\n",
    "print q"
   ]
  },
  {
   "cell_type": "code",
   "execution_count": 31,
   "metadata": {},
   "outputs": [
    {
     "name": "stdout",
     "output_type": "stream",
     "text": [
      "abc\n",
      "N/A\n"
     ]
    }
   ],
   "source": [
    "from collections import defaultdict\n",
    "dd = defaultdict(lambda: 'N/A')\n",
    "dd['key1'] = 'abc'\n",
    "print dd['key1'] # key1存在\n",
    "print dd['key2'] # key2不存在，返回默认值"
   ]
  },
  {
   "cell_type": "code",
   "execution_count": 32,
   "metadata": {},
   "outputs": [
    {
     "name": "stdout",
     "output_type": "stream",
     "text": [
      "{'a': 1, 'c': 3, 'b': 2}\n",
      "OrderedDict([('a', 1), ('b', 2), ('c', 3)])\n"
     ]
    }
   ],
   "source": [
    "from collections import OrderedDict\n",
    "d = dict([('a', 1), ('b', 2), ('c', 3)])\n",
    "print d # dict的Key是无序的，{'a': 1, 'c': 3, 'b': 2}\n",
    "od = OrderedDict([('a', 1), ('b', 2), ('c', 3)])\n",
    "print od # OrderedDict的Key是有序的，OrderedDict([('a', 1), ('b', 2), ('c', 3)])"
   ]
  },
  {
   "cell_type": "code",
   "execution_count": 33,
   "metadata": {},
   "outputs": [
    {
     "name": "stdout",
     "output_type": "stream",
     "text": [
      "Counter({'g': 2, 'm': 2, 'r': 2, 'a': 1, 'i': 1, 'o': 1, 'n': 1, 'p': 1})\n"
     ]
    }
   ],
   "source": [
    "from collections import Counter\n",
    "c = Counter()\n",
    "for ch in 'programming':\n",
    "    c[ch] = c[ch] + 1\n",
    "print c #Counter({'g': 2, 'm': 2, 'r': 2, 'a': 1, 'i': 1, 'o': 1, 'n': 1, 'p': 1})"
   ]
  },
  {
   "cell_type": "markdown",
   "metadata": {},
   "source": [
    "### 迭代器itertools模块"
   ]
  },
  {
   "cell_type": "code",
   "execution_count": 34,
   "metadata": {},
   "outputs": [
    {
     "name": "stdout",
     "output_type": "stream",
     "text": [
      "(1, 'a')\n",
      "(2, 'b')\n",
      "(3, 'c')\n"
     ]
    }
   ],
   "source": [
    "import itertools\n",
    "for i in itertools.izip(itertools.count(1), ['a', 'b', 'c']):\n",
    "    print i"
   ]
  }
 ],
 "metadata": {
  "anaconda-cloud": {},
  "kernelspec": {
   "display_name": "Python 3",
   "language": "python",
   "name": "python3"
  },
  "language_info": {
   "codemirror_mode": {
    "name": "ipython",
    "version": 3
   },
   "file_extension": ".py",
   "mimetype": "text/x-python",
   "name": "python",
   "nbconvert_exporter": "python",
   "pygments_lexer": "ipython3",
   "version": "3.6.0"
  }
 },
 "nbformat": 4,
 "nbformat_minor": 1
}
