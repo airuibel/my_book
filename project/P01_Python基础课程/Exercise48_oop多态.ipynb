{
 "cells": [
  {
   "cell_type": "code",
   "execution_count": null,
   "metadata": {},
   "outputs": [],
   "source": [
    "# 面向对象的第三大特性  多态\n",
    "# 不同的子类对象调用相同的父类方法，产生不同的执行结果\n",
    "# 多态可以增加代码的灵活度\n",
    "# 以继承和重写父类方法为前提\n",
    "# 是调用方法技巧，不会影响到类的内部设计\n",
    "# 多态就是同一个对象在不同情况下有不同的状态出现\n",
    "# 多态不是语法，是一种设计思想\n",
    "# 多态性： 一种调用方式，不同的执行结果\n",
    "# 多态： 同一事物的多种形态，动物分为人类 猪 狗"
   ]
  },
  {
   "cell_type": "code",
   "execution_count": 2,
   "metadata": {},
   "outputs": [
    {
     "name": "stdout",
     "output_type": "stream",
     "text": [
      "dasd4sad55a\n",
      "<class 'str'>\n"
     ]
    }
   ],
   "source": [
    "a = \"dasd4sad55a\"\n",
    "b = a[:]\n",
    "print(b)\n",
    "print(type(b))"
   ]
  },
  {
   "cell_type": "code",
   "execution_count": 29,
   "metadata": {},
   "outputs": [
    {
     "name": "stdout",
     "output_type": "stream",
     "text": [
      "小明和飞天旺财快乐的玩耍...\n",
      "飞天旺财飞到天上去玩耍...\n"
     ]
    }
   ],
   "source": [
    "class Dog():\n",
    "    def __init__(self,name):\n",
    "        self.name = name\n",
    "    def game(self):\n",
    "        print(\"%s蹦蹦跳跳的玩耍...\"%(self.name))\n",
    "        \n",
    "class XiaoTianQuan(Dog):\n",
    "    def game(self):\n",
    "        print(\"%s飞到天上去玩耍...\"%self.name)\n",
    "        \n",
    "class Person():\n",
    "    def __init__(self,name):\n",
    "        self.name = name\n",
    "        \n",
    "    def game_with_dog(self,dog):\n",
    "        print(\"%s和%s快乐的玩耍...\"%(self.name,dog.name))\n",
    "        dog.game()\n",
    "              \n",
    "# 创建一个狗对象\n",
    "#wangcai = Dog(\"旺财\")\n",
    "wangcai = XiaoTianQuan(\"飞天旺财\")\n",
    "# 创建一个小明对象\n",
    "xiaoming = Person(\"小明\")\n",
    "# 让小明和狗玩的方法\n",
    "xiaoming.game_with_dog(wangcai)"
   ]
  },
  {
   "cell_type": "code",
   "execution_count": 37,
   "metadata": {},
   "outputs": [
    {
     "name": "stdout",
     "output_type": "stream",
     "text": [
      "---汪汪---大黄\n",
      "---喵喵---小花\n",
      "---shout---猴子\n"
     ]
    }
   ],
   "source": [
    "class Animal():\n",
    "    def __init__(self,name):\n",
    "        self.name = name\n",
    "    def shout(self):\n",
    "        print(\"---shout---%s\"%self.name)\n",
    "class Dog(Animal):\n",
    "    def shout(self):\n",
    "        print(\"---汪汪---%s\"%self.name)\n",
    "        \n",
    "class Cat(Animal):\n",
    "    def shout(self):\n",
    "        print(\"---喵喵---%s\"%self.name)\n",
    "        \n",
    "def func_(temp):\n",
    "    temp.shout()\n",
    "dog = Dog(\"大黄\")\n",
    "cat = Cat(\"小花\")\n",
    "monkey = Animal(\"猴子\")\n",
    "func_(dog)\n",
    "func_(cat)\n",
    "func_(monkey)"
   ]
  },
  {
   "cell_type": "markdown",
   "metadata": {},
   "source": [
    "## 实例\n",
    " * 使用面对对象开发,第一步是设计类\n",
    " * 使用类名()创建对象,创建对象的动作有两部:\n",
    "   - 在内存中为对象分配空间\n",
    "   - 调用初始化方法__init__为对象初始化\n",
    " * 对象创建后，内存中就有了一个对象实实在在的存在--实例\n",
    " \n",
    "### 因此通常会把：\n",
    "     *  创建出来的对象叫做类的实例\n",
    "     *  创建出来的动作叫做实例化\n",
    "     *  对象的属性叫做实例属性\n",
    "     *  对象调用的方法叫做实例方法\n",
    " \n",
    "### 类是一个特殊的对象\n",
    "\n",
    "## Python 中一切皆对象\n",
    "     * 定义的类属于类对象\n",
    "     * 类创建的对象属于实例对象\n",
    "  - 程序运行时，类同样会被加载到内存\n",
    "  - 在Python中，类时一个特殊的对象\n",
    "  - 在程序运行时，类对象在内存中只有一份\n",
    "  - 使用一个类可以创建很多对象实例\n",
    "  - 除了封装实例的属性和方法外，类对象还可以拥有自己的       属性和方法"
   ]
  },
  {
   "cell_type": "code",
   "execution_count": 31,
   "metadata": {},
   "outputs": [
    {
     "name": "stdout",
     "output_type": "stream",
     "text": [
      "3\n"
     ]
    }
   ],
   "source": [
    "# 列属性就是给类对象中定义的属性\n",
    "# 通常来记录与这个类相关的特性\n",
    "# 类属性不会用于记录具体对象的特征\n",
    "class Tool():\n",
    "    # 使用赋值语句定义类属性\n",
    "    count = 0\n",
    "    def __init__(self,name):\n",
    "        self.name = name\n",
    "        # 让类属性的值 + 1\n",
    "        Tool.count += 1\n",
    "# 创建工具对象        \n",
    "tool1 = Tool(\"斧头\")\n",
    "tool2 = Tool(\"榔头\")\n",
    "tool3 = Tool(\"水桶\")\n",
    "# 输出工具对象总数\n",
    "print(Tool.count)"
   ]
  },
  {
   "cell_type": "code",
   "execution_count": 39,
   "metadata": {},
   "outputs": [
    {
     "name": "stdout",
     "output_type": "stream",
     "text": [
      "工具对象总数是3\n"
     ]
    }
   ],
   "source": [
    "# 属性的获取机制\n",
    "# 在Python中 属性的获取存在一个向上查找的机制\n",
    "# 因此，要访问类的属性有两种方式\n",
    "# 类名.类属性\n",
    "# 对象.类属性（不推荐）\n",
    "\n",
    "# 如果使用对象.属性=值 赋值语句，只会给对象增添一个属性，而不会\n",
    "# 影响到类属性的值\n",
    "\n",
    "class Tool():\n",
    "    # 使用赋值语句定义类属性\n",
    "    count = 0\n",
    "    def __init__(self,name):\n",
    "        self.name = name\n",
    "        Tool.count += 1\n",
    "        \n",
    "tool1 = Tool(\"斧头\")\n",
    "tool2 = Tool(\"榔头\")\n",
    "tool3 = Tool(\"水桶\")\n",
    "print(\"工具对象总数是%d\"%tool1.count)"
   ]
  },
  {
   "cell_type": "code",
   "execution_count": 42,
   "metadata": {},
   "outputs": [
    {
     "name": "stdout",
     "output_type": "stream",
     "text": [
      "工具对象总数是99\n",
      "===> 3\n"
     ]
    }
   ],
   "source": [
    "class Tool():\n",
    "    # 使用赋值语句定义类属性\n",
    "    count = 0\n",
    "    def __init__(self,name):\n",
    "        self.name = name\n",
    "        Tool.count += 1\n",
    "        \n",
    "tool1 = Tool(\"斧头\")\n",
    "tool2 = Tool(\"榔头\")\n",
    "tool3 = Tool(\"水桶\")\n",
    "tool3.count = 99\n",
    "print(\"工具对象总数是%d\"%tool3.count)\n",
    "print(\"===> %d\"%Tool.count)"
   ]
  },
  {
   "cell_type": "markdown",
   "metadata": {},
   "source": [
    "##  类方法和静态方法\n",
    "    *  @classmethod\n",
    "    *  def 类方法名（cls):\n",
    "    *      pass\n",
    "    \n",
    " - 由哪一个类调用的方法，方法内就是哪一个类的引用\n",
    " - 这个参数和实例方法的参数self类似\n",
    " - 提示使用其他名称也可以，不过习惯使用cls\n",
    "  * 通过类名.调用类方法。调用方法时，不需要传递cls参数\n",
    "### 在方法内部\n",
    "\n",
    "- 可以通过cls.访问类属性\n",
    "- 也可以通过cls.调用其他类方法\n",
    "\n",
    "## 静态方法\n",
    "- 在开发时，如果需要在类中封装一个方法，这个方法：\n",
    "     * 既不需要访问实例属性或者调用实例方法\n",
    "     * 也不需要访问类属性或者调用类方法\n",
    "  - 这个时候，就可以吧方法封装成一个静态方法  \n",
    "\n",
    "     *  @staticmethod\n",
    "     *  def 静态方法名（）：\n",
    "     *  pass\n",
    "        \n",
    "* 静态方法需要用修饰器@staticmethod来标识，告诉解释     * 器这是一个静态方法\n",
    "* 通过类名.调用静态方法\n",
    "\n"
   ]
  },
  {
   "cell_type": "code",
   "execution_count": 45,
   "metadata": {},
   "outputs": [
    {
     "name": "stdout",
     "output_type": "stream",
     "text": [
      "工具对象的数量为 3\n"
     ]
    }
   ],
   "source": [
    "class Tool():\n",
    "    # 使用赋值语句定义类属性\n",
    "    count = 0\n",
    "    @classmethod\n",
    "    def show_tool_count(cls):\n",
    "        print(\"工具对象的数量为 %s\"%cls.count)\n",
    "    def __init__(self,name):\n",
    "        self.name = name\n",
    "        # 让类属性的值 + 1\n",
    "        Tool.count += 1\n",
    "# 创建工具对象        \n",
    "tool1 = Tool(\"斧头\")\n",
    "# 调用类方法\n",
    "tool2 = Tool(\"榔头\")\n",
    "tool3 = Tool(\"水桶\")\n",
    "# 输出工具对象总数\n",
    "Tool.show_tool_count()\n",
    "#print(Tool.count)"
   ]
  },
  {
   "cell_type": "code",
   "execution_count": 46,
   "metadata": {},
   "outputs": [
    {
     "name": "stdout",
     "output_type": "stream",
     "text": [
      "小狗快跑...\n"
     ]
    }
   ],
   "source": [
    "class Dog():\n",
    "    @staticmethod\n",
    "    def run():\n",
    "        print(\"小狗快跑...\")\n",
    "        \n",
    "Dog.run()"
   ]
  },
  {
   "cell_type": "code",
   "execution_count": 55,
   "metadata": {},
   "outputs": [
    {
     "name": "stdout",
     "output_type": "stream",
     "text": [
      "这是帮助信息\n",
      "历史最高分为0\n",
      "小明开始游戏啦\n"
     ]
    }
   ],
   "source": [
    "class Game():\n",
    "    top_score = 0\n",
    "    def __init__(self,player_name):\n",
    "        self.player_name = player_name\n",
    "    @staticmethod\n",
    "    def show_help():\n",
    "        print(\"这是帮助信息\")\n",
    "    @classmethod\n",
    "    def show_top_score(cls):\n",
    "        print(\"历史最高分为%d\"%cls.top_score)\n",
    "    def start_game(self):\n",
    "        print(\"%s开始游戏啦\"%self.player_name)\n",
    "# 查看游戏帮助信息       \n",
    "Game.show_help()\n",
    "# 查看历史最高分\n",
    "Game.show_top_score()    \n",
    "# 创建游戏对象\n",
    "game = Game(\"小明\")\n",
    "# 开始游戏\n",
    "game.start_game()"
   ]
  },
  {
   "cell_type": "markdown",
   "metadata": {},
   "source": [
    "## 小结\n",
    "* 实例方法--方法内部需要访问实例属性\n",
    " - 实例方法内部可以使用类名。访问类属性\n",
    "* 类方法-- 方法内部只需要访问类属性\n",
    "* 静态方法--方法内部，不需要访问实例属性和类属性\n",
    "**如果方法内部需要访问实例属性，又要访问类属性，应该定**义成什么方法\n",
    "* 应该定义成实例方法\n",
    "* 因为，类只有有一个，在实例方法内部可以使用类名。访问   类属性"
   ]
  },
  {
   "cell_type": "code",
   "execution_count": null,
   "metadata": {},
   "outputs": [],
   "source": [
    "# 单列\n",
    "# __new__方法\n",
    "# 单例设计模式\n",
    "# 设计模式是前人工作的总结和提炼，通常，被人们广泛流传的\n",
    "# 设计模式都是针对某一特定问题的成熟的解决方案\n",
    "# 使用设计模式是为了可重用 代码。让代码更容易被他人理解\n",
    "# 保证代码可靠性\n",
    "# 单实例设计模式\n",
    "# 目的 --类创建的对象，在系统中只有唯一的一个实例\n",
    "# 每次执行 类名返回的对象，内存地址是相同的\n",
    "\n",
    "# 单例设计模式的应用场景\n",
    "#     音乐播放对象\n",
    "#     回收站对象\n",
    "#     打印机对象\n"
   ]
  },
  {
   "cell_type": "code",
   "execution_count": null,
   "metadata": {},
   "outputs": [],
   "source": [
    "# __new__方法\n",
    "# 使用类名创建对象时，python的解释器首先会调用__new__方法为对象\n",
    "# 分配空间\n",
    "# __new__时有object基类提供的内置静态方法，主要作用有两个\n",
    "# 1.在内存中为对象分配空间\n",
    "# 2.返回对象引用\n",
    "# Python的解释器获得对象的引用后，将作为第一个参数，传递给__init__方法\n",
    "\n",
    "# 重写__new__方法的代码非常固定\n",
    "\n",
    "# 重写__new__方法一定要return super().__new__(cls)\n",
    "# 否则Python的解释器得不到分配空间的对象引用，就会调用对象的\n",
    "# 初始化方法\n",
    "\n",
    "# 注意：__new__是一个静态方法，在调用时需要主动传递cls参数"
   ]
  },
  {
   "cell_type": "code",
   "execution_count": 63,
   "metadata": {},
   "outputs": [
    {
     "name": "stdout",
     "output_type": "stream",
     "text": [
      "创建对象，分配空间\n",
      "播放器初始化\n",
      "<__main__.MusicPlayer object at 0x0000024911A611D0>\n"
     ]
    }
   ],
   "source": [
    "class MusicPlayer():\n",
    "    def __new__(cls,*args,**kwargs):\n",
    "        # 创建对象时，new方法会被自动调用\n",
    "        print(\"创建对象，分配空间\")\n",
    "        # 为对象分配空间\n",
    "        instance = super().__new__(cls)\n",
    "        # 返回对象的引用\n",
    "        return instance\n",
    "    def __init__(self):\n",
    "        print(\"播放器初始化\")\n",
    "        \n",
    "player = MusicPlayer()\n",
    "print(player)"
   ]
  },
  {
   "cell_type": "code",
   "execution_count": 1,
   "metadata": {},
   "outputs": [
    {
     "name": "stdout",
     "output_type": "stream",
     "text": [
      "<__main__.MusicPlayer object at 0x000002028A126630>\n",
      "<__main__.MusicPlayer object at 0x000002028A126630>\n"
     ]
    }
   ],
   "source": [
    "# 单例--让类创建的对象，在系统中只有唯一的一个实例\n",
    "# 1. 定义一个类方法属性，初始值是None,用于记录单例对象的引用\n",
    "# 2.重写__new__方法\n",
    "# 3. 如果类属性 is None ，调用父类方法分配空间，并在类属性中记录结果\n",
    "# 4. 返回类属性中记录的对象引用\n",
    "class MusicPlayer():\n",
    "    #记录第一个被创建对象的引用\n",
    "    instance = None\n",
    "\n",
    "    def __new__(cls,*args,**kwargs):\n",
    "        # 判断类属性是否为空对象\n",
    "        if cls.instance is None:\n",
    "        # 调用父类的方法，为第一个对象分配空间\n",
    "            cls.instance = super().__new__(cls)\n",
    "        instance = super().__new__(cls)\n",
    "        # 返回对象的引用\n",
    "        return cls.instance\n",
    "        \n",
    "player1 = MusicPlayer()\n",
    "player2 = MusicPlayer()\n",
    "print(player1)\n",
    "print(player2)\n"
   ]
  },
  {
   "cell_type": "code",
   "execution_count": 4,
   "metadata": {},
   "outputs": [
    {
     "name": "stdout",
     "output_type": "stream",
     "text": [
      "初始化播放器\n",
      "<__main__.MusicPlayer object at 0x000002028A1687B8>\n",
      "<__main__.MusicPlayer object at 0x000002028A1687B8>\n"
     ]
    }
   ],
   "source": [
    "# __new__\n",
    "# __init__\n",
    "# 如何让初始化动作只被执行一次\n",
    "class MusicPlayer():\n",
    "    #记录第一个被创建对象的引用\n",
    "    instance = None\n",
    "    #记录是否执行过初始化动作\n",
    "    init_flag = False    \n",
    "    def __new__(cls,*args,**kwargs):\n",
    "        # 判断类属性是否为空对象\n",
    "        if cls.instance is None:\n",
    "        # 调用父类的方法，为第一个对象分配空间\n",
    "            cls.instance = super().__new__(cls)\n",
    "        instance = super().__new__(cls)\n",
    "        # 返回对象的引用\n",
    "        return cls.instance\n",
    "    def __init__(self):\n",
    "        if MusicPlayer.init_flag:\n",
    "            return\n",
    "        print(\"初始化播放器\")\n",
    "        MusicPlayer.init_flag = True\n",
    "player1 = MusicPlayer()\n",
    "player2 = MusicPlayer()\n",
    "print(player1)\n",
    "print(player2)"
   ]
  },
  {
   "cell_type": "code",
   "execution_count": null,
   "metadata": {},
   "outputs": [],
   "source": []
  }
 ],
 "metadata": {
  "kernelspec": {
   "display_name": "Python 3",
   "language": "python",
   "name": "python3"
  },
  "language_info": {
   "codemirror_mode": {
    "name": "ipython",
    "version": 3
   },
   "file_extension": ".py",
   "mimetype": "text/x-python",
   "name": "python",
   "nbconvert_exporter": "python",
   "pygments_lexer": "ipython3",
   "version": "3.6.0"
  }
 },
 "nbformat": 4,
 "nbformat_minor": 2
}
