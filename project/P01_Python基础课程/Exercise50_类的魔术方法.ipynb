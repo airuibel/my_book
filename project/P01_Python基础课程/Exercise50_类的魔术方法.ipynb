{
 "cells": [
  {
   "cell_type": "markdown",
   "metadata": {},
   "source": [
    "#### 类中常用的魔术方法\n",
    "https://www.cnblogs.com/styier/p/6111370.html"
   ]
  },
  {
   "cell_type": "code",
   "execution_count": 25,
   "metadata": {},
   "outputs": [
    {
     "name": "stdout",
     "output_type": "stream",
     "text": [
      "50\n"
     ]
    }
   ],
   "source": [
    "class Person():\n",
    "    '''\n",
    "    这是个说明\n",
    "    '''\n",
    "    def fget(self):\n",
    "        return \"%d\"%self._age\n",
    "    def fset(self,age):\n",
    "        self._age = age // 1\n",
    "    def fdel(self):\n",
    "        self._age = \"NoneAge\"\n",
    "    age = property(fget,fset,fdel,\"对Age进行下下操作\")\n",
    "person = Person()\n",
    "person.age = 50\n",
    "print(person.age)"
   ]
  },
  {
   "cell_type": "code",
   "execution_count": 29,
   "metadata": {},
   "outputs": [
    {
     "name": "stdout",
     "output_type": "stream",
     "text": [
      "Person\n"
     ]
    }
   ],
   "source": [
    "#print(Person.__dict__)\n",
    "#print(Person.__doc__)\n",
    "#print(Person.__bases__)\n",
    "print(Person.__name__)"
   ]
  },
  {
   "cell_type": "code",
   "execution_count": 38,
   "metadata": {},
   "outputs": [
    {
     "name": "stdout",
     "output_type": "stream",
     "text": [
      "don't have the attribute  nam\n",
      "False\n",
      "fdf\n"
     ]
    }
   ],
   "source": [
    "# __getattr__ 定义当用户试图访问一个不存在属性的时候的行为\n",
    "\n",
    "# __setattr__ 定义当一个属性被设置的时候的行为\n",
    "\n",
    "# __getattribute__ 定义当一个属性被访问的时候的行为\n",
    "\n",
    "class Person(object):\n",
    "    def __init__(self, name, age):\n",
    "        self.name = name\n",
    "        self.age = age\n",
    "        self._registry = {\n",
    "            'name': name,\n",
    "            'age': age\n",
    "        }\n",
    " \n",
    "    def __getattr__(self, item):\n",
    "        print(\"don't have the attribute \",item)\n",
    "        return False\n",
    " \n",
    "    def __setattr__(self, key, value):\n",
    "        self.__dict__[key] = value\n",
    " \n",
    "    def __getattribute__(self, item):\n",
    "        #注意此处不要用 self.__dict__[item]\n",
    "        #因为self.__dict__依然会被__getattribute__拦截 这样就会陷入循环\n",
    "        return object.__getattribute__(self,item)\n",
    " \n",
    "a = Person('p1', 20)\n",
    "print(a.nam)        #这里会打印 don't have the attribute hh 以及 False\n",
    "a.hh = 'fdf'        #这里设置该属性值为'fdf'\n",
    "print(a.hh)           #这里将打印出 fdf"
   ]
  },
  {
   "cell_type": "code",
   "execution_count": 39,
   "metadata": {},
   "outputs": [
    {
     "name": "stdout",
     "output_type": "stream",
     "text": [
      "10\n"
     ]
    }
   ],
   "source": [
    "# __delattr__ 定义当一个属性被删除的时候的行为\n",
    "\n",
    "# __get__  定义当描述符的值被取得的时候的行为\n",
    "\n",
    "# __set__ 定义当描述符的值被设置的时候的行为\n",
    "\n",
    "# __delete__ 定义当描述符的值被删除的时候的行为\n",
    "class Descriptor(object):\n",
    "    def __init__(self):\n",
    "        self.des = None\n",
    " \n",
    "    def __get__(self, instance, owner):\n",
    "        return instance.__dict__.get(self.des,None)\n",
    " \n",
    "    def __set__(self, instance, value):\n",
    "        instance.__dict__[self.des] = value\n",
    " \n",
    " \n",
    "class Person(object):\n",
    "    des = Descriptor() #这里的Descriptor就是一个描述符类\n",
    " \n",
    "    def __init__(self, name, age):\n",
    "        self.name = name\n",
    "        self.age = age\n",
    "        self._registry = {\n",
    "            'name': name,\n",
    "            'age': age\n",
    "        }\n",
    " \n",
    " \n",
    "a = Person('p1', 20)\n",
    "a.des = 10    #这里会调用Descriptor的__set__方法\n",
    "print(a.des)   #这里会调用Descriptor的__get__方法"
   ]
  },
  {
   "cell_type": "code",
   "execution_count": 56,
   "metadata": {},
   "outputs": [
    {
     "name": "stdout",
     "output_type": "stream",
     "text": [
      "True\n"
     ]
    }
   ],
   "source": [
    "s = '~AB'\n",
    "c = 'B'\n",
    "print(s > c)"
   ]
  }
 ],
 "metadata": {
  "kernelspec": {
   "display_name": "Python 3",
   "language": "python",
   "name": "python3"
  },
  "language_info": {
   "codemirror_mode": {
    "name": "ipython",
    "version": 3
   },
   "file_extension": ".py",
   "mimetype": "text/x-python",
   "name": "python",
   "nbconvert_exporter": "python",
   "pygments_lexer": "ipython3",
   "version": "3.6.0"
  }
 },
 "nbformat": 4,
 "nbformat_minor": 2
}
