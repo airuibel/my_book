{
 "cells": [
  {
   "cell_type": "code",
   "execution_count": 2,
   "metadata": {},
   "outputs": [
    {
     "name": "stdout",
     "output_type": "stream",
     "text": [
      "王小平\n",
      "Jawths\n",
      "刘谦\n"
     ]
    }
   ],
   "source": [
    "# 8-9  魔术师：创建一个包含魔术师名字的列表，并将其传递给一个名为\n",
    "# show_magicians() 的函数，这个函数打印列表中每个魔术师的名字。\n",
    "def show_magicians(a_list):\n",
    "    for i in a_list:\n",
    "        print(i)\n",
    "        \n",
    "moshushi_list = [\"王小平\",\"Jawths\",\"刘谦\"]\n",
    "show_magicians(moshushi_list)"
   ]
  },
  {
   "cell_type": "code",
   "execution_count": 11,
   "metadata": {},
   "outputs": [
    {
     "name": "stdout",
     "output_type": "stream",
     "text": [
      "['the great王小平', 'the greatJawths', 'the great刘谦']\n",
      "the great王小平\n",
      "the greatJawths\n",
      "the great刘谦\n"
     ]
    }
   ],
   "source": [
    "# 8-10  了不起的魔术师：在你为完成练习 8-9 而编写的程序中，编写一个名为\n",
    "# make_great() 的函数，对魔术师列表进行修改，在每个魔术师的名字中都加入字样“the\n",
    "# Great”。调用函数 show_magicians() ，确认魔术师列表确实变了。\n",
    "moshushi_list = [\"王小平\",\"Jawths\",\"刘谦\"]\n",
    "# show_magicians(moshushi_list)\n",
    "\n",
    "\n",
    "def make_great(a_list):\n",
    "    for i in range(len(a_list)):\n",
    "        a_list[i] = \"the great\" + a_list[i]\n",
    "    print(a_list)\n",
    "\n",
    "def show_magicians(a_list):\n",
    "\n",
    "    for i in a_list:\n",
    "        print(i)    \n",
    "\n",
    "make_great(moshushi_list)\n",
    "show_magicians(moshushi_list)"
   ]
  },
  {
   "cell_type": "code",
   "execution_count": 15,
   "metadata": {},
   "outputs": [
    {
     "name": "stdout",
     "output_type": "stream",
     "text": [
      "the great王小平\n",
      "the greatJawths\n",
      "the great刘谦\n",
      "王小平\n",
      "Jawths\n",
      "刘谦\n"
     ]
    }
   ],
   "source": [
    "# 8-11  不变的魔术师：修改你为完成练习 8-10 而编写的程序，在调用函数\n",
    "# make_great() 时，向它传递魔术师列表的副本。由于不想修改原始列表，请返回修改后\n",
    "# 的列表，并将其存储到另一个列表中。分别使用这两个列表来调用 show_magicians() ，\n",
    "# 确认一个列表包含的是原来的魔术师名字，而另一个列表包含的是添加了字样“the\n",
    "# Great”的魔术师名字。\n",
    "moshushi_list = [\"王小平\",\"Jawths\",\"刘谦\"]\n",
    "# show_magicians(moshushi_list)\n",
    "\n",
    "def make_great(a_list):\n",
    "    moshushi1_list = []\n",
    "    for i in a_list:\n",
    "        i = \"the great\" + i \n",
    "        moshushi1_list.append(i)\n",
    "\n",
    "def show_magicians(a_list):\n",
    "\n",
    "    for i in a_list:\n",
    "        print(i)    \n",
    "\n",
    "make_great(moshushi_list)\n",
    "show_magicians(moshushi1_list)\n",
    "show_magicians(moshushi_list)"
   ]
  },
  {
   "cell_type": "code",
   "execution_count": 24,
   "metadata": {},
   "outputs": [
    {
     "name": "stdout",
     "output_type": "stream",
     "text": [
      "你的三明治是由以下食材做的 ('鸡蛋', '面粉', '白糖', '奶油')\n"
     ]
    }
   ],
   "source": [
    "# 8-12  三明治：编写一个函数，它接受顾客要在三明治中添加的一系列食材。这个\n",
    "# 函数只有一个形参（它收集函数调用中提供的所有食材），并打印一条消息，对顾客点\n",
    "# 的三明治进行概述。调用这个函数三次，每次都提供不同数量的实参。\n",
    "def sanwage(*materials):\n",
    "    print(\"你的三明治是由以下食材做的\",materials)\n",
    "sanwage(\"鸡蛋\",\"面粉\",\"白糖\",\"奶油\")\n",
    "       "
   ]
  },
  {
   "cell_type": "code",
   "execution_count": 36,
   "metadata": {},
   "outputs": [
    {
     "name": "stdout",
     "output_type": "stream",
     "text": [
      "{'first_name': '我爱', 'last_name': '图灵学院', 'work': '数据分析专家', 'hobit': '打篮球', 'lober': '小薇'}\n"
     ]
    }
   ],
   "source": [
    "# 8-13  用户简介：复制前面的程序 user_profile.py ，在其中调用 build_profile() 来\n",
    "# 创建有关你的简介；调用这个函数时，指定你的名和姓，以及三个描述你的键值对。\n",
    "def build_profile(first, last, **user_info):\n",
    "    \"\"\"创建一个字典，其中包含我们知道的有关用户的一切\"\"\"\n",
    "    profile = {}\n",
    "    profile['first_name'] = first\n",
    "    profile['last_name'] = last\n",
    "    for key, value in user_info.items():\n",
    "        profile[key] = value\n",
    "    return profile\n",
    "user_profile = build_profile('我爱', '图灵学院',\n",
    "                             work = \"数据分析专家\",\n",
    "                             hobit = \"打篮球\",\n",
    "                             lober = \"小薇\")\n",
    "print(user_profile)"
   ]
  },
  {
   "cell_type": "code",
   "execution_count": 39,
   "metadata": {},
   "outputs": [
    {
     "name": "stdout",
     "output_type": "stream",
     "text": [
      "{'made by': 'Ford', 'type is': 'SUV', 'color': 'yellow', 'engine': 'four', 'maxspeed': '195km/h'}\n"
     ]
    }
   ],
   "source": [
    "# 8-14  汽车：编写一个函数，将一辆汽车的信息存储在一个字典中。这个函数总是接\n",
    "# 受制造商和型号，还接受任意数量的关键字实参。这样调用这个函数：提供必不可少的\n",
    "# 信息，以及两个名称 — 值对，如颜色和选装配件。这个函数必须能够像下面这样进行调用：\n",
    "def make_car(made_by,types,**details):\n",
    "    detail_list = {}\n",
    "    detail_list[\"made by\"] = made_by\n",
    "    detail_list[\"type is\"] = types\n",
    "    for key, value in details.items():\n",
    "        detail_list[key] = value\n",
    "    return detail_list\n",
    "car = make_car(\"Ford\",\"SUV\",color = \"yellow\",\n",
    "              engine = \"four\", maxspeed = \"195km/h\")\n",
    "print(car)"
   ]
  }
 ],
 "metadata": {
  "kernelspec": {
   "display_name": "Python 3",
   "language": "python",
   "name": "python3"
  },
  "language_info": {
   "codemirror_mode": {
    "name": "ipython",
    "version": 3
   },
   "file_extension": ".py",
   "mimetype": "text/x-python",
   "name": "python",
   "nbconvert_exporter": "python",
   "pygments_lexer": "ipython3",
   "version": "3.6.0"
  }
 },
 "nbformat": 4,
 "nbformat_minor": 2
}
