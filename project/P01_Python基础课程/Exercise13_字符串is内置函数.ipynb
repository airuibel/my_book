{
 "cells": [
  {
   "cell_type": "code",
   "execution_count": 2,
   "metadata": {},
   "outputs": [
    {
     "name": "stdout",
     "output_type": "stream",
     "text": [
      "1666103792\n",
      "10\n",
      "2\n",
      "1666103792\n"
     ]
    }
   ],
   "source": [
    "def ChangeInt( a ):\n",
    "    a = 10\n",
    "    print(a)\n",
    " \n",
    "b = 2\n",
    "print(id(b))\n",
    "ChangeInt(b)\n",
    "print( b ) # 结果是 2\n",
    "print(id(b))"
   ]
  },
  {
   "cell_type": "code",
   "execution_count": 5,
   "metadata": {},
   "outputs": [
    {
     "name": "stdout",
     "output_type": "stream",
     "text": [
      "输出: \n",
      "10\n",
      "====================\n",
      "输出: \n",
      "70\n",
      "====================\n",
      "60\n",
      "50\n"
     ]
    }
   ],
   "source": [
    "# 可写函数说明\n",
    "def printinfo( arg1, *vartuple ):\n",
    "    \"打印任何传入的参数\"\n",
    "    print (\"输出: \")\n",
    "    print (arg1)\n",
    "    print(\"=\" * 20)\n",
    "    for var in vartuple:\n",
    "        print (var)\n",
    "    return\n",
    " \n",
    "# 调用printinfo 函数\n",
    "printinfo( 10 )\n",
    "printinfo( 70, 60, 50 )"
   ]
  },
  {
   "cell_type": "code",
   "execution_count": 26,
   "metadata": {},
   "outputs": [
    {
     "name": "stdout",
     "output_type": "stream",
     "text": [
      "True\n"
     ]
    }
   ],
   "source": [
    "str1 = \"kwn+8 ROem fm\"\n",
    "print(str1.upper())\n",
    "print(str1.title())\n",
    "print(str1.capitalize())\n",
    "print(str1.lower())\n",
    "print(str1.swapcase())\n",
    "print(len(str1))\n",
    "print(max(str1)\n",
    "\n"
   ]
  },
  {
   "cell_type": "code",
   "execution_count": 31,
   "metadata": {},
   "outputs": [
    {
     "name": "stdout",
     "output_type": "stream",
     "text": [
      "-1\n",
      "True\n",
      "11\n",
      "False\n",
      "False\n",
      "False\n",
      "False\n",
      "False\n"
     ]
    }
   ],
   "source": [
    "str1 = \"kwn+8 ROem fm\"\n",
    "print(str1.find(\"4O\"))\n",
    "print(str1.startswith(\"k\"))\n",
    "print(str1.index(\"fm\"))\n",
    "print(str1.isupper())\n",
    "print(str1.islower())\n",
    "print(str1.istitle())\n",
    "print(str1.isspace())\n",
    "print(str1.isalnum())"
   ]
  },
  {
   "cell_type": "code",
   "execution_count": null,
   "metadata": {},
   "outputs": [],
   "source": [
    "str1 = \"kwn+8 ROem fm\"\n",
    "print(str1.isupper())\n",
    "print(str1.islower())\n",
    "print(str1.istitle())\n",
    "print(str1.isspace())\n",
    "print(str1.isalnum()\n"
   ]
  },
  {
   "cell_type": "code",
   "execution_count": 41,
   "metadata": {},
   "outputs": [
    {
     "name": "stdout",
     "output_type": "stream",
     "text": [
      "True\n",
      "False\n",
      "False\n"
     ]
    }
   ],
   "source": [
    "s = '壹'\n",
    "print(s.isnumeric())\n",
    "print(s.isdecimal())\n",
    "print(s.isdigit())"
   ]
  },
  {
   "cell_type": "code",
   "execution_count": null,
   "metadata": {},
   "outputs": [],
   "source": []
  }
 ],
 "metadata": {
  "kernelspec": {
   "display_name": "Python 3",
   "language": "python",
   "name": "python3"
  },
  "language_info": {
   "codemirror_mode": {
    "name": "ipython",
    "version": 3
   },
   "file_extension": ".py",
   "mimetype": "text/x-python",
   "name": "python",
   "nbconvert_exporter": "python",
   "pygments_lexer": "ipython3",
   "version": "3.6.0"
  }
 },
 "nbformat": 4,
 "nbformat_minor": 2
}
