{
 "cells": [
  {
   "cell_type": "code",
   "execution_count": 16,
   "metadata": {},
   "outputs": [
    {
     "name": "stdout",
     "output_type": "stream",
     "text": [
      "π的值为3.142\n"
     ]
    }
   ],
   "source": [
    "# 格式限定符\n",
    "# 限制小数点后多少位\n",
    "import math\n",
    "#a = math.pi()\n",
    "print(\"π的值为{:.3f}\".format(math.pi))"
   ]
  },
  {
   "cell_type": "code",
   "execution_count": 51,
   "metadata": {},
   "outputs": [
    {
     "name": "stdout",
     "output_type": "stream",
     "text": [
      "007\n",
      "015\n"
     ]
    }
   ],
   "source": [
    "# 限定整数位数\n",
    "a = 7\n",
    "b = 15\n",
    "print(\"{:03d}\".format(a))\n",
    "print(\"{:03d}\".format(b))"
   ]
  },
  {
   "cell_type": "code",
   "execution_count": 44,
   "metadata": {},
   "outputs": [
    {
     "name": "stdout",
     "output_type": "stream",
     "text": [
      "5转化化为二进制为101\n",
      "5转化为八进制为5\n",
      "5转化为十六进制为5\n",
      "5转化为二进制为5\n"
     ]
    }
   ],
   "source": [
    "# 格式化进制\n",
    "a = 5\n",
    "print(\"{}转化化为二进制为{:b}\".format(a, a))\n",
    "print(\"{}转化为八进制为{:o}\".format(a, a))\n",
    "print(\"{}转化为十六进制为{:x}\".format(a, a))\n",
    "print(\"{}转化为二进制为{:d}\".format(a, a))"
   ]
  },
  {
   "cell_type": "markdown",
   "metadata": {},
   "source": [
    "### 格式化字符\n",
    "    -  %s  通过str()字符串转换来格式化\n",
    "    -  %i  有符号十进制整数\n",
    "    -  %d  有符号十进制整数，输出整数显示位数\n",
    "    -  %o  八进制整数\n",
    "    -  %x  十六进制整数\n",
    "    -  %X  十六进制整数\n",
    "    -  %e  索引符号(小写\"e\")\n",
    "    -  %E  索引符号(大写\"E\")\n",
    "    -  %f  浮点实数\n",
    "    -  %g  %f和%e的简写\n",
    "    -  %G  %f和%E的简写\n"
   ]
  },
  {
   "cell_type": "code",
   "execution_count": 52,
   "metadata": {},
   "outputs": [
    {
     "name": "stdout",
     "output_type": "stream",
     "text": [
      "π的值为3.142\n"
     ]
    }
   ],
   "source": [
    "#小数格式化制定位数\n",
    "import math\n",
    "print(\"π的值为%.3f\"%(math.pi))"
   ]
  },
  {
   "cell_type": "code",
   "execution_count": 53,
   "metadata": {},
   "outputs": [
    {
     "name": "stdout",
     "output_type": "stream",
     "text": [
      "今天3D开奖号为005\n"
     ]
    }
   ],
   "source": [
    "# 整数格式化制定位数\n",
    "a = 5\n",
    "print(\"今天3D开奖号为%.3d\"%a)"
   ]
  },
  {
   "cell_type": "code",
   "execution_count": 56,
   "metadata": {},
   "outputs": [
    {
     "name": "stdout",
     "output_type": "stream",
     "text": [
      "64转化化为八进制为100\n",
      "64转化化为十六进制为40\n",
      "64转化化为十进制为64\n"
     ]
    }
   ],
   "source": [
    "# 格式进制\n",
    "a = 64\n",
    "print(\"%s转化化为八进制为%o\"%(a, a))\n",
    "print(\"%s转化化为十六进制为%x\"%(a, a))\n",
    "print(\"%s转化化为十进制为%d\"%(a, a))"
   ]
  },
  {
   "cell_type": "code",
   "execution_count": 59,
   "metadata": {},
   "outputs": [
    {
     "name": "stdout",
     "output_type": "stream",
     "text": [
      "1200.0\n",
      "2.65e-08\n"
     ]
    }
   ],
   "source": [
    "# 科学计数法\n",
    "#python科学计数法能表示的范围 -1.8 ** 308 - 1.8 ** 308\n",
    "print(1.2e3)\n",
    "\n",
    "# 将数字转换为科学技术法\n",
    "\n",
    "a = 0.0000000265\n",
    "print(\"%.2e\"%a)"
   ]
  },
  {
   "cell_type": "code",
   "execution_count": 64,
   "metadata": {},
   "outputs": [
    {
     "name": "stdout",
     "output_type": "stream",
     "text": [
      "我的身高是175cm,体重是60kg,175cm是今天测得\n"
     ]
    }
   ],
   "source": [
    "# format格式化字符串\n",
    "# 非关键字参数\n",
    "str1 = \"我的身高是{0},体重是{1},{0}是今天测得\"\n",
    "res = str1.format(\"175cm\",\"60kg\")\n",
    "print(res)"
   ]
  },
  {
   "cell_type": "code",
   "execution_count": 66,
   "metadata": {},
   "outputs": [
    {
     "name": "stdout",
     "output_type": "stream",
     "text": [
      "我的身高是175cm,体重是60kg,175cm是今天测得\n"
     ]
    }
   ],
   "source": [
    "#关键字参数\n",
    "str1 = \"我的身高是{height},体重是{weight},{height}是今天测得\"\n",
    "res = str1.format(height = \"175cm\",weight = \"60kg\")\n",
    "print(res)"
   ]
  },
  {
   "cell_type": "code",
   "execution_count": 71,
   "metadata": {},
   "outputs": [
    {
     "name": "stdout",
     "output_type": "stream",
     "text": [
      "我的身高是175cm,体重是60kg\n"
     ]
    }
   ],
   "source": [
    "# 通过下标\n",
    "str1 = \"我的身高是{0[0]},体重是{0[1]}\"\n",
    "# format函数里面传入的是可迭代对象，例如列表元组，字典\n",
    "res = str1.format([\"175cm\",\"60kg\"])\n",
    "print(res)"
   ]
  },
  {
   "cell_type": "code",
   "execution_count": 72,
   "metadata": {},
   "outputs": [
    {
     "name": "stdout",
     "output_type": "stream",
     "text": [
      "我的身高是175cm,体重是60kg\n"
     ]
    }
   ],
   "source": [
    "# format 函数里传入字典\n",
    "str1 = \"我的身高是{0[h]},体重是{0[w]}\"\n",
    "res = str1.format({\"h\":\"175cm\",\"w\":\"60kg\"})\n",
    "print(res)"
   ]
  }
 ],
 "metadata": {
  "kernelspec": {
   "display_name": "Python 3",
   "language": "python",
   "name": "python3"
  },
  "language_info": {
   "codemirror_mode": {
    "name": "ipython",
    "version": 3
   },
   "file_extension": ".py",
   "mimetype": "text/x-python",
   "name": "python",
   "nbconvert_exporter": "python",
   "pygments_lexer": "ipython3",
   "version": "3.6.0"
  }
 },
 "nbformat": 4,
 "nbformat_minor": 2
}
