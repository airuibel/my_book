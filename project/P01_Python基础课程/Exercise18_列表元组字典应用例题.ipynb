{
 "cells": [
  {
   "cell_type": "code",
   "execution_count": null,
   "metadata": {},
   "outputs": [],
   "source": [
    "# 这是一个判断学生成绩是否达标的程序，要求输入学生数量，以及各个学生物理\n",
    "# 数学、历史三科的成绩，如果总成绩小于 120，程序打印 “failed”，\n",
    "# 否则打印 “passed”。\n",
    "n = int(input(\"Enter the number of students: \"))\n",
    "data = {} # 用来存储数据的字典变量\n",
    "Subjects = ('Physics', 'Maths', 'History') # 所有科目\n",
    "for i in range(0, n):\n",
    "    name = input('Enter the name of the student {}: '.format(i + 1)) # 获得学生名称\n",
    "    marks = []\n",
    "    for x in Subjects:\n",
    "        marks.append(int(input('Enter marks of {}: '.format(x)))) # 获得每一科的分数\n",
    "    data[name] = marks\n",
    "for x, y in data.items():\n",
    "    total =  sum(y)\n",
    "    print(\"{}'s total marks {}\".format(x, total))\n",
    "    if total < 120:\n",
    "        print(x, \"failed :(\")\n",
    "    else:\n",
    "        print(x, \"passed :)\")"
   ]
  }
 ],
 "metadata": {
  "kernelspec": {
   "display_name": "Python 3",
   "language": "python",
   "name": "python3"
  },
  "language_info": {
   "codemirror_mode": {
    "name": "ipython",
    "version": 3
   },
   "file_extension": ".py",
   "mimetype": "text/x-python",
   "name": "python",
   "nbconvert_exporter": "python",
   "pygments_lexer": "ipython3",
   "version": "3.6.0"
  }
 },
 "nbformat": 4,
 "nbformat_minor": 2
}
