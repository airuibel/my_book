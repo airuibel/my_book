{
 "cells": [
  {
   "cell_type": "code",
   "execution_count": 3,
   "metadata": {},
   "outputs": [
    {
     "name": "stdout",
     "output_type": "stream",
     "text": [
      "299.609375\n",
      "0.09765625\n"
     ]
    }
   ],
   "source": [
    "#  题目：一球从 100 米高度自由落下，每次落地后反跳回原高度的一半；再落下，求它在\n",
    "#  第 10 次落地时，共经过多少米？第 10 次反弹多高？\n",
    "l = 100\n",
    "a = l\n",
    "for i in range(9):\n",
    "    a = a / 2\n",
    "    l += a * 2\n",
    "print(l)\n",
    "print(a / 2)\n",
    "    "
   ]
  },
  {
   "cell_type": "code",
   "execution_count": 14,
   "metadata": {},
   "outputs": [
    {
     "name": "stdout",
     "output_type": "stream",
     "text": [
      "   *   \n",
      "  ***  \n",
      " ***** \n",
      "*******\n",
      " ***** \n",
      "  ***  \n",
      "   *   \n"
     ]
    }
   ],
   "source": [
    "# 题目：打印出如下图案（菱形）\n",
    "\n",
    "for i in range(7):\n",
    "    if i in [0, 6]:\n",
    "        for j in range(7):\n",
    "            if j == 3:\n",
    "                print(\"*\", end = '')\n",
    "            else:\n",
    "                print(\" \", end = '')\n",
    "        print()\n",
    "    elif i in [1, 5]:\n",
    "        for j in range(7):\n",
    "            if j in [2, 3, 4]:\n",
    "                print(\"*\", end = '')\n",
    "            else:\n",
    "                print(\" \", end = '')\n",
    "        print()\n",
    "    elif i in [2, 4]:\n",
    "        for j in range(7):\n",
    "            if j in [1, 2, 3, 4, 5]:\n",
    "                print(\"*\", end = '')\n",
    "            else:\n",
    "                print(\" \", end = '')\n",
    "        print()\n",
    "    else:\n",
    "        for j in range(7):\n",
    "            if j in [0, 1, 2, 3, 4, 5, 6]:\n",
    "                print(\"*\", end = '')\n",
    "            else:\n",
    "                print(\" \", end = '')\n",
    "        print()"
   ]
  },
  {
   "cell_type": "code",
   "execution_count": 13,
   "metadata": {},
   "outputs": [
    {
     "name": "stdout",
     "output_type": "stream",
     "text": [
      "   *\n",
      "  ***\n",
      " *****\n",
      "*******\n",
      " *****\n",
      "  ***\n",
      "   *\n"
     ]
    }
   ],
   "source": [
    "from sys import stdout\n",
    "for i in range(4):\n",
    "    for j in range(2 - i + 1):\n",
    "        stdout.write(' ')\n",
    "    for k in range(2 * i + 1):\n",
    "        stdout.write('*')\n",
    "    print()\n",
    "for i in range(3):\n",
    "    for j in range(i + 1):\n",
    "        stdout.write(' ')\n",
    "    for k in range(4 - 2 * i + 1):\n",
    "        stdout.write('*')\n",
    "    print()"
   ]
  }
 ],
 "metadata": {
  "kernelspec": {
   "display_name": "Python 3",
   "language": "python",
   "name": "python3"
  },
  "language_info": {
   "codemirror_mode": {
    "name": "ipython",
    "version": 3
   },
   "file_extension": ".py",
   "mimetype": "text/x-python",
   "name": "python",
   "nbconvert_exporter": "python",
   "pygments_lexer": "ipython3",
   "version": "3.6.0"
  }
 },
 "nbformat": 4,
 "nbformat_minor": 2
}
