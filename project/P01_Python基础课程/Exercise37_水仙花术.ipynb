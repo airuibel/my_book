{
 "cells": [
  {
   "cell_type": "code",
   "execution_count": 10,
   "metadata": {},
   "outputs": [
    {
     "name": "stdout",
     "output_type": "stream",
     "text": [
      "[153, 370, 371, 407, 1000, 1001]\n"
     ]
    }
   ],
   "source": [
    "#  题目：打印出所有的“水仙花数” ，所谓“水仙花数”是指一个三位数，其各位数字#题目：打印出所有的“水仙花数” ，\n",
    "#  所谓“水仙花数”是指一个三位数，其各位数字立方和等于该数本身。\n",
    "#  例如： 153 是一个“水仙花数” ，因为 153=1 的三次方＋5 的三次方 ＋3 的三次方。\n",
    "num_list = []\n",
    "i = 100\n",
    "while i < 1000000:\n",
    "    j = i // 100\n",
    "    k = i // 10 % 10\n",
    "    m = i % 10\n",
    "    if i == j ** 3 + k ** 3 + m ** 3:\n",
    "        num_list.append(i)\n",
    "    i += 1\n",
    "print(num_list)\n"
   ]
  }
 ],
 "metadata": {
  "kernelspec": {
   "display_name": "Python 3",
   "language": "python",
   "name": "python3"
  },
  "language_info": {
   "codemirror_mode": {
    "name": "ipython",
    "version": 3
   },
   "file_extension": ".py",
   "mimetype": "text/x-python",
   "name": "python",
   "nbconvert_exporter": "python",
   "pygments_lexer": "ipython3",
   "version": "3.6.0"
  }
 },
 "nbformat": 4,
 "nbformat_minor": 2
}
