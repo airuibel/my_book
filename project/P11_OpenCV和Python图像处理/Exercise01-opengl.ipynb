{
 "cells": [
  {
   "cell_type": "code",
   "execution_count": 19,
   "metadata": {},
   "outputs": [
    {
     "ename": "NullFunctionError",
     "evalue": "Attempt to call an undefined function glutInitDisplayMode, check for bool(glutInitDisplayMode) before calling",
     "output_type": "error",
     "traceback": [
      "\u001b[1;31m---------------------------------------------------------------------------\u001b[0m",
      "\u001b[1;31mNullFunctionError\u001b[0m                         Traceback (most recent call last)",
      "\u001b[1;32m<ipython-input-19-71b9cae2b91d>\u001b[0m in \u001b[0;36m<module>\u001b[1;34m\u001b[0m\n\u001b[0;32m     11\u001b[0m     \u001b[0mglFlush\u001b[0m\u001b[1;33m(\u001b[0m\u001b[1;33m)\u001b[0m\u001b[1;33m\u001b[0m\u001b[1;33m\u001b[0m\u001b[0m\n\u001b[0;32m     12\u001b[0m \u001b[0mglutInit\u001b[0m\u001b[1;33m(\u001b[0m\u001b[1;33m)\u001b[0m\u001b[1;33m\u001b[0m\u001b[1;33m\u001b[0m\u001b[0m\n\u001b[1;32m---> 13\u001b[1;33m \u001b[0mglutInitDisplayMode\u001b[0m\u001b[1;33m(\u001b[0m\u001b[0mGLUT_SINGLE\u001b[0m \u001b[1;33m|\u001b[0m \u001b[0mGLUT_RGBA\u001b[0m\u001b[1;33m)\u001b[0m\u001b[1;33m\u001b[0m\u001b[1;33m\u001b[0m\u001b[0m\n\u001b[0m\u001b[0;32m     14\u001b[0m \u001b[1;31m#窗口位置及大小-生成\u001b[0m\u001b[1;33m\u001b[0m\u001b[1;33m\u001b[0m\u001b[1;33m\u001b[0m\u001b[0m\n\u001b[0;32m     15\u001b[0m \u001b[0mglutInitWindowPosition\u001b[0m\u001b[1;33m(\u001b[0m\u001b[1;36m0\u001b[0m\u001b[1;33m,\u001b[0m\u001b[1;36m0\u001b[0m\u001b[1;33m)\u001b[0m\u001b[1;33m\u001b[0m\u001b[1;33m\u001b[0m\u001b[0m\n",
      "\u001b[1;32m~\\Anaconda3\\lib\\site-packages\\OpenGL\\platform\\baseplatform.py\u001b[0m in \u001b[0;36m__call__\u001b[1;34m(self, *args, **named)\u001b[0m\n\u001b[0;32m    405\u001b[0m             raise error.NullFunctionError(\n\u001b[0;32m    406\u001b[0m                 \"\"\"Attempt to call an undefined function %s, check for bool(%s) before calling\"\"\"%(\n\u001b[1;32m--> 407\u001b[1;33m                     \u001b[0mself\u001b[0m\u001b[1;33m.\u001b[0m\u001b[0m__name__\u001b[0m\u001b[1;33m,\u001b[0m \u001b[0mself\u001b[0m\u001b[1;33m.\u001b[0m\u001b[0m__name__\u001b[0m\u001b[1;33m,\u001b[0m\u001b[1;33m\u001b[0m\u001b[1;33m\u001b[0m\u001b[0m\n\u001b[0m\u001b[0;32m    408\u001b[0m                 )\n\u001b[0;32m    409\u001b[0m             )\n",
      "\u001b[1;31mNullFunctionError\u001b[0m: Attempt to call an undefined function glutInitDisplayMode, check for bool(glutInitDisplayMode) before calling"
     ]
    }
   ],
   "source": [
    "from OpenGL.GL import *\n",
    "from OpenGL.GLU import *\n",
    "from OpenGL.GLUT import *\n",
    "def drawFunc():\n",
    "#清楚之前画面\n",
    "    glClear(GL_COLOR_BUFFER_BIT)\n",
    "    glRotatef(0.1, 0,5,0)\n",
    "#(角度,x,y,z)\n",
    "    glutWireTeapot(0.5)\n",
    "#刷新显示\n",
    "    glFlush()\n",
    "glutInit()\n",
    "glutInitDisplayMode(GLUT_SINGLE | GLUT_RGBA)\n",
    "#窗口位置及大小-生成\n",
    "glutInitWindowPosition(0,0)\n",
    "glutInitWindowSize(400,400)\n",
    "glutCreateWindow(b\"first\")\n",
    "#调用函数绘制图像\n",
    "glutDisplayFunc(drawFunc)\n",
    "glutIdleFunc(drawFunc)\n",
    "#主循环\n",
    "glutMainLoop()"
   ]
  },
  {
   "cell_type": "code",
   "execution_count": 4,
   "metadata": {},
   "outputs": [
    {
     "ename": "NullFunctionError",
     "evalue": "Attempt to call an undefined function glutInitDisplayMode, check for bool(glutInitDisplayMode) before calling",
     "output_type": "error",
     "traceback": [
      "\u001b[1;31m---------------------------------------------------------------------------\u001b[0m",
      "\u001b[1;31mNullFunctionError\u001b[0m                         Traceback (most recent call last)",
      "\u001b[1;32m<ipython-input-4-28757684e474>\u001b[0m in \u001b[0;36m<module>\u001b[1;34m\u001b[0m\n\u001b[0;32m     31\u001b[0m     \u001b[0minit\u001b[0m\u001b[1;33m(\u001b[0m\u001b[1;33m)\u001b[0m\u001b[1;33m\u001b[0m\u001b[1;33m\u001b[0m\u001b[0m\n\u001b[0;32m     32\u001b[0m     \u001b[0mglutMainLoop\u001b[0m\u001b[1;33m(\u001b[0m\u001b[1;33m)\u001b[0m\u001b[1;33m\u001b[0m\u001b[1;33m\u001b[0m\u001b[0m\n\u001b[1;32m---> 33\u001b[1;33m \u001b[0mmain\u001b[0m\u001b[1;33m(\u001b[0m\u001b[1;33m)\u001b[0m\u001b[1;33m\u001b[0m\u001b[1;33m\u001b[0m\u001b[0m\n\u001b[0m",
      "\u001b[1;32m<ipython-input-4-28757684e474>\u001b[0m in \u001b[0;36mmain\u001b[1;34m()\u001b[0m\n\u001b[0;32m     23\u001b[0m \u001b[1;32mdef\u001b[0m \u001b[0mmain\u001b[0m\u001b[1;33m(\u001b[0m\u001b[1;33m)\u001b[0m\u001b[1;33m:\u001b[0m\u001b[1;33m\u001b[0m\u001b[1;33m\u001b[0m\u001b[0m\n\u001b[0;32m     24\u001b[0m     \u001b[0mglutInit\u001b[0m\u001b[1;33m(\u001b[0m\u001b[0msys\u001b[0m\u001b[1;33m.\u001b[0m\u001b[0margv\u001b[0m\u001b[1;33m)\u001b[0m\u001b[1;33m\u001b[0m\u001b[1;33m\u001b[0m\u001b[0m\n\u001b[1;32m---> 25\u001b[1;33m     \u001b[0mglutInitDisplayMode\u001b[0m\u001b[1;33m(\u001b[0m\u001b[0mGLUT_SINGLE\u001b[0m\u001b[1;33m|\u001b[0m\u001b[0mGLUT_RGB\u001b[0m\u001b[1;33m)\u001b[0m\u001b[1;33m\u001b[0m\u001b[1;33m\u001b[0m\u001b[0m\n\u001b[0m\u001b[0;32m     26\u001b[0m     \u001b[0mglutInitWindowPosition\u001b[0m\u001b[1;33m(\u001b[0m\u001b[1;36m50\u001b[0m\u001b[1;33m,\u001b[0m\u001b[1;36m100\u001b[0m\u001b[1;33m)\u001b[0m\u001b[1;33m\u001b[0m\u001b[1;33m\u001b[0m\u001b[0m\n\u001b[0;32m     27\u001b[0m     \u001b[0mglutInitWindowSize\u001b[0m\u001b[1;33m(\u001b[0m\u001b[1;36m400\u001b[0m\u001b[1;33m,\u001b[0m\u001b[1;36m400\u001b[0m\u001b[1;33m)\u001b[0m\u001b[1;33m\u001b[0m\u001b[1;33m\u001b[0m\u001b[0m\n",
      "\u001b[1;32m~\\Anaconda3\\lib\\site-packages\\OpenGL\\platform\\baseplatform.py\u001b[0m in \u001b[0;36m__call__\u001b[1;34m(self, *args, **named)\u001b[0m\n\u001b[0;32m    405\u001b[0m             raise error.NullFunctionError(\n\u001b[0;32m    406\u001b[0m                 \"\"\"Attempt to call an undefined function %s, check for bool(%s) before calling\"\"\"%(\n\u001b[1;32m--> 407\u001b[1;33m                     \u001b[0mself\u001b[0m\u001b[1;33m.\u001b[0m\u001b[0m__name__\u001b[0m\u001b[1;33m,\u001b[0m \u001b[0mself\u001b[0m\u001b[1;33m.\u001b[0m\u001b[0m__name__\u001b[0m\u001b[1;33m,\u001b[0m\u001b[1;33m\u001b[0m\u001b[1;33m\u001b[0m\u001b[0m\n\u001b[0m\u001b[0;32m    408\u001b[0m                 )\n\u001b[0;32m    409\u001b[0m             )\n",
      "\u001b[1;31mNullFunctionError\u001b[0m: Attempt to call an undefined function glutInitDisplayMode, check for bool(glutInitDisplayMode) before calling"
     ]
    }
   ],
   "source": [
    "from OpenGL.GL import *\n",
    "from OpenGL.GLU import *\n",
    "from OpenGL.GLUT import *\n",
    "from numpy import *\n",
    "import sys\n",
    "\n",
    "def init():\n",
    "    glClearColor(1.0,1.0,1.0,1.0)\n",
    "    gluOrtho2D(-5.0,5.0,-5.0,5.0)\n",
    "\n",
    "def plotfunc():\n",
    "    glClear(GL_COLOR_BUFFER_BIT)\n",
    "    glColor3f(1.0,0.2,0.6)\n",
    "    glPointSize(3.0)\n",
    "\n",
    "    glBegin(GL_POINTS)\n",
    "    for x in arange(-5.0,5.0,0.1):#from -5.0 to 5.0 plus 0.1 every time\n",
    "        y=x*x\n",
    "        glVertex2f(x,y)\n",
    "    glEnd()\n",
    "    glFlush()\n",
    "\n",
    "def main():\n",
    "    glutInit(sys.argv)\n",
    "    glutInitDisplayMode(GLUT_SINGLE|GLUT_RGB)\n",
    "    glutInitWindowPosition(50,100)\n",
    "    glutInitWindowSize(400,400)\n",
    "    glutCreateWindow(\"Function Plotter\")\n",
    "    glutDisplayFunc(plotfunc)\n",
    "\n",
    "    init()\n",
    "    glutMainLoop()\n",
    "main()"
   ]
  }
 ],
 "metadata": {
  "kernelspec": {
   "display_name": "Python 3",
   "language": "python",
   "name": "python3"
  },
  "language_info": {
   "codemirror_mode": {
    "name": "ipython",
    "version": 3
   },
   "file_extension": ".py",
   "mimetype": "text/x-python",
   "name": "python",
   "nbconvert_exporter": "python",
   "pygments_lexer": "ipython3",
   "version": "3.7.3"
  }
 },
 "nbformat": 4,
 "nbformat_minor": 2
}
