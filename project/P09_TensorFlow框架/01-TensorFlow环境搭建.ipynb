{
 "cells": [
  {
   "cell_type": "markdown",
   "metadata": {},
   "source": [
    "# AI实战 基础环境搭建\n",
    "\n",
    "https://my.oschina.net/u/876354/blog/1924805\n",
    "\n",
    "### 雪饼的个人博客\n",
    "\n",
    "https://my.oschina.net/u/876354?tab=newest&catalogId=273544"
   ]
  }
 ],
 "metadata": {
  "kernelspec": {
   "display_name": "Python 3",
   "language": "python",
   "name": "python3"
  },
  "language_info": {
   "codemirror_mode": {
    "name": "ipython",
    "version": 3
   },
   "file_extension": ".py",
   "mimetype": "text/x-python",
   "name": "python",
   "nbconvert_exporter": "python",
   "pygments_lexer": "ipython3",
   "version": "3.6.0"
  }
 },
 "nbformat": 4,
 "nbformat_minor": 2
}
