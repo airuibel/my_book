{
 "cells": [
  {
   "cell_type": "markdown",
   "metadata": {},
   "source": [
    "# 复习内容Web阶段：\n",
    "\n",
    "1. 框架知识，复习Django与Flask框架的使用方法，包括Django REST framework 和 Flask-RESTful；\n",
    "\n",
    "2. 数据库知识，主要包括数据库设计，SQL语句，重点在头条项目课件中列出来的数据库（包括MySQL与Redis）优化相关知识；  \n",
    "\n",
    "3. 项目业务：梳理一下项目中的业务场景有哪些，业务流程；\n",
    "\n",
    "4. 梳理总结专题知识： 第三方登录、页面静态化、定时任务（crontab + APScheduler)、Celery、JWT、Redis数据类型选择、支付、事务、并发处理（以下单为例）、文件存储（FastDFS + 七牛）、权限管理、Cookie&Session、Docker、Nginx、缓存、即时通讯、Elasticsearch、gRPC、单元测试、CSRF、CORS；\n",
    "\n",
    "5. Python的语法；类、对象、封装、继承、多态、装饰器、生成器；python垃圾回收机制。\n",
    "\n",
    "6. 基本的数据结构与算法的知识；\n",
    "\n",
    "\n",
    "\n"
   ]
  }
 ],
 "metadata": {
  "kernelspec": {
   "display_name": "Python 3",
   "language": "python",
   "name": "python3"
  },
  "language_info": {
   "codemirror_mode": {
    "name": "ipython",
    "version": 3
   },
   "file_extension": ".py",
   "mimetype": "text/x-python",
   "name": "python",
   "nbconvert_exporter": "python",
   "pygments_lexer": "ipython3",
   "version": "3.6.0"
  }
 },
 "nbformat": 4,
 "nbformat_minor": 2
}
