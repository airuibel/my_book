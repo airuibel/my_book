{
 "cells": [
  {
   "cell_type": "markdown",
   "metadata": {},
   "source": [
    "## Numpy 常用函数\n",
    "-  本章涵盖以下内容：\n",
    "    -   数组相关的函数；\n",
    "    -   从文件中载入数据；\n",
    "      \n",
    "    - 将数组写入文件；\n",
    "      \n",
    "    - 简单的数学和统计分析函数。"
   ]
  },
  {
   "cell_type": "markdown",
   "metadata": {},
   "source": [
    "\n",
    "\n",
    "\n",
    "# 文件的读写\n",
    "- (1) 单位矩阵，即主对角线上的元素均为1，其余元素均为0的正方形矩阵。在NumPy中可以\n",
    "    用 eye 函数创建一个这样的二维数组，我们只需要给定一个参数，用于指定矩阵中1的元素个  数。\n",
    "    例如，创建2×2的数组："
   ]
  },
  {
   "cell_type": "code",
   "execution_count": 1,
   "metadata": {},
   "outputs": [
    {
     "name": "stdout",
     "output_type": "stream",
     "text": [
      "[[1. 0.]\n",
      " [0. 1.]]\n"
     ]
    }
   ],
   "source": [
    "# 单位矩阵的创建方法\n",
    "\n",
    "import numpy as np\n",
    "i2 = np.eye(2)\n",
    "print(i2)"
   ]
  },
  {
   "cell_type": "code",
   "execution_count": 2,
   "metadata": {},
   "outputs": [],
   "source": [
    "# 数据储存到文件 用savetxt函数，我们需要指定文件名以及要保存的数组\n",
    "# 默认储存在当前路径\n",
    "\n",
    "np.savetxt(\"单位矩阵.txt\",i2)"
   ]
  },
  {
   "cell_type": "markdown",
   "metadata": {},
   "source": [
    "\n",
    "\n",
    "### 3.3 CSV 文件\n",
    "\n",
    "\n",
    "- CSV（Comma-Separated Value，逗号分隔值）格式是一种常见的文件格式。通常，数据库的\n",
    "转存文件就是CSV格式的，文件中的各个字段对应于数据库表中的列。众所周知，电子表格软件\n",
    "（如Microsoft Excel）可以处理CSV文件。\n",
    "\n",
    "- CSV文件的读取以及处理\n",
    "  *  NumPy中的 loadtxt 函数可以方便地读取CSV文件，自动切分字段，并将数据载入NumPy数组\n",
    "  *  usecols 的参数为一个元组，以获取第7字段至第8字段的数据，也就是股票的收盘价和成交量数据。 unpack 参数设置为 True ，意思是分拆存储不同列的数据，即分别将收盘价和成交量的数组赋值给变量 c 和 v 。"
   ]
  },
  {
   "cell_type": "code",
   "execution_count": 3,
   "metadata": {},
   "outputs": [
    {
     "name": "stdout",
     "output_type": "stream",
     "text": [
      "VWAP = 350.5895493532009\n"
     ]
    }
   ],
   "source": [
    "# 我们应该如何处理CSV文件呢？幸运的是，NumPy中的 loadtxt 函数可以方便地读取CSV\n",
    "# 文件，自动切分字段，并将数据载入NumPy数组。下面，我们以载入苹果公司的历史股价数据为\n",
    "# 例展开叙述。股价数据存储在CSV文件中，第一列为股票代码以标识股票（苹果公司股票代码为\n",
    "# AAPL ），第二列为dd-mm-yyyy格式的日期，第三列为空，随后各列依次是开盘价、最高价、最低\n",
    "# 价和收盘价，最后一列为当日的成交量。下面为一行数据：\n",
    "\n",
    "import numpy as np\n",
    "c,v=np.loadtxt('data.csv', delimiter=',', usecols=(6,7), unpack=True)\n",
    "vwap = np.average(c, weights=v)\n",
    "print (\"VWAP =\", vwap)\n",
    "\n",
    "# CSV文件是一种经常用于数据处理的文件格式。我们用 loadtxt 函数读取了一个包含股价数据\n",
    "# 的CSV文件，用 delimiter 参数指定了文件中的分隔符为英文逗号，用 usecols 中的参数指定了我\n",
    "# 们感兴趣的数据列，并将 unpack 参数设置为 True 使得不同列的数据分开存储，以便随后使用。"
   ]
  },
  {
   "cell_type": "code",
   "execution_count": 5,
   "metadata": {},
   "outputs": [
    {
     "name": "stdout",
     "output_type": "stream",
     "text": [
      "VWAP = 350.5895493532009\n",
      "mean =  351.0376666666667\n"
     ]
    }
   ],
   "source": [
    "# 成交量加权平均价格（VWAP）\n",
    "# VWAP（Volume-Weighted Average Price，成交量加权平均价格）是一个非常重要的经济学量，\n",
    "# 它代表着金融资产的“平均”价格。某个价格的成交量越高，该价格所占的权重就越大。VWAP\n",
    "# 就是以成交量为权重计算出来的加权平均值，常用于算法交易。\n",
    "\n",
    "#  1  将数据读入数组\n",
    "\n",
    "#  2   计算VWAP\n",
    "\n",
    "import numpy as np\n",
    "c,v=np.loadtxt('data.csv', delimiter=',', usecols=(6,7), unpack=True)\n",
    "vwap = np.average(c, weights=v)\n",
    "print(\"VWAP =\", vwap)\n",
    "\n",
    "# 算数平均值\n",
    "print(\"mean = \",np.mean(c))"
   ]
  },
  {
   "cell_type": "markdown",
   "metadata": {},
   "source": [
    "### 3.6.1 算术平均值函数\n",
    "    NumPy中的 mean 函数很友好，一点儿也不mean（该词有“尖酸刻薄”的意思）。这个函数可\n",
    "    以计算数组元素的算术平均值。"
   ]
  },
  {
   "cell_type": "code",
   "execution_count": 6,
   "metadata": {},
   "outputs": [
    {
     "name": "stdout",
     "output_type": "stream",
     "text": [
      "twap = 352.4283218390804\n"
     ]
    }
   ],
   "source": [
    "# 时间加权平均价格\n",
    "# 在经济学中，TWAP（Time-Weighted Average Price，时间加权平均价格）是另一种“平均”\n",
    "# 价格的指标。既然我们已经计算了VWAP，那也来计算一下TWAP吧。其实TWAP只是一个变种\n",
    "# 而已，基本的思想就是最近的价格重要性大一些，所以我们应该对近期的价格给以较高的权重。\n",
    "# 最简单的方法就是用 arange 函数创建一个从0开始依次增长的自然数序列，自然数的个数即为收\n",
    "# 盘价的个数。当然，这并不一定是正确的计算TWAP的方式。\n",
    "\n",
    "t = np.arange(len(c))\n",
    "print( \"twap =\", np.average(c, weights=t))"
   ]
  },
  {
   "cell_type": "code",
   "execution_count": 8,
   "metadata": {},
   "outputs": [
    {
     "name": "stdout",
     "output_type": "stream",
     "text": [
      "highest = 364.9\n",
      "lowest = 333.53\n"
     ]
    }
   ],
   "source": [
    "# 找到最大值和最小值\n",
    "# min 函数和 max 函数能够满足需求。我们按如下步骤来找最大值和最小值。\n",
    "# (1) 首先，需要再次读入数据，将每日最高价和最低价的数据载入数组：\n",
    "h,l=np.loadtxt('data.csv',delimiter=',', usecols=(4,5), unpack=True)\n",
    "\n",
    "print (\"highest =\", np.max(h))\n",
    "print (\"lowest =\", np.min(l))"
   ]
  },
  {
   "cell_type": "code",
   "execution_count": 9,
   "metadata": {},
   "outputs": [
    {
     "name": "stdout",
     "output_type": "stream",
     "text": [
      "Spread high price 24.859999999999957\n",
      "Spread low price 26.970000000000027\n"
     ]
    }
   ],
   "source": [
    "# NumPy中有一个 ptp 函数可以计算数组的取值范围。该函数返回的是数组元素的最大值\n",
    "# 和最小值之间的差值。也就是说，返回值等于max(array) - min(array)。调用 ptp 函数：\n",
    "print (\"Spread high price\", np.ptp(h))\n",
    "print (\"Spread low price\", np.ptp(l))"
   ]
  },
  {
   "cell_type": "code",
   "execution_count": 10,
   "metadata": {},
   "outputs": [
    {
     "name": "stdout",
     "output_type": "stream",
     "text": [
      "highest = 364.9\n",
      "lowest = 333.53\n",
      "349.215\n",
      "Spread high price 24.859999999999957\n",
      "Spread low price 26.970000000000027\n"
     ]
    }
   ],
   "source": [
    "import numpy as np\n",
    "h,l=np.loadtxt('data.csv', delimiter=',', usecols=(4,5), unpack=True)\n",
    "print (\"highest =\", np.max(h))\n",
    "print (\"lowest =\", np.min(l))\n",
    "print ((np.max(h) + np.min(l)) /2)\n",
    "print (\"Spread high price\", np.ptp(h))\n",
    "print (\"Spread low price\", np.ptp(l))"
   ]
  },
  {
   "cell_type": "code",
   "execution_count": 11,
   "metadata": {},
   "outputs": [
    {
     "name": "stdout",
     "output_type": "stream",
     "text": [
      "median = 352.055\n"
     ]
    }
   ],
   "source": [
    "# 计算中位数\n",
    "# 中位数的概念，将各个变量值按大小顺序排列起来，\n",
    "# 形成一个数列，居于数列中间位置的那个数即为中位数\n",
    "c=np.loadtxt('data.csv', delimiter=',', usecols=(6,), unpack=True)\n",
    "\n",
    "#  一个叫做 median 的函数将帮助我们找到中位数。我们调用它并立即打印出结果。添加下\n",
    "# 面这行代码\n",
    "\n",
    "print (\"median =\", np.median(c))"
   ]
  },
  {
   "cell_type": "code",
   "execution_count": 18,
   "metadata": {
    "scrolled": true
   },
   "outputs": [
    {
     "name": "stdout",
     "output_type": "stream",
     "text": [
      "sorted = [336.1  338.61 339.32 342.62 342.88 343.44 344.32 345.03 346.5  346.67\n",
      " 348.16 349.31 350.56 351.88 351.99 352.12 352.47 353.21 354.54 355.2\n",
      " 355.36 355.76 356.85 358.16 358.3  359.18 359.56 359.9  360.   363.13]\n"
     ]
    },
    {
     "ename": "TypeError",
     "evalue": "'builtin_function_or_method' object is not subscriptable",
     "output_type": "error",
     "traceback": [
      "\u001b[1;31m---------------------------------------------------------------------------\u001b[0m",
      "\u001b[1;31mTypeError\u001b[0m                                 Traceback (most recent call last)",
      "\u001b[1;32m<ipython-input-18-db86aa7d7946>\u001b[0m in \u001b[0;36m<module>\u001b[1;34m()\u001b[0m\n\u001b[0;32m      7\u001b[0m \u001b[0mN\u001b[0m \u001b[1;33m=\u001b[0m \u001b[0mlen\u001b[0m\u001b[1;33m(\u001b[0m\u001b[0mc\u001b[0m\u001b[1;33m)\u001b[0m\u001b[1;33m\u001b[0m\u001b[0m\n\u001b[0;32m      8\u001b[0m \u001b[1;31m#print (\"middle =\", sorted[(N - 1)/2])\u001b[0m\u001b[1;33m\u001b[0m\u001b[1;33m\u001b[0m\u001b[0m\n\u001b[1;32m----> 9\u001b[1;33m \u001b[0mprint\u001b[0m \u001b[1;33m(\u001b[0m\u001b[1;34m\"average middle =\"\u001b[0m\u001b[1;33m,\u001b[0m \u001b[1;33m(\u001b[0m\u001b[0msorted\u001b[0m\u001b[1;33m[\u001b[0m\u001b[0mN\u001b[0m \u001b[1;33m/\u001b[0m\u001b[1;36m2\u001b[0m\u001b[1;33m]\u001b[0m \u001b[1;33m+\u001b[0m \u001b[0msorted\u001b[0m\u001b[1;33m[\u001b[0m\u001b[1;33m(\u001b[0m\u001b[0mN\u001b[0m \u001b[1;33m-\u001b[0m \u001b[1;36m1\u001b[0m\u001b[1;33m)\u001b[0m \u001b[1;33m/\u001b[0m \u001b[1;36m2\u001b[0m\u001b[1;33m]\u001b[0m\u001b[1;33m)\u001b[0m \u001b[1;33m/\u001b[0m \u001b[1;36m2\u001b[0m\u001b[1;33m)\u001b[0m\u001b[1;33m\u001b[0m\u001b[0m\n\u001b[0m",
      "\u001b[1;31mTypeError\u001b[0m: 'builtin_function_or_method' object is not subscriptable"
     ]
    }
   ],
   "source": [
    "# 我们将对价格数组进行排序，并输出排序后居于中间位置的值，这也就是模拟了寻找中位数的\n",
    "# 算法。 msort 函数可以帮我们完成第一步。我们将调用这个函数，获得排序后的数组，并输出\n",
    "# 结果\n",
    "sorted_close = np.msort(c)\n",
    "print (\"sorted =\", sorted_close)\n",
    "\n",
    "N = len(c)\n",
    "print (\"middle =\", sorted[(N - 1)/2])\n",
    "print (\"average middle =\", (sorted[N /2] + sorted[(N - 1) / 2]) / 2)"
   ]
  },
  {
   "cell_type": "code",
   "execution_count": 19,
   "metadata": {},
   "outputs": [
    {
     "name": "stdout",
     "output_type": "stream",
     "text": [
      "variance = 50.126517888888884\n"
     ]
    }
   ],
   "source": [
    "# 在NumPy中，计算方差只需要一行代码\n",
    "print( \"variance =\", np.var(c))"
   ]
  },
  {
   "cell_type": "markdown",
   "metadata": {},
   "source": [
    "——————————\n",
    "- 方差是指各个数据与所有数据算术平均数的离差平方和除以数据个数所得\n",
    "- 到的值。\n",
    "- 一些书里面告诉我们，应该用数据个数减1去除离差平方和\n",
    "- print \"variance from definition =\", np.mean((c - c.mean())**2)\n",
    "        ——————————\n",
    "\n",
    "\n",
    "    ① 注意样本方差和总体方差在计算上的区别。总体方差是用数据个数去除离差平方和，而样本方差则是用样本数据\n",
    "    个数减1去除离差平方和，其中样本数据个数减1（即n1）称为自由度。之所以有这样的差别，是为了保证样本\n",
    "    方差是一个无偏估计量"
   ]
  },
  {
   "cell_type": "code",
   "execution_count": 20,
   "metadata": {
    "scrolled": true
   },
   "outputs": [
    {
     "name": "stdout",
     "output_type": "stream",
     "text": [
      "variance from definition = 50.126517888888884\n"
     ]
    }
   ],
   "source": [
    "print (\"variance from definition =\", np.mean((c - c.mean())**2))"
   ]
  },
  {
   "cell_type": "markdown",
   "metadata": {},
   "source": [
    "## 矩阵的常见操作"
   ]
  },
  {
   "cell_type": "code",
   "execution_count": 1,
   "metadata": {},
   "outputs": [
    {
     "name": "stdout",
     "output_type": "stream",
     "text": [
      "[0 1 2]\n",
      "[1.         2.71828183 7.3890561 ]\n",
      "[0.         1.         1.41421356]\n"
     ]
    }
   ],
   "source": [
    "import numpy as np \n",
    "B = np.arange(3)\n",
    "print(B)\n",
    "# 求常数e的x次幂\n",
    "print(np.exp(B))\n",
    "# 求B的算数平方根\n",
    "print(np.sqrt(B))"
   ]
  },
  {
   "cell_type": "code",
   "execution_count": 5,
   "metadata": {},
   "outputs": [
    {
     "name": "stdout",
     "output_type": "stream",
     "text": [
      "[[1. 1. 0. 6.]\n",
      " [3. 1. 9. 4.]\n",
      " [0. 0. 5. 1.]]\n",
      "--------------\n",
      "[1. 1. 0. 6. 3. 1. 9. 4. 0. 0. 5. 1.]\n",
      "[[1. 1.]\n",
      " [0. 6.]\n",
      " [3. 1.]\n",
      " [9. 4.]\n",
      " [0. 0.]\n",
      " [5. 1.]]\n",
      "--------------\n",
      "[[1. 0. 3. 9. 0. 5.]\n",
      " [1. 6. 1. 4. 0. 1.]]\n"
     ]
    }
   ],
   "source": [
    "# floor 向下取整\n",
    "import numpy as np\n",
    "a = np.floor(10*np.random.random((3,4)))\n",
    "print(a)\n",
    "print(\"--------------\")\n",
    "# ravel 将矩阵转换为向量的形式\n",
    "print(a.ravel())\n",
    "a.shape = (6,-1)\n",
    "# (6,-1)中的-1 将自动计算维度的列数\n",
    "print(a)\n",
    "print(\"--------------\")\n",
    "print(a.T)"
   ]
  },
  {
   "cell_type": "code",
   "execution_count": 26,
   "metadata": {},
   "outputs": [
    {
     "name": "stdout",
     "output_type": "stream",
     "text": [
      "[[6 4]\n",
      " [5 1]]\n",
      "--------\n",
      "[[8 2]\n",
      " [4 6]]\n",
      "--------\n",
      "[[6 4 8 2]\n",
      " [5 1 4 6]]\n",
      "--------\n",
      "[[6 4]\n",
      " [5 1]\n",
      " [8 2]\n",
      " [4 6]]\n"
     ]
    }
   ],
   "source": [
    "# 矩阵的拼接\n",
    "import numpy as np\n",
    "np.random.seed(1)\n",
    "a = np.random.randint(1,9,size = (2,2))\n",
    "b = np.random.randint(1,9,size = (2,2))\n",
    "print(a)\n",
    "print(\"--------\")\n",
    "print(b)\n",
    "print(\"--------\")\n",
    "# 矩阵的水平拼接\n",
    "print(np.hstack((a,b)))\n",
    "print(\"--------\")\n",
    "# 矩阵的垂直拼接\n",
    "print(np.vstack((a,b)))"
   ]
  },
  {
   "cell_type": "code",
   "execution_count": 38,
   "metadata": {},
   "outputs": [
    {
     "name": "stdout",
     "output_type": "stream",
     "text": [
      "[[6 4 5 1 8 2 4 6 8 1 1 2]\n",
      " [5 8 6 5 7 2 3 5 7 6 3 5]]\n",
      "--------\n",
      "[array([[6, 4, 5],\n",
      "       [5, 8, 6]]), array([[1, 8, 2],\n",
      "       [5, 7, 2]]), array([[4, 6, 8],\n",
      "       [3, 5, 7]]), array([[1, 1, 2],\n",
      "       [6, 3, 5]])]\n",
      "[array([[6, 4, 5],\n",
      "       [5, 8, 6]]), array([[1, 8, 2, 4, 6, 8],\n",
      "       [5, 7, 2, 3, 5, 7]]), array([[1, 1, 2],\n",
      "       [6, 3, 5]])]\n",
      "[[6 5]\n",
      " [4 8]\n",
      " [5 6]\n",
      " [1 5]\n",
      " [8 7]\n",
      " [2 2]\n",
      " [4 3]\n",
      " [6 5]\n",
      " [8 7]\n",
      " [1 6]\n",
      " [1 3]\n",
      " [2 5]]\n",
      "--------\n",
      "[array([[6, 5],\n",
      "       [4, 8],\n",
      "       [5, 6],\n",
      "       [1, 5]]), array([[8, 7],\n",
      "       [2, 2],\n",
      "       [4, 3],\n",
      "       [6, 5]]), array([[8, 7],\n",
      "       [1, 6],\n",
      "       [1, 3],\n",
      "       [2, 5]])]\n",
      "--------\n",
      "[array([[6, 5],\n",
      "       [4, 8],\n",
      "       [5, 6],\n",
      "       [1, 5],\n",
      "       [8, 7]]), array([[2, 2],\n",
      "       [4, 3]]), array([[6, 5],\n",
      "       [8, 7],\n",
      "       [1, 6],\n",
      "       [1, 3],\n",
      "       [2, 5]])]\n"
     ]
    }
   ],
   "source": [
    "# 矩阵的切分\n",
    "import numpy as np\n",
    "np.random.seed(1)\n",
    "a = np.random.randint(1,9,size=(2,12))\n",
    "print(a)\n",
    "print(\"--------\")\n",
    "print(np.hsplit(a,4))\n",
    "print(np.hsplit(a,(3,9)))\n",
    "\n",
    "b = a.T\n",
    "print(b)\n",
    "print(\"--------\")\n",
    "print(np.vsplit(b,3))\n",
    "print(\"--------\")\n",
    "print(np.vsplit(b,(5,7)))"
   ]
  }
 ],
 "metadata": {
  "kernelspec": {
   "display_name": "Python 3",
   "language": "python",
   "name": "python3"
  },
  "language_info": {
   "codemirror_mode": {
    "name": "ipython",
    "version": 3
   },
   "file_extension": ".py",
   "mimetype": "text/x-python",
   "name": "python",
   "nbconvert_exporter": "python",
   "pygments_lexer": "ipython3",
   "version": "3.6.0"
  }
 },
 "nbformat": 4,
 "nbformat_minor": 2
}
