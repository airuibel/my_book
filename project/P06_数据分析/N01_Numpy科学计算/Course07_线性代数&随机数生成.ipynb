{
 "cells": [
  {
   "cell_type": "markdown",
   "metadata": {},
   "source": [
    "## 常用的numpy.linalg函数\n",
    "\n",
    "           函数             说明\n",
    "\n",
    "           diag             以一维数组的形式返回方阵的对角线(或非对角线)元素，或将一维数组转换为方阵(非对角线元素为0)\n",
    "\n",
    "           dot              矩阵乘法\n",
    "\n",
    "           trace            计算对角线元素的和\n",
    "\n",
    "           det              计算矩阵行列式\n",
    "\n",
    "           eig              计算方阵的本征值和本征向量\n",
    "\n",
    "           inv              计算方阵的逆\n",
    "\n",
    "           pinv             计算矩阵的Moore-Penrose伪逆\n",
    "\n",
    "           qr               计算QR分解\n",
    "\n",
    "           svd              计算奇异值分解(SVD)\n",
    "\n",
    "           solve            解线性方程组Ax = b，其中A为一个方阵\n",
    "\n",
    "           lstsq            计算Ax= b的最小二乘解"
   ]
  },
  {
   "cell_type": "markdown",
   "metadata": {},
   "source": [
    "### 部分numpy.random函数\n",
    "\n",
    "     函数          说明\n",
    "     \n",
    "     seed          确定随机数生成器的种子\n",
    "     \n",
    "     permutation   返回一个随机排列或返回一个随机排列的范围\n",
    "     \n",
    "     shuffle       对一个序列就地随机排列\n",
    "     \n",
    "     rand          产生均匀分布的样本值\n",
    "     \n",
    "     randint       从给定的上下范围内随机选取整数\n",
    "     \n",
    "     randn          产生正态分布的样本值(平均值为0，标准差为1)的样本值，类似于MATLAB接口\n",
    "     \n",
    "     binominal      产生二项分布的样本值\n",
    "     \n",
    "     normal         产生正态(高斯)分布的样本值\n",
    "     \n",
    "     beta           产生Beta分布的样本值"
   ]
  },
  {
   "cell_type": "code",
   "execution_count": 2,
   "metadata": {},
   "outputs": [
    {
     "data": {
      "text/plain": [
       "array([[-0.20444161, -2.10022433,  1.68130165,  0.18328666],\n",
       "       [ 0.02890619,  0.09830628,  0.6273706 ,  0.78978727],\n",
       "       [-1.28251844, -1.01069091,  0.87296248, -0.49634354],\n",
       "       [-0.81246453, -0.21830391, -0.4035072 , -0.39149035]])"
      ]
     },
     "execution_count": 2,
     "metadata": {},
     "output_type": "execute_result"
    }
   ],
   "source": [
    "# 随机数生成\n",
    "import numpy as np\n",
    "samples = np.random.normal(size=(4,4))\n",
    "samples"
   ]
  },
  {
   "cell_type": "code",
   "execution_count": 8,
   "metadata": {},
   "outputs": [
    {
     "name": "stdout",
     "output_type": "stream",
     "text": [
      "21.00000000000001\n",
      "[[ 2 -1  0]\n",
      " [-1  3  2]\n",
      " [-1 -1  3]]\n"
     ]
    }
   ],
   "source": [
    "# 计算行列式的值\n",
    "\n",
    "import numpy as np\n",
    "np.random.seed(5)\n",
    "arr = np.random.randint(-1,4,size = (3,3))\n",
    "print(np.linalg.det(arr))\n",
    "print(arr)"
   ]
  },
  {
   "cell_type": "code",
   "execution_count": 13,
   "metadata": {},
   "outputs": [
    {
     "name": "stdout",
     "output_type": "stream",
     "text": [
      "160.00000000000009\n"
     ]
    }
   ],
   "source": [
    "# 计算行列式的值\n",
    "import numpy as np\n",
    "D1 =np.array([[4,1,2,3],\n",
    "              [3,4,1,2],\n",
    "              [2,3,4,1],\n",
    "              [1,2,3,4]])\n",
    "print(np.linalg.det(D1))"
   ]
  },
  {
   "cell_type": "code",
   "execution_count": 2,
   "metadata": {},
   "outputs": [
    {
     "data": {
      "text/plain": [
       "array([[ -6,   8,   2],\n",
       "       [ 14, -18,   2],\n",
       "       [ -4,   7,  -3]])"
      ]
     },
     "execution_count": 2,
     "metadata": {},
     "output_type": "execute_result"
    }
   ],
   "source": [
    "# 矩阵的乘法\n",
    "import numpy as np\n",
    "x = np.array([[1,-1,3],\n",
    "            [2,6,-4],\n",
    "            [1,-2,-1]])\n",
    "y = np.array([[-1,2,0],\n",
    "            [2,-3,1],\n",
    "            [-1,1,1]])\n",
    "x.dot(y)"
   ]
  },
  {
   "cell_type": "code",
   "execution_count": 5,
   "metadata": {},
   "outputs": [
    {
     "data": {
      "text/plain": [
       "array([[ 0, -2,  0],\n",
       "       [ 4,  2,  4]])"
      ]
     },
     "execution_count": 5,
     "metadata": {},
     "output_type": "execute_result"
    }
   ],
   "source": [
    "import numpy as np\n",
    "np.random.seed(13)\n",
    "x = np.random.randint(-2,2,size=(2,3))\n",
    "y = np.random.randint(-2,2,size=(3,3))\n",
    "x.dot(y)"
   ]
  },
  {
   "cell_type": "code",
   "execution_count": 15,
   "metadata": {},
   "outputs": [
    {
     "data": {
      "text/plain": [
       "array([[-0.8190287 ,  0.06184305,  0.707398  ],\n",
       "       [ 2.27035647, -0.5448552 , -1.11904343]])"
      ]
     },
     "execution_count": 15,
     "metadata": {},
     "output_type": "execute_result"
    }
   ],
   "source": [
    "import numpy as np\n",
    "np.random.normal(size = (2,3))"
   ]
  },
  {
   "cell_type": "code",
   "execution_count": 40,
   "metadata": {},
   "outputs": [
    {
     "data": {
      "text/plain": [
       "array([[ 2.35027321, -0.91190635,  0.66579522],\n",
       "       [ 0.010499  ,  0.15484641, -0.25259178],\n",
       "       [-0.46035923, -0.21030488, -1.32913197]])"
      ]
     },
     "execution_count": 40,
     "metadata": {},
     "output_type": "execute_result"
    }
   ],
   "source": [
    "import numpy as np\n",
    "np.random.randn(3,3)"
   ]
  }
 ],
 "metadata": {
  "kernelspec": {
   "display_name": "Python 3",
   "language": "python",
   "name": "python3"
  },
  "language_info": {
   "codemirror_mode": {
    "name": "ipython",
    "version": 3
   },
   "file_extension": ".py",
   "mimetype": "text/x-python",
   "name": "python",
   "nbconvert_exporter": "python",
   "pygments_lexer": "ipython3",
   "version": "3.6.0"
  }
 },
 "nbformat": 4,
 "nbformat_minor": 2
}
