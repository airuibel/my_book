{
 "cells": [
  {
   "cell_type": "code",
   "execution_count": 1,
   "metadata": {},
   "outputs": [
    {
     "name": "stdout",
     "output_type": "stream",
     "text": [
      "6.27 s ± 238 ms per loop (mean ± std. dev. of 7 runs, 1 loop each)\n"
     ]
    }
   ],
   "source": [
    "# 数据测量，计算数组的倒数\n",
    "\n",
    "import numpy as np\n",
    "np.random.seed(0)\n",
    "\n",
    "def compute_reciprocals(values):\n",
    "    output = np.empty(len(values))\n",
    "    for i in range(len(values)):\n",
    "        output[i] = 1.0 / values[i]\n",
    "    return output\n",
    "big_array = np.random.randint(1, 100, size=1000000)\n",
    "%timeit compute_reciprocals(big_array)"
   ]
  },
  {
   "cell_type": "code",
   "execution_count": 3,
   "metadata": {},
   "outputs": [
    {
     "name": "stdout",
     "output_type": "stream",
     "text": [
      "11.9 ms ± 326 µs per loop (mean ± std. dev. of 7 runs, 10 loops each)\n"
     ]
    }
   ],
   "source": [
    "# 用numpy中的向量操作，通用函数实现\n",
    "import numpy as np\n",
    "big_array = np.random.randint(1, 100, size=1000000)\n",
    "%timeit (1.0/big_array)"
   ]
  },
  {
   "cell_type": "code",
   "execution_count": 5,
   "metadata": {},
   "outputs": [
    {
     "data": {
      "text/plain": [
       "array([0.        , 0.5       , 0.66666667, 0.75      , 0.8       ])"
      ]
     },
     "execution_count": 5,
     "metadata": {},
     "output_type": "execute_result"
    }
   ],
   "source": [
    "# 也可以对两个数组进行运算\n",
    "\n",
    "import numpy as np\n",
    "np.arange(5) / np.arange(1,6)"
   ]
  },
  {
   "cell_type": "code",
   "execution_count": 12,
   "metadata": {},
   "outputs": [
    {
     "name": "stdout",
     "output_type": "stream",
     "text": [
      "[1, 2, 4, 8, 16, 32, 64, 128, 256]\n"
     ]
    }
   ],
   "source": [
    "# 通用函数不经可以进行一维数组的运算，他们换可以进行多维数组的计算\n",
    "import numpy as np\n",
    "x = np.arange(9).reshape((3,3))\n",
    "p = 2 ** x\n",
    "print((p.reshape(9).tolist()))"
   ]
  },
  {
   "cell_type": "markdown",
   "metadata": {},
   "source": [
    "### 数组的运算\n",
    "\n",
    "NumPy通用函数的使用方式非常自然，因为它用到了Python原生的算术运算符，\n",
    "\n",
    "标准的加、减、乘、除都可以使用："
   ]
  },
  {
   "cell_type": "code",
   "execution_count": 14,
   "metadata": {},
   "outputs": [
    {
     "name": "stdout",
     "output_type": "stream",
     "text": [
      "x =  [0 1 2 3]\n",
      "x + 5 =  [5 6 7 8]\n",
      "x - 5 =  [-5 -4 -3 -2]\n",
      "x * 2 =  [ 0  5 10 15]\n",
      "x / 2 =  [0.  0.2 0.4 0.6]\n",
      "x % 2 =  [0 1 0 1]\n",
      "x // 2 =  [0 0 1 1]\n",
      "x ** 2 =  [0 1 4 9]\n",
      " - x =  [ 0 -1 -2 -3]\n"
     ]
    }
   ],
   "source": [
    "import numpy as np\n",
    "x = np.arange(4)\n",
    "\n",
    "print(\"x = \",x)\n",
    "print(\"x + 5 = \",x+5)\n",
    "print(\"x - 5 = \",x-5)\n",
    "print(\"x * 2 = \",x*5)\n",
    "print(\"x / 2 = \",x/5)\n",
    "print(\"x % 2 = \",x%2)\n",
    "print(\"x // 2 = \",x//2)# 地板除法\n",
    "print(\"x ** 2 = \",x**2)\n",
    "print(\" - x = \", -x)"
   ]
  },
  {
   "cell_type": "code",
   "execution_count": 16,
   "metadata": {},
   "outputs": [
    {
     "name": "stdout",
     "output_type": "stream",
     "text": [
      "(x ** 3 / 2) * 10 -100 =  [-100.  -95.  -60.   35.]\n"
     ]
    }
   ],
   "source": [
    "#可以任意将这些算术运算符组合使用。当然，你得考虑这些运算符的优先级\n",
    "\n",
    "print(\"(x ** 3 / 2) * 10 -100 = \",(x ** 3 / 2) * 10 -100)"
   ]
  },
  {
   "cell_type": "code",
   "execution_count": 17,
   "metadata": {},
   "outputs": [
    {
     "data": {
      "text/plain": [
       "array([2, 3, 4, 5])"
      ]
     },
     "execution_count": 17,
     "metadata": {},
     "output_type": "execute_result"
    }
   ],
   "source": [
    "#所有这些算术运算符都是NumPy内置函数的简单封装器，例如+运算符就是一个add函数的封装器：\n",
    "np.add(x, 2)"
   ]
  },
  {
   "cell_type": "markdown",
   "metadata": {},
   "source": [
    "## numpy通用函数运算符\n",
    "\n",
    "    - 运算符     对应通用函数              描述\n",
    "\n",
    "    -   +          np.add                加法运算   \n",
    "\n",
    "    -   -          np.subtract           减法运算\n",
    "\n",
    "    -   -          np.negative           负数运算\n",
    "\n",
    "    -   *          np.multiply           乘法运算\n",
    "\n",
    "    -   /          np.divide             除法运算\n",
    "\n",
    "    -   //         np.floor_divide       地板除运算\n",
    "\n",
    "    -   **         np.power              指数运算\n",
    "\n",
    "    -   %          np.mod                模 / 余数"
   ]
  },
  {
   "cell_type": "markdown",
   "metadata": {},
   "source": [
    "## 绝对值"
   ]
  },
  {
   "cell_type": "code",
   "execution_count": 38,
   "metadata": {},
   "outputs": [
    {
     "name": "stdout",
     "output_type": "stream",
     "text": [
      "[[-1  3 -4]\n",
      " [-3 -4  0]\n",
      " [ 3 -1 -2]]\n"
     ]
    },
    {
     "data": {
      "text/plain": [
       "array([[1, 3, 4],\n",
       "       [3, 4, 0],\n",
       "       [3, 1, 2]])"
      ]
     },
     "execution_count": 38,
     "metadata": {},
     "output_type": "execute_result"
    }
   ],
   "source": [
    "import numpy as np\n",
    "x = np.random.randint(-4,5,size = (3,3))\n",
    "print(x)\n",
    "np.abs(x)\n",
    "\n",
    "# 对应的NumPy通用函数是np.absolute，该函数也可以用别名np.abs来访问："
   ]
  },
  {
   "cell_type": "code",
   "execution_count": 40,
   "metadata": {},
   "outputs": [
    {
     "data": {
      "text/plain": [
       "array([5., 5., 2., 1.])"
      ]
     },
     "execution_count": 40,
     "metadata": {},
     "output_type": "execute_result"
    }
   ],
   "source": [
    "# 这个通用函数也可以处理复数。当处理复数时，绝对值返回的是该复数的幅度\n",
    "\n",
    "x = np.array([3-4j,4-3j,2+0j,0+1j])\n",
    "np.abs(x)"
   ]
  },
  {
   "cell_type": "markdown",
   "metadata": {},
   "source": [
    "### 三角函数\n",
    "\n",
    "- NumPy提供了大量好用的通用函数，其中对于数据科学家最有用的就是三角函数。首先定义一个角度数组："
   ]
  },
  {
   "cell_type": "code",
   "execution_count": 41,
   "metadata": {},
   "outputs": [
    {
     "name": "stdout",
     "output_type": "stream",
     "text": [
      "theta =  [0.         1.57079633 3.14159265]\n",
      "sin(theta) =  [0.0000000e+00 1.0000000e+00 1.2246468e-16]\n",
      "cos(theta) =  [ 1.000000e+00  6.123234e-17 -1.000000e+00]\n"
     ]
    }
   ],
   "source": [
    "import numpy as np \n",
    "theta = np.linspace(0,np.pi,3)\n",
    "print(\"theta = \",theta)\n",
    "print(\"sin(theta) = \",np.sin(theta))\n",
    "print(\"cos(theta) = \",np.cos(theta))"
   ]
  },
  {
   "cell_type": "code",
   "execution_count": 42,
   "metadata": {},
   "outputs": [
    {
     "name": "stdout",
     "output_type": "stream",
     "text": [
      "x =  [-1  0  1]\n",
      "arcsin(x) =  [-1.57079633  0.          1.57079633]\n",
      "arccos(x) =  [3.14159265 1.57079633 0.        ]\n",
      "arctan(x) =  [-0.78539816  0.          0.78539816]\n"
     ]
    }
   ],
   "source": [
    "# 逆三角函数的运算\n",
    "\n",
    "x  = np.array([-1,0,1])\n",
    "print(\"x = \",x)\n",
    "print(\"arcsin(x) = \",np.arcsin(x))\n",
    "print(\"arccos(x) = \",np.arccos(x))\n",
    "print(\"arctan(x) = \",np.arctan(x))"
   ]
  },
  {
   "cell_type": "markdown",
   "metadata": {},
   "source": [
    "### 指数和对数函数"
   ]
  },
  {
   "cell_type": "code",
   "execution_count": 46,
   "metadata": {},
   "outputs": [
    {
     "name": "stdout",
     "output_type": "stream",
     "text": [
      "x =  [1 2 3]\n",
      "e^x =  [ 2.71828183  7.3890561  20.08553692]\n",
      "2^x =  [1 4 9]\n",
      "3^x =  [ 3  9 27]\n"
     ]
    }
   ],
   "source": [
    "import numpy as np\n",
    "x = np.array([1,2,3])\n",
    "print(\"x = \",x)\n",
    "print(\"e^x = \",np.exp(x))\n",
    "print(\"2^x = \",np.power(2,x))\n",
    "print(\"3^x = \",np.power(3,x))"
   ]
  },
  {
   "cell_type": "code",
   "execution_count": 48,
   "metadata": {},
   "outputs": [
    {
     "name": "stdout",
     "output_type": "stream",
     "text": [
      "x =  [1 2 3 4]\n",
      "ln(x) =  [0.         0.69314718 1.09861229 1.38629436]\n",
      "log2(x) =  [0.        1.        1.5849625 2.       ]\n",
      "log10(x) =  [0.         0.30103    0.47712125 0.60205999]\n"
     ]
    }
   ],
   "source": [
    "# 对数的计算\n",
    "# 计算以2为底数或者以10为底数的对数\n",
    "x = np.arange(1,5)\n",
    "print(\"x = \",x)\n",
    "print(\"ln(x) = \",np.log(x))\n",
    "print(\"log2(x) = \",np.log2(x))\n",
    "print(\"log10(x) = \",np.log10(x))"
   ]
  },
  {
   "cell_type": "code",
   "execution_count": 51,
   "metadata": {},
   "outputs": [
    {
     "name": "stdout",
     "output_type": "stream",
     "text": [
      "exp(x) - 1 = [0.00000000e+00 1.00005000e-04 1.00501671e-02 1.05170918e-01]\n",
      "log(1 + x) = [0.00000000e+00 9.99950003e-05 9.95033085e-03 9.53101798e-02]\n"
     ]
    }
   ],
   "source": [
    "#还有一些特殊的版本，对于非常小的输入值可以保持较好的精度\n",
    "# exp(x) - 1 和 log(1 + x)\n",
    "import numpy as np\n",
    "x = np.array([0,0.0001,0.01,0.1])\n",
    "print(\"exp(x) - 1 =\", np.expm1(x))\n",
    "print(\"log(1 + x) =\", np.log1p(x))"
   ]
  },
  {
   "cell_type": "markdown",
   "metadata": {},
   "source": [
    "### 5. 专用的通用函数 scipy.special\n",
    "\n",
    "- 除了以上介绍到的，NumPy还提供了很多通用函数，包括双曲三角函数、比特位运算、比较运算符、弧度转化为角度的运算、取整和求余运算，等等。\n",
    "\n",
    "- 还有一个更加专用，也更加晦涩的通用函数优异来源是子模块scipy.special"
   ]
  },
  {
   "cell_type": "code",
   "execution_count": 53,
   "metadata": {},
   "outputs": [
    {
     "name": "stdout",
     "output_type": "stream",
     "text": [
      "gamma(x)     = [1.0000e+00 2.4000e+01 3.6288e+05]\n",
      "ln|gamma(x)| = [ 0.          3.17805383 12.80182748]\n",
      "beta(x, 2)   = [0.5        0.03333333 0.00909091]\n"
     ]
    }
   ],
   "source": [
    "from scipy import special\n",
    "\n",
    "# Gamma函数（广义阶乘，generalized factorials）和相关函数\n",
    "x = [1, 5, 10]\n",
    "print(\"gamma(x)     =\", special.gamma(x))\n",
    "print(\"ln|gamma(x)| =\", special.gammaln(x))\n",
    "print(\"beta(x, 2)   =\", special.beta(x, 2))"
   ]
  },
  {
   "cell_type": "code",
   "execution_count": 55,
   "metadata": {},
   "outputs": [
    {
     "name": "stdout",
     "output_type": "stream",
     "text": [
      "erf(x)  = [0.         0.32862676 0.67780119 0.84270079]\n",
      "erfc(x) = [1.         0.67137324 0.32219881 0.15729921]\n",
      "erfinv(x) = [0.         0.27246271 0.73286908        inf]\n"
     ]
    }
   ],
   "source": [
    "# 误差函数（高斯积分）\n",
    "# 它的实现和它的逆实现\n",
    "import numpy as np\n",
    "from scipy import special\n",
    "\n",
    "x = np.array([0, 0.3, 0.7, 1.0])\n",
    "print(\"erf(x)  =\", special.erf(x))\n",
    "print(\"erfc(x) =\", special.erfc(x))\n",
    "print(\"erfinv(x) =\", special.erfinv(x))"
   ]
  },
  {
   "cell_type": "markdown",
   "metadata": {},
   "source": [
    "##  高级通用函数的特性\n",
    "\n",
    "- 1. 指定输出\n",
    "    在进行大量运算时，有时候指定一个用于存放运算结果的数组是非常有用的。不同于创建临时数组，你可以用这个特性将计算结果直接写入到你期望的存储位置。所有的通用函数都可以通过out参数来指定计算结果的存放位置："
   ]
  },
  {
   "cell_type": "code",
   "execution_count": 58,
   "metadata": {},
   "outputs": [
    {
     "name": "stdout",
     "output_type": "stream",
     "text": [
      "[0 1 2 3 4]\n",
      "[0 1 2 3 4]\n",
      "[ 0 10 20 30 40]\n"
     ]
    }
   ],
   "source": [
    "# 指定输出\n",
    "\n",
    "import numpy as np\n",
    "x = np.arange(5)\n",
    "y = np.arange(5)\n",
    "print(x)\n",
    "print(y)\n",
    "np.multiply(x,10,out=y) # 乘法运算\n",
    "print(y)"
   ]
  },
  {
   "cell_type": "code",
   "execution_count": 60,
   "metadata": {},
   "outputs": [
    {
     "name": "stdout",
     "output_type": "stream",
     "text": [
      "[0. 0. 0. 0. 0. 0. 0. 0. 0. 0.]\n",
      "[ 1.  0.  2.  0.  4.  0.  8.  0. 16.  0.]\n"
     ]
    }
   ],
   "source": [
    "# 将计算结果写入指定数组的行和列\n",
    "import numpy as np\n",
    "x = np.arange(5)\n",
    "y = np.zeros(10)\n",
    "print(y)\n",
    "np.power(2,x,out=y[::2])\n",
    "print(y)\n",
    "# 即y数组每个一个元素被写入了x的平方\n",
    "\n",
    "# 如果这里写的是y[::2] = 2 ** x，那么结果将是创建一个临时数组，\n",
    "# 该数组存放的是2 ** x的结果，并且接下来会将这些值复制到y数组中。\n",
    "# 对于上述例子中比较小的计算量来说，这两种方式的差别并不大。\n",
    "# 但是对于较大的数组，通过慎重使用out参数将能够有效节约内存。"
   ]
  },
  {
   "cell_type": "markdown",
   "metadata": {},
   "source": [
    "## 2. 聚合\n",
    "    - 二元通用函数有些非常有趣的聚合功能，这些聚合可以直接在对象上计算。例如，如果我们希望用一个特定的运算reduce一个数组，那么可以用任何通用函数的reduce方法。一个reduce方法会对给定的元素和操作重复执行，直至得到单个的结。"
   ]
  },
  {
   "cell_type": "code",
   "execution_count": 61,
   "metadata": {},
   "outputs": [
    {
     "data": {
      "text/plain": [
       "15"
      ]
     },
     "execution_count": 61,
     "metadata": {},
     "output_type": "execute_result"
    }
   ],
   "source": [
    "# 例如，对add通用函数调用reduce方法会返回数组中所有元素的和\n",
    "import numpy as np\n",
    "x = np.arange(1,6)\n",
    "np.add.reduce(x)"
   ]
  },
  {
   "cell_type": "code",
   "execution_count": 62,
   "metadata": {},
   "outputs": [
    {
     "data": {
      "text/plain": [
       "120"
      ]
     },
     "execution_count": 62,
     "metadata": {},
     "output_type": "execute_result"
    }
   ],
   "source": [
    "# 使用multiply通用函数调用reduce方法会返回数组中所有元素的乘积\n",
    "import numpy as np\n",
    "np.multiply.reduce(x)"
   ]
  },
  {
   "cell_type": "code",
   "execution_count": 64,
   "metadata": {},
   "outputs": [
    {
     "data": {
      "text/plain": [
       "array([ 1,  3,  6, 10, 15], dtype=int32)"
      ]
     },
     "execution_count": 64,
     "metadata": {},
     "output_type": "execute_result"
    }
   ],
   "source": [
    "# 如果要储存每次计算的中间结果，可以使用accumulate\n",
    "import numpy as np \n",
    "x = np.arange(1,6)\n",
    "np.add.accumulate(x)"
   ]
  },
  {
   "cell_type": "code",
   "execution_count": 65,
   "metadata": {},
   "outputs": [
    {
     "data": {
      "text/plain": [
       "array([  1,   2,   6,  24, 120], dtype=int32)"
      ]
     },
     "execution_count": 65,
     "metadata": {},
     "output_type": "execute_result"
    }
   ],
   "source": [
    "np.multiply.accumulate(x)\n",
    "\n",
    "# 请注意，在一些特殊情况中，NumPy提供了专用的函数\n",
    "#（np.sum、np.prod、np.cumsum、np.cumprod），\n",
    "# 它们也可以实现以上reduce的功能，这些函数将在2.4节中具体介绍。"
   ]
  },
  {
   "cell_type": "code",
   "execution_count": 67,
   "metadata": {},
   "outputs": [
    {
     "name": "stdout",
     "output_type": "stream",
     "text": [
      "[[ 1  2  3  4  5  6  7  8  9]\n",
      " [ 2  4  6  8 10 12 14 16 18]\n",
      " [ 3  6  9 12 15 18 21 24 27]\n",
      " [ 4  8 12 16 20 24 28 32 36]\n",
      " [ 5 10 15 20 25 30 35 40 45]\n",
      " [ 6 12 18 24 30 36 42 48 54]\n",
      " [ 7 14 21 28 35 42 49 56 63]\n",
      " [ 8 16 24 32 40 48 56 64 72]\n",
      " [ 9 18 27 36 45 54 63 72 81]]\n"
     ]
    }
   ],
   "source": [
    "# 外积\n",
    "# outer方法获得两个不同输入数组所有元素对的函数运算结果。\n",
    "# 这意味着你可以用一行代码实现一个乘法表\n",
    "\n",
    "import numpy as np\n",
    "x = np.arange(1,10)\n",
    "print(np.multiply.outer(x,x))"
   ]
  },
  {
   "cell_type": "markdown",
   "metadata": {},
   "source": [
    "#### 通用函数另外一个非常有用的特性是它能操作不同大小和形状的数组"
   ]
  },
  {
   "cell_type": "markdown",
   "metadata": {},
   "source": [
    "## 2.4　聚合：求和、最小值、最大值和其他值\n",
    "  - 当你面对大量的数据时，第一个步骤通常都是计算相关数据的概括统计值。最常用的概括统计值可能是均值和标准差，这两个值能让你分别概括出数据集中的“经典”值，但是其他一些形式的聚合也是非常有用的（如求和、乘积、中位数、最小值和最大值、分位数，等等）。\n",
    "    NumPy有非常快速的内置聚合函数可用于数组，我们将介绍其中的一些"
   ]
  },
  {
   "cell_type": "code",
   "execution_count": 68,
   "metadata": {},
   "outputs": [
    {
     "data": {
      "text/plain": [
       "47.32932774477038"
      ]
     },
     "execution_count": 68,
     "metadata": {},
     "output_type": "execute_result"
    }
   ],
   "source": [
    "# 数组的求和\n",
    "# 用python内置sum函数求和\n",
    "import numpy as np\n",
    "\n",
    "l = np.random.random(100)\n",
    "sum(l)"
   ]
  },
  {
   "cell_type": "code",
   "execution_count": 69,
   "metadata": {},
   "outputs": [
    {
     "data": {
      "text/plain": [
       "47.32932774477037"
      ]
     },
     "execution_count": 69,
     "metadata": {},
     "output_type": "execute_result"
    }
   ],
   "source": [
    "# 用numpy 数组的求和函数求和\n",
    "np.sum(l)\n",
    "\n",
    "# 但是需要注意，sum函数和np.sum函数并不等同，\n",
    "# 这有时会导致混淆。尤其是它们各自的可选参数都有不同的含义，\n",
    "# np.sum函数是知道数组的维度的，这一点将在接下来的部分讲解。"
   ]
  },
  {
   "cell_type": "code",
   "execution_count": 72,
   "metadata": {},
   "outputs": [
    {
     "name": "stdout",
     "output_type": "stream",
     "text": [
      "93\n",
      "99975\n"
     ]
    }
   ],
   "source": [
    "# 最Python也有内置的min函数和max函数，分别被用于获取给定数组的最小值和最大值\n",
    "import numpy as np\n",
    "np.random.seed(0)\n",
    "big_array = np.random.randint(0,100000,size=1000)\n",
    "print(min(big_array))\n",
    "print(max(big_array))\n"
   ]
  },
  {
   "cell_type": "code",
   "execution_count": 73,
   "metadata": {},
   "outputs": [
    {
     "name": "stdout",
     "output_type": "stream",
     "text": [
      "93\n",
      "99975\n"
     ]
    }
   ],
   "source": [
    "# Numpy 也有对应的函数，而且速度回更快\n",
    "print(np.min(big_array))\n",
    "print(np.max(big_array))"
   ]
  },
  {
   "cell_type": "code",
   "execution_count": 74,
   "metadata": {},
   "outputs": [
    {
     "name": "stdout",
     "output_type": "stream",
     "text": [
      "129 µs ± 5.05 µs per loop (mean ± std. dev. of 7 runs, 10000 loops each)\n",
      "8.82 µs ± 310 ns per loop (mean ± std. dev. of 7 runs, 100000 loops each)\n"
     ]
    }
   ],
   "source": [
    "% timeit min(big_array)\n",
    "% timeit np.min(big_array)"
   ]
  },
  {
   "cell_type": "markdown",
   "metadata": {},
   "source": [
    "#### 注意\n",
    "- 对于min、max、sum和其他NumPy聚合，\n",
    "- 一种更简洁的语法形式是数组对象直接调用这些方法"
   ]
  },
  {
   "cell_type": "code",
   "execution_count": 76,
   "metadata": {},
   "outputs": [
    {
     "name": "stdout",
     "output_type": "stream",
     "text": [
      "93\n",
      "99975\n",
      "51744878\n"
     ]
    }
   ],
   "source": [
    "import numpy as np\n",
    "np.random.seed(0)\n",
    "big_array = np.random.randint(0,100000,size=1000)\n",
    "print(big_array.min())\n",
    "print(big_array.max())\n",
    "print(big_array.sum())\n",
    "\n",
    "# 当你操作NumPy数组时，确保你执行的是NumPy版本的聚合。"
   ]
  },
  {
   "cell_type": "markdown",
   "metadata": {},
   "source": [
    "## 1. 多维度聚合\n",
    "- 一种常用的聚合操作是沿着一行或一列聚合。\n",
    "  例如，假设你有一些数据存储在二维数组中："
   ]
  },
  {
   "cell_type": "code",
   "execution_count": 77,
   "metadata": {
    "scrolled": false
   },
   "outputs": [
    {
     "name": "stdout",
     "output_type": "stream",
     "text": [
      "[[0.84815038 0.93583208 0.98342624 0.39980169]\n",
      " [0.38033518 0.14780868 0.68493444 0.65676196]\n",
      " [0.8620626  0.09725799 0.49777691 0.58108193]]\n"
     ]
    }
   ],
   "source": [
    "import numpy as np\n",
    "m = np.random.random((3,4))\n",
    "print(m)"
   ]
  },
  {
   "cell_type": "code",
   "execution_count": 78,
   "metadata": {},
   "outputs": [
    {
     "data": {
      "text/plain": [
       "7.0752300805344355"
      ]
     },
     "execution_count": 78,
     "metadata": {},
     "output_type": "execute_result"
    }
   ],
   "source": [
    "m.sum()"
   ]
  },
  {
   "cell_type": "markdown",
   "metadata": {},
   "source": [
    "#### 聚合函数还有一个参数，用于指定沿着哪个轴的方向进行\n",
    "\n",
    "#### 聚合。例如，可以通过指定axis=0找到每一列的最小值："
   ]
  },
  {
   "cell_type": "code",
   "execution_count": 79,
   "metadata": {},
   "outputs": [
    {
     "data": {
      "text/plain": [
       "array([0.38033518, 0.09725799, 0.49777691, 0.39980169])"
      ]
     },
     "execution_count": 79,
     "metadata": {},
     "output_type": "execute_result"
    }
   ],
   "source": [
    "# 找出列的最小值\n",
    "\n",
    "m.min(axis=0) "
   ]
  },
  {
   "cell_type": "code",
   "execution_count": 80,
   "metadata": {},
   "outputs": [
    {
     "data": {
      "text/plain": [
       "array([3.1672104 , 1.86984026, 2.03817943])"
      ]
     },
     "execution_count": 80,
     "metadata": {},
     "output_type": "execute_result"
    }
   ],
   "source": [
    "# 求得每一行元素的和\n",
    "\n",
    "m.sum(axis=1)"
   ]
  },
  {
   "cell_type": "markdown",
   "metadata": {},
   "source": [
    "## 其他聚合函数"
   ]
  },
  {
   "cell_type": "code",
   "execution_count": 1,
   "metadata": {},
   "outputs": [],
   "source": [
    "# 示例：美国总统的身高是多少\n",
    "\n",
    "# 用NumPy的聚合功能来概括一组数据非常有用。\n",
    "# 这里举一个简单的例子——计算所有美国总统的身高。\n",
    "# 这个数据在president_heights.csv文件中，\n",
    "# 是一个简单的用逗号分隔的标签和值的列表：\n",
    "\n",
    "# Pandas包来读文件并抽取身高信息"
   ]
  },
  {
   "cell_type": "code",
   "execution_count": 6,
   "metadata": {},
   "outputs": [
    {
     "name": "stdout",
     "output_type": "stream",
     "text": [
      "[189 170 189 163 183 171 185 168 173 183 173 173 175 178 183 193 178 173\n",
      " 174 183 183 168 170 178 182 180 183 178 182 188 175 179 183 193 182 183\n",
      " 177 185 188 188 182 185]\n",
      "Mean height:   179.73809523809524\n",
      "Standard deviation: 6.931843442745892\n",
      "Minimum height:  163\n",
      "Maximum height:  193\n"
     ]
    }
   ],
   "source": [
    "import pandas as pd\n",
    "import numpy as np\n",
    "\n",
    "data = pd.read_csv(\"./data/president_heights.csv\")\n",
    "heights = np.array(data['height(cm)'])\n",
    "print(heights)\n",
    "\n",
    "print(\"Mean height:  \",heights.mean())\n",
    "print(\"Standard deviation:\",heights.std())\n",
    "print(\"Minimum height: \",heights.min())\n",
    "print(\"Maximum height: \",heights.max())"
   ]
  },
  {
   "cell_type": "code",
   "execution_count": 7,
   "metadata": {},
   "outputs": [
    {
     "name": "stdout",
     "output_type": "stream",
     "text": [
      "25th percentile:  174.25\n",
      " Median:  182.0\n",
      "75 th percentile:  183.0\n"
     ]
    }
   ],
   "source": [
    "# 请注意，在这个例子中，聚合操作将整个数组缩减到单个概括值，\n",
    "# 这个概括值给出了这些数值的分布信息。我们也可以计算分位数：\n",
    "\n",
    "print(\"25th percentile: \",np.percentile(heights,25))\n",
    "# 中位数\n",
    "print(\"Median: \",np.median(heights))\n",
    "print(\"75 th percentile: \",np.percentile(heights,75))"
   ]
  },
  {
   "cell_type": "code",
   "execution_count": 14,
   "metadata": {},
   "outputs": [
    {
     "data": {
      "image/png": "[encoded data removed]",
      "text/plain": [
       "<Figure size 432x288 with 1 Axes>"
      ]
     },
     "metadata": {},
     "output_type": "display_data"
    }
   ],
   "source": [
    "%matplotlib inline\n",
    "import matplotlib.pyplot as plt\n",
    "import seaborn;seaborn.set() # 设置绘图风格\n",
    "\n",
    "plt.hist(heights)\n",
    "plt.title(\"Heighe Distribution of US Presidents\")\n",
    "plt.xlabel(\"height(cm)\")\n",
    "plt.ylabel(\"number\");"
   ]
  }
 ],
 "metadata": {
  "kernelspec": {
   "display_name": "Python 3",
   "language": "python",
   "name": "python3"
  },
  "language_info": {
   "codemirror_mode": {
    "name": "ipython",
    "version": 3
   },
   "file_extension": ".py",
   "mimetype": "text/x-python",
   "name": "python",
   "nbconvert_exporter": "python",
   "pygments_lexer": "ipython3",
   "version": "3.6.0"
  }
 },
 "nbformat": 4,
 "nbformat_minor": 2
}
