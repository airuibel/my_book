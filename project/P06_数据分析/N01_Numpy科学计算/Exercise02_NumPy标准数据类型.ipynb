{
 "cells": [
  {
   "cell_type": "code",
   "execution_count": 1,
   "metadata": {},
   "outputs": [
    {
     "data": {
      "text/plain": [
       "array([0, 0, 0, 0, 0, 0, 0, 0, 0, 0], dtype=int16)"
      ]
     },
     "execution_count": 1,
     "metadata": {},
     "output_type": "execute_result"
    }
   ],
   "source": [
    "# 构建数组时 可以用dtype制定数组的类型\n",
    "import numpy as np\n",
    "np.zeros(10, dtype='int16')"
   ]
  },
  {
   "cell_type": "markdown",
   "metadata": {},
   "source": [
    "\n",
    "\n",
    "### NumPy数组基础\n",
    "\n",
    "    数组的属性\n",
    "    确定数组的大小、形状、存储大小、数据类型。\n",
    "    \n",
    "    数组的索引\n",
    "    获取和设置数组各个元素的值。\n",
    "    \n",
    "    数组的切分\n",
    "    在大的数组中获取或设置更小的子数组。\n",
    "    \n",
    "    数组的变形\n",
    "    改变给定数组的形状。\n",
    "    \n",
    "    数组的拼接和分裂\n",
    "    将多个数组合并为一个，以及将一个数组分裂成多个。"
   ]
  },
  {
   "cell_type": "code",
   "execution_count": 10,
   "metadata": {},
   "outputs": [
    {
     "name": "stdout",
     "output_type": "stream",
     "text": [
      "[5 0 3 3 7 9]\n",
      "[[3 5 2 4]\n",
      " [7 6 8 8]\n",
      " [1 6 7 7]]\n",
      "[[[8 1 5 9 8]\n",
      "  [9 4 3 0 3]\n",
      "  [5 0 2 3 8]\n",
      "  [1 3 3 3 7]]\n",
      "\n",
      " [[0 1 9 9 0]\n",
      "  [4 7 3 2 7]\n",
      "  [2 0 0 4 5]\n",
      "  [5 6 8 4 1]]\n",
      "\n",
      " [[4 9 8 1 1]\n",
      "  [7 9 9 3 6]\n",
      "  [7 2 0 3 5]\n",
      "  [9 4 4 6 4]]]\n",
      "x3.shape :  (3, 4, 5)\n",
      "x3.size : 60\n",
      "x3.dtype : int32\n",
      "x3.itemsize: 4\n",
      "x3.nbytes: 240\n"
     ]
    }
   ],
   "source": [
    "# numpy 数组的属性\n",
    "# 用numpy的随机数组生成器生成一组种子值\n",
    "import numpy as np\n",
    "np.random.seed(0) # 设置随机数种子\n",
    "\n",
    "x1 = np.random.randint(10,size=6) # 一维数组\n",
    "x2 = np.random.randint(10,size=(3,4)) #二维数组\n",
    "x3 = np.random.randint(10,size=(3,4,5)) #三维数组\n",
    "\n",
    "print(x1)\n",
    "print(x2)\n",
    "print(x3)\n",
    "\n",
    "# 每个数组有nidm（数组的维度）、\n",
    "# shape（数组每个维度的大小）\n",
    "# 和size（数组的总大小）属性\n",
    "# dtype属性（数组的数据类型）\n",
    "# itemsize属性(每个数组元素字节大小)\n",
    "# nbytes属性 表示数组总字节大小的属性\n",
    "\n",
    "#print(\"x3.nidm : \",x3.nidm)\n",
    "print(\"x3.shape : \",x3.shape)\n",
    "print(\"x3.size :\",x3.size)\n",
    "print(\"x3.dtype :\",x3.dtype)\n",
    "print(\"x3.itemsize:\",x3.itemsize)\n",
    "print(\"x3.nbytes:\",x3.nbytes)"
   ]
  },
  {
   "cell_type": "markdown",
   "metadata": {},
   "source": [
    "### 2.2.2 数组索引：获取单个元素\n",
    "\n",
    "  - 和python列表的索引一样，numpy数组的索引也是通过中括号制定索引获取第i个值(从0开始计数)"
   ]
  },
  {
   "cell_type": "code",
   "execution_count": 11,
   "metadata": {},
   "outputs": [
    {
     "data": {
      "text/plain": [
       "array([5, 0, 3, 3, 7, 9])"
      ]
     },
     "execution_count": 11,
     "metadata": {},
     "output_type": "execute_result"
    }
   ],
   "source": [
    "x1"
   ]
  },
  {
   "cell_type": "code",
   "execution_count": 12,
   "metadata": {},
   "outputs": [
    {
     "data": {
      "text/plain": [
       "5"
      ]
     },
     "execution_count": 12,
     "metadata": {},
     "output_type": "execute_result"
    }
   ],
   "source": [
    "x1[0]"
   ]
  },
  {
   "cell_type": "code",
   "execution_count": 15,
   "metadata": {},
   "outputs": [
    {
     "data": {
      "text/plain": [
       "array([0, 3])"
      ]
     },
     "execution_count": 15,
     "metadata": {},
     "output_type": "execute_result"
    }
   ],
   "source": [
    "x1[1:-1:2]"
   ]
  },
  {
   "cell_type": "code",
   "execution_count": 17,
   "metadata": {},
   "outputs": [
    {
     "data": {
      "text/plain": [
       "array([9, 7, 3, 3, 0, 5])"
      ]
     },
     "execution_count": 17,
     "metadata": {},
     "output_type": "execute_result"
    }
   ],
   "source": [
    "x1[::-1]"
   ]
  },
  {
   "cell_type": "code",
   "execution_count": 18,
   "metadata": {},
   "outputs": [
    {
     "data": {
      "text/plain": [
       "array([[3, 5, 2, 4],\n",
       "       [7, 6, 8, 8],\n",
       "       [1, 6, 7, 7]])"
      ]
     },
     "execution_count": 18,
     "metadata": {},
     "output_type": "execute_result"
    }
   ],
   "source": [
    "# 在多维数组中，可以用逗号分隔的索引元组获取元素\n",
    "\n",
    "x2"
   ]
  },
  {
   "cell_type": "code",
   "execution_count": 20,
   "metadata": {},
   "outputs": [
    {
     "data": {
      "text/plain": [
       "3"
      ]
     },
     "execution_count": 20,
     "metadata": {},
     "output_type": "execute_result"
    }
   ],
   "source": [
    "x2[0,0]"
   ]
  },
  {
   "cell_type": "code",
   "execution_count": 21,
   "metadata": {},
   "outputs": [
    {
     "data": {
      "text/plain": [
       "array([1, 6, 7, 7])"
      ]
     },
     "execution_count": 21,
     "metadata": {},
     "output_type": "execute_result"
    }
   ],
   "source": [
    "x2[2,:]"
   ]
  },
  {
   "cell_type": "code",
   "execution_count": 22,
   "metadata": {},
   "outputs": [
    {
     "data": {
      "text/plain": [
       "array([4, 8, 7])"
      ]
     },
     "execution_count": 22,
     "metadata": {},
     "output_type": "execute_result"
    }
   ],
   "source": [
    "x2[:,3]"
   ]
  },
  {
   "cell_type": "code",
   "execution_count": 24,
   "metadata": {},
   "outputs": [
    {
     "data": {
      "text/plain": [
       "array([[7, 5, 2, 4],\n",
       "       [7, 6, 8, 8],\n",
       "       [1, 6, 7, 7]])"
      ]
     },
     "execution_count": 24,
     "metadata": {},
     "output_type": "execute_result"
    }
   ],
   "source": [
    "# 也可以用索引修改元素的值\n",
    "\n",
    "x2[0,0] = 7\n",
    "x2\n",
    "\n",
    "# 注意，和Python列表不同，NumPy数组是固定类型的。\n",
    "# 这意味着当你试图将一个浮点值插入一个整型数组时，\n",
    "# 浮点值会被截短成整型。并且这种截短是自动完成的，\n",
    "# 不会给你提示或警告，所以需要特别注意这一点！"
   ]
  },
  {
   "cell_type": "code",
   "execution_count": 25,
   "metadata": {},
   "outputs": [
    {
     "data": {
      "text/plain": [
       "array([[7, 5, 2, 4],\n",
       "       [7, 6, 8, 8],\n",
       "       [1, 6, 0, 7]])"
      ]
     },
     "execution_count": 25,
     "metadata": {},
     "output_type": "execute_result"
    }
   ],
   "source": [
    "x2[2,2] = 0.1\n",
    "x2"
   ]
  },
  {
   "cell_type": "markdown",
   "metadata": {},
   "source": [
    "### 数组切片：获取子数组\n",
    "\n",
    "    正如此前用中括号获取单个数组元素，我们也可以用切片（slice）符号获取子数组，切片符号用冒号（:）表示。NumPy切片语法和Python列表的标准切片语法相同。为了获取数组x的一个切片，可以用以下方式：\n",
    "    \n",
    "    x[start:stop:step]\n",
    "    \n",
    "    如果以上3个参数都未指定，那么它们会被分别设置默认值start=0、stop=维度的大小（size of dimension）和step=1"
   ]
  },
  {
   "cell_type": "code",
   "execution_count": 26,
   "metadata": {},
   "outputs": [
    {
     "data": {
      "text/plain": [
       "array([5, 0, 3, 3, 7, 9, 3, 5, 2, 4])"
      ]
     },
     "execution_count": 26,
     "metadata": {},
     "output_type": "execute_result"
    }
   ],
   "source": [
    "# 一维子数组\n",
    "import numpy as np\n",
    "np.random.seed(1)\n",
    "\n",
    "x1 = np.random.randint(10,size = 10)\n",
    "x1"
   ]
  },
  {
   "cell_type": "code",
   "execution_count": 27,
   "metadata": {},
   "outputs": [
    {
     "data": {
      "text/plain": [
       "array([5, 0, 3, 3, 7])"
      ]
     },
     "execution_count": 27,
     "metadata": {},
     "output_type": "execute_result"
    }
   ],
   "source": [
    "# 前五个元素\n",
    "x1[:5]"
   ]
  },
  {
   "cell_type": "code",
   "execution_count": 28,
   "metadata": {},
   "outputs": [
    {
     "data": {
      "text/plain": [
       "array([9, 3, 5, 2, 4])"
      ]
     },
     "execution_count": 28,
     "metadata": {},
     "output_type": "execute_result"
    }
   ],
   "source": [
    "# 索引5之后的元素\n",
    "x1[5:]"
   ]
  },
  {
   "cell_type": "code",
   "execution_count": 29,
   "metadata": {},
   "outputs": [
    {
     "data": {
      "text/plain": [
       "array([7, 9, 3])"
      ]
     },
     "execution_count": 29,
     "metadata": {},
     "output_type": "execute_result"
    }
   ],
   "source": [
    "# 中间的子数组\n",
    "x1[4:7]"
   ]
  },
  {
   "cell_type": "code",
   "execution_count": 30,
   "metadata": {},
   "outputs": [
    {
     "data": {
      "text/plain": [
       "array([5, 3, 7, 3, 2])"
      ]
     },
     "execution_count": 30,
     "metadata": {},
     "output_type": "execute_result"
    }
   ],
   "source": [
    "# 每隔一个元素\n",
    "x1[::2]"
   ]
  },
  {
   "cell_type": "code",
   "execution_count": 32,
   "metadata": {},
   "outputs": [
    {
     "name": "stdout",
     "output_type": "stream",
     "text": [
      "[5 0 3 3 7 9 3 5 2 4]\n",
      "[4 2 5 3 9 7 3 3 0 5]\n"
     ]
    }
   ],
   "source": [
    "# 逆序数组的方式\n",
    "\n",
    "print(x1)\n",
    "print(x1[::-1])"
   ]
  },
  {
   "cell_type": "code",
   "execution_count": 33,
   "metadata": {},
   "outputs": [
    {
     "data": {
      "text/plain": [
       "array([9, 3, 0])"
      ]
     },
     "execution_count": 33,
     "metadata": {},
     "output_type": "execute_result"
    }
   ],
   "source": [
    "# 从索引5开始每隔一个元素逆序\n",
    "\n",
    "x1[5::-2]"
   ]
  },
  {
   "cell_type": "code",
   "execution_count": 34,
   "metadata": {},
   "outputs": [
    {
     "data": {
      "text/plain": [
       "array([[5, 8, 9, 5],\n",
       "       [0, 0, 1, 7],\n",
       "       [6, 9, 2, 4]])"
      ]
     },
     "execution_count": 34,
     "metadata": {},
     "output_type": "execute_result"
    }
   ],
   "source": [
    "# 多维子数组的切片\n",
    "\n",
    "# 多维切片也采用同样的方式处理，用冒号分隔\n",
    "\n",
    "import numpy as np\n",
    "np.random.seed(2)\n",
    "x2 = np.random.randint(10,size=(3,4))\n",
    "x2"
   ]
  },
  {
   "cell_type": "code",
   "execution_count": 35,
   "metadata": {},
   "outputs": [
    {
     "data": {
      "text/plain": [
       "array([[5, 8, 9],\n",
       "       [0, 0, 1]])"
      ]
     },
     "execution_count": 35,
     "metadata": {},
     "output_type": "execute_result"
    }
   ],
   "source": [
    "# 两行，三列\n",
    "x2[:2,:3]"
   ]
  },
  {
   "cell_type": "code",
   "execution_count": 36,
   "metadata": {},
   "outputs": [
    {
     "data": {
      "text/plain": [
       "array([[5, 9],\n",
       "       [0, 1],\n",
       "       [6, 2]])"
      ]
     },
     "execution_count": 36,
     "metadata": {},
     "output_type": "execute_result"
    }
   ],
   "source": [
    "# 所有行，每隔一列\n",
    "x2[:,::2]"
   ]
  },
  {
   "cell_type": "code",
   "execution_count": 38,
   "metadata": {},
   "outputs": [
    {
     "name": "stdout",
     "output_type": "stream",
     "text": [
      "[[5 8 9 5]\n",
      " [0 0 1 7]\n",
      " [6 9 2 4]]\n",
      "[[4 2 9 6]\n",
      " [7 1 0 0]\n",
      " [5 9 8 5]]\n"
     ]
    }
   ],
   "source": [
    "# 子数组维度也可以同时被逆序\n",
    "print(x2)\n",
    "print(x2[::-1,::-1])"
   ]
  },
  {
   "cell_type": "code",
   "execution_count": 39,
   "metadata": {},
   "outputs": [
    {
     "data": {
      "text/plain": [
       "array([5, 0, 6])"
      ]
     },
     "execution_count": 39,
     "metadata": {},
     "output_type": "execute_result"
    }
   ],
   "source": [
    "# 获取数组的行和列\n",
    "# 一种常见的需求是获取数组的单行和单列。你可以将索引与切片组合起来实现这个功能，\n",
    "# 用一个冒号（:）表示空切片\n",
    "\n",
    "# 获取数组的第一列\n",
    "x2[:,0] "
   ]
  },
  {
   "cell_type": "code",
   "execution_count": 41,
   "metadata": {},
   "outputs": [
    {
     "data": {
      "text/plain": [
       "array([6, 9, 2, 4])"
      ]
     },
     "execution_count": 41,
     "metadata": {},
     "output_type": "execute_result"
    }
   ],
   "source": [
    "# 获取数组的第三行\n",
    "\n",
    "x2[2,:]"
   ]
  },
  {
   "cell_type": "code",
   "execution_count": 43,
   "metadata": {},
   "outputs": [
    {
     "data": {
      "text/plain": [
       "array([6, 9, 2, 4])"
      ]
     },
     "execution_count": 43,
     "metadata": {},
     "output_type": "execute_result"
    }
   ],
   "source": [
    "# 在获取行时，出于语法的简介考虑，可以省略空的切片：\n",
    "\n",
    "x2[2]"
   ]
  },
  {
   "cell_type": "code",
   "execution_count": 47,
   "metadata": {},
   "outputs": [
    {
     "name": "stdout",
     "output_type": "stream",
     "text": [
      "[[5 8 9 5]\n",
      " [0 0 1 7]\n",
      " [6 9 2 4]]\n",
      "[[8 9]\n",
      " [0 1]]\n"
     ]
    }
   ],
   "source": [
    "# 4. 非副本视图的子数组\n",
    "# 关于数组切片有一点很重要也非常有用，那就是数组切片返回的是数组数据的视图，\n",
    "# \\而不是数值数据的副本。这一点也是NumPy数组切片和Python列表切片的不同之处：\n",
    "# 在Python列表中，切片是值的副本。例如此前示例中的那个二维数组：\n",
    "\n",
    "print(x2)\n",
    "\n",
    "x2_sub = x2[0:2,1:3]\n",
    "print(x2_sub)"
   ]
  },
  {
   "cell_type": "code",
   "execution_count": 48,
   "metadata": {},
   "outputs": [
    {
     "name": "stdout",
     "output_type": "stream",
     "text": [
      "[[5 1 9 5]\n",
      " [0 0 1 7]\n",
      " [6 9 2 4]]\n"
     ]
    }
   ],
   "source": [
    "# 现在如果修改这个子数组，将会看到原始数组也被修改了！\n",
    "\n",
    "x2_sub[0,0] = 1\n",
    "\n",
    "print(x2)\n",
    "\n",
    "# 这种默认的处理方式实际上非常有用：它意味着在处理非常大的数据集时，\n",
    "# 可以获取或处理这些数据集的片段，而不用复制底层的数据缓存。"
   ]
  },
  {
   "cell_type": "markdown",
   "metadata": {},
   "source": [
    "#### 5. 创建数组的副本\n",
    "    \n",
    "    尽管数组视图有一些非常好的特性，但是在有些时候明确地复制数组里的数据或子数组也是非常有用的。可以很简单地通过copy()方法实现"
   ]
  },
  {
   "cell_type": "code",
   "execution_count": 50,
   "metadata": {},
   "outputs": [
    {
     "name": "stdout",
     "output_type": "stream",
     "text": [
      "[[1 9]\n",
      " [0 1]]\n",
      "[[5 1 9 5]\n",
      " [0 0 1 7]\n",
      " [6 9 2 4]]\n",
      "[[3 9]\n",
      " [0 1]]\n"
     ]
    }
   ],
   "source": [
    "x2_sub_copy = x2[:2,1:3].copy()\n",
    "\n",
    "print(x2_sub_copy)\n",
    "\n",
    "x2_sub_copy[0,0] = 3\n",
    "\n",
    "print(x2)\n",
    "\n",
    "print(x2_sub_copy)\n",
    "# 如果修改这个子数组，原始的数组不会被改变："
   ]
  },
  {
   "cell_type": "markdown",
   "metadata": {},
   "source": [
    "## 数组的变形\n",
    "\n",
    "- 另一个有用的操作类型是数组的变形。数组变形最灵活的实现方式\n",
    "\n",
    "- 是通过reshape()函数来实现"
   ]
  },
  {
   "cell_type": "code",
   "execution_count": 1,
   "metadata": {},
   "outputs": [
    {
     "data": {
      "text/plain": [
       "array([[0, 1, 2],\n",
       "       [3, 4, 5],\n",
       "       [6, 7, 8]])"
      ]
     },
     "execution_count": 1,
     "metadata": {},
     "output_type": "execute_result"
    }
   ],
   "source": [
    "# 如果你希望将数字1~9放入一个3×3的矩阵中\n",
    "import numpy as np\n",
    "np.arange(9).reshape((3,3))"
   ]
  },
  {
   "cell_type": "code",
   "execution_count": 2,
   "metadata": {},
   "outputs": [
    {
     "name": "stdout",
     "output_type": "stream",
     "text": [
      "[[1 2 3]]\n"
     ]
    }
   ],
   "source": [
    "# 将一位数组转变成二维的行或列\n",
    "import numpy as np\n",
    "arr = np.array([1,2,3])\n",
    "arr = arr.reshape((1,3))\n",
    "print(arr)"
   ]
  },
  {
   "cell_type": "code",
   "execution_count": 5,
   "metadata": {},
   "outputs": [
    {
     "data": {
      "text/plain": [
       "array([[[1, 2, 3]]])"
      ]
     },
     "execution_count": 5,
     "metadata": {},
     "output_type": "execute_result"
    }
   ],
   "source": [
    "# 通过newaxis获得的行向量\n",
    "import numpy as np\n",
    "arr[np.newaxis,:]"
   ]
  },
  {
   "cell_type": "code",
   "execution_count": 6,
   "metadata": {},
   "outputs": [
    {
     "data": {
      "text/plain": [
       "array([[1],\n",
       "       [2],\n",
       "       [3]])"
      ]
     },
     "execution_count": 6,
     "metadata": {},
     "output_type": "execute_result"
    }
   ],
   "source": [
    "# 通过变形获得的列向量\n",
    "\n",
    "import numpy as np\n",
    "\n",
    "arr.reshape((3,1))"
   ]
  },
  {
   "cell_type": "code",
   "execution_count": 7,
   "metadata": {},
   "outputs": [
    {
     "data": {
      "text/plain": [
       "array([[[1, 2, 3]]])"
      ]
     },
     "execution_count": 7,
     "metadata": {},
     "output_type": "execute_result"
    }
   ],
   "source": [
    "# 通过newaxis获得的列向量\n",
    "import numpy as np\n",
    "arr[:, np.newaxis]"
   ]
  },
  {
   "cell_type": "markdown",
   "metadata": {},
   "source": [
    "### 数组的拼接和分裂\n",
    "\n",
    "\n",
    "1. 数组的拼接\n",
    "   拼接或连接NumPy中的两个数组主要由np.concatenate、            np.vstack和np.hstack例程实现。\n",
    "   np.concatenate将数组元组或数组列表作为第一个参数"
   ]
  },
  {
   "cell_type": "code",
   "execution_count": 8,
   "metadata": {},
   "outputs": [
    {
     "data": {
      "text/plain": [
       "array([1, 2, 3, 4, 5, 6])"
      ]
     },
     "execution_count": 8,
     "metadata": {},
     "output_type": "execute_result"
    }
   ],
   "source": [
    "import numpy as np\n",
    "\n",
    "x = np.array([1,2,3])\n",
    "y = np.array([4,5,6])\n",
    "\n",
    "np.concatenate([x,y])"
   ]
  },
  {
   "cell_type": "code",
   "execution_count": 10,
   "metadata": {},
   "outputs": [
    {
     "data": {
      "text/plain": [
       "array([1, 2, 3, 4, 5, 6, 7, 8, 9])"
      ]
     },
     "execution_count": 10,
     "metadata": {},
     "output_type": "execute_result"
    }
   ],
   "source": [
    "# 也可一次性拼接两个以上的数组\n",
    "z = np.array([7,8,9])\n",
    "\n",
    "np.concatenate([x,y,z])"
   ]
  },
  {
   "cell_type": "code",
   "execution_count": 12,
   "metadata": {},
   "outputs": [
    {
     "data": {
      "text/plain": [
       "array([[0, 1, 2],\n",
       "       [3, 4, 5],\n",
       "       [0, 1, 2],\n",
       "       [3, 4, 5]])"
      ]
     },
     "execution_count": 12,
     "metadata": {},
     "output_type": "execute_result"
    }
   ],
   "source": [
    "# concatenate 也可用于二维数组的拼接\n",
    "# 沿一个轴拼接\n",
    "import numpy as np \n",
    "a = np.arange(6).reshape((2,3))\n",
    "np.concatenate([a,a])"
   ]
  },
  {
   "cell_type": "code",
   "execution_count": 14,
   "metadata": {},
   "outputs": [
    {
     "data": {
      "text/plain": [
       "array([[0, 1, 2, 0, 1, 2],\n",
       "       [3, 4, 5, 3, 4, 5]])"
      ]
     },
     "execution_count": 14,
     "metadata": {},
     "output_type": "execute_result"
    }
   ],
   "source": [
    "# 沿第二个轴拼接\n",
    "\n",
    "import numpy as np \n",
    "a = np.arange(6).reshape((2,3))\n",
    "np.concatenate([a,a],axis=1)"
   ]
  },
  {
   "cell_type": "code",
   "execution_count": 18,
   "metadata": {},
   "outputs": [
    {
     "data": {
      "text/plain": [
       "array([[1, 2, 3],\n",
       "       [4, 5, 6],\n",
       "       [7, 8, 9]])"
      ]
     },
     "execution_count": 18,
     "metadata": {},
     "output_type": "execute_result"
    }
   ],
   "source": [
    "#沿着固定维度处理数组时，使用np.vstack（垂直栈）和np.hstack（水平栈）函数会更简洁：\n",
    "import numpy as np\n",
    "x = np.array([1,2,3])\n",
    "y = np.arange(4,10).reshape(2,3)\n",
    "np.vstack([x,y])\n",
    "# 垂直栈数组"
   ]
  },
  {
   "cell_type": "code",
   "execution_count": 31,
   "metadata": {},
   "outputs": [
    {
     "name": "stdout",
     "output_type": "stream",
     "text": [
      "[[4 5 6]\n",
      " [7 8 9]]\n"
     ]
    },
    {
     "data": {
      "text/plain": [
       "array([[4, 5, 6, 0, 4],\n",
       "       [7, 8, 9, 1, 3]])"
      ]
     },
     "execution_count": 31,
     "metadata": {},
     "output_type": "execute_result"
    }
   ],
   "source": [
    "import numpy as np\n",
    "z = np.random.randint(5,size=(2,2))\n",
    "print(y)\n",
    "np.hstack([y,z])\n",
    "# 水平栈数组"
   ]
  },
  {
   "cell_type": "markdown",
   "metadata": {},
   "source": [
    "\n",
    "\n",
    "\n",
    "#### 数组的分裂\n",
    "\n",
    "与拼接相反的过程是分裂。分裂可以通过np.split、np.hsplit和\n",
    "\n",
    "np.vsplit函数来实现。可以向以上函数传递一个索引列表作为参\n",
    "\n",
    "数，索引列表记录的是分裂点位置："
   ]
  },
  {
   "cell_type": "code",
   "execution_count": 27,
   "metadata": {},
   "outputs": [
    {
     "name": "stdout",
     "output_type": "stream",
     "text": [
      "[8 5 4] [0 2] [7 4 9]\n"
     ]
    }
   ],
   "source": [
    "import numpy as np\n",
    "\n",
    "x = np.random.randint(10,size = 8)\n",
    "x1,x2,x3 = np.split(x,[3,5])\n",
    "print(x1,x2,x3)\n",
    "\n",
    "# 值得注意的是，N分裂点会得到N+1个子数组。\n",
    "# 相关的np.hsplit和np.vsplit的用法也类似"
   ]
  },
  {
   "cell_type": "code",
   "execution_count": 29,
   "metadata": {},
   "outputs": [
    {
     "name": "stdout",
     "output_type": "stream",
     "text": [
      "[[0 1 2 3]\n",
      " [4 5 6 7]]\n",
      "[[ 8  9 10 11]\n",
      " [12 13 14 15]]\n"
     ]
    }
   ],
   "source": [
    "# 垂直方向风烈\n",
    "x = np.arange(16).reshape((4,4))\n",
    "upper,lower = np.vsplit(x,[2])\n",
    "print(upper)\n",
    "\n",
    "print(lower)"
   ]
  },
  {
   "cell_type": "code",
   "execution_count": 30,
   "metadata": {},
   "outputs": [
    {
     "name": "stdout",
     "output_type": "stream",
     "text": [
      "[[ 0  1]\n",
      " [ 4  5]\n",
      " [ 8  9]\n",
      " [12 13]]\n",
      "[[ 2  3]\n",
      " [ 6  7]\n",
      " [10 11]\n",
      " [14 15]]\n"
     ]
    }
   ],
   "source": [
    "# 水平方向分裂\n",
    "lift,right = np.hsplit(x,[2])\n",
    "print(lift)\n",
    "print(right)"
   ]
  },
  {
   "cell_type": "code",
   "execution_count": null,
   "metadata": {},
   "outputs": [],
   "source": [
    "# 同样，np.dsplit将数组沿着第三个维度分裂"
   ]
  }
 ],
 "metadata": {
  "kernelspec": {
   "display_name": "Python 3",
   "language": "python",
   "name": "python3"
  },
  "language_info": {
   "codemirror_mode": {
    "name": "ipython",
    "version": 3
   },
   "file_extension": ".py",
   "mimetype": "text/x-python",
   "name": "python",
   "nbconvert_exporter": "python",
   "pygments_lexer": "ipython3",
   "version": "3.6.0"
  }
 },
 "nbformat": 4,
 "nbformat_minor": 2
}
