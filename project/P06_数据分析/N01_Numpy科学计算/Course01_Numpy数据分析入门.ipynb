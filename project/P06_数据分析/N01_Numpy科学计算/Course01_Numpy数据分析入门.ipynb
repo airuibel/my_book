{
 "cells": [
  {
   "cell_type": "markdown",
   "metadata": {},
   "source": [
    "## Numpy基础\n",
    "    \n",
    "    NumPy（Numerical Python的缩写）是一个开源的Python科学计算库。使用NumPy，就可以\n",
    "    很自然地使用数组和矩阵。NumPy包含很多实用的数学函数，涵盖线性代数运算、傅里叶变换和\n",
    "    随机数生成等功能。如果你的系统中已经装有LAPACK，NumPy的线性代数模块会调用它，否则\n",
    "    NumPy将使用自己实现的库函数。\n",
    "    \n",
    "  - 提供常用的数值数组、矩阵等函数\n",
    "  - 优点：\n",
    "    n 是基于向量化的运算\n",
    "    n 进行数值运算时Numpy数组比list效率高"
   ]
  },
  {
   "cell_type": "code",
   "execution_count": 1,
   "metadata": {},
   "outputs": [
    {
     "data": {
      "text/plain": [
       "array([1, 2, 3, 4, 5])"
      ]
     },
     "execution_count": 1,
     "metadata": {},
     "output_type": "execute_result"
    }
   ],
   "source": [
    "# 创建数组\n",
    "import numpy as np\n",
    "np.array([1,2,3,4,5])"
   ]
  },
  {
   "cell_type": "code",
   "execution_count": 4,
   "metadata": {},
   "outputs": [
    {
     "data": {
      "text/plain": [
       "array([ 3.14,  5.6 ,  8.  , 10.  ])"
      ]
     },
     "execution_count": 4,
     "metadata": {},
     "output_type": "execute_result"
    }
   ],
   "source": [
    "import numpy as np \n",
    "np.array([3.14,5.6,8,10])"
   ]
  },
  {
   "cell_type": "code",
   "execution_count": 6,
   "metadata": {},
   "outputs": [
    {
     "data": {
      "text/plain": [
       "array([1., 2., 3., 4.], dtype=float32)"
      ]
     },
     "execution_count": 6,
     "metadata": {},
     "output_type": "execute_result"
    }
   ],
   "source": [
    "# 可以使用dtype设置数组的数据类型\n",
    "import numpy as np \n",
    "np.array([1, 2, 3, 4], dtype='float32')"
   ]
  },
  {
   "cell_type": "code",
   "execution_count": 8,
   "metadata": {},
   "outputs": [
    {
     "data": {
      "text/plain": [
       "array([[2, 3, 4],\n",
       "       [4, 5, 6],\n",
       "       [6, 7, 8]])"
      ]
     },
     "execution_count": 8,
     "metadata": {},
     "output_type": "execute_result"
    }
   ],
   "source": [
    "# 嵌套列表构成多维数组\n",
    "import numpy as np\n",
    "np.array([range(i, i + 3) for i in [2, 4, 6]])\n",
    "#内层的列表被当作二维数组的行"
   ]
  },
  {
   "cell_type": "code",
   "execution_count": 9,
   "metadata": {},
   "outputs": [
    {
     "data": {
      "text/plain": [
       "array([0, 0, 0, 0, 0, 0, 0, 0, 0, 0])"
      ]
     },
     "execution_count": 9,
     "metadata": {},
     "output_type": "execute_result"
    }
   ],
   "source": [
    "# 创建一个长度为10的数组，数组的值都是0\n",
    "np.zeros(10, dtype=int)"
   ]
  },
  {
   "cell_type": "code",
   "execution_count": 10,
   "metadata": {},
   "outputs": [
    {
     "data": {
      "text/plain": [
       "array([[1., 1., 1., 1., 1.],\n",
       "       [1., 1., 1., 1., 1.],\n",
       "       [1., 1., 1., 1., 1.]])"
      ]
     },
     "execution_count": 10,
     "metadata": {},
     "output_type": "execute_result"
    }
   ],
   "source": [
    "# 创建一个3×5的浮点型数组，数组的值都是1\n",
    "np.ones((3, 5), dtype=float)"
   ]
  },
  {
   "cell_type": "code",
   "execution_count": 5,
   "metadata": {},
   "outputs": [
    {
     "data": {
      "text/plain": [
       "array([ 0,  1,  4,  9, 16, 25, 36, 49, 64, 81], dtype=int32)"
      ]
     },
     "execution_count": 5,
     "metadata": {},
     "output_type": "execute_result"
    }
   ],
   "source": [
    "import numpy as np\n",
    "a = np.arange(10)\n",
    "a ** 2"
   ]
  },
  {
   "cell_type": "markdown",
   "metadata": {},
   "source": [
    "## Scipy\n",
    "\n",
    "    Scipy是一种使用NumPy来做高等数学、信号处理、\n",
    "    优化、统计的扩展包 http://docs.scipy.org/doc/\n",
    "    n Linear Algebra (scipy.linalg)\n",
    "    n Statistics (scipy.stats)\n",
    "    n Spatial data structures and algorithms (scipy.spatial)"
   ]
  },
  {
   "cell_type": "code",
   "execution_count": 8,
   "metadata": {},
   "outputs": [
    {
     "data": {
      "text/plain": [
       "-2.0"
      ]
     },
     "execution_count": 8,
     "metadata": {},
     "output_type": "execute_result"
    }
   ],
   "source": [
    "import numpy as np\n",
    "from scipy import linalg\n",
    "a = np.array([[1,2],[3,4]])\n",
    "a\n",
    "linalg.det(a)"
   ]
  },
  {
   "cell_type": "markdown",
   "metadata": {},
   "source": [
    "## Pandas\n",
    "\n",
    "    是一种构建于Numpy的高级数据结构和精巧\n",
    "    工具，快速简单的处理数据。\n",
    "    n 支持自动或明确的数据对齐的带有标签轴的数据结构。\n",
    "    n 整合的时间序列功能。\n",
    "    n 以相同的数据结构来处理时间序列和非时间序列。\n",
    "    n 支持传递元数据（坐标轴标签）的算术运算和缩减。\n",
    "    n 灵活处理丢失数据。\n",
    "    n 在常用的基于数据的数据库（例如基于SQL）中的合并\n",
    "    和其它关系操作。\n",
    "- 数据结构：Series和DataFrame"
   ]
  },
  {
   "cell_type": "code",
   "execution_count": 9,
   "metadata": {},
   "outputs": [
    {
     "data": {
      "text/plain": [
       "0    1.0\n",
       "1    3.0\n",
       "2    5.0\n",
       "3    NaN\n",
       "4    6.0\n",
       "5    8.0\n",
       "dtype: float64"
      ]
     },
     "execution_count": 9,
     "metadata": {},
     "output_type": "execute_result"
    }
   ],
   "source": [
    "import pandas as pd\n",
    "import numpy as np\n",
    "s = pd.Series([1,3,5,np.nan,6,8])\n",
    "s"
   ]
  },
  {
   "cell_type": "code",
   "execution_count": 13,
   "metadata": {},
   "outputs": [
    {
     "data": {
      "text/plain": [
       "DatetimeIndex(['2018-01-01', '2018-01-02', '2018-01-03', '2018-01-04',\n",
       "               '2018-01-05', '2018-01-06'],\n",
       "              dtype='datetime64[ns]', freq='D')"
      ]
     },
     "execution_count": 13,
     "metadata": {},
     "output_type": "execute_result"
    }
   ],
   "source": [
    "dates = pd.date_range('20180101',periods=6)\n",
    "dates"
   ]
  },
  {
   "cell_type": "code",
   "execution_count": 15,
   "metadata": {
    "scrolled": true
   },
   "outputs": [
    {
     "data": {
      "text/html": [
       "<div>\n",
       "<style scoped>\n",
       "    .dataframe tbody tr th:only-of-type {\n",
       "        vertical-align: middle;\n",
       "    }\n",
       "\n",
       "    .dataframe tbody tr th {\n",
       "        vertical-align: top;\n",
       "    }\n",
       "\n",
       "    .dataframe thead th {\n",
       "        text-align: right;\n",
       "    }\n",
       "</style>\n",
       "<table border=\"1\" class=\"dataframe\">\n",
       "  <thead>\n",
       "    <tr style=\"text-align: right;\">\n",
       "      <th></th>\n",
       "      <th>A</th>\n",
       "      <th>B</th>\n",
       "      <th>C</th>\n",
       "      <th>D</th>\n",
       "    </tr>\n",
       "  </thead>\n",
       "  <tbody>\n",
       "    <tr>\n",
       "      <th>2018-01-01</th>\n",
       "      <td>0.266127</td>\n",
       "      <td>1.087944</td>\n",
       "      <td>-0.106952</td>\n",
       "      <td>0.500565</td>\n",
       "    </tr>\n",
       "    <tr>\n",
       "      <th>2018-01-02</th>\n",
       "      <td>3.451566</td>\n",
       "      <td>-0.020324</td>\n",
       "      <td>1.471786</td>\n",
       "      <td>-0.135563</td>\n",
       "    </tr>\n",
       "    <tr>\n",
       "      <th>2018-01-03</th>\n",
       "      <td>1.844101</td>\n",
       "      <td>-2.048420</td>\n",
       "      <td>-0.174605</td>\n",
       "      <td>-1.194265</td>\n",
       "    </tr>\n",
       "    <tr>\n",
       "      <th>2018-01-04</th>\n",
       "      <td>0.230503</td>\n",
       "      <td>-1.513001</td>\n",
       "      <td>0.475316</td>\n",
       "      <td>-0.854533</td>\n",
       "    </tr>\n",
       "    <tr>\n",
       "      <th>2018-01-05</th>\n",
       "      <td>0.342771</td>\n",
       "      <td>1.488550</td>\n",
       "      <td>-0.460304</td>\n",
       "      <td>-0.971248</td>\n",
       "    </tr>\n",
       "    <tr>\n",
       "      <th>2018-01-06</th>\n",
       "      <td>-1.039952</td>\n",
       "      <td>-0.554872</td>\n",
       "      <td>-1.355017</td>\n",
       "      <td>0.473632</td>\n",
       "    </tr>\n",
       "  </tbody>\n",
       "</table>\n",
       "</div>"
      ],
      "text/plain": [
       "                   A         B         C         D\n",
       "2018-01-01  0.266127  1.087944 -0.106952  0.500565\n",
       "2018-01-02  3.451566 -0.020324  1.471786 -0.135563\n",
       "2018-01-03  1.844101 -2.048420 -0.174605 -1.194265\n",
       "2018-01-04  0.230503 -1.513001  0.475316 -0.854533\n",
       "2018-01-05  0.342771  1.488550 -0.460304 -0.971248\n",
       "2018-01-06 -1.039952 -0.554872 -1.355017  0.473632"
      ]
     },
     "execution_count": 15,
     "metadata": {},
     "output_type": "execute_result"
    }
   ],
   "source": [
    "df = pd.DataFrame(np.random.randn(6,4),index=dates,columns=list('ABCD'))\n",
    "df"
   ]
  },
  {
   "cell_type": "code",
   "execution_count": 16,
   "metadata": {},
   "outputs": [
    {
     "name": "stdout",
     "output_type": "stream",
     "text": [
      "DatetimeIndex(['2018-09-15', '2018-09-16', '2018-09-17', '2018-09-18',\n",
      "               '2018-09-19', '2018-09-20'],\n",
      "              dtype='datetime64[ns]', freq='D')\n"
     ]
    }
   ],
   "source": [
    "dates = pd.date_range(\"2018-09-15\",periods=6)\n",
    "print(dates)"
   ]
  },
  {
   "cell_type": "code",
   "execution_count": 21,
   "metadata": {},
   "outputs": [
    {
     "name": "stdout",
     "output_type": "stream",
     "text": [
      "['a', 'b', 'c', 'd']\n"
     ]
    }
   ],
   "source": [
    "df = pd.DataFrame(np.random.randn(6,4),index=dates,columns=list(\"ABCD\"))\n",
    "df\n",
    "#print(list(\"abcd\"))"
   ]
  },
  {
   "cell_type": "markdown",
   "metadata": {},
   "source": [
    "## matplotlib\n",
    "\n",
    "- python绘图库"
   ]
  },
  {
   "cell_type": "code",
   "execution_count": 22,
   "metadata": {},
   "outputs": [],
   "source": [
    "%matplotlib inline"
   ]
  },
  {
   "cell_type": "code",
   "execution_count": 23,
   "metadata": {},
   "outputs": [
    {
     "data": {
      "image/png": "[encoded data removed]",
      "text/plain": [
       "<matplotlib.figure.Figure at 0x228252c90b8>"
      ]
     },
     "metadata": {},
     "output_type": "display_data"
    }
   ],
   "source": [
    "import matplotlib.pyplot as plt\n",
    "plt.plot([1,2,3])\n",
    "plt.ylabel('some numbers')\n",
    "plt.show()"
   ]
  },
  {
   "cell_type": "code",
   "execution_count": 2,
   "metadata": {},
   "outputs": [],
   "source": [
    "import seaborn as sns\n",
    "sns.set(color_codes=True)"
   ]
  },
  {
   "cell_type": "code",
   "execution_count": 3,
   "metadata": {},
   "outputs": [
    {
     "data": {
      "image/png": "[encoded data removed]",
      "text/plain": [
       "<Figure size 432x288 with 1 Axes>"
      ]
     },
     "metadata": {},
     "output_type": "display_data"
    }
   ],
   "source": [
    "import numpy as np\n",
    "x = np.random.normal(size=100)\n",
    "sns.distplot(x);"
   ]
  },
  {
   "cell_type": "code",
   "execution_count": 4,
   "metadata": {},
   "outputs": [
    {
     "name": "stdout",
     "output_type": "stream",
     "text": [
      "The Zen of Python, by Tim Peters\n",
      "\n",
      "Beautiful is better than ugly.\n",
      "Explicit is better than implicit.\n",
      "Simple is better than complex.\n",
      "Complex is better than complicated.\n",
      "Flat is better than nested.\n",
      "Sparse is better than dense.\n",
      "Readability counts.\n",
      "Special cases aren't special enough to break the rules.\n",
      "Although practicality beats purity.\n",
      "Errors should never pass silently.\n",
      "Unless explicitly silenced.\n",
      "In the face of ambiguity, refuse the temptation to guess.\n",
      "There should be one-- and preferably only one --obvious way to do it.\n",
      "Although that way may not be obvious at first unless you're Dutch.\n",
      "Now is better than never.\n",
      "Although never is often better than *right* now.\n",
      "If the implementation is hard to explain, it's a bad idea.\n",
      "If the implementation is easy to explain, it may be a good idea.\n",
      "Namespaces are one honking great idea -- let's do more of those!\n"
     ]
    }
   ],
   "source": [
    "import this"
   ]
  },
  {
   "cell_type": "code",
   "execution_count": 5,
   "metadata": {},
   "outputs": [
    {
     "data": {
      "text/plain": [
       "<module 'os' from 'C:\\\\Users\\\\Administrator\\\\Anaconda3\\\\lib\\\\os.py'>"
      ]
     },
     "execution_count": 5,
     "metadata": {},
     "output_type": "execute_result"
    }
   ],
   "source": [
    "import sys\n",
    "sys.modules['os']"
   ]
  },
  {
   "cell_type": "markdown",
   "metadata": {},
   "source": [
    "# numpy 可以做什么\n",
    "• 快速高效的多维数组对象ndarray\n",
    "\n",
    "• 用于对数组执行元素级计算以及直接对数组执行数学运算的函数\n",
    "\n",
    "• 用于读写硬盘上基于数组的数据集的工具\n",
    "\n",
    "• 线性代数运算、傅里叶变换，以及随机数生成\n",
    "\n",
    "• 用于将C、C++、Fortran代码集成到Python的工具\n",
    "\n",
    "• 除了为Python提供快速的数组处理能力，NumPy在数据分析方面还有另外一\n",
    "  个主要作用，即作为在算法之间传递数据的容器。"
   ]
  },
  {
   "cell_type": "markdown",
   "metadata": {},
   "source": [
    "## 效率对比\n",
    "• 三种数据结构：list / array / numpy.array\n",
    "\n",
    "• 三种方法求和：for / sum / numpy.sum\n",
    "\n",
    "• 例子代码：extra/perf_compare.py"
   ]
  },
  {
   "cell_type": "code",
   "execution_count": 7,
   "metadata": {},
   "outputs": [
    {
     "name": "stdout",
     "output_type": "stream",
     "text": [
      "list:\n",
      "3.103118172994225\n",
      "0.5251832266470449\n",
      "3.5533088518176754\n",
      "array:\n",
      "3.3426171587572915\n",
      "0.6312304041957884\n",
      "0.04263271855965378\n",
      "numpy:\n",
      "7.564516469167369\n",
      "6.185446626173185\n",
      "0.0345028643145362\n"
     ]
    }
   ],
   "source": [
    "# 效率对比\n",
    "\n",
    "import timeit\n",
    "\n",
    "common_for = \"\"\"\n",
    "for d in data:\n",
    "    s += d\n",
    "\"\"\"\n",
    "\n",
    "common_sum = \"\"\"\n",
    "sum(data)\n",
    "\"\"\"\n",
    "\n",
    "common_numpy_sum = \"\"\"\n",
    "numpy.sum(data)\n",
    "\"\"\"\n",
    "\n",
    "def timeit_list(n, loops):\n",
    "    list_setup = \"\"\"\n",
    "import numpy\n",
    "data = [1] * {}\n",
    "s = 0\n",
    "\"\"\".format(n)\n",
    "    print(\"list:\")\n",
    "    print( timeit.timeit(common_for, list_setup, number = loops))\n",
    "    print( timeit.timeit(common_sum, list_setup, number = loops))\n",
    "    print( timeit.timeit(common_numpy_sum, list_setup, number = loops))\n",
    "\n",
    "def timeit_array(n, loops):\n",
    "    array_setup = \"\"\"\n",
    "import numpy\n",
    "import array\n",
    "data = array.array('L', [1] * {})\n",
    "s = 0\n",
    "\"\"\".format(n)\n",
    "    print( 'array:')\n",
    "    print( timeit.timeit(common_for, array_setup, number = loops))\n",
    "    print( timeit.timeit(common_sum, array_setup, number = loops))\n",
    "    print( timeit.timeit(common_numpy_sum, array_setup, number = loops))\n",
    "\n",
    "def timeit_numpy(n, loops):\n",
    "    numpy_setup = \"\"\"\n",
    "import numpy\n",
    "data = numpy.array([1] * {})\n",
    "s = 0\n",
    "\"\"\".format(n)\n",
    "    print( 'numpy:')\n",
    "    print( timeit.timeit(common_for, numpy_setup, number = loops))\n",
    "    print( timeit.timeit(common_sum, numpy_setup, number = loops))\n",
    "    print( timeit.timeit(common_numpy_sum, numpy_setup, number = loops))\n",
    "\n",
    "if __name__ == '__main__':\n",
    "    timeit_list(50000, 500)\n",
    "    timeit_array(50000, 500)\n",
    "    timeit_numpy(50000, 500)\n"
   ]
  },
  {
   "cell_type": "code",
   "execution_count": 31,
   "metadata": {},
   "outputs": [
    {
     "name": "stdout",
     "output_type": "stream",
     "text": [
      "[0, 2, 12]\n",
      "[0 1 4]\n",
      "[0 1 8]\n",
      "[ 0  2 12]\n"
     ]
    }
   ],
   "source": [
    "import numpy\n",
    "# 用纯python写\n",
    "def pythonsum(n):\n",
    "    a = [i for i in range(n)]\n",
    "    b = [i for i in range(n)]\n",
    "    c = []\n",
    "    for i in range(len(a)):\n",
    "        a[i] = i ** 2\n",
    "        #print(\"p\")\n",
    "        b[i] = i ** 3\n",
    "        c.append(a[i] + b[i])\n",
    "    return c\n",
    "# 以下是使用NumPy的代码，它同样能够解决问题：\n",
    "\n",
    "print(pythonsum(3))\n",
    "\n",
    "def numpysum(n):\n",
    "    a = numpy.arange(n) ** 2\n",
    "    print(a)\n",
    "    b = numpy.arange(n) ** 3\n",
    "    print(b)\n",
    "    c = a + b\n",
    "    return c\n",
    "print(numpysum(3))\n",
    "\n",
    "# 注意， numpysum() 函数中没有使用 for 循环。同时，我们使用NumPy中的 arange 函数来创\n",
    "# 建包含0~n 的整数的NumPy数组。代码中的 arange 函数前面有一个前缀 numpy ，表明该函数是从\n",
    "# NumPy模块导入的。"
   ]
  },
  {
   "cell_type": "code",
   "execution_count": 33,
   "metadata": {},
   "outputs": [
    {
     "ename": "ValueError",
     "evalue": "invalid literal for int() with base 10: '-f'",
     "output_type": "error",
     "traceback": [
      "\u001b[1;31m---------------------------------------------------------------------------\u001b[0m",
      "\u001b[1;31mValueError\u001b[0m                                Traceback (most recent call last)",
      "\u001b[1;32m<ipython-input-33-f93802e067ab>\u001b[0m in \u001b[0;36m<module>\u001b[1;34m()\u001b[0m\n\u001b[0;32m     28\u001b[0m         \u001b[0mc\u001b[0m\u001b[1;33m.\u001b[0m\u001b[0mappend\u001b[0m\u001b[1;33m(\u001b[0m\u001b[0ma\u001b[0m\u001b[1;33m[\u001b[0m\u001b[0mi\u001b[0m\u001b[1;33m]\u001b[0m \u001b[1;33m+\u001b[0m \u001b[0mb\u001b[0m\u001b[1;33m[\u001b[0m\u001b[0mi\u001b[0m\u001b[1;33m]\u001b[0m\u001b[1;33m)\u001b[0m\u001b[1;33m\u001b[0m\u001b[0m\n\u001b[0;32m     29\u001b[0m     \u001b[1;32mreturn\u001b[0m \u001b[0mc\u001b[0m\u001b[1;33m\u001b[0m\u001b[0m\n\u001b[1;32m---> 30\u001b[1;33m \u001b[0msize\u001b[0m \u001b[1;33m=\u001b[0m \u001b[0mint\u001b[0m\u001b[1;33m(\u001b[0m\u001b[0msys\u001b[0m\u001b[1;33m.\u001b[0m\u001b[0margv\u001b[0m\u001b[1;33m[\u001b[0m\u001b[1;36m1\u001b[0m\u001b[1;33m]\u001b[0m\u001b[1;33m)\u001b[0m\u001b[1;33m\u001b[0m\u001b[0m\n\u001b[0m\u001b[0;32m     31\u001b[0m \u001b[0mstart\u001b[0m \u001b[1;33m=\u001b[0m \u001b[0mdatetime\u001b[0m\u001b[1;33m.\u001b[0m\u001b[0mnow\u001b[0m\u001b[1;33m(\u001b[0m\u001b[1;33m)\u001b[0m\u001b[1;33m\u001b[0m\u001b[0m\n\u001b[0;32m     32\u001b[0m \u001b[0mc\u001b[0m \u001b[1;33m=\u001b[0m \u001b[0mpythonsum\u001b[0m\u001b[1;33m(\u001b[0m\u001b[0msize\u001b[0m\u001b[1;33m)\u001b[0m\u001b[1;33m\u001b[0m\u001b[0m\n",
      "\u001b[1;31mValueError\u001b[0m: invalid literal for int() with base 10: '-f'"
     ]
    }
   ],
   "source": [
    "#!/usr/bin/env/python\n",
    "import sys\n",
    "from datetime import datetime\n",
    "import numpy as np\n",
    "\"\"\"\n",
    "本书第1章\n",
    "该段代码演示Python中的向量加法\n",
    "使用如下命令运行程序：\n",
    "python vectorsum.py n\n",
    "n为指定向量大小的整数\n",
    "加法中的第一个向量包含0到n的整数的平方\n",
    "第二个向量包含0到n的整数的立方\n",
    "程序将打印出向量加和后的最后两个元素以及运行消耗的时间\n",
    "\"\"\"\n",
    "\n",
    "def numpysum(n):\n",
    "    a = np.arange(n) ** 2\n",
    "    b = np.arange(n) ** 3\n",
    "    c = a + b\n",
    "    return c\n",
    "def pythonsum(n):\n",
    "    a = range(n)\n",
    "    b = range(n)\n",
    "    c = []\n",
    "    for i in range(len(a)):\n",
    "        a[i] = i ** 2\n",
    "        b[i] = i ** 3\n",
    "        c.append(a[i] + b[i])\n",
    "    return c\n",
    "size = int(sys.argv[1])\n",
    "start = datetime.now()\n",
    "c = pythonsum(size)\n",
    "delta = datetime.now() - start\n",
    "print( \"The last 2 elements of the sum\", c[-2:])\n",
    "print (\"PythonSum elapsed time in microseconds\", delta.microseconds)\n",
    "start = datetime.now()\n",
    "c = numpysum(size)\n",
    "delta = datetime.now() - start\n",
    "print( \"The last 2 elements of the sum\", c[-2:])\n",
    "print (\"NumPySum elapsed time in microseconds\", delta.microseconds)"
   ]
  },
  {
   "cell_type": "code",
   "execution_count": 8,
   "metadata": {},
   "outputs": [
    {
     "name": "stdout",
     "output_type": "stream",
     "text": [
      "使用普通一维数组生成NumPy一维数组\n",
      "[6.  7.5 8.  0.  1. ]\n",
      "打印元素类型\n",
      "float64\n",
      "\n",
      "使用普通二维数组生成NumPy二维数组\n",
      "[[1 2 3 4]\n",
      " [5 6 7 8]]\n",
      "打印数组维度\n",
      "(2, 4)\n",
      "\n",
      "使用zeros/empty\n",
      "[0. 0. 0. 0. 0. 0. 0. 0. 0. 0.]\n",
      "[[0. 0. 0. 0. 0. 0.]\n",
      " [0. 0. 0. 0. 0. 0.]\n",
      " [0. 0. 0. 0. 0. 0.]]\n",
      "[[[1.12282391e-311 3.16202013e-322]\n",
      "  [0.00000000e+000 0.00000000e+000]\n",
      "  [1.14587773e-312 2.98234510e+179]]\n",
      "\n",
      " [[2.05614284e+160 1.57401786e+161]\n",
      "  [2.67943361e+184 1.18941422e-075]\n",
      "  [1.13018019e-042 1.38347751e-047]]]\n",
      "\n",
      "使用arrange生成连续元素\n",
      "[ 0  1  2  3  4  5  6  7  8  9 10 11 12 13 14]\n"
     ]
    }
   ],
   "source": [
    "# NumPy的ndarray 创建ndarray\n",
    "\n",
    "# -*- coding: utf-8 -*-\n",
    "\n",
    "import numpy as np\n",
    "\n",
    "print( '使用普通一维数组生成NumPy一维数组')\n",
    "data = [6, 7.5, 8, 0, 1]\n",
    "arr = np.array(data)\n",
    "print( arr)\n",
    "print( '打印元素类型')\n",
    "print( arr.dtype)\n",
    "print( )\n",
    "\n",
    "print( '使用普通二维数组生成NumPy二维数组')\n",
    "data = [[1, 2, 3, 4], [5, 6, 7, 8]]\n",
    "arr = np.array(data)\n",
    "print( arr)\n",
    "print( '打印数组维度')\n",
    "print( arr.shape)\n",
    "print()\n",
    "\n",
    "print('使用zeros/empty')\n",
    "print( np.zeros(10)) # 生成包含10个0的一维数组\n",
    "print( np.zeros((3, 6))) # 生成3*6的二维数组\n",
    "print( np.empty((2, 3, 2))) # 生成2*3*2的三维数组，所有元素未初始化。\n",
    "print()\n",
    "\n",
    "print( '使用arrange生成连续元素')\n",
    "print( np.arange(15))  # [0, 1, 2, ..., 14]"
   ]
  },
  {
   "cell_type": "markdown",
   "metadata": {},
   "source": [
    "### NumPy的ndarray 数组和标量之间的运算\n",
    "\n",
    "• 不用编写循环即可对数据执行批量运算\n",
    "\n",
    "• 大小相等的数组之间的任何算术运算都会将运算应用到元素级\n",
    "\n",
    "• 数组与标量的算术运算也会将那个标量值传播到各个元素"
   ]
  },
  {
   "cell_type": "code",
   "execution_count": 12,
   "metadata": {},
   "outputs": [
    {
     "name": "stdout",
     "output_type": "stream",
     "text": [
      "生成数组时指定数据类型\n",
      "float64\n",
      "int32\n",
      "\n",
      "使用astype复制数组并转换数据类型\n",
      "int32\n",
      "float64\n",
      "\n",
      "使用astype将float转换为int时小数部分被舍弃\n",
      "[ 3 -1 -2  0 12 10]\n",
      "\n",
      "使用astype把字符串转换为数组，如果失败抛出异常。\n",
      "[ 1.25 -9.6  42.  ]\n",
      "\n",
      "astype使用其它数组的数据类型作为参数\n",
      "[0. 1. 2. 3. 4. 5. 6. 7. 8. 9.]\n",
      "0 1\n"
     ]
    }
   ],
   "source": [
    "# -*- coding: utf-8 -*-\n",
    "\n",
    "import numpy as np\n",
    "\n",
    "print( '生成数组时指定数据类型')\n",
    "arr = np.array([1, 2, 3], dtype = np.float64)\n",
    "print( arr.dtype)\n",
    "arr = np.array([1, 2, 3], dtype = np.int32)\n",
    "print( arr.dtype)\n",
    "print()\n",
    "\n",
    "print( '使用astype复制数组并转换数据类型')\n",
    "int_arr = np.array([1, 2, 3, 4, 5])\n",
    "float_arr = int_arr.astype(np.float)\n",
    "print( int_arr.dtype)\n",
    "print( float_arr.dtype)\n",
    "print()\n",
    "\n",
    "print( '使用astype将float转换为int时小数部分被舍弃')\n",
    "float_arr = np.array([3.7, -1.2, -2.6, 0.5, 12.9, 10.1])\n",
    "int_arr = float_arr.astype(dtype = np.int)\n",
    "print( int_arr)\n",
    "print()\n",
    "\n",
    "print( '使用astype把字符串转换为数组，如果失败抛出异常。')\n",
    "str_arr = np.array(['1.25', '-9.6', '42'], dtype = np.string_)\n",
    "float_arr = str_arr.astype(dtype = np.float)\n",
    "print( float_arr)\n",
    "print()\n",
    "\n",
    "print( 'astype使用其它数组的数据类型作为参数')\n",
    "int_arr = np.arange(10)\n",
    "float_arr = np.array([.23, 0.270, .357, 0.44, 0.5], dtype = np.float64)\n",
    "print( int_arr.astype(float_arr.dtype))\n",
    "print( int_arr[0], int_arr[1])  # astype做了复制，数组本身不变。"
   ]
  },
  {
   "cell_type": "code",
   "execution_count": 13,
   "metadata": {},
   "outputs": [
    {
     "name": "stdout",
     "output_type": "stream",
     "text": [
      "[[ 1.  4.  9.]\n",
      " [16. 25. 36.]]\n",
      "[[0. 0. 0.]\n",
      " [0. 0. 0.]]\n",
      "\n",
      "[[1.         0.5        0.33333333]\n",
      " [0.25       0.2        0.16666667]]\n",
      "[[1.         1.41421356 1.73205081]\n",
      " [2.         2.23606798 2.44948974]]\n"
     ]
    }
   ],
   "source": [
    "# -*- coding: utf-8 -*-\n",
    "\n",
    "import numpy as np\n",
    "\n",
    "# 数组乘法／减法，对应元素相乘／相减。\n",
    "arr = np.array([[1.0, 2.0, 3.0], [4., 5., 6.]])\n",
    "print( arr * arr)\n",
    "print( arr - arr)\n",
    "print()\n",
    "\n",
    "# 标量操作作用在数组的每个元素上\n",
    "arr = np.array([[1.0, 2.0, 3.0], [4., 5., 6.]])\n",
    "print( 1 / arr)\n",
    "print( arr ** 0.5 ) # 开根号"
   ]
  },
  {
   "cell_type": "markdown",
   "metadata": {},
   "source": [
    "## NumPy的ndarray 基本的索引和切片\n",
    "• 索引原理\n",
    "\n",
    "• 切片原理"
   ]
  },
  {
   "cell_type": "code",
   "execution_count": 14,
   "metadata": {},
   "outputs": [
    {
     "name": "stdout",
     "output_type": "stream",
     "text": [
      "[7 8 9]\n",
      "3\n",
      "3\n",
      "[[1 2 3]\n",
      " [4 5 6]]\n",
      "[7 8 9]\n",
      "[[[42 42 42]\n",
      "  [42 42 42]]\n",
      "\n",
      " [[ 7  8  9]\n",
      "  [10 11 12]]]\n",
      "[[[ 1  2  3]\n",
      "  [ 4  5  6]]\n",
      "\n",
      " [[ 7  8  9]\n",
      "  [10 11 12]]]\n",
      "\n",
      "使用切片访问和操作数组\n",
      "[2 3 4 5 6]\n",
      "[[1 2 3]\n",
      " [4 5 6]]\n",
      "[[2 3]\n",
      " [5 6]]\n",
      "[[1]\n",
      " [4]\n",
      " [7]]\n",
      "[[1 0 0]\n",
      " [4 0 0]\n",
      " [7 8 9]]\n"
     ]
    }
   ],
   "source": [
    "# -*- coding: utf-8 -*-\n",
    "\n",
    "import numpy as np\n",
    "\n",
    "# 通过索引访问二维数组某一行或某个元素\n",
    "arr = np.array([[1, 2, 3], [4, 5, 6], [7, 8, 9]])\n",
    "print( arr[2])\n",
    "print( arr[0][2])\n",
    "print( arr[0, 2] )# 普通Python数组不能用。\n",
    "print\n",
    "\n",
    "# 对更高维数组的访问和操作\n",
    "arr = np.array([[[1, 2, 3], [4, 5, 6]], [[7, 8, 9], [10, 11, 12]]])\n",
    "print( arr[0]  )# 结果是个2维数组\n",
    "print( arr[1, 0] )# 结果是个2维数组\n",
    "old_values = arr[0].copy()  # 复制arr[0]的值\n",
    "arr[0] = 42 # 把arr[0]所有的元素都设置为同一个值\n",
    "print( arr)\n",
    "arr[0] = old_values # 把原来的数组写回去\n",
    "print( arr)\n",
    "print()\n",
    "\n",
    "print( '使用切片访问和操作数组')\n",
    "arr = np.array([1, 2, 3, 4, 5, 6, 7, 8, 9, 10])\n",
    "print( arr[1:6] ) # 打印元素arr[1]到arr[5]\n",
    "arr = np.array([[1, 2, 3], [4, 5, 6], [7, 8, 9]])\n",
    "print( arr[:2]) # 打印第1、2行\n",
    "print( arr[:2, 1:] )# 打印第1、2行，第2、3列\n",
    "print( arr[:, :1]  )# 打印第一列的所有元素\n",
    "arr[:2, 1:] = 0 # 第1、2行，第2、3列的元素设置为0\n",
    "print( arr)"
   ]
  },
  {
   "cell_type": "markdown",
   "metadata": {},
   "source": [
    "### NumPy的ndarray 布尔型索引\n",
    "• 布尔型数组的长度必须跟被索引的轴长度一致。\n",
    "\n",
    "• 可以将布尔型数组跟切片、整数（或整数序列）混合使用\n",
    "\n",
    "• 例子代码: the_numpy_ndarray/boolean_indexing.py"
   ]
  },
  {
   "cell_type": "code",
   "execution_count": 18,
   "metadata": {},
   "outputs": [
    {
     "name": "stdout",
     "output_type": "stream",
     "text": [
      "使用布尔数组作为索引\n",
      "[[ 1.64119945  1.56657599 -0.15702104  0.17500997]\n",
      " [-0.56874142  0.30639702 -1.47822143  0.14721306]\n",
      " [-0.00640244  0.91932677  1.28761447 -0.43215836]\n",
      " [ 0.21190925 -1.94311235  2.41861221 -0.21440877]\n",
      " [ 1.41837409 -1.32672833 -0.66592541  0.95849136]\n",
      " [ 1.49161646 -0.32098905 -0.03257784 -0.16675211]\n",
      " [-0.41475923 -1.25698202  0.27107408 -0.3047774 ]]\n",
      "[ True False False  True False False False]\n",
      "[[ 1.64119945  1.56657599 -0.15702104  0.17500997]\n",
      " [ 0.21190925 -1.94311235  2.41861221 -0.21440877]]\n",
      "[[ 1.64119945  1.56657599]\n",
      " [ 0.21190925 -1.94311235]]\n",
      "[[-0.56874142  0.30639702 -1.47822143  0.14721306]\n",
      " [-0.00640244  0.91932677  1.28761447 -0.43215836]\n",
      " [ 1.41837409 -1.32672833 -0.66592541  0.95849136]\n",
      " [ 1.49161646 -0.32098905 -0.03257784 -0.16675211]\n",
      " [-0.41475923 -1.25698202  0.27107408 -0.3047774 ]]\n",
      "[[ 1.64119945  1.56657599 -0.15702104  0.17500997]\n",
      " [-0.00640244  0.91932677  1.28761447 -0.43215836]\n",
      " [ 0.21190925 -1.94311235  2.41861221 -0.21440877]\n",
      " [ 1.41837409 -1.32672833 -0.66592541  0.95849136]]\n",
      "[[ 7.          7.          7.          7.        ]\n",
      " [-0.56874142  0.30639702 -1.47822143  0.14721306]\n",
      " [ 7.          7.          7.          7.        ]\n",
      " [ 7.          7.          7.          7.        ]\n",
      " [ 7.          7.          7.          7.        ]\n",
      " [ 1.49161646 -0.32098905 -0.03257784 -0.16675211]\n",
      " [-0.41475923 -1.25698202  0.27107408 -0.3047774 ]]\n"
     ]
    }
   ],
   "source": [
    "# -*- coding: utf-8 -*-\n",
    "\n",
    "import numpy as np\n",
    "import numpy.random as np_random\n",
    "\n",
    "print( '使用布尔数组作为索引')\n",
    "name_arr = np.array(['Bob', 'Joe', 'Will', 'Bob', 'Will', 'Joe', 'Joe'])\n",
    "rnd_arr = np_random.randn(7, 4) # 随机7*4数组\n",
    "print( rnd_arr)\n",
    "print( name_arr == 'Bob') # 返回布尔数组，元素等于'Bob'为True，否则False。\n",
    "print( rnd_arr[name_arr == 'Bob'] ) # 利用布尔数组选择行\n",
    "print( rnd_arr[name_arr == 'Bob', :2] ) # 增加限制打印列的范围\n",
    "print( rnd_arr[~(name_arr == 'Bob')]) # 对布尔数组的内容取反\n",
    "mask_arr = (name_arr == 'Bob') | (name_arr == 'Will') # 逻辑运算混合结果\n",
    "print( rnd_arr[mask_arr])\n",
    "rnd_arr[name_arr != 'Joe'] = 7  # 先布尔数组选择行，然后把每行的元素设置为7。\n",
    "print( rnd_arr)"
   ]
  },
  {
   "cell_type": "markdown",
   "metadata": {},
   "source": [
    "### NumPy的ndarray 花式索引\n",
    "• 花式索引（Fancy indexing）是一个NumPy术语，它指的是利用整数数组进\n",
    "行索引。\n",
    "\n",
    "• 一次传入多个索引数组会有一点特别。它返回的是一个一维数组，其中的元素\n",
    "对应各个索引元组。\n",
    "\n",
    "• 例子代码: the_numpy_ndarray/fancy_indexing.py"
   ]
  },
  {
   "cell_type": "code",
   "execution_count": 19,
   "metadata": {},
   "outputs": [
    {
     "name": "stdout",
     "output_type": "stream",
     "text": [
      "Fancy Indexing: 使用整数数组作为索引\n",
      "[[0. 0. 0. 0.]\n",
      " [1. 1. 1. 1.]\n",
      " [2. 2. 2. 2.]\n",
      " [3. 3. 3. 3.]\n",
      " [4. 4. 4. 4.]\n",
      " [5. 5. 5. 5.]\n",
      " [6. 6. 6. 6.]\n",
      " [7. 7. 7. 7.]]\n",
      "[[4. 4. 4. 4.]\n",
      " [3. 3. 3. 3.]\n",
      " [0. 0. 0. 0.]\n",
      " [6. 6. 6. 6.]]\n",
      "[[5. 5. 5. 5.]\n",
      " [3. 3. 3. 3.]\n",
      " [1. 1. 1. 1.]]\n",
      "[ 4 23 29 10]\n",
      "[[ 4  7  5  6]\n",
      " [20 23 21 22]\n",
      " [28 31 29 30]\n",
      " [ 8 11  9 10]]\n",
      "[[ 4  7  5  6]\n",
      " [20 23 21 22]\n",
      " [28 31 29 30]\n",
      " [ 8 11  9 10]]\n"
     ]
    }
   ],
   "source": [
    "# -*- coding: utf-8 -*-\n",
    "\n",
    "import numpy as np\n",
    "\n",
    "print( 'Fancy Indexing: 使用整数数组作为索引')\n",
    "arr = np.empty((8, 4))\n",
    "for i in range(8):\n",
    "    arr[i] = i\n",
    "print( arr)\n",
    "print( arr[[4, 3, 0, 6]] )# 打印arr[4]、arr[3]、arr[0]和arr[6]。\n",
    "print( arr[[-3, -5, -7]] )# 打印arr[-3]、arr[-5]和arr[-7]行\n",
    "arr = np.arange(32).reshape((8, 4))  # 通过reshape变换成二维数组\n",
    "print( arr[[1, 5, 7, 2], [0, 3, 1, 2]] )# 打印arr[1, 0]、arr[5, 3]，arr[7, 1]和arr[2, 2]\n",
    "print( arr[[1, 5, 7, 2]][:, [0, 3, 1, 2]] ) # 1572行的0312列\n",
    "print (arr[np.ix_([1, 5, 7, 2], [0, 3, 1, 2])]) # 可读性更好的写法"
   ]
  },
  {
   "cell_type": "markdown",
   "metadata": {},
   "source": [
    "### NumPy的ndarray 数组转置和轴对换\n",
    "• 一维／二维数组转置\n",
    "\n",
    "• 高维数组轴对换\n",
    "\n",
    "• 例子代码:\n",
    "the_numpy_ndarray/transposing_arrays_and_swapping_axes.py"
   ]
  },
  {
   "cell_type": "code",
   "execution_count": 20,
   "metadata": {},
   "outputs": [
    {
     "name": "stdout",
     "output_type": "stream",
     "text": [
      "转置矩阵\n",
      "[[ 0  1  2  3  4]\n",
      " [ 5  6  7  8  9]\n",
      " [10 11 12 13 14]]\n",
      "[[ 0  5 10]\n",
      " [ 1  6 11]\n",
      " [ 2  7 12]\n",
      " [ 3  8 13]\n",
      " [ 4  9 14]]\n",
      "\n",
      "转置矩阵做点积\n",
      "[[ 4.29956019 -0.98240691  2.93484229]\n",
      " [-0.98240691  2.39496534 -2.980132  ]\n",
      " [ 2.93484229 -2.980132    7.67786688]]\n",
      "\n",
      "高维矩阵转换\n",
      "[[[ 0  1  2  3]\n",
      "  [ 4  5  6  7]]\n",
      "\n",
      " [[ 8  9 10 11]\n",
      "  [12 13 14 15]]]\n",
      "[[[ 0  1  2  3]\n",
      "  [ 8  9 10 11]]\n",
      "\n",
      " [[ 4  5  6  7]\n",
      "  [12 13 14 15]]]\n",
      "[[[ 0  4]\n",
      "  [ 1  5]\n",
      "  [ 2  6]\n",
      "  [ 3  7]]\n",
      "\n",
      " [[ 8 12]\n",
      "  [ 9 13]\n",
      "  [10 14]\n",
      "  [11 15]]]\n"
     ]
    }
   ],
   "source": [
    "# -*- coding: utf-8 -*-\n",
    "\n",
    "import numpy as np\n",
    "import numpy.random as np_random\n",
    "\n",
    "print( '转置矩阵')\n",
    "arr = np.arange(15).reshape((3, 5))\n",
    "print( arr)\n",
    "print( arr.T)\n",
    "print()\n",
    "\n",
    "print( '转置矩阵做点积')\n",
    "arr = np_random.randn(6, 3)\n",
    "print( np.dot(arr.T, arr))\n",
    "print()\n",
    "\n",
    "print( '高维矩阵转换')\n",
    "arr = np.arange(16).reshape((2, 2, 4))\n",
    "print( arr)\n",
    "'''\n",
    "详细解释：\n",
    "arr数组的内容为\n",
    "- a[0][0] = [0, 1, 2, 3]\n",
    "- a[0][1] = [4, 5, 6, 7]\n",
    "- a[1][0] = [8, 9, 10, 11]\n",
    "- a[1][1] = [12, 13, 14, 15]\n",
    "transpose的参数为坐标，正常顺序为(0, 1, 2, ... , n - 1)，\n",
    "现在传入的为(1, 0, 2)代表a[x][y][z] = a[y][x][z]，第0个和第1个坐标互换。\n",
    "- a'[0][0] = a[0][0] = [0, 1, 2, 3]\n",
    "- a'[0][1] = a[1][0] = [8, 9, 10, 11]\n",
    "- a'[1][0] = a[0][1] = [4, 5, 6, 7]\n",
    "- a'[1][1] = a[1][1] = [12, 13, 14, 15]\n",
    "'''\n",
    "print( arr.transpose((1, 0, 2)))\n",
    "print( arr.swapaxes(1, 2)  )# 直接交换第1和第2个坐标"
   ]
  },
  {
   "cell_type": "code",
   "execution_count": 41,
   "metadata": {},
   "outputs": [
    {
     "name": "stdout",
     "output_type": "stream",
     "text": [
      "[0 1 2 3 4]\n",
      "[ 0  5 10 15 20]\n",
      "[5 6 7 8 9]\n",
      "[5 6 7 8 9]\n",
      "[ 5  7  9 11 13]\n"
     ]
    }
   ],
   "source": [
    "# 练习\n",
    "import numpy as np\n",
    "arr = np.arange(5)\n",
    "print(arr)\n",
    "print(arr * 5)\n",
    "print(arr + 5)\n",
    "arr2 = np.arange(5,10)\n",
    "print(arr2)\n",
    "print(arr + arr2)"
   ]
  },
  {
   "cell_type": "markdown",
   "metadata": {},
   "source": [
    "## NumPy的ndarray 快速的元素级数组函数\n",
    "-  一元函数 I\n",
    "       NumPy的ndarray 快速的元素级数组函数\n",
    "    \n",
    "    类型        说明\n",
    "    \n",
    "    abs,fabs    计算整数、浮点数或复数的绝对值。对于非复数值，可以使用更快的fabs。\n",
    "    \n",
    "    sqrt        计算各元素的平方根。相当于arr ** 0.5\n",
    "    \n",
    "    sqare       计算各元素的平方。相当于arr ** 2\n",
    "    \n",
    "    exp         计算各元素的e^x\n",
    "    \n",
    "    log, log10, \n",
    "    log2, log1p 分别为自然对数、底数为10的log、底数为2的log和log(1 + x)。\n",
    "    \n",
    "    sign        计算各元素的正负号：1（正数）、0（零）、－1（负数）。\n",
    "    \n",
    "    ceil        计算各元素的ceiling值，即大于等于该值的最小整数。\n",
    "    \n",
    "    floor       计算各元素的floor值，即小于等于该值的最小整数。  \n",
    "    \n",
    "    rint        将各元素值四舍五入到最接近的整数，保留dtype。\n",
    "    \n",
    "    modf        将数组的小数部分与整数部分以两个独立数组的形式返还。\n",
    "    \n",
    "    isnan       返回一个表示“哪些值是NaN（这不是一个数字）”的布尔型数组\n",
    "    \n",
    "    isfinite, isinf 分别返回一个表示“哪些元素是有限的（非inf，非NaN）”或“哪些元素是\n",
    "                    无穷的”的布尔型数组\n",
    "    \n",
    "    cos, cosh, sin, sinh, tan, tanh 普通型或双曲型三角函数\n",
    "    \n",
    "    arccos, arccosh, arcsin, arcsinh,\n",
    "    \n",
    "    arctan, arctanh反三角函数\n",
    "   \n",
    "   logical_not    计算各元素not x的真值。相当于-arr。"
   ]
  },
  {
   "cell_type": "markdown",
   "metadata": {},
   "source": [
    "- 二元函数 I\n",
    "\n",
    "    类型                 说明\n",
    "   \n",
    "    add                  将数组中对应的元素相加\n",
    "    \n",
    "    subtract             从第一个数组中减去第二个数组中的元素\n",
    "    \n",
    "    multiply             数组元素相乘\n",
    "    \n",
    "    divide, floor_divide 除法或向下取整除法\n",
    "    \n",
    "    power                对第一个数组中的元素A和第二个数组中对应位置的元素B，计算A^B。\n",
    "    \n",
    "    maximum, fmax        元素级的最大值计算。fmax将忽略NaN。\n",
    "   \n",
    "    minimum, fmin        元素级的最小值计算。fmin将忽略NaN。\n",
    "    \n",
    "    mod                  元素级的求模计算\n",
    "    \n",
    "    NumPy的ndarray       快速的元素级数组函数\n",
    " \n",
    "    copysign             将第二个数组中的符号复制给第一个数组中的值\n",
    "    \n",
    "    greater, \n",
    "    greater_equal, less,\n",
    "    less_equal,equal, \n",
    "    not_equal            执行元素级的比较，最终产生布尔型数组。\n",
    "    \n",
    "    logical_and, \n",
    "    logical_or,\n",
    "    logical_xor          执行元素级的真值逻辑运算，最终产生布尔型数组。"
   ]
  },
  {
   "cell_type": "code",
   "execution_count": 49,
   "metadata": {},
   "outputs": [
    {
     "name": "stdout",
     "output_type": "stream",
     "text": [
      "求平方根\n",
      "[0.         1.         1.41421356 1.73205081 2.         2.23606798\n",
      " 2.44948974 2.64575131 2.82842712 3.        ]\n",
      "\n",
      "数组比较\n",
      "[ 0.99469338 -2.07091721 -1.3565879   2.38773197 -0.57885987 -0.44502803\n",
      " -1.24997442 -1.60502598]\n",
      "[ 0.98397041  0.70483576  1.95871624 -0.65775297  2.18368292  0.97309527\n",
      " -1.0610344   1.78631369]\n",
      "[ 0.99469338  0.70483576  1.95871624  2.38773197  2.18368292  0.97309527\n",
      " -1.0610344   1.78631369]\n",
      "\n",
      "使用modf函数把浮点数分解成整数和小数部分\n",
      "(array([ 0.67202179, -0.47092166, -0.34895847, -0.51031325, -0.32066218,\n",
      "       -0.76377202,  0.78800804]), array([ 5., -0., -2., -4., -1., -5.,  4.]))\n"
     ]
    }
   ],
   "source": [
    "# -*- coding: utf-8 -*-\n",
    "# 例子代码\n",
    "import numpy as np\n",
    "import numpy.random as np_random\n",
    "\n",
    "print( '求平方根')\n",
    "arr = np.arange(10)\n",
    "print( np.sqrt(arr))\n",
    "print()\n",
    "\n",
    "print( '数组比较')\n",
    "x = np_random.randn(8)\n",
    "y = np_random.randn(8)\n",
    "print( x)\n",
    "print( y)\n",
    "print( np.maximum(x, y))\n",
    "print()\n",
    "\n",
    "print( '使用modf函数把浮点数分解成整数和小数部分')\n",
    "arr = np_random.randn(7) * 5  # 统一乘5\n",
    "print( np.modf(arr))"
   ]
  },
  {
   "cell_type": "markdown",
   "metadata": {},
   "source": [
    "###    利用数组进行数据处理 简介\n",
    "    \n",
    "    • NumPy数组使你可以将许多种数据处理任务表述为简洁的数组表达式（否则需\n",
    "      要编写循环）。用数组表达式代替循环的做法，通常被称为矢量化。\n",
    "    \n",
    "    • 矢量化数组运算要比等价的纯Python方式快上一两个数量级\n",
    "    \n",
    "- 利用数组进行数据处理 将条件逻辑表述为数组运算\n",
    "    \n",
    "    • 列表推导的局限性\n",
    "    \n",
    "    • 纯Python代码，速度不够快。\n",
    "    \n",
    "    • 无法应用于高维数组\n",
    "    \n",
    "    • where和where的嵌套    "
   ]
  },
  {
   "cell_type": "code",
   "execution_count": 50,
   "metadata": {},
   "outputs": [
    {
     "name": "stdout",
     "output_type": "stream",
     "text": [
      "[[-5.   -4.99 -4.98 ...  4.97  4.98  4.99]\n",
      " [-5.   -4.99 -4.98 ...  4.97  4.98  4.99]\n",
      " [-5.   -4.99 -4.98 ...  4.97  4.98  4.99]\n",
      " ...\n",
      " [-5.   -4.99 -4.98 ...  4.97  4.98  4.99]\n",
      " [-5.   -4.99 -4.98 ...  4.97  4.98  4.99]\n",
      " [-5.   -4.99 -4.98 ...  4.97  4.98  4.99]]\n",
      "[[-5.   -5.   -5.   ... -5.   -5.   -5.  ]\n",
      " [-4.99 -4.99 -4.99 ... -4.99 -4.99 -4.99]\n",
      " [-4.98 -4.98 -4.98 ... -4.98 -4.98 -4.98]\n",
      " ...\n",
      " [ 4.97  4.97  4.97 ...  4.97  4.97  4.97]\n",
      " [ 4.98  4.98  4.98 ...  4.98  4.98  4.98]\n",
      " [ 4.99  4.99  4.99 ...  4.99  4.99  4.99]]\n",
      "[[7.07106781 7.06400028 7.05693985 ... 7.04988652 7.05693985 7.06400028]\n",
      " [7.06400028 7.05692568 7.04985815 ... 7.04279774 7.04985815 7.05692568]\n",
      " [7.05693985 7.04985815 7.04278354 ... 7.03571603 7.04278354 7.04985815]\n",
      " ...\n",
      " [7.04988652 7.04279774 7.03571603 ... 7.0286414  7.03571603 7.04279774]\n",
      " [7.05693985 7.04985815 7.04278354 ... 7.03571603 7.04278354 7.04985815]\n",
      " [7.06400028 7.05692568 7.04985815 ... 7.04279774 7.04985815 7.05692568]]\n"
     ]
    },
    {
     "data": {
      "image/png": "[encoded data removed]",
      "text/plain": [
       "<Figure size 432x288 with 2 Axes>"
      ]
     },
     "metadata": {},
     "output_type": "display_data"
    }
   ],
   "source": [
    "# -*- coding: utf-8 -*-\n",
    "\n",
    "import matplotlib.pyplot as plt\n",
    "import numpy as np\n",
    "import pylab\n",
    "\n",
    "points = np.arange(-5, 5, 0.01) # 生成100个点\n",
    "xs, ys = np.meshgrid(points, points)  # xs, ys互为转置矩阵\n",
    "print( xs)\n",
    "print( ys)\n",
    "z = np.sqrt(xs ** 2 + ys ** 2)\n",
    "print( z)\n",
    "# 画图\n",
    "plt.imshow(z, cmap = plt.cm.gray);\n",
    "plt.colorbar()\n",
    "plt.title(\"Image plot of $\\sqrt{x^2 + y^2}$ for a grid of values\")\n",
    "pylab.show() "
   ]
  },
  {
   "cell_type": "code",
   "execution_count": 53,
   "metadata": {},
   "outputs": [
    {
     "name": "stdout",
     "output_type": "stream",
     "text": [
      "通过真值表选择元素\n",
      "[1.1, 2.2, 1.3, 1.4, 2.5]\n",
      "[1.1 2.2 1.3 1.4 2.5]\n",
      "\n",
      "更多where的例子\n",
      "[[ 0.46464912 -0.645816   -0.56255005 -1.02458742]\n",
      " [-1.17986074  0.16948741 -1.29440448  0.31674642]\n",
      " [ 0.33860043 -0.20036638  2.11115529  0.67680048]\n",
      " [-1.72971453  1.58374732 -0.49549668  1.77664503]]\n",
      "[[ 2 -2 -2 -2]\n",
      " [-2  2 -2  2]\n",
      " [ 2 -2  2  2]\n",
      " [-2  2 -2  2]]\n",
      "[[ 2.         -0.645816   -0.56255005 -1.02458742]\n",
      " [-1.17986074  2.         -1.29440448  2.        ]\n",
      " [ 2.         -0.20036638  2.          2.        ]\n",
      " [-1.72971453  2.         -0.49549668  2.        ]]\n",
      "\n",
      "where嵌套\n",
      "[1, 2, 1, 0, 3]\n",
      "[1 2 1 0 3]\n"
     ]
    }
   ],
   "source": [
    "# -*- coding: utf-8 -*-\n",
    "\n",
    "import numpy as np\n",
    "import numpy.random as np_random\n",
    "\n",
    "'''\n",
    "关于zip函数的一点解释，zip可以接受任意多参数，然后重新组合成1个tuple列表。\n",
    "zip([1, 2, 3], [4, 5, 6], [7, 8, 9])\n",
    "返回结果：[(1, 4, 7), (2, 5, 8), (3, 6, 9)]\n",
    "'''\n",
    "print( '通过真值表选择元素')\n",
    "x_arr = np.array([1.1, 1.2, 1.3, 1.4, 1.5])\n",
    "y_arr = np.array([2.1, 2.2, 2.3, 2.4, 2.5])\n",
    "cond = np.array([True, False, True, True, False])\n",
    "result = [(x if c else y) for x, y, c in zip(x_arr, y_arr, cond)] # 通过列表推到实现\n",
    "print( result)\n",
    "print( np.where(cond, x_arr, y_arr))  # 使用NumPy的where函数\n",
    "print()\n",
    "\n",
    "print( '更多where的例子')\n",
    "arr = np_random.randn(4, 4)\n",
    "print( arr)\n",
    "print( np.where(arr > 0, 2, -2))\n",
    "print( np.where(arr > 0, 2, arr))\n",
    "print()\n",
    "\n",
    "print( 'where嵌套')\n",
    "cond_1 = np.array([True, False, True, True, False])\n",
    "cond_2 = np.array([False, True, False, True, False])\n",
    "# 传统代码如下\n",
    "result = []\n",
    "for i in range(len(cond)):\n",
    "    if cond_1[i] and cond_2[i]:\n",
    "        result.append(0)\n",
    "    elif cond_1[i]:\n",
    "        result.append(1)\n",
    "    elif cond_2[i]:\n",
    "        result.append(2)\n",
    "    else:\n",
    "        result.append(3)\n",
    "print( result)\n",
    "# np版本代码\n",
    "result = np.where(cond_1 & cond_2, 0, \\\n",
    "          np.where(cond_1, 1, np.where(cond_2, 2, 3)))\n",
    "print( result)"
   ]
  },
  {
   "cell_type": "markdown",
   "metadata": {},
   "source": [
    "### 利用数组进行数据处理 数学和统计方法\n",
    "    • 标准差和方差的解释\n",
    "    \n",
    "    • cumsum和cumprod的解释\n",
    "    \n",
    "    • 带axis参数的统计函数"
   ]
  },
  {
   "cell_type": "code",
   "execution_count": 54,
   "metadata": {},
   "outputs": [
    {
     "name": "stdout",
     "output_type": "stream",
     "text": [
      "求和，求平均\n",
      "[[ 1.36062794  1.25816674 -0.97588081 -0.82145262]\n",
      " [ 0.40493402 -0.32841991 -0.88767235  0.91147096]\n",
      " [ 0.48113299 -1.26562589  0.8040696  -0.50256005]\n",
      " [ 1.1948859   0.4553562  -1.33839176 -0.79482186]\n",
      " [ 1.20091279 -2.13794671  0.83625274 -0.58929603]]\n",
      "-0.036712904687525486\n",
      "-0.7342580937505097\n",
      "[ 0.20536531  0.02507818 -0.12074584 -0.12074288 -0.1725193 ]\n",
      "[ 4.64249365 -2.01846956 -1.56162259 -1.79665959]\n",
      "\n",
      "cunsum和cumprod函数演示\n",
      "[[ 0  1  2]\n",
      " [ 3  5  7]\n",
      " [ 9 12 15]]\n",
      "[[  0   0   0]\n",
      " [  3  12  60]\n",
      " [  6  42 336]]\n"
     ]
    }
   ],
   "source": [
    "# -*- coding: utf-8 -*-\n",
    "\n",
    "import numpy as np\n",
    "import numpy.random as np_random\n",
    "\n",
    "print( '求和，求平均')\n",
    "arr = np.random.randn(5, 4)\n",
    "print( arr)\n",
    "print( arr.mean())\n",
    "print( arr.sum())\n",
    "print( arr.mean(axis = 1) ) # 对每一行的元素求平均\n",
    "print( arr.sum(0)  )# 对每一列元素求和，axis可以省略。\n",
    "print()\n",
    "\n",
    "'''\n",
    "cumsum:\n",
    "- 按列操作：a[i][j] += a[i - 1][j]\n",
    "- 按行操作：a[i][j] *= a[i][j - 1]\n",
    "cumprod:\n",
    "- 按列操作：a[i][j] += a[i - 1][j]\n",
    "- 按行操作：a[i][j] *= a[i][j - 1]\n",
    "'''\n",
    "print( 'cunsum和cumprod函数演示')\n",
    "arr = np.array([[0, 1, 2], [3, 4, 5], [6, 7, 8]])\n",
    "print( arr.cumsum(0))\n",
    "print( arr.cumprod(1))"
   ]
  },
  {
   "cell_type": "markdown",
   "metadata": {},
   "source": [
    "## 利用数组进行数据处理 用于布尔型数组的方法\n",
    "    \n",
    "    • sum对True值计数\n",
    "   \n",
    "    • any和all测试布尔型数组，对于非布尔型数组，所有非0元素将会被当做True。"
   ]
  },
  {
   "cell_type": "code",
   "execution_count": 55,
   "metadata": {},
   "outputs": [
    {
     "name": "stdout",
     "output_type": "stream",
     "text": [
      "对正数求和\n",
      "57\n",
      "\n",
      "对数组逻辑操作\n",
      "True\n",
      "False\n"
     ]
    }
   ],
   "source": [
    "# -*- coding: utf-8 -*-\n",
    "\n",
    "import numpy as np\n",
    "import numpy.random as np_random\n",
    "\n",
    "print( '对正数求和')\n",
    "arr = np_random.randn(100)\n",
    "print( (arr > 0).sum())\n",
    "print()\n",
    "\n",
    "print( '对数组逻辑操作')\n",
    "bools = np.array([False, False, True, False])\n",
    "print( bools.any() )# 有一个为True则返回True\n",
    "print( bools.all() )# 有一个为False则返回False"
   ]
  },
  {
   "cell_type": "markdown",
   "metadata": {},
   "source": [
    "#### 利用数组进行数据处理 排序\n",
    "    \n",
    "    • 直接排序\n",
    "    \n",
    "    • 指定轴排序"
   ]
  },
  {
   "cell_type": "code",
   "execution_count": 56,
   "metadata": {},
   "outputs": [
    {
     "name": "stdout",
     "output_type": "stream",
     "text": [
      "一维数组排序\n",
      "[-1.04290471 -0.96303066 -0.56630663 -0.50688474 -0.46825999 -0.33525695\n",
      "  0.03975222  0.16523105]\n",
      "\n",
      "二维数组排序\n",
      "[[-0.61578019  0.02337879 -0.22671731]\n",
      " [-1.16556903 -0.86991496 -0.12840574]\n",
      " [ 0.44176582  1.03692449 -1.18886321]\n",
      " [ 0.14694517 -0.06955229 -0.61823248]\n",
      " [ 0.93366221  0.5923785   0.75974977]]\n",
      "[[-0.61578019 -0.22671731  0.02337879]\n",
      " [-1.16556903 -0.86991496 -0.12840574]\n",
      " [-1.18886321  0.44176582  1.03692449]\n",
      " [-0.61823248 -0.06955229  0.14694517]\n",
      " [ 0.5923785   0.75974977  0.93366221]]\n",
      "找位置在5%的数字\n",
      "-1.6525408601851281\n"
     ]
    }
   ],
   "source": [
    "# -*- coding: utf-8 -*-\n",
    "\n",
    "import numpy as np\n",
    "import numpy.random as np_random\n",
    "\n",
    "print( '一维数组排序')\n",
    "arr = np_random.randn(8)\n",
    "arr.sort()\n",
    "print( arr)\n",
    "print()\n",
    "\n",
    "print( '二维数组排序')\n",
    "arr = np_random.randn(5, 3)\n",
    "print( arr)\n",
    "arr.sort(1) # 对每一行元素做排序\n",
    "print( arr)\n",
    "\n",
    "print( '找位置在5%的数字')\n",
    "large_arr = np_random.randn(1000)\n",
    "large_arr.sort()\n",
    "print( large_arr[int(0.05 * len(large_arr))])"
   ]
  },
  {
   "cell_type": "markdown",
   "metadata": {},
   "source": [
    "### 利用数组进行数据处理 去重以及其它集合运算\n",
    "\n",
    "    • 去重以及其它集合运算\n",
    " \n",
    "        类型                   说明\n",
    "        \n",
    "        unique(x)              计算x中的唯一元素，并返回有序结果。\n",
    "        \n",
    "        intersect1d(x, y)      计算x和y中的公共元素，并返回有序结果。\n",
    "        \n",
    "        union1d(x, y)          计算x和y的并集，并返回有序结果。\n",
    "        \n",
    "        in1d(x, y)             得到一个表述\"x的元素是否包含于y\"的布尔型数组\n",
    "        \n",
    "        setdiff1d(x, y)        集合的差，即元素在x中且不在y中\n",
    "        \n",
    "        setxor1d(x, y)         集合的异或，即存在于一个数组中但不同时存在于两个数组中的元素。"
   ]
  },
  {
   "cell_type": "code",
   "execution_count": 57,
   "metadata": {},
   "outputs": [
    {
     "name": "stdout",
     "output_type": "stream",
     "text": [
      "用unique函数去重\n",
      "['Bob', 'Joe', 'Will']\n",
      "['Bob' 'Joe' 'Will']\n",
      "[1 2 3 4]\n",
      "\n",
      "查找数组元素是否在另一数组\n",
      "[ True False False  True  True False  True]\n"
     ]
    }
   ],
   "source": [
    "# -*- coding: utf-8 -*-\n",
    "\n",
    "import numpy as np\n",
    "import numpy.random as np_random\n",
    "\n",
    "print( '用unique函数去重')\n",
    "names = np.array(['Bob', 'Joe', 'Will', 'Bob', 'Will', 'Joe', 'Joe'])\n",
    "print( sorted(set(names))  )# 传统Python做法\n",
    "print( np.unique(names))\n",
    "ints = np.array([3, 3, 3, 2, 2, 1, 1, 4, 4])\n",
    "print( np.unique(ints))\n",
    "print()\n",
    "\n",
    "print( '查找数组元素是否在另一数组')\n",
    "values = np.array([6, 0, 0, 3, 2, 5, 6])\n",
    "print( np.in1d(values, [2, 3, 6]))"
   ]
  },
  {
   "cell_type": "markdown",
   "metadata": {},
   "source": [
    "### 数组文件的输入输出\n",
    "        \n",
    "        • 将数组以二进制格式保存到磁盘\n",
    "        \n",
    "        • 存取文本文件"
   ]
  },
  {
   "cell_type": "code",
   "execution_count": 58,
   "metadata": {},
   "outputs": [
    {
     "name": "stdout",
     "output_type": "stream",
     "text": [
      "读取csv文件做为数组\n"
     ]
    },
    {
     "ename": "OSError",
     "evalue": "array_ex.txt not found.",
     "output_type": "error",
     "traceback": [
      "\u001b[1;31m---------------------------------------------------------------------------\u001b[0m",
      "\u001b[1;31mOSError\u001b[0m                                   Traceback (most recent call last)",
      "\u001b[1;32m<ipython-input-58-12c35eedc89f>\u001b[0m in \u001b[0;36m<module>\u001b[1;34m()\u001b[0m\n\u001b[0;32m      4\u001b[0m \u001b[1;33m\u001b[0m\u001b[0m\n\u001b[0;32m      5\u001b[0m \u001b[0mprint\u001b[0m\u001b[1;33m(\u001b[0m \u001b[1;34m'读取csv文件做为数组'\u001b[0m\u001b[1;33m)\u001b[0m\u001b[1;33m\u001b[0m\u001b[0m\n\u001b[1;32m----> 6\u001b[1;33m \u001b[0marr\u001b[0m \u001b[1;33m=\u001b[0m \u001b[0mnp\u001b[0m\u001b[1;33m.\u001b[0m\u001b[0mloadtxt\u001b[0m\u001b[1;33m(\u001b[0m\u001b[1;34m'array_ex.txt'\u001b[0m\u001b[1;33m,\u001b[0m \u001b[0mdelimiter\u001b[0m \u001b[1;33m=\u001b[0m \u001b[1;34m','\u001b[0m\u001b[1;33m)\u001b[0m\u001b[1;33m\u001b[0m\u001b[0m\n\u001b[0m\u001b[0;32m      7\u001b[0m \u001b[0mprint\u001b[0m\u001b[1;33m(\u001b[0m \u001b[0marr\u001b[0m\u001b[1;33m)\u001b[0m\u001b[1;33m\u001b[0m\u001b[0m\n",
      "\u001b[1;32m~\\Anaconda3\\lib\\site-packages\\numpy\\lib\\npyio.py\u001b[0m in \u001b[0;36mloadtxt\u001b[1;34m(fname, dtype, comments, delimiter, converters, skiprows, usecols, unpack, ndmin, encoding)\u001b[0m\n\u001b[0;32m    915\u001b[0m             \u001b[0mfname\u001b[0m \u001b[1;33m=\u001b[0m \u001b[0mstr\u001b[0m\u001b[1;33m(\u001b[0m\u001b[0mfname\u001b[0m\u001b[1;33m)\u001b[0m\u001b[1;33m\u001b[0m\u001b[0m\n\u001b[0;32m    916\u001b[0m         \u001b[1;32mif\u001b[0m \u001b[0m_is_string_like\u001b[0m\u001b[1;33m(\u001b[0m\u001b[0mfname\u001b[0m\u001b[1;33m)\u001b[0m\u001b[1;33m:\u001b[0m\u001b[1;33m\u001b[0m\u001b[0m\n\u001b[1;32m--> 917\u001b[1;33m             \u001b[0mfh\u001b[0m \u001b[1;33m=\u001b[0m \u001b[0mnp\u001b[0m\u001b[1;33m.\u001b[0m\u001b[0mlib\u001b[0m\u001b[1;33m.\u001b[0m\u001b[0m_datasource\u001b[0m\u001b[1;33m.\u001b[0m\u001b[0mopen\u001b[0m\u001b[1;33m(\u001b[0m\u001b[0mfname\u001b[0m\u001b[1;33m,\u001b[0m \u001b[1;34m'rt'\u001b[0m\u001b[1;33m,\u001b[0m \u001b[0mencoding\u001b[0m\u001b[1;33m=\u001b[0m\u001b[0mencoding\u001b[0m\u001b[1;33m)\u001b[0m\u001b[1;33m\u001b[0m\u001b[0m\n\u001b[0m\u001b[0;32m    918\u001b[0m             \u001b[0mfencoding\u001b[0m \u001b[1;33m=\u001b[0m \u001b[0mgetattr\u001b[0m\u001b[1;33m(\u001b[0m\u001b[0mfh\u001b[0m\u001b[1;33m,\u001b[0m \u001b[1;34m'encoding'\u001b[0m\u001b[1;33m,\u001b[0m \u001b[1;34m'latin1'\u001b[0m\u001b[1;33m)\u001b[0m\u001b[1;33m\u001b[0m\u001b[0m\n\u001b[0;32m    919\u001b[0m             \u001b[0mfh\u001b[0m \u001b[1;33m=\u001b[0m \u001b[0miter\u001b[0m\u001b[1;33m(\u001b[0m\u001b[0mfh\u001b[0m\u001b[1;33m)\u001b[0m\u001b[1;33m\u001b[0m\u001b[0m\n",
      "\u001b[1;32m~\\Anaconda3\\lib\\site-packages\\numpy\\lib\\_datasource.py\u001b[0m in \u001b[0;36mopen\u001b[1;34m(path, mode, destpath, encoding, newline)\u001b[0m\n\u001b[0;32m    258\u001b[0m \u001b[1;33m\u001b[0m\u001b[0m\n\u001b[0;32m    259\u001b[0m     \u001b[0mds\u001b[0m \u001b[1;33m=\u001b[0m \u001b[0mDataSource\u001b[0m\u001b[1;33m(\u001b[0m\u001b[0mdestpath\u001b[0m\u001b[1;33m)\u001b[0m\u001b[1;33m\u001b[0m\u001b[0m\n\u001b[1;32m--> 260\u001b[1;33m     \u001b[1;32mreturn\u001b[0m \u001b[0mds\u001b[0m\u001b[1;33m.\u001b[0m\u001b[0mopen\u001b[0m\u001b[1;33m(\u001b[0m\u001b[0mpath\u001b[0m\u001b[1;33m,\u001b[0m \u001b[0mmode\u001b[0m\u001b[1;33m,\u001b[0m \u001b[0mencoding\u001b[0m\u001b[1;33m=\u001b[0m\u001b[0mencoding\u001b[0m\u001b[1;33m,\u001b[0m \u001b[0mnewline\u001b[0m\u001b[1;33m=\u001b[0m\u001b[0mnewline\u001b[0m\u001b[1;33m)\u001b[0m\u001b[1;33m\u001b[0m\u001b[0m\n\u001b[0m\u001b[0;32m    261\u001b[0m \u001b[1;33m\u001b[0m\u001b[0m\n\u001b[0;32m    262\u001b[0m \u001b[1;33m\u001b[0m\u001b[0m\n",
      "\u001b[1;32m~\\Anaconda3\\lib\\site-packages\\numpy\\lib\\_datasource.py\u001b[0m in \u001b[0;36mopen\u001b[1;34m(self, path, mode, encoding, newline)\u001b[0m\n\u001b[0;32m    614\u001b[0m                                       encoding=encoding, newline=newline)\n\u001b[0;32m    615\u001b[0m         \u001b[1;32melse\u001b[0m\u001b[1;33m:\u001b[0m\u001b[1;33m\u001b[0m\u001b[0m\n\u001b[1;32m--> 616\u001b[1;33m             \u001b[1;32mraise\u001b[0m \u001b[0mIOError\u001b[0m\u001b[1;33m(\u001b[0m\u001b[1;34m\"%s not found.\"\u001b[0m \u001b[1;33m%\u001b[0m \u001b[0mpath\u001b[0m\u001b[1;33m)\u001b[0m\u001b[1;33m\u001b[0m\u001b[0m\n\u001b[0m\u001b[0;32m    617\u001b[0m \u001b[1;33m\u001b[0m\u001b[0m\n\u001b[0;32m    618\u001b[0m \u001b[1;33m\u001b[0m\u001b[0m\n",
      "\u001b[1;31mOSError\u001b[0m: array_ex.txt not found."
     ]
    }
   ],
   "source": [
    "# -*- coding: utf-8 -*-\n",
    "\n",
    "import numpy as np\n",
    "\n",
    "print( '读取csv文件做为数组')\n",
    "arr = np.loadtxt('array_ex.txt', delimiter = ',')\n",
    "print( arr)"
   ]
  },
  {
   "cell_type": "code",
   "execution_count": 59,
   "metadata": {},
   "outputs": [
    {
     "name": "stdout",
     "output_type": "stream",
     "text": [
      "数组文件读写\n",
      "[0 1 2 3 4 5 6 7 8 9]\n",
      "多个数组压缩存储\n",
      "[0 1 2 3 4 5 6 7 8 9]\n"
     ]
    }
   ],
   "source": [
    "# -*- coding: utf-8 -*-\n",
    "\n",
    "import numpy as np\n",
    "\n",
    "print ('数组文件读写')\n",
    "arr = np.arange(10)\n",
    "np.save('some_array', arr)\n",
    "print( np.load('some_array.npy'))\n",
    "print\n",
    "\n",
    "print ('多个数组压缩存储')\n",
    "np.savez('array_archive.npz', a = arr, b = arr)\n",
    "arch = np.load('array_archive.npz')\n",
    "print( arch['b'])"
   ]
  },
  {
   "cell_type": "markdown",
   "metadata": {},
   "source": [
    "## 线性代数\n",
    "    \n",
    "    • 常用的numpy.linalg函数 I\n",
    "    类型           说明\n",
    "    diag           以一维数组的形式返回方阵的对角线（或非对角线元素），获将一维数组转换为方阵（非对角线元素为0）。\n",
    "    \n",
    "    dot            矩阵乘法\n",
    "    \n",
    "    trace          计算对角线元素的和\n",
    "    \n",
    "    det            计算矩阵行列式\n",
    "    \n",
    "    eig            计算方阵的特征值和特征向量\n",
    "    \n",
    "    inv            计算方阵的逆\n",
    "    \n",
    "    pinv           计算矩阵的Moore-Penrose伪逆\n",
    "    \n",
    "    qr             计算QR分解\n",
    "    \n",
    "    svd            计算奇异值分解\n",
    "    \n",
    "    solve          解线性方程Ax = b，其中A为一个方阵。\n",
    "    \n",
    "    lstsq          计算Ax = b的最小二乘解"
   ]
  },
  {
   "cell_type": "code",
   "execution_count": 60,
   "metadata": {},
   "outputs": [
    {
     "name": "stdout",
     "output_type": "stream",
     "text": [
      "矩阵乘法\n",
      "[[ 28.  64.]\n",
      " [ 67. 181.]]\n",
      "[ 6. 15.]\n",
      "矩阵求逆\n",
      "[[ 5.05589686  5.1641623  -7.53487633  5.17772281  0.18606055]\n",
      " [ 5.1641623   6.74731089 -8.74787242  5.75845279  0.22781773]\n",
      " [-7.53487633 -8.74787242 12.99403627 -8.61317561 -0.14948832]\n",
      " [ 5.17772281  5.75845279 -8.61317561  5.89025217  0.1379267 ]\n",
      " [ 0.18606055  0.22781773 -0.14948832  0.1379267   0.20220517]]\n",
      "[[ 1.00000000e+00 -6.66133815e-16 -5.68989300e-16 -1.16573418e-15\n",
      "   2.77555756e-17]\n",
      " [-1.02695630e-15  1.00000000e+00  3.33066907e-16  4.16333634e-16\n",
      "  -2.77555756e-17]\n",
      " [-4.16333634e-15 -7.66053887e-15  1.00000000e+00 -3.52495810e-15\n",
      "  -1.66533454e-16]\n",
      " [ 1.74860126e-15  7.49400542e-16  1.48769885e-14  1.00000000e+00\n",
      "  -1.38777878e-16]\n",
      " [ 2.22044605e-15 -8.88178420e-16 -9.99200722e-16  2.22044605e-16\n",
      "   1.00000000e+00]]\n",
      "\n",
      "矩阵消元\n",
      "[[ 2.11981353 -0.25243892 -0.33694962 -2.09796986 -0.48419916]\n",
      " [-0.25243892  1.35775017  1.25179887  0.74562874 -0.88060771]\n",
      " [-0.33694962  1.25179887  3.75338204  4.59506551 -1.45982608]\n",
      " [-2.09796986  0.74562874  4.59506551  8.02740378 -0.9881187 ]\n",
      " [-0.48419916 -0.88060771 -1.45982608 -0.9881187   5.97793516]]\n",
      "[[-0.69486039 -0.14831704 -0.53676498 -0.0440492   0.45289526]\n",
      " [ 0.08274775 -0.63272733  0.5335386   0.02517024  0.5545376 ]\n",
      " [ 0.11044978 -0.56998239 -0.34513986  0.64140102 -0.36387378]\n",
      " [ 0.68770019 -0.09608262 -0.55483292 -0.31189984  0.3357313 ]\n",
      " [ 0.15871718  0.49350419  0.01608825  0.69910611  0.49219335]]\n",
      "[[-3.05070421  0.79902295  3.68060465  7.39063492  0.37161661]\n",
      " [ 0.         -2.04137352 -4.04336986 -4.0386561   4.50615176]\n",
      " [ 0.          0.         -3.01967564 -4.53176678  0.93832243]\n",
      " [ 0.          0.          0.         -0.13608449  3.55023458]\n",
      " [ 0.          0.          0.          0.          2.4341284 ]]\n"
     ]
    }
   ],
   "source": [
    "# -*- coding: utf-8 -*-\n",
    "\n",
    "import numpy as np\n",
    "import numpy.random as np_random\n",
    "from numpy.linalg import inv, qr\n",
    "\n",
    "print( '矩阵乘法')\n",
    "x = np.array([[1., 2., 3.], [4., 5., 6.]])\n",
    "y = np.array([[6., 23.], [-1, 7], [8, 9]])\n",
    "print( x.dot(y))\n",
    "print( np.dot(x, np.ones(3)))\n",
    "x = np_random.randn(5, 5)\n",
    "print\n",
    "\n",
    "print( '矩阵求逆')\n",
    "mat = x.T.dot(x)\n",
    "print( inv(mat) ) # 矩阵求逆\n",
    "print( mat.dot(inv(mat)) )# 与逆矩阵相乘，得到单位矩阵。\n",
    "print()\n",
    "\n",
    "print( '矩阵消元')\n",
    "print( mat)\n",
    "q, r = qr(mat)\n",
    "print( q)\n",
    "print( r)\n",
    "# TODO: http://docs.scipy.org/doc/numpy/reference/generated/numpy.linalg.qr.html q代表什么矩阵？"
   ]
  },
  {
   "cell_type": "markdown",
   "metadata": {},
   "source": [
    "## 随机数生成\n",
    "    \n",
    "*部分numpy.random函数 I\n",
    "    \n",
    "    类型                 说明\n",
    "    \n",
    "    seed                 确定随机数生成器的种子\n",
    "   \n",
    "    permutation          返回一个序列的随机排列或返回一个随机排列的返回\n",
    "    \n",
    "    shuffle              对一个序列就地随机乱序\n",
    "    \n",
    "    rand                 产生均匀分布的样本值\n",
    "    \n",
    "    randint              从给定的上下限范围内随机选取整数\n",
    "    \n",
    "    randn                产生正态分布（平均值为0，标准差为1）\n",
    "    \n",
    "    binomial             产生二项分布的样本值\n",
    "    \n",
    "    normal               产生正态（高斯）分布的样本值\n",
    "    \n",
    "    beta                 产生Beta分布的样本值\n",
    "    \n",
    "    chisquare            产生卡方分布的样本值\n",
    "    \n",
    "    gamma                产Gamma分布的样本值\n",
    "    \n",
    "    uniform              产生在[0, 1]中均匀分布的样本值"
   ]
  },
  {
   "cell_type": "code",
   "execution_count": 62,
   "metadata": {},
   "outputs": [
    {
     "name": "stdout",
     "output_type": "stream",
     "text": [
      "正态分布随机数\n",
      "[[ 0.72262521 -0.01727341  0.66764083  0.64023154]\n",
      " [-0.23272314  0.74776972  1.45270101  0.28370107]\n",
      " [ 1.80751702  0.60059848 -0.75529377  0.69850862]\n",
      " [ 0.00358363 -0.16445963  0.1916229   0.40202404]]\n",
      "批量按正态分布生成0到1的随机数\n",
      "[0.35197103022929555, -1.7520223978640588, 0.3329364631920939, 0.8993477096690395, 0.2339469199445796, 0.25749052874712386, -0.8884729671528936, 1.0120049098586636, -0.4369323522698964, -1.1799406846182179]\n",
      "[-0.05255394  0.27638275  0.75204541  0.15350699  0.89702916 -2.25378038\n",
      "  1.73965469 -1.12529848  0.09988553 -0.56567102]\n"
     ]
    }
   ],
   "source": [
    "# -*- coding: utf-8 -*-\n",
    "\n",
    "import numpy as np\n",
    "import numpy.random as np_random\n",
    "from random import normalvariate\n",
    "\n",
    "print( '正态分布随机数')\n",
    "samples = np.random.normal(size=(4, 4))\n",
    "print( samples)\n",
    "\n",
    "print( '批量按正态分布生成0到1的随机数')\n",
    "N = 10\n",
    "print( [normalvariate(0, 1) for _ in range(N)])\n",
    "print( np.random.normal(size = N) ) # 与上面代码等价"
   ]
  },
  {
   "cell_type": "markdown",
   "metadata": {},
   "source": [
    "### 高级应用 数组重塑\n",
    "    \n",
    "    \n",
    "    • reshape重塑数组\n",
    "    \n",
    "    • -1自动推导维度大小"
   ]
  },
  {
   "cell_type": "code",
   "execution_count": 63,
   "metadata": {},
   "outputs": [
    {
     "name": "stdout",
     "output_type": "stream",
     "text": [
      "将一维数组转换为二维数组\n",
      "[[0 1]\n",
      " [2 3]\n",
      " [4 5]\n",
      " [6 7]]\n",
      "[[0 1 2 3]\n",
      " [4 5 6 7]]\n",
      "\n",
      "维度大小自动推导\n",
      "[[ 0  1  2]\n",
      " [ 3  4  5]\n",
      " [ 6  7  8]\n",
      " [ 9 10 11]\n",
      " [12 13 14]]\n",
      "\n",
      "获取维度信息并应用\n",
      "(3, 5)\n",
      "[[ 0  1  2  3  4]\n",
      " [ 5  6  7  8  9]\n",
      " [10 11 12 13 14]]\n",
      "\n",
      "高维数组拉平\n",
      "[ 0  1  2  3  4  5  6  7  8  9 10 11 12 13 14]\n"
     ]
    }
   ],
   "source": [
    "# -*- coding: utf-8 -*-\n",
    "\n",
    "import numpy as np\n",
    "\n",
    "print( \"将一维数组转换为二维数组\")\n",
    "arr = np.arange(8)\n",
    "print( arr.reshape((4, 2)))\n",
    "print( arr.reshape((4, 2)).reshape((2, 4)) )# 支持链式操作\n",
    "print()\n",
    "\n",
    "print( \"维度大小自动推导\")\n",
    "arr = np.arange(15)\n",
    "print( arr.reshape((5, -1)))\n",
    "print()\n",
    "\n",
    "print( \"获取维度信息并应用\")\n",
    "other_arr = np.ones((3, 5))\n",
    "print( other_arr.shape)\n",
    "print( arr.reshape(other_arr.shape))\n",
    "print()\n",
    "\n",
    "print( \"高维数组拉平\")\n",
    "arr = np.arange(15).reshape((5, 3))\n",
    "print( arr.ravel())\n"
   ]
  },
  {
   "cell_type": "markdown",
   "metadata": {},
   "source": [
    "#### 高级应用 数组的合并和拆分\n",
    "    \n",
    "    • 数组连接函数\n",
    "    \n",
    "    类型                       说明\n",
    "    \n",
    "    concatenate                最一般化的连接，沿一条轴连接一组数组\n",
    "    \n",
    "    vstack, row_stack          以面向行的方式对数组进行堆叠（沿轴0）\n",
    "    \n",
    "    hstack,                    以面向行的方式对数组进行堆叠（沿轴1）\n",
    "    \n",
    "    column_stack               类似于hstack，但是会先将一维数组转换为二维列向量。\n",
    "    \n",
    "    dstack                     以面向“深度”的方式对数组进行堆叠（沿轴2）\n",
    "    \n",
    "    split                      沿指定轴在指定的位置拆分数组\n",
    "   \n",
    "    hsplit, vsplit, dsplit     split的便捷化函数，分别沿着轴0、轴1和轴2进行拆分。"
   ]
  },
  {
   "cell_type": "code",
   "execution_count": 64,
   "metadata": {},
   "outputs": [
    {
     "name": "stdout",
     "output_type": "stream",
     "text": [
      "连接两个二维数组\n",
      "[[ 1  2  3]\n",
      " [ 4  5  6]\n",
      " [ 7  8  9]\n",
      " [10 11 12]]\n",
      "[[ 1  2  3  7  8  9]\n",
      " [ 4  5  6 10 11 12]]\n",
      "\n",
      "垂直stack与水平stack\n",
      "[[ 1  2  3]\n",
      " [ 4  5  6]\n",
      " [ 7  8  9]\n",
      " [10 11 12]]\n",
      "[[ 1  2  3  7  8  9]\n",
      " [ 4  5  6 10 11 12]]\n",
      "\n",
      "拆分数组\n",
      "[[-1.50739094  0.27893589  1.3040398  -0.39812249 -0.85577805]\n",
      " [ 1.68278541 -1.65120583  1.87018562 -0.7350545   1.94536762]\n",
      " [ 0.75793512 -0.4928217  -0.64960117  1.06046349  0.01438919]\n",
      " [ 0.97317673  2.47733875  0.01886481  1.01892001 -0.21553472]\n",
      " [-1.68768112 -0.60200923  0.24618601  0.32872786  0.57102222]]\n",
      "水平拆分\n",
      "first\n",
      "[[-1.50739094  0.27893589  1.3040398  -0.39812249 -0.85577805]]\n",
      "second\n",
      "[[ 1.68278541 -1.65120583  1.87018562 -0.7350545   1.94536762]\n",
      " [ 0.75793512 -0.4928217  -0.64960117  1.06046349  0.01438919]]\n",
      "third\n",
      "[[ 0.97317673  2.47733875  0.01886481  1.01892001 -0.21553472]\n",
      " [-1.68768112 -0.60200923  0.24618601  0.32872786  0.57102222]]\n",
      "垂直拆分\n",
      "first\n",
      "[[-1.50739094]\n",
      " [ 1.68278541]\n",
      " [ 0.75793512]\n",
      " [ 0.97317673]\n",
      " [-1.68768112]]\n",
      "second\n",
      "[[ 0.27893589  1.3040398 ]\n",
      " [-1.65120583  1.87018562]\n",
      " [-0.4928217  -0.64960117]\n",
      " [ 2.47733875  0.01886481]\n",
      " [-0.60200923  0.24618601]]\n",
      "third\n",
      "[[-0.39812249 -0.85577805]\n",
      " [-0.7350545   1.94536762]\n",
      " [ 1.06046349  0.01438919]\n",
      " [ 1.01892001 -0.21553472]\n",
      " [ 0.32872786  0.57102222]]\n",
      "\n",
      "r_用于按行堆叠\n",
      "[[ 0.          1.        ]\n",
      " [ 2.          3.        ]\n",
      " [ 4.          5.        ]\n",
      " [-0.17657531 -0.43076462]\n",
      " [ 0.99003573 -1.15020267]\n",
      " [ 1.43023174  0.73113278]]\n",
      "c_用于按列堆叠\n",
      "[[ 0.          1.          0.        ]\n",
      " [ 2.          3.          1.        ]\n",
      " [ 4.          5.          2.        ]\n",
      " [-0.17657531 -0.43076462  3.        ]\n",
      " [ 0.99003573 -1.15020267  4.        ]\n",
      " [ 1.43023174  0.73113278  5.        ]]\n",
      "切片直接转为数组\n",
      "[[  1 -10]\n",
      " [  2  -9]\n",
      " [  3  -8]\n",
      " [  4  -7]\n",
      " [  5  -6]]\n"
     ]
    }
   ],
   "source": [
    "# 高级应用 数组的合并和拆分\n",
    "# • _r对象\n",
    "# • _c对象\n",
    "\n",
    "# -*- coding: utf-8 -*-\n",
    "\n",
    "import numpy as np\n",
    "import numpy.random as np_random\n",
    "\n",
    "\n",
    "print( '连接两个二维数组')\n",
    "arr1 = np.array([[1, 2, 3], [4, 5, 6]])\n",
    "arr2 = np.array([[7, 8, 9], [10, 11, 12]])\n",
    "print( np.concatenate([arr1, arr2], axis = 0))  # 按行连接\n",
    "print( np.concatenate([arr1, arr2], axis = 1) ) # 按列连接\n",
    "print()\n",
    "\n",
    "# 所谓堆叠，参考叠盘子。。。连接的另一种表述\n",
    "print( '垂直stack与水平stack')\n",
    "print( np.vstack((arr1, arr2)) )# 垂直堆叠\n",
    "print( np.hstack((arr1, arr2)) )# 水平堆叠\n",
    "print()\n",
    "\n",
    "print( '拆分数组')\n",
    "arr = np_random.randn(5, 5)\n",
    "print( arr)\n",
    "print( '水平拆分')\n",
    "first, second, third = np.split(arr, [1, 3], axis = 0)\n",
    "print( 'first')\n",
    "print( first)\n",
    "print( 'second')\n",
    "print( second)\n",
    "print( 'third')\n",
    "print( third)\n",
    "print( '垂直拆分')\n",
    "first, second, third = np.split(arr, [1, 3], axis = 1)\n",
    "print( 'first')\n",
    "print( first)\n",
    "print( 'second')\n",
    "print( second)\n",
    "print( 'third')\n",
    "print( third)\n",
    "print()\n",
    "\n",
    "# 堆叠辅助类\n",
    "arr = np.arange(6)\n",
    "arr1 = arr.reshape((3, 2))\n",
    "arr2 = np_random.randn(3, 2)\n",
    "print( 'r_用于按行堆叠')\n",
    "print( np.r_[arr1, arr2])\n",
    "print( 'c_用于按列堆叠')\n",
    "print( np.c_[np.r_[arr1, arr2], arr])\n",
    "print( '切片直接转为数组')\n",
    "print( np.c_[1:6, -10:-5])"
   ]
  },
  {
   "cell_type": "code",
   "execution_count": 65,
   "metadata": {},
   "outputs": [
    {
     "name": "stdout",
     "output_type": "stream",
     "text": [
      "Repeat: 按元素\n",
      "[0 0 0 1 1 1 2 2 2]\n",
      "[0 0 1 1 1 2 2 2 2]\n",
      "\n",
      "Repeat，指定轴\n",
      "[[ 0.85558853 -0.51938118]\n",
      " [-0.38983746 -0.56086017]]\n",
      "[[ 0.85558853 -0.51938118]\n",
      " [ 0.85558853 -0.51938118]\n",
      " [-0.38983746 -0.56086017]\n",
      " [-0.38983746 -0.56086017]]\n",
      "[[ 0.85558853  0.85558853 -0.51938118 -0.51938118]\n",
      " [-0.38983746 -0.38983746 -0.56086017 -0.56086017]]\n",
      "[[ 0.85558853 -0.51938118]\n",
      " [ 0.85558853 -0.51938118]\n",
      " [-0.38983746 -0.56086017]\n",
      " [-0.38983746 -0.56086017]]\n",
      "\n",
      "Tile: 参考贴瓷砖\n",
      "[[ 0.85558853 -0.51938118  0.85558853 -0.51938118]\n",
      " [-0.38983746 -0.56086017 -0.38983746 -0.56086017]]\n",
      "[[ 0.85558853 -0.51938118  0.85558853 -0.51938118  0.85558853 -0.51938118]\n",
      " [-0.38983746 -0.56086017 -0.38983746 -0.56086017 -0.38983746 -0.56086017]\n",
      " [ 0.85558853 -0.51938118  0.85558853 -0.51938118  0.85558853 -0.51938118]\n",
      " [-0.38983746 -0.56086017 -0.38983746 -0.56086017 -0.38983746 -0.56086017]]\n"
     ]
    }
   ],
   "source": [
    "# 高级应用 元素的重复操作\n",
    "# • _tile\n",
    "# • _repeat\n",
    "\n",
    "# -*- coding: utf-8 -*-\n",
    "\n",
    "import numpy as np\n",
    "import numpy.random as np_random\n",
    "\n",
    "print( 'Repeat: 按元素')\n",
    "arr = np.arange(3)\n",
    "print( arr.repeat(3))\n",
    "print( arr.repeat([2, 3, 4]) )# 3个元素，分别复制2, 3, 4次。长度要匹配！\n",
    "print()\n",
    "\n",
    "print( 'Repeat，指定轴')\n",
    "arr = np_random.randn(2, 2)\n",
    "print( arr)\n",
    "print( arr.repeat(2, axis = 0) )# 按行repeat\n",
    "print( arr.repeat(2, axis = 1) )# 按列repeat\n",
    "print( arr.repeat(2, axis = 0) )# 按行repeat\n",
    "print()\n",
    "\n",
    "print( 'Tile: 参考贴瓷砖')\n",
    "print( np.tile(arr, 2))\n",
    "print( np.tile(arr, (2, 3))  )# 指定每个轴的tile次数"
   ]
  },
  {
   "cell_type": "code",
   "execution_count": 66,
   "metadata": {},
   "outputs": [
    {
     "name": "stdout",
     "output_type": "stream",
     "text": [
      "Fancy Indexing例子代码\n",
      "[700 100 200 600]\n",
      "\n",
      "使用take\n",
      "[700 100 200 600]\n",
      "\n",
      "使用put更新内容\n",
      "[  0  50  50 300 400 500  50  50 800 900]\n",
      "[  0  10  20 300 400 500  60  70 800 900]\n",
      "\n",
      "take，指定轴\n",
      "[[-0.68597485  0.31199106  1.9844973  -1.16057453]\n",
      " [ 0.95050131 -1.91944919 -1.31272053 -0.73857081]]\n",
      "[[ 1.9844973  -0.68597485  1.9844973   0.31199106]\n",
      " [-1.31272053  0.95050131 -1.31272053 -1.91944919]]\n"
     ]
    }
   ],
   "source": [
    "# 高级应用 花式索引的等价函数\n",
    "# • take\n",
    "# • put\n",
    "\n",
    "# -*- coding: utf-8 -*-\n",
    "\n",
    "import numpy as np\n",
    "import numpy.random as np_random\n",
    "\n",
    "print( 'Fancy Indexing例子代码')\n",
    "arr = np.arange(10) * 100\n",
    "inds = [7, 1, 2, 6]\n",
    "print( arr[inds])\n",
    "print()\n",
    "\n",
    "print( '使用take')\n",
    "print( arr.take(inds))\n",
    "print()\n",
    "\n",
    "print( '使用put更新内容')\n",
    "arr.put(inds, 50)\n",
    "print( arr)\n",
    "arr.put(inds, [70, 10, 20, 60])\n",
    "print( arr)\n",
    "print()\n",
    "\n",
    "print( 'take，指定轴')\n",
    "arr = np_random.randn(2, 4)\n",
    "inds = [2, 0, 2, 1]\n",
    "print( arr)\n",
    "print( arr.take(inds, axis = 1) ) # 按列take\n"
   ]
  },
  {
   "cell_type": "markdown",
   "metadata": {},
   "source": [
    "#### 例题分析 距离矩阵计算\n",
    "    • 方法1：标准方法计算D ij\n",
    "    • D[i, j] = numpy.linalg.norm(X[:, i], X[:, j) ** 2\n",
    "    • 方法2：利用dot计算D ij\n",
    "    • d = X[:, i] - X[:, j]\n",
    "    • D[i, j] = numpy.dot(d, d)"
   ]
  },
  {
   "cell_type": "code",
   "execution_count": 70,
   "metadata": {},
   "outputs": [
    {
     "name": "stdout",
     "output_type": "stream",
     "text": [
      "5.499385833740234\n",
      "3.4948811531066895\n",
      "1.6864240169525146\n",
      "0.015002250671386719\n"
     ]
    }
   ],
   "source": [
    "# 例题分析 距离矩阵计算\n",
    "# 给定m × n阶矩阵X，满足X = [x 1 , x 2 , ... x n ]，这里第i列向量是m维向量。\n",
    "# 求n × n矩阵，使得D ij = ||x i - x j || 2\n",
    "\n",
    "import numpy as np\n",
    "import numpy.linalg as la\n",
    "import time\n",
    "\n",
    "X = np.array([range(0, 500), range(500, 1000)])\n",
    "m, n = X.shape\n",
    "\n",
    "t = time.time()\n",
    "D = np.zeros([n, n])\n",
    "for i in range(n):\n",
    "    for j in range(i + 1, n):\n",
    "        D[i, j] = la.norm(X[:, i] - X[:, j]) ** 2\n",
    "        D[j, i] = D[i, j]\n",
    "print( time.time() - t)\n",
    "\n",
    "t = time.time()\n",
    "D = np.zeros([n, n])\n",
    "for i in range(n):\n",
    "    for j in range(i + 1, n):\n",
    "        d = X[:, i] - X[:, j]\n",
    "        D[i, j] = np.dot(d, d)\n",
    "        D[j, i] = D[i, j]\n",
    "print( time.time() - t)\n",
    "\n",
    "t = time.time()\n",
    "G = np.dot(X.T, X)\n",
    "D = np.zeros([n, n])\n",
    "for i in range(n):\n",
    "    for j in range(i + 1, n):\n",
    "        D[i, j] = G[i, i] - G[i, j] * 2 + G[j,j]\n",
    "        D[j, i] = D[i, j]\n",
    "print( time.time() - t)\n",
    "\n",
    "t = time.time()\n",
    "G = np.dot(X.T, X)\n",
    "H = np.tile(np.diag(G), (n, 1))\n",
    "D = H + H.T - G * 2\n",
    "print( time.time() - t)"
   ]
  },
  {
   "cell_type": "markdown",
   "metadata": {},
   "source": [
    "- 作业\n",
    "  *  将numpy数组保存到文件并读取\n",
    "  *  用numpy解一个线性方程组\n",
    "  *  自己实现一遍例题"
   ]
  }
 ],
 "metadata": {
  "kernelspec": {
   "display_name": "Python 3",
   "language": "python",
   "name": "python3"
  },
  "language_info": {
   "codemirror_mode": {
    "name": "ipython",
    "version": 3
   },
   "file_extension": ".py",
   "mimetype": "text/x-python",
   "name": "python",
   "nbconvert_exporter": "python",
   "pygments_lexer": "ipython3",
   "version": "3.6.0"
  }
 },
 "nbformat": 4,
 "nbformat_minor": 2
}
