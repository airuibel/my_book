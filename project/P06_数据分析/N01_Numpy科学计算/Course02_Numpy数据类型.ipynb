{
 "cells": [
  {
   "cell_type": "markdown",
   "metadata": {},
   "source": [
    "## Numpy 数据类型\n",
    "\n",
    "      数据类型；\n",
    "      数组类型；\n",
    "      类型转换；\n",
    "      创建数组；\n",
    "      数组索引；\n",
    "      数组切片；\n",
    "      改变维度。\n",
    "    不过，在正式学习之前，我想就本章中的示例代码做一些说明。本章代码段中的输入和输出\n",
    "    均来自IPython会话。我们曾在第1章介绍过用于科学计算的交互式shell工具IPython。IPython的\n",
    "    pylab模式可以自动导入包括NumPy在内的很多Python科学计算库，并且在IPython中没有必要显\n",
    "    式调用 print 语句输出变量的值。不过，本书配套的源代码文件中均为使用了 import 和 print\n",
    "    语句的标准Python代码。\n",
    "\n",
    "\n",
    "## NumPy 数组对象\n",
    "   \n",
    "    NumPy中的 ndarray 是一个多维数组对象，该对象由两部分组成：\n",
    "      实际的数据；\n",
    "      描述这些数据的元数据。\n",
    "    大部分的数组操作仅仅修改元数据部分，而不改变底层的实际数据。\n",
    "    \n",
    "    \n",
    "    NumPy数组一般是同质的（但有一种特殊的数组类型例外，它是异质的），即数组中的所有\n",
    "    元素类型必须是一致的。这样有一个好处：如果我们知道数组中的元素均为同一类型，该数组所\n",
    "    需的存储空间就很容易确定下来。"
   ]
  },
  {
   "cell_type": "code",
   "execution_count": 7,
   "metadata": {},
   "outputs": [
    {
     "name": "stdout",
     "output_type": "stream",
     "text": [
      "[0 1 2 3 4]\n",
      "int32\n"
     ]
    },
    {
     "data": {
      "text/plain": [
       "array([0, 1, 2, 3, 4])"
      ]
     },
     "execution_count": 7,
     "metadata": {},
     "output_type": "execute_result"
    }
   ],
   "source": [
    "import numpy as np\n",
    "arr = np.arange(5)\n",
    "print(arr)\n",
    "print(arr.dtype)\n",
    "arr"
   ]
  },
  {
   "cell_type": "code",
   "execution_count": 6,
   "metadata": {},
   "outputs": [
    {
     "data": {
      "text/plain": [
       "(5,)"
      ]
     },
     "execution_count": 6,
     "metadata": {},
     "output_type": "execute_result"
    }
   ],
   "source": [
    "# 数组的shape属性\n",
    "\n",
    "arr.shape\n",
    "# 数组的 shape 属性\n",
    "# 返回一个元组（tuple），元组中的元素即为NumPy数组每一个维度上的大小。上面例子中的数组\n",
    "# 是一维的，因此元组中只有一个元素"
   ]
  },
  {
   "cell_type": "code",
   "execution_count": 13,
   "metadata": {},
   "outputs": [
    {
     "name": "stdout",
     "output_type": "stream",
     "text": [
      "[[0 1 2]\n",
      " [0 1 2]]\n",
      "(2, 3)\n"
     ]
    }
   ],
   "source": [
    "# (1) 创建一个多维数组。\n",
    "# (2) 显示该数组的维度。\n",
    "\n",
    "import numpy as np\n",
    "m = np.array([np.arange(3),np.arange(3)])\n",
    "print(m)\n",
    "print(m.shape)\n",
    "\n",
    "# array 函数可以依据给定的对象生成数组。给定的对象应是类数组，如Python中的列表。在\n",
    "# 上面的例子中，我们传给 array 函数的对象是一个NumPy数组的列表。像这样的类数组对象是\n",
    "# array 函数的唯一必要参数，其余的诸多参数均为有默认值的可选参数。"
   ]
  },
  {
   "cell_type": "code",
   "execution_count": 21,
   "metadata": {
    "scrolled": true
   },
   "outputs": [
    {
     "name": "stdout",
     "output_type": "stream",
     "text": [
      "[[[0 1 2]\n",
      "  [0 1 2]\n",
      "  [0 1 2]]\n",
      "\n",
      " [[0 1 2]\n",
      "  [0 1 2]\n",
      "  [0 1 2]]\n",
      "\n",
      " [[0 1 2]\n",
      "  [0 1 2]\n",
      "  [0 1 2]]]\n",
      "[[[ 1.13033765e-311  8.15208316e-322  0.00000000e+000]\n",
      "  [ 0.00000000e+000  1.69119873e-306  1.16095484e-028]\n",
      "  [-1.30976430e+179 -3.54494842e-305 -3.99868646e-020]]\n",
      "\n",
      " [[-2.50397927e+171  4.47433019e-067 -3.37742562e-026]\n",
      "  [-4.01320607e-020 -8.60360618e+181  1.76542534e+137]\n",
      "  [ 2.44001263e-152  5.98747922e+247  2.91810402e-014]]\n",
      "\n",
      " [[ 2.59345444e+161  9.16526748e+242  5.08972024e+222]\n",
      "  [ 1.03063392e-113  7.54220740e-143  9.80058441e+252]\n",
      "  [ 1.23971686e+224  9.79117529e-307  2.46155235e-312]]]\n"
     ]
    }
   ],
   "source": [
    "# 创建3×3的多维数组\n",
    "\n",
    "import numpy as np\n",
    "\n",
    "n = np.array([[np.arange(3)] * 3]*3)\n",
    "print(n)\n",
    "m = np.ndarray((3,3,3))\n",
    "print(m)"
   ]
  },
  {
   "cell_type": "code",
   "execution_count": 29,
   "metadata": {},
   "outputs": [
    {
     "name": "stdout",
     "output_type": "stream",
     "text": [
      "[[1 2]\n",
      " [1 2]]\n",
      "1\n",
      "2\n",
      "[[[0 1 2]\n",
      "  [0 1 2]\n",
      "  [0 1 2]]\n",
      "\n",
      " [[0 1 2]\n",
      "  [0 1 2]\n",
      "  [0 1 2]]\n",
      "\n",
      " [[0 1 2]\n",
      "  [0 1 2]\n",
      "  [0 1 2]]]\n",
      "0\n",
      "[[2.59345444e+161 9.16526748e+242 5.08972024e+222]\n",
      " [1.03063392e-113 7.54220740e-143 9.80058441e+252]\n",
      " [1.23971686e+224 9.79117529e-307 2.46155235e-312]]\n"
     ]
    }
   ],
   "source": [
    "# 选取数组元素\n",
    "# 在创建这个多维数组时，我们给 array 函数传递的对象是一个嵌套的列表。现在来依次选取\n",
    "# 该数组中的元素。记住，数组的下标是从0开始的\n",
    "\n",
    "arr = np.array([np.arange(1,3),np.arange(1,3)])\n",
    "print(arr)\n",
    "print(arr[0,0])\n",
    "print(arr[1,1])\n",
    "\n",
    "arr = np.array([[np.arange(3)] *3] * 3)\n",
    "print(arr)\n",
    "print(arr[0,0,0])\n",
    "\n"
   ]
  },
  {
   "cell_type": "code",
   "execution_count": 36,
   "metadata": {},
   "outputs": [
    {
     "name": "stdout",
     "output_type": "stream",
     "text": [
      "[[[ 1.13033765e-311  8.15208316e-322  0.00000000e+000]\n",
      "  [ 0.00000000e+000  1.69119873e-306  1.16095484e-028]\n",
      "  [-1.30976430e+179 -3.54494842e-305 -3.99868646e-020]]\n",
      "\n",
      " [[-2.50397927e+171  4.47433019e-067 -3.37742562e-026]\n",
      "  [-4.01320607e-020 -8.60360618e+181  1.76542534e+137]\n",
      "  [ 2.44001263e-152  5.98747922e+247  2.91810402e-014]]\n",
      "\n",
      " [[ 2.59345444e+161  9.16526748e+242  5.08972024e+222]\n",
      "  [ 1.03063392e-113  7.54220740e-143  9.80058441e+252]\n",
      "  [ 1.23971686e+224  9.79117529e-307  2.46155235e-312]]]\n",
      "m[2]\n",
      "[[2.59345444e+161 9.16526748e+242 5.08972024e+222]\n",
      " [1.03063392e-113 7.54220740e-143 9.80058441e+252]\n",
      " [1.23971686e+224 9.79117529e-307 2.46155235e-312]]\n",
      "m[1,2]\n",
      "[2.44001263e-152 5.98747922e+247 2.91810402e-014]\n",
      "m[2,2,1]\n",
      "9.791175293693576e-307\n"
     ]
    }
   ],
   "source": [
    "#  用ndarray创建多维数组\n",
    "m = np.ndarray((3,3,3))\n",
    "print(m)\n",
    "print(\"m[2]\")\n",
    "print(m[2])\n",
    "print(\"m[1,2]\")\n",
    "print(m[1,2])\n",
    "print(\"m[2,2,1]\")\n",
    "print(m[2,2,1])"
   ]
  },
  {
   "cell_type": "markdown",
   "metadata": {},
   "source": [
    "## Numpy 的数据类型\n",
    "\n",
    "    类 型                     描 述\n",
    "    bool                      用一位存储的布尔类型（值为 TRUE 或 FALSE ）\n",
    "    inti                      由所在平台决定其精度的整数（一般为 int32 或 int64 ）\n",
    "    int8                      整数，范围为-128至128\n",
    "    int16                     整数，范围为-32 768至32 768\n",
    "    int32                     整数，范围为-2 31 至2 31 1\n",
    "    int64                     整数，范围为-2 63 至2 63 1\n",
    "    uint8                     无符号整数，范围为0至255\n",
    "    uint16                    无符号整数，范围为0至65 535\n",
    "    uint32                    无符号整数，范围为0至2 32 1\n",
    "    uint64                    无符号整数，范围为0至2 64 1\n",
    "    float16                   半精度浮点数（16位）：其中用1位表示正负号，5位表示指数，10位表示尾数\n",
    "    float32                   单精度浮点数（32位）：其中用1位表示正负号，8位表示指数，23位表示尾数\n",
    "    float64 或 float          双精度浮点数（64位）：其中用1位表示正负号，11位表示指数，52位表示尾数\n",
    "    complex64                 复数，分别用两个32位浮点数表示实部和虚部\n",
    "    complex128 或 complex     复数，分别用两个64位浮点数表示实部和虚部\n",
    "    \n",
    "    \n",
    "- 每一种数据类型均有对应的类型转换函数\n",
    "  \n",
    "  -  需要注意的是，复数是不能转换为整数的，这将触发 TypeError 错误\n",
    "   "
   ]
  },
  {
   "cell_type": "code",
   "execution_count": 91,
   "metadata": {},
   "outputs": [
    {
     "data": {
      "text/plain": [
       "-32768"
      ]
     },
     "execution_count": 91,
     "metadata": {},
     "output_type": "execute_result"
    }
   ],
   "source": [
    "import numpy as np\n",
    "np.float64(42)\n",
    "np.int8(-129)\n",
    "np.int16(32768)"
   ]
  },
  {
   "cell_type": "code",
   "execution_count": 39,
   "metadata": {},
   "outputs": [
    {
     "data": {
      "text/plain": [
       "42"
      ]
     },
     "execution_count": 39,
     "metadata": {},
     "output_type": "execute_result"
    }
   ],
   "source": [
    "np.int8(42.0)"
   ]
  },
  {
   "cell_type": "code",
   "execution_count": 40,
   "metadata": {},
   "outputs": [
    {
     "data": {
      "text/plain": [
       "True"
      ]
     },
     "execution_count": 40,
     "metadata": {},
     "output_type": "execute_result"
    }
   ],
   "source": [
    "np.bool(42)"
   ]
  },
  {
   "cell_type": "code",
   "execution_count": 41,
   "metadata": {},
   "outputs": [
    {
     "data": {
      "text/plain": [
       "False"
      ]
     },
     "execution_count": 41,
     "metadata": {},
     "output_type": "execute_result"
    }
   ],
   "source": [
    "np.bool(0)"
   ]
  },
  {
   "cell_type": "code",
   "execution_count": 42,
   "metadata": {},
   "outputs": [
    {
     "data": {
      "text/plain": [
       "1.0"
      ]
     },
     "execution_count": 42,
     "metadata": {},
     "output_type": "execute_result"
    }
   ],
   "source": [
    "np.float(True)"
   ]
  },
  {
   "cell_type": "code",
   "execution_count": 43,
   "metadata": {},
   "outputs": [
    {
     "data": {
      "text/plain": [
       "0.0"
      ]
     },
     "execution_count": 43,
     "metadata": {},
     "output_type": "execute_result"
    }
   ],
   "source": [
    "np.float(False)"
   ]
  },
  {
   "cell_type": "code",
   "execution_count": 46,
   "metadata": {
    "scrolled": true
   },
   "outputs": [
    {
     "data": {
      "text/plain": [
       "array([0, 1, 2, 3, 4, 5, 6], dtype=uint16)"
      ]
     },
     "execution_count": 46,
     "metadata": {},
     "output_type": "execute_result"
    }
   ],
   "source": [
    "import numpy as np\n",
    "#  在NumPy中，许多函数的参数中可以指定数据类型，通常这个参数是可选的\n",
    "np.arange(7, dtype=\"uint16\")  \n",
    "\n",
    "# 需要注意的是，复数是不能转换为整数的，这将触发 TypeError 错误"
   ]
  },
  {
   "cell_type": "markdown",
   "metadata": {},
   "source": [
    "## Numpy的数组对象\n",
    "    \n",
    "    数据类型对象是 numpy.dtype 类的实例。如前所述，NumPy数组是有数据类型的，更确切\n",
    "    地说，NumPy数组中的每一个元素均为相同的数据类型。数据类型对象可以给出单个数组元素在\n",
    "    内存中占用的字节数，即 dtype 类的 itemsize 属性"
   ]
  },
  {
   "cell_type": "code",
   "execution_count": 50,
   "metadata": {},
   "outputs": [
    {
     "name": "stdout",
     "output_type": "stream",
     "text": [
      "[[1 2]\n",
      " [2 3]]\n",
      "int32\n",
      "4\n"
     ]
    }
   ],
   "source": [
    "import numpy as np \n",
    "arr = np.array([np.arange(1,3),np.arange(2,4)])\n",
    "print(arr)\n",
    "print(arr.dtype)\n",
    "print(arr.dtype.itemsize)"
   ]
  },
  {
   "cell_type": "markdown",
   "metadata": {},
   "source": [
    "### NumPy可以使用字符编码来表示数据类型\n",
    "\n",
    "    不推荐\n",
    "    使用字符编码，但有时会用到，因此下面还是列出了字符编码的对应表。读者应该优先使用 dtype\n",
    "    对象来表示数据类型，而不是这些字符编码\n",
    "    \n",
    "    数据类型      字符编码\n",
    "    整数           i\n",
    "    无符号整数     u\n",
    "    单精度浮点数   f\n",
    "    双精度浮点数   d\n",
    "    布尔值         b\n",
    "    复数           D\n",
    "    字符串         S\n",
    "    unicode字符串  U\n",
    "    void （空）    V"
   ]
  },
  {
   "cell_type": "code",
   "execution_count": 54,
   "metadata": {},
   "outputs": [
    {
     "name": "stdout",
     "output_type": "stream",
     "text": [
      "[array([0., 1.], dtype=float32) array([0, 1, 2], dtype=int32)]\n"
     ]
    }
   ],
   "source": [
    "import numpy as np \n",
    "arr = np.array([np.arange(2,dtype = 'f'),np.arange(3,dtype='i')])\n",
    "print(arr)\n"
   ]
  },
  {
   "cell_type": "code",
   "execution_count": 56,
   "metadata": {},
   "outputs": [
    {
     "data": {
      "text/plain": [
       "dtype('float32')"
      ]
     },
     "execution_count": 56,
     "metadata": {},
     "output_type": "execute_result"
    }
   ],
   "source": [
    "# 自定义数据类型\n",
    "# 可以使用字符编码来指定单精度浮点数类型\n",
    "\n",
    "np.dtype(\"f\")"
   ]
  },
  {
   "cell_type": "code",
   "execution_count": 59,
   "metadata": {},
   "outputs": [
    {
     "data": {
      "text/plain": [
       "dtype('float64')"
      ]
     },
     "execution_count": 59,
     "metadata": {},
     "output_type": "execute_result"
    }
   ],
   "source": [
    "np.dtype(float)"
   ]
  },
  {
   "cell_type": "code",
   "execution_count": 62,
   "metadata": {},
   "outputs": [
    {
     "data": {
      "text/plain": [
       "dtype('float64')"
      ]
     },
     "execution_count": 62,
     "metadata": {},
     "output_type": "execute_result"
    }
   ],
   "source": [
    "# 可以使用字符编码来指定双精度浮点数类型\n",
    "np.dtype(\"d\")"
   ]
  },
  {
   "cell_type": "code",
   "execution_count": 63,
   "metadata": {},
   "outputs": [
    {
     "data": {
      "text/plain": [
       "dtype('float64')"
      ]
     },
     "execution_count": 63,
     "metadata": {},
     "output_type": "execute_result"
    }
   ],
   "source": [
    "# 还可以将两个字符作为参数传给数据类型的构造函数。此时，第一个字符表示数据类型，\n",
    "# 第二个字符表示该类型在内存中占用的字节数（2、4、8分别代表精度为16、32、64位的\n",
    "# 浮点数）：\n",
    "\n",
    "np.dtype(\"f8\")"
   ]
  },
  {
   "cell_type": "markdown",
   "metadata": {},
   "source": [
    "#### dtype 类有很多有用的属性。例如，我们可以获取数据类型的字符编码\n",
    "\n"
   ]
  },
  {
   "cell_type": "code",
   "execution_count": 67,
   "metadata": {},
   "outputs": [
    {
     "name": "stdout",
     "output_type": "stream",
     "text": [
      "d\n",
      "<class 'numpy.float64'>\n"
     ]
    },
    {
     "name": "stderr",
     "output_type": "stream",
     "text": [
      "C:\\Users\\Administrator\\Anaconda3\\lib\\site-packages\\ipykernel_launcher.py:1: DeprecationWarning: Numeric-style type codes are deprecated and will result in an error in the future.\n",
      "  \"\"\"Entry point for launching an IPython kernel.\n"
     ]
    }
   ],
   "source": [
    "t = np.dtype(\"Float64\")\n",
    "print(t.char)\n",
    "print(t.type)"
   ]
  },
  {
   "cell_type": "code",
   "execution_count": 76,
   "metadata": {},
   "outputs": [
    {
     "data": {
      "text/plain": [
       "dtype([('name', 'S40'), ('numitems', '<i4'), ('price', '<f4')])"
      ]
     },
     "execution_count": 76,
     "metadata": {},
     "output_type": "execute_result"
    }
   ],
   "source": [
    "# 创建自定义数据类型\n",
    "import numpy as np\n",
    "t = np.dtype([('name', \"S40\"), ('numitems', \"int32\"), ('price',\"float32\")])\n",
    "t"
   ]
  },
  {
   "cell_type": "code",
   "execution_count": 77,
   "metadata": {},
   "outputs": [
    {
     "data": {
      "text/plain": [
       "dtype('S40')"
      ]
     },
     "execution_count": 77,
     "metadata": {},
     "output_type": "execute_result"
    }
   ],
   "source": [
    "# 查看数据类型\n",
    "import numpy as np\n",
    "t = np.dtype([('name', \"S40\"), ('numitems', \"int32\"), ('price',\"float32\")])\n",
    "t['name']"
   ]
  },
  {
   "cell_type": "code",
   "execution_count": 92,
   "metadata": {},
   "outputs": [
    {
     "data": {
      "text/plain": [
       "(b'Butter', 13, 2.72)"
      ]
     },
     "execution_count": 92,
     "metadata": {},
     "output_type": "execute_result"
    }
   ],
   "source": [
    "# 在用 array 函数创建数组时，如果没有在参数中指定数据类型，将默认为浮点数类型。而现\n",
    "# 在，我们想要创建自定义数据类型的数组，就必须在参数中指定数据类型，否则将触发 TypeError\n",
    "# 错误：\n",
    "\n",
    "import numpy as np\n",
    "itemz = np.array([('Meaning of life DVD', 42, 3.14), ('Butter', 13, 2.72)], dtype=t)\n",
    "itemz[1]"
   ]
  },
  {
   "cell_type": "markdown",
   "metadata": {},
   "source": [
    "### 2.4 一维数组的索引和切片\n",
    "\n",
    "- 一维数组的切片操作与Python列表的切片操作很相似"
   ]
  },
  {
   "cell_type": "code",
   "execution_count": 3,
   "metadata": {},
   "outputs": [
    {
     "data": {
      "text/plain": [
       "array([2, 3, 4, 5, 6])"
      ]
     },
     "execution_count": 3,
     "metadata": {},
     "output_type": "execute_result"
    }
   ],
   "source": [
    "import numpy as np\n",
    "arr = np.arange(9)\n",
    "arr[2:7]"
   ]
  },
  {
   "cell_type": "code",
   "execution_count": 4,
   "metadata": {},
   "outputs": [
    {
     "data": {
      "text/plain": [
       "array([0, 2, 4])"
      ]
     },
     "execution_count": 4,
     "metadata": {},
     "output_type": "execute_result"
    }
   ],
   "source": [
    "# 下标0-6 步长为2\n",
    "arr[:6:2]"
   ]
  },
  {
   "cell_type": "code",
   "execution_count": 5,
   "metadata": {},
   "outputs": [
    {
     "data": {
      "text/plain": [
       "array([8, 7, 6, 5, 4, 3, 2, 1, 0])"
      ]
     },
     "execution_count": 5,
     "metadata": {},
     "output_type": "execute_result"
    }
   ],
   "source": [
    "# 负数下标翻转数组\n",
    "arr[::-1]"
   ]
  },
  {
   "cell_type": "code",
   "execution_count": 6,
   "metadata": {},
   "outputs": [
    {
     "data": {
      "text/plain": [
       "(2, 3, 4)"
      ]
     },
     "execution_count": 6,
     "metadata": {},
     "output_type": "execute_result"
    }
   ],
   "source": [
    "# 多维数组的切片和索引\n",
    "\n",
    "b = np.arange(24).reshape(2,3,4)\n",
    "b.shape"
   ]
  },
  {
   "cell_type": "code",
   "execution_count": 3,
   "metadata": {},
   "outputs": [
    {
     "data": {
      "text/plain": [
       "array([[[ 0,  1,  2,  3],\n",
       "        [ 4,  5,  6,  7],\n",
       "        [ 8,  9, 10, 11]],\n",
       "\n",
       "       [[12, 13, 14, 15],\n",
       "        [16, 17, 18, 19],\n",
       "        [20, 21, 22, 23]]])"
      ]
     },
     "execution_count": 3,
     "metadata": {},
     "output_type": "execute_result"
    }
   ],
   "source": [
    "import numpy as np\n",
    "b = np.arange(24).reshape(2,3,4)\n",
    "b"
   ]
  },
  {
   "cell_type": "code",
   "execution_count": 8,
   "metadata": {},
   "outputs": [
    {
     "data": {
      "text/plain": [
       "dtype('int32')"
      ]
     },
     "execution_count": 8,
     "metadata": {},
     "output_type": "execute_result"
    }
   ],
   "source": [
    "b.dtype"
   ]
  },
  {
   "cell_type": "code",
   "execution_count": 9,
   "metadata": {},
   "outputs": [
    {
     "data": {
      "text/plain": [
       "0"
      ]
     },
     "execution_count": 9,
     "metadata": {},
     "output_type": "execute_result"
    }
   ],
   "source": [
    "# 我们可以用三维坐标来选定任意一个房间，即楼层、行号和列号。例如，选定第1层楼、\n",
    "# 第1行、第1列的房间（也可以说是第0层楼、第0行、第0列，这只是习惯问题），可以这样表示：\n",
    "\n",
    "b[0,0,0]"
   ]
  },
  {
   "cell_type": "code",
   "execution_count": 11,
   "metadata": {},
   "outputs": [
    {
     "data": {
      "text/plain": [
       "array([ 0, 12])"
      ]
     },
     "execution_count": 11,
     "metadata": {},
     "output_type": "execute_result"
    }
   ],
   "source": [
    "b[:,0,0]"
   ]
  },
  {
   "cell_type": "code",
   "execution_count": 14,
   "metadata": {},
   "outputs": [
    {
     "data": {
      "text/plain": [
       "array([[ 0,  1,  2,  3],\n",
       "       [ 4,  5,  6,  7],\n",
       "       [ 8,  9, 10, 11]])"
      ]
     },
     "execution_count": 14,
     "metadata": {},
     "output_type": "execute_result"
    }
   ],
   "source": [
    "b[0]\n",
    "b[0,:,:]\n",
    "# 多个冒号可以用一个省略号代替\n",
    "b[0,...]"
   ]
  },
  {
   "cell_type": "code",
   "execution_count": 15,
   "metadata": {},
   "outputs": [
    {
     "data": {
      "text/plain": [
       "array([4, 5, 6, 7])"
      ]
     },
     "execution_count": 15,
     "metadata": {},
     "output_type": "execute_result"
    }
   ],
   "source": [
    "# 进而可以选取第1层楼、第2排的所有房间：\n",
    "\n",
    "b[0,1,:]"
   ]
  },
  {
   "cell_type": "code",
   "execution_count": 16,
   "metadata": {},
   "outputs": [
    {
     "data": {
      "text/plain": [
       "array([20, 22])"
      ]
     },
     "execution_count": 16,
     "metadata": {},
     "output_type": "execute_result"
    }
   ],
   "source": [
    "# 再进一步，我们可以在上面的数组切片中间隔地选定元素：\n",
    "\n",
    "b[1,2,::2]"
   ]
  },
  {
   "cell_type": "code",
   "execution_count": 18,
   "metadata": {},
   "outputs": [
    {
     "data": {
      "text/plain": [
       "array([[ 1,  5,  9],\n",
       "       [13, 17, 21]])"
      ]
     },
     "execution_count": 18,
     "metadata": {},
     "output_type": "execute_result"
    }
   ],
   "source": [
    "# 如果要选取所有楼层的位于第2列的房间，即不指定楼层和行号，用如下代码即可：\n",
    "\n",
    "b[...,1]"
   ]
  },
  {
   "cell_type": "code",
   "execution_count": 19,
   "metadata": {},
   "outputs": [
    {
     "data": {
      "text/plain": [
       "array([[ 4,  5,  6,  7],\n",
       "       [16, 17, 18, 19]])"
      ]
     },
     "execution_count": 19,
     "metadata": {},
     "output_type": "execute_result"
    }
   ],
   "source": [
    "# 类似地，我们可以选取所有位于第2行的房间，而不指定楼层和列号：\n",
    "\n",
    "b[:,1]"
   ]
  },
  {
   "cell_type": "code",
   "execution_count": 20,
   "metadata": {},
   "outputs": [
    {
     "data": {
      "text/plain": [
       "array([1, 5, 9])"
      ]
     },
     "execution_count": 20,
     "metadata": {},
     "output_type": "execute_result"
    }
   ],
   "source": [
    "# 如果要选取第1层楼的所有位于第2列的房间，在对应的两个维度上指定即可\n",
    "\n",
    "b[0,:,1]"
   ]
  },
  {
   "cell_type": "code",
   "execution_count": 22,
   "metadata": {},
   "outputs": [
    {
     "data": {
      "text/plain": [
       "array([ 3,  7, 11])"
      ]
     },
     "execution_count": 22,
     "metadata": {},
     "output_type": "execute_result"
    }
   ],
   "source": [
    "# 如果要选取第1层楼的最后一列的所有房间，使用如下代码\n",
    "\n",
    "b[0,:,-1]"
   ]
  },
  {
   "cell_type": "code",
   "execution_count": 24,
   "metadata": {},
   "outputs": [
    {
     "data": {
      "text/plain": [
       "array([11,  7,  3])"
      ]
     },
     "execution_count": 24,
     "metadata": {},
     "output_type": "execute_result"
    }
   ],
   "source": [
    "# 如果要反向选取第1层楼的最后一列的所有房间，使用如下代码：\n",
    "(b[0,:,-1])[::-1]"
   ]
  },
  {
   "cell_type": "code",
   "execution_count": 26,
   "metadata": {},
   "outputs": [
    {
     "data": {
      "text/plain": [
       "array([ 3, 11])"
      ]
     },
     "execution_count": 26,
     "metadata": {},
     "output_type": "execute_result"
    }
   ],
   "source": [
    "# 在该数组切片中间隔地选定元素：\n",
    "\n",
    "b[0,::2,-1]"
   ]
  },
  {
   "cell_type": "code",
   "execution_count": 27,
   "metadata": {},
   "outputs": [
    {
     "data": {
      "text/plain": [
       "array([[[12, 13, 14, 15],\n",
       "        [16, 17, 18, 19],\n",
       "        [20, 21, 22, 23]],\n",
       "\n",
       "       [[ 0,  1,  2,  3],\n",
       "        [ 4,  5,  6,  7],\n",
       "        [ 8,  9, 10, 11]]])"
      ]
     },
     "execution_count": 27,
     "metadata": {},
     "output_type": "execute_result"
    }
   ],
   "source": [
    "# 如果在多维数组中执行翻转一维数组的命令，将在最前面的维度上翻转元素的顺序，在我们\n",
    "# 的例子中将把第1层楼和第2层楼的房间交换：\n",
    "\n",
    "b[::-1,...]"
   ]
  },
  {
   "cell_type": "markdown",
   "metadata": {},
   "source": [
    "#### 动手实践：改变数组的维度\n",
    "\n"
   ]
  },
  {
   "cell_type": "code",
   "execution_count": 28,
   "metadata": {},
   "outputs": [
    {
     "data": {
      "text/plain": [
       "array([[[ 0,  1,  2,  3],\n",
       "        [ 4,  5,  6,  7],\n",
       "        [ 8,  9, 10, 11]],\n",
       "\n",
       "       [[12, 13, 14, 15],\n",
       "        [16, 17, 18, 19],\n",
       "        [20, 21, 22, 23]]])"
      ]
     },
     "execution_count": 28,
     "metadata": {},
     "output_type": "execute_result"
    }
   ],
   "source": [
    "#  ravel 我们可以用 ravel 函数完成展平的操作\n",
    "\n",
    "b"
   ]
  },
  {
   "cell_type": "code",
   "execution_count": 29,
   "metadata": {},
   "outputs": [
    {
     "data": {
      "text/plain": [
       "array([ 0,  1,  2,  3,  4,  5,  6,  7,  8,  9, 10, 11, 12, 13, 14, 15, 16,\n",
       "       17, 18, 19, 20, 21, 22, 23])"
      ]
     },
     "execution_count": 29,
     "metadata": {},
     "output_type": "execute_result"
    }
   ],
   "source": [
    "b.ravel()"
   ]
  },
  {
   "cell_type": "code",
   "execution_count": 30,
   "metadata": {},
   "outputs": [
    {
     "data": {
      "text/plain": [
       "array([ 0,  1,  2,  3,  4,  5,  6,  7,  8,  9, 10, 11, 12, 13, 14, 15, 16,\n",
       "       17, 18, 19, 20, 21, 22, 23])"
      ]
     },
     "execution_count": 30,
     "metadata": {},
     "output_type": "execute_result"
    }
   ],
   "source": [
    "#  flatten 这个函数恰如其名， flatten 就是展平的意思，与 ravel 函数的功能相同。\n",
    "# 不过， flatten 函数会请求分配内存来保存结果，而 ravel 函数只是返回数组的一个视图（view）：\n",
    "\n",
    "b.flatten()"
   ]
  },
  {
   "cell_type": "code",
   "execution_count": 4,
   "metadata": {},
   "outputs": [
    {
     "name": "stdout",
     "output_type": "stream",
     "text": [
      "[[ 0  1  2  3]\n",
      " [ 4  5  6  7]\n",
      " [ 8  9 10 11]\n",
      " [12 13 14 15]\n",
      " [16 17 18 19]\n",
      " [20 21 22 23]]\n"
     ]
    }
   ],
   "source": [
    "# 用元组设置维度 除了可以使用 reshape 函数，我们也可以直接用一个正整数元组来设\n",
    "# 置数组的维度\n",
    "\n",
    "b.shape = (6,4)\n",
    "print(b)"
   ]
  },
  {
   "cell_type": "code",
   "execution_count": 6,
   "metadata": {},
   "outputs": [
    {
     "name": "stdout",
     "output_type": "stream",
     "text": [
      "[[ 0  4  8 12 16 20]\n",
      " [ 1  5  9 13 17 21]\n",
      " [ 2  6 10 14 18 22]\n",
      " [ 3  7 11 15 19 23]]\n"
     ]
    }
   ],
   "source": [
    "#  transpose 在线性代数中，转置矩阵是很常见的操作。对于多维数组，我们也可以这样做：\n",
    "\n",
    "print(b.transpose())"
   ]
  },
  {
   "cell_type": "code",
   "execution_count": 7,
   "metadata": {},
   "outputs": [
    {
     "name": "stdout",
     "output_type": "stream",
     "text": [
      "[[ 0  1  2  3  4  5  6  7  8  9 10 11]\n",
      " [12 13 14 15 16 17 18 19 20 21 22 23]]\n"
     ]
    }
   ],
   "source": [
    "# resize resize 和 reshape 函数的功能一样，但 resize 会直接修改所操作的数组\n",
    "\n",
    "b.resize((2,12))\n",
    "print(b)"
   ]
  },
  {
   "cell_type": "markdown",
   "metadata": {},
   "source": []
  }
 ],
 "metadata": {
  "kernelspec": {
   "display_name": "Python 3",
   "language": "python",
   "name": "python3"
  },
  "language_info": {
   "codemirror_mode": {
    "name": "ipython",
    "version": 3
   },
   "file_extension": ".py",
   "mimetype": "text/x-python",
   "name": "python",
   "nbconvert_exporter": "python",
   "pygments_lexer": "ipython3",
   "version": "3.6.0"
  }
 },
 "nbformat": 4,
 "nbformat_minor": 2
}
