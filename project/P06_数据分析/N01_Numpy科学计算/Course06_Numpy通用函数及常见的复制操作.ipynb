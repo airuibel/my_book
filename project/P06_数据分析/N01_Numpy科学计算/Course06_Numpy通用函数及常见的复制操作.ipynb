{
 "cells": [
  {
   "cell_type": "markdown",
   "metadata": {},
   "source": [
    "## NumPy的ndarray 快速的元素级数组函数\n",
    "-  一元函数 I\n",
    "       NumPy的ndarray 快速的元素级数组函数\n",
    "    \n",
    "    类型        说明\n",
    "    \n",
    "    abs,fabs    计算整数、浮点数或复数的绝对值。对于非复数值，可以使用更快的fabs。\n",
    "    \n",
    "    sqrt        计算各元素的平方根。相当于arr ** 0.5\n",
    "    \n",
    "    sqare       计算各元素的平方。相当于arr ** 2\n",
    "    \n",
    "    exp         计算各元素的e^x\n",
    "    \n",
    "    log, log10, \n",
    "    log2, log1p 分别为自然对数、底数为10的log、底数为2的log和log(1 + x)。\n",
    "    \n",
    "    sign        计算各元素的正负号：1（正数）、0（零）、－1（负数）。\n",
    "    \n",
    "    ceil        计算各元素的ceiling值，即大于等于该值的最小整数。\n",
    "    \n",
    "    floor       计算各元素的floor值，即小于等于该值的最小整数。  \n",
    "    \n",
    "    rint        将各元素值四舍五入到最接近的整数，保留dtype。\n",
    "    \n",
    "    modf        将数组的小数部分与整数部分以两个独立数组的形式返还。\n",
    "    \n",
    "    isnan       返回一个表示“哪些值是NaN（这不是一个数字）”的布尔型数组\n",
    "    \n",
    "    isfinite, isinf 分别返回一个表示“哪些元素是有限的（非inf，非NaN）”或“哪些元素是\n",
    "                    无穷的”的布尔型数组\n",
    "    \n",
    "    cos, cosh, sin, sinh, tan, tanh 普通型或双曲型三角函数\n",
    "    \n",
    "    arccos, arccosh, arcsin, arcsinh,\n",
    "    \n",
    "    arctan, arctanh反三角函数\n",
    "   \n",
    "   logical_not    计算各元素not x的真值。相当于-arr。"
   ]
  },
  {
   "cell_type": "markdown",
   "metadata": {},
   "source": [
    "- 二元函数 I\n",
    "\n",
    "    类型                 说明\n",
    "   \n",
    "    add                  将数组中对应的元素相加\n",
    "    \n",
    "    subtract             从第一个数组中减去第二个数组中的元素\n",
    "    \n",
    "    multiply             数组元素相乘\n",
    "    \n",
    "    divide, floor_divide 除法或向下取整除法\n",
    "    \n",
    "    power                对第一个数组中的元素A和第二个数组中对应位置的元素B，计算A^B。\n",
    "    \n",
    "    maximum, fmax        元素级的最大值计算。fmax将忽略NaN。\n",
    "   \n",
    "    minimum, fmin        元素级的最小值计算。fmin将忽略NaN。\n",
    "    \n",
    "    mod                  元素级的求模计算\n",
    "    \n",
    "    NumPy的ndarray       快速的元素级数组函数\n",
    " \n",
    "    copysign             将第二个数组中的符号复制给第一个数组中的值\n",
    "    \n",
    "    greater, \n",
    "    greater_equal, less,\n",
    "    less_equal,equal, \n",
    "    not_equal            执行元素级的比较，最终产生布尔型数组。\n",
    "    \n",
    "    logical_and, \n",
    "    logical_or,\n",
    "    logical_xor          执行元素级的真值逻辑运算，最终产生布尔型数组。"
   ]
  },
  {
   "cell_type": "code",
   "execution_count": 1,
   "metadata": {},
   "outputs": [
    {
     "name": "stdout",
     "output_type": "stream",
     "text": [
      "[ 3.96701094 -9.90919659 11.33772892  7.93645601 -5.98969246  2.08798292\n",
      " -5.16189155]\n"
     ]
    },
    {
     "data": {
      "text/plain": [
       "(array([ 0.96701094, -0.90919659,  0.33772892,  0.93645601, -0.98969246,\n",
       "         0.08798292, -0.16189155]), array([ 3., -9., 11.,  7., -5.,  2., -5.]))"
      ]
     },
     "execution_count": 1,
     "metadata": {},
     "output_type": "execute_result"
    }
   ],
   "source": [
    "# -*- coding: utf-8 -*-\n",
    "from __future__ import division\n",
    "from numpy.random import randn\n",
    "import numpy as np\n",
    "\n",
    "###通用函数\n",
    "arr = np.arange(10)\n",
    "np.sqrt(arr)\n",
    "np.exp(arr)\n",
    "\n",
    "x = randn(8)\n",
    "y = randn(8)\n",
    "x\n",
    "y\n",
    "np.maximum(x, y) # 元素级最大值\n",
    "\n",
    "arr = randn(7) * 5\n",
    "print (arr)\n",
    "# 将整数部分和小数部分分开存放在两个数组中\n",
    "np.modf(arr)"
   ]
  },
  {
   "cell_type": "code",
   "execution_count": 3,
   "metadata": {},
   "outputs": [
    {
     "data": {
      "text/plain": [
       "array([[-5.  , -5.  , -5.  , ..., -5.  , -5.  , -5.  ],\n",
       "       [-4.99, -4.99, -4.99, ..., -4.99, -4.99, -4.99],\n",
       "       [-4.98, -4.98, -4.98, ..., -4.98, -4.98, -4.98],\n",
       "       ...,\n",
       "       [ 4.97,  4.97,  4.97, ...,  4.97,  4.97,  4.97],\n",
       "       [ 4.98,  4.98,  4.98, ...,  4.98,  4.98,  4.98],\n",
       "       [ 4.99,  4.99,  4.99, ...,  4.99,  4.99,  4.99]])"
      ]
     },
     "execution_count": 3,
     "metadata": {},
     "output_type": "execute_result"
    }
   ],
   "source": [
    "# -*- coding: utf-8 -*-\n",
    "from __future__ import division\n",
    "from numpy.random import randn\n",
    "import numpy as np\n",
    "\n",
    "###利用数组进行数据处理\n",
    "#向量化\n",
    "points = np.arange(-5, 5, 0.01) # 1000 equally spaced points\n",
    "xs, ys = np.meshgrid(points, points)\n",
    "ys\n"
   ]
  },
  {
   "cell_type": "code",
   "execution_count": 4,
   "metadata": {},
   "outputs": [
    {
     "data": {
      "image/png": "[encoded data removed]",
      "text/plain": [
       "<Figure size 432x288 with 2 Axes>"
      ]
     },
     "metadata": {},
     "output_type": "display_data"
    }
   ],
   "source": [
    "# -*- coding: utf-8 -*-\n",
    "from __future__ import division\n",
    "from numpy.random import randn\n",
    "import numpy as np\n",
    "\n",
    "###利用数组进行数据处理\n",
    "import matplotlib.pyplot as plt\n",
    "z = np.sqrt(xs ** 2 + ys ** 2)\n",
    "z\n",
    "plt.imshow(z, cmap=plt.cm.gray); plt.colorbar()\n",
    "plt.title(\"Image plot of $\\sqrt{x^2 + y^2}$ for a grid of values\")\n",
    "\n",
    "plt.draw()"
   ]
  },
  {
   "cell_type": "code",
   "execution_count": 5,
   "metadata": {},
   "outputs": [
    {
     "ename": "NameError",
     "evalue": "name 'n' is not defined",
     "output_type": "error",
     "traceback": [
      "\u001b[1;31m---------------------------------------------------------------------------\u001b[0m",
      "\u001b[1;31mNameError\u001b[0m                                 Traceback (most recent call last)",
      "\u001b[1;32m<ipython-input-5-268322a1b44e>\u001b[0m in \u001b[0;36m<module>\u001b[1;34m()\u001b[0m\n\u001b[0;32m     24\u001b[0m \u001b[1;31m# Not to be executed\u001b[0m\u001b[1;33m\u001b[0m\u001b[1;33m\u001b[0m\u001b[0m\n\u001b[0;32m     25\u001b[0m \u001b[0mresult\u001b[0m \u001b[1;33m=\u001b[0m \u001b[1;33m[\u001b[0m\u001b[1;33m]\u001b[0m\u001b[1;33m\u001b[0m\u001b[0m\n\u001b[1;32m---> 26\u001b[1;33m \u001b[1;32mfor\u001b[0m \u001b[0mi\u001b[0m \u001b[1;32min\u001b[0m \u001b[0mrange\u001b[0m\u001b[1;33m(\u001b[0m\u001b[0mn\u001b[0m\u001b[1;33m)\u001b[0m\u001b[1;33m:\u001b[0m\u001b[1;33m\u001b[0m\u001b[0m\n\u001b[0m\u001b[0;32m     27\u001b[0m     \u001b[1;32mif\u001b[0m \u001b[0mcond1\u001b[0m\u001b[1;33m[\u001b[0m\u001b[0mi\u001b[0m\u001b[1;33m]\u001b[0m \u001b[1;32mand\u001b[0m \u001b[0mcond2\u001b[0m\u001b[1;33m[\u001b[0m\u001b[0mi\u001b[0m\u001b[1;33m]\u001b[0m\u001b[1;33m:\u001b[0m\u001b[1;33m\u001b[0m\u001b[0m\n\u001b[0;32m     28\u001b[0m         \u001b[0mresult\u001b[0m\u001b[1;33m.\u001b[0m\u001b[0mappend\u001b[0m\u001b[1;33m(\u001b[0m\u001b[1;36m0\u001b[0m\u001b[1;33m)\u001b[0m\u001b[1;33m\u001b[0m\u001b[0m\n",
      "\u001b[1;31mNameError\u001b[0m: name 'n' is not defined"
     ]
    }
   ],
   "source": [
    "# -*- coding: utf-8 -*-\n",
    "from __future__ import division\n",
    "from numpy.random import randn\n",
    "import numpy as np\n",
    "# Not to be executed\n",
    "result = []\n",
    "for i in range(n):\n",
    "    if cond1[i] and cond2[i]:\n",
    "        result.append(0)\n",
    "    elif cond1[i]:\n",
    "        result.append(1)\n",
    "    elif cond2[i]:\n",
    "        result.append(2)\n",
    "    else:\n",
    "        result.append(3)\n",
    "\n",
    "# Not to be executed\n",
    "np.where(cond1 & cond2, 0,\n",
    "         np.where(cond1, 1,\n",
    "                  np.where(cond2, 2, 3)))\n",
    "\n",
    "# Not to be executed\n",
    "result = 1 * cond1 + 2 * cond2 + 3 * -(cond1 | cond2)"
   ]
  },
  {
   "cell_type": "code",
   "execution_count": 2,
   "metadata": {},
   "outputs": [
    {
     "name": "stdout",
     "output_type": "stream",
     "text": [
      "[1.1, 2.2, 1.3, 1.4, 2.5]\n",
      "[1.1 2.2 1.3 1.4 2.5]\n",
      "[[ 1.20750917 -0.63638911 -0.58722715 -0.18115898]\n",
      " [-0.34082618 -0.70490233  0.1276307  -0.80854395]\n",
      " [ 0.74276453  0.69497357 -0.42702069  0.15114435]\n",
      " [ 0.81558951  1.43544369  1.24331009 -1.04640965]]\n"
     ]
    },
    {
     "data": {
      "text/plain": [
       "array([[ 2.        , -0.63638911, -0.58722715, -0.18115898],\n",
       "       [-0.34082618, -0.70490233,  2.        , -0.80854395],\n",
       "       [ 2.        ,  2.        , -0.42702069,  2.        ],\n",
       "       [ 2.        ,  2.        ,  2.        , -1.04640965]])"
      ]
     },
     "execution_count": 2,
     "metadata": {},
     "output_type": "execute_result"
    }
   ],
   "source": [
    "# -*- coding: utf-8 -*-\n",
    "from __future__ import division\n",
    "from numpy.random import randn\n",
    "import numpy as np\n",
    "\n",
    "#将条件逻辑表达为数组运算\n",
    "xarr = np.array([1.1, 1.2, 1.3, 1.4, 1.5])\n",
    "yarr = np.array([2.1, 2.2, 2.3, 2.4, 2.5])\n",
    "cond = np.array([True, False, True, True, False])\n",
    "\n",
    "result = [(x if c else y)\n",
    "          for x, y, c in zip(xarr, yarr, cond)]\n",
    "print(result)\n",
    "\n",
    "result = np.where(cond, xarr, yarr)\n",
    "print(result)\n",
    "\n",
    "arr = randn(4, 4)\n",
    "print(arr)\n",
    "np.where(arr > 0, 2, -2)\n",
    "np.where(arr > 0, 2, arr) # set only positive values to 2"
   ]
  },
  {
   "cell_type": "code",
   "execution_count": 6,
   "metadata": {},
   "outputs": [
    {
     "data": {
      "text/plain": [
       "-2.9430825286533526"
      ]
     },
     "execution_count": 6,
     "metadata": {},
     "output_type": "execute_result"
    }
   ],
   "source": [
    "# -*- coding: utf-8 -*-\n",
    "from __future__ import division\n",
    "from numpy.random import randn\n",
    "import numpy as np\n",
    "#数学与统计方法\n",
    "\n",
    "arr = np.random.randn(5, 4) # 标准正态分布数据\n",
    "# 算数平均数\n",
    "arr.mean()\n",
    "np.mean(arr)\n",
    "arr.sum()"
   ]
  },
  {
   "cell_type": "code",
   "execution_count": 7,
   "metadata": {},
   "outputs": [
    {
     "data": {
      "text/plain": [
       "array([-1.24849773,  0.11272507, -4.10644899,  2.29913912])"
      ]
     },
     "execution_count": 7,
     "metadata": {},
     "output_type": "execute_result"
    }
   ],
   "source": [
    "arr.mean(axis=1)\n",
    "arr.sum(0)"
   ]
  },
  {
   "cell_type": "code",
   "execution_count": 8,
   "metadata": {},
   "outputs": [
    {
     "data": {
      "text/plain": [
       "array([[  0,   0,   0],\n",
       "       [  3,  12,  60],\n",
       "       [  6,  42, 336]], dtype=int32)"
      ]
     },
     "execution_count": 8,
     "metadata": {},
     "output_type": "execute_result"
    }
   ],
   "source": [
    "arr = np.array([[0, 1, 2], [3, 4, 5], [6, 7, 8]])\n",
    "arr.cumsum(0)\n",
    "arr.cumprod(1)"
   ]
  },
  {
   "cell_type": "code",
   "execution_count": 9,
   "metadata": {},
   "outputs": [
    {
     "data": {
      "text/plain": [
       "False"
      ]
     },
     "execution_count": 9,
     "metadata": {},
     "output_type": "execute_result"
    }
   ],
   "source": [
    "# -*- coding: utf-8 -*-\n",
    "from __future__ import division\n",
    "from numpy.random import randn\n",
    "import numpy as np\n",
    "#用于布尔型数组的方法\n",
    "arr = randn(100)\n",
    "(arr > 0).sum() # 正值的数量\n",
    "\n",
    "bools = np.array([False, False, True, False])\n",
    "# 检测数组中是否存在一个或多个TRUE，如果存在就返回TRUE\n",
    "bools.any()\n",
    "# 检测数组中是否所有值都是TRUE，如果所有值都是TRUE，则返回TRUE\n",
    "bools.all()"
   ]
  },
  {
   "cell_type": "code",
   "execution_count": 11,
   "metadata": {},
   "outputs": [
    {
     "name": "stdout",
     "output_type": "stream",
     "text": [
      "[-2.21947585 -1.1736049  -2.74527392 -0.77646704 -0.24656552 -0.03769366\n",
      "  1.77158296  1.21518119]\n",
      "[-2.74527392 -2.21947585 -1.1736049  -0.77646704 -0.24656552 -0.03769366\n",
      "  1.21518119  1.77158296]\n",
      "[[ 0.5737755  -1.55556159  0.13456628]\n",
      " [ 1.18540024  0.59284339  0.65480236]\n",
      " [-0.36150357 -0.85834513  0.84742846]\n",
      " [-0.18303794 -0.08444349  0.33791305]\n",
      " [-0.38258119  0.81501327 -1.13296712]]\n",
      "[[-1.55556159  0.13456628  0.5737755 ]\n",
      " [ 0.59284339  0.65480236  1.18540024]\n",
      " [-0.85834513 -0.36150357  0.84742846]\n",
      " [-0.18303794 -0.08444349  0.33791305]\n",
      " [-1.13296712 -0.38258119  0.81501327]]\n",
      "-1.6412701702432\n"
     ]
    }
   ],
   "source": [
    "# -*- coding: utf-8 -*-\n",
    "from __future__ import division\n",
    "from numpy.random import randn\n",
    "import numpy as np\n",
    "#排序\n",
    "arr = randn(8)\n",
    "print(arr)\n",
    "arr.sort()\n",
    "print(arr)\n",
    "\n",
    "arr = randn(5, 3)\n",
    "print(arr)\n",
    "arr.sort(1)\n",
    "print(arr)\n",
    "\n",
    "large_arr = randn(1000)\n",
    "large_arr.sort()\n",
    "print(large_arr[int(0.05 * len(large_arr))]) # 5%分位数"
   ]
  },
  {
   "cell_type": "code",
   "execution_count": 13,
   "metadata": {},
   "outputs": [
    {
     "name": "stdout",
     "output_type": "stream",
     "text": [
      "['Bob' 'Joe' 'Will']\n",
      "[1 2 3 4]\n",
      "[ True False False  True  True False  True]\n"
     ]
    }
   ],
   "source": [
    "# -*- coding: utf-8 -*-\n",
    "from __future__ import division\n",
    "from numpy.random import randn\n",
    "import numpy as np\n",
    "#唯一化以及其他的集合逻辑\n",
    "names = np.array(['Bob', 'Joe', 'Will', 'Bob', 'Will', 'Joe', 'Joe'])\n",
    "print(np.unique(names))\n",
    "ints = np.array([3, 3, 3, 2, 2, 1, 1, 4, 4])\n",
    "print(np.unique(ints))\n",
    "\n",
    "sorted(set(names))\n",
    "\n",
    "values = np.array([6, 0, 0, 3, 2, 5, 6])\n",
    "print(np.in1d(values, [2, 3, 6]))"
   ]
  },
  {
   "cell_type": "code",
   "execution_count": 14,
   "metadata": {},
   "outputs": [
    {
     "name": "stdout",
     "output_type": "stream",
     "text": [
      "[[1. 2. 3.]\n",
      " [4. 5. 6.]]\n",
      "[[ 6. 23.]\n",
      " [-1.  7.]\n",
      " [ 8.  9.]]\n",
      "[[ -6.92714002   7.38899524   6.12272905  -7.11625341  -4.92150833]\n",
      " [  0.          -3.97347612  -0.86707993   2.97472904  -5.74024113]\n",
      " [  0.           0.         -10.26810228   1.89090298   1.60790112]\n",
      " [  0.           0.           0.          -1.29964934   3.35772244]\n",
      " [  0.           0.           0.           0.           0.55705805]]\n"
     ]
    }
   ],
   "source": [
    "# -*- coding: utf-8 -*-\n",
    "from __future__ import division\n",
    "from numpy.random import randn\n",
    "import numpy as np\n",
    "\n",
    "###线性代数\n",
    "x = np.array([[1., 2., 3.], [4., 5., 6.]])\n",
    "y = np.array([[6., 23.], [-1, 7], [8, 9]])\n",
    "print(x)\n",
    "print(y)\n",
    "x.dot(y)  # 等价于np.dot(x, y)\n",
    "\n",
    "np.dot(x, np.ones(3))\n",
    "\n",
    "np.random.seed(12345)\n",
    "\n",
    "from numpy.linalg import inv, qr\n",
    "X = randn(5, 5)\n",
    "mat = X.T.dot(X)\n",
    "inv(mat)\n",
    "mat.dot(inv(mat))\n",
    "q, r = qr(mat)\n",
    "print(r)"
   ]
  },
  {
   "cell_type": "code",
   "execution_count": 16,
   "metadata": {},
   "outputs": [
    {
     "name": "stdout",
     "output_type": "stream",
     "text": [
      "[[-0.19954296 -1.54199553 -0.97073591 -1.30703025]\n",
      " [ 0.28634975  0.37798411 -0.75388653  0.33128565]\n",
      " [ 1.34974221  0.06987669  0.24667411 -0.0118616 ]\n",
      " [ 1.00481159  1.32719461 -0.91926156 -1.54910644]]\n",
      "3.89 s ± 690 ms per loop (mean ± std. dev. of 7 runs, 1 loop each)\n",
      "None\n",
      "90 ms ± 2.41 ms per loop (mean ± std. dev. of 7 runs, 10 loops each)\n",
      "None\n"
     ]
    }
   ],
   "source": [
    "# -*- coding: utf-8 -*-\n",
    "from __future__ import division\n",
    "from numpy.random import randn\n",
    "import numpy as np\n",
    "\n",
    "###随机数生成\n",
    "samples = np.random.normal(size=(4, 4))\n",
    "print(samples)\n",
    "\n",
    "from random import normalvariate\n",
    "N = 1000000\n",
    "print(get_ipython().magic(u'timeit samples = [normalvariate(0, 1) for _ in range(N)]'))\n",
    "print(get_ipython().magic(u'timeit np.random.normal(size=N)'))"
   ]
  },
  {
   "cell_type": "code",
   "execution_count": 18,
   "metadata": {},
   "outputs": [
    {
     "data": {
      "text/plain": [
       "37"
      ]
     },
     "execution_count": 18,
     "metadata": {},
     "output_type": "execute_result"
    }
   ],
   "source": [
    "# -*- coding: utf-8 -*-\n",
    "from __future__ import division\n",
    "from numpy.random import randn\n",
    "import numpy as np\n",
    "\n",
    "# 范例：随机漫步\n",
    "import random\n",
    "position = 0\n",
    "walk = [position]\n",
    "steps = 1000\n",
    "for i in range(steps):\n",
    "    step = 1 if random.randint(0, 1) else -1\n",
    "    position += step\n",
    "    walk.append(position)\n",
    "\n",
    "np.random.seed(12345)\n",
    "\n",
    "nsteps = 1000\n",
    "draws = np.random.randint(0, 2, size=nsteps)\n",
    "steps = np.where(draws > 0, 1, -1)\n",
    "walk = steps.cumsum()\n",
    "\n",
    "walk.min()\n",
    "walk.max()\n",
    "\n",
    "(np.abs(walk) >= 10).argmax()"
   ]
  },
  {
   "cell_type": "code",
   "execution_count": 19,
   "metadata": {},
   "outputs": [
    {
     "name": "stdout",
     "output_type": "stream",
     "text": [
      "[[  1   0   1 ...   8   7   8]\n",
      " [  1   0  -1 ...  34  33  32]\n",
      " [  1   0  -1 ...   4   5   4]\n",
      " ...\n",
      " [  1   2   1 ...  24  25  26]\n",
      " [  1   2   3 ...  14  13  14]\n",
      " [ -1  -2  -3 ... -24 -23 -22]]\n",
      "[False  True False ... False  True False]\n",
      "3410\n",
      "[[-0.02565707  0.36310961  0.41720151 ...  0.15726638 -0.16256773\n",
      "   0.05423703]\n",
      " [-0.10456259  0.07877516  0.19110411 ...  0.07678875 -0.18545695\n",
      "   0.0333151 ]\n",
      " [-0.16728617  0.12034941 -0.30427248 ... -0.30982359 -0.17291787\n",
      "   0.02772071]\n",
      " ...\n",
      " [ 0.27987403  0.05477886 -0.02167382 ...  0.02795479  0.25268149\n",
      "   0.06510672]\n",
      " [ 0.31853634 -0.15109745 -0.1121375  ...  0.14705719  0.18206871\n",
      "  -0.02473096]\n",
      " [-0.13101904 -0.24008233 -0.03925202 ... -0.18320903 -0.20967376\n",
      "   0.20705573]]\n"
     ]
    }
   ],
   "source": [
    "# -*- coding: utf-8 -*-\n",
    "from __future__ import division\n",
    "from numpy.random import randn\n",
    "import numpy as np\n",
    "\n",
    "# 一次模拟多个随机漫步\n",
    "nwalks = 5000\n",
    "nsteps = 1000\n",
    "draws = np.random.randint(0, 2, size=(nwalks, nsteps)) # 0 or 1\n",
    "steps = np.where(draws > 0, 1, -1)\n",
    "walks = steps.cumsum(1)\n",
    "print(walks)\n",
    "\n",
    "walks.max()\n",
    "walks.min()\n",
    "\n",
    "\n",
    "hits30 = (np.abs(walks) >= 30).any(1)\n",
    "print(hits30)\n",
    "print(hits30.sum()) # 到达30或-30的数量\n",
    "\n",
    "crossing_times = (np.abs(walks[hits30]) >= 30).argmax(1)\n",
    "crossing_times.mean()\n",
    "\n",
    "steps = np.random.normal(loc=0, scale=0.25,\n",
    "                         size=(nwalks, nsteps))\n",
    "print(steps)"
   ]
  },
  {
   "cell_type": "code",
   "execution_count": 23,
   "metadata": {},
   "outputs": [
    {
     "name": "stdout",
     "output_type": "stream",
     "text": [
      "VWAP = 350.5895493532009\n",
      "mean = 351.0376666666667\n",
      "twap = 352.4283218390804\n",
      "highest = 364.9\n",
      "lowest = 333.53\n",
      "349.215\n",
      "Spread high price 24.859999999999957\n",
      "Spread low price 26.970000000000027\n",
      "median = 352.055\n",
      "sorted = [336.1  338.61 339.32 342.62 342.88 343.44 344.32 345.03 346.5  346.67\n",
      " 348.16 349.31 350.56 351.88 351.99 352.12 352.47 353.21 354.54 355.2\n",
      " 355.36 355.76 356.85 358.16 358.3  359.18 359.56 359.9  360.   363.13]\n"
     ]
    },
    {
     "ename": "IndexError",
     "evalue": "only integers, slices (`:`), ellipsis (`...`), numpy.newaxis (`None`) and integer or boolean arrays are valid indices",
     "output_type": "error",
     "traceback": [
      "\u001b[1;31m---------------------------------------------------------------------------\u001b[0m",
      "\u001b[1;31mIndexError\u001b[0m                                Traceback (most recent call last)",
      "\u001b[1;32m<ipython-input-23-89eecbfc7366>\u001b[0m in \u001b[0;36m<module>\u001b[1;34m()\u001b[0m\n\u001b[0;32m     36\u001b[0m \u001b[1;33m\u001b[0m\u001b[0m\n\u001b[0;32m     37\u001b[0m \u001b[0mN\u001b[0m \u001b[1;33m=\u001b[0m \u001b[0mlen\u001b[0m\u001b[1;33m(\u001b[0m\u001b[0mc\u001b[0m\u001b[1;33m)\u001b[0m\u001b[1;33m\u001b[0m\u001b[0m\n\u001b[1;32m---> 38\u001b[1;33m \u001b[0mprint\u001b[0m \u001b[1;33m(\u001b[0m\u001b[1;34m\"middle =\"\u001b[0m\u001b[1;33m,\u001b[0m \u001b[0msort_ed\u001b[0m\u001b[1;33m[\u001b[0m\u001b[1;33m(\u001b[0m\u001b[0mN\u001b[0m \u001b[1;33m-\u001b[0m \u001b[1;36m1\u001b[0m\u001b[1;33m)\u001b[0m\u001b[1;33m/\u001b[0m\u001b[1;36m2\u001b[0m\u001b[1;33m]\u001b[0m\u001b[1;33m)\u001b[0m\u001b[1;33m\u001b[0m\u001b[0m\n\u001b[0m\u001b[0;32m     39\u001b[0m \u001b[0mprint\u001b[0m \u001b[1;33m(\u001b[0m\u001b[1;34m\"average middle =\"\u001b[0m\u001b[1;33m,\u001b[0m \u001b[1;33m(\u001b[0m\u001b[0msort_ed\u001b[0m\u001b[1;33m[\u001b[0m\u001b[0mN\u001b[0m \u001b[1;33m/\u001b[0m\u001b[1;36m2\u001b[0m\u001b[1;33m]\u001b[0m \u001b[1;33m+\u001b[0m \u001b[0msort_ed\u001b[0m\u001b[1;33m[\u001b[0m\u001b[1;33m(\u001b[0m\u001b[0mN\u001b[0m \u001b[1;33m-\u001b[0m \u001b[1;36m1\u001b[0m\u001b[1;33m)\u001b[0m \u001b[1;33m/\u001b[0m \u001b[1;36m2\u001b[0m\u001b[1;33m]\u001b[0m\u001b[1;33m)\u001b[0m \u001b[1;33m/\u001b[0m \u001b[1;36m2\u001b[0m\u001b[1;33m)\u001b[0m\u001b[1;33m\u001b[0m\u001b[0m\n\u001b[0;32m     40\u001b[0m \u001b[1;33m\u001b[0m\u001b[0m\n",
      "\u001b[1;31mIndexError\u001b[0m: only integers, slices (`:`), ellipsis (`...`), numpy.newaxis (`None`) and integer or boolean arrays are valid indices"
     ]
    }
   ],
   "source": [
    "# -*- coding: utf-8 -*-\n",
    "from __future__ import division\n",
    "from numpy.random import randn\n",
    "import numpy as np\n",
    "###利用NumPy进行历史股价分析\n",
    "import sys\n",
    "#读入文件\n",
    "c,v=np.loadtxt('data.csv', delimiter=',', usecols=(6,7), unpack=True)\n",
    "\n",
    "#计算成交量加权平均价格\n",
    "vwap = np.average(c, weights=v)\n",
    "print (\"VWAP =\", vwap)\n",
    "\n",
    "#算术平均值函数\n",
    "print (\"mean =\", np.mean(c))\n",
    "\n",
    "#时间加权平均价格\n",
    "t = np.arange(len(c))\n",
    "print (\"twap =\", np.average(c, weights=t))\n",
    "\n",
    "#寻找最大值和最小值\n",
    "h,l=np.loadtxt('data.csv', delimiter=',', usecols=(4,5), unpack=True)\n",
    "print (\"highest =\", np.max(h))\n",
    "print (\"lowest =\", np.min(l))\n",
    "print ((np.max(h) + np.min(l)) /2)\n",
    "\n",
    "print (\"Spread high price\", np.ptp(h))\n",
    "print (\"Spread low price\", np.ptp(l))\n",
    "\n",
    "#统计分析\n",
    "\n",
    "c=np.loadtxt('data.csv', delimiter=',', usecols=(6,), unpack=True)\n",
    "print (\"median =\", np.median(c))\n",
    "sort_ed = np.msort(c)\n",
    "print (\"sorted =\", sort_ed)\n",
    "\n",
    "N = len(c)\n",
    "print (\"middle =\", sort_ed[(N - 1)/2])\n",
    "print (\"average middle =\", (sort_ed[N /2] + sort_ed[(N - 1) / 2]) / 2)\n",
    "\n",
    "print (\"variance =\", np.var(c))\n",
    "print (\"variance from definition =\", np.mean((c - c.mean())**2))"
   ]
  },
  {
   "cell_type": "code",
   "execution_count": 24,
   "metadata": {},
   "outputs": [
    {
     "name": "stdout",
     "output_type": "stream",
     "text": [
      "Standard deviation = 0.012922134436826306\n",
      "Indices with positive returns (array([ 0,  1,  4,  5,  6,  7,  9, 10, 11, 12, 16, 17, 18, 19, 21, 22, 23,\n",
      "       25, 28], dtype=int64),)\n",
      "Annual volatility 129.27478991115132\n",
      "Monthly volatility 37.318417377317765\n"
     ]
    }
   ],
   "source": [
    "# -*- coding: utf-8 -*-\n",
    "from __future__ import division\n",
    "from numpy.random import randn\n",
    "import numpy as np\n",
    "###利用NumPy进行历史股价分析\n",
    "import sys\n",
    "\n",
    "#股票收益率\n",
    "c=np.loadtxt('data.csv', delimiter=',', usecols=(6,), unpack=True)\n",
    "\n",
    "returns = np.diff( c ) / c[ : -1]\n",
    "print (\"Standard deviation =\", np.std(returns))\n",
    "\n",
    "logreturns = np.diff( np.log(c) )\n",
    "\n",
    "posretindices = np.where(returns > 0)\n",
    "print (\"Indices with positive returns\", posretindices)\n",
    "\n",
    "annual_volatility = np.std(logreturns)/np.mean(logreturns)\n",
    "annual_volatility = annual_volatility / np.sqrt(1./252.)\n",
    "print( \"Annual volatility\", annual_volatility)\n",
    "\n",
    "print (\"Monthly volatility\", annual_volatility * np.sqrt(1./12.))\n"
   ]
  },
  {
   "cell_type": "code",
   "execution_count": 32,
   "metadata": {},
   "outputs": [
    {
     "ename": "TypeError",
     "evalue": "strptime() argument 1 must be str, not bytes",
     "output_type": "error",
     "traceback": [
      "\u001b[1;31m---------------------------------------------------------------------------\u001b[0m",
      "\u001b[1;31mTypeError\u001b[0m                                 Traceback (most recent call last)",
      "\u001b[1;32m<ipython-input-32-9fda292eeaae>\u001b[0m in \u001b[0;36m<module>\u001b[1;34m()\u001b[0m\n\u001b[0;32m     19\u001b[0m \u001b[1;33m\u001b[0m\u001b[0m\n\u001b[0;32m     20\u001b[0m dates, close=np.loadtxt('data.csv', delimiter=',', usecols=(1,6), \n\u001b[1;32m---> 21\u001b[1;33m                          converters={1: datestr2num}, unpack=True)\n\u001b[0m\u001b[0;32m     22\u001b[0m \u001b[0mprint\u001b[0m \u001b[1;33m(\u001b[0m\u001b[1;34m\"Dates =\"\u001b[0m\u001b[1;33m,\u001b[0m \u001b[0mdates\u001b[0m\u001b[1;33m)\u001b[0m\u001b[1;33m\u001b[0m\u001b[0m\n\u001b[0;32m     23\u001b[0m \u001b[1;33m\u001b[0m\u001b[0m\n",
      "\u001b[1;32m~\\Anaconda3\\lib\\site-packages\\numpy\\lib\\npyio.py\u001b[0m in \u001b[0;36mloadtxt\u001b[1;34m(fname, dtype, comments, delimiter, converters, skiprows, usecols, unpack, ndmin, encoding)\u001b[0m\n\u001b[0;32m   1090\u001b[0m         \u001b[1;31m# converting the data\u001b[0m\u001b[1;33m\u001b[0m\u001b[1;33m\u001b[0m\u001b[0m\n\u001b[0;32m   1091\u001b[0m         \u001b[0mX\u001b[0m \u001b[1;33m=\u001b[0m \u001b[1;32mNone\u001b[0m\u001b[1;33m\u001b[0m\u001b[0m\n\u001b[1;32m-> 1092\u001b[1;33m         \u001b[1;32mfor\u001b[0m \u001b[0mx\u001b[0m \u001b[1;32min\u001b[0m \u001b[0mread_data\u001b[0m\u001b[1;33m(\u001b[0m\u001b[0m_loadtxt_chunksize\u001b[0m\u001b[1;33m)\u001b[0m\u001b[1;33m:\u001b[0m\u001b[1;33m\u001b[0m\u001b[0m\n\u001b[0m\u001b[0;32m   1093\u001b[0m             \u001b[1;32mif\u001b[0m \u001b[0mX\u001b[0m \u001b[1;32mis\u001b[0m \u001b[1;32mNone\u001b[0m\u001b[1;33m:\u001b[0m\u001b[1;33m\u001b[0m\u001b[0m\n\u001b[0;32m   1094\u001b[0m                 \u001b[0mX\u001b[0m \u001b[1;33m=\u001b[0m \u001b[0mnp\u001b[0m\u001b[1;33m.\u001b[0m\u001b[0marray\u001b[0m\u001b[1;33m(\u001b[0m\u001b[0mx\u001b[0m\u001b[1;33m,\u001b[0m \u001b[0mdtype\u001b[0m\u001b[1;33m)\u001b[0m\u001b[1;33m\u001b[0m\u001b[0m\n",
      "\u001b[1;32m~\\Anaconda3\\lib\\site-packages\\numpy\\lib\\npyio.py\u001b[0m in \u001b[0;36mread_data\u001b[1;34m(chunk_size)\u001b[0m\n\u001b[0;32m   1017\u001b[0m \u001b[1;33m\u001b[0m\u001b[0m\n\u001b[0;32m   1018\u001b[0m             \u001b[1;31m# Convert each value according to its column and store\u001b[0m\u001b[1;33m\u001b[0m\u001b[1;33m\u001b[0m\u001b[0m\n\u001b[1;32m-> 1019\u001b[1;33m             \u001b[0mitems\u001b[0m \u001b[1;33m=\u001b[0m \u001b[1;33m[\u001b[0m\u001b[0mconv\u001b[0m\u001b[1;33m(\u001b[0m\u001b[0mval\u001b[0m\u001b[1;33m)\u001b[0m \u001b[1;32mfor\u001b[0m \u001b[1;33m(\u001b[0m\u001b[0mconv\u001b[0m\u001b[1;33m,\u001b[0m \u001b[0mval\u001b[0m\u001b[1;33m)\u001b[0m \u001b[1;32min\u001b[0m \u001b[0mzip\u001b[0m\u001b[1;33m(\u001b[0m\u001b[0mconverters\u001b[0m\u001b[1;33m,\u001b[0m \u001b[0mvals\u001b[0m\u001b[1;33m)\u001b[0m\u001b[1;33m]\u001b[0m\u001b[1;33m\u001b[0m\u001b[0m\n\u001b[0m\u001b[0;32m   1020\u001b[0m \u001b[1;33m\u001b[0m\u001b[0m\n\u001b[0;32m   1021\u001b[0m             \u001b[1;31m# Then pack it according to the dtype's nesting\u001b[0m\u001b[1;33m\u001b[0m\u001b[1;33m\u001b[0m\u001b[0m\n",
      "\u001b[1;32m~\\Anaconda3\\lib\\site-packages\\numpy\\lib\\npyio.py\u001b[0m in \u001b[0;36m<listcomp>\u001b[1;34m(.0)\u001b[0m\n\u001b[0;32m   1017\u001b[0m \u001b[1;33m\u001b[0m\u001b[0m\n\u001b[0;32m   1018\u001b[0m             \u001b[1;31m# Convert each value according to its column and store\u001b[0m\u001b[1;33m\u001b[0m\u001b[1;33m\u001b[0m\u001b[0m\n\u001b[1;32m-> 1019\u001b[1;33m             \u001b[0mitems\u001b[0m \u001b[1;33m=\u001b[0m \u001b[1;33m[\u001b[0m\u001b[0mconv\u001b[0m\u001b[1;33m(\u001b[0m\u001b[0mval\u001b[0m\u001b[1;33m)\u001b[0m \u001b[1;32mfor\u001b[0m \u001b[1;33m(\u001b[0m\u001b[0mconv\u001b[0m\u001b[1;33m,\u001b[0m \u001b[0mval\u001b[0m\u001b[1;33m)\u001b[0m \u001b[1;32min\u001b[0m \u001b[0mzip\u001b[0m\u001b[1;33m(\u001b[0m\u001b[0mconverters\u001b[0m\u001b[1;33m,\u001b[0m \u001b[0mvals\u001b[0m\u001b[1;33m)\u001b[0m\u001b[1;33m]\u001b[0m\u001b[1;33m\u001b[0m\u001b[0m\n\u001b[0m\u001b[0;32m   1020\u001b[0m \u001b[1;33m\u001b[0m\u001b[0m\n\u001b[0;32m   1021\u001b[0m             \u001b[1;31m# Then pack it according to the dtype's nesting\u001b[0m\u001b[1;33m\u001b[0m\u001b[1;33m\u001b[0m\u001b[0m\n",
      "\u001b[1;32m~\\Anaconda3\\lib\\site-packages\\numpy\\lib\\npyio.py\u001b[0m in \u001b[0;36mtobytes_first\u001b[1;34m(x, conv)\u001b[0m\n\u001b[0;32m   1076\u001b[0m                     \u001b[1;32mif\u001b[0m \u001b[0mtype\u001b[0m\u001b[1;33m(\u001b[0m\u001b[0mx\u001b[0m\u001b[1;33m)\u001b[0m \u001b[1;32mis\u001b[0m \u001b[0mbytes\u001b[0m\u001b[1;33m:\u001b[0m\u001b[1;33m\u001b[0m\u001b[0m\n\u001b[0;32m   1077\u001b[0m                         \u001b[1;32mreturn\u001b[0m \u001b[0mconv\u001b[0m\u001b[1;33m(\u001b[0m\u001b[0mx\u001b[0m\u001b[1;33m)\u001b[0m\u001b[1;33m\u001b[0m\u001b[0m\n\u001b[1;32m-> 1078\u001b[1;33m                     \u001b[1;32mreturn\u001b[0m \u001b[0mconv\u001b[0m\u001b[1;33m(\u001b[0m\u001b[0mx\u001b[0m\u001b[1;33m.\u001b[0m\u001b[0mencode\u001b[0m\u001b[1;33m(\u001b[0m\u001b[1;34m\"latin1\"\u001b[0m\u001b[1;33m)\u001b[0m\u001b[1;33m)\u001b[0m\u001b[1;33m\u001b[0m\u001b[0m\n\u001b[0m\u001b[0;32m   1079\u001b[0m                 \u001b[1;32mimport\u001b[0m \u001b[0mfunctools\u001b[0m\u001b[1;33m\u001b[0m\u001b[0m\n\u001b[0;32m   1080\u001b[0m                 \u001b[0mconverters\u001b[0m\u001b[1;33m[\u001b[0m\u001b[0mi\u001b[0m\u001b[1;33m]\u001b[0m \u001b[1;33m=\u001b[0m \u001b[0mfunctools\u001b[0m\u001b[1;33m.\u001b[0m\u001b[0mpartial\u001b[0m\u001b[1;33m(\u001b[0m\u001b[0mtobytes_first\u001b[0m\u001b[1;33m,\u001b[0m \u001b[0mconv\u001b[0m\u001b[1;33m=\u001b[0m\u001b[0mconv\u001b[0m\u001b[1;33m)\u001b[0m\u001b[1;33m\u001b[0m\u001b[0m\n",
      "\u001b[1;32m<ipython-input-32-9fda292eeaae>\u001b[0m in \u001b[0;36mdatestr2num\u001b[1;34m(s)\u001b[0m\n\u001b[0;32m     16\u001b[0m \u001b[1;31m# Sunday 6\u001b[0m\u001b[1;33m\u001b[0m\u001b[1;33m\u001b[0m\u001b[0m\n\u001b[0;32m     17\u001b[0m \u001b[1;32mdef\u001b[0m \u001b[0mdatestr2num\u001b[0m\u001b[1;33m(\u001b[0m\u001b[0ms\u001b[0m\u001b[1;33m)\u001b[0m\u001b[1;33m:\u001b[0m\u001b[1;33m\u001b[0m\u001b[0m\n\u001b[1;32m---> 18\u001b[1;33m    \u001b[1;32mreturn\u001b[0m \u001b[0mdatetime\u001b[0m\u001b[1;33m.\u001b[0m\u001b[0mstrptime\u001b[0m\u001b[1;33m(\u001b[0m\u001b[0ms\u001b[0m\u001b[1;33m,\u001b[0m\u001b[1;34m\"%d-%m-%Y\"\u001b[0m\u001b[1;33m)\u001b[0m\u001b[1;33m.\u001b[0m\u001b[0mdate\u001b[0m\u001b[1;33m(\u001b[0m\u001b[1;33m)\u001b[0m\u001b[1;33m.\u001b[0m\u001b[0mweekday\u001b[0m\u001b[1;33m(\u001b[0m\u001b[1;33m)\u001b[0m\u001b[1;33m\u001b[0m\u001b[0m\n\u001b[0m\u001b[0;32m     19\u001b[0m \u001b[1;33m\u001b[0m\u001b[0m\n\u001b[0;32m     20\u001b[0m dates, close=np.loadtxt('data.csv', delimiter=',', usecols=(1,6), \n",
      "\u001b[1;31mTypeError\u001b[0m: strptime() argument 1 must be str, not bytes"
     ]
    }
   ],
   "source": [
    "# -*- coding: utf-8 -*-\n",
    "from __future__ import division\n",
    "from numpy.random import randn\n",
    "import numpy as np\n",
    "###利用NumPy进行历史股价分析\n",
    "import sys\n",
    "#日期分析\n",
    "from datetime import datetime\n",
    "\n",
    "# Monday 0\n",
    "# Tuesday 1\n",
    "# Wednesday 2\n",
    "# Thursday 3\n",
    "# Friday 4\n",
    "# Saturday 5\n",
    "# Sunday 6\n",
    "def datestr2num(s):\n",
    "   return datetime.strptime(s,\"%d-%m-%Y\").date().weekday()\n",
    "\n",
    "dates, close=np.loadtxt('data.csv', delimiter=',', usecols=(1,6), \n",
    "                         converters={1: datestr2num}, unpack=True)\n",
    "print (\"Dates =\", dates)\n",
    "\n",
    "averages = np.zeros(5)\n",
    "\n",
    "for i in range(5):\n",
    "   indices = np.where(dates == i) \n",
    "   prices = np.take(close, indices)\n",
    "   avg = np.mean(prices)\n",
    "   print (\"Day\", i, \"prices\", prices, \"Average\", avg)\n",
    "   averages[i] = avg\n",
    "\n",
    "\n",
    "top = np.max(averages)\n",
    "print( \"Highest average\", top)\n",
    "print (\"Top day of the week\", np.argmax(averages))\n",
    "\n",
    "bottom = np.min(averages)\n",
    "print (\"Lowest average\", bottom)\n",
    "print (\"Bottom day of the week\", np.argmin(averages))"
   ]
  },
  {
   "cell_type": "code",
   "execution_count": 33,
   "metadata": {},
   "outputs": [
    {
     "ename": "TypeError",
     "evalue": "strptime() argument 1 must be str, not bytes",
     "output_type": "error",
     "traceback": [
      "\u001b[1;31m---------------------------------------------------------------------------\u001b[0m",
      "\u001b[1;31mTypeError\u001b[0m                                 Traceback (most recent call last)",
      "\u001b[1;32m<ipython-input-33-d8e74935a296>\u001b[0m in \u001b[0;36m<module>\u001b[1;34m()\u001b[0m\n\u001b[0;32m     10\u001b[0m \u001b[1;33m\u001b[0m\u001b[0m\n\u001b[0;32m     11\u001b[0m dates, open, high, low, close=np.loadtxt('data.csv', delimiter=',', \n\u001b[1;32m---> 12\u001b[1;33m          usecols=(1, 3, 4, 5, 6), converters={1: datestr2num}, unpack=True)\n\u001b[0m\u001b[0;32m     13\u001b[0m \u001b[0mclose\u001b[0m \u001b[1;33m=\u001b[0m \u001b[0mclose\u001b[0m\u001b[1;33m[\u001b[0m\u001b[1;33m:\u001b[0m\u001b[1;36m16\u001b[0m\u001b[1;33m]\u001b[0m\u001b[1;33m\u001b[0m\u001b[0m\n\u001b[0;32m     14\u001b[0m \u001b[0mdates\u001b[0m \u001b[1;33m=\u001b[0m \u001b[0mdates\u001b[0m\u001b[1;33m[\u001b[0m\u001b[1;33m:\u001b[0m\u001b[1;36m16\u001b[0m\u001b[1;33m]\u001b[0m\u001b[1;33m\u001b[0m\u001b[0m\n",
      "\u001b[1;32m~\\Anaconda3\\lib\\site-packages\\numpy\\lib\\npyio.py\u001b[0m in \u001b[0;36mloadtxt\u001b[1;34m(fname, dtype, comments, delimiter, converters, skiprows, usecols, unpack, ndmin, encoding)\u001b[0m\n\u001b[0;32m   1090\u001b[0m         \u001b[1;31m# converting the data\u001b[0m\u001b[1;33m\u001b[0m\u001b[1;33m\u001b[0m\u001b[0m\n\u001b[0;32m   1091\u001b[0m         \u001b[0mX\u001b[0m \u001b[1;33m=\u001b[0m \u001b[1;32mNone\u001b[0m\u001b[1;33m\u001b[0m\u001b[0m\n\u001b[1;32m-> 1092\u001b[1;33m         \u001b[1;32mfor\u001b[0m \u001b[0mx\u001b[0m \u001b[1;32min\u001b[0m \u001b[0mread_data\u001b[0m\u001b[1;33m(\u001b[0m\u001b[0m_loadtxt_chunksize\u001b[0m\u001b[1;33m)\u001b[0m\u001b[1;33m:\u001b[0m\u001b[1;33m\u001b[0m\u001b[0m\n\u001b[0m\u001b[0;32m   1093\u001b[0m             \u001b[1;32mif\u001b[0m \u001b[0mX\u001b[0m \u001b[1;32mis\u001b[0m \u001b[1;32mNone\u001b[0m\u001b[1;33m:\u001b[0m\u001b[1;33m\u001b[0m\u001b[0m\n\u001b[0;32m   1094\u001b[0m                 \u001b[0mX\u001b[0m \u001b[1;33m=\u001b[0m \u001b[0mnp\u001b[0m\u001b[1;33m.\u001b[0m\u001b[0marray\u001b[0m\u001b[1;33m(\u001b[0m\u001b[0mx\u001b[0m\u001b[1;33m,\u001b[0m \u001b[0mdtype\u001b[0m\u001b[1;33m)\u001b[0m\u001b[1;33m\u001b[0m\u001b[0m\n",
      "\u001b[1;32m~\\Anaconda3\\lib\\site-packages\\numpy\\lib\\npyio.py\u001b[0m in \u001b[0;36mread_data\u001b[1;34m(chunk_size)\u001b[0m\n\u001b[0;32m   1017\u001b[0m \u001b[1;33m\u001b[0m\u001b[0m\n\u001b[0;32m   1018\u001b[0m             \u001b[1;31m# Convert each value according to its column and store\u001b[0m\u001b[1;33m\u001b[0m\u001b[1;33m\u001b[0m\u001b[0m\n\u001b[1;32m-> 1019\u001b[1;33m             \u001b[0mitems\u001b[0m \u001b[1;33m=\u001b[0m \u001b[1;33m[\u001b[0m\u001b[0mconv\u001b[0m\u001b[1;33m(\u001b[0m\u001b[0mval\u001b[0m\u001b[1;33m)\u001b[0m \u001b[1;32mfor\u001b[0m \u001b[1;33m(\u001b[0m\u001b[0mconv\u001b[0m\u001b[1;33m,\u001b[0m \u001b[0mval\u001b[0m\u001b[1;33m)\u001b[0m \u001b[1;32min\u001b[0m \u001b[0mzip\u001b[0m\u001b[1;33m(\u001b[0m\u001b[0mconverters\u001b[0m\u001b[1;33m,\u001b[0m \u001b[0mvals\u001b[0m\u001b[1;33m)\u001b[0m\u001b[1;33m]\u001b[0m\u001b[1;33m\u001b[0m\u001b[0m\n\u001b[0m\u001b[0;32m   1020\u001b[0m \u001b[1;33m\u001b[0m\u001b[0m\n\u001b[0;32m   1021\u001b[0m             \u001b[1;31m# Then pack it according to the dtype's nesting\u001b[0m\u001b[1;33m\u001b[0m\u001b[1;33m\u001b[0m\u001b[0m\n",
      "\u001b[1;32m~\\Anaconda3\\lib\\site-packages\\numpy\\lib\\npyio.py\u001b[0m in \u001b[0;36m<listcomp>\u001b[1;34m(.0)\u001b[0m\n\u001b[0;32m   1017\u001b[0m \u001b[1;33m\u001b[0m\u001b[0m\n\u001b[0;32m   1018\u001b[0m             \u001b[1;31m# Convert each value according to its column and store\u001b[0m\u001b[1;33m\u001b[0m\u001b[1;33m\u001b[0m\u001b[0m\n\u001b[1;32m-> 1019\u001b[1;33m             \u001b[0mitems\u001b[0m \u001b[1;33m=\u001b[0m \u001b[1;33m[\u001b[0m\u001b[0mconv\u001b[0m\u001b[1;33m(\u001b[0m\u001b[0mval\u001b[0m\u001b[1;33m)\u001b[0m \u001b[1;32mfor\u001b[0m \u001b[1;33m(\u001b[0m\u001b[0mconv\u001b[0m\u001b[1;33m,\u001b[0m \u001b[0mval\u001b[0m\u001b[1;33m)\u001b[0m \u001b[1;32min\u001b[0m \u001b[0mzip\u001b[0m\u001b[1;33m(\u001b[0m\u001b[0mconverters\u001b[0m\u001b[1;33m,\u001b[0m \u001b[0mvals\u001b[0m\u001b[1;33m)\u001b[0m\u001b[1;33m]\u001b[0m\u001b[1;33m\u001b[0m\u001b[0m\n\u001b[0m\u001b[0;32m   1020\u001b[0m \u001b[1;33m\u001b[0m\u001b[0m\n\u001b[0;32m   1021\u001b[0m             \u001b[1;31m# Then pack it according to the dtype's nesting\u001b[0m\u001b[1;33m\u001b[0m\u001b[1;33m\u001b[0m\u001b[0m\n",
      "\u001b[1;32m~\\Anaconda3\\lib\\site-packages\\numpy\\lib\\npyio.py\u001b[0m in \u001b[0;36mtobytes_first\u001b[1;34m(x, conv)\u001b[0m\n\u001b[0;32m   1076\u001b[0m                     \u001b[1;32mif\u001b[0m \u001b[0mtype\u001b[0m\u001b[1;33m(\u001b[0m\u001b[0mx\u001b[0m\u001b[1;33m)\u001b[0m \u001b[1;32mis\u001b[0m \u001b[0mbytes\u001b[0m\u001b[1;33m:\u001b[0m\u001b[1;33m\u001b[0m\u001b[0m\n\u001b[0;32m   1077\u001b[0m                         \u001b[1;32mreturn\u001b[0m \u001b[0mconv\u001b[0m\u001b[1;33m(\u001b[0m\u001b[0mx\u001b[0m\u001b[1;33m)\u001b[0m\u001b[1;33m\u001b[0m\u001b[0m\n\u001b[1;32m-> 1078\u001b[1;33m                     \u001b[1;32mreturn\u001b[0m \u001b[0mconv\u001b[0m\u001b[1;33m(\u001b[0m\u001b[0mx\u001b[0m\u001b[1;33m.\u001b[0m\u001b[0mencode\u001b[0m\u001b[1;33m(\u001b[0m\u001b[1;34m\"latin1\"\u001b[0m\u001b[1;33m)\u001b[0m\u001b[1;33m)\u001b[0m\u001b[1;33m\u001b[0m\u001b[0m\n\u001b[0m\u001b[0;32m   1079\u001b[0m                 \u001b[1;32mimport\u001b[0m \u001b[0mfunctools\u001b[0m\u001b[1;33m\u001b[0m\u001b[0m\n\u001b[0;32m   1080\u001b[0m                 \u001b[0mconverters\u001b[0m\u001b[1;33m[\u001b[0m\u001b[0mi\u001b[0m\u001b[1;33m]\u001b[0m \u001b[1;33m=\u001b[0m \u001b[0mfunctools\u001b[0m\u001b[1;33m.\u001b[0m\u001b[0mpartial\u001b[0m\u001b[1;33m(\u001b[0m\u001b[0mtobytes_first\u001b[0m\u001b[1;33m,\u001b[0m \u001b[0mconv\u001b[0m\u001b[1;33m=\u001b[0m\u001b[0mconv\u001b[0m\u001b[1;33m)\u001b[0m\u001b[1;33m\u001b[0m\u001b[0m\n",
      "\u001b[1;32m<ipython-input-33-d8e74935a296>\u001b[0m in \u001b[0;36mdatestr2num\u001b[1;34m(s)\u001b[0m\n\u001b[0;32m      7\u001b[0m \u001b[1;31m#周汇总\u001b[0m\u001b[1;33m\u001b[0m\u001b[1;33m\u001b[0m\u001b[0m\n\u001b[0;32m      8\u001b[0m \u001b[1;32mdef\u001b[0m \u001b[0mdatestr2num\u001b[0m\u001b[1;33m(\u001b[0m\u001b[0ms\u001b[0m\u001b[1;33m)\u001b[0m\u001b[1;33m:\u001b[0m\u001b[1;33m\u001b[0m\u001b[0m\n\u001b[1;32m----> 9\u001b[1;33m    \u001b[1;32mreturn\u001b[0m \u001b[0mdatetime\u001b[0m\u001b[1;33m.\u001b[0m\u001b[0mstrptime\u001b[0m\u001b[1;33m(\u001b[0m\u001b[0ms\u001b[0m\u001b[1;33m,\u001b[0m \u001b[1;34m\"%d-%m-%Y\"\u001b[0m\u001b[1;33m)\u001b[0m\u001b[1;33m.\u001b[0m\u001b[0mdate\u001b[0m\u001b[1;33m(\u001b[0m\u001b[1;33m)\u001b[0m\u001b[1;33m.\u001b[0m\u001b[0mweekday\u001b[0m\u001b[1;33m(\u001b[0m\u001b[1;33m)\u001b[0m\u001b[1;33m\u001b[0m\u001b[0m\n\u001b[0m\u001b[0;32m     10\u001b[0m \u001b[1;33m\u001b[0m\u001b[0m\n\u001b[0;32m     11\u001b[0m dates, open, high, low, close=np.loadtxt('data.csv', delimiter=',', \n",
      "\u001b[1;31mTypeError\u001b[0m: strptime() argument 1 must be str, not bytes"
     ]
    }
   ],
   "source": [
    "# -*- coding: utf-8 -*-\n",
    "from __future__ import division\n",
    "from numpy.random import randn\n",
    "import numpy as np\n",
    "import sys\n",
    "\n",
    "#周汇总\n",
    "def datestr2num(s):\n",
    "   return datetime.strptime(s, \"%d-%m-%Y\").date().weekday()\n",
    "\n",
    "dates, open, high, low, close=np.loadtxt('data.csv', delimiter=',', \n",
    "         usecols=(1, 3, 4, 5, 6), converters={1: datestr2num}, unpack=True)\n",
    "close = close[:16]\n",
    "dates = dates[:16]\n",
    "\n",
    "# get first Monday\n",
    "first_monday = np.ravel(np.where(dates == 0))[0]\n",
    "print (\"The first Monday index is\", first_monday)\n",
    "\n",
    "# get last Friday\n",
    "last_friday = np.ravel(np.where(dates == 4))[-1]\n",
    "print (\"The last Friday index is\", last_friday)\n",
    "\n",
    "weeks_indices = np.arange(first_monday, last_friday + 1)\n",
    "print (\"Weeks indices initial\", weeks_indices)\n",
    "\n",
    "weeks_indices = np.split(weeks_indices, 3)\n",
    "print (\"Weeks indices after split\", weeks_indices)\n"
   ]
  },
  {
   "cell_type": "code",
   "execution_count": 34,
   "metadata": {},
   "outputs": [
    {
     "ename": "NameError",
     "evalue": "name 'weeks_indices' is not defined",
     "output_type": "error",
     "traceback": [
      "\u001b[1;31m---------------------------------------------------------------------------\u001b[0m",
      "\u001b[1;31mNameError\u001b[0m                                 Traceback (most recent call last)",
      "\u001b[1;32m<ipython-input-34-b46484fa196f>\u001b[0m in \u001b[0;36m<module>\u001b[1;34m()\u001b[0m\n\u001b[0;32m     12\u001b[0m     \u001b[1;32mreturn\u001b[0m\u001b[1;33m(\u001b[0m\u001b[1;34m\"APPL\"\u001b[0m\u001b[1;33m,\u001b[0m \u001b[0mmonday_open\u001b[0m\u001b[1;33m,\u001b[0m \u001b[0mweek_high\u001b[0m\u001b[1;33m,\u001b[0m \u001b[0mweek_low\u001b[0m\u001b[1;33m,\u001b[0m \u001b[0mfriday_close\u001b[0m\u001b[1;33m)\u001b[0m\u001b[1;33m\u001b[0m\u001b[0m\n\u001b[0;32m     13\u001b[0m \u001b[1;33m\u001b[0m\u001b[0m\n\u001b[1;32m---> 14\u001b[1;33m \u001b[0mweeksummary\u001b[0m \u001b[1;33m=\u001b[0m \u001b[0mnp\u001b[0m\u001b[1;33m.\u001b[0m\u001b[0mapply_along_axis\u001b[0m\u001b[1;33m(\u001b[0m\u001b[0msummarize\u001b[0m\u001b[1;33m,\u001b[0m \u001b[1;36m1\u001b[0m\u001b[1;33m,\u001b[0m \u001b[0mweeks_indices\u001b[0m\u001b[1;33m,\u001b[0m \u001b[0mopen\u001b[0m\u001b[1;33m,\u001b[0m \u001b[0mhigh\u001b[0m\u001b[1;33m,\u001b[0m \u001b[0mlow\u001b[0m\u001b[1;33m,\u001b[0m \u001b[0mclose\u001b[0m\u001b[1;33m)\u001b[0m\u001b[1;33m\u001b[0m\u001b[0m\n\u001b[0m\u001b[0;32m     15\u001b[0m \u001b[0mprint\u001b[0m\u001b[1;33m(\u001b[0m \u001b[1;34m\"Week summary\"\u001b[0m\u001b[1;33m,\u001b[0m \u001b[0mweeksummary\u001b[0m\u001b[1;33m)\u001b[0m\u001b[1;33m\u001b[0m\u001b[0m\n\u001b[0;32m     16\u001b[0m \u001b[1;33m\u001b[0m\u001b[0m\n",
      "\u001b[1;31mNameError\u001b[0m: name 'weeks_indices' is not defined"
     ]
    }
   ],
   "source": [
    "# -*- coding: utf-8 -*-\n",
    "from __future__ import division\n",
    "from numpy.random import randn\n",
    "import numpy as np\n",
    "import sys\n",
    "def summarize(a, o, h, l, c):\n",
    "    monday_open = o[a[0]]\n",
    "    week_high = np.max( np.take(h, a) )\n",
    "    week_low = np.min( np.take(l, a) )\n",
    "    friday_close = c[a[-1]]\n",
    "\n",
    "    return(\"APPL\", monday_open, week_high, week_low, friday_close)\n",
    "\n",
    "weeksummary = np.apply_along_axis(summarize, 1, weeks_indices, open, high, low, close)\n",
    "print( \"Week summary\", weeksummary)\n",
    "\n",
    "print(np.savetxt(\"weeksummary.csv\", weeksummary, delimiter=\",\", fmt=\"%s\"))"
   ]
  },
  {
   "cell_type": "code",
   "execution_count": 35,
   "metadata": {},
   "outputs": [
    {
     "name": "stdout",
     "output_type": "stream",
     "text": [
      "len(h) 20 len(l) 20\n",
      "Close [336.1  339.32 345.03 344.32 343.44 346.5  351.88 355.2  358.16 354.54\n",
      " 356.85 359.18 359.9  363.13 358.3  350.56 338.61 342.62 342.88 348.16\n",
      " 353.21 349.31 352.12 359.56 360.   355.36 355.76 352.47 346.67 351.99]\n",
      "len(previousclose) 20\n",
      "Previous close [354.54 356.85 359.18 359.9  363.13 358.3  350.56 338.61 342.62 342.88\n",
      " 348.16 353.21 349.31 352.12 359.56 360.   355.36 355.76 352.47 346.67]\n",
      "True range [ 4.26  2.77  2.42  5.    3.75  9.98  7.68  6.03  6.78  5.55  6.89  8.04\n",
      "  5.95  7.67  2.54 10.36  5.15  4.16  4.87  7.32]\n",
      "ATR [5.8585     5.704075   5.53987125 5.51287769 5.4247338  5.65249711\n",
      " 5.75387226 5.76767864 5.81829471 5.80487998 5.85913598 5.96817918\n",
      " 5.96727022 6.05240671 5.87678637 6.10094705 6.0533997  5.95872972\n",
      " 5.90429323 5.97507857]\n"
     ]
    }
   ],
   "source": [
    "# -*- coding: utf-8 -*-\n",
    "from __future__ import division\n",
    "from numpy.random import randn\n",
    "import numpy as np\n",
    "import sys\n",
    "\n",
    "\n",
    "#真实波动幅度均值\n",
    "\n",
    "h, l, c = np.loadtxt('data.csv', delimiter=',', usecols=(4, 5, 6), unpack=True)\n",
    "\n",
    "N =20\n",
    "h = h[-N:]\n",
    "l = l[-N:]\n",
    "\n",
    "print( \"len(h)\", len(h), \"len(l)\", len(l))\n",
    "print (\"Close\", c)\n",
    "previousclose = c[-N -1: -1]\n",
    "\n",
    "print (\"len(previousclose)\", len(previousclose))\n",
    "print (\"Previous close\", previousclose)\n",
    "truerange = np.maximum(h - l, h - previousclose, previousclose - l) \n",
    "\n",
    "print (\"True range\", truerange)\n",
    "\n",
    "atr = np.zeros(N)\n",
    "\n",
    "atr[0] = np.mean(truerange)\n",
    "\n",
    "for i in range(1, N):\n",
    "    atr[i] = (N - 1) * atr[i - 1] + truerange[i]\n",
    "    atr[i] /= N\n",
    "\n",
    "print( \"ATR\", atr)"
   ]
  },
  {
   "cell_type": "code",
   "execution_count": 37,
   "metadata": {},
   "outputs": [
    {
     "name": "stdout",
     "output_type": "stream",
     "text": [
      "Weights [0.2 0.2 0.2 0.2 0.2]\n"
     ]
    },
    {
     "data": {
      "image/png": "[encoded data removed]",
      "text/plain": [
       "<Figure size 432x288 with 1 Axes>"
      ]
     },
     "metadata": {},
     "output_type": "display_data"
    }
   ],
   "source": [
    "# -*- coding: utf-8 -*-\n",
    "from __future__ import division\n",
    "from numpy.random import randn\n",
    "import numpy as np\n",
    "import sys\n",
    "\n",
    "#简单移动平均线\n",
    "from matplotlib.pyplot import plot\n",
    "from matplotlib.pyplot import show\n",
    "\n",
    "N = 5\n",
    "\n",
    "weights = np.ones(N) / N\n",
    "print( \"Weights\", weights)\n",
    "\n",
    "c = np.loadtxt('data.csv', delimiter=',', usecols=(6,), unpack=True)\n",
    "sma = np.convolve(weights, c)[N-1:-N+1]\n",
    "t = np.arange(N - 1, len(c))\n",
    "plot(t, c[N-1:], lw=1.0)\n",
    "plot(t, sma, lw=2.0)\n",
    "show()\n"
   ]
  },
  {
   "cell_type": "code",
   "execution_count": 38,
   "metadata": {},
   "outputs": [
    {
     "name": "stdout",
     "output_type": "stream",
     "text": [
      "Exp [ 1.          2.71828183  7.3890561  20.08553692 54.59815003]\n",
      "Linspace [-1.   -0.75 -0.5  -0.25  0.  ]\n",
      "Weights [0.11405072 0.14644403 0.18803785 0.24144538 0.31002201]\n"
     ]
    },
    {
     "data": {
      "image/png": "[encoded data removed]",
      "text/plain": [
       "<Figure size 432x288 with 1 Axes>"
      ]
     },
     "metadata": {},
     "output_type": "display_data"
    }
   ],
   "source": [
    "#指数移动平均线\n",
    "x = np.arange(5)\n",
    "print (\"Exp\", np.exp(x))\n",
    "print (\"Linspace\", np.linspace(-1, 0, 5))\n",
    "\n",
    "N = 5\n",
    "\n",
    "\n",
    "weights = np.exp(np.linspace(-1., 0., N))\n",
    "weights /= weights.sum()\n",
    "print (\"Weights\", weights)\n",
    "\n",
    "c = np.loadtxt('data.csv', delimiter=',', usecols=(6,), unpack=True)\n",
    "ema = np.convolve(weights, c)[N-1:-N+1]\n",
    "t = np.arange(N - 1, len(c))\n",
    "plot(t, c[N-1:], lw=1.0)\n",
    "plot(t, ema, lw=2.0)\n",
    "show()"
   ]
  },
  {
   "cell_type": "code",
   "execution_count": 40,
   "metadata": {},
   "outputs": [
    {
     "name": "stdout",
     "output_type": "stream",
     "text": [
      "Weights [0.2 0.2 0.2 0.2 0.2]\n",
      "26 26\n",
      "[329.23044409 335.70890572 318.53386282 321.90858271 327.74175968\n",
      " 331.5628136  337.94259734 343.84172744 339.99900409 336.58687297\n",
      " 333.15550418 328.64879207 323.61483771 327.25667796 334.30323599\n",
      " 335.79295948 326.55905786 324.27329493 325.47601386 332.85867025\n",
      " 341.63882551 348.75558399 348.48014357 348.01342992 343.56371701\n",
      " 341.85163786]\n",
      "[336.1  339.32 345.03 344.32 343.44 346.5  351.88 355.2  358.16 354.54\n",
      " 356.85 359.18 359.9  363.13 358.3  350.56 338.61 342.62 342.88 348.16\n",
      " 353.21 349.31 352.12 359.56 360.   355.36]\n",
      "[354.05355591 351.73509428 373.93413718 374.62741729 374.33024032\n",
      " 374.9491864  372.70940266 369.73027256 375.45299591 380.85312703\n",
      " 385.78849582 387.77920793 384.58516229 374.03132204 358.88476401\n",
      " 353.33904052 363.63294214 370.19870507 372.79598614 372.08532975\n",
      " 368.04117449 361.78441601 364.63985643 365.24657008 364.54028299\n",
      " 363.04836214]\n",
      "Ratio between bands 1.0\n"
     ]
    },
    {
     "data": {
      "image/png": "[encoded data removed]",
      "text/plain": [
       "<Figure size 432x288 with 1 Axes>"
      ]
     },
     "metadata": {},
     "output_type": "display_data"
    }
   ],
   "source": [
    "# -*- coding: utf-8 -*-\n",
    "from __future__ import division\n",
    "from numpy.random import randn\n",
    "import numpy as np\n",
    "import sys\n",
    "from matplotlib.pyplot import plot\n",
    "from matplotlib.pyplot import show\n",
    "\n",
    "#布林带\n",
    "N = 5\n",
    "\n",
    "weights = np.ones(N) / N\n",
    "print (\"Weights\", weights)\n",
    "\n",
    "c = np.loadtxt('data.csv', delimiter=',', usecols=(6,), unpack=True)\n",
    "sma = np.convolve(weights, c)[N-1:-N+1]\n",
    "deviation = []\n",
    "C = len(c)\n",
    "\n",
    "for i in range(N - 1, C):\n",
    "    if i + N < C:\n",
    "        dev = c[i: i + N]\n",
    "    else:\n",
    "        dev = c[-N:]\n",
    "\n",
    "    averages = np.zeros(N)\n",
    "    averages.fill(sma[i - N - 1])\n",
    "    dev = dev - averages \n",
    "    dev = dev ** 2\n",
    "    dev = np.sqrt(np.mean(dev))\n",
    "    deviation.append(dev)\n",
    "\n",
    "deviation = 2 * np.array(deviation)\n",
    "print( len(deviation), len(sma))\n",
    "upperBB = sma + deviation\n",
    "lowerBB = sma - deviation\n",
    "\n",
    "c_slice = c[N-1:]\n",
    "between_bands = np.where((c_slice < upperBB) & (c_slice > lowerBB))\n",
    "\n",
    "print( lowerBB[between_bands])\n",
    "print (c[between_bands])\n",
    "print (upperBB[between_bands])\n",
    "between_bands = len(np.ravel(between_bands))\n",
    "print (\"Ratio between bands\", float(between_bands)/len(c_slice))\n",
    "\n",
    "t = np.arange(N - 1, C)\n",
    "plot(t, c_slice, lw=1.0)\n",
    "plot(t, sma, lw=2.0)\n",
    "plot(t, upperBB, lw=3.0)\n",
    "plot(t, lowerBB, lw=4.0)\n",
    "show()\n"
   ]
  },
  {
   "cell_type": "code",
   "execution_count": 41,
   "metadata": {},
   "outputs": [
    {
     "ename": "ValueError",
     "evalue": "invalid literal for int() with base 10: '-f'",
     "output_type": "error",
     "traceback": [
      "\u001b[1;31m---------------------------------------------------------------------------\u001b[0m",
      "\u001b[1;31mValueError\u001b[0m                                Traceback (most recent call last)",
      "\u001b[1;32m<ipython-input-41-cb639987d077>\u001b[0m in \u001b[0;36m<module>\u001b[1;34m()\u001b[0m\n\u001b[0;32m      8\u001b[0m \u001b[1;33m\u001b[0m\u001b[0m\n\u001b[0;32m      9\u001b[0m \u001b[1;31m#线性模型\u001b[0m\u001b[1;33m\u001b[0m\u001b[1;33m\u001b[0m\u001b[0m\n\u001b[1;32m---> 10\u001b[1;33m \u001b[0mN\u001b[0m \u001b[1;33m=\u001b[0m \u001b[0mint\u001b[0m\u001b[1;33m(\u001b[0m\u001b[0msys\u001b[0m\u001b[1;33m.\u001b[0m\u001b[0margv\u001b[0m\u001b[1;33m[\u001b[0m\u001b[1;36m1\u001b[0m\u001b[1;33m]\u001b[0m\u001b[1;33m)\u001b[0m\u001b[1;33m\u001b[0m\u001b[0m\n\u001b[0m\u001b[0;32m     11\u001b[0m \u001b[1;33m\u001b[0m\u001b[0m\n\u001b[0;32m     12\u001b[0m \u001b[0mc\u001b[0m \u001b[1;33m=\u001b[0m \u001b[0mnp\u001b[0m\u001b[1;33m.\u001b[0m\u001b[0mloadtxt\u001b[0m\u001b[1;33m(\u001b[0m\u001b[1;34m'data.csv'\u001b[0m\u001b[1;33m,\u001b[0m \u001b[0mdelimiter\u001b[0m\u001b[1;33m=\u001b[0m\u001b[1;34m','\u001b[0m\u001b[1;33m,\u001b[0m \u001b[0musecols\u001b[0m\u001b[1;33m=\u001b[0m\u001b[1;33m(\u001b[0m\u001b[1;36m6\u001b[0m\u001b[1;33m,\u001b[0m\u001b[1;33m)\u001b[0m\u001b[1;33m,\u001b[0m \u001b[0munpack\u001b[0m\u001b[1;33m=\u001b[0m\u001b[1;32mTrue\u001b[0m\u001b[1;33m)\u001b[0m\u001b[1;33m\u001b[0m\u001b[0m\n",
      "\u001b[1;31mValueError\u001b[0m: invalid literal for int() with base 10: '-f'"
     ]
    }
   ],
   "source": [
    "# -*- coding: utf-8 -*-\n",
    "from __future__ import division\n",
    "from numpy.random import randn\n",
    "import numpy as np\n",
    "import sys\n",
    "from matplotlib.pyplot import plot\n",
    "from matplotlib.pyplot import show\n",
    "\n",
    "#线性模型\n",
    "N = int(sys.argv[1])\n",
    "\n",
    "c = np.loadtxt('data.csv', delimiter=',', usecols=(6,), unpack=True)\n",
    "\n",
    "b = c[-N:]\n",
    "b = b[::-1]\n",
    "print (\"b\", b)\n",
    "\n",
    "A = np.zeros((N, N), float)\n",
    "print (\"Zeros N by N\", A)\n",
    "\n",
    "for i in range(N):\n",
    "   A[i, ] = c[-N - 1 - i: - 1 - i]\n",
    "\n",
    "print( \"A\", A)\n",
    "\n",
    "\n",
    "(x, residuals, rank, s) = np.linalg.lstsq(A, b)\n",
    "\n",
    "print (x, residuals, rank, s)\n",
    "\n",
    "print( np.dot(b, x))\n"
   ]
  },
  {
   "cell_type": "code",
   "execution_count": 42,
   "metadata": {},
   "outputs": [
    {
     "name": "stdout",
     "output_type": "stream",
     "text": [
      "Pivots [338.01       337.88666667 343.88666667 344.37333333 342.07666667\n",
      " 345.57       350.92333333 354.29       357.34333333 354.18\n",
      " 356.06333333 358.45666667 359.14       362.84333333 358.36333333\n",
      " 353.19333333 340.57666667 341.95666667 342.13333333 347.13\n",
      " 353.12666667 350.90333333 351.62333333 358.42333333 359.34666667\n",
      " 356.11333333 355.13666667 352.61       347.11333333 349.77      ]\n"
     ]
    },
    {
     "name": "stderr",
     "output_type": "stream",
     "text": [
      "C:\\Users\\Administrator\\Anaconda3\\lib\\site-packages\\ipykernel_launcher.py:13: FutureWarning: `rcond` parameter will change to the default of machine precision times ``max(M, N)`` where M and N are the input matrix dimensions.\n",
      "To use the future default and silence this warning we advise to pass `rcond=None`, to keep using the old, explicitly pass `rcond=-1`.\n",
      "  del sys.path[0]\n"
     ]
    },
    {
     "name": "stdout",
     "output_type": "stream",
     "text": [
      "Condition [False False  True  True  True  True  True False False  True False False\n",
      " False False False  True False False False  True  True  True  True False\n",
      " False  True  True  True False  True]\n",
      "[341.92421382 342.19081893 342.45742405 342.72402917 342.99063429\n",
      " 343.79044964 345.39008034 346.4565008  346.72310592 346.98971104\n",
      " 347.25631615 348.0561315  348.32273662 348.58934174 349.12255197]\n",
      "[345.03 344.32 343.44 346.5  351.88 354.54 350.56 348.16 353.21 349.31\n",
      " 352.12 355.36 355.76 352.47 351.99]\n",
      "[352.61688271 352.90732765 353.19777259 353.48821753 353.77866246\n",
      " 354.64999728 356.39266691 357.55444667 357.84489161 358.13533655\n",
      " 358.42578149 359.2971163  359.58756124 359.87800618 360.45889606]\n",
      "Number points between bands 15\n",
      "Ratio between bands 0.5\n",
      "Tomorrows support 349.3891570881227\n",
      "Tomorrows resistance 360.7493409961684\n",
      "Number of points between bands 2nd approach 15\n"
     ]
    },
    {
     "data": {
      "image/png": "[encoded data removed]",
      "text/plain": [
       "<Figure size 432x288 with 1 Axes>"
      ]
     },
     "metadata": {},
     "output_type": "display_data"
    }
   ],
   "source": [
    "# -*- coding: utf-8 -*-\n",
    "from __future__ import division\n",
    "from numpy.random import randn\n",
    "import numpy as np\n",
    "import sys\n",
    "from matplotlib.pyplot import plot\n",
    "from matplotlib.pyplot import show\n",
    "\n",
    "#趋势线\n",
    "def fit_line(t, y):\n",
    "   A = np.vstack([t, np.ones_like(t)]).T\n",
    "\n",
    "   return np.linalg.lstsq(A, y)[0]\n",
    "\n",
    "h, l, c = np.loadtxt('data.csv', delimiter=',', usecols=(4, 5, 6), unpack=True)\n",
    "\n",
    "pivots = (h + l + c) / 3\n",
    "print (\"Pivots\", pivots)\n",
    "\n",
    "t = np.arange(len(c))\n",
    "sa, sb = fit_line(t, pivots - (h - l)) \n",
    "ra, rb = fit_line(t, pivots + (h - l))\n",
    "\n",
    "support = sa * t + sb\n",
    "resistance = ra * t + rb \n",
    "condition = (c > support) & (c < resistance)\n",
    "print (\"Condition\", condition)\n",
    "between_bands = np.where(condition) \n",
    "print( support[between_bands])\n",
    "print (c[between_bands])\n",
    "print (resistance[between_bands])\n",
    "between_bands = len(np.ravel(between_bands))\n",
    "print (\"Number points between bands\", between_bands)\n",
    "print (\"Ratio between bands\", float(between_bands)/len(c) )\n",
    "\n",
    "print (\"Tomorrows support\", sa * (t[-1] + 1) + sb)\n",
    "print (\"Tomorrows resistance\", ra * (t[-1] + 1) + rb)\n",
    "\n",
    "a1 = c[c > support]\n",
    "a2 = c[c < resistance]\n",
    "print (\"Number of points between bands 2nd approach\" ,len(np.intersect1d(a1, a2)))\n",
    "\n",
    "plot(t, c)\n",
    "plot(t, support)\n",
    "plot(t, resistance)\n",
    "show()"
   ]
  },
  {
   "cell_type": "code",
   "execution_count": 7,
   "metadata": {},
   "outputs": [
    {
     "name": "stdout",
     "output_type": "stream",
     "text": [
      "True\n",
      "(3, 4)\n",
      "1924884009728\n",
      "1924884009728\n"
     ]
    }
   ],
   "source": [
    "# 简单的赋值操作不会拷贝数组对象和内存\n",
    "import numpy as np\n",
    "a = np.arange(12)\n",
    "b = a\n",
    "# a和b指向的是相同数组的对象\n",
    "print(b is a)\n",
    "b.shape = 3,4\n",
    "print(a.shape)\n",
    "print(id(a))\n",
    "print(id(b))"
   ]
  },
  {
   "cell_type": "code",
   "execution_count": 8,
   "metadata": {},
   "outputs": [
    {
     "name": "stdout",
     "output_type": "stream",
     "text": [
      "False\n",
      "[[   0    1    2    3 1234    5]\n",
      " [   6    7    8    9   10   11]]\n",
      "(3, 4)\n",
      "[[   0    1    2    3]\n",
      " [1234    5    6    7]\n",
      " [   8    9   10   11]]\n",
      "1924884009728\n",
      "1924884010608\n"
     ]
    }
   ],
   "source": [
    "# 浅拷贝 .view方法 指向不同的内存，但公用同样的值\n",
    "c = a.view()\n",
    "print(c is a) \n",
    "c.shape = 2,6\n",
    "c[0,4] = 1234\n",
    "print(c)\n",
    "print(a.shape)\n",
    "print(a)\n",
    "print(id(a))\n",
    "print(id(c))"
   ]
  },
  {
   "cell_type": "code",
   "execution_count": 11,
   "metadata": {},
   "outputs": [
    {
     "name": "stdout",
     "output_type": "stream",
     "text": [
      "False\n",
      "[[   0    1    2    3]\n",
      " [1234    5    6    7]\n",
      " [   8    9   10   11]]\n",
      "[[  45    1]\n",
      " [   2    3]\n",
      " [1234    5]\n",
      " [   6    7]\n",
      " [   8    9]\n",
      " [  10   11]]\n",
      "(3, 4)\n",
      "1924884009728\n",
      "1924884011088\n"
     ]
    }
   ],
   "source": [
    "# 深拷贝 .copy()，指向不同的内存，存储不同的值\n",
    "d = a.copy()\n",
    "print(d is a)\n",
    "d.shape = 6,2\n",
    "d[0,0] = 45\n",
    "print(a)\n",
    "print(d)\n",
    "print(a.shape)\n",
    "print(id(a))\n",
    "print(id(d))"
   ]
  },
  {
   "cell_type": "code",
   "execution_count": 17,
   "metadata": {},
   "outputs": [
    {
     "name": "stdout",
     "output_type": "stream",
     "text": [
      "[[ 0.          0.84147098  0.90929743  0.14112001]\n",
      " [-0.7568025  -0.95892427 -0.2794155   0.6569866 ]\n",
      " [ 0.98935825  0.41211849 -0.54402111 -0.99999021]\n",
      " [-0.53657292  0.42016704  0.99060736  0.65028784]\n",
      " [-0.28790332 -0.96139749 -0.75098725  0.14987721]]\n",
      "[2 0 3 1]\n",
      "[0.98935825 0.84147098 0.99060736 0.6569866 ]\n"
     ]
    }
   ],
   "source": [
    "# 找出最大值\n",
    "import numpy as np\n",
    "data = np.sin(np.arange(20)).reshape((5,4))\n",
    "print(data)\n",
    "index_max = data.argmax(axis=0)\n",
    "print(index_max)\n",
    "data_max = data[index_max,range(data.shape[1])]\n",
    "print(data_max)"
   ]
  },
  {
   "cell_type": "code",
   "execution_count": 21,
   "metadata": {},
   "outputs": [
    {
     "name": "stdout",
     "output_type": "stream",
     "text": [
      "[ 0 10 20 30]\n",
      "[[ 0 10 20 30  0 10 20 30  0 10 20 30  0 10 20 30  0 10 20 30]\n",
      " [ 0 10 20 30  0 10 20 30  0 10 20 30  0 10 20 30  0 10 20 30]\n",
      " [ 0 10 20 30  0 10 20 30  0 10 20 30  0 10 20 30  0 10 20 30]]\n"
     ]
    }
   ],
   "source": [
    "# 数组的扩展\n",
    "a = np.arange(0,40,10)\n",
    "print(a)\n",
    "b = np.tile(a,(3,5))\n",
    "print(b)"
   ]
  },
  {
   "cell_type": "code",
   "execution_count": 26,
   "metadata": {},
   "outputs": [
    {
     "name": "stdout",
     "output_type": "stream",
     "text": [
      "[[8 8 3 6]\n",
      " [5 5 2 6]]\n",
      "[[3 6 8 8]\n",
      " [2 5 5 6]]\n",
      "[[4 1 3 3]\n",
      " [6 7 7 2]]\n",
      "[[1 2 3 0]\n",
      " [3 0 1 2]]\n"
     ]
    }
   ],
   "source": [
    "a = np.random.randint(1,9,size = (2,4))\n",
    "print(a)\n",
    "a.sort(axis = 1)\n",
    "print(a)\n",
    "a = np.random.randint(1,9,size = (2,4))\n",
    "print(a)\n",
    "p= np.argsort(a)\n",
    "print(p)"
   ]
  }
 ],
 "metadata": {
  "kernelspec": {
   "display_name": "Python 3",
   "language": "python",
   "name": "python3"
  },
  "language_info": {
   "codemirror_mode": {
    "name": "ipython",
    "version": 3
   },
   "file_extension": ".py",
   "mimetype": "text/x-python",
   "name": "python",
   "nbconvert_exporter": "python",
   "pygments_lexer": "ipython3",
   "version": "3.6.0"
  }
 },
 "nbformat": 4,
 "nbformat_minor": 2
}
