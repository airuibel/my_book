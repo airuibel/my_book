{
 "cells": [
  {
   "cell_type": "code",
   "execution_count": 18,
   "metadata": {},
   "outputs": [
    {
     "name": "stdout",
     "output_type": "stream",
     "text": [
      "The last 2 elements of the sum [995007996, 998001000]\n",
      "PythonSum elapsed time in microseconds 3001\n",
      "The last 2 elements of the sum [995007996 998001000]\n",
      "NumPySum elapsed time in microseconds 1000\n"
     ]
    }
   ],
   "source": [
    "# -*- coding: utf-8 -*-\n",
    "#向量相加-Python\n",
    "import sys\n",
    "from datetime import datetime\n",
    "import numpy as np\n",
    "\n",
    "def pythonsum(n):\n",
    "    a = [i for i in range(n)]\n",
    "    b = [i for i in range(n)]\n",
    "    c = []\n",
    "    for i in range(len(a)):\n",
    "        a[i] = i ** 2\n",
    "        b[i] = i ** 3\n",
    "        c.append(a[i] + b[i])\n",
    "    return c\n",
    "\n",
    "#向量相加-NumPy\n",
    "\n",
    "def numpysum(n):\n",
    "    a = np.arange(n) ** 2\n",
    "    b = np.arange(n) ** 3\n",
    "    c = a + b\n",
    "    return c\n",
    "\n",
    "#效率比较\n",
    "\n",
    "size = 1000\n",
    "\n",
    "start = datetime.now()\n",
    "c = pythonsum(size)\n",
    "delta = datetime.now() - start\n",
    "print (\"The last 2 elements of the sum\", c[-2:])\n",
    "print (\"PythonSum elapsed time in microseconds\", delta.microseconds)\n",
    "\n",
    "start = datetime.now()\n",
    "c = numpysum(size)\n",
    "delta = datetime.now() - start\n",
    "print (\"The last 2 elements of the sum\", c[-2:])\n",
    "print (\"NumPySum elapsed time in microseconds\", delta.microseconds)"
   ]
  },
  {
   "cell_type": "code",
   "execution_count": 13,
   "metadata": {},
   "outputs": [
    {
     "name": "stdout",
     "output_type": "stream",
     "text": [
      "int32\n",
      "(5,)\n"
     ]
    }
   ],
   "source": [
    "#numpy数组\n",
    "import numpy as np\n",
    "a = np.arange(5)\n",
    "print(a.dtype)\n",
    "print(a.shape)"
   ]
  },
  {
   "cell_type": "code",
   "execution_count": 14,
   "metadata": {},
   "outputs": [
    {
     "name": "stdout",
     "output_type": "stream",
     "text": [
      "[[0 1]\n",
      " [0 1]]\n",
      "(2, 2)\n",
      "int32\n"
     ]
    },
    {
     "data": {
      "text/plain": [
       "array([ 0,  1,  2,  3,  4,  5,  6,  7,  8,  9, 10, 11, 12, 13, 14])"
      ]
     },
     "execution_count": 14,
     "metadata": {},
     "output_type": "execute_result"
    }
   ],
   "source": [
    "\n",
    "#创建多维数组\n",
    "m = np.array([np.arange(2), np.arange(2)])\n",
    "\n",
    "print (m)\n",
    "\n",
    "print (m.shape)\n",
    "\n",
    "print (m.dtype)\n",
    "\n",
    "np.zeros(10)\n",
    "np.zeros((3, 6))\n",
    "np.empty((2, 3, 2))\n",
    "np.arange(15)"
   ]
  },
  {
   "cell_type": "code",
   "execution_count": 16,
   "metadata": {},
   "outputs": [
    {
     "name": "stdout",
     "output_type": "stream",
     "text": [
      "In: a\n",
      "[[1 2]\n",
      " [3 4]]\n",
      "In: a[0,0]\n",
      "1\n",
      "In: a[0,1]\n",
      "2\n",
      "In: a[1,0]\n",
      "3\n",
      "In: a[1,1]\n",
      "4\n"
     ]
    }
   ],
   "source": [
    "#选取数组元素\n",
    "a = np.array([[1,2],[3,4]])\n",
    "\n",
    "print (\"In: a\")\n",
    "print (a)\n",
    "\n",
    "print (\"In: a[0,0]\")\n",
    "print (a[0,0])\n",
    "\n",
    "print (\"In: a[0,1]\")\n",
    "print (a[0,1])\n",
    "\n",
    "print (\"In: a[1,0]\")\n",
    "print (a[1,0])\n",
    "\n",
    "print (\"In: a[1,1]\")\n",
    "print (a[1,1])"
   ]
  },
  {
   "cell_type": "code",
   "execution_count": 17,
   "metadata": {},
   "outputs": [
    {
     "name": "stdout",
     "output_type": "stream",
     "text": [
      "In: float64(42)\n",
      "42.0\n",
      "In: int8(42.0)\n",
      "42\n",
      "In: bool(42)\n",
      "True\n",
      "False\n",
      "In: bool(42.0)\n",
      "True\n",
      "In: float(True)\n",
      "1.0\n",
      "0.0\n",
      "In: arange(7, dtype=uint16)\n",
      "[0 1 2 3 4 5 6]\n",
      "In: int(42.0 + 1.j)\n",
      "TypeError\n",
      "In: float(42.0 + 1.j)\n"
     ]
    },
    {
     "ename": "TypeError",
     "evalue": "can't convert complex to float",
     "output_type": "error",
     "traceback": [
      "\u001b[1;31m---------------------------------------------------------------------------\u001b[0m",
      "\u001b[1;31mTypeError\u001b[0m                                 Traceback (most recent call last)",
      "\u001b[1;32m<ipython-input-17-0fd60568dbd9>\u001b[0m in \u001b[0;36m<module>\u001b[1;34m()\u001b[0m\n\u001b[0;32m     30\u001b[0m \u001b[1;33m\u001b[0m\u001b[0m\n\u001b[0;32m     31\u001b[0m \u001b[0mprint\u001b[0m \u001b[1;33m(\u001b[0m\u001b[1;34m\"In: float(42.0 + 1.j)\"\u001b[0m\u001b[1;33m)\u001b[0m\u001b[1;33m\u001b[0m\u001b[0m\n\u001b[1;32m---> 32\u001b[1;33m \u001b[0mprint\u001b[0m \u001b[1;33m(\u001b[0m\u001b[0mfloat\u001b[0m\u001b[1;33m(\u001b[0m\u001b[1;36m42.0\u001b[0m \u001b[1;33m+\u001b[0m \u001b[1;36m1.j\u001b[0m\u001b[1;33m)\u001b[0m\u001b[1;33m)\u001b[0m\u001b[1;33m\u001b[0m\u001b[0m\n\u001b[0m",
      "\u001b[1;31mTypeError\u001b[0m: can't convert complex to float"
     ]
    }
   ],
   "source": [
    "#numpy数据类型\n",
    "print (\"In: float64(42)\")\n",
    "print (np.float64(42))\n",
    "\n",
    "print (\"In: int8(42.0)\")\n",
    "print( np.int8(42.0))\n",
    "\n",
    "print (\"In: bool(42)\")\n",
    "print (np.bool(42))\n",
    "\n",
    "print (np.bool(0))\n",
    "\n",
    "print (\"In: bool(42.0)\")\n",
    "print (np.bool(42.0))\n",
    "\n",
    "print (\"In: float(True)\")\n",
    "print (np.float(True))\n",
    "print (np.float(False))\n",
    "\n",
    "print (\"In: arange(7, dtype=uint16)\")\n",
    "print (np.arange(7, dtype=np.uint16))\n",
    "\n",
    "\n",
    "print (\"In: int(42.0 + 1.j)\")\n",
    "try:\n",
    "   print(np.int(42.0 + 1.j))\n",
    "except TypeError:\n",
    "   print (\"TypeError\")\n",
    "#Type error\n",
    "\n",
    "print (\"In: float(42.0 + 1.j)\")\n",
    "print (float(42.0 + 1.j))"
   ]
  },
  {
   "cell_type": "code",
   "execution_count": 19,
   "metadata": {},
   "outputs": [
    {
     "data": {
      "text/plain": [
       "array([ 1.25, -9.6 , 42.  ])"
      ]
     },
     "execution_count": 19,
     "metadata": {},
     "output_type": "execute_result"
    }
   ],
   "source": [
    "# 数据类型转换\n",
    "arr = np.array([1, 2, 3, 4, 5])\n",
    "arr.dtype\n",
    "float_arr = arr.astype(np.float64)\n",
    "float_arr.dtype\n",
    "\n",
    "arr = np.array([3.7, -1.2, -2.6, 0.5, 12.9, 10.1])\n",
    "arr\n",
    "arr.astype(np.int32)\n",
    "\n",
    "numeric_strings = np.array(['1.25', '-9.6', '42'], dtype=np.string_)\n",
    "numeric_strings.astype(float)"
   ]
  },
  {
   "cell_type": "code",
   "execution_count": null,
   "metadata": {
    "collapsed": true
   },
   "outputs": [],
   "source": [
    "#数据类型对象\n",
    "a = np.array([[1,2],[3,4]])\n",
    "\n",
    "print (a.dtype.byteorder)\n",
    "\n",
    "print a.dtype.itemsize"
   ]
  },
  {
   "cell_type": "code",
   "execution_count": 22,
   "metadata": {
    "scrolled": true
   },
   "outputs": [
    {
     "name": "stdout",
     "output_type": "stream",
     "text": [
      "[0. 1. 2. 3. 4. 5. 6.]\n",
      "[0.+0.j 1.+0.j 2.+0.j 3.+0.j 4.+0.j 5.+0.j 6.+0.j]\n",
      "float64\n",
      "float32\n",
      "float64\n",
      "float64\n",
      "float64\n"
     ]
    },
    {
     "name": "stderr",
     "output_type": "stream",
     "text": [
      "C:\\Users\\Administrator\\Anaconda3\\lib\\site-packages\\ipykernel_launcher.py:11: DeprecationWarning: Numeric-style type codes are deprecated and will result in an error in the future.\n",
      "  # This is added back by InteractiveShellApp.init_path()\n"
     ]
    }
   ],
   "source": [
    "#字符编码\n",
    "import numpy as np\n",
    "print (np.arange(7, dtype='f'))\n",
    "print( np.arange(7, dtype='D'))\n",
    "\n",
    "print (np.dtype(float))\n",
    "\n",
    "print( np.dtype('f'))\n",
    "print (np.dtype('d'))\n",
    "print (np.dtype('f8'))\n",
    "print (np.dtype('Float64'))"
   ]
  },
  {
   "cell_type": "code",
   "execution_count": 25,
   "metadata": {
    "scrolled": true
   },
   "outputs": [
    {
     "name": "stdout",
     "output_type": "stream",
     "text": [
      "d\n",
      "<class 'numpy.float64'>\n",
      "<f8\n"
     ]
    },
    {
     "name": "stderr",
     "output_type": "stream",
     "text": [
      "C:\\Users\\Administrator\\Anaconda3\\lib\\site-packages\\ipykernel_launcher.py:2: DeprecationWarning: Numeric-style type codes are deprecated and will result in an error in the future.\n",
      "  \n"
     ]
    }
   ],
   "source": [
    "#dtype类的属性\n",
    "t = np.dtype('Float64')\n",
    "\n",
    "print(t.char)\n",
    "\n",
    "print(t.type)\n",
    "\n",
    "print(t.str)\n"
   ]
  },
  {
   "cell_type": "code",
   "execution_count": 26,
   "metadata": {},
   "outputs": [
    {
     "name": "stdout",
     "output_type": "stream",
     "text": [
      "[('name', '<U40'), ('numitems', '<i4'), ('price', '<f4')]\n",
      "<U40\n",
      "('Butter', 13, 2.72)\n"
     ]
    }
   ],
   "source": [
    "#创建自定义数据类型\n",
    "t = np.dtype([('name', np.str_, 40), ('numitems', np.int32), ('price', np.float32)])\n",
    "print( t)\n",
    "\n",
    "print( t['name'])\n",
    "\n",
    "itemz = np.array([('Meaning of life DVD', 42, 3.14), ('Butter', 13, 2.72)], dtype=t)\n",
    "\n",
    "print( itemz[1])"
   ]
  },
  {
   "cell_type": "code",
   "execution_count": 27,
   "metadata": {},
   "outputs": [
    {
     "data": {
      "text/plain": [
       "array([[1.        , 1.41421356, 1.73205081],\n",
       "       [2.        , 2.23606798, 2.44948974]])"
      ]
     },
     "execution_count": 27,
     "metadata": {},
     "output_type": "execute_result"
    }
   ],
   "source": [
    "#数组与标量的运算\n",
    "arr = np.array([[1., 2., 3.], [4., 5., 6.]])\n",
    "arr\n",
    "arr * arr\n",
    "arr - arr\n",
    "\n",
    "1 / arr\n",
    "arr ** 0.5"
   ]
  },
  {
   "cell_type": "code",
   "execution_count": 28,
   "metadata": {},
   "outputs": [
    {
     "name": "stdout",
     "output_type": "stream",
     "text": [
      "[3 4 5 6]\n",
      "[0 2 4 6]\n",
      "[8 7 6 5 4 3 2 1 0]\n",
      "[3 5]\n",
      "[8 7 6 5 4 3 2 1 0]\n"
     ]
    }
   ],
   "source": [
    "#一维数组的索引与切片\n",
    "a = np.arange(9)\n",
    "\n",
    "print( a[3:7])\n",
    "\n",
    "print( a[:7:2])\n",
    "\n",
    "print( a[::-1])\n",
    "\n",
    "s = slice(3,7,2)\n",
    "print( a[s])\n",
    "\n",
    "s = slice(None, None, -1)\n",
    "\n",
    "print( a[s])\n"
   ]
  },
  {
   "cell_type": "code",
   "execution_count": 29,
   "metadata": {
    "scrolled": false
   },
   "outputs": [
    {
     "name": "stdout",
     "output_type": "stream",
     "text": [
      "(2, 3, 4)\n",
      "[[[ 0  1  2  3]\n",
      "  [ 4  5  6  7]\n",
      "  [ 8  9 10 11]]\n",
      "\n",
      " [[12 13 14 15]\n",
      "  [16 17 18 19]\n",
      "  [20 21 22 23]]]\n",
      "0\n",
      "[ 0 12]\n",
      "[[ 0  1  2  3]\n",
      " [ 4  5  6  7]\n",
      " [ 8  9 10 11]]\n",
      "[[ 0  1  2  3]\n",
      " [ 4  5  6  7]\n",
      " [ 8  9 10 11]]\n",
      "[[ 0  1  2  3]\n",
      " [ 4  5  6  7]\n",
      " [ 8  9 10 11]]\n",
      "[4 5 6 7]\n",
      "[4 6]\n",
      "[[ 1  5  9]\n",
      " [13 17 21]]\n",
      "[[ 4  5  6  7]\n",
      " [16 17 18 19]]\n",
      "[1 5 9]\n",
      "[ 3  7 11]\n",
      "[11  7  3]\n",
      "[ 3 11]\n",
      "[[[12 13 14 15]\n",
      "  [16 17 18 19]\n",
      "  [20 21 22 23]]\n",
      "\n",
      " [[ 0  1  2  3]\n",
      "  [ 4  5  6  7]\n",
      "  [ 8  9 10 11]]]\n",
      "[[[23 22 21 20]\n",
      "  [19 18 17 16]\n",
      "  [15 14 13 12]]\n",
      "\n",
      " [[11 10  9  8]\n",
      "  [ 7  6  5  4]\n",
      "  [ 3  2  1  0]]]\n"
     ]
    }
   ],
   "source": [
    "#多维数组的切片与索引\n",
    "b = np.arange(24).reshape(2,3,4)\n",
    "\n",
    "print (b.shape)\n",
    "\n",
    "print (b)\n",
    "\n",
    "print( b[0,0,0])\n",
    "\n",
    "print( b[:,0,0])\n",
    "print (b[0])\n",
    "\n",
    "print( b[0, :, :])\n",
    "\n",
    "print( b[0, ...])\n",
    "\n",
    "print (b[0,1])\n",
    "\n",
    "print (b[0,1,::2])\n",
    "\n",
    "print (b[...,1])\n",
    "\n",
    "print (b[:,1])\n",
    "\n",
    "print (b[0,:,1])\n",
    "\n",
    "print (b[0,:,-1])\n",
    " \n",
    "print (b[0,::-1, -1])\n",
    "\n",
    "\n",
    "print (b[0,::2,-1])\n",
    "\n",
    "print (b[::-1])\n",
    "\n",
    "s = slice(None, None, -1)\n",
    "print (b[(s, s, s)])"
   ]
  },
  {
   "cell_type": "code",
   "execution_count": 33,
   "metadata": {},
   "outputs": [
    {
     "data": {
      "text/plain": [
       "array([[ 4,  7,  5,  6],\n",
       "       [20, 23, 21, 22],\n",
       "       [28, 31, 29, 30],\n",
       "       [ 8, 11,  9, 10]])"
      ]
     },
     "execution_count": 33,
     "metadata": {},
     "output_type": "execute_result"
    }
   ],
   "source": [
    "#花式索引\n",
    "arr = np.empty((8, 4))\n",
    "for i in range(8):\n",
    "    arr[i] = i\n",
    "arr\n",
    "\n",
    "\n",
    "arr[[1, 5, 7, 2], [0, 3, 1, 2]]\n",
    "\n",
    "arr[[1, 5, 7, 2]][:, [0, 3, 1, 2]]\n",
    "\n",
    "arr[np.ix_([1, 5, 7, 2], [0, 3, 1, 2])]\n"
   ]
  },
  {
   "cell_type": "code",
   "execution_count": 41,
   "metadata": {},
   "outputs": [
    {
     "data": {
      "text/plain": [
       "array([[ 0,  1,  2,  3],\n",
       "       [ 4,  5,  6,  7],\n",
       "       [ 8,  9, 10, 11],\n",
       "       [12, 13, 14, 15],\n",
       "       [16, 17, 18, 19],\n",
       "       [20, 21, 22, 23],\n",
       "       [24, 25, 26, 27],\n",
       "       [28, 29, 30, 31]])"
      ]
     },
     "execution_count": 41,
     "metadata": {},
     "output_type": "execute_result"
    }
   ],
   "source": [
    "arr = np.empty((8, 4))\n",
    "for i in range(8):\n",
    "    arr[i] = i\n",
    "arr[[4, 3, 0, 6]]\n",
    "\n",
    "arr[[-3, -5, -7]]\n",
    "\n",
    "arr = np.arange(32).reshape((8, 4))\n",
    "arr"
   ]
  },
  {
   "cell_type": "code",
   "execution_count": 42,
   "metadata": {},
   "outputs": [
    {
     "name": "stdout",
     "output_type": "stream",
     "text": [
      "[[ 0  1  2  3  4]\n",
      " [ 5  6  7  8  9]\n",
      " [10 11 12 13 14]]\n",
      "[[ 0  5 10]\n",
      " [ 1  6 11]\n",
      " [ 2  7 12]\n",
      " [ 3  8 13]\n",
      " [ 4  9 14]]\n"
     ]
    }
   ],
   "source": [
    "#数组转置\n",
    "arr = np.arange(15).reshape((3, 5))\n",
    "print(arr)\n",
    "print(arr.T)"
   ]
  },
  {
   "cell_type": "code",
   "execution_count": 36,
   "metadata": {},
   "outputs": [
    {
     "name": "stdout",
     "output_type": "stream",
     "text": [
      "[[[ 0  1  2  3]\n",
      "  [ 4  5  6  7]\n",
      "  [ 8  9 10 11]]\n",
      "\n",
      " [[12 13 14 15]\n",
      "  [16 17 18 19]\n",
      "  [20 21 22 23]]]\n",
      "[ 0  1  2  3  4  5  6  7  8  9 10 11 12 13 14 15 16 17 18 19 20 21 22 23]\n",
      "[ 0  1  2  3  4  5  6  7  8  9 10 11 12 13 14 15 16 17 18 19 20 21 22 23]\n",
      "[[ 0  1  2  3]\n",
      " [ 4  5  6  7]\n",
      " [ 8  9 10 11]\n",
      " [12 13 14 15]\n",
      " [16 17 18 19]\n",
      " [20 21 22 23]]\n",
      "[[ 0  4  8 12 16 20]\n",
      " [ 1  5  9 13 17 21]\n",
      " [ 2  6 10 14 18 22]\n",
      " [ 3  7 11 15 19 23]]\n",
      "[[ 0  1  2  3  4  5  6  7  8  9 10 11]\n",
      " [12 13 14 15 16 17 18 19 20 21 22 23]]\n"
     ]
    }
   ],
   "source": [
    "#改变数组的维度\n",
    "b = np.arange(24).reshape(2,3,4)\n",
    "\n",
    "print( b)\n",
    "\n",
    "print( b.ravel())\n",
    "\n",
    "print( b.flatten())\n",
    "\n",
    "b.shape = (6,4)\n",
    "\n",
    "print( b)\n",
    "\n",
    "print (b.transpose())\n",
    "\n",
    "b.resize((2,12))\n",
    "\n",
    "print( b)"
   ]
  },
  {
   "cell_type": "code",
   "execution_count": 37,
   "metadata": {},
   "outputs": [
    {
     "name": "stdout",
     "output_type": "stream",
     "text": [
      "[[0 1 2]\n",
      " [3 4 5]\n",
      " [6 7 8]]\n",
      "[[ 0  2  4]\n",
      " [ 6  8 10]\n",
      " [12 14 16]]\n",
      "[[ 0  1  2  0  2  4]\n",
      " [ 3  4  5  6  8 10]\n",
      " [ 6  7  8 12 14 16]]\n",
      "[[ 0  1  2  0  2  4]\n",
      " [ 3  4  5  6  8 10]\n",
      " [ 6  7  8 12 14 16]]\n",
      "[[ 0  1  2]\n",
      " [ 3  4  5]\n",
      " [ 6  7  8]\n",
      " [ 0  2  4]\n",
      " [ 6  8 10]\n",
      " [12 14 16]]\n",
      "[[ 0  1  2]\n",
      " [ 3  4  5]\n",
      " [ 6  7  8]\n",
      " [ 0  2  4]\n",
      " [ 6  8 10]\n",
      " [12 14 16]]\n",
      "[[[ 0  0]\n",
      "  [ 1  2]\n",
      "  [ 2  4]]\n",
      "\n",
      " [[ 3  6]\n",
      "  [ 4  8]\n",
      "  [ 5 10]]\n",
      "\n",
      " [[ 6 12]\n",
      "  [ 7 14]\n",
      "  [ 8 16]]]\n",
      "[0 1]\n",
      "[0 2]\n",
      "[[0 0]\n",
      " [1 2]]\n",
      "[[ 0  1  2  0  2  4]\n",
      " [ 3  4  5  6  8 10]\n",
      " [ 6  7  8 12 14 16]]\n",
      "[[ True  True  True  True  True  True]\n",
      " [ True  True  True  True  True  True]\n",
      " [ True  True  True  True  True  True]]\n",
      "[[0 1]\n",
      " [0 2]]\n",
      "[[ 0  1  2]\n",
      " [ 3  4  5]\n",
      " [ 6  7  8]\n",
      " [ 0  2  4]\n",
      " [ 6  8 10]\n",
      " [12 14 16]]\n",
      "[[ True  True  True]\n",
      " [ True  True  True]\n",
      " [ True  True  True]\n",
      " [ True  True  True]\n",
      " [ True  True  True]\n",
      " [ True  True  True]]\n"
     ]
    }
   ],
   "source": [
    "#组合数组\n",
    "a = np.arange(9).reshape(3,3)\n",
    "\n",
    "print (a)\n",
    "\n",
    "b = 2 * a\n",
    "\n",
    "print (b)\n",
    "\n",
    "print (np.hstack((a, b)))\n",
    "\n",
    "# 水平组合\n",
    "print (np.concatenate((a, b), axis=1))\n",
    "\n",
    "print (np.vstack((a, b)))\n",
    "\n",
    "# 垂直组合\n",
    "print (np.concatenate((a, b), axis=0))\n",
    "\n",
    "print (np.dstack((a, b)))\n",
    "\n",
    "oned = np.arange(2)\n",
    "\n",
    "print (oned)\n",
    "\n",
    "twice_oned = 2 * oned\n",
    "\n",
    "print (twice_oned)\n",
    "\n",
    "# 列组合\n",
    "print (np.column_stack((oned, twice_oned))) \n",
    "\n",
    "print (np.column_stack((a, b)))\n",
    "\n",
    "print (np.column_stack((a, b)) == np.hstack((a, b)))\n",
    "\n",
    "print (np.row_stack((oned, twice_oned)))\n",
    "\n",
    "# 行组合\n",
    "print (np.row_stack((a, b)))\n",
    "\n",
    "print (np.row_stack((a,b)) == np.vstack((a, b)))\n"
   ]
  },
  {
   "cell_type": "code",
   "execution_count": 43,
   "metadata": {},
   "outputs": [
    {
     "name": "stdout",
     "output_type": "stream",
     "text": [
      "[[0 1 2]\n",
      " [3 4 5]\n",
      " [6 7 8]]\n",
      "[array([[0],\n",
      "       [3],\n",
      "       [6]]), array([[1],\n",
      "       [4],\n",
      "       [7]]), array([[2],\n",
      "       [5],\n",
      "       [8]])]\n",
      "[array([[0],\n",
      "       [3],\n",
      "       [6]]), array([[1],\n",
      "       [4],\n",
      "       [7]]), array([[2],\n",
      "       [5],\n",
      "       [8]])]\n",
      "[array([[0, 1, 2]]), array([[3, 4, 5]]), array([[6, 7, 8]])]\n",
      "[array([[0, 1, 2]]), array([[3, 4, 5]]), array([[6, 7, 8]])]\n",
      "[[[ 0  1  2]\n",
      "  [ 3  4  5]\n",
      "  [ 6  7  8]]\n",
      "\n",
      " [[ 9 10 11]\n",
      "  [12 13 14]\n",
      "  [15 16 17]]\n",
      "\n",
      " [[18 19 20]\n",
      "  [21 22 23]\n",
      "  [24 25 26]]]\n",
      "[array([[[ 0],\n",
      "        [ 3],\n",
      "        [ 6]],\n",
      "\n",
      "       [[ 9],\n",
      "        [12],\n",
      "        [15]],\n",
      "\n",
      "       [[18],\n",
      "        [21],\n",
      "        [24]]]), array([[[ 1],\n",
      "        [ 4],\n",
      "        [ 7]],\n",
      "\n",
      "       [[10],\n",
      "        [13],\n",
      "        [16]],\n",
      "\n",
      "       [[19],\n",
      "        [22],\n",
      "        [25]]]), array([[[ 2],\n",
      "        [ 5],\n",
      "        [ 8]],\n",
      "\n",
      "       [[11],\n",
      "        [14],\n",
      "        [17]],\n",
      "\n",
      "       [[20],\n",
      "        [23],\n",
      "        [26]]])]\n"
     ]
    }
   ],
   "source": [
    "\n",
    "#数组的分割\n",
    "a = np.arange(9).reshape(3, 3)\n",
    "\n",
    "print( a)\n",
    "\n",
    "print (np.hsplit(a, 3))\n",
    "\n",
    "print (np.split(a, 3, axis=1))\n",
    "\n",
    "print (np.vsplit(a, 3))\n",
    "\n",
    "print (np.split(a, 3, axis=0))\n",
    "\n",
    "# 深度分割\n",
    "c = (np.arange(27).reshape(3, 3, 3))\n",
    "\n",
    "print (c)\n",
    "\n",
    "print (np.dsplit(c, 3))\n"
   ]
  },
  {
   "cell_type": "code",
   "execution_count": 45,
   "metadata": {},
   "outputs": [
    {
     "data": {
      "text/plain": [
       "'1.14.2'"
      ]
     },
     "execution_count": 45,
     "metadata": {},
     "output_type": "execute_result"
    }
   ],
   "source": [
    "import numpy as np\n",
    "np.__version__"
   ]
  }
 ],
 "metadata": {
  "kernelspec": {
   "display_name": "Python 3",
   "language": "python",
   "name": "python3"
  },
  "language_info": {
   "codemirror_mode": {
    "name": "ipython",
    "version": 3
   },
   "file_extension": ".py",
   "mimetype": "text/x-python",
   "name": "python",
   "nbconvert_exporter": "python",
   "pygments_lexer": "ipython3",
   "version": "3.6.3"
  }
 },
 "nbformat": 4,
 "nbformat_minor": 2
}
