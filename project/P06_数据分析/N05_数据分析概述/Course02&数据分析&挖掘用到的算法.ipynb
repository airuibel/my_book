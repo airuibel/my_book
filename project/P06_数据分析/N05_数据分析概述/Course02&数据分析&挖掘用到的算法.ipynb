{
 "cells": [
  {
   "cell_type": "markdown",
   "metadata": {},
   "source": [
    "- 熟悉机器学习算法（KNN，GBDT,RF等）\n",
    "- 制作可视化数据分析报告\n",
    "- 机器学习算法，如LR、GBDT、Xgboost等\n",
    "- 熟悉常用的机器学习和数据挖掘原理与算法，如分类、聚类、回归、协同过滤、内容过滤等；对常用算法如LR、GBDT、SVM、LDA、CRF、HMM等任意一种的模型原理以及工程实践上有较多经验；熟悉深度学习算法如CNN、DNN、RNN等模型原理，具有一定的实践经验，熟练使用Tensorflow,Spark MLib, Caffe，Sklearn等一种以上机器学习工具框架;\n",
    "\n",
    "- 2年以上数据挖掘建模经验，具有扎实的数据挖掘、机器学习、统计学等领域的理论知识，熟悉决策树、聚类、LR、关联分析、SVM、RF、GBDT、XGBOOST等常用机器学习算法，并能熟练应用其中一种或几种模型进行建模和挖掘\n",
    "\n",
    "- 4、熟悉机器学习算法（KNN，GBDT,RF等）\n",
    "- 5、熟悉MySQL/MongoDB/Redis/Hbase/PQ其中至少一种；\n",
    "\n",
    "- 逻辑回归\n",
    "- 随机森林 GBDT XGBoost Lightbgm\n",
    "- 熟练应用hadoop等分布式大数据处理系统者优先"
   ]
  }
 ],
 "metadata": {
  "kernelspec": {
   "display_name": "Python 3",
   "language": "python",
   "name": "python3"
  },
  "language_info": {
   "codemirror_mode": {
    "name": "ipython",
    "version": 3
   },
   "file_extension": ".py",
   "mimetype": "text/x-python",
   "name": "python",
   "nbconvert_exporter": "python",
   "pygments_lexer": "ipython3",
   "version": "3.6.0"
  }
 },
 "nbformat": 4,
 "nbformat_minor": 2
}
